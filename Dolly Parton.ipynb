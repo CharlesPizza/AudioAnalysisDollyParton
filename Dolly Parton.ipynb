{
 "cells": [
  {
   "cell_type": "code",
   "execution_count": 1,
   "id": "650b2ec6-a98e-4020-8a73-4c8965019b59",
   "metadata": {},
   "outputs": [
    {
     "data": {
      "application/javascript": [
       "(function(root) {\n",
       "  function now() {\n",
       "    return new Date();\n",
       "  }\n",
       "\n",
       "  var force = true;\n",
       "\n",
       "  if (typeof root._bokeh_onload_callbacks === \"undefined\" || force === true) {\n",
       "    root._bokeh_onload_callbacks = [];\n",
       "    root._bokeh_is_loading = undefined;\n",
       "  }\n",
       "\n",
       "  if (typeof (root._bokeh_timeout) === \"undefined\" || force === true) {\n",
       "    root._bokeh_timeout = Date.now() + 5000;\n",
       "    root._bokeh_failed_load = false;\n",
       "  }\n",
       "\n",
       "  function run_callbacks() {\n",
       "    try {\n",
       "      root._bokeh_onload_callbacks.forEach(function(callback) {\n",
       "        if (callback != null)\n",
       "          callback();\n",
       "      });\n",
       "    } finally {\n",
       "      delete root._bokeh_onload_callbacks\n",
       "    }\n",
       "    console.debug(\"Bokeh: all callbacks have finished\");\n",
       "  }\n",
       "\n",
       "  function load_libs(css_urls, js_urls, js_modules, callback) {\n",
       "    if (css_urls == null) css_urls = [];\n",
       "    if (js_urls == null) js_urls = [];\n",
       "    if (js_modules == null) js_modules = [];\n",
       "\n",
       "    root._bokeh_onload_callbacks.push(callback);\n",
       "    if (root._bokeh_is_loading > 0) {\n",
       "      console.debug(\"Bokeh: BokehJS is being loaded, scheduling callback at\", now());\n",
       "      return null;\n",
       "    }\n",
       "    if (js_urls.length === 0 && js_modules.length === 0) {\n",
       "      run_callbacks();\n",
       "      return null;\n",
       "    }\n",
       "    console.debug(\"Bokeh: BokehJS not loaded, scheduling load and callback at\", now());\n",
       "\n",
       "    function on_load() {\n",
       "      root._bokeh_is_loading--;\n",
       "      if (root._bokeh_is_loading === 0) {\n",
       "        console.debug(\"Bokeh: all BokehJS libraries/stylesheets loaded\");\n",
       "        run_callbacks()\n",
       "      }\n",
       "    }\n",
       "\n",
       "    function on_error() {\n",
       "      console.error(\"failed to load \" + url);\n",
       "    }\n",
       "\n",
       "    for (var i = 0; i < css_urls.length; i++) {\n",
       "      var url = css_urls[i];\n",
       "      const element = document.createElement(\"link\");\n",
       "      element.onload = on_load;\n",
       "      element.onerror = on_error;\n",
       "      element.rel = \"stylesheet\";\n",
       "      element.type = \"text/css\";\n",
       "      element.href = url;\n",
       "      console.debug(\"Bokeh: injecting link tag for BokehJS stylesheet: \", url);\n",
       "      document.body.appendChild(element);\n",
       "    }\n",
       "\n",
       "    var skip = [];\n",
       "    if (window.requirejs) {\n",
       "      window.requirejs.config({'packages': {}, 'paths': {'gridstack': 'https://cdn.jsdelivr.net/npm/gridstack@4.2.5/dist/gridstack-h5', 'notyf': 'https://cdn.jsdelivr.net/npm/notyf@3/notyf.min'}, 'shim': {'gridstack': {'exports': 'GridStack'}}});\n",
       "      require([\"gridstack\"], function(GridStack) {\n",
       "\twindow.GridStack = GridStack\n",
       "\ton_load()\n",
       "      })\n",
       "      require([\"notyf\"], function() {\n",
       "\ton_load()\n",
       "      })\n",
       "      root._bokeh_is_loading = css_urls.length + 2;\n",
       "    } else {\n",
       "      root._bokeh_is_loading = css_urls.length + js_urls.length + js_modules.length;\n",
       "    }    if (((window['GridStack'] !== undefined) && (!(window['GridStack'] instanceof HTMLElement))) || window.requirejs) {\n",
       "      var urls = ['https://cdn.holoviz.org/panel/0.14.1/dist/bundled/gridstack/gridstack@4.2.5/dist/gridstack-h5.js'];\n",
       "      for (var i = 0; i < urls.length; i++) {\n",
       "        skip.push(urls[i])\n",
       "      }\n",
       "    }    if (((window['Notyf'] !== undefined) && (!(window['Notyf'] instanceof HTMLElement))) || window.requirejs) {\n",
       "      var urls = ['https://cdn.holoviz.org/panel/0.14.1/dist/bundled/notificationarea/notyf@3/notyf.min.js'];\n",
       "      for (var i = 0; i < urls.length; i++) {\n",
       "        skip.push(urls[i])\n",
       "      }\n",
       "    }    for (var i = 0; i < js_urls.length; i++) {\n",
       "      var url = js_urls[i];\n",
       "      if (skip.indexOf(url) >= 0) {\n",
       "\tif (!window.requirejs) {\n",
       "\t  on_load();\n",
       "\t}\n",
       "\tcontinue;\n",
       "      }\n",
       "      var element = document.createElement('script');\n",
       "      element.onload = on_load;\n",
       "      element.onerror = on_error;\n",
       "      element.async = false;\n",
       "      element.src = url;\n",
       "      console.debug(\"Bokeh: injecting script tag for BokehJS library: \", url);\n",
       "      document.head.appendChild(element);\n",
       "    }\n",
       "    for (var i = 0; i < js_modules.length; i++) {\n",
       "      var url = js_modules[i];\n",
       "      if (skip.indexOf(url) >= 0) {\n",
       "\tif (!window.requirejs) {\n",
       "\t  on_load();\n",
       "\t}\n",
       "\tcontinue;\n",
       "      }\n",
       "      var element = document.createElement('script');\n",
       "      element.onload = on_load;\n",
       "      element.onerror = on_error;\n",
       "      element.async = false;\n",
       "      element.src = url;\n",
       "      element.type = \"module\";\n",
       "      console.debug(\"Bokeh: injecting script tag for BokehJS library: \", url);\n",
       "      document.head.appendChild(element);\n",
       "    }\n",
       "    if (!js_urls.length && !js_modules.length) {\n",
       "      on_load()\n",
       "    }\n",
       "  };\n",
       "\n",
       "  function inject_raw_css(css) {\n",
       "    const element = document.createElement(\"style\");\n",
       "    element.appendChild(document.createTextNode(css));\n",
       "    document.body.appendChild(element);\n",
       "  }\n",
       "\n",
       "  var js_urls = [\"https://cdn.bokeh.org/bokeh/release/bokeh-2.4.3.min.js\", \"https://cdn.bokeh.org/bokeh/release/bokeh-gl-2.4.3.min.js\", \"https://cdn.bokeh.org/bokeh/release/bokeh-widgets-2.4.3.min.js\", \"https://cdn.bokeh.org/bokeh/release/bokeh-tables-2.4.3.min.js\", \"https://cdn.bokeh.org/bokeh/release/bokeh-mathjax-2.4.3.min.js\", \"https://unpkg.com/@holoviz/panel@0.14.1/dist/panel.min.js\"];\n",
       "  var js_modules = [];\n",
       "  var css_urls = [\"https://cdn.holoviz.org/panel/0.14.1/dist/css/alerts.css\", \"https://cdn.holoviz.org/panel/0.14.1/dist/css/card.css\", \"https://cdn.holoviz.org/panel/0.14.1/dist/css/dataframe.css\", \"https://cdn.holoviz.org/panel/0.14.1/dist/css/debugger.css\", \"https://cdn.holoviz.org/panel/0.14.1/dist/css/json.css\", \"https://cdn.holoviz.org/panel/0.14.1/dist/css/loading.css\", \"https://cdn.holoviz.org/panel/0.14.1/dist/css/markdown.css\", \"https://cdn.holoviz.org/panel/0.14.1/dist/css/widgets.css\"];\n",
       "  var inline_js = [    function(Bokeh) {\n",
       "      inject_raw_css(\"\\n    .bk.pn-loading.arc:before {\\n      background-image: url(\\\"data:image/svg+xml;base64,PHN2ZyB4bWxucz0iaHR0cDovL3d3dy53My5vcmcvMjAwMC9zdmciIHN0eWxlPSJtYXJnaW46IGF1dG87IGJhY2tncm91bmQ6IG5vbmU7IGRpc3BsYXk6IGJsb2NrOyBzaGFwZS1yZW5kZXJpbmc6IGF1dG87IiB2aWV3Qm94PSIwIDAgMTAwIDEwMCIgcHJlc2VydmVBc3BlY3RSYXRpbz0ieE1pZFlNaWQiPiAgPGNpcmNsZSBjeD0iNTAiIGN5PSI1MCIgZmlsbD0ibm9uZSIgc3Ryb2tlPSIjYzNjM2MzIiBzdHJva2Utd2lkdGg9IjEwIiByPSIzNSIgc3Ryb2tlLWRhc2hhcnJheT0iMTY0LjkzMzYxNDMxMzQ2NDE1IDU2Ljk3Nzg3MTQzNzgyMTM4Ij4gICAgPGFuaW1hdGVUcmFuc2Zvcm0gYXR0cmlidXRlTmFtZT0idHJhbnNmb3JtIiB0eXBlPSJyb3RhdGUiIHJlcGVhdENvdW50PSJpbmRlZmluaXRlIiBkdXI9IjFzIiB2YWx1ZXM9IjAgNTAgNTA7MzYwIDUwIDUwIiBrZXlUaW1lcz0iMDsxIj48L2FuaW1hdGVUcmFuc2Zvcm0+ICA8L2NpcmNsZT48L3N2Zz4=\\\");\\n      background-size: auto calc(min(50%, 400px));\\n    }\\n    \");\n",
       "    },    function(Bokeh) {\n",
       "      Bokeh.set_log_level(\"info\");\n",
       "    },\n",
       "function(Bokeh) {} // ensure no trailing comma for IE\n",
       "  ];\n",
       "\n",
       "  function run_inline_js() {\n",
       "    if ((root.Bokeh !== undefined) || (force === true)) {\n",
       "      for (var i = 0; i < inline_js.length; i++) {\n",
       "        inline_js[i].call(root, root.Bokeh);\n",
       "      }} else if (Date.now() < root._bokeh_timeout) {\n",
       "      setTimeout(run_inline_js, 100);\n",
       "    } else if (!root._bokeh_failed_load) {\n",
       "      console.log(\"Bokeh: BokehJS failed to load within specified timeout.\");\n",
       "      root._bokeh_failed_load = true;\n",
       "    }\n",
       "  }\n",
       "\n",
       "  if (root._bokeh_is_loading === 0) {\n",
       "    console.debug(\"Bokeh: BokehJS loaded, going straight to plotting\");\n",
       "    run_inline_js();\n",
       "  } else {\n",
       "    load_libs(css_urls, js_urls, js_modules, function() {\n",
       "      console.debug(\"Bokeh: BokehJS plotting callback run at\", now());\n",
       "      run_inline_js();\n",
       "    });\n",
       "  }\n",
       "}(window));"
      ],
      "application/vnd.holoviews_load.v0+json": "(function(root) {\n  function now() {\n    return new Date();\n  }\n\n  var force = true;\n\n  if (typeof root._bokeh_onload_callbacks === \"undefined\" || force === true) {\n    root._bokeh_onload_callbacks = [];\n    root._bokeh_is_loading = undefined;\n  }\n\n  if (typeof (root._bokeh_timeout) === \"undefined\" || force === true) {\n    root._bokeh_timeout = Date.now() + 5000;\n    root._bokeh_failed_load = false;\n  }\n\n  function run_callbacks() {\n    try {\n      root._bokeh_onload_callbacks.forEach(function(callback) {\n        if (callback != null)\n          callback();\n      });\n    } finally {\n      delete root._bokeh_onload_callbacks\n    }\n    console.debug(\"Bokeh: all callbacks have finished\");\n  }\n\n  function load_libs(css_urls, js_urls, js_modules, callback) {\n    if (css_urls == null) css_urls = [];\n    if (js_urls == null) js_urls = [];\n    if (js_modules == null) js_modules = [];\n\n    root._bokeh_onload_callbacks.push(callback);\n    if (root._bokeh_is_loading > 0) {\n      console.debug(\"Bokeh: BokehJS is being loaded, scheduling callback at\", now());\n      return null;\n    }\n    if (js_urls.length === 0 && js_modules.length === 0) {\n      run_callbacks();\n      return null;\n    }\n    console.debug(\"Bokeh: BokehJS not loaded, scheduling load and callback at\", now());\n\n    function on_load() {\n      root._bokeh_is_loading--;\n      if (root._bokeh_is_loading === 0) {\n        console.debug(\"Bokeh: all BokehJS libraries/stylesheets loaded\");\n        run_callbacks()\n      }\n    }\n\n    function on_error() {\n      console.error(\"failed to load \" + url);\n    }\n\n    for (var i = 0; i < css_urls.length; i++) {\n      var url = css_urls[i];\n      const element = document.createElement(\"link\");\n      element.onload = on_load;\n      element.onerror = on_error;\n      element.rel = \"stylesheet\";\n      element.type = \"text/css\";\n      element.href = url;\n      console.debug(\"Bokeh: injecting link tag for BokehJS stylesheet: \", url);\n      document.body.appendChild(element);\n    }\n\n    var skip = [];\n    if (window.requirejs) {\n      window.requirejs.config({'packages': {}, 'paths': {'gridstack': 'https://cdn.jsdelivr.net/npm/gridstack@4.2.5/dist/gridstack-h5', 'notyf': 'https://cdn.jsdelivr.net/npm/notyf@3/notyf.min'}, 'shim': {'gridstack': {'exports': 'GridStack'}}});\n      require([\"gridstack\"], function(GridStack) {\n\twindow.GridStack = GridStack\n\ton_load()\n      })\n      require([\"notyf\"], function() {\n\ton_load()\n      })\n      root._bokeh_is_loading = css_urls.length + 2;\n    } else {\n      root._bokeh_is_loading = css_urls.length + js_urls.length + js_modules.length;\n    }    if (((window['GridStack'] !== undefined) && (!(window['GridStack'] instanceof HTMLElement))) || window.requirejs) {\n      var urls = ['https://cdn.holoviz.org/panel/0.14.1/dist/bundled/gridstack/gridstack@4.2.5/dist/gridstack-h5.js'];\n      for (var i = 0; i < urls.length; i++) {\n        skip.push(urls[i])\n      }\n    }    if (((window['Notyf'] !== undefined) && (!(window['Notyf'] instanceof HTMLElement))) || window.requirejs) {\n      var urls = ['https://cdn.holoviz.org/panel/0.14.1/dist/bundled/notificationarea/notyf@3/notyf.min.js'];\n      for (var i = 0; i < urls.length; i++) {\n        skip.push(urls[i])\n      }\n    }    for (var i = 0; i < js_urls.length; i++) {\n      var url = js_urls[i];\n      if (skip.indexOf(url) >= 0) {\n\tif (!window.requirejs) {\n\t  on_load();\n\t}\n\tcontinue;\n      }\n      var element = document.createElement('script');\n      element.onload = on_load;\n      element.onerror = on_error;\n      element.async = false;\n      element.src = url;\n      console.debug(\"Bokeh: injecting script tag for BokehJS library: \", url);\n      document.head.appendChild(element);\n    }\n    for (var i = 0; i < js_modules.length; i++) {\n      var url = js_modules[i];\n      if (skip.indexOf(url) >= 0) {\n\tif (!window.requirejs) {\n\t  on_load();\n\t}\n\tcontinue;\n      }\n      var element = document.createElement('script');\n      element.onload = on_load;\n      element.onerror = on_error;\n      element.async = false;\n      element.src = url;\n      element.type = \"module\";\n      console.debug(\"Bokeh: injecting script tag for BokehJS library: \", url);\n      document.head.appendChild(element);\n    }\n    if (!js_urls.length && !js_modules.length) {\n      on_load()\n    }\n  };\n\n  function inject_raw_css(css) {\n    const element = document.createElement(\"style\");\n    element.appendChild(document.createTextNode(css));\n    document.body.appendChild(element);\n  }\n\n  var js_urls = [\"https://cdn.bokeh.org/bokeh/release/bokeh-2.4.3.min.js\", \"https://cdn.bokeh.org/bokeh/release/bokeh-gl-2.4.3.min.js\", \"https://cdn.bokeh.org/bokeh/release/bokeh-widgets-2.4.3.min.js\", \"https://cdn.bokeh.org/bokeh/release/bokeh-tables-2.4.3.min.js\", \"https://cdn.bokeh.org/bokeh/release/bokeh-mathjax-2.4.3.min.js\", \"https://unpkg.com/@holoviz/panel@0.14.1/dist/panel.min.js\"];\n  var js_modules = [];\n  var css_urls = [\"https://cdn.holoviz.org/panel/0.14.1/dist/css/alerts.css\", \"https://cdn.holoviz.org/panel/0.14.1/dist/css/card.css\", \"https://cdn.holoviz.org/panel/0.14.1/dist/css/dataframe.css\", \"https://cdn.holoviz.org/panel/0.14.1/dist/css/debugger.css\", \"https://cdn.holoviz.org/panel/0.14.1/dist/css/json.css\", \"https://cdn.holoviz.org/panel/0.14.1/dist/css/loading.css\", \"https://cdn.holoviz.org/panel/0.14.1/dist/css/markdown.css\", \"https://cdn.holoviz.org/panel/0.14.1/dist/css/widgets.css\"];\n  var inline_js = [    function(Bokeh) {\n      inject_raw_css(\"\\n    .bk.pn-loading.arc:before {\\n      background-image: url(\\\"data:image/svg+xml;base64,PHN2ZyB4bWxucz0iaHR0cDovL3d3dy53My5vcmcvMjAwMC9zdmciIHN0eWxlPSJtYXJnaW46IGF1dG87IGJhY2tncm91bmQ6IG5vbmU7IGRpc3BsYXk6IGJsb2NrOyBzaGFwZS1yZW5kZXJpbmc6IGF1dG87IiB2aWV3Qm94PSIwIDAgMTAwIDEwMCIgcHJlc2VydmVBc3BlY3RSYXRpbz0ieE1pZFlNaWQiPiAgPGNpcmNsZSBjeD0iNTAiIGN5PSI1MCIgZmlsbD0ibm9uZSIgc3Ryb2tlPSIjYzNjM2MzIiBzdHJva2Utd2lkdGg9IjEwIiByPSIzNSIgc3Ryb2tlLWRhc2hhcnJheT0iMTY0LjkzMzYxNDMxMzQ2NDE1IDU2Ljk3Nzg3MTQzNzgyMTM4Ij4gICAgPGFuaW1hdGVUcmFuc2Zvcm0gYXR0cmlidXRlTmFtZT0idHJhbnNmb3JtIiB0eXBlPSJyb3RhdGUiIHJlcGVhdENvdW50PSJpbmRlZmluaXRlIiBkdXI9IjFzIiB2YWx1ZXM9IjAgNTAgNTA7MzYwIDUwIDUwIiBrZXlUaW1lcz0iMDsxIj48L2FuaW1hdGVUcmFuc2Zvcm0+ICA8L2NpcmNsZT48L3N2Zz4=\\\");\\n      background-size: auto calc(min(50%, 400px));\\n    }\\n    \");\n    },    function(Bokeh) {\n      Bokeh.set_log_level(\"info\");\n    },\nfunction(Bokeh) {} // ensure no trailing comma for IE\n  ];\n\n  function run_inline_js() {\n    if ((root.Bokeh !== undefined) || (force === true)) {\n      for (var i = 0; i < inline_js.length; i++) {\n        inline_js[i].call(root, root.Bokeh);\n      }} else if (Date.now() < root._bokeh_timeout) {\n      setTimeout(run_inline_js, 100);\n    } else if (!root._bokeh_failed_load) {\n      console.log(\"Bokeh: BokehJS failed to load within specified timeout.\");\n      root._bokeh_failed_load = true;\n    }\n  }\n\n  if (root._bokeh_is_loading === 0) {\n    console.debug(\"Bokeh: BokehJS loaded, going straight to plotting\");\n    run_inline_js();\n  } else {\n    load_libs(css_urls, js_urls, js_modules, function() {\n      console.debug(\"Bokeh: BokehJS plotting callback run at\", now());\n      run_inline_js();\n    });\n  }\n}(window));"
     },
     "metadata": {},
     "output_type": "display_data"
    },
    {
     "data": {
      "application/javascript": [
       "\n",
       "if ((window.PyViz === undefined) || (window.PyViz instanceof HTMLElement)) {\n",
       "  window.PyViz = {comms: {}, comm_status:{}, kernels:{}, receivers: {}, plot_index: []}\n",
       "}\n",
       "\n",
       "\n",
       "    function JupyterCommManager() {\n",
       "    }\n",
       "\n",
       "    JupyterCommManager.prototype.register_target = function(plot_id, comm_id, msg_handler) {\n",
       "      if (window.comm_manager || ((window.Jupyter !== undefined) && (Jupyter.notebook.kernel != null))) {\n",
       "        var comm_manager = window.comm_manager || Jupyter.notebook.kernel.comm_manager;\n",
       "        comm_manager.register_target(comm_id, function(comm) {\n",
       "          comm.on_msg(msg_handler);\n",
       "        });\n",
       "      } else if ((plot_id in window.PyViz.kernels) && (window.PyViz.kernels[plot_id])) {\n",
       "        window.PyViz.kernels[plot_id].registerCommTarget(comm_id, function(comm) {\n",
       "          comm.onMsg = msg_handler;\n",
       "        });\n",
       "      } else if (typeof google != 'undefined' && google.colab.kernel != null) {\n",
       "        google.colab.kernel.comms.registerTarget(comm_id, (comm) => {\n",
       "          var messages = comm.messages[Symbol.asyncIterator]();\n",
       "          function processIteratorResult(result) {\n",
       "            var message = result.value;\n",
       "            console.log(message)\n",
       "            var content = {data: message.data, comm_id};\n",
       "            var buffers = []\n",
       "            for (var buffer of message.buffers || []) {\n",
       "              buffers.push(new DataView(buffer))\n",
       "            }\n",
       "            var metadata = message.metadata || {};\n",
       "            var msg = {content, buffers, metadata}\n",
       "            msg_handler(msg);\n",
       "            return messages.next().then(processIteratorResult);\n",
       "          }\n",
       "          return messages.next().then(processIteratorResult);\n",
       "        })\n",
       "      }\n",
       "    }\n",
       "\n",
       "    JupyterCommManager.prototype.get_client_comm = function(plot_id, comm_id, msg_handler) {\n",
       "      if (comm_id in window.PyViz.comms) {\n",
       "        return window.PyViz.comms[comm_id];\n",
       "      } else if (window.comm_manager || ((window.Jupyter !== undefined) && (Jupyter.notebook.kernel != null))) {\n",
       "        var comm_manager = window.comm_manager || Jupyter.notebook.kernel.comm_manager;\n",
       "        var comm = comm_manager.new_comm(comm_id, {}, {}, {}, comm_id);\n",
       "        if (msg_handler) {\n",
       "          comm.on_msg(msg_handler);\n",
       "        }\n",
       "      } else if ((plot_id in window.PyViz.kernels) && (window.PyViz.kernels[plot_id])) {\n",
       "        var comm = window.PyViz.kernels[plot_id].connectToComm(comm_id);\n",
       "        comm.open();\n",
       "        if (msg_handler) {\n",
       "          comm.onMsg = msg_handler;\n",
       "        }\n",
       "      } else if (typeof google != 'undefined' && google.colab.kernel != null) {\n",
       "        var comm_promise = google.colab.kernel.comms.open(comm_id)\n",
       "        comm_promise.then((comm) => {\n",
       "          window.PyViz.comms[comm_id] = comm;\n",
       "          if (msg_handler) {\n",
       "            var messages = comm.messages[Symbol.asyncIterator]();\n",
       "            function processIteratorResult(result) {\n",
       "              var message = result.value;\n",
       "              var content = {data: message.data};\n",
       "              var metadata = message.metadata || {comm_id};\n",
       "              var msg = {content, metadata}\n",
       "              msg_handler(msg);\n",
       "              return messages.next().then(processIteratorResult);\n",
       "            }\n",
       "            return messages.next().then(processIteratorResult);\n",
       "          }\n",
       "        }) \n",
       "        var sendClosure = (data, metadata, buffers, disposeOnDone) => {\n",
       "          return comm_promise.then((comm) => {\n",
       "            comm.send(data, metadata, buffers, disposeOnDone);\n",
       "          });\n",
       "        };\n",
       "        var comm = {\n",
       "          send: sendClosure\n",
       "        };\n",
       "      }\n",
       "      window.PyViz.comms[comm_id] = comm;\n",
       "      return comm;\n",
       "    }\n",
       "    window.PyViz.comm_manager = new JupyterCommManager();\n",
       "    \n",
       "\n",
       "\n",
       "var JS_MIME_TYPE = 'application/javascript';\n",
       "var HTML_MIME_TYPE = 'text/html';\n",
       "var EXEC_MIME_TYPE = 'application/vnd.holoviews_exec.v0+json';\n",
       "var CLASS_NAME = 'output';\n",
       "\n",
       "/**\n",
       " * Render data to the DOM node\n",
       " */\n",
       "function render(props, node) {\n",
       "  var div = document.createElement(\"div\");\n",
       "  var script = document.createElement(\"script\");\n",
       "  node.appendChild(div);\n",
       "  node.appendChild(script);\n",
       "}\n",
       "\n",
       "/**\n",
       " * Handle when a new output is added\n",
       " */\n",
       "function handle_add_output(event, handle) {\n",
       "  var output_area = handle.output_area;\n",
       "  var output = handle.output;\n",
       "  if ((output.data == undefined) || (!output.data.hasOwnProperty(EXEC_MIME_TYPE))) {\n",
       "    return\n",
       "  }\n",
       "  var id = output.metadata[EXEC_MIME_TYPE][\"id\"];\n",
       "  var toinsert = output_area.element.find(\".\" + CLASS_NAME.split(' ')[0]);\n",
       "  if (id !== undefined) {\n",
       "    var nchildren = toinsert.length;\n",
       "    var html_node = toinsert[nchildren-1].children[0];\n",
       "    html_node.innerHTML = output.data[HTML_MIME_TYPE];\n",
       "    var scripts = [];\n",
       "    var nodelist = html_node.querySelectorAll(\"script\");\n",
       "    for (var i in nodelist) {\n",
       "      if (nodelist.hasOwnProperty(i)) {\n",
       "        scripts.push(nodelist[i])\n",
       "      }\n",
       "    }\n",
       "\n",
       "    scripts.forEach( function (oldScript) {\n",
       "      var newScript = document.createElement(\"script\");\n",
       "      var attrs = [];\n",
       "      var nodemap = oldScript.attributes;\n",
       "      for (var j in nodemap) {\n",
       "        if (nodemap.hasOwnProperty(j)) {\n",
       "          attrs.push(nodemap[j])\n",
       "        }\n",
       "      }\n",
       "      attrs.forEach(function(attr) { newScript.setAttribute(attr.name, attr.value) });\n",
       "      newScript.appendChild(document.createTextNode(oldScript.innerHTML));\n",
       "      oldScript.parentNode.replaceChild(newScript, oldScript);\n",
       "    });\n",
       "    if (JS_MIME_TYPE in output.data) {\n",
       "      toinsert[nchildren-1].children[1].textContent = output.data[JS_MIME_TYPE];\n",
       "    }\n",
       "    output_area._hv_plot_id = id;\n",
       "    if ((window.Bokeh !== undefined) && (id in Bokeh.index)) {\n",
       "      window.PyViz.plot_index[id] = Bokeh.index[id];\n",
       "    } else {\n",
       "      window.PyViz.plot_index[id] = null;\n",
       "    }\n",
       "  } else if (output.metadata[EXEC_MIME_TYPE][\"server_id\"] !== undefined) {\n",
       "    var bk_div = document.createElement(\"div\");\n",
       "    bk_div.innerHTML = output.data[HTML_MIME_TYPE];\n",
       "    var script_attrs = bk_div.children[0].attributes;\n",
       "    for (var i = 0; i < script_attrs.length; i++) {\n",
       "      toinsert[toinsert.length - 1].childNodes[1].setAttribute(script_attrs[i].name, script_attrs[i].value);\n",
       "    }\n",
       "    // store reference to server id on output_area\n",
       "    output_area._bokeh_server_id = output.metadata[EXEC_MIME_TYPE][\"server_id\"];\n",
       "  }\n",
       "}\n",
       "\n",
       "/**\n",
       " * Handle when an output is cleared or removed\n",
       " */\n",
       "function handle_clear_output(event, handle) {\n",
       "  var id = handle.cell.output_area._hv_plot_id;\n",
       "  var server_id = handle.cell.output_area._bokeh_server_id;\n",
       "  if (((id === undefined) || !(id in PyViz.plot_index)) && (server_id !== undefined)) { return; }\n",
       "  var comm = window.PyViz.comm_manager.get_client_comm(\"hv-extension-comm\", \"hv-extension-comm\", function () {});\n",
       "  if (server_id !== null) {\n",
       "    comm.send({event_type: 'server_delete', 'id': server_id});\n",
       "    return;\n",
       "  } else if (comm !== null) {\n",
       "    comm.send({event_type: 'delete', 'id': id});\n",
       "  }\n",
       "  delete PyViz.plot_index[id];\n",
       "  if ((window.Bokeh !== undefined) & (id in window.Bokeh.index)) {\n",
       "    var doc = window.Bokeh.index[id].model.document\n",
       "    doc.clear();\n",
       "    const i = window.Bokeh.documents.indexOf(doc);\n",
       "    if (i > -1) {\n",
       "      window.Bokeh.documents.splice(i, 1);\n",
       "    }\n",
       "  }\n",
       "}\n",
       "\n",
       "/**\n",
       " * Handle kernel restart event\n",
       " */\n",
       "function handle_kernel_cleanup(event, handle) {\n",
       "  delete PyViz.comms[\"hv-extension-comm\"];\n",
       "  window.PyViz.plot_index = {}\n",
       "}\n",
       "\n",
       "/**\n",
       " * Handle update_display_data messages\n",
       " */\n",
       "function handle_update_output(event, handle) {\n",
       "  handle_clear_output(event, {cell: {output_area: handle.output_area}})\n",
       "  handle_add_output(event, handle)\n",
       "}\n",
       "\n",
       "function register_renderer(events, OutputArea) {\n",
       "  function append_mime(data, metadata, element) {\n",
       "    // create a DOM node to render to\n",
       "    var toinsert = this.create_output_subarea(\n",
       "    metadata,\n",
       "    CLASS_NAME,\n",
       "    EXEC_MIME_TYPE\n",
       "    );\n",
       "    this.keyboard_manager.register_events(toinsert);\n",
       "    // Render to node\n",
       "    var props = {data: data, metadata: metadata[EXEC_MIME_TYPE]};\n",
       "    render(props, toinsert[0]);\n",
       "    element.append(toinsert);\n",
       "    return toinsert\n",
       "  }\n",
       "\n",
       "  events.on('output_added.OutputArea', handle_add_output);\n",
       "  events.on('output_updated.OutputArea', handle_update_output);\n",
       "  events.on('clear_output.CodeCell', handle_clear_output);\n",
       "  events.on('delete.Cell', handle_clear_output);\n",
       "  events.on('kernel_ready.Kernel', handle_kernel_cleanup);\n",
       "\n",
       "  OutputArea.prototype.register_mime_type(EXEC_MIME_TYPE, append_mime, {\n",
       "    safe: true,\n",
       "    index: 0\n",
       "  });\n",
       "}\n",
       "\n",
       "if (window.Jupyter !== undefined) {\n",
       "  try {\n",
       "    var events = require('base/js/events');\n",
       "    var OutputArea = require('notebook/js/outputarea').OutputArea;\n",
       "    if (OutputArea.prototype.mime_types().indexOf(EXEC_MIME_TYPE) == -1) {\n",
       "      register_renderer(events, OutputArea);\n",
       "    }\n",
       "  } catch(err) {\n",
       "  }\n",
       "}\n"
      ],
      "application/vnd.holoviews_load.v0+json": "\nif ((window.PyViz === undefined) || (window.PyViz instanceof HTMLElement)) {\n  window.PyViz = {comms: {}, comm_status:{}, kernels:{}, receivers: {}, plot_index: []}\n}\n\n\n    function JupyterCommManager() {\n    }\n\n    JupyterCommManager.prototype.register_target = function(plot_id, comm_id, msg_handler) {\n      if (window.comm_manager || ((window.Jupyter !== undefined) && (Jupyter.notebook.kernel != null))) {\n        var comm_manager = window.comm_manager || Jupyter.notebook.kernel.comm_manager;\n        comm_manager.register_target(comm_id, function(comm) {\n          comm.on_msg(msg_handler);\n        });\n      } else if ((plot_id in window.PyViz.kernels) && (window.PyViz.kernels[plot_id])) {\n        window.PyViz.kernels[plot_id].registerCommTarget(comm_id, function(comm) {\n          comm.onMsg = msg_handler;\n        });\n      } else if (typeof google != 'undefined' && google.colab.kernel != null) {\n        google.colab.kernel.comms.registerTarget(comm_id, (comm) => {\n          var messages = comm.messages[Symbol.asyncIterator]();\n          function processIteratorResult(result) {\n            var message = result.value;\n            console.log(message)\n            var content = {data: message.data, comm_id};\n            var buffers = []\n            for (var buffer of message.buffers || []) {\n              buffers.push(new DataView(buffer))\n            }\n            var metadata = message.metadata || {};\n            var msg = {content, buffers, metadata}\n            msg_handler(msg);\n            return messages.next().then(processIteratorResult);\n          }\n          return messages.next().then(processIteratorResult);\n        })\n      }\n    }\n\n    JupyterCommManager.prototype.get_client_comm = function(plot_id, comm_id, msg_handler) {\n      if (comm_id in window.PyViz.comms) {\n        return window.PyViz.comms[comm_id];\n      } else if (window.comm_manager || ((window.Jupyter !== undefined) && (Jupyter.notebook.kernel != null))) {\n        var comm_manager = window.comm_manager || Jupyter.notebook.kernel.comm_manager;\n        var comm = comm_manager.new_comm(comm_id, {}, {}, {}, comm_id);\n        if (msg_handler) {\n          comm.on_msg(msg_handler);\n        }\n      } else if ((plot_id in window.PyViz.kernels) && (window.PyViz.kernels[plot_id])) {\n        var comm = window.PyViz.kernels[plot_id].connectToComm(comm_id);\n        comm.open();\n        if (msg_handler) {\n          comm.onMsg = msg_handler;\n        }\n      } else if (typeof google != 'undefined' && google.colab.kernel != null) {\n        var comm_promise = google.colab.kernel.comms.open(comm_id)\n        comm_promise.then((comm) => {\n          window.PyViz.comms[comm_id] = comm;\n          if (msg_handler) {\n            var messages = comm.messages[Symbol.asyncIterator]();\n            function processIteratorResult(result) {\n              var message = result.value;\n              var content = {data: message.data};\n              var metadata = message.metadata || {comm_id};\n              var msg = {content, metadata}\n              msg_handler(msg);\n              return messages.next().then(processIteratorResult);\n            }\n            return messages.next().then(processIteratorResult);\n          }\n        }) \n        var sendClosure = (data, metadata, buffers, disposeOnDone) => {\n          return comm_promise.then((comm) => {\n            comm.send(data, metadata, buffers, disposeOnDone);\n          });\n        };\n        var comm = {\n          send: sendClosure\n        };\n      }\n      window.PyViz.comms[comm_id] = comm;\n      return comm;\n    }\n    window.PyViz.comm_manager = new JupyterCommManager();\n    \n\n\nvar JS_MIME_TYPE = 'application/javascript';\nvar HTML_MIME_TYPE = 'text/html';\nvar EXEC_MIME_TYPE = 'application/vnd.holoviews_exec.v0+json';\nvar CLASS_NAME = 'output';\n\n/**\n * Render data to the DOM node\n */\nfunction render(props, node) {\n  var div = document.createElement(\"div\");\n  var script = document.createElement(\"script\");\n  node.appendChild(div);\n  node.appendChild(script);\n}\n\n/**\n * Handle when a new output is added\n */\nfunction handle_add_output(event, handle) {\n  var output_area = handle.output_area;\n  var output = handle.output;\n  if ((output.data == undefined) || (!output.data.hasOwnProperty(EXEC_MIME_TYPE))) {\n    return\n  }\n  var id = output.metadata[EXEC_MIME_TYPE][\"id\"];\n  var toinsert = output_area.element.find(\".\" + CLASS_NAME.split(' ')[0]);\n  if (id !== undefined) {\n    var nchildren = toinsert.length;\n    var html_node = toinsert[nchildren-1].children[0];\n    html_node.innerHTML = output.data[HTML_MIME_TYPE];\n    var scripts = [];\n    var nodelist = html_node.querySelectorAll(\"script\");\n    for (var i in nodelist) {\n      if (nodelist.hasOwnProperty(i)) {\n        scripts.push(nodelist[i])\n      }\n    }\n\n    scripts.forEach( function (oldScript) {\n      var newScript = document.createElement(\"script\");\n      var attrs = [];\n      var nodemap = oldScript.attributes;\n      for (var j in nodemap) {\n        if (nodemap.hasOwnProperty(j)) {\n          attrs.push(nodemap[j])\n        }\n      }\n      attrs.forEach(function(attr) { newScript.setAttribute(attr.name, attr.value) });\n      newScript.appendChild(document.createTextNode(oldScript.innerHTML));\n      oldScript.parentNode.replaceChild(newScript, oldScript);\n    });\n    if (JS_MIME_TYPE in output.data) {\n      toinsert[nchildren-1].children[1].textContent = output.data[JS_MIME_TYPE];\n    }\n    output_area._hv_plot_id = id;\n    if ((window.Bokeh !== undefined) && (id in Bokeh.index)) {\n      window.PyViz.plot_index[id] = Bokeh.index[id];\n    } else {\n      window.PyViz.plot_index[id] = null;\n    }\n  } else if (output.metadata[EXEC_MIME_TYPE][\"server_id\"] !== undefined) {\n    var bk_div = document.createElement(\"div\");\n    bk_div.innerHTML = output.data[HTML_MIME_TYPE];\n    var script_attrs = bk_div.children[0].attributes;\n    for (var i = 0; i < script_attrs.length; i++) {\n      toinsert[toinsert.length - 1].childNodes[1].setAttribute(script_attrs[i].name, script_attrs[i].value);\n    }\n    // store reference to server id on output_area\n    output_area._bokeh_server_id = output.metadata[EXEC_MIME_TYPE][\"server_id\"];\n  }\n}\n\n/**\n * Handle when an output is cleared or removed\n */\nfunction handle_clear_output(event, handle) {\n  var id = handle.cell.output_area._hv_plot_id;\n  var server_id = handle.cell.output_area._bokeh_server_id;\n  if (((id === undefined) || !(id in PyViz.plot_index)) && (server_id !== undefined)) { return; }\n  var comm = window.PyViz.comm_manager.get_client_comm(\"hv-extension-comm\", \"hv-extension-comm\", function () {});\n  if (server_id !== null) {\n    comm.send({event_type: 'server_delete', 'id': server_id});\n    return;\n  } else if (comm !== null) {\n    comm.send({event_type: 'delete', 'id': id});\n  }\n  delete PyViz.plot_index[id];\n  if ((window.Bokeh !== undefined) & (id in window.Bokeh.index)) {\n    var doc = window.Bokeh.index[id].model.document\n    doc.clear();\n    const i = window.Bokeh.documents.indexOf(doc);\n    if (i > -1) {\n      window.Bokeh.documents.splice(i, 1);\n    }\n  }\n}\n\n/**\n * Handle kernel restart event\n */\nfunction handle_kernel_cleanup(event, handle) {\n  delete PyViz.comms[\"hv-extension-comm\"];\n  window.PyViz.plot_index = {}\n}\n\n/**\n * Handle update_display_data messages\n */\nfunction handle_update_output(event, handle) {\n  handle_clear_output(event, {cell: {output_area: handle.output_area}})\n  handle_add_output(event, handle)\n}\n\nfunction register_renderer(events, OutputArea) {\n  function append_mime(data, metadata, element) {\n    // create a DOM node to render to\n    var toinsert = this.create_output_subarea(\n    metadata,\n    CLASS_NAME,\n    EXEC_MIME_TYPE\n    );\n    this.keyboard_manager.register_events(toinsert);\n    // Render to node\n    var props = {data: data, metadata: metadata[EXEC_MIME_TYPE]};\n    render(props, toinsert[0]);\n    element.append(toinsert);\n    return toinsert\n  }\n\n  events.on('output_added.OutputArea', handle_add_output);\n  events.on('output_updated.OutputArea', handle_update_output);\n  events.on('clear_output.CodeCell', handle_clear_output);\n  events.on('delete.Cell', handle_clear_output);\n  events.on('kernel_ready.Kernel', handle_kernel_cleanup);\n\n  OutputArea.prototype.register_mime_type(EXEC_MIME_TYPE, append_mime, {\n    safe: true,\n    index: 0\n  });\n}\n\nif (window.Jupyter !== undefined) {\n  try {\n    var events = require('base/js/events');\n    var OutputArea = require('notebook/js/outputarea').OutputArea;\n    if (OutputArea.prototype.mime_types().indexOf(EXEC_MIME_TYPE) == -1) {\n      register_renderer(events, OutputArea);\n    }\n  } catch(err) {\n  }\n}\n"
     },
     "metadata": {},
     "output_type": "display_data"
    },
    {
     "data": {
      "text/html": [
       "<style>.bk-root, .bk-root .bk:before, .bk-root .bk:after {\n",
       "  font-family: var(--jp-ui-font-size1);\n",
       "  font-size: var(--jp-ui-font-size1);\n",
       "  color: var(--jp-ui-font-color1);\n",
       "}\n",
       "</style>"
      ]
     },
     "metadata": {},
     "output_type": "display_data"
    }
   ],
   "source": [
    "import requests\n",
    "import os\n",
    "from IPython.display import JSON\n",
    "import pandas as pd\n",
    "import numpy as np\n",
    "import time\n",
    "\n",
    "from wordcloud import WordCloud, STOPWORDS\n",
    "import plotly.express as px\n",
    "\n",
    "import panel as pn\n",
    "pn.extension()\n",
    "import param\n",
    "import hvplot.pandas\n",
    "\n",
    "import pickle\n",
    "from io import StringIO"
   ]
  },
  {
   "cell_type": "code",
   "execution_count": 2,
   "id": "d17c49f0-7634-462b-91c0-d47f8304529f",
   "metadata": {},
   "outputs": [],
   "source": [
    "APIKEY = os.environ.get('ASSEMBLYAI_APIKEY')"
   ]
  },
  {
   "cell_type": "markdown",
   "id": "4f71a4bc-9fe8-4095-969c-29dcf879b7fe",
   "metadata": {},
   "source": [
    "## Upload file"
   ]
  },
  {
   "cell_type": "code",
   "execution_count": 16,
   "id": "798c57d4-398e-4c5a-9824-2b9a6349a52d",
   "metadata": {},
   "outputs": [],
   "source": [
    "# filename = \"Audio/Dolly Shuts Down Patronising Interview In Style.mp4\"\n",
    "# def read_file(filename, chunk_size=5242880):\n",
    "#     with open(filename, 'rb') as _file:\n",
    "#         while True:\n",
    "#             data = _file.read(chunk_size)\n",
    "#             if not data:\n",
    "#                 break\n",
    "#             yield data\n",
    "\n",
    "# headers = {'authorization': APIKEY}\n",
    "# response = requests.post('https://api.assemblyai.com/v2/upload',\n",
    "#                         headers=headers,\n",
    "#                         data=read_file(filename))\n",
    "\n",
    "# audio_url = response.json()['upload_url']"
   ]
  },
  {
   "cell_type": "markdown",
   "id": "5628c582-fd80-4e8e-afdd-ddb92b70883b",
   "metadata": {},
   "source": [
    "## Submit for Transcription"
   ]
  },
  {
   "cell_type": "code",
   "execution_count": 15,
   "id": "2382c377-b948-4ed2-af7b-47bcf9af19f5",
   "metadata": {},
   "outputs": [],
   "source": [
    "# endpoint = \"https://api.assemblyai.com/v2/transcript\"\n",
    "# json = {\n",
    "#     \"audio_url\": audio_url,\n",
    "#     \"speaker_labels\":True,\n",
    "#     \"auto_highlights\": True,\n",
    "#     \"sentiment_analysis\":True,\n",
    "#     \"iab_categories\":True\n",
    "    \n",
    "# }\n",
    "# headers = {\n",
    "#     \"authorization\": APIKEY,\n",
    "#     \"content-type\": \"application/json\"\n",
    "# }\n",
    "# response = requests.post(endpoint, json=json, headers=headers)\n",
    "# print(response.json())"
   ]
  },
  {
   "cell_type": "markdown",
   "id": "50d037c0-60be-42d2-9791-8395889ffb3f",
   "metadata": {},
   "source": [
    "## Get Transcription Result"
   ]
  },
  {
   "cell_type": "code",
   "execution_count": 13,
   "id": "5a0d8d0d-859f-4ed4-b913-46fd316f2fbe",
   "metadata": {},
   "outputs": [],
   "source": [
    "# result_endpoint = f'{endpoint}/{response.json()[\"id\"]}'\n",
    "# headers_auth = {\n",
    "#     \"authorization\": APIKEY,\n",
    "# }\n",
    "# transcript_response = requests.get(result_endpoint, headers=headers_auth)\n",
    "# print(transcript_response.json())\n",
    "\n",
    "# while response.json()['status'] != \"completed\":\n",
    "#     response = requests.get(result_endpoint, headers=headers_auth)\n",
    "#     time.sleep(5)"
   ]
  },
  {
   "cell_type": "code",
   "execution_count": 29,
   "id": "6e394ac1-5f79-41c0-a5b9-c9d265d54d71",
   "metadata": {},
   "outputs": [
    {
     "name": "stdout",
     "output_type": "stream",
     "text": [
      "{'text': 'If you had of it would have been something very natural but I would have probably kicked your shins or something.', 'start': 5307, 'end': 10550, 'sentiment': 'NEGATIVE', 'confidence': 0.5358942747116089, 'speaker': 'B'}\n",
      "{'text': 'They took that kind of thing from people like us.', 'start': 22555, 'end': 26992, 'sentiment': 'NEGATIVE', 'confidence': 0.6504906415939331, 'speaker': 'B'}\n",
      "{'text': \"My assistant asked me something and I'm going to blame it on her because I wouldn't have had the nerve otherwise.\", 'start': 72262, 'end': 77172, 'sentiment': 'NEGATIVE', 'confidence': 0.5965232849121094, 'speaker': 'A'}\n",
      "{'text': \"Well, I can't show you.\", 'start': 79762, 'end': 81217, 'sentiment': 'NEGATIVE', 'confidence': 0.5410354733467102, 'speaker': 'B'}\n",
      "{'text': \"I don't like to be like everybody else.\", 'start': 108162, 'end': 110422, 'sentiment': 'NEGATIVE', 'confidence': 0.7588388919830322, 'speaker': 'B'}\n",
      "{'text': \"But do you ever feel that you're a joke?\", 'start': 146887, 'end': 149292, 'sentiment': 'NEGATIVE', 'confidence': 0.6296707987785339, 'speaker': 'A'}\n",
      "{'text': 'That people make fun of you?', 'start': 149352, 'end': 150742, 'sentiment': 'NEGATIVE', 'confidence': 0.6824779510498047, 'speaker': 'A'}\n",
      "{'text': \"See, the thing of it is you don't find a person that you can be happy with and they can't accept you.\", 'start': 220182, 'end': 224977, 'sentiment': 'NEGATIVE', 'confidence': 0.5610052347183228, 'speaker': 'B'}\n",
      "{'text': \"I've got better things to do than to sit around in my room thinking, oh, it's Carl doing tonight.\", 'start': 234717, 'end': 238872, 'sentiment': 'NEGATIVE', 'confidence': 0.5436835289001465, 'speaker': 'B'}\n"
     ]
    }
   ],
   "source": [
    "for u in transcript_response.json()['sentiment_analysis_results']:\n",
    "    if u['sentiment'] == 'NEGATIVE':\n",
    "        print(u)"
   ]
  },
  {
   "cell_type": "code",
   "execution_count": 14,
   "id": "aab995e2-37c6-4b31-9915-1b6dc272edd4",
   "metadata": {},
   "outputs": [
    {
     "data": {
      "application/json": {
       "acoustic_model": "assemblyai_default",
       "audio_duration": 241,
       "audio_end_at": null,
       "audio_start_from": null,
       "audio_url": "https://cdn.assemblyai.com/upload/1dd6646b-0e26-47e0-b325-28ccedb99f21",
       "auto_chapters": false,
       "auto_highlights": true,
       "auto_highlights_result": {
        "results": [
         {
          "count": 1,
          "rank": 0.08,
          "text": "better things",
          "timestamps": [
           {
            "end": 235597,
            "start": 235120
           }
          ]
         },
         {
          "count": 1,
          "rank": 0.07,
          "text": "Good common sense horse",
          "timestamps": [
           {
            "end": 41772,
            "start": 40467
           }
          ]
         },
         {
          "count": 1,
          "rank": 0.06,
          "text": "more jokes",
          "timestamps": [
           {
            "end": 163047,
            "start": 162655
           }
          ]
         },
         {
          "count": 4,
          "rank": 0.06,
          "text": "freedom",
          "timestamps": [
           {
            "end": 209202,
            "start": 208615
           },
           {
            "end": 210762,
            "start": 210280
           },
           {
            "end": 215697,
            "start": 215395
           },
           {
            "end": 220152,
            "start": 219865
           }
          ]
         },
         {
          "count": 1,
          "rank": 0.05,
          "text": "very proud people",
          "timestamps": [
           {
            "end": 29497,
            "start": 28105
           }
          ]
         },
         {
          "count": 1,
          "rank": 0.05,
          "text": "country class",
          "timestamps": [
           {
            "end": 32137,
            "start": 31405
           }
          ]
         },
         {
          "count": 1,
          "rank": 0.05,
          "text": "Paul Dean",
          "timestamps": [
           {
            "end": 197832,
            "start": 196810
           }
          ]
         },
         {
          "count": 4,
          "rank": 0.05,
          "text": "person",
          "timestamps": [
           {
            "end": 96742,
            "start": 96535
           },
           {
            "end": 169522,
            "start": 169135
           },
           {
            "end": 178717,
            "start": 178495
           },
           {
            "end": 222262,
            "start": 221995
           }
          ]
         },
         {
          "count": 2,
          "rank": 0.05,
          "text": "clothes",
          "timestamps": [
           {
            "end": 105222,
            "start": 104817
           },
           {
            "end": 184152,
            "start": 183820
           }
          ]
         },
         {
          "count": 1,
          "rank": 0.05,
          "text": "Other members",
          "timestamps": [
           {
            "end": 69142,
            "start": 68362
           }
          ]
         },
         {
          "count": 1,
          "rank": 0.05,
          "text": "whole thing",
          "timestamps": [
           {
            "end": 89737,
            "start": 89245
           }
          ]
         },
         {
          "count": 2,
          "rank": 0.05,
          "text": "life",
          "timestamps": [
           {
            "end": 133942,
            "start": 133705
           },
           {
            "end": 175792,
            "start": 175555
           }
          ]
         },
         {
          "count": 1,
          "rank": 0.05,
          "text": "easiest thing",
          "timestamps": [
           {
            "end": 115327,
            "start": 114820
           }
          ]
         },
         {
          "count": 1,
          "rank": 0.05,
          "text": "show business",
          "timestamps": [
           {
            "end": 141787,
            "start": 141160
           }
          ]
         },
         {
          "count": 2,
          "rank": 0.04,
          "text": "fun",
          "timestamps": [
           {
            "end": 150277,
            "start": 150130
           },
           {
            "end": 151777,
            "start": 151630
           }
          ]
         }
        ],
        "status": "success"
       },
       "boost_param": null,
       "chapters": null,
       "cluster_id": null,
       "confidence": 0.91761202669903,
       "content_safety": false,
       "content_safety_labels": {
        "results": [],
        "status": "unavailable",
        "summary": {}
       },
       "custom_spelling": null,
       "disfluencies": false,
       "dual_channel": null,
       "entities": null,
       "entity_detection": false,
       "filter_profanity": false,
       "format_text": true,
       "iab_categories": true,
       "iab_categories_result": {
        "results": [
         {
          "labels": [
           {
            "label": "MusicAndAudio>CountryMusic",
            "relevance": 0.0384661927819252
           },
           {
            "label": "Travel>TravelType>RoadTrips",
            "relevance": 0.0056031192652881145
           },
           {
            "label": "MusicAndAudio>Songwriters/Folk",
            "relevance": 0.0033305047545582056
           },
           {
            "label": "Sports>Rodeo",
            "relevance": 0.0027258521877229214
           },
           {
            "label": "FamilyAndRelationships>Parenting",
            "relevance": 0.0017606096807867289
           },
           {
            "label": "MusicAndAudio>Children'sMusic",
            "relevance": 0.0014924313873052597
           },
           {
            "label": "Automotive>AutoBodyStyles>StationWagon",
            "relevance": 0.0013625945430248976
           },
           {
            "label": "BooksAndLiterature>Children'sLiterature",
            "relevance": 0.0011156209511682391
           },
           {
            "label": "BooksAndLiterature>Poetry",
            "relevance": 0.0011048176093026996
           },
           {
            "label": "Travel>TravelType>Camping",
            "relevance": 0.0010164851555600762
           }
          ],
          "text": "Dolly where I come from. Would I have called you a hillbilly? If you had of it would have been something very natural but I would have probably kicked your shins or something. No, actually. But when I think of your beliefs and I think of your kind of. People I think you probably are, the people that grew up where I was were the ones that you would consider the little abner people daisy May and that sort of thing. They took that kind of thing from people like us.",
          "timestamp": {
           "end": 26992,
           "start": 462
          }
         },
         {
          "labels": [
           {
            "label": "Style&Fashion>Beauty",
            "relevance": 0.40583258867263794
           },
           {
            "label": "Style&Fashion>Women'sFashion>Women'sAccessories>Women'sHatsAndScarves",
            "relevance": 0.07844225317239761
           },
           {
            "label": "Style&Fashion>Children'sClothing",
            "relevance": 0.018007412552833557
           },
           {
            "label": "Style&Fashion>Beauty>HairCare",
            "relevance": 0.010364923626184464
           },
           {
            "label": "Style&Fashion>Women'sFashion",
            "relevance": 0.01006582472473383
           },
           {
            "label": "Style&Fashion>Women'sFashion>Women'sClothing>Women'sOuterwear",
            "relevance": 0.009374735876917839
           },
           {
            "label": "FamilyAndRelationships>Parenting>ParentingChildrenAged4-11",
            "relevance": 0.005627588368952274
           },
           {
            "label": "Style&Fashion>Beauty>MakeupAndAccessories",
            "relevance": 0.004898100160062313
           },
           {
            "label": "Style&Fashion>Women'sFashion>Women'sAccessories",
            "relevance": 0.004801925737410784
           },
           {
            "label": "Sports>Cheerleading",
            "relevance": 0.004719836637377739
           }
          ],
          "text": "But we were very proud people, people with a lot of class. It was country class, but it was a great deal of class and most of my people were not that educated but they are very intelligent. Good common sense horse since we called it darling. Did you look like this when you were a kid? Not quite. I mean, you didn't have the blonde wig but when I went to school when you were 11, 12, 13 was it this about you?",
          "timestamp": {
           "end": 55537,
           "start": 27040
          }
         },
         {
          "labels": [
           {
            "label": "Style&Fashion>Beauty",
            "relevance": 0.6242024898529053
           },
           {
            "label": "HealthyLiving>Men'sHealth",
            "relevance": 0.04504771903157234
           },
           {
            "label": "FamilyAndRelationships",
            "relevance": 0.017344510182738304
           },
           {
            "label": "FamilyAndRelationships>SingleLife",
            "relevance": 0.008007110096514225
           },
           {
            "label": "HealthyLiving>Women'sHealth",
            "relevance": 0.004546392243355513
           },
           {
            "label": "FamilyAndRelationships>Parenting",
            "relevance": 0.004424206912517548
           },
           {
            "label": "MedicalHealth>DiseasesAndConditions>ReproductiveHealth>Infertility",
            "relevance": 0.002462359145283699
           },
           {
            "label": "FamilyAndRelationships>Parenting>ParentingChildrenAged4-11",
            "relevance": 0.0023136595264077187
           },
           {
            "label": "PopCulture>CelebrityPregnancy",
            "relevance": 0.002154906513169408
           },
           {
            "label": "FamilyAndRelationships>Dating",
            "relevance": 0.0017587811453267932
           }
          ],
          "text": "Well, you mean the full figure? Yeah, that's what I meant. Yeah, that's what you meant. Well, actually I've always been pretty well blessed as a child. I grew up fast. Other members of my family have done the same. My assistant asked me something and I'm going to blame it on her because I wouldn't have had the nerve otherwise. Is it all you? Well, I can't show you. Yeah, I'll take your word for it.",
          "timestamp": {
           "end": 84022,
           "start": 55600
          }
         },
         {
          "labels": [
           {
            "label": "Style&Fashion>Beauty",
            "relevance": 0.9765373468399048
           },
           {
            "label": "Style&Fashion>Beauty>MakeupAndAccessories",
            "relevance": 0.13392303884029388
           },
           {
            "label": "Style&Fashion>Women'sFashion>Women'sAccessories>Women'sHatsAndScarves",
            "relevance": 0.025081554427742958
           },
           {
            "label": "Style&Fashion>Beauty>HairCare",
            "relevance": 0.011163284070789814
           },
           {
            "label": "FineArt>Costume",
            "relevance": 0.010895474813878536
           },
           {
            "label": "HealthyLiving>Men'sHealth",
            "relevance": 0.0035225481260567904
           },
           {
            "label": "Style&Fashion>PersonalCare>Shaving",
            "relevance": 0.0034955579321831465
           },
           {
            "label": "Style&Fashion>StreetStyle",
            "relevance": 0.003164107445627451
           },
           {
            "label": "Style&Fashion>BodyArt",
            "relevance": 0.0026745786890387535
           },
           {
            "label": "EventsAndAttractions>FashionEvents",
            "relevance": 0.002088321140035987
           }
          ],
          "text": "I get asked that question. I always answer that because people are in all of the whole thing a lot of people say I have a lot of people say I have it. I always say that if I hadn't had it on my own I'm just the kind of person that would have had me if I made you don't. Have to look like this. You're very beautiful. You don't have to wear the blonde wigs you don't have to wear the extreme clothes. Right?",
          "timestamp": {
           "end": 105877,
           "start": 84055
          }
         },
         {
          "labels": [
           {
            "label": "Style&Fashion>StreetStyle",
            "relevance": 0.9487990140914917
           },
           {
            "label": "Style&Fashion",
            "relevance": 0.8525909185409546
           },
           {
            "label": "Style&Fashion>FashionTrends",
            "relevance": 0.6781418323516846
           },
           {
            "label": "Style&Fashion>Women'sFashion",
            "relevance": 0.602287769317627
           },
           {
            "label": "Style&Fashion>Men'sFashion",
            "relevance": 0.36784011125564575
           },
           {
            "label": "EventsAndAttractions>FashionEvents",
            "relevance": 0.09945571422576904
           },
           {
            "label": "Style&Fashion>HighFashion",
            "relevance": 0.08816640824079514
           },
           {
            "label": "Style&Fashion>Children'sClothing",
            "relevance": 0.005538068246096373
           },
           {
            "label": "Style&Fashion>Men'sFashion>Men'sAccessories",
            "relevance": 0.004724432714283466
           },
           {
            "label": "Style&Fashion>Men'sFashion>Men'sClothing>Men'sCasualWear",
            "relevance": 0.003850517561659217
           }
          ],
          "text": "No, it's certainly a choice. I don't like to be like everybody else. I've often made this statement that I would never stoop so low as to be fashionable. That's the easiest thing in the world to do. So I just decided that I would do something that would at least get the attention once they got past the shock of the ridiculous way I looked and all that, then they would see there was a part of me to be appreciated.",
          "timestamp": {
           "end": 129072,
           "start": 106045
          }
         },
         {
          "labels": [
           {
            "label": "EventsAndAttractions>ComedyEvents",
            "relevance": 0.9939175844192505
           },
           {
            "label": "Television>ComedyTV",
            "relevance": 0.8580138087272644
           },
           {
            "label": "PopCulture>HumorAndSatire",
            "relevance": 0.3581605851650238
           },
           {
            "label": "MusicAndAudio>Comedy(MusicAndAudio)",
            "relevance": 0.013248809613287449
           },
           {
            "label": "Television>RealityTV",
            "relevance": 0.007944436743855476
           },
           {
            "label": "Movies>ComedyMovies",
            "relevance": 0.003280746517702937
           },
           {
            "label": "FineArt>Theater",
            "relevance": 0.0009968000231310725
           },
           {
            "label": "Hobbies&Interests>ContentProduction>FreelanceWriting",
            "relevance": 0.0008054221980273724
           },
           {
            "label": "PopCulture>CelebrityRelationships",
            "relevance": 0.00046489122905768454
           },
           {
            "label": "Television>FactualTV",
            "relevance": 0.00046150267007760704
           }
          ],
          "text": "I'm very real where it counts, and that's inside. And as far as my outlook on life and the way I care about people and the way I care about myself and the things that I care about. But I just chose to do this. And show business is a money making joke, and I just always liked telling jokes. But do you ever feel that you're a joke? That people make fun of you?",
          "timestamp": {
           "end": 150742,
           "start": 129117
          }
         },
         {
          "labels": [
           {
            "label": "PopCulture>HumorAndSatire",
            "relevance": 0.9779303073883057
           },
           {
            "label": "EventsAndAttractions>ComedyEvents",
            "relevance": 0.8197059631347656
           },
           {
            "label": "Television>ComedyTV",
            "relevance": 0.038462817668914795
           },
           {
            "label": "MusicAndAudio>Comedy(MusicAndAudio)",
            "relevance": 0.014674751088023186
           },
           {
            "label": "Hobbies&Interests>ContentProduction>FreelanceWriting",
            "relevance": 0.00046682514948770404
           },
           {
            "label": "FineArt>Theater",
            "relevance": 0.0002773481828626245
           },
           {
            "label": "Movies>ComedyMovies",
            "relevance": 0.00023507419973611832
           },
           {
            "label": "BusinessAndFinance>Business>MarketingAndAdvertising",
            "relevance": 0.00020743324421346188
           },
           {
            "label": "BooksAndLiterature>ComicsAndGraphicNovels",
            "relevance": 0.00019269617041572928
           },
           {
            "label": "NewsAndPolitics>NationalNews",
            "relevance": 0.00018382890266366303
           }
          ],
          "text": "Oh, I know they make fun of me but actually, all these years the people have thought the joke was on me, but it's actually been on the public. I know exactly what I'm doing and I can change it at any time or I make more jokes about myself than anybody because I enjoy as I say, I am sure of myself as a person. I'm sure of my talent and to me and I'm sure of my love for life and that sort of thing.",
          "timestamp": {
           "end": 176572,
           "start": 150790
          }
         },
         {
          "labels": [
           {
            "label": "FamilyAndRelationships>SingleLife",
            "relevance": 0.19302822649478912
           },
           {
            "label": "Sports>Cycling",
            "relevance": 0.020281635224819183
           },
           {
            "label": "PopCulture>CelebrityRelationships",
            "relevance": 0.01615997403860092
           },
           {
            "label": "HealthyLiving>Men'sHealth",
            "relevance": 0.009778176434338093
           },
           {
            "label": "Travel>TravelType>RoadTrips",
            "relevance": 0.008473444730043411
           },
           {
            "label": "FamilyAndRelationships>Divorce",
            "relevance": 0.007192848715931177
           },
           {
            "label": "PopCulture>CelebrityDeaths",
            "relevance": 0.007005138788372278
           },
           {
            "label": "FamilyAndRelationships>Dating",
            "relevance": 0.006534062325954437
           },
           {
            "label": "Travel>TravelType>Camping",
            "relevance": 0.005786917172372341
           },
           {
            "label": "Automotive>Motorcycles",
            "relevance": 0.005494610872119665
           }
          ],
          "text": "I'm very content. I like the kind of person that I am so I can afford to pedal around and do the little around with makeups and clothes and stuff because I am secure with myself. Listen, tell me about this marriage of yours this man who nobody ever seems to see. We heard that he was here, we heard that he was, but none of us have seen him. Paul Dean, you don't see him very much. You're on the road most of the time.",
          "timestamp": {
           "end": 201142,
           "start": 176605
          }
         },
         {
          "labels": [
           {
            "label": "FamilyAndRelationships>Divorce",
            "relevance": 0.751889705657959
           },
           {
            "label": "FamilyAndRelationships>SingleLife",
            "relevance": 0.4844997823238373
           },
           {
            "label": "FamilyAndRelationships",
            "relevance": 0.12339542806148529
           },
           {
            "label": "FamilyAndRelationships>MarriageAndCivilUnions",
            "relevance": 0.09288500249385834
           },
           {
            "label": "FamilyAndRelationships>Dating",
            "relevance": 0.02703435719013214
           },
           {
            "label": "HealthyLiving>Men'sHealth",
            "relevance": 0.003092282684519887
           },
           {
            "label": "EventsAndAttractions>PersonalCelebrations&LifeEvents>Wedding",
            "relevance": 0.0027524984907358885
           },
           {
            "label": "FamilyAndRelationships>Parenting",
            "relevance": 0.001128598116338253
           },
           {
            "label": "PopCulture>CelebrityRelationships",
            "relevance": 0.0007760163862258196
           },
           {
            "label": "MedicalHealth>DiseasesAndConditions>ReproductiveHealth",
            "relevance": 0.0003636004403233528
           }
          ],
          "text": "You've said, I know that this marriage will always last. This man gives me everything I need. How do you know? Well, I need freedom. The man gives me freedom. So why get married? Well, why not? Why, if I don't want most of freedom? Why have a husband away some place with these six weeks a year? He has the same freedom.",
          "timestamp": {
           "end": 220152,
           "start": 201190
          }
         },
         {
          "labels": [
           {
            "label": "FamilyAndRelationships>SingleLife",
            "relevance": 0.7753461599349976
           },
           {
            "label": "FamilyAndRelationships",
            "relevance": 0.5219306945800781
           },
           {
            "label": "FamilyAndRelationships>Divorce",
            "relevance": 0.378251850605011
           },
           {
            "label": "FamilyAndRelationships>Dating",
            "relevance": 0.06885505467653275
           },
           {
            "label": "HealthyLiving>Men'sHealth",
            "relevance": 0.01576736941933632
           },
           {
            "label": "FamilyAndRelationships>Parenting",
            "relevance": 0.00566395977512002
           },
           {
            "label": "FamilyAndRelationships>MarriageAndCivilUnions",
            "relevance": 0.005503539927303791
           },
           {
            "label": "PopCulture>CelebrityRelationships",
            "relevance": 0.0037237899377942085
           },
           {
            "label": "EventsAndAttractions>PersonalCelebrations&LifeEvents>Wedding",
            "relevance": 0.0025974418967962265
           },
           {
            "label": "FamilyAndRelationships>Bereavement",
            "relevance": 0.0014088120078667998
           }
          ],
          "text": "See, the thing of it is you don't find a person that you can be happy with and they can't accept you. You are and can share the things and to plan for the future and to enjoy your home. We have our foundation, we have our roots, we have all the things that everybody is looking for and that's happiness in a marriage. I've got better things to do than to sit around in my room thinking, oh, it's Carl doing tonight.",
          "timestamp": {
           "end": 238872,
           "start": 220182
          }
         },
         {
          "labels": [
           {
            "label": "FamilyAndRelationships>SingleLife",
            "relevance": 0.24146711826324463
           },
           {
            "label": "FamilyAndRelationships>Dating",
            "relevance": 0.19686083495616913
           },
           {
            "label": "PopCulture>CelebrityRelationships",
            "relevance": 0.05459204316139221
           },
           {
            "label": "FamilyAndRelationships",
            "relevance": 0.026265891268849373
           },
           {
            "label": "HealthyLiving>Men'sHealth",
            "relevance": 0.003025364363566041
           },
           {
            "label": "FamilyAndRelationships>Divorce",
            "relevance": 0.0018445635214447975
           },
           {
            "label": "FamilyAndRelationships>MarriageAndCivilUnions",
            "relevance": 0.00037526286905631423
           },
           {
            "label": "PopCulture>CelebrityFamilies",
            "relevance": 0.00035657218541018665
           },
           {
            "label": "PopCulture>CelebrityScandal",
            "relevance": 0.00035268545616418123
           },
           {
            "label": "Automotive>AutoType>BudgetCars",
            "relevance": 0.00031293369829654694
           }
          ],
          "text": "I wonder if he's with somebody and this and that.",
          "timestamp": {
           "end": 240900,
           "start": 238917
          }
         }
        ],
        "status": "success",
        "summary": {
         "EventsAndAttractions>ComedyEvents": 0.9033228158950806,
         "EventsAndAttractions>FashionEvents": 0.050757091492414474,
         "FamilyAndRelationships": 0.3448086380958557,
         "FamilyAndRelationships>Dating": 0.15037426352500916,
         "FamilyAndRelationships>Divorce": 0.5672422647476196,
         "FamilyAndRelationships>MarriageAndCivilUnions": 0.04947863519191742,
         "FamilyAndRelationships>SingleLife": 0.8481855392456055,
         "HealthyLiving>Men'sHealth": 0.041264988481998444,
         "PopCulture>CelebrityRelationships": 0.03820483759045601,
         "PopCulture>HumorAndSatire": 0.6656082272529602,
         "Style&Fashion": 0.4260181486606598,
         "Style&Fashion>Beauty": 1,
         "Style&Fashion>Beauty>MakeupAndAccessories": 0.06968006491661072,
         "Style&Fashion>FashionTrends": 0.338242769241333,
         "Style&Fashion>HighFashion": 0.045685477554798126,
         "Style&Fashion>Men'sFashion": 0.18474410474300385,
         "Style&Fashion>StreetStyle": 0.47628286480903625,
         "Style&Fashion>Women'sFashion": 0.3058570325374603,
         "Style&Fashion>Women'sFashion>Women'sAccessories>Women'sHatsAndScarves": 0.052490171045064926,
         "Television>ComedyTV": 0.4466465413570404
        }
       },
       "id": "r1odqrzpvp-a69f-4fa6-b83b-7a7314315f97",
       "language_code": "en_us",
       "language_detection": false,
       "language_model": "assemblyai_default",
       "punctuate": true,
       "redact_pii": false,
       "redact_pii_audio": false,
       "redact_pii_audio_quality": null,
       "redact_pii_policies": null,
       "redact_pii_sub": null,
       "sentiment_analysis": true,
       "sentiment_analysis_results": [
        {
         "confidence": 0.8288469314575195,
         "end": 2827,
         "sentiment": "NEUTRAL",
         "speaker": "A",
         "start": 462,
         "text": "Dolly where I come from."
        },
        {
         "confidence": 0.6513108015060425,
         "end": 5127,
         "sentiment": "NEUTRAL",
         "speaker": "A",
         "start": 2920,
         "text": "Would I have called you a hillbilly?"
        },
        {
         "confidence": 0.5358942747116089,
         "end": 10550,
         "sentiment": "NEGATIVE",
         "speaker": "B",
         "start": 5307,
         "text": "If you had of it would have been something very natural but I would have probably kicked your shins or something."
        },
        {
         "confidence": 0.6661166548728943,
         "end": 11887,
         "sentiment": "NEUTRAL",
         "speaker": "B",
         "start": 11137,
         "text": "No, actually."
        },
        {
         "confidence": 0.7708563208580017,
         "end": 14407,
         "sentiment": "NEUTRAL",
         "speaker": "A",
         "start": 11950,
         "text": "But when I think of your beliefs and I think of your kind of."
        },
        {
         "confidence": 0.8153480291366577,
         "end": 22522,
         "sentiment": "NEUTRAL",
         "speaker": "B",
         "start": 14410,
         "text": "People I think you probably are, the people that grew up where I was were the ones that you would consider the little abner people daisy May and that sort of thing."
        },
        {
         "confidence": 0.6504906415939331,
         "end": 26992,
         "sentiment": "NEGATIVE",
         "speaker": "B",
         "start": 22555,
         "text": "They took that kind of thing from people like us."
        },
        {
         "confidence": 0.8560635447502136,
         "end": 30937,
         "sentiment": "POSITIVE",
         "speaker": "B",
         "start": 27040,
         "text": "But we were very proud people, people with a lot of class."
        },
        {
         "confidence": 0.581783652305603,
         "end": 40422,
         "sentiment": "POSITIVE",
         "speaker": "B",
         "start": 31000,
         "text": "It was country class, but it was a great deal of class and most of my people were not that educated but they are very intelligent."
        },
        {
         "confidence": 0.6084290146827698,
         "end": 43047,
         "sentiment": "POSITIVE",
         "speaker": "B",
         "start": 40467,
         "text": "Good common sense horse since we called it darling."
        },
        {
         "confidence": 0.8528315424919128,
         "end": 44917,
         "sentiment": "NEUTRAL",
         "speaker": "A",
         "start": 43092,
         "text": "Did you look like this when you were a kid?"
        },
        {
         "confidence": 0.5199145078659058,
         "end": 45757,
         "sentiment": "NEUTRAL",
         "speaker": "B",
         "start": 45040,
         "text": "Not quite."
        },
        {
         "confidence": 0.7857349514961243,
         "end": 55537,
         "sentiment": "NEUTRAL",
         "speaker": "A",
         "start": 45835,
         "text": "I mean, you didn't have the blonde wig but when I went to school when you were 11, 12, 13 was it this about you?"
        },
        {
         "confidence": 0.8158475160598755,
         "end": 59600,
         "sentiment": "NEUTRAL",
         "speaker": "B",
         "start": 55600,
         "text": "Well, you mean the full figure?"
        },
        {
         "confidence": 0.7583904266357422,
         "end": 61347,
         "sentiment": "NEUTRAL",
         "speaker": "A",
         "start": 60262,
         "text": "Yeah, that's what I meant."
        },
        {
         "confidence": 0.7503639459609985,
         "end": 62787,
         "sentiment": "NEUTRAL",
         "speaker": "B",
         "start": 61392,
         "text": "Yeah, that's what you meant."
        },
        {
         "confidence": 0.9637918472290039,
         "end": 66742,
         "sentiment": "POSITIVE",
         "speaker": "B",
         "start": 62862,
         "text": "Well, actually I've always been pretty well blessed as a child."
        },
        {
         "confidence": 0.5986786484718323,
         "end": 68000,
         "sentiment": "NEUTRAL",
         "speaker": "B",
         "start": 66790,
         "text": "I grew up fast."
        },
        {
         "confidence": 0.8856564164161682,
         "end": 71600,
         "sentiment": "NEUTRAL",
         "speaker": "B",
         "start": 68362,
         "text": "Other members of my family have done the same."
        },
        {
         "confidence": 0.5965232849121094,
         "end": 77172,
         "sentiment": "NEGATIVE",
         "speaker": "A",
         "start": 72262,
         "text": "My assistant asked me something and I'm going to blame it on her because I wouldn't have had the nerve otherwise."
        },
        {
         "confidence": 0.8095303177833557,
         "end": 78575,
         "sentiment": "NEUTRAL",
         "speaker": "A",
         "start": 77292,
         "text": "Is it all you?"
        },
        {
         "confidence": 0.5410354733467102,
         "end": 81217,
         "sentiment": "NEGATIVE",
         "speaker": "B",
         "start": 79762,
         "text": "Well, I can't show you."
        },
        {
         "confidence": 0.698145866394043,
         "end": 84022,
         "sentiment": "NEUTRAL",
         "speaker": "B",
         "start": 81265,
         "text": "Yeah, I'll take your word for it."
        },
        {
         "confidence": 0.6997410655021667,
         "end": 85237,
         "sentiment": "NEUTRAL",
         "speaker": "B",
         "start": 84055,
         "text": "I get asked that question."
        },
        {
         "confidence": 0.8133596181869507,
         "end": 93067,
         "sentiment": "NEUTRAL",
         "speaker": "B",
         "start": 85300,
         "text": "I always answer that because people are in all of the whole thing a lot of people say I have a lot of people say I have it."
        },
        {
         "confidence": 0.6698908805847168,
         "end": 99327,
         "sentiment": "NEUTRAL",
         "speaker": "B",
         "start": 93115,
         "text": "I always say that if I hadn't had it on my own I'm just the kind of person that would have had me if I made you don't."
        },
        {
         "confidence": 0.7443570494651794,
         "end": 100447,
         "sentiment": "NEUTRAL",
         "speaker": "A",
         "start": 99357,
         "text": "Have to look like this."
        },
        {
         "confidence": 0.9765705466270447,
         "end": 101452,
         "sentiment": "POSITIVE",
         "speaker": "A",
         "start": 100555,
         "text": "You're very beautiful."
        },
        {
         "confidence": 0.7462072372436523,
         "end": 105222,
         "sentiment": "NEUTRAL",
         "speaker": "A",
         "start": 101545,
         "text": "You don't have to wear the blonde wigs you don't have to wear the extreme clothes."
        },
        {
         "confidence": 0.7360091805458069,
         "end": 105877,
         "sentiment": "NEUTRAL",
         "speaker": "A",
         "start": 105267,
         "text": "Right?"
        },
        {
         "confidence": 0.7384374141693115,
         "end": 108087,
         "sentiment": "NEUTRAL",
         "speaker": "B",
         "start": 106045,
         "text": "No, it's certainly a choice."
        },
        {
         "confidence": 0.7588388919830322,
         "end": 110422,
         "sentiment": "NEGATIVE",
         "speaker": "B",
         "start": 108162,
         "text": "I don't like to be like everybody else."
        },
        {
         "confidence": 0.6484503149986267,
         "end": 114417,
         "sentiment": "NEUTRAL",
         "speaker": "B",
         "start": 110455,
         "text": "I've often made this statement that I would never stoop so low as to be fashionable."
        },
        {
         "confidence": 0.9167831540107727,
         "end": 116377,
         "sentiment": "POSITIVE",
         "speaker": "B",
         "start": 114477,
         "text": "That's the easiest thing in the world to do."
        },
        {
         "confidence": 0.48690980672836304,
         "end": 129072,
         "sentiment": "POSITIVE",
         "speaker": "B",
         "start": 116470,
         "text": "So I just decided that I would do something that would at least get the attention once they got past the shock of the ridiculous way I looked and all that, then they would see there was a part of me to be appreciated."
        },
        {
         "confidence": 0.6421365141868591,
         "end": 131827,
         "sentiment": "POSITIVE",
         "speaker": "B",
         "start": 129117,
         "text": "I'm very real where it counts, and that's inside."
        },
        {
         "confidence": 0.6112033128738403,
         "end": 138772,
         "sentiment": "NEUTRAL",
         "speaker": "B",
         "start": 131920,
         "text": "And as far as my outlook on life and the way I care about people and the way I care about myself and the things that I care about."
        },
        {
         "confidence": 0.7434086203575134,
         "end": 140422,
         "sentiment": "NEUTRAL",
         "speaker": "B",
         "start": 138880,
         "text": "But I just chose to do this."
        },
        {
         "confidence": 0.4804114103317261,
         "end": 146537,
         "sentiment": "NEUTRAL",
         "speaker": "B",
         "start": 140455,
         "text": "And show business is a money making joke, and I just always liked telling jokes."
        },
        {
         "confidence": 0.6296707987785339,
         "end": 149292,
         "sentiment": "NEGATIVE",
         "speaker": "A",
         "start": 146887,
         "text": "But do you ever feel that you're a joke?"
        },
        {
         "confidence": 0.6824779510498047,
         "end": 150742,
         "sentiment": "NEGATIVE",
         "speaker": "A",
         "start": 149352,
         "text": "That people make fun of you?"
        },
        {
         "confidence": 0.4699747860431671,
         "end": 158722,
         "sentiment": "NEUTRAL",
         "speaker": "B",
         "start": 150790,
         "text": "Oh, I know they make fun of me but actually, all these years the people have thought the joke was on me, but it's actually been on the public."
        },
        {
         "confidence": 0.5173078179359436,
         "end": 169522,
         "sentiment": "POSITIVE",
         "speaker": "B",
         "start": 158830,
         "text": "I know exactly what I'm doing and I can change it at any time or I make more jokes about myself than anybody because I enjoy as I say, I am sure of myself as a person."
        },
        {
         "confidence": 0.8856375217437744,
         "end": 176572,
         "sentiment": "POSITIVE",
         "speaker": "B",
         "start": 169630,
         "text": "I'm sure of my talent and to me and I'm sure of my love for life and that sort of thing."
        },
        {
         "confidence": 0.9655782580375671,
         "end": 177427,
         "sentiment": "POSITIVE",
         "speaker": "B",
         "start": 176605,
         "text": "I'm very content."
        },
        {
         "confidence": 0.9164209961891174,
         "end": 188150,
         "sentiment": "POSITIVE",
         "speaker": "B",
         "start": 177520,
         "text": "I like the kind of person that I am so I can afford to pedal around and do the little around with makeups and clothes and stuff because I am secure with myself."
        },
        {
         "confidence": 0.5861097574234009,
         "end": 193297,
         "sentiment": "NEUTRAL",
         "speaker": "A",
         "start": 188962,
         "text": "Listen, tell me about this marriage of yours this man who nobody ever seems to see."
        },
        {
         "confidence": 0.6701010465621948,
         "end": 196732,
         "sentiment": "NEUTRAL",
         "speaker": "A",
         "start": 193330,
         "text": "We heard that he was here, we heard that he was, but none of us have seen him."
        },
        {
         "confidence": 0.5208736062049866,
         "end": 199477,
         "sentiment": "NEUTRAL",
         "speaker": "A",
         "start": 196810,
         "text": "Paul Dean, you don't see him very much."
        },
        {
         "confidence": 0.8020555973052979,
         "end": 201142,
         "sentiment": "NEUTRAL",
         "speaker": "A",
         "start": 199570,
         "text": "You're on the road most of the time."
        },
        {
         "confidence": 0.619137704372406,
         "end": 203947,
         "sentiment": "NEUTRAL",
         "speaker": "A",
         "start": 201190,
         "text": "You've said, I know that this marriage will always last."
        },
        {
         "confidence": 0.9678488373756409,
         "end": 206150,
         "sentiment": "POSITIVE",
         "speaker": "A",
         "start": 204055,
         "text": "This man gives me everything I need."
        },
        {
         "confidence": 0.7054855227470398,
         "end": 207712,
         "sentiment": "NEUTRAL",
         "speaker": "A",
         "start": 206587,
         "text": "How do you know?"
        },
        {
         "confidence": 0.7071945071220398,
         "end": 209202,
         "sentiment": "NEUTRAL",
         "speaker": "B",
         "start": 207850,
         "text": "Well, I need freedom."
        },
        {
         "confidence": 0.694890022277832,
         "end": 210762,
         "sentiment": "POSITIVE",
         "speaker": "B",
         "start": 209307,
         "text": "The man gives me freedom."
        },
        {
         "confidence": 0.6371146440505981,
         "end": 211947,
         "sentiment": "NEUTRAL",
         "speaker": "A",
         "start": 210837,
         "text": "So why get married?"
        },
        {
         "confidence": 0.6562745571136475,
         "end": 213577,
         "sentiment": "NEUTRAL",
         "speaker": "B",
         "start": 212067,
         "text": "Well, why not?"
        },
        {
         "confidence": 0.6328395009040833,
         "end": 215697,
         "sentiment": "NEUTRAL",
         "speaker": "A",
         "start": 213745,
         "text": "Why, if I don't want most of freedom?"
        },
        {
         "confidence": 0.4891687333583832,
         "end": 218812,
         "sentiment": "NEUTRAL",
         "speaker": "A",
         "start": 215742,
         "text": "Why have a husband away some place with these six weeks a year?"
        },
        {
         "confidence": 0.7640110850334167,
         "end": 220152,
         "sentiment": "NEUTRAL",
         "speaker": "B",
         "start": 218875,
         "text": "He has the same freedom."
        },
        {
         "confidence": 0.5610052347183228,
         "end": 224977,
         "sentiment": "NEGATIVE",
         "speaker": "B",
         "start": 220182,
         "text": "See, the thing of it is you don't find a person that you can be happy with and they can't accept you."
        },
        {
         "confidence": 0.8322866559028625,
         "end": 229147,
         "sentiment": "POSITIVE",
         "speaker": "B",
         "start": 225145,
         "text": "You are and can share the things and to plan for the future and to enjoy your home."
        },
        {
         "confidence": 0.8995410799980164,
         "end": 234672,
         "sentiment": "POSITIVE",
         "speaker": "B",
         "start": 229180,
         "text": "We have our foundation, we have our roots, we have all the things that everybody is looking for and that's happiness in a marriage."
        },
        {
         "confidence": 0.5436835289001465,
         "end": 238872,
         "sentiment": "NEGATIVE",
         "speaker": "B",
         "start": 234717,
         "text": "I've got better things to do than to sit around in my room thinking, oh, it's Carl doing tonight."
        },
        {
         "confidence": 0.8684977889060974,
         "end": 240900,
         "sentiment": "NEUTRAL",
         "speaker": "B",
         "start": 238917,
         "text": "I wonder if he's with somebody and this and that."
        }
       ],
       "speaker_labels": true,
       "speed_boost": false,
       "status": "completed",
       "summarization": false,
       "summary": null,
       "summary_type": null,
       "text": "Dolly where I come from. Would I have called you a hillbilly? If you had of it would have been something very natural but I would have probably kicked your shins or something. No, actually. But when I think of your beliefs and I think of your kind of. People I think you probably are, the people that grew up where I was were the ones that you would consider the little abner people daisy May and that sort of thing. They took that kind of thing from people like us. But we were very proud people, people with a lot of class. It was country class, but it was a great deal of class and most of my people were not that educated but they are very intelligent. Good common sense horse since we called it darling. Did you look like this when you were a kid? Not quite. I mean, you didn't have the blonde wig but when I went to school when you were 11, 12, 13 was it this about you? Well, you mean the full figure? Yeah, that's what I meant. Yeah, that's what you meant. Well, actually I've always been pretty well blessed as a child. I grew up fast. Other members of my family have done the same. My assistant asked me something and I'm going to blame it on her because I wouldn't have had the nerve otherwise. Is it all you? Well, I can't show you. Yeah, I'll take your word for it. I get asked that question. I always answer that because people are in all of the whole thing a lot of people say I have a lot of people say I have it. I always say that if I hadn't had it on my own I'm just the kind of person that would have had me if I made you don't. Have to look like this. You're very beautiful. You don't have to wear the blonde wigs you don't have to wear the extreme clothes. Right? No, it's certainly a choice. I don't like to be like everybody else. I've often made this statement that I would never stoop so low as to be fashionable. That's the easiest thing in the world to do. So I just decided that I would do something that would at least get the attention once they got past the shock of the ridiculous way I looked and all that, then they would see there was a part of me to be appreciated. I'm very real where it counts, and that's inside. And as far as my outlook on life and the way I care about people and the way I care about myself and the things that I care about. But I just chose to do this. And show business is a money making joke, and I just always liked telling jokes. But do you ever feel that you're a joke? That people make fun of you? Oh, I know they make fun of me but actually, all these years the people have thought the joke was on me, but it's actually been on the public. I know exactly what I'm doing and I can change it at any time or I make more jokes about myself than anybody because I enjoy as I say, I am sure of myself as a person. I'm sure of my talent and to me and I'm sure of my love for life and that sort of thing. I'm very content. I like the kind of person that I am so I can afford to pedal around and do the little around with makeups and clothes and stuff because I am secure with myself. Listen, tell me about this marriage of yours this man who nobody ever seems to see. We heard that he was here, we heard that he was, but none of us have seen him. Paul Dean, you don't see him very much. You're on the road most of the time. You've said, I know that this marriage will always last. This man gives me everything I need. How do you know? Well, I need freedom. The man gives me freedom. So why get married? Well, why not? Why, if I don't want most of freedom? Why have a husband away some place with these six weeks a year? He has the same freedom. See, the thing of it is you don't find a person that you can be happy with and they can't accept you. You are and can share the things and to plan for the future and to enjoy your home. We have our foundation, we have our roots, we have all the things that everybody is looking for and that's happiness in a marriage. I've got better things to do than to sit around in my room thinking, oh, it's Carl doing tonight. I wonder if he's with somebody and this and that.",
       "throttled": null,
       "utterances": [
        {
         "confidence": 0.8826016666666668,
         "end": 5127,
         "speaker": "A",
         "start": 462,
         "text": "Dolly where I come from. Would I have called you a hillbilly?",
         "words": [
          {
           "confidence": 0.67758,
           "end": 1187,
           "speaker": "A",
           "start": 462,
           "text": "Dolly"
          },
          {
           "confidence": 0.97134,
           "end": 1897,
           "speaker": "A",
           "start": 1537,
           "text": "where"
          },
          {
           "confidence": 0.81,
           "end": 2167,
           "speaker": "A",
           "start": 1930,
           "text": "I"
          },
          {
           "confidence": 0.9969,
           "end": 2422,
           "speaker": "A",
           "start": 2215,
           "text": "come"
          },
          {
           "confidence": 0.99961,
           "end": 2827,
           "speaker": "A",
           "start": 2455,
           "text": "from."
          },
          {
           "confidence": 0.47957,
           "end": 3127,
           "speaker": "A",
           "start": 2920,
           "text": "Would"
          },
          {
           "confidence": 0.74,
           "end": 3322,
           "speaker": "A",
           "start": 3145,
           "text": "I"
          },
          {
           "confidence": 0.99436,
           "end": 3502,
           "speaker": "A",
           "start": 3355,
           "text": "have"
          },
          {
           "confidence": 0.98301,
           "end": 3742,
           "speaker": "A",
           "start": 3520,
           "text": "called"
          },
          {
           "confidence": 1,
           "end": 3952,
           "speaker": "A",
           "start": 3790,
           "text": "you"
          },
          {
           "confidence": 0.99,
           "end": 4102,
           "speaker": "A",
           "start": 3970,
           "text": "a"
          },
          {
           "confidence": 0.94885,
           "end": 5127,
           "speaker": "A",
           "start": 4120,
           "text": "hillbilly?"
          }
         ]
        },
        {
         "confidence": 0.9216965217391305,
         "end": 11887,
         "speaker": "B",
         "start": 5307,
         "text": "If you had of it would have been something very natural but I would have probably kicked your shins or something. No, actually.",
         "words": [
          {
           "confidence": 0.99907,
           "end": 5647,
           "speaker": "B",
           "start": 5307,
           "text": "If"
          },
          {
           "confidence": 1,
           "end": 5827,
           "speaker": "B",
           "start": 5680,
           "text": "you"
          },
          {
           "confidence": 0.97597,
           "end": 6022,
           "speaker": "B",
           "start": 5845,
           "text": "had"
          },
          {
           "confidence": 0.57,
           "end": 6382,
           "speaker": "B",
           "start": 6055,
           "text": "of"
          },
          {
           "confidence": 0.99784,
           "end": 6652,
           "speaker": "B",
           "start": 6460,
           "text": "it"
          },
          {
           "confidence": 0.99841,
           "end": 6757,
           "speaker": "B",
           "start": 6670,
           "text": "would"
          },
          {
           "confidence": 0.42768,
           "end": 6877,
           "speaker": "B",
           "start": 6760,
           "text": "have"
          },
          {
           "confidence": 0.99804,
           "end": 7072,
           "speaker": "B",
           "start": 6895,
           "text": "been"
          },
          {
           "confidence": 0.99448,
           "end": 7342,
           "speaker": "B",
           "start": 7105,
           "text": "something"
          },
          {
           "confidence": 0.99838,
           "end": 7597,
           "speaker": "B",
           "start": 7390,
           "text": "very"
          },
          {
           "confidence": 0.9994,
           "end": 7977,
           "speaker": "B",
           "start": 7630,
           "text": "natural"
          },
          {
           "confidence": 0.99335,
           "end": 8152,
           "speaker": "B",
           "start": 8007,
           "text": "but"
          },
          {
           "confidence": 1,
           "end": 8257,
           "speaker": "B",
           "start": 8170,
           "text": "I"
          },
          {
           "confidence": 0.98795,
           "end": 8377,
           "speaker": "B",
           "start": 8260,
           "text": "would"
          },
          {
           "confidence": 0.59235,
           "end": 8617,
           "speaker": "B",
           "start": 8395,
           "text": "have"
          },
          {
           "confidence": 0.99872,
           "end": 8962,
           "speaker": "B",
           "start": 8665,
           "text": "probably"
          },
          {
           "confidence": 0.99371,
           "end": 9282,
           "speaker": "B",
           "start": 9025,
           "text": "kicked"
          },
          {
           "confidence": 0.97394,
           "end": 9427,
           "speaker": "B",
           "start": 9297,
           "text": "your"
          },
          {
           "confidence": 0.86004,
           "end": 9717,
           "speaker": "B",
           "start": 9445,
           "text": "shins"
          },
          {
           "confidence": 0.99663,
           "end": 9952,
           "speaker": "B",
           "start": 9777,
           "text": "or"
          },
          {
           "confidence": 0.95692,
           "end": 10550,
           "speaker": "B",
           "start": 9970,
           "text": "something."
          },
          {
           "confidence": 0.93748,
           "end": 11542,
           "speaker": "B",
           "start": 11137,
           "text": "No,"
          },
          {
           "confidence": 0.94866,
           "end": 11887,
           "speaker": "B",
           "start": 11590,
           "text": "actually."
          }
         ]
        },
        {
         "confidence": 0.8352664285714285,
         "end": 14407,
         "speaker": "A",
         "start": 11950,
         "text": "But when I think of your beliefs and I think of your kind of.",
         "words": [
          {
           "confidence": 0.72545,
           "end": 12127,
           "speaker": "A",
           "start": 11950,
           "text": "But"
          },
          {
           "confidence": 0.98347,
           "end": 12277,
           "speaker": "A",
           "start": 12145,
           "text": "when"
          },
          {
           "confidence": 1,
           "end": 12427,
           "speaker": "A",
           "start": 12295,
           "text": "I"
          },
          {
           "confidence": 0.99512,
           "end": 12577,
           "speaker": "A",
           "start": 12445,
           "text": "think"
          },
          {
           "confidence": 0.99,
           "end": 12727,
           "speaker": "A",
           "start": 12595,
           "text": "of"
          },
          {
           "confidence": 0.89778,
           "end": 12877,
           "speaker": "A",
           "start": 12745,
           "text": "your"
          },
          {
           "confidence": 0.28241,
           "end": 13257,
           "speaker": "A",
           "start": 12895,
           "text": "beliefs"
          },
          {
           "confidence": 0.27,
           "end": 13402,
           "speaker": "A",
           "start": 13272,
           "text": "and"
          },
          {
           "confidence": 0.92,
           "end": 13552,
           "speaker": "A",
           "start": 13420,
           "text": "I"
          },
          {
           "confidence": 0.78147,
           "end": 13747,
           "speaker": "A",
           "start": 13570,
           "text": "think"
          },
          {
           "confidence": 0.97,
           "end": 13927,
           "speaker": "A",
           "start": 13780,
           "text": "of"
          },
          {
           "confidence": 0.94683,
           "end": 14122,
           "speaker": "A",
           "start": 13945,
           "text": "your"
          },
          {
           "confidence": 0.9912,
           "end": 14302,
           "speaker": "A",
           "start": 14155,
           "text": "kind"
          },
          {
           "confidence": 0.94,
           "end": 14407,
           "speaker": "A",
           "start": 14320,
           "text": "of."
          }
         ]
        },
        {
         "confidence": 0.8974601123595504,
         "end": 43047,
         "speaker": "B",
         "start": 14410,
         "text": "People I think you probably are, the people that grew up where I was were the ones that you would consider the little abner people daisy May and that sort of thing. They took that kind of thing from people like us. But we were very proud people, people with a lot of class. It was country class, but it was a great deal of class and most of my people were not that educated but they are very intelligent. Good common sense horse since we called it darling.",
         "words": [
          {
           "confidence": 0.97919,
           "end": 14617,
           "speaker": "B",
           "start": 14410,
           "text": "People"
          },
          {
           "confidence": 0.96,
           "end": 14827,
           "speaker": "B",
           "start": 14665,
           "text": "I"
          },
          {
           "confidence": 0.99815,
           "end": 15022,
           "speaker": "B",
           "start": 14845,
           "text": "think"
          },
          {
           "confidence": 1,
           "end": 15247,
           "speaker": "B",
           "start": 15055,
           "text": "you"
          },
          {
           "confidence": 0.99979,
           "end": 15607,
           "speaker": "B",
           "start": 15280,
           "text": "probably"
          },
          {
           "confidence": 0.99749,
           "end": 16147,
           "speaker": "B",
           "start": 15685,
           "text": "are,"
          },
          {
           "confidence": 0.77,
           "end": 16522,
           "speaker": "B",
           "start": 16255,
           "text": "the"
          },
          {
           "confidence": 0.99996,
           "end": 16747,
           "speaker": "B",
           "start": 16555,
           "text": "people"
          },
          {
           "confidence": 0.71,
           "end": 16972,
           "speaker": "B",
           "start": 16780,
           "text": "that"
          },
          {
           "confidence": 0.97203,
           "end": 17232,
           "speaker": "B",
           "start": 17005,
           "text": "grew"
          },
          {
           "confidence": 0.99684,
           "end": 17422,
           "speaker": "B",
           "start": 17247,
           "text": "up"
          },
          {
           "confidence": 0.98785,
           "end": 17602,
           "speaker": "B",
           "start": 17455,
           "text": "where"
          },
          {
           "confidence": 1,
           "end": 17752,
           "speaker": "B",
           "start": 17620,
           "text": "I"
          },
          {
           "confidence": 0.99786,
           "end": 18037,
           "speaker": "B",
           "start": 17770,
           "text": "was"
          },
          {
           "confidence": 0.95812,
           "end": 18277,
           "speaker": "B",
           "start": 18100,
           "text": "were"
          },
          {
           "confidence": 0.55,
           "end": 18427,
           "speaker": "B",
           "start": 18295,
           "text": "the"
          },
          {
           "confidence": 1,
           "end": 18667,
           "speaker": "B",
           "start": 18445,
           "text": "ones"
          },
          {
           "confidence": 0.78,
           "end": 18877,
           "speaker": "B",
           "start": 18715,
           "text": "that"
          },
          {
           "confidence": 0.67,
           "end": 19027,
           "speaker": "B",
           "start": 18895,
           "text": "you"
          },
          {
           "confidence": 0.68103,
           "end": 19222,
           "speaker": "B",
           "start": 19045,
           "text": "would"
          },
          {
           "confidence": 0.99993,
           "end": 19537,
           "speaker": "B",
           "start": 19255,
           "text": "consider"
          },
          {
           "confidence": 0.8,
           "end": 19822,
           "speaker": "B",
           "start": 19600,
           "text": "the"
          },
          {
           "confidence": 0.93292,
           "end": 20047,
           "speaker": "B",
           "start": 19855,
           "text": "little"
          },
          {
           "confidence": 0.8086,
           "end": 20442,
           "speaker": "B",
           "start": 20080,
           "text": "abner"
          },
          {
           "confidence": 0.99858,
           "end": 20947,
           "speaker": "B",
           "start": 20502,
           "text": "people"
          },
          {
           "confidence": 0.41929,
           "end": 21552,
           "speaker": "B",
           "start": 21055,
           "text": "daisy"
          },
          {
           "confidence": 0.6,
           "end": 21772,
           "speaker": "B",
           "start": 21582,
           "text": "May"
          },
          {
           "confidence": 0.97,
           "end": 21952,
           "speaker": "B",
           "start": 21805,
           "text": "and"
          },
          {
           "confidence": 0.99,
           "end": 22102,
           "speaker": "B",
           "start": 21970,
           "text": "that"
          },
          {
           "confidence": 0.96498,
           "end": 22252,
           "speaker": "B",
           "start": 22120,
           "text": "sort"
          },
          {
           "confidence": 0.99,
           "end": 22357,
           "speaker": "B",
           "start": 22270,
           "text": "of"
          },
          {
           "confidence": 0.99954,
           "end": 22522,
           "speaker": "B",
           "start": 22360,
           "text": "thing."
          },
          {
           "confidence": 0.99553,
           "end": 22702,
           "speaker": "B",
           "start": 22555,
           "text": "They"
          },
          {
           "confidence": 0.79385,
           "end": 22942,
           "speaker": "B",
           "start": 22720,
           "text": "took"
          },
          {
           "confidence": 1,
           "end": 23242,
           "speaker": "B",
           "start": 22990,
           "text": "that"
          },
          {
           "confidence": 0.98289,
           "end": 23497,
           "speaker": "B",
           "start": 23290,
           "text": "kind"
          },
          {
           "confidence": 0.99,
           "end": 24125,
           "speaker": "B",
           "start": 23530,
           "text": "of"
          },
          {
           "confidence": 0.9987,
           "end": 25357,
           "speaker": "B",
           "start": 24862,
           "text": "thing"
          },
          {
           "confidence": 0.99936,
           "end": 25762,
           "speaker": "B",
           "start": 25435,
           "text": "from"
          },
          {
           "confidence": 0.99988,
           "end": 26227,
           "speaker": "B",
           "start": 25825,
           "text": "people"
          },
          {
           "confidence": 0.9997,
           "end": 26662,
           "speaker": "B",
           "start": 26320,
           "text": "like"
          },
          {
           "confidence": 1,
           "end": 26992,
           "speaker": "B",
           "start": 26725,
           "text": "us."
          },
          {
           "confidence": 0.92168,
           "end": 27517,
           "speaker": "B",
           "start": 27040,
           "text": "But"
          },
          {
           "confidence": 0.99858,
           "end": 27877,
           "speaker": "B",
           "start": 27640,
           "text": "we"
          },
          {
           "confidence": 0.72596,
           "end": 28072,
           "speaker": "B",
           "start": 27895,
           "text": "were"
          },
          {
           "confidence": 0.99716,
           "end": 28432,
           "speaker": "B",
           "start": 28105,
           "text": "very"
          },
          {
           "confidence": 0.99965,
           "end": 28962,
           "speaker": "B",
           "start": 28510,
           "text": "proud"
          },
          {
           "confidence": 0.9653,
           "end": 29497,
           "speaker": "B",
           "start": 29037,
           "text": "people,"
          },
          {
           "confidence": 0.66054,
           "end": 29917,
           "speaker": "B",
           "start": 29605,
           "text": "people"
          },
          {
           "confidence": 0.90484,
           "end": 30172,
           "speaker": "B",
           "start": 29965,
           "text": "with"
          },
          {
           "confidence": 0.99,
           "end": 30307,
           "speaker": "B",
           "start": 30205,
           "text": "a"
          },
          {
           "confidence": 0.96268,
           "end": 30472,
           "speaker": "B",
           "start": 30310,
           "text": "lot"
          },
          {
           "confidence": 1,
           "end": 30652,
           "speaker": "B",
           "start": 30505,
           "text": "of"
          },
          {
           "confidence": 0.99519,
           "end": 30937,
           "speaker": "B",
           "start": 30670,
           "text": "class."
          },
          {
           "confidence": 0.98851,
           "end": 31177,
           "speaker": "B",
           "start": 31000,
           "text": "It"
          },
          {
           "confidence": 0.99819,
           "end": 31372,
           "speaker": "B",
           "start": 31195,
           "text": "was"
          },
          {
           "confidence": 0.99966,
           "end": 31732,
           "speaker": "B",
           "start": 31405,
           "text": "country"
          },
          {
           "confidence": 0.99909,
           "end": 32137,
           "speaker": "B",
           "start": 31810,
           "text": "class,"
          },
          {
           "confidence": 0.99037,
           "end": 32377,
           "speaker": "B",
           "start": 32200,
           "text": "but"
          },
          {
           "confidence": 0.99778,
           "end": 32527,
           "speaker": "B",
           "start": 32395,
           "text": "it"
          },
          {
           "confidence": 0.99936,
           "end": 32722,
           "speaker": "B",
           "start": 32545,
           "text": "was"
          },
          {
           "confidence": 1,
           "end": 32857,
           "speaker": "B",
           "start": 32755,
           "text": "a"
          },
          {
           "confidence": 0.91581,
           "end": 33067,
           "speaker": "B",
           "start": 32860,
           "text": "great"
          },
          {
           "confidence": 0.99976,
           "end": 33322,
           "speaker": "B",
           "start": 33115,
           "text": "deal"
          },
          {
           "confidence": 0.24,
           "end": 33502,
           "speaker": "B",
           "start": 33355,
           "text": "of"
          },
          {
           "confidence": 0.99352,
           "end": 33742,
           "speaker": "B",
           "start": 33520,
           "text": "class"
          },
          {
           "confidence": 0.69,
           "end": 34402,
           "speaker": "B",
           "start": 33790,
           "text": "and"
          },
          {
           "confidence": 0.99981,
           "end": 34942,
           "speaker": "B",
           "start": 34570,
           "text": "most"
          },
          {
           "confidence": 1,
           "end": 35600,
           "speaker": "B",
           "start": 34990,
           "text": "of"
          },
          {
           "confidence": 1,
           "end": 36472,
           "speaker": "B",
           "start": 36112,
           "text": "my"
          },
          {
           "confidence": 0.99994,
           "end": 36742,
           "speaker": "B",
           "start": 36505,
           "text": "people"
          },
          {
           "confidence": 0.50897,
           "end": 37132,
           "speaker": "B",
           "start": 36790,
           "text": "were"
          },
          {
           "confidence": 0.99948,
           "end": 37402,
           "speaker": "B",
           "start": 37210,
           "text": "not"
          },
          {
           "confidence": 0.75,
           "end": 37642,
           "speaker": "B",
           "start": 37420,
           "text": "that"
          },
          {
           "confidence": 0.99937,
           "end": 38307,
           "speaker": "B",
           "start": 37690,
           "text": "educated"
          },
          {
           "confidence": 0.98464,
           "end": 38602,
           "speaker": "B",
           "start": 38397,
           "text": "but"
          },
          {
           "confidence": 0.52894,
           "end": 38797,
           "speaker": "B",
           "start": 38620,
           "text": "they"
          },
          {
           "confidence": 0.99092,
           "end": 39112,
           "speaker": "B",
           "start": 38830,
           "text": "are"
          },
          {
           "confidence": 0.99672,
           "end": 39622,
           "speaker": "B",
           "start": 39175,
           "text": "very"
          },
          {
           "confidence": 0.54261,
           "end": 40422,
           "speaker": "B",
           "start": 39730,
           "text": "intelligent."
          },
          {
           "confidence": 0.99528,
           "end": 40762,
           "speaker": "B",
           "start": 40467,
           "text": "Good"
          },
          {
           "confidence": 0.99385,
           "end": 41092,
           "speaker": "B",
           "start": 40825,
           "text": "common"
          },
          {
           "confidence": 0.96342,
           "end": 41437,
           "speaker": "B",
           "start": 41140,
           "text": "sense"
          },
          {
           "confidence": 0.95392,
           "end": 41772,
           "speaker": "B",
           "start": 41500,
           "text": "horse"
          },
          {
           "confidence": 0.35407,
           "end": 42022,
           "speaker": "B",
           "start": 41817,
           "text": "since"
          },
          {
           "confidence": 0.99942,
           "end": 42202,
           "speaker": "B",
           "start": 42055,
           "text": "we"
          },
          {
           "confidence": 0.98713,
           "end": 42397,
           "speaker": "B",
           "start": 42220,
           "text": "called"
          },
          {
           "confidence": 0.99521,
           "end": 42667,
           "speaker": "B",
           "start": 42430,
           "text": "it"
          },
          {
           "confidence": 0.15456,
           "end": 43047,
           "speaker": "B",
           "start": 42715,
           "text": "darling."
          }
         ]
        },
        {
         "confidence": 0.9669320000000001,
         "end": 44917,
         "speaker": "A",
         "start": 43092,
         "text": "Did you look like this when you were a kid?",
         "words": [
          {
           "confidence": 0.99824,
           "end": 43252,
           "speaker": "A",
           "start": 43092,
           "text": "Did"
          },
          {
           "confidence": 1,
           "end": 43402,
           "speaker": "A",
           "start": 43270,
           "text": "you"
          },
          {
           "confidence": 0.99496,
           "end": 43597,
           "speaker": "A",
           "start": 43420,
           "text": "look"
          },
          {
           "confidence": 0.99901,
           "end": 43777,
           "speaker": "A",
           "start": 43630,
           "text": "like"
          },
          {
           "confidence": 0.99083,
           "end": 43972,
           "speaker": "A",
           "start": 43795,
           "text": "this"
          },
          {
           "confidence": 0.99979,
           "end": 44107,
           "speaker": "A",
           "start": 44005,
           "text": "when"
          },
          {
           "confidence": 0.73,
           "end": 44227,
           "speaker": "A",
           "start": 44110,
           "text": "you"
          },
          {
           "confidence": 0.97688,
           "end": 44377,
           "speaker": "A",
           "start": 44245,
           "text": "were"
          },
          {
           "confidence": 0.98,
           "end": 44482,
           "speaker": "A",
           "start": 44395,
           "text": "a"
          },
          {
           "confidence": 0.99961,
           "end": 44917,
           "speaker": "A",
           "start": 44485,
           "text": "kid?"
          }
         ]
        },
        {
         "confidence": 0.98238,
         "end": 45757,
         "speaker": "B",
         "start": 45040,
         "text": "Not quite.",
         "words": [
          {
           "confidence": 0.99579,
           "end": 45367,
           "speaker": "B",
           "start": 45040,
           "text": "Not"
          },
          {
           "confidence": 0.96897,
           "end": 45757,
           "speaker": "B",
           "start": 45415,
           "text": "quite."
          }
         ]
        },
        {
         "confidence": 0.8672840000000004,
         "end": 55537,
         "speaker": "A",
         "start": 45835,
         "text": "I mean, you didn't have the blonde wig but when I went to school when you were 11, 12, 13 was it this about you?",
         "words": [
          {
           "confidence": 0.55,
           "end": 45982,
           "speaker": "A",
           "start": 45835,
           "text": "I"
          },
          {
           "confidence": 0.97453,
           "end": 46462,
           "speaker": "A",
           "start": 45985,
           "text": "mean,"
          },
          {
           "confidence": 0.97,
           "end": 46852,
           "speaker": "A",
           "start": 46600,
           "text": "you"
          },
          {
           "confidence": 0.90202,
           "end": 47007,
           "speaker": "A",
           "start": 46870,
           "text": "didn't"
          },
          {
           "confidence": 0.83442,
           "end": 47152,
           "speaker": "A",
           "start": 47022,
           "text": "have"
          },
          {
           "confidence": 0.91,
           "end": 47257,
           "speaker": "A",
           "start": 47170,
           "text": "the"
          },
          {
           "confidence": 0.3718,
           "end": 47577,
           "speaker": "A",
           "start": 47260,
           "text": "blonde"
          },
          {
           "confidence": 0.54158,
           "end": 47802,
           "speaker": "A",
           "start": 47607,
           "text": "wig"
          },
          {
           "confidence": 0.93742,
           "end": 47977,
           "speaker": "A",
           "start": 47832,
           "text": "but"
          },
          {
           "confidence": 0.98504,
           "end": 48127,
           "speaker": "A",
           "start": 47995,
           "text": "when"
          },
          {
           "confidence": 0.5,
           "end": 48277,
           "speaker": "A",
           "start": 48145,
           "text": "I"
          },
          {
           "confidence": 0.99772,
           "end": 48472,
           "speaker": "A",
           "start": 48295,
           "text": "went"
          },
          {
           "confidence": 1,
           "end": 48697,
           "speaker": "A",
           "start": 48505,
           "text": "to"
          },
          {
           "confidence": 0.99998,
           "end": 49417,
           "speaker": "A",
           "start": 48730,
           "text": "school"
          },
          {
           "confidence": 0.99901,
           "end": 49972,
           "speaker": "A",
           "start": 49615,
           "text": "when"
          },
          {
           "confidence": 1,
           "end": 50152,
           "speaker": "A",
           "start": 50005,
           "text": "you"
          },
          {
           "confidence": 0.89741,
           "end": 50842,
           "speaker": "A",
           "start": 50170,
           "text": "were"
          },
          {
           "confidence": 0.99,
           "end": 51567,
           "speaker": "A",
           "start": 51040,
           "text": "11,"
          },
          {
           "confidence": 1,
           "end": 51937,
           "speaker": "A",
           "start": 51627,
           "text": "12,"
          },
          {
           "confidence": 0.92,
           "end": 52712,
           "speaker": "A",
           "start": 52000,
           "text": "13"
          },
          {
           "confidence": 0.98529,
           "end": 54022,
           "speaker": "A",
           "start": 53662,
           "text": "was"
          },
          {
           "confidence": 0.5651,
           "end": 54472,
           "speaker": "A",
           "start": 54055,
           "text": "it"
          },
          {
           "confidence": 0.94368,
           "end": 54892,
           "speaker": "A",
           "start": 54580,
           "text": "this"
          },
          {
           "confidence": 0.9871,
           "end": 55192,
           "speaker": "A",
           "start": 54940,
           "text": "about"
          },
          {
           "confidence": 0.92,
           "end": 55537,
           "speaker": "A",
           "start": 55240,
           "text": "you?"
          }
         ]
        },
        {
         "confidence": 0.9582083333333333,
         "end": 59600,
         "speaker": "B",
         "start": 55600,
         "text": "Well, you mean the full figure?",
         "words": [
          {
           "confidence": 0.90698,
           "end": 56002,
           "speaker": "B",
           "start": 55600,
           "text": "Well,"
          },
          {
           "confidence": 0.97,
           "end": 56302,
           "speaker": "B",
           "start": 56095,
           "text": "you"
          },
          {
           "confidence": 0.99446,
           "end": 56857,
           "speaker": "B",
           "start": 56320,
           "text": "mean"
          },
          {
           "confidence": 0.99,
           "end": 57367,
           "speaker": "B",
           "start": 57010,
           "text": "the"
          },
          {
           "confidence": 0.88906,
           "end": 58025,
           "speaker": "B",
           "start": 57415,
           "text": "full"
          },
          {
           "confidence": 0.99875,
           "end": 59600,
           "speaker": "B",
           "start": 58837,
           "text": "figure?"
          }
         ]
        },
        {
         "confidence": 0.821476,
         "end": 61347,
         "speaker": "A",
         "start": 60262,
         "text": "Yeah, that's what I meant.",
         "words": [
          {
           "confidence": 0.7799,
           "end": 60622,
           "speaker": "A",
           "start": 60262,
           "text": "Yeah,"
          },
          {
           "confidence": 0.85758,
           "end": 60882,
           "speaker": "A",
           "start": 60655,
           "text": "that's"
          },
          {
           "confidence": 0.98243,
           "end": 61027,
           "speaker": "A",
           "start": 60897,
           "text": "what"
          },
          {
           "confidence": 0.99,
           "end": 61132,
           "speaker": "A",
           "start": 61045,
           "text": "I"
          },
          {
           "confidence": 0.49747,
           "end": 61347,
           "speaker": "A",
           "start": 61135,
           "text": "meant."
          }
         ]
        },
        {
         "confidence": 0.9541813793103447,
         "end": 71600,
         "speaker": "B",
         "start": 61392,
         "text": "Yeah, that's what you meant. Well, actually I've always been pretty well blessed as a child. I grew up fast. Other members of my family have done the same.",
         "words": [
          {
           "confidence": 0.68109,
           "end": 61777,
           "speaker": "B",
           "start": 61392,
           "text": "Yeah,"
          },
          {
           "confidence": 0.7665,
           "end": 62127,
           "speaker": "B",
           "start": 61870,
           "text": "that's"
          },
          {
           "confidence": 0.99455,
           "end": 62302,
           "speaker": "B",
           "start": 62157,
           "text": "what"
          },
          {
           "confidence": 0.97,
           "end": 62452,
           "speaker": "B",
           "start": 62320,
           "text": "you"
          },
          {
           "confidence": 0.99681,
           "end": 62787,
           "speaker": "B",
           "start": 62470,
           "text": "meant."
          },
          {
           "confidence": 0.78306,
           "end": 63142,
           "speaker": "B",
           "start": 62862,
           "text": "Well,"
          },
          {
           "confidence": 0.99578,
           "end": 63577,
           "speaker": "B",
           "start": 63190,
           "text": "actually"
          },
          {
           "confidence": 0.98427,
           "end": 64002,
           "speaker": "B",
           "start": 63670,
           "text": "I've"
          },
          {
           "confidence": 0.99991,
           "end": 64267,
           "speaker": "B",
           "start": 64032,
           "text": "always"
          },
          {
           "confidence": 0.77262,
           "end": 64612,
           "speaker": "B",
           "start": 64315,
           "text": "been"
          },
          {
           "confidence": 0.99812,
           "end": 64897,
           "speaker": "B",
           "start": 64675,
           "text": "pretty"
          },
          {
           "confidence": 0.99879,
           "end": 65167,
           "speaker": "B",
           "start": 64930,
           "text": "well"
          },
          {
           "confidence": 0.99073,
           "end": 65967,
           "speaker": "B",
           "start": 65215,
           "text": "blessed"
          },
          {
           "confidence": 0.95742,
           "end": 66397,
           "speaker": "B",
           "start": 66102,
           "text": "as"
          },
          {
           "confidence": 0.99,
           "end": 66532,
           "speaker": "B",
           "start": 66430,
           "text": "a"
          },
          {
           "confidence": 0.99971,
           "end": 66742,
           "speaker": "B",
           "start": 66535,
           "text": "child."
          },
          {
           "confidence": 0.99,
           "end": 66952,
           "speaker": "B",
           "start": 66790,
           "text": "I"
          },
          {
           "confidence": 0.99896,
           "end": 67152,
           "speaker": "B",
           "start": 66970,
           "text": "grew"
          },
          {
           "confidence": 0.99895,
           "end": 67372,
           "speaker": "B",
           "start": 67182,
           "text": "up"
          },
          {
           "confidence": 0.99798,
           "end": 68000,
           "speaker": "B",
           "start": 67405,
           "text": "fast."
          },
          {
           "confidence": 0.99289,
           "end": 68812,
           "speaker": "B",
           "start": 68362,
           "text": "Other"
          },
          {
           "confidence": 0.99895,
           "end": 69142,
           "speaker": "B",
           "start": 68875,
           "text": "members"
          },
          {
           "confidence": 0.99,
           "end": 69352,
           "speaker": "B",
           "start": 69190,
           "text": "of"
          },
          {
           "confidence": 1,
           "end": 69547,
           "speaker": "B",
           "start": 69370,
           "text": "my"
          },
          {
           "confidence": 0.99981,
           "end": 70132,
           "speaker": "B",
           "start": 69580,
           "text": "family"
          },
          {
           "confidence": 0.98791,
           "end": 70597,
           "speaker": "B",
           "start": 70285,
           "text": "have"
          },
          {
           "confidence": 0.99931,
           "end": 70822,
           "speaker": "B",
           "start": 70630,
           "text": "done"
          },
          {
           "confidence": 0.9,
           "end": 71002,
           "speaker": "B",
           "start": 70855,
           "text": "the"
          },
          {
           "confidence": 0.93714,
           "end": 71600,
           "speaker": "B",
           "start": 71020,
           "text": "same."
          }
         ]
        },
        {
         "confidence": 0.9303659999999999,
         "end": 78575,
         "speaker": "A",
         "start": 72262,
         "text": "My assistant asked me something and I'm going to blame it on her because I wouldn't have had the nerve otherwise. Is it all you?",
         "words": [
          {
           "confidence": 0.99,
           "end": 72802,
           "speaker": "A",
           "start": 72262,
           "text": "My"
          },
          {
           "confidence": 0.97235,
           "end": 73422,
           "speaker": "A",
           "start": 72895,
           "text": "assistant"
          },
          {
           "confidence": 0.97547,
           "end": 73672,
           "speaker": "A",
           "start": 73467,
           "text": "asked"
          },
          {
           "confidence": 1,
           "end": 73897,
           "speaker": "A",
           "start": 73705,
           "text": "me"
          },
          {
           "confidence": 0.99942,
           "end": 74212,
           "speaker": "A",
           "start": 73930,
           "text": "something"
          },
          {
           "confidence": 0.98,
           "end": 74452,
           "speaker": "A",
           "start": 74275,
           "text": "and"
          },
          {
           "confidence": 0.98842,
           "end": 74607,
           "speaker": "A",
           "start": 74470,
           "text": "I'm"
          },
          {
           "confidence": 0.99684,
           "end": 74707,
           "speaker": "A",
           "start": 74622,
           "text": "going"
          },
          {
           "confidence": 1,
           "end": 74782,
           "speaker": "A",
           "start": 74710,
           "text": "to"
          },
          {
           "confidence": 0.99642,
           "end": 74952,
           "speaker": "A",
           "start": 74785,
           "text": "blame"
          },
          {
           "confidence": 0.43117,
           "end": 75127,
           "speaker": "A",
           "start": 74982,
           "text": "it"
          },
          {
           "confidence": 0.94945,
           "end": 75277,
           "speaker": "A",
           "start": 75145,
           "text": "on"
          },
          {
           "confidence": 0.9705,
           "end": 75427,
           "speaker": "A",
           "start": 75295,
           "text": "her"
          },
          {
           "confidence": 0.94363,
           "end": 75577,
           "speaker": "A",
           "start": 75445,
           "text": "because"
          },
          {
           "confidence": 1,
           "end": 75682,
           "speaker": "A",
           "start": 75595,
           "text": "I"
          },
          {
           "confidence": 0.61853,
           "end": 75882,
           "speaker": "A",
           "start": 75685,
           "text": "wouldn't"
          },
          {
           "confidence": 0.98607,
           "end": 75982,
           "speaker": "A",
           "start": 75897,
           "text": "have"
          },
          {
           "confidence": 0.8438,
           "end": 76102,
           "speaker": "A",
           "start": 75985,
           "text": "had"
          },
          {
           "confidence": 0.95,
           "end": 76207,
           "speaker": "A",
           "start": 76120,
           "text": "the"
          },
          {
           "confidence": 0.69972,
           "end": 76497,
           "speaker": "A",
           "start": 76210,
           "text": "nerve"
          },
          {
           "confidence": 0.99454,
           "end": 77172,
           "speaker": "A",
           "start": 76542,
           "text": "otherwise."
          },
          {
           "confidence": 0.99,
           "end": 77527,
           "speaker": "A",
           "start": 77292,
           "text": "Is"
          },
          {
           "confidence": 0.98512,
           "end": 77722,
           "speaker": "A",
           "start": 77545,
           "text": "it"
          },
          {
           "confidence": 0.9977,
           "end": 77947,
           "speaker": "A",
           "start": 77755,
           "text": "all"
          },
          {
           "confidence": 1,
           "end": 78575,
           "speaker": "A",
           "start": 77980,
           "text": "you?"
          }
         ]
        },
        {
         "confidence": 0.9480346575342465,
         "end": 99327,
         "speaker": "B",
         "start": 79762,
         "text": "Well, I can't show you. Yeah, I'll take your word for it. I get asked that question. I always answer that because people are in all of the whole thing a lot of people say I have a lot of people say I have it. I always say that if I hadn't had it on my own I'm just the kind of person that would have had me if I made you don't.",
         "words": [
          {
           "confidence": 0.96937,
           "end": 80122,
           "speaker": "B",
           "start": 79762,
           "text": "Well,"
          },
          {
           "confidence": 1,
           "end": 80302,
           "speaker": "B",
           "start": 80155,
           "text": "I"
          },
          {
           "confidence": 0.98754,
           "end": 80622,
           "speaker": "B",
           "start": 80320,
           "text": "can't"
          },
          {
           "confidence": 0.99379,
           "end": 80917,
           "speaker": "B",
           "start": 80667,
           "text": "show"
          },
          {
           "confidence": 0.86,
           "end": 81217,
           "speaker": "B",
           "start": 80965,
           "text": "you."
          },
          {
           "confidence": 0.02634,
           "end": 81875,
           "speaker": "B",
           "start": 81265,
           "text": "Yeah,"
          },
          {
           "confidence": 0.75518,
           "end": 82977,
           "speaker": "B",
           "start": 82612,
           "text": "I'll"
          },
          {
           "confidence": 0.97307,
           "end": 83197,
           "speaker": "B",
           "start": 83007,
           "text": "take"
          },
          {
           "confidence": 0.93305,
           "end": 83377,
           "speaker": "B",
           "start": 83230,
           "text": "your"
          },
          {
           "confidence": 0.92201,
           "end": 83617,
           "speaker": "B",
           "start": 83395,
           "text": "word"
          },
          {
           "confidence": 0.9922,
           "end": 83827,
           "speaker": "B",
           "start": 83665,
           "text": "for"
          },
          {
           "confidence": 0.96484,
           "end": 84022,
           "speaker": "B",
           "start": 83845,
           "text": "it."
          },
          {
           "confidence": 0.97,
           "end": 84202,
           "speaker": "B",
           "start": 84055,
           "text": "I"
          },
          {
           "confidence": 0.98574,
           "end": 84397,
           "speaker": "B",
           "start": 84220,
           "text": "get"
          },
          {
           "confidence": 0.9961,
           "end": 84667,
           "speaker": "B",
           "start": 84430,
           "text": "asked"
          },
          {
           "confidence": 1,
           "end": 84922,
           "speaker": "B",
           "start": 84715,
           "text": "that"
          },
          {
           "confidence": 0.99931,
           "end": 85237,
           "speaker": "B",
           "start": 84955,
           "text": "question."
          },
          {
           "confidence": 0.94,
           "end": 85747,
           "speaker": "B",
           "start": 85300,
           "text": "I"
          },
          {
           "confidence": 0.99773,
           "end": 86212,
           "speaker": "B",
           "start": 85855,
           "text": "always"
          },
          {
           "confidence": 0.99908,
           "end": 86542,
           "speaker": "B",
           "start": 86275,
           "text": "answer"
          },
          {
           "confidence": 0.98,
           "end": 86977,
           "speaker": "B",
           "start": 86590,
           "text": "that"
          },
          {
           "confidence": 0.98424,
           "end": 87367,
           "speaker": "B",
           "start": 87070,
           "text": "because"
          },
          {
           "confidence": 0.99761,
           "end": 87892,
           "speaker": "B",
           "start": 87415,
           "text": "people"
          },
          {
           "confidence": 0.99725,
           "end": 88297,
           "speaker": "B",
           "start": 88015,
           "text": "are"
          },
          {
           "confidence": 0.95969,
           "end": 88612,
           "speaker": "B",
           "start": 88330,
           "text": "in"
          },
          {
           "confidence": 0.9505,
           "end": 88852,
           "speaker": "B",
           "start": 88675,
           "text": "all"
          },
          {
           "confidence": 0.89,
           "end": 89047,
           "speaker": "B",
           "start": 88870,
           "text": "of"
          },
          {
           "confidence": 1,
           "end": 89227,
           "speaker": "B",
           "start": 89080,
           "text": "the"
          },
          {
           "confidence": 0.99728,
           "end": 89422,
           "speaker": "B",
           "start": 89245,
           "text": "whole"
          },
          {
           "confidence": 0.9927,
           "end": 89737,
           "speaker": "B",
           "start": 89455,
           "text": "thing"
          },
          {
           "confidence": 0.98,
           "end": 89932,
           "speaker": "B",
           "start": 89800,
           "text": "a"
          },
          {
           "confidence": 0.99852,
           "end": 90052,
           "speaker": "B",
           "start": 89935,
           "text": "lot"
          },
          {
           "confidence": 1,
           "end": 90157,
           "speaker": "B",
           "start": 90070,
           "text": "of"
          },
          {
           "confidence": 0.99992,
           "end": 90367,
           "speaker": "B",
           "start": 90160,
           "text": "people"
          },
          {
           "confidence": 0.99875,
           "end": 90622,
           "speaker": "B",
           "start": 90415,
           "text": "say"
          },
          {
           "confidence": 0.99,
           "end": 90802,
           "speaker": "B",
           "start": 90655,
           "text": "I"
          },
          {
           "confidence": 0.99601,
           "end": 90997,
           "speaker": "B",
           "start": 90820,
           "text": "have"
          },
          {
           "confidence": 0.73,
           "end": 91177,
           "speaker": "B",
           "start": 91030,
           "text": "a"
          },
          {
           "confidence": 0.99993,
           "end": 91282,
           "speaker": "B",
           "start": 91195,
           "text": "lot"
          },
          {
           "confidence": 0.99,
           "end": 91402,
           "speaker": "B",
           "start": 91285,
           "text": "of"
          },
          {
           "confidence": 0.99976,
           "end": 91912,
           "speaker": "B",
           "start": 91420,
           "text": "people"
          },
          {
           "confidence": 0.99534,
           "end": 92347,
           "speaker": "B",
           "start": 92050,
           "text": "say"
          },
          {
           "confidence": 0.96,
           "end": 92572,
           "speaker": "B",
           "start": 92380,
           "text": "I"
          },
          {
           "confidence": 0.88454,
           "end": 92797,
           "speaker": "B",
           "start": 92605,
           "text": "have"
          },
          {
           "confidence": 0.65154,
           "end": 93067,
           "speaker": "B",
           "start": 92830,
           "text": "it."
          },
          {
           "confidence": 0.8,
           "end": 93277,
           "speaker": "B",
           "start": 93115,
           "text": "I"
          },
          {
           "confidence": 0.96177,
           "end": 93562,
           "speaker": "B",
           "start": 93295,
           "text": "always"
          },
          {
           "confidence": 0.99866,
           "end": 93982,
           "speaker": "B",
           "start": 93625,
           "text": "say"
          },
          {
           "confidence": 1,
           "end": 94297,
           "speaker": "B",
           "start": 94060,
           "text": "that"
          },
          {
           "confidence": 0.99877,
           "end": 94477,
           "speaker": "B",
           "start": 94330,
           "text": "if"
          },
          {
           "confidence": 1,
           "end": 94627,
           "speaker": "B",
           "start": 94495,
           "text": "I"
          },
          {
           "confidence": 0.96649,
           "end": 94917,
           "speaker": "B",
           "start": 94645,
           "text": "hadn't"
          },
          {
           "confidence": 0.99702,
           "end": 95152,
           "speaker": "B",
           "start": 94977,
           "text": "had"
          },
          {
           "confidence": 0.9982,
           "end": 95302,
           "speaker": "B",
           "start": 95170,
           "text": "it"
          },
          {
           "confidence": 0.99937,
           "end": 95452,
           "speaker": "B",
           "start": 95320,
           "text": "on"
          },
          {
           "confidence": 1,
           "end": 95602,
           "speaker": "B",
           "start": 95470,
           "text": "my"
          },
          {
           "confidence": 0.99976,
           "end": 95797,
           "speaker": "B",
           "start": 95620,
           "text": "own"
          },
          {
           "confidence": 0.97482,
           "end": 95982,
           "speaker": "B",
           "start": 95830,
           "text": "I'm"
          },
          {
           "confidence": 0.99827,
           "end": 96127,
           "speaker": "B",
           "start": 95997,
           "text": "just"
          },
          {
           "confidence": 0.98,
           "end": 96277,
           "speaker": "B",
           "start": 96145,
           "text": "the"
          },
          {
           "confidence": 0.99383,
           "end": 96427,
           "speaker": "B",
           "start": 96295,
           "text": "kind"
          },
          {
           "confidence": 1,
           "end": 96532,
           "speaker": "B",
           "start": 96445,
           "text": "of"
          },
          {
           "confidence": 0.84252,
           "end": 96742,
           "speaker": "B",
           "start": 96535,
           "text": "person"
          },
          {
           "confidence": 0.99,
           "end": 96952,
           "speaker": "B",
           "start": 96790,
           "text": "that"
          },
          {
           "confidence": 0.99903,
           "end": 97057,
           "speaker": "B",
           "start": 96970,
           "text": "would"
          },
          {
           "confidence": 0.78991,
           "end": 97177,
           "speaker": "B",
           "start": 97060,
           "text": "have"
          },
          {
           "confidence": 0.98484,
           "end": 97327,
           "speaker": "B",
           "start": 97195,
           "text": "had"
          },
          {
           "confidence": 0.8,
           "end": 97477,
           "speaker": "B",
           "start": 97345,
           "text": "me"
          },
          {
           "confidence": 0.97726,
           "end": 97627,
           "speaker": "B",
           "start": 97495,
           "text": "if"
          },
          {
           "confidence": 0.98,
           "end": 97777,
           "speaker": "B",
           "start": 97645,
           "text": "I"
          },
          {
           "confidence": 0.99648,
           "end": 98375,
           "speaker": "B",
           "start": 97795,
           "text": "made"
          },
          {
           "confidence": 1,
           "end": 99097,
           "speaker": "B",
           "start": 98737,
           "text": "you"
          },
          {
           "confidence": 0.9906,
           "end": 99327,
           "speaker": "B",
           "start": 99130,
           "text": "don't."
          }
         ]
        },
        {
         "confidence": 0.943724,
         "end": 105877,
         "speaker": "A",
         "start": 99357,
         "text": "Have to look like this. You're very beautiful. You don't have to wear the blonde wigs you don't have to wear the extreme clothes. Right?",
         "words": [
          {
           "confidence": 0.99968,
           "end": 99502,
           "speaker": "A",
           "start": 99357,
           "text": "Have"
          },
          {
           "confidence": 1,
           "end": 99652,
           "speaker": "A",
           "start": 99520,
           "text": "to"
          },
          {
           "confidence": 0.99957,
           "end": 99802,
           "speaker": "A",
           "start": 99670,
           "text": "look"
          },
          {
           "confidence": 0.98511,
           "end": 99997,
           "speaker": "A",
           "start": 99820,
           "text": "like"
          },
          {
           "confidence": 0.99943,
           "end": 100447,
           "speaker": "A",
           "start": 100030,
           "text": "this."
          },
          {
           "confidence": 0.91031,
           "end": 100902,
           "speaker": "A",
           "start": 100555,
           "text": "You're"
          },
          {
           "confidence": 0.99959,
           "end": 101077,
           "speaker": "A",
           "start": 100932,
           "text": "very"
          },
          {
           "confidence": 0.99971,
           "end": 101452,
           "speaker": "A",
           "start": 101095,
           "text": "beautiful."
          },
          {
           "confidence": 0.98,
           "end": 101752,
           "speaker": "A",
           "start": 101545,
           "text": "You"
          },
          {
           "confidence": 0.98155,
           "end": 101952,
           "speaker": "A",
           "start": 101770,
           "text": "don't"
          },
          {
           "confidence": 0.99975,
           "end": 102082,
           "speaker": "A",
           "start": 101982,
           "text": "have"
          },
          {
           "confidence": 0.85,
           "end": 102202,
           "speaker": "A",
           "start": 102085,
           "text": "to"
          },
          {
           "confidence": 0.99653,
           "end": 102357,
           "speaker": "A",
           "start": 102220,
           "text": "wear"
          },
          {
           "confidence": 1,
           "end": 102457,
           "speaker": "A",
           "start": 102372,
           "text": "the"
          },
          {
           "confidence": 0.6237,
           "end": 102807,
           "speaker": "A",
           "start": 102460,
           "text": "blonde"
          },
          {
           "confidence": 0.91042,
           "end": 103362,
           "speaker": "A",
           "start": 102822,
           "text": "wigs"
          },
          {
           "confidence": 0.95,
           "end": 103627,
           "speaker": "A",
           "start": 103437,
           "text": "you"
          },
          {
           "confidence": 0.993,
           "end": 103827,
           "speaker": "A",
           "start": 103645,
           "text": "don't"
          },
          {
           "confidence": 0.99965,
           "end": 103957,
           "speaker": "A",
           "start": 103857,
           "text": "have"
          },
          {
           "confidence": 0.59,
           "end": 104077,
           "speaker": "A",
           "start": 103960,
           "text": "to"
          },
          {
           "confidence": 0.99539,
           "end": 104277,
           "speaker": "A",
           "start": 104095,
           "text": "wear"
          },
          {
           "confidence": 0.99,
           "end": 104452,
           "speaker": "A",
           "start": 104307,
           "text": "the"
          },
          {
           "confidence": 0.84767,
           "end": 104772,
           "speaker": "A",
           "start": 104470,
           "text": "extreme"
          },
          {
           "confidence": 0.9963,
           "end": 105222,
           "speaker": "A",
           "start": 104817,
           "text": "clothes."
          },
          {
           "confidence": 0.99574,
           "end": 105877,
           "speaker": "A",
           "start": 105267,
           "text": "Right?"
          }
         ]
        },
        {
         "confidence": 0.9376840140845069,
         "end": 146537,
         "speaker": "B",
         "start": 106045,
         "text": "No, it's certainly a choice. I don't like to be like everybody else. I've often made this statement that I would never stoop so low as to be fashionable. That's the easiest thing in the world to do. So I just decided that I would do something that would at least get the attention once they got past the shock of the ridiculous way I looked and all that, then they would see there was a part of me to be appreciated. I'm very real where it counts, and that's inside. And as far as my outlook on life and the way I care about people and the way I care about myself and the things that I care about. But I just chose to do this. And show business is a money making joke, and I just always liked telling jokes.",
         "words": [
          {
           "confidence": 0.97956,
           "end": 106687,
           "speaker": "B",
           "start": 106045,
           "text": "No,"
          },
          {
           "confidence": 0.73202,
           "end": 107202,
           "speaker": "B",
           "start": 106825,
           "text": "it's"
          },
          {
           "confidence": 0.99823,
           "end": 107467,
           "speaker": "B",
           "start": 107232,
           "text": "certainly"
          },
          {
           "confidence": 0.97,
           "end": 107677,
           "speaker": "B",
           "start": 107515,
           "text": "a"
          },
          {
           "confidence": 0.53279,
           "end": 108087,
           "speaker": "B",
           "start": 107695,
           "text": "choice."
          },
          {
           "confidence": 1,
           "end": 108352,
           "speaker": "B",
           "start": 108162,
           "text": "I"
          },
          {
           "confidence": 0.9792,
           "end": 108687,
           "speaker": "B",
           "start": 108370,
           "text": "don't"
          },
          {
           "confidence": 0.70811,
           "end": 108997,
           "speaker": "B",
           "start": 108762,
           "text": "like"
          },
          {
           "confidence": 0.99,
           "end": 109267,
           "speaker": "B",
           "start": 109030,
           "text": "to"
          },
          {
           "confidence": 1,
           "end": 109522,
           "speaker": "B",
           "start": 109315,
           "text": "be"
          },
          {
           "confidence": 0.99811,
           "end": 109792,
           "speaker": "B",
           "start": 109555,
           "text": "like"
          },
          {
           "confidence": 0.99856,
           "end": 110137,
           "speaker": "B",
           "start": 109840,
           "text": "everybody"
          },
          {
           "confidence": 0.99846,
           "end": 110422,
           "speaker": "B",
           "start": 110200,
           "text": "else."
          },
          {
           "confidence": 0.95053,
           "end": 110652,
           "speaker": "B",
           "start": 110455,
           "text": "I've"
          },
          {
           "confidence": 0.9986,
           "end": 110872,
           "speaker": "B",
           "start": 110682,
           "text": "often"
          },
          {
           "confidence": 0.62766,
           "end": 111142,
           "speaker": "B",
           "start": 110905,
           "text": "made"
          },
          {
           "confidence": 0.92059,
           "end": 111442,
           "speaker": "B",
           "start": 111190,
           "text": "this"
          },
          {
           "confidence": 0.79888,
           "end": 111867,
           "speaker": "B",
           "start": 111490,
           "text": "statement"
          },
          {
           "confidence": 0.97,
           "end": 112282,
           "speaker": "B",
           "start": 111927,
           "text": "that"
          },
          {
           "confidence": 1,
           "end": 112552,
           "speaker": "B",
           "start": 112360,
           "text": "I"
          },
          {
           "confidence": 0.99053,
           "end": 112702,
           "speaker": "B",
           "start": 112570,
           "text": "would"
          },
          {
           "confidence": 0.99922,
           "end": 112897,
           "speaker": "B",
           "start": 112720,
           "text": "never"
          },
          {
           "confidence": 0.94465,
           "end": 113202,
           "speaker": "B",
           "start": 112930,
           "text": "stoop"
          },
          {
           "confidence": 0.99291,
           "end": 113377,
           "speaker": "B",
           "start": 113232,
           "text": "so"
          },
          {
           "confidence": 0.97363,
           "end": 113527,
           "speaker": "B",
           "start": 113395,
           "text": "low"
          },
          {
           "confidence": 0.80948,
           "end": 113677,
           "speaker": "B",
           "start": 113545,
           "text": "as"
          },
          {
           "confidence": 1,
           "end": 113782,
           "speaker": "B",
           "start": 113695,
           "text": "to"
          },
          {
           "confidence": 0.99,
           "end": 113902,
           "speaker": "B",
           "start": 113785,
           "text": "be"
          },
          {
           "confidence": 0.56211,
           "end": 114417,
           "speaker": "B",
           "start": 113920,
           "text": "fashionable."
          },
          {
           "confidence": 0.97727,
           "end": 114657,
           "speaker": "B",
           "start": 114477,
           "text": "That's"
          },
          {
           "confidence": 1,
           "end": 114802,
           "speaker": "B",
           "start": 114672,
           "text": "the"
          },
          {
           "confidence": 0.97431,
           "end": 115152,
           "speaker": "B",
           "start": 114820,
           "text": "easiest"
          },
          {
           "confidence": 0.99974,
           "end": 115327,
           "speaker": "B",
           "start": 115182,
           "text": "thing"
          },
          {
           "confidence": 0.99729,
           "end": 115477,
           "speaker": "B",
           "start": 115345,
           "text": "in"
          },
          {
           "confidence": 1,
           "end": 115582,
           "speaker": "B",
           "start": 115495,
           "text": "the"
          },
          {
           "confidence": 0.99972,
           "end": 115792,
           "speaker": "B",
           "start": 115585,
           "text": "world"
          },
          {
           "confidence": 0.97,
           "end": 116002,
           "speaker": "B",
           "start": 115840,
           "text": "to"
          },
          {
           "confidence": 0.99853,
           "end": 116377,
           "speaker": "B",
           "start": 116020,
           "text": "do."
          },
          {
           "confidence": 0.78476,
           "end": 116677,
           "speaker": "B",
           "start": 116470,
           "text": "So"
          },
          {
           "confidence": 0.95,
           "end": 116872,
           "speaker": "B",
           "start": 116695,
           "text": "I"
          },
          {
           "confidence": 0.99642,
           "end": 117097,
           "speaker": "B",
           "start": 116905,
           "text": "just"
          },
          {
           "confidence": 0.99942,
           "end": 117567,
           "speaker": "B",
           "start": 117130,
           "text": "decided"
          },
          {
           "confidence": 1,
           "end": 117847,
           "speaker": "B",
           "start": 117627,
           "text": "that"
          },
          {
           "confidence": 1,
           "end": 118027,
           "speaker": "B",
           "start": 117880,
           "text": "I"
          },
          {
           "confidence": 0.99698,
           "end": 118222,
           "speaker": "B",
           "start": 118045,
           "text": "would"
          },
          {
           "confidence": 0.99957,
           "end": 118492,
           "speaker": "B",
           "start": 118255,
           "text": "do"
          },
          {
           "confidence": 0.99967,
           "end": 118972,
           "speaker": "B",
           "start": 118540,
           "text": "something"
          },
          {
           "confidence": 0.92,
           "end": 119302,
           "speaker": "B",
           "start": 119080,
           "text": "that"
          },
          {
           "confidence": 0.98478,
           "end": 119497,
           "speaker": "B",
           "start": 119320,
           "text": "would"
          },
          {
           "confidence": 1,
           "end": 119632,
           "speaker": "B",
           "start": 119530,
           "text": "at"
          },
          {
           "confidence": 0.9862,
           "end": 119842,
           "speaker": "B",
           "start": 119635,
           "text": "least"
          },
          {
           "confidence": 0.99826,
           "end": 120097,
           "speaker": "B",
           "start": 119890,
           "text": "get"
          },
          {
           "confidence": 0.99,
           "end": 120277,
           "speaker": "B",
           "start": 120130,
           "text": "the"
          },
          {
           "confidence": 0.9988,
           "end": 120687,
           "speaker": "B",
           "start": 120295,
           "text": "attention"
          },
          {
           "confidence": 0.99976,
           "end": 121042,
           "speaker": "B",
           "start": 120762,
           "text": "once"
          },
          {
           "confidence": 0.98956,
           "end": 121252,
           "speaker": "B",
           "start": 121090,
           "text": "they"
          },
          {
           "confidence": 0.9968,
           "end": 121447,
           "speaker": "B",
           "start": 121270,
           "text": "got"
          },
          {
           "confidence": 0.99,
           "end": 121717,
           "speaker": "B",
           "start": 121480,
           "text": "past"
          },
          {
           "confidence": 0.98,
           "end": 121972,
           "speaker": "B",
           "start": 121765,
           "text": "the"
          },
          {
           "confidence": 0.95938,
           "end": 122772,
           "speaker": "B",
           "start": 122005,
           "text": "shock"
          },
          {
           "confidence": 0.98,
           "end": 123322,
           "speaker": "B",
           "start": 122967,
           "text": "of"
          },
          {
           "confidence": 0.98,
           "end": 123547,
           "speaker": "B",
           "start": 123355,
           "text": "the"
          },
          {
           "confidence": 0.9568,
           "end": 124197,
           "speaker": "B",
           "start": 123580,
           "text": "ridiculous"
          },
          {
           "confidence": 0.99123,
           "end": 124447,
           "speaker": "B",
           "start": 124242,
           "text": "way"
          },
          {
           "confidence": 0.96,
           "end": 124627,
           "speaker": "B",
           "start": 124480,
           "text": "I"
          },
          {
           "confidence": 0.9898,
           "end": 124822,
           "speaker": "B",
           "start": 124645,
           "text": "looked"
          },
          {
           "confidence": 0.98,
           "end": 125002,
           "speaker": "B",
           "start": 124855,
           "text": "and"
          },
          {
           "confidence": 0.9974,
           "end": 125152,
           "speaker": "B",
           "start": 125020,
           "text": "all"
          },
          {
           "confidence": 1,
           "end": 125347,
           "speaker": "B",
           "start": 125170,
           "text": "that,"
          },
          {
           "confidence": 0.9262,
           "end": 125527,
           "speaker": "B",
           "start": 125380,
           "text": "then"
          },
          {
           "confidence": 0.98854,
           "end": 125677,
           "speaker": "B",
           "start": 125545,
           "text": "they"
          },
          {
           "confidence": 0.99453,
           "end": 125872,
           "speaker": "B",
           "start": 125695,
           "text": "would"
          },
          {
           "confidence": 0.98643,
           "end": 126097,
           "speaker": "B",
           "start": 125905,
           "text": "see"
          },
          {
           "confidence": 0.99669,
           "end": 126322,
           "speaker": "B",
           "start": 126130,
           "text": "there"
          },
          {
           "confidence": 0.97623,
           "end": 126950,
           "speaker": "B",
           "start": 126355,
           "text": "was"
          },
          {
           "confidence": 0.51,
           "end": 127627,
           "speaker": "B",
           "start": 127312,
           "text": "a"
          },
          {
           "confidence": 0.99405,
           "end": 127867,
           "speaker": "B",
           "start": 127645,
           "text": "part"
          },
          {
           "confidence": 1,
           "end": 128077,
           "speaker": "B",
           "start": 127915,
           "text": "of"
          },
          {
           "confidence": 1,
           "end": 128317,
           "speaker": "B",
           "start": 128095,
           "text": "me"
          },
          {
           "confidence": 0.99,
           "end": 128527,
           "speaker": "B",
           "start": 128365,
           "text": "to"
          },
          {
           "confidence": 0.99,
           "end": 128632,
           "speaker": "B",
           "start": 128545,
           "text": "be"
          },
          {
           "confidence": 0.87407,
           "end": 129072,
           "speaker": "B",
           "start": 128635,
           "text": "appreciated."
          },
          {
           "confidence": 0.95161,
           "end": 129327,
           "speaker": "B",
           "start": 129117,
           "text": "I'm"
          },
          {
           "confidence": 0.99938,
           "end": 129592,
           "speaker": "B",
           "start": 129357,
           "text": "very"
          },
          {
           "confidence": 1,
           "end": 130162,
           "speaker": "B",
           "start": 129640,
           "text": "real"
          },
          {
           "confidence": 0.97322,
           "end": 130597,
           "speaker": "B",
           "start": 130300,
           "text": "where"
          },
          {
           "confidence": 0.99811,
           "end": 130777,
           "speaker": "B",
           "start": 130630,
           "text": "it"
          },
          {
           "confidence": 0.99352,
           "end": 131082,
           "speaker": "B",
           "start": 130795,
           "text": "counts,"
          },
          {
           "confidence": 0.91,
           "end": 131227,
           "speaker": "B",
           "start": 131097,
           "text": "and"
          },
          {
           "confidence": 0.50044,
           "end": 131427,
           "speaker": "B",
           "start": 131245,
           "text": "that's"
          },
          {
           "confidence": 0.64876,
           "end": 131827,
           "speaker": "B",
           "start": 131457,
           "text": "inside."
          },
          {
           "confidence": 0.69,
           "end": 132127,
           "speaker": "B",
           "start": 131920,
           "text": "And"
          },
          {
           "confidence": 0.99382,
           "end": 132277,
           "speaker": "B",
           "start": 132145,
           "text": "as"
          },
          {
           "confidence": 0.99962,
           "end": 132427,
           "speaker": "B",
           "start": 132295,
           "text": "far"
          },
          {
           "confidence": 0.98493,
           "end": 132757,
           "speaker": "B",
           "start": 132445,
           "text": "as"
          },
          {
           "confidence": 0.99,
           "end": 133027,
           "speaker": "B",
           "start": 132835,
           "text": "my"
          },
          {
           "confidence": 0.61439,
           "end": 133452,
           "speaker": "B",
           "start": 133045,
           "text": "outlook"
          },
          {
           "confidence": 0.99294,
           "end": 133672,
           "speaker": "B",
           "start": 133482,
           "text": "on"
          },
          {
           "confidence": 0.99925,
           "end": 133942,
           "speaker": "B",
           "start": 133705,
           "text": "life"
          },
          {
           "confidence": 0.94,
           "end": 134152,
           "speaker": "B",
           "start": 133990,
           "text": "and"
          },
          {
           "confidence": 1,
           "end": 134302,
           "speaker": "B",
           "start": 134170,
           "text": "the"
          },
          {
           "confidence": 0.99969,
           "end": 134452,
           "speaker": "B",
           "start": 134320,
           "text": "way"
          },
          {
           "confidence": 0.99,
           "end": 134647,
           "speaker": "B",
           "start": 134470,
           "text": "I"
          },
          {
           "confidence": 0.99811,
           "end": 134872,
           "speaker": "B",
           "start": 134680,
           "text": "care"
          },
          {
           "confidence": 0.99614,
           "end": 135142,
           "speaker": "B",
           "start": 134905,
           "text": "about"
          },
          {
           "confidence": 0.99985,
           "end": 135442,
           "speaker": "B",
           "start": 135190,
           "text": "people"
          },
          {
           "confidence": 0.76,
           "end": 135607,
           "speaker": "B",
           "start": 135490,
           "text": "and"
          },
          {
           "confidence": 0.99,
           "end": 135682,
           "speaker": "B",
           "start": 135610,
           "text": "the"
          },
          {
           "confidence": 0.98477,
           "end": 135802,
           "speaker": "B",
           "start": 135685,
           "text": "way"
          },
          {
           "confidence": 0.99,
           "end": 135952,
           "speaker": "B",
           "start": 135820,
           "text": "I"
          },
          {
           "confidence": 0.99801,
           "end": 136147,
           "speaker": "B",
           "start": 135970,
           "text": "care"
          },
          {
           "confidence": 0.6672,
           "end": 136417,
           "speaker": "B",
           "start": 136180,
           "text": "about"
          },
          {
           "confidence": 0.999,
           "end": 136987,
           "speaker": "B",
           "start": 136465,
           "text": "myself"
          },
          {
           "confidence": 0.96,
           "end": 137377,
           "speaker": "B",
           "start": 137125,
           "text": "and"
          },
          {
           "confidence": 0.56,
           "end": 137572,
           "speaker": "B",
           "start": 137395,
           "text": "the"
          },
          {
           "confidence": 0.99777,
           "end": 137797,
           "speaker": "B",
           "start": 137605,
           "text": "things"
          },
          {
           "confidence": 1,
           "end": 137977,
           "speaker": "B",
           "start": 137830,
           "text": "that"
          },
          {
           "confidence": 1,
           "end": 138127,
           "speaker": "B",
           "start": 137995,
           "text": "I"
          },
          {
           "confidence": 0.99986,
           "end": 138322,
           "speaker": "B",
           "start": 138145,
           "text": "care"
          },
          {
           "confidence": 0.99989,
           "end": 138772,
           "speaker": "B",
           "start": 138355,
           "text": "about."
          },
          {
           "confidence": 0.91547,
           "end": 139192,
           "speaker": "B",
           "start": 138880,
           "text": "But"
          },
          {
           "confidence": 1,
           "end": 139402,
           "speaker": "B",
           "start": 139240,
           "text": "I"
          },
          {
           "confidence": 0.99689,
           "end": 139597,
           "speaker": "B",
           "start": 139420,
           "text": "just"
          },
          {
           "confidence": 0.99204,
           "end": 139872,
           "speaker": "B",
           "start": 139630,
           "text": "chose"
          },
          {
           "confidence": 1,
           "end": 140077,
           "speaker": "B",
           "start": 139917,
           "text": "to"
          },
          {
           "confidence": 0.99854,
           "end": 140227,
           "speaker": "B",
           "start": 140095,
           "text": "do"
          },
          {
           "confidence": 0.99822,
           "end": 140422,
           "speaker": "B",
           "start": 140245,
           "text": "this."
          },
          {
           "confidence": 0.6,
           "end": 141007,
           "speaker": "B",
           "start": 140455,
           "text": "And"
          },
          {
           "confidence": 0.99795,
           "end": 141472,
           "speaker": "B",
           "start": 141160,
           "text": "show"
          },
          {
           "confidence": 0.998,
           "end": 141787,
           "speaker": "B",
           "start": 141505,
           "text": "business"
          },
          {
           "confidence": 0.62,
           "end": 142072,
           "speaker": "B",
           "start": 141850,
           "text": "is"
          },
          {
           "confidence": 0.89,
           "end": 142342,
           "speaker": "B",
           "start": 142105,
           "text": "a"
          },
          {
           "confidence": 0.99994,
           "end": 142642,
           "speaker": "B",
           "start": 142390,
           "text": "money"
          },
          {
           "confidence": 0.9628,
           "end": 143077,
           "speaker": "B",
           "start": 142690,
           "text": "making"
          },
          {
           "confidence": 0.89028,
           "end": 143682,
           "speaker": "B",
           "start": 143170,
           "text": "joke,"
          },
          {
           "confidence": 0.86,
           "end": 144067,
           "speaker": "B",
           "start": 143772,
           "text": "and"
          },
          {
           "confidence": 0.99,
           "end": 144277,
           "speaker": "B",
           "start": 144115,
           "text": "I"
          },
          {
           "confidence": 0.96338,
           "end": 144517,
           "speaker": "B",
           "start": 144295,
           "text": "just"
          },
          {
           "confidence": 0.99887,
           "end": 144862,
           "speaker": "B",
           "start": 144565,
           "text": "always"
          },
          {
           "confidence": 0.8768,
           "end": 145407,
           "speaker": "B",
           "start": 144925,
           "text": "liked"
          },
          {
           "confidence": 0.87143,
           "end": 145872,
           "speaker": "B",
           "start": 145497,
           "text": "telling"
          },
          {
           "confidence": 0.74722,
           "end": 146537,
           "speaker": "B",
           "start": 145917,
           "text": "jokes."
          }
         ]
        },
        {
         "confidence": 0.924666,
         "end": 150742,
         "speaker": "A",
         "start": 146887,
         "text": "But do you ever feel that you're a joke? That people make fun of you?",
         "words": [
          {
           "confidence": 0.8213,
           "end": 147247,
           "speaker": "A",
           "start": 146887,
           "text": "But"
          },
          {
           "confidence": 0.99296,
           "end": 147427,
           "speaker": "A",
           "start": 147280,
           "text": "do"
          },
          {
           "confidence": 0.95,
           "end": 147667,
           "speaker": "A",
           "start": 147445,
           "text": "you"
          },
          {
           "confidence": 0.99889,
           "end": 147967,
           "speaker": "A",
           "start": 147715,
           "text": "ever"
          },
          {
           "confidence": 0.99967,
           "end": 148267,
           "speaker": "A",
           "start": 148015,
           "text": "feel"
          },
          {
           "confidence": 1,
           "end": 148477,
           "speaker": "A",
           "start": 148315,
           "text": "that"
          },
          {
           "confidence": 0.61436,
           "end": 148722,
           "speaker": "A",
           "start": 148495,
           "text": "you're"
          },
          {
           "confidence": 1,
           "end": 148927,
           "speaker": "A",
           "start": 148767,
           "text": "a"
          },
          {
           "confidence": 0.99547,
           "end": 149292,
           "speaker": "A",
           "start": 148945,
           "text": "joke?"
          },
          {
           "confidence": 0.98,
           "end": 149572,
           "speaker": "A",
           "start": 149352,
           "text": "That"
          },
          {
           "confidence": 0.99993,
           "end": 149842,
           "speaker": "A",
           "start": 149605,
           "text": "people"
          },
          {
           "confidence": 0.9976,
           "end": 150097,
           "speaker": "A",
           "start": 149890,
           "text": "make"
          },
          {
           "confidence": 0.99981,
           "end": 150277,
           "speaker": "A",
           "start": 150130,
           "text": "fun"
          },
          {
           "confidence": 0.52,
           "end": 150472,
           "speaker": "A",
           "start": 150295,
           "text": "of"
          },
          {
           "confidence": 1,
           "end": 150742,
           "speaker": "A",
           "start": 150505,
           "text": "you?"
          }
         ]
        },
        {
         "confidence": 0.9032113821138208,
         "end": 188150,
         "speaker": "B",
         "start": 150790,
         "text": "Oh, I know they make fun of me but actually, all these years the people have thought the joke was on me, but it's actually been on the public. I know exactly what I'm doing and I can change it at any time or I make more jokes about myself than anybody because I enjoy as I say, I am sure of myself as a person. I'm sure of my talent and to me and I'm sure of my love for life and that sort of thing. I'm very content. I like the kind of person that I am so I can afford to pedal around and do the little around with makeups and clothes and stuff because I am secure with myself.",
         "words": [
          {
           "confidence": 0.61,
           "end": 150952,
           "speaker": "B",
           "start": 150790,
           "text": "Oh,"
          },
          {
           "confidence": 1,
           "end": 151057,
           "speaker": "B",
           "start": 150970,
           "text": "I"
          },
          {
           "confidence": 0.99898,
           "end": 151177,
           "speaker": "B",
           "start": 151060,
           "text": "know"
          },
          {
           "confidence": 0.88295,
           "end": 151372,
           "speaker": "B",
           "start": 151195,
           "text": "they"
          },
          {
           "confidence": 0.9929,
           "end": 151597,
           "speaker": "B",
           "start": 151405,
           "text": "make"
          },
          {
           "confidence": 0.99987,
           "end": 151777,
           "speaker": "B",
           "start": 151630,
           "text": "fun"
          },
          {
           "confidence": 1,
           "end": 151927,
           "speaker": "B",
           "start": 151795,
           "text": "of"
          },
          {
           "confidence": 1,
           "end": 152437,
           "speaker": "B",
           "start": 151945,
           "text": "me"
          },
          {
           "confidence": 0.9336,
           "end": 152872,
           "speaker": "B",
           "start": 152575,
           "text": "but"
          },
          {
           "confidence": 0.99753,
           "end": 153187,
           "speaker": "B",
           "start": 152905,
           "text": "actually,"
          },
          {
           "confidence": 0.99677,
           "end": 153517,
           "speaker": "B",
           "start": 153250,
           "text": "all"
          },
          {
           "confidence": 0.99166,
           "end": 153817,
           "speaker": "B",
           "start": 153565,
           "text": "these"
          },
          {
           "confidence": 0.99968,
           "end": 154252,
           "speaker": "B",
           "start": 153865,
           "text": "years"
          },
          {
           "confidence": 0.89,
           "end": 154597,
           "speaker": "B",
           "start": 154345,
           "text": "the"
          },
          {
           "confidence": 0.99929,
           "end": 155225,
           "speaker": "B",
           "start": 154630,
           "text": "people"
          },
          {
           "confidence": 0.67776,
           "end": 155947,
           "speaker": "B",
           "start": 155587,
           "text": "have"
          },
          {
           "confidence": 0.99561,
           "end": 156172,
           "speaker": "B",
           "start": 155980,
           "text": "thought"
          },
          {
           "confidence": 0.96,
           "end": 156352,
           "speaker": "B",
           "start": 156205,
           "text": "the"
          },
          {
           "confidence": 0.99582,
           "end": 156627,
           "speaker": "B",
           "start": 156370,
           "text": "joke"
          },
          {
           "confidence": 0.98827,
           "end": 156802,
           "speaker": "B",
           "start": 156657,
           "text": "was"
          },
          {
           "confidence": 0.99755,
           "end": 156952,
           "speaker": "B",
           "start": 156820,
           "text": "on"
          },
          {
           "confidence": 0.99,
           "end": 157147,
           "speaker": "B",
           "start": 156970,
           "text": "me,"
          },
          {
           "confidence": 0.99138,
           "end": 157327,
           "speaker": "B",
           "start": 157180,
           "text": "but"
          },
          {
           "confidence": 0.93843,
           "end": 157527,
           "speaker": "B",
           "start": 157345,
           "text": "it's"
          },
          {
           "confidence": 0.99761,
           "end": 157792,
           "speaker": "B",
           "start": 157557,
           "text": "actually"
          },
          {
           "confidence": 0.99878,
           "end": 158002,
           "speaker": "B",
           "start": 157840,
           "text": "been"
          },
          {
           "confidence": 0.99418,
           "end": 158152,
           "speaker": "B",
           "start": 158020,
           "text": "on"
          },
          {
           "confidence": 0.98,
           "end": 158302,
           "speaker": "B",
           "start": 158170,
           "text": "the"
          },
          {
           "confidence": 0.68047,
           "end": 158722,
           "speaker": "B",
           "start": 158320,
           "text": "public."
          },
          {
           "confidence": 0.98,
           "end": 159097,
           "speaker": "B",
           "start": 158830,
           "text": "I"
          },
          {
           "confidence": 0.99907,
           "end": 159322,
           "speaker": "B",
           "start": 159130,
           "text": "know"
          },
          {
           "confidence": 0.99993,
           "end": 159637,
           "speaker": "B",
           "start": 159355,
           "text": "exactly"
          },
          {
           "confidence": 0.99963,
           "end": 159877,
           "speaker": "B",
           "start": 159700,
           "text": "what"
          },
          {
           "confidence": 0.97345,
           "end": 160077,
           "speaker": "B",
           "start": 159895,
           "text": "I'm"
          },
          {
           "confidence": 0.99874,
           "end": 160297,
           "speaker": "B",
           "start": 160107,
           "text": "doing"
          },
          {
           "confidence": 0.91,
           "end": 160477,
           "speaker": "B",
           "start": 160330,
           "text": "and"
          },
          {
           "confidence": 1,
           "end": 160582,
           "speaker": "B",
           "start": 160495,
           "text": "I"
          },
          {
           "confidence": 0.995,
           "end": 160747,
           "speaker": "B",
           "start": 160585,
           "text": "can"
          },
          {
           "confidence": 0.99978,
           "end": 160972,
           "speaker": "B",
           "start": 160780,
           "text": "change"
          },
          {
           "confidence": 0.99254,
           "end": 161152,
           "speaker": "B",
           "start": 161005,
           "text": "it"
          },
          {
           "confidence": 0.99,
           "end": 161302,
           "speaker": "B",
           "start": 161170,
           "text": "at"
          },
          {
           "confidence": 0.99917,
           "end": 161542,
           "speaker": "B",
           "start": 161320,
           "text": "any"
          },
          {
           "confidence": 0.9738,
           "end": 161932,
           "speaker": "B",
           "start": 161590,
           "text": "time"
          },
          {
           "confidence": 0.46059,
           "end": 162247,
           "speaker": "B",
           "start": 162010,
           "text": "or"
          },
          {
           "confidence": 0.99,
           "end": 162427,
           "speaker": "B",
           "start": 162280,
           "text": "I"
          },
          {
           "confidence": 0.99482,
           "end": 162622,
           "speaker": "B",
           "start": 162445,
           "text": "make"
          },
          {
           "confidence": 1,
           "end": 162802,
           "speaker": "B",
           "start": 162655,
           "text": "more"
          },
          {
           "confidence": 0.57052,
           "end": 163047,
           "speaker": "B",
           "start": 162820,
           "text": "jokes"
          },
          {
           "confidence": 0.9986,
           "end": 163252,
           "speaker": "B",
           "start": 163092,
           "text": "about"
          },
          {
           "confidence": 0.99398,
           "end": 163582,
           "speaker": "B",
           "start": 163270,
           "text": "myself"
          },
          {
           "confidence": 0.54641,
           "end": 164212,
           "speaker": "B",
           "start": 163660,
           "text": "than"
          },
          {
           "confidence": 0.99973,
           "end": 165097,
           "speaker": "B",
           "start": 164350,
           "text": "anybody"
          },
          {
           "confidence": 0.82485,
           "end": 165712,
           "speaker": "B",
           "start": 165280,
           "text": "because"
          },
          {
           "confidence": 0.72,
           "end": 165997,
           "speaker": "B",
           "start": 165775,
           "text": "I"
          },
          {
           "confidence": 0.97733,
           "end": 166627,
           "speaker": "B",
           "start": 166030,
           "text": "enjoy"
          },
          {
           "confidence": 0.01908,
           "end": 167077,
           "speaker": "B",
           "start": 166795,
           "text": "as"
          },
          {
           "confidence": 0.98,
           "end": 167182,
           "speaker": "B",
           "start": 167095,
           "text": "I"
          },
          {
           "confidence": 0.6215,
           "end": 167347,
           "speaker": "B",
           "start": 167185,
           "text": "say,"
          },
          {
           "confidence": 0.99,
           "end": 167527,
           "speaker": "B",
           "start": 167380,
           "text": "I"
          },
          {
           "confidence": 0.83,
           "end": 167722,
           "speaker": "B",
           "start": 167545,
           "text": "am"
          },
          {
           "confidence": 0.99666,
           "end": 167992,
           "speaker": "B",
           "start": 167755,
           "text": "sure"
          },
          {
           "confidence": 1,
           "end": 168202,
           "speaker": "B",
           "start": 168040,
           "text": "of"
          },
          {
           "confidence": 0.97309,
           "end": 168667,
           "speaker": "B",
           "start": 168220,
           "text": "myself"
          },
          {
           "confidence": 0.73036,
           "end": 169027,
           "speaker": "B",
           "start": 168790,
           "text": "as"
          },
          {
           "confidence": 0.98,
           "end": 169132,
           "speaker": "B",
           "start": 169045,
           "text": "a"
          },
          {
           "confidence": 0.99963,
           "end": 169522,
           "speaker": "B",
           "start": 169135,
           "text": "person."
          },
          {
           "confidence": 0.7482,
           "end": 170022,
           "speaker": "B",
           "start": 169630,
           "text": "I'm"
          },
          {
           "confidence": 0.99957,
           "end": 170272,
           "speaker": "B",
           "start": 170067,
           "text": "sure"
          },
          {
           "confidence": 0.99,
           "end": 170497,
           "speaker": "B",
           "start": 170305,
           "text": "of"
          },
          {
           "confidence": 1,
           "end": 170722,
           "speaker": "B",
           "start": 170530,
           "text": "my"
          },
          {
           "confidence": 0.90608,
           "end": 171477,
           "speaker": "B",
           "start": 170755,
           "text": "talent"
          },
          {
           "confidence": 0.69,
           "end": 171997,
           "speaker": "B",
           "start": 171657,
           "text": "and"
          },
          {
           "confidence": 0.99,
           "end": 172177,
           "speaker": "B",
           "start": 172030,
           "text": "to"
          },
          {
           "confidence": 1,
           "end": 172462,
           "speaker": "B",
           "start": 172195,
           "text": "me"
          },
          {
           "confidence": 0.68,
           "end": 172792,
           "speaker": "B",
           "start": 172525,
           "text": "and"
          },
          {
           "confidence": 0.95574,
           "end": 173127,
           "speaker": "B",
           "start": 172840,
           "text": "I'm"
          },
          {
           "confidence": 0.99862,
           "end": 173392,
           "speaker": "B",
           "start": 173157,
           "text": "sure"
          },
          {
           "confidence": 0.56,
           "end": 173827,
           "speaker": "B",
           "start": 173440,
           "text": "of"
          },
          {
           "confidence": 1,
           "end": 174352,
           "speaker": "B",
           "start": 173920,
           "text": "my"
          },
          {
           "confidence": 0.99937,
           "end": 175057,
           "speaker": "B",
           "start": 174445,
           "text": "love"
          },
          {
           "confidence": 0.9995,
           "end": 175522,
           "speaker": "B",
           "start": 175210,
           "text": "for"
          },
          {
           "confidence": 0.99981,
           "end": 175792,
           "speaker": "B",
           "start": 175555,
           "text": "life"
          },
          {
           "confidence": 0.98,
           "end": 176002,
           "speaker": "B",
           "start": 175840,
           "text": "and"
          },
          {
           "confidence": 1,
           "end": 176152,
           "speaker": "B",
           "start": 176020,
           "text": "that"
          },
          {
           "confidence": 0.99712,
           "end": 176302,
           "speaker": "B",
           "start": 176170,
           "text": "sort"
          },
          {
           "confidence": 0.99,
           "end": 176407,
           "speaker": "B",
           "start": 176320,
           "text": "of"
          },
          {
           "confidence": 0.99977,
           "end": 176572,
           "speaker": "B",
           "start": 176410,
           "text": "thing."
          },
          {
           "confidence": 0.98191,
           "end": 176757,
           "speaker": "B",
           "start": 176605,
           "text": "I'm"
          },
          {
           "confidence": 0.99968,
           "end": 176992,
           "speaker": "B",
           "start": 176772,
           "text": "very"
          },
          {
           "confidence": 0.99962,
           "end": 177427,
           "speaker": "B",
           "start": 177040,
           "text": "content."
          },
          {
           "confidence": 1,
           "end": 177727,
           "speaker": "B",
           "start": 177520,
           "text": "I"
          },
          {
           "confidence": 0.98172,
           "end": 177967,
           "speaker": "B",
           "start": 177745,
           "text": "like"
          },
          {
           "confidence": 0.99,
           "end": 178177,
           "speaker": "B",
           "start": 178015,
           "text": "the"
          },
          {
           "confidence": 0.99157,
           "end": 178327,
           "speaker": "B",
           "start": 178195,
           "text": "kind"
          },
          {
           "confidence": 1,
           "end": 178477,
           "speaker": "B",
           "start": 178345,
           "text": "of"
          },
          {
           "confidence": 0.99982,
           "end": 178717,
           "speaker": "B",
           "start": 178495,
           "text": "person"
          },
          {
           "confidence": 0.99,
           "end": 178927,
           "speaker": "B",
           "start": 178765,
           "text": "that"
          },
          {
           "confidence": 1,
           "end": 179077,
           "speaker": "B",
           "start": 178945,
           "text": "I"
          },
          {
           "confidence": 1,
           "end": 179317,
           "speaker": "B",
           "start": 179095,
           "text": "am"
          },
          {
           "confidence": 0.7859,
           "end": 179707,
           "speaker": "B",
           "start": 179365,
           "text": "so"
          },
          {
           "confidence": 1,
           "end": 179977,
           "speaker": "B",
           "start": 179785,
           "text": "I"
          },
          {
           "confidence": 0.99799,
           "end": 180172,
           "speaker": "B",
           "start": 179995,
           "text": "can"
          },
          {
           "confidence": 0.62098,
           "end": 180612,
           "speaker": "B",
           "start": 180205,
           "text": "afford"
          },
          {
           "confidence": 1,
           "end": 180922,
           "speaker": "B",
           "start": 180687,
           "text": "to"
          },
          {
           "confidence": 0.01284,
           "end": 181272,
           "speaker": "B",
           "start": 180955,
           "text": "pedal"
          },
          {
           "confidence": 0.99894,
           "end": 181567,
           "speaker": "B",
           "start": 181317,
           "text": "around"
          },
          {
           "confidence": 0.99,
           "end": 181822,
           "speaker": "B",
           "start": 181615,
           "text": "and"
          },
          {
           "confidence": 0.98465,
           "end": 182047,
           "speaker": "B",
           "start": 181855,
           "text": "do"
          },
          {
           "confidence": 0.04,
           "end": 182227,
           "speaker": "B",
           "start": 182080,
           "text": "the"
          },
          {
           "confidence": 0.01317,
           "end": 182422,
           "speaker": "B",
           "start": 182245,
           "text": "little"
          },
          {
           "confidence": 0.99872,
           "end": 182692,
           "speaker": "B",
           "start": 182455,
           "text": "around"
          },
          {
           "confidence": 0.99889,
           "end": 182992,
           "speaker": "B",
           "start": 182740,
           "text": "with"
          },
          {
           "confidence": 0.63073,
           "end": 183627,
           "speaker": "B",
           "start": 183040,
           "text": "makeups"
          },
          {
           "confidence": 0.97,
           "end": 183802,
           "speaker": "B",
           "start": 183657,
           "text": "and"
          },
          {
           "confidence": 0.83415,
           "end": 184152,
           "speaker": "B",
           "start": 183820,
           "text": "clothes"
          },
          {
           "confidence": 0.98,
           "end": 184327,
           "speaker": "B",
           "start": 184182,
           "text": "and"
          },
          {
           "confidence": 0.99743,
           "end": 184657,
           "speaker": "B",
           "start": 184345,
           "text": "stuff"
          },
          {
           "confidence": 0.55052,
           "end": 185107,
           "speaker": "B",
           "start": 184735,
           "text": "because"
          },
          {
           "confidence": 0.99,
           "end": 185422,
           "speaker": "B",
           "start": 185185,
           "text": "I"
          },
          {
           "confidence": 0.96,
           "end": 185872,
           "speaker": "B",
           "start": 185455,
           "text": "am"
          },
          {
           "confidence": 0.99729,
           "end": 186672,
           "speaker": "B",
           "start": 185980,
           "text": "secure"
          },
          {
           "confidence": 0.83823,
           "end": 187342,
           "speaker": "B",
           "start": 186792,
           "text": "with"
          },
          {
           "confidence": 0.99912,
           "end": 188150,
           "speaker": "B",
           "start": 187465,
           "text": "myself."
          }
         ]
        },
        {
         "confidence": 0.9429769014084506,
         "end": 207712,
         "speaker": "A",
         "start": 188962,
         "text": "Listen, tell me about this marriage of yours this man who nobody ever seems to see. We heard that he was here, we heard that he was, but none of us have seen him. Paul Dean, you don't see him very much. You're on the road most of the time. You've said, I know that this marriage will always last. This man gives me everything I need. How do you know?",
         "words": [
          {
           "confidence": 0.9966,
           "end": 189412,
           "speaker": "A",
           "start": 188962,
           "text": "Listen,"
          },
          {
           "confidence": 0.99716,
           "end": 189652,
           "speaker": "A",
           "start": 189475,
           "text": "tell"
          },
          {
           "confidence": 1,
           "end": 189802,
           "speaker": "A",
           "start": 189670,
           "text": "me"
          },
          {
           "confidence": 0.99982,
           "end": 189997,
           "speaker": "A",
           "start": 189820,
           "text": "about"
          },
          {
           "confidence": 0.9993,
           "end": 190222,
           "speaker": "A",
           "start": 190030,
           "text": "this"
          },
          {
           "confidence": 0.99966,
           "end": 190572,
           "speaker": "A",
           "start": 190255,
           "text": "marriage"
          },
          {
           "confidence": 0.99,
           "end": 190777,
           "speaker": "A",
           "start": 190617,
           "text": "of"
          },
          {
           "confidence": 0.99414,
           "end": 191097,
           "speaker": "A",
           "start": 190795,
           "text": "yours"
          },
          {
           "confidence": 0.99904,
           "end": 191347,
           "speaker": "A",
           "start": 191142,
           "text": "this"
          },
          {
           "confidence": 0.99917,
           "end": 191572,
           "speaker": "A",
           "start": 191380,
           "text": "man"
          },
          {
           "confidence": 0.99823,
           "end": 191797,
           "speaker": "A",
           "start": 191605,
           "text": "who"
          },
          {
           "confidence": 0.99355,
           "end": 192327,
           "speaker": "A",
           "start": 191830,
           "text": "nobody"
          },
          {
           "confidence": 0.9984,
           "end": 192697,
           "speaker": "A",
           "start": 192432,
           "text": "ever"
          },
          {
           "confidence": 0.56941,
           "end": 192967,
           "speaker": "A",
           "start": 192730,
           "text": "seems"
          },
          {
           "confidence": 1,
           "end": 193132,
           "speaker": "A",
           "start": 193015,
           "text": "to"
          },
          {
           "confidence": 0.99515,
           "end": 193297,
           "speaker": "A",
           "start": 193135,
           "text": "see."
          },
          {
           "confidence": 0.99448,
           "end": 193522,
           "speaker": "A",
           "start": 193330,
           "text": "We"
          },
          {
           "confidence": 0.99967,
           "end": 193747,
           "speaker": "A",
           "start": 193555,
           "text": "heard"
          },
          {
           "confidence": 0.98,
           "end": 193927,
           "speaker": "A",
           "start": 193780,
           "text": "that"
          },
          {
           "confidence": 0.99756,
           "end": 194032,
           "speaker": "A",
           "start": 193945,
           "text": "he"
          },
          {
           "confidence": 0.99642,
           "end": 194152,
           "speaker": "A",
           "start": 194035,
           "text": "was"
          },
          {
           "confidence": 0.58996,
           "end": 194437,
           "speaker": "A",
           "start": 194170,
           "text": "here,"
          },
          {
           "confidence": 0.59642,
           "end": 194722,
           "speaker": "A",
           "start": 194500,
           "text": "we"
          },
          {
           "confidence": 0.5106,
           "end": 194947,
           "speaker": "A",
           "start": 194755,
           "text": "heard"
          },
          {
           "confidence": 0.97,
           "end": 195082,
           "speaker": "A",
           "start": 194980,
           "text": "that"
          },
          {
           "confidence": 0.79768,
           "end": 195202,
           "speaker": "A",
           "start": 195085,
           "text": "he"
          },
          {
           "confidence": 0.70057,
           "end": 195487,
           "speaker": "A",
           "start": 195220,
           "text": "was,"
          },
          {
           "confidence": 0.96908,
           "end": 195727,
           "speaker": "A",
           "start": 195550,
           "text": "but"
          },
          {
           "confidence": 0.99765,
           "end": 195882,
           "speaker": "A",
           "start": 195745,
           "text": "none"
          },
          {
           "confidence": 1,
           "end": 195982,
           "speaker": "A",
           "start": 195897,
           "text": "of"
          },
          {
           "confidence": 1,
           "end": 196102,
           "speaker": "A",
           "start": 195985,
           "text": "us"
          },
          {
           "confidence": 0.85322,
           "end": 196207,
           "speaker": "A",
           "start": 196120,
           "text": "have"
          },
          {
           "confidence": 0.98718,
           "end": 196372,
           "speaker": "A",
           "start": 196210,
           "text": "seen"
          },
          {
           "confidence": 0.96596,
           "end": 196732,
           "speaker": "A",
           "start": 196405,
           "text": "him."
          },
          {
           "confidence": 0.67854,
           "end": 197127,
           "speaker": "A",
           "start": 196810,
           "text": "Paul"
          },
          {
           "confidence": 0.74084,
           "end": 197832,
           "speaker": "A",
           "start": 197157,
           "text": "Dean,"
          },
          {
           "confidence": 0.99,
           "end": 198277,
           "speaker": "A",
           "start": 197997,
           "text": "you"
          },
          {
           "confidence": 0.995,
           "end": 198432,
           "speaker": "A",
           "start": 198295,
           "text": "don't"
          },
          {
           "confidence": 0.99192,
           "end": 198622,
           "speaker": "A",
           "start": 198447,
           "text": "see"
          },
          {
           "confidence": 0.93908,
           "end": 198847,
           "speaker": "A",
           "start": 198655,
           "text": "him"
          },
          {
           "confidence": 0.99982,
           "end": 199072,
           "speaker": "A",
           "start": 198880,
           "text": "very"
          },
          {
           "confidence": 0.99997,
           "end": 199477,
           "speaker": "A",
           "start": 199105,
           "text": "much."
          },
          {
           "confidence": 0.9428,
           "end": 199857,
           "speaker": "A",
           "start": 199570,
           "text": "You're"
          },
          {
           "confidence": 0.99949,
           "end": 200002,
           "speaker": "A",
           "start": 199872,
           "text": "on"
          },
          {
           "confidence": 1,
           "end": 200107,
           "speaker": "A",
           "start": 200020,
           "text": "the"
          },
          {
           "confidence": 0.81209,
           "end": 200362,
           "speaker": "A",
           "start": 200110,
           "text": "road"
          },
          {
           "confidence": 0.99977,
           "end": 200647,
           "speaker": "A",
           "start": 200425,
           "text": "most"
          },
          {
           "confidence": 0.98,
           "end": 200782,
           "speaker": "A",
           "start": 200680,
           "text": "of"
          },
          {
           "confidence": 0.99,
           "end": 200902,
           "speaker": "A",
           "start": 200785,
           "text": "the"
          },
          {
           "confidence": 0.9986,
           "end": 201142,
           "speaker": "A",
           "start": 200920,
           "text": "time."
          },
          {
           "confidence": 0.58451,
           "end": 201402,
           "speaker": "A",
           "start": 201190,
           "text": "You've"
          },
          {
           "confidence": 0.99912,
           "end": 201667,
           "speaker": "A",
           "start": 201432,
           "text": "said,"
          },
          {
           "confidence": 1,
           "end": 201877,
           "speaker": "A",
           "start": 201715,
           "text": "I"
          },
          {
           "confidence": 0.99953,
           "end": 202072,
           "speaker": "A",
           "start": 201895,
           "text": "know"
          },
          {
           "confidence": 1,
           "end": 202297,
           "speaker": "A",
           "start": 202105,
           "text": "that"
          },
          {
           "confidence": 0.99922,
           "end": 202522,
           "speaker": "A",
           "start": 202330,
           "text": "this"
          },
          {
           "confidence": 0.99962,
           "end": 202872,
           "speaker": "A",
           "start": 202555,
           "text": "marriage"
          },
          {
           "confidence": 0.99926,
           "end": 203122,
           "speaker": "A",
           "start": 202917,
           "text": "will"
          },
          {
           "confidence": 0.99993,
           "end": 203437,
           "speaker": "A",
           "start": 203155,
           "text": "always"
          },
          {
           "confidence": 0.99957,
           "end": 203947,
           "speaker": "A",
           "start": 203500,
           "text": "last."
          },
          {
           "confidence": 0.99873,
           "end": 204322,
           "speaker": "A",
           "start": 204055,
           "text": "This"
          },
          {
           "confidence": 0.99913,
           "end": 204547,
           "speaker": "A",
           "start": 204355,
           "text": "man"
          },
          {
           "confidence": 0.99561,
           "end": 204772,
           "speaker": "A",
           "start": 204580,
           "text": "gives"
          },
          {
           "confidence": 1,
           "end": 204997,
           "speaker": "A",
           "start": 204805,
           "text": "me"
          },
          {
           "confidence": 0.99984,
           "end": 205312,
           "speaker": "A",
           "start": 205030,
           "text": "everything"
          },
          {
           "confidence": 1,
           "end": 205552,
           "speaker": "A",
           "start": 205375,
           "text": "I"
          },
          {
           "confidence": 0.99972,
           "end": 206150,
           "speaker": "A",
           "start": 205570,
           "text": "need."
          },
          {
           "confidence": 0.97125,
           "end": 206902,
           "speaker": "A",
           "start": 206587,
           "text": "How"
          },
          {
           "confidence": 0.91293,
           "end": 207052,
           "speaker": "A",
           "start": 206920,
           "text": "do"
          },
          {
           "confidence": 1,
           "end": 207202,
           "speaker": "A",
           "start": 207070,
           "text": "you"
          },
          {
           "confidence": 0.99939,
           "end": 207712,
           "speaker": "A",
           "start": 207220,
           "text": "know?"
          }
         ]
        },
        {
         "confidence": 0.9253666666666667,
         "end": 210762,
         "speaker": "B",
         "start": 207850,
         "text": "Well, I need freedom. The man gives me freedom.",
         "words": [
          {
           "confidence": 0.96871,
           "end": 208147,
           "speaker": "B",
           "start": 207850,
           "text": "Well,"
          },
          {
           "confidence": 0.99,
           "end": 208327,
           "speaker": "B",
           "start": 208180,
           "text": "I"
          },
          {
           "confidence": 0.99264,
           "end": 208567,
           "speaker": "B",
           "start": 208345,
           "text": "need"
          },
          {
           "confidence": 0.94188,
           "end": 209202,
           "speaker": "B",
           "start": 208615,
           "text": "freedom."
          },
          {
           "confidence": 0.5,
           "end": 209572,
           "speaker": "B",
           "start": 209307,
           "text": "The"
          },
          {
           "confidence": 0.94568,
           "end": 209797,
           "speaker": "B",
           "start": 209605,
           "text": "man"
          },
          {
           "confidence": 0.99023,
           "end": 210022,
           "speaker": "B",
           "start": 209830,
           "text": "gives"
          },
          {
           "confidence": 1,
           "end": 210247,
           "speaker": "B",
           "start": 210055,
           "text": "me"
          },
          {
           "confidence": 0.99916,
           "end": 210762,
           "speaker": "B",
           "start": 210280,
           "text": "freedom."
          }
         ]
        },
        {
         "confidence": 0.8490825000000001,
         "end": 211947,
         "speaker": "A",
         "start": 210837,
         "text": "So why get married?",
         "words": [
          {
           "confidence": 0.75173,
           "end": 211027,
           "speaker": "A",
           "start": 210837,
           "text": "So"
          },
          {
           "confidence": 0.8785,
           "end": 211222,
           "speaker": "A",
           "start": 211045,
           "text": "why"
          },
          {
           "confidence": 0.90845,
           "end": 211402,
           "speaker": "A",
           "start": 211255,
           "text": "get"
          },
          {
           "confidence": 0.85765,
           "end": 211947,
           "speaker": "A",
           "start": 211420,
           "text": "married?"
          }
         ]
        },
        {
         "confidence": 0.87277,
         "end": 213577,
         "speaker": "B",
         "start": 212067,
         "text": "Well, why not?",
         "words": [
          {
           "confidence": 0.91345,
           "end": 212617,
           "speaker": "B",
           "start": 212067,
           "text": "Well,"
          },
          {
           "confidence": 0.9994,
           "end": 212977,
           "speaker": "B",
           "start": 212740,
           "text": "why"
          },
          {
           "confidence": 0.70546,
           "end": 213577,
           "speaker": "B",
           "start": 212995,
           "text": "not?"
          }
         ]
        },
        {
         "confidence": 0.8475271428571428,
         "end": 218812,
         "speaker": "A",
         "start": 213745,
         "text": "Why, if I don't want most of freedom? Why have a husband away some place with these six weeks a year?",
         "words": [
          {
           "confidence": 0.97193,
           "end": 214252,
           "speaker": "A",
           "start": 213745,
           "text": "Why,"
          },
          {
           "confidence": 0.97723,
           "end": 214552,
           "speaker": "A",
           "start": 214345,
           "text": "if"
          },
          {
           "confidence": 0.69,
           "end": 214702,
           "speaker": "A",
           "start": 214570,
           "text": "I"
          },
          {
           "confidence": 0.82243,
           "end": 214807,
           "speaker": "A",
           "start": 214720,
           "text": "don't"
          },
          {
           "confidence": 0.93359,
           "end": 214972,
           "speaker": "A",
           "start": 214810,
           "text": "want"
          },
          {
           "confidence": 0.97126,
           "end": 215197,
           "speaker": "A",
           "start": 215005,
           "text": "most"
          },
          {
           "confidence": 0.81,
           "end": 215377,
           "speaker": "A",
           "start": 215230,
           "text": "of"
          },
          {
           "confidence": 0.81945,
           "end": 215697,
           "speaker": "A",
           "start": 215395,
           "text": "freedom?"
          },
          {
           "confidence": 0.97684,
           "end": 215902,
           "speaker": "A",
           "start": 215742,
           "text": "Why"
          },
          {
           "confidence": 0.99152,
           "end": 216052,
           "speaker": "A",
           "start": 215920,
           "text": "have"
          },
          {
           "confidence": 0.99,
           "end": 216202,
           "speaker": "A",
           "start": 216070,
           "text": "a"
          },
          {
           "confidence": 0.96211,
           "end": 216627,
           "speaker": "A",
           "start": 216220,
           "text": "husband"
          },
          {
           "confidence": 0.60441,
           "end": 217042,
           "speaker": "A",
           "start": 216732,
           "text": "away"
          },
          {
           "confidence": 0.98619,
           "end": 217297,
           "speaker": "A",
           "start": 217090,
           "text": "some"
          },
          {
           "confidence": 0.2578,
           "end": 217522,
           "speaker": "A",
           "start": 217330,
           "text": "place"
          },
          {
           "confidence": 0.22647,
           "end": 217702,
           "speaker": "A",
           "start": 217555,
           "text": "with"
          },
          {
           "confidence": 0.86033,
           "end": 217897,
           "speaker": "A",
           "start": 217720,
           "text": "these"
          },
          {
           "confidence": 0.99,
           "end": 218122,
           "speaker": "A",
           "start": 217930,
           "text": "six"
          },
          {
           "confidence": 0.99686,
           "end": 218347,
           "speaker": "A",
           "start": 218155,
           "text": "weeks"
          },
          {
           "confidence": 0.96,
           "end": 218527,
           "speaker": "A",
           "start": 218380,
           "text": "a"
          },
          {
           "confidence": 0.99965,
           "end": 218812,
           "speaker": "A",
           "start": 218545,
           "text": "year?"
          }
         ]
        },
        {
         "confidence": 0.9045209183673465,
         "end": 240900,
         "speaker": "B",
         "start": 218875,
         "text": "He has the same freedom. See, the thing of it is you don't find a person that you can be happy with and they can't accept you. You are and can share the things and to plan for the future and to enjoy your home. We have our foundation, we have our roots, we have all the things that everybody is looking for and that's happiness in a marriage. I've got better things to do than to sit around in my room thinking, oh, it's Carl doing tonight. I wonder if he's with somebody and this and that.",
         "words": [
          {
           "confidence": 0.99513,
           "end": 219097,
           "speaker": "B",
           "start": 218875,
           "text": "He"
          },
          {
           "confidence": 0.9992,
           "end": 219322,
           "speaker": "B",
           "start": 219130,
           "text": "has"
          },
          {
           "confidence": 0.97,
           "end": 219547,
           "speaker": "B",
           "start": 219355,
           "text": "the"
          },
          {
           "confidence": 0.99762,
           "end": 219817,
           "speaker": "B",
           "start": 219580,
           "text": "same"
          },
          {
           "confidence": 0.67735,
           "end": 220152,
           "speaker": "B",
           "start": 219865,
           "text": "freedom."
          },
          {
           "confidence": 0.94863,
           "end": 220327,
           "speaker": "B",
           "start": 220182,
           "text": "See,"
          },
          {
           "confidence": 0.98,
           "end": 220477,
           "speaker": "B",
           "start": 220345,
           "text": "the"
          },
          {
           "confidence": 0.99875,
           "end": 220627,
           "speaker": "B",
           "start": 220495,
           "text": "thing"
          },
          {
           "confidence": 0.78,
           "end": 220732,
           "speaker": "B",
           "start": 220645,
           "text": "of"
          },
          {
           "confidence": 0.58002,
           "end": 220852,
           "speaker": "B",
           "start": 220735,
           "text": "it"
          },
          {
           "confidence": 0.99,
           "end": 221047,
           "speaker": "B",
           "start": 220870,
           "text": "is"
          },
          {
           "confidence": 1,
           "end": 221182,
           "speaker": "B",
           "start": 221080,
           "text": "you"
          },
          {
           "confidence": 0.77823,
           "end": 221427,
           "speaker": "B",
           "start": 221185,
           "text": "don't"
          },
          {
           "confidence": 0.99975,
           "end": 221737,
           "speaker": "B",
           "start": 221457,
           "text": "find"
          },
          {
           "confidence": 0.99,
           "end": 221977,
           "speaker": "B",
           "start": 221800,
           "text": "a"
          },
          {
           "confidence": 0.99996,
           "end": 222262,
           "speaker": "B",
           "start": 221995,
           "text": "person"
          },
          {
           "confidence": 1,
           "end": 222502,
           "speaker": "B",
           "start": 222325,
           "text": "that"
          },
          {
           "confidence": 1,
           "end": 222652,
           "speaker": "B",
           "start": 222520,
           "text": "you"
          },
          {
           "confidence": 0.99803,
           "end": 222757,
           "speaker": "B",
           "start": 222670,
           "text": "can"
          },
          {
           "confidence": 0.99,
           "end": 222877,
           "speaker": "B",
           "start": 222760,
           "text": "be"
          },
          {
           "confidence": 0.99638,
           "end": 223117,
           "speaker": "B",
           "start": 222895,
           "text": "happy"
          },
          {
           "confidence": 0.99904,
           "end": 223327,
           "speaker": "B",
           "start": 223165,
           "text": "with"
          },
          {
           "confidence": 0.86,
           "end": 223477,
           "speaker": "B",
           "start": 223345,
           "text": "and"
          },
          {
           "confidence": 0.52121,
           "end": 223672,
           "speaker": "B",
           "start": 223495,
           "text": "they"
          },
          {
           "confidence": 0.55772,
           "end": 223902,
           "speaker": "B",
           "start": 223705,
           "text": "can't"
          },
          {
           "confidence": 0.99288,
           "end": 224352,
           "speaker": "B",
           "start": 223932,
           "text": "accept"
          },
          {
           "confidence": 0.99,
           "end": 224977,
           "speaker": "B",
           "start": 224382,
           "text": "you."
          },
          {
           "confidence": 0.55,
           "end": 225427,
           "speaker": "B",
           "start": 225145,
           "text": "You"
          },
          {
           "confidence": 0.99507,
           "end": 225667,
           "speaker": "B",
           "start": 225445,
           "text": "are"
          },
          {
           "confidence": 0.99,
           "end": 225922,
           "speaker": "B",
           "start": 225715,
           "text": "and"
          },
          {
           "confidence": 0.99812,
           "end": 226147,
           "speaker": "B",
           "start": 225955,
           "text": "can"
          },
          {
           "confidence": 0.99781,
           "end": 226372,
           "speaker": "B",
           "start": 226180,
           "text": "share"
          },
          {
           "confidence": 0.98,
           "end": 226552,
           "speaker": "B",
           "start": 226405,
           "text": "the"
          },
          {
           "confidence": 0.95424,
           "end": 226792,
           "speaker": "B",
           "start": 226570,
           "text": "things"
          },
          {
           "confidence": 0.86,
           "end": 226957,
           "speaker": "B",
           "start": 226840,
           "text": "and"
          },
          {
           "confidence": 0.42,
           "end": 227077,
           "speaker": "B",
           "start": 226960,
           "text": "to"
          },
          {
           "confidence": 0.99901,
           "end": 227317,
           "speaker": "B",
           "start": 227095,
           "text": "plan"
          },
          {
           "confidence": 0.99894,
           "end": 227527,
           "speaker": "B",
           "start": 227365,
           "text": "for"
          },
          {
           "confidence": 1,
           "end": 227677,
           "speaker": "B",
           "start": 227545,
           "text": "the"
          },
          {
           "confidence": 0.99994,
           "end": 228007,
           "speaker": "B",
           "start": 227695,
           "text": "future"
          },
          {
           "confidence": 0.94,
           "end": 228277,
           "speaker": "B",
           "start": 228085,
           "text": "and"
          },
          {
           "confidence": 0.99,
           "end": 228427,
           "speaker": "B",
           "start": 228295,
           "text": "to"
          },
          {
           "confidence": 0.99991,
           "end": 228712,
           "speaker": "B",
           "start": 228445,
           "text": "enjoy"
          },
          {
           "confidence": 0.99779,
           "end": 228952,
           "speaker": "B",
           "start": 228775,
           "text": "your"
          },
          {
           "confidence": 0.99941,
           "end": 229147,
           "speaker": "B",
           "start": 228970,
           "text": "home."
          },
          {
           "confidence": 0.99913,
           "end": 229327,
           "speaker": "B",
           "start": 229180,
           "text": "We"
          },
          {
           "confidence": 0.9982,
           "end": 229522,
           "speaker": "B",
           "start": 229345,
           "text": "have"
          },
          {
           "confidence": 0.98894,
           "end": 229882,
           "speaker": "B",
           "start": 229555,
           "text": "our"
          },
          {
           "confidence": 0.55806,
           "end": 230592,
           "speaker": "B",
           "start": 229960,
           "text": "foundation,"
          },
          {
           "confidence": 0.99653,
           "end": 230827,
           "speaker": "B",
           "start": 230652,
           "text": "we"
          },
          {
           "confidence": 0.99926,
           "end": 230932,
           "speaker": "B",
           "start": 230845,
           "text": "have"
          },
          {
           "confidence": 0.50498,
           "end": 231052,
           "speaker": "B",
           "start": 230935,
           "text": "our"
          },
          {
           "confidence": 0.95324,
           "end": 231327,
           "speaker": "B",
           "start": 231070,
           "text": "roots,"
          },
          {
           "confidence": 0.99703,
           "end": 231502,
           "speaker": "B",
           "start": 231357,
           "text": "we"
          },
          {
           "confidence": 0.99936,
           "end": 231652,
           "speaker": "B",
           "start": 231520,
           "text": "have"
          },
          {
           "confidence": 0.99943,
           "end": 231802,
           "speaker": "B",
           "start": 231670,
           "text": "all"
          },
          {
           "confidence": 0.99,
           "end": 231952,
           "speaker": "B",
           "start": 231820,
           "text": "the"
          },
          {
           "confidence": 0.99933,
           "end": 232102,
           "speaker": "B",
           "start": 231970,
           "text": "things"
          },
          {
           "confidence": 0.58,
           "end": 232297,
           "speaker": "B",
           "start": 232120,
           "text": "that"
          },
          {
           "confidence": 0.99709,
           "end": 232612,
           "speaker": "B",
           "start": 232330,
           "text": "everybody"
          },
          {
           "confidence": 0.32,
           "end": 232852,
           "speaker": "B",
           "start": 232675,
           "text": "is"
          },
          {
           "confidence": 0.9962,
           "end": 233047,
           "speaker": "B",
           "start": 232870,
           "text": "looking"
          },
          {
           "confidence": 0.99849,
           "end": 233227,
           "speaker": "B",
           "start": 233080,
           "text": "for"
          },
          {
           "confidence": 0.94,
           "end": 233377,
           "speaker": "B",
           "start": 233245,
           "text": "and"
          },
          {
           "confidence": 0.9131,
           "end": 233577,
           "speaker": "B",
           "start": 233395,
           "text": "that's"
          },
          {
           "confidence": 0.9966,
           "end": 233967,
           "speaker": "B",
           "start": 233607,
           "text": "happiness"
          },
          {
           "confidence": 0.79088,
           "end": 234202,
           "speaker": "B",
           "start": 234027,
           "text": "in"
          },
          {
           "confidence": 0.66,
           "end": 234352,
           "speaker": "B",
           "start": 234220,
           "text": "a"
          },
          {
           "confidence": 0.99959,
           "end": 234672,
           "speaker": "B",
           "start": 234370,
           "text": "marriage."
          },
          {
           "confidence": 0.58367,
           "end": 234957,
           "speaker": "B",
           "start": 234717,
           "text": "I've"
          },
          {
           "confidence": 0.99955,
           "end": 235102,
           "speaker": "B",
           "start": 234972,
           "text": "got"
          },
          {
           "confidence": 0.9998,
           "end": 235342,
           "speaker": "B",
           "start": 235120,
           "text": "better"
          },
          {
           "confidence": 0.99957,
           "end": 235597,
           "speaker": "B",
           "start": 235390,
           "text": "things"
          },
          {
           "confidence": 1,
           "end": 235732,
           "speaker": "B",
           "start": 235630,
           "text": "to"
          },
          {
           "confidence": 0.96274,
           "end": 235897,
           "speaker": "B",
           "start": 235735,
           "text": "do"
          },
          {
           "confidence": 0.98304,
           "end": 236077,
           "speaker": "B",
           "start": 235930,
           "text": "than"
          },
          {
           "confidence": 0.94,
           "end": 236182,
           "speaker": "B",
           "start": 236095,
           "text": "to"
          },
          {
           "confidence": 0.99183,
           "end": 236347,
           "speaker": "B",
           "start": 236185,
           "text": "sit"
          },
          {
           "confidence": 0.99627,
           "end": 236572,
           "speaker": "B",
           "start": 236380,
           "text": "around"
          },
          {
           "confidence": 0.99059,
           "end": 236752,
           "speaker": "B",
           "start": 236605,
           "text": "in"
          },
          {
           "confidence": 1,
           "end": 236902,
           "speaker": "B",
           "start": 236770,
           "text": "my"
          },
          {
           "confidence": 0.99983,
           "end": 237142,
           "speaker": "B",
           "start": 236920,
           "text": "room"
          },
          {
           "confidence": 0.94185,
           "end": 237532,
           "speaker": "B",
           "start": 237190,
           "text": "thinking,"
          },
          {
           "confidence": 0.72,
           "end": 237847,
           "speaker": "B",
           "start": 237610,
           "text": "oh,"
          },
          {
           "confidence": 0.20168,
           "end": 238077,
           "speaker": "B",
           "start": 237880,
           "text": "it's"
          },
          {
           "confidence": 0.95858,
           "end": 238377,
           "speaker": "B",
           "start": 238107,
           "text": "Carl"
          },
          {
           "confidence": 0.98012,
           "end": 238597,
           "speaker": "B",
           "start": 238407,
           "text": "doing"
          },
          {
           "confidence": 0.8059,
           "end": 238872,
           "speaker": "B",
           "start": 238630,
           "text": "tonight."
          },
          {
           "confidence": 0.96,
           "end": 239032,
           "speaker": "B",
           "start": 238917,
           "text": "I"
          },
          {
           "confidence": 0.94256,
           "end": 239242,
           "speaker": "B",
           "start": 239035,
           "text": "wonder"
          },
          {
           "confidence": 0.99967,
           "end": 239452,
           "speaker": "B",
           "start": 239290,
           "text": "if"
          },
          {
           "confidence": 0.55015,
           "end": 239652,
           "speaker": "B",
           "start": 239470,
           "text": "he's"
          },
          {
           "confidence": 0.99668,
           "end": 239872,
           "speaker": "B",
           "start": 239682,
           "text": "with"
          },
          {
           "confidence": 0.99504,
           "end": 240232,
           "speaker": "B",
           "start": 239905,
           "text": "somebody"
          },
          {
           "confidence": 0.9,
           "end": 240502,
           "speaker": "B",
           "start": 240310,
           "text": "and"
          },
          {
           "confidence": 0.96835,
           "end": 240652,
           "speaker": "B",
           "start": 240520,
           "text": "this"
          },
          {
           "confidence": 0.91,
           "end": 240802,
           "speaker": "B",
           "start": 240670,
           "text": "and"
          },
          {
           "confidence": 0.93,
           "end": 240900,
           "speaker": "B",
           "start": 240820,
           "text": "that."
          }
         ]
        }
       ],
       "webhook_auth": false,
       "webhook_auth_header_name": null,
       "webhook_status_code": null,
       "webhook_url": null,
       "word_boost": [],
       "words": [
        {
         "confidence": 0.67758,
         "end": 1187,
         "speaker": "A",
         "start": 462,
         "text": "Dolly"
        },
        {
         "confidence": 0.97134,
         "end": 1897,
         "speaker": "A",
         "start": 1537,
         "text": "where"
        },
        {
         "confidence": 0.81,
         "end": 2167,
         "speaker": "A",
         "start": 1930,
         "text": "I"
        },
        {
         "confidence": 0.9969,
         "end": 2422,
         "speaker": "A",
         "start": 2215,
         "text": "come"
        },
        {
         "confidence": 0.99961,
         "end": 2827,
         "speaker": "A",
         "start": 2455,
         "text": "from."
        },
        {
         "confidence": 0.47957,
         "end": 3127,
         "speaker": "A",
         "start": 2920,
         "text": "Would"
        },
        {
         "confidence": 0.74,
         "end": 3322,
         "speaker": "A",
         "start": 3145,
         "text": "I"
        },
        {
         "confidence": 0.99436,
         "end": 3502,
         "speaker": "A",
         "start": 3355,
         "text": "have"
        },
        {
         "confidence": 0.98301,
         "end": 3742,
         "speaker": "A",
         "start": 3520,
         "text": "called"
        },
        {
         "confidence": 1,
         "end": 3952,
         "speaker": "A",
         "start": 3790,
         "text": "you"
        },
        {
         "confidence": 0.99,
         "end": 4102,
         "speaker": "A",
         "start": 3970,
         "text": "a"
        },
        {
         "confidence": 0.94885,
         "end": 5127,
         "speaker": "A",
         "start": 4120,
         "text": "hillbilly?"
        },
        {
         "confidence": 0.99907,
         "end": 5647,
         "speaker": "B",
         "start": 5307,
         "text": "If"
        },
        {
         "confidence": 1,
         "end": 5827,
         "speaker": "B",
         "start": 5680,
         "text": "you"
        },
        {
         "confidence": 0.97597,
         "end": 6022,
         "speaker": "B",
         "start": 5845,
         "text": "had"
        },
        {
         "confidence": 0.57,
         "end": 6382,
         "speaker": "B",
         "start": 6055,
         "text": "of"
        },
        {
         "confidence": 0.99784,
         "end": 6652,
         "speaker": "B",
         "start": 6460,
         "text": "it"
        },
        {
         "confidence": 0.99841,
         "end": 6757,
         "speaker": "B",
         "start": 6670,
         "text": "would"
        },
        {
         "confidence": 0.42768,
         "end": 6877,
         "speaker": "B",
         "start": 6760,
         "text": "have"
        },
        {
         "confidence": 0.99804,
         "end": 7072,
         "speaker": "B",
         "start": 6895,
         "text": "been"
        },
        {
         "confidence": 0.99448,
         "end": 7342,
         "speaker": "B",
         "start": 7105,
         "text": "something"
        },
        {
         "confidence": 0.99838,
         "end": 7597,
         "speaker": "B",
         "start": 7390,
         "text": "very"
        },
        {
         "confidence": 0.9994,
         "end": 7977,
         "speaker": "B",
         "start": 7630,
         "text": "natural"
        },
        {
         "confidence": 0.99335,
         "end": 8152,
         "speaker": "B",
         "start": 8007,
         "text": "but"
        },
        {
         "confidence": 1,
         "end": 8257,
         "speaker": "B",
         "start": 8170,
         "text": "I"
        },
        {
         "confidence": 0.98795,
         "end": 8377,
         "speaker": "B",
         "start": 8260,
         "text": "would"
        },
        {
         "confidence": 0.59235,
         "end": 8617,
         "speaker": "B",
         "start": 8395,
         "text": "have"
        },
        {
         "confidence": 0.99872,
         "end": 8962,
         "speaker": "B",
         "start": 8665,
         "text": "probably"
        },
        {
         "confidence": 0.99371,
         "end": 9282,
         "speaker": "B",
         "start": 9025,
         "text": "kicked"
        },
        {
         "confidence": 0.97394,
         "end": 9427,
         "speaker": "B",
         "start": 9297,
         "text": "your"
        },
        {
         "confidence": 0.86004,
         "end": 9717,
         "speaker": "B",
         "start": 9445,
         "text": "shins"
        },
        {
         "confidence": 0.99663,
         "end": 9952,
         "speaker": "B",
         "start": 9777,
         "text": "or"
        },
        {
         "confidence": 0.95692,
         "end": 10550,
         "speaker": "B",
         "start": 9970,
         "text": "something."
        },
        {
         "confidence": 0.93748,
         "end": 11542,
         "speaker": "B",
         "start": 11137,
         "text": "No,"
        },
        {
         "confidence": 0.94866,
         "end": 11887,
         "speaker": "B",
         "start": 11590,
         "text": "actually."
        },
        {
         "confidence": 0.72545,
         "end": 12127,
         "speaker": "A",
         "start": 11950,
         "text": "But"
        },
        {
         "confidence": 0.98347,
         "end": 12277,
         "speaker": "A",
         "start": 12145,
         "text": "when"
        },
        {
         "confidence": 1,
         "end": 12427,
         "speaker": "A",
         "start": 12295,
         "text": "I"
        },
        {
         "confidence": 0.99512,
         "end": 12577,
         "speaker": "A",
         "start": 12445,
         "text": "think"
        },
        {
         "confidence": 0.99,
         "end": 12727,
         "speaker": "A",
         "start": 12595,
         "text": "of"
        },
        {
         "confidence": 0.89778,
         "end": 12877,
         "speaker": "A",
         "start": 12745,
         "text": "your"
        },
        {
         "confidence": 0.28241,
         "end": 13257,
         "speaker": "A",
         "start": 12895,
         "text": "beliefs"
        },
        {
         "confidence": 0.27,
         "end": 13402,
         "speaker": "A",
         "start": 13272,
         "text": "and"
        },
        {
         "confidence": 0.92,
         "end": 13552,
         "speaker": "A",
         "start": 13420,
         "text": "I"
        },
        {
         "confidence": 0.78147,
         "end": 13747,
         "speaker": "A",
         "start": 13570,
         "text": "think"
        },
        {
         "confidence": 0.97,
         "end": 13927,
         "speaker": "A",
         "start": 13780,
         "text": "of"
        },
        {
         "confidence": 0.94683,
         "end": 14122,
         "speaker": "A",
         "start": 13945,
         "text": "your"
        },
        {
         "confidence": 0.9912,
         "end": 14302,
         "speaker": "A",
         "start": 14155,
         "text": "kind"
        },
        {
         "confidence": 0.94,
         "end": 14407,
         "speaker": "A",
         "start": 14320,
         "text": "of."
        },
        {
         "confidence": 0.97919,
         "end": 14617,
         "speaker": "B",
         "start": 14410,
         "text": "People"
        },
        {
         "confidence": 0.96,
         "end": 14827,
         "speaker": "B",
         "start": 14665,
         "text": "I"
        },
        {
         "confidence": 0.99815,
         "end": 15022,
         "speaker": "B",
         "start": 14845,
         "text": "think"
        },
        {
         "confidence": 1,
         "end": 15247,
         "speaker": "B",
         "start": 15055,
         "text": "you"
        },
        {
         "confidence": 0.99979,
         "end": 15607,
         "speaker": "B",
         "start": 15280,
         "text": "probably"
        },
        {
         "confidence": 0.99749,
         "end": 16147,
         "speaker": "B",
         "start": 15685,
         "text": "are,"
        },
        {
         "confidence": 0.77,
         "end": 16522,
         "speaker": "B",
         "start": 16255,
         "text": "the"
        },
        {
         "confidence": 0.99996,
         "end": 16747,
         "speaker": "B",
         "start": 16555,
         "text": "people"
        },
        {
         "confidence": 0.71,
         "end": 16972,
         "speaker": "B",
         "start": 16780,
         "text": "that"
        },
        {
         "confidence": 0.97203,
         "end": 17232,
         "speaker": "B",
         "start": 17005,
         "text": "grew"
        },
        {
         "confidence": 0.99684,
         "end": 17422,
         "speaker": "B",
         "start": 17247,
         "text": "up"
        },
        {
         "confidence": 0.98785,
         "end": 17602,
         "speaker": "B",
         "start": 17455,
         "text": "where"
        },
        {
         "confidence": 1,
         "end": 17752,
         "speaker": "B",
         "start": 17620,
         "text": "I"
        },
        {
         "confidence": 0.99786,
         "end": 18037,
         "speaker": "B",
         "start": 17770,
         "text": "was"
        },
        {
         "confidence": 0.95812,
         "end": 18277,
         "speaker": "B",
         "start": 18100,
         "text": "were"
        },
        {
         "confidence": 0.55,
         "end": 18427,
         "speaker": "B",
         "start": 18295,
         "text": "the"
        },
        {
         "confidence": 1,
         "end": 18667,
         "speaker": "B",
         "start": 18445,
         "text": "ones"
        },
        {
         "confidence": 0.78,
         "end": 18877,
         "speaker": "B",
         "start": 18715,
         "text": "that"
        },
        {
         "confidence": 0.67,
         "end": 19027,
         "speaker": "B",
         "start": 18895,
         "text": "you"
        },
        {
         "confidence": 0.68103,
         "end": 19222,
         "speaker": "B",
         "start": 19045,
         "text": "would"
        },
        {
         "confidence": 0.99993,
         "end": 19537,
         "speaker": "B",
         "start": 19255,
         "text": "consider"
        },
        {
         "confidence": 0.8,
         "end": 19822,
         "speaker": "B",
         "start": 19600,
         "text": "the"
        },
        {
         "confidence": 0.93292,
         "end": 20047,
         "speaker": "B",
         "start": 19855,
         "text": "little"
        },
        {
         "confidence": 0.8086,
         "end": 20442,
         "speaker": "B",
         "start": 20080,
         "text": "abner"
        },
        {
         "confidence": 0.99858,
         "end": 20947,
         "speaker": "B",
         "start": 20502,
         "text": "people"
        },
        {
         "confidence": 0.41929,
         "end": 21552,
         "speaker": "B",
         "start": 21055,
         "text": "daisy"
        },
        {
         "confidence": 0.6,
         "end": 21772,
         "speaker": "B",
         "start": 21582,
         "text": "May"
        },
        {
         "confidence": 0.97,
         "end": 21952,
         "speaker": "B",
         "start": 21805,
         "text": "and"
        },
        {
         "confidence": 0.99,
         "end": 22102,
         "speaker": "B",
         "start": 21970,
         "text": "that"
        },
        {
         "confidence": 0.96498,
         "end": 22252,
         "speaker": "B",
         "start": 22120,
         "text": "sort"
        },
        {
         "confidence": 0.99,
         "end": 22357,
         "speaker": "B",
         "start": 22270,
         "text": "of"
        },
        {
         "confidence": 0.99954,
         "end": 22522,
         "speaker": "B",
         "start": 22360,
         "text": "thing."
        },
        {
         "confidence": 0.99553,
         "end": 22702,
         "speaker": "B",
         "start": 22555,
         "text": "They"
        },
        {
         "confidence": 0.79385,
         "end": 22942,
         "speaker": "B",
         "start": 22720,
         "text": "took"
        },
        {
         "confidence": 1,
         "end": 23242,
         "speaker": "B",
         "start": 22990,
         "text": "that"
        },
        {
         "confidence": 0.98289,
         "end": 23497,
         "speaker": "B",
         "start": 23290,
         "text": "kind"
        },
        {
         "confidence": 0.99,
         "end": 24125,
         "speaker": "B",
         "start": 23530,
         "text": "of"
        },
        {
         "confidence": 0.9987,
         "end": 25357,
         "speaker": "B",
         "start": 24862,
         "text": "thing"
        },
        {
         "confidence": 0.99936,
         "end": 25762,
         "speaker": "B",
         "start": 25435,
         "text": "from"
        },
        {
         "confidence": 0.99988,
         "end": 26227,
         "speaker": "B",
         "start": 25825,
         "text": "people"
        },
        {
         "confidence": 0.9997,
         "end": 26662,
         "speaker": "B",
         "start": 26320,
         "text": "like"
        },
        {
         "confidence": 1,
         "end": 26992,
         "speaker": "B",
         "start": 26725,
         "text": "us."
        },
        {
         "confidence": 0.92168,
         "end": 27517,
         "speaker": "B",
         "start": 27040,
         "text": "But"
        },
        {
         "confidence": 0.99858,
         "end": 27877,
         "speaker": "B",
         "start": 27640,
         "text": "we"
        },
        {
         "confidence": 0.72596,
         "end": 28072,
         "speaker": "B",
         "start": 27895,
         "text": "were"
        },
        {
         "confidence": 0.99716,
         "end": 28432,
         "speaker": "B",
         "start": 28105,
         "text": "very"
        },
        {
         "confidence": 0.99965,
         "end": 28962,
         "speaker": "B",
         "start": 28510,
         "text": "proud"
        },
        {
         "confidence": 0.9653,
         "end": 29497,
         "speaker": "B",
         "start": 29037,
         "text": "people,"
        },
        {
         "confidence": 0.66054,
         "end": 29917,
         "speaker": "B",
         "start": 29605,
         "text": "people"
        },
        {
         "confidence": 0.90484,
         "end": 30172,
         "speaker": "B",
         "start": 29965,
         "text": "with"
        },
        {
         "confidence": 0.99,
         "end": 30307,
         "speaker": "B",
         "start": 30205,
         "text": "a"
        },
        {
         "confidence": 0.96268,
         "end": 30472,
         "speaker": "B",
         "start": 30310,
         "text": "lot"
        },
        {
         "confidence": 1,
         "end": 30652,
         "speaker": "B",
         "start": 30505,
         "text": "of"
        },
        {
         "confidence": 0.99519,
         "end": 30937,
         "speaker": "B",
         "start": 30670,
         "text": "class."
        },
        {
         "confidence": 0.98851,
         "end": 31177,
         "speaker": "B",
         "start": 31000,
         "text": "It"
        },
        {
         "confidence": 0.99819,
         "end": 31372,
         "speaker": "B",
         "start": 31195,
         "text": "was"
        },
        {
         "confidence": 0.99966,
         "end": 31732,
         "speaker": "B",
         "start": 31405,
         "text": "country"
        },
        {
         "confidence": 0.99909,
         "end": 32137,
         "speaker": "B",
         "start": 31810,
         "text": "class,"
        },
        {
         "confidence": 0.99037,
         "end": 32377,
         "speaker": "B",
         "start": 32200,
         "text": "but"
        },
        {
         "confidence": 0.99778,
         "end": 32527,
         "speaker": "B",
         "start": 32395,
         "text": "it"
        },
        {
         "confidence": 0.99936,
         "end": 32722,
         "speaker": "B",
         "start": 32545,
         "text": "was"
        },
        {
         "confidence": 1,
         "end": 32857,
         "speaker": "B",
         "start": 32755,
         "text": "a"
        },
        {
         "confidence": 0.91581,
         "end": 33067,
         "speaker": "B",
         "start": 32860,
         "text": "great"
        },
        {
         "confidence": 0.99976,
         "end": 33322,
         "speaker": "B",
         "start": 33115,
         "text": "deal"
        },
        {
         "confidence": 0.24,
         "end": 33502,
         "speaker": "B",
         "start": 33355,
         "text": "of"
        },
        {
         "confidence": 0.99352,
         "end": 33742,
         "speaker": "B",
         "start": 33520,
         "text": "class"
        },
        {
         "confidence": 0.69,
         "end": 34402,
         "speaker": "B",
         "start": 33790,
         "text": "and"
        },
        {
         "confidence": 0.99981,
         "end": 34942,
         "speaker": "B",
         "start": 34570,
         "text": "most"
        },
        {
         "confidence": 1,
         "end": 35600,
         "speaker": "B",
         "start": 34990,
         "text": "of"
        },
        {
         "confidence": 1,
         "end": 36472,
         "speaker": "B",
         "start": 36112,
         "text": "my"
        },
        {
         "confidence": 0.99994,
         "end": 36742,
         "speaker": "B",
         "start": 36505,
         "text": "people"
        },
        {
         "confidence": 0.50897,
         "end": 37132,
         "speaker": "B",
         "start": 36790,
         "text": "were"
        },
        {
         "confidence": 0.99948,
         "end": 37402,
         "speaker": "B",
         "start": 37210,
         "text": "not"
        },
        {
         "confidence": 0.75,
         "end": 37642,
         "speaker": "B",
         "start": 37420,
         "text": "that"
        },
        {
         "confidence": 0.99937,
         "end": 38307,
         "speaker": "B",
         "start": 37690,
         "text": "educated"
        },
        {
         "confidence": 0.98464,
         "end": 38602,
         "speaker": "B",
         "start": 38397,
         "text": "but"
        },
        {
         "confidence": 0.52894,
         "end": 38797,
         "speaker": "B",
         "start": 38620,
         "text": "they"
        },
        {
         "confidence": 0.99092,
         "end": 39112,
         "speaker": "B",
         "start": 38830,
         "text": "are"
        },
        {
         "confidence": 0.99672,
         "end": 39622,
         "speaker": "B",
         "start": 39175,
         "text": "very"
        },
        {
         "confidence": 0.54261,
         "end": 40422,
         "speaker": "B",
         "start": 39730,
         "text": "intelligent."
        },
        {
         "confidence": 0.99528,
         "end": 40762,
         "speaker": "B",
         "start": 40467,
         "text": "Good"
        },
        {
         "confidence": 0.99385,
         "end": 41092,
         "speaker": "B",
         "start": 40825,
         "text": "common"
        },
        {
         "confidence": 0.96342,
         "end": 41437,
         "speaker": "B",
         "start": 41140,
         "text": "sense"
        },
        {
         "confidence": 0.95392,
         "end": 41772,
         "speaker": "B",
         "start": 41500,
         "text": "horse"
        },
        {
         "confidence": 0.35407,
         "end": 42022,
         "speaker": "B",
         "start": 41817,
         "text": "since"
        },
        {
         "confidence": 0.99942,
         "end": 42202,
         "speaker": "B",
         "start": 42055,
         "text": "we"
        },
        {
         "confidence": 0.98713,
         "end": 42397,
         "speaker": "B",
         "start": 42220,
         "text": "called"
        },
        {
         "confidence": 0.99521,
         "end": 42667,
         "speaker": "B",
         "start": 42430,
         "text": "it"
        },
        {
         "confidence": 0.15456,
         "end": 43047,
         "speaker": "B",
         "start": 42715,
         "text": "darling."
        },
        {
         "confidence": 0.99824,
         "end": 43252,
         "speaker": "A",
         "start": 43092,
         "text": "Did"
        },
        {
         "confidence": 1,
         "end": 43402,
         "speaker": "A",
         "start": 43270,
         "text": "you"
        },
        {
         "confidence": 0.99496,
         "end": 43597,
         "speaker": "A",
         "start": 43420,
         "text": "look"
        },
        {
         "confidence": 0.99901,
         "end": 43777,
         "speaker": "A",
         "start": 43630,
         "text": "like"
        },
        {
         "confidence": 0.99083,
         "end": 43972,
         "speaker": "A",
         "start": 43795,
         "text": "this"
        },
        {
         "confidence": 0.99979,
         "end": 44107,
         "speaker": "A",
         "start": 44005,
         "text": "when"
        },
        {
         "confidence": 0.73,
         "end": 44227,
         "speaker": "A",
         "start": 44110,
         "text": "you"
        },
        {
         "confidence": 0.97688,
         "end": 44377,
         "speaker": "A",
         "start": 44245,
         "text": "were"
        },
        {
         "confidence": 0.98,
         "end": 44482,
         "speaker": "A",
         "start": 44395,
         "text": "a"
        },
        {
         "confidence": 0.99961,
         "end": 44917,
         "speaker": "A",
         "start": 44485,
         "text": "kid?"
        },
        {
         "confidence": 0.99579,
         "end": 45367,
         "speaker": "B",
         "start": 45040,
         "text": "Not"
        },
        {
         "confidence": 0.96897,
         "end": 45757,
         "speaker": "B",
         "start": 45415,
         "text": "quite."
        },
        {
         "confidence": 0.55,
         "end": 45982,
         "speaker": "A",
         "start": 45835,
         "text": "I"
        },
        {
         "confidence": 0.97453,
         "end": 46462,
         "speaker": "A",
         "start": 45985,
         "text": "mean,"
        },
        {
         "confidence": 0.97,
         "end": 46852,
         "speaker": "A",
         "start": 46600,
         "text": "you"
        },
        {
         "confidence": 0.90202,
         "end": 47007,
         "speaker": "A",
         "start": 46870,
         "text": "didn't"
        },
        {
         "confidence": 0.83442,
         "end": 47152,
         "speaker": "A",
         "start": 47022,
         "text": "have"
        },
        {
         "confidence": 0.91,
         "end": 47257,
         "speaker": "A",
         "start": 47170,
         "text": "the"
        },
        {
         "confidence": 0.3718,
         "end": 47577,
         "speaker": "A",
         "start": 47260,
         "text": "blonde"
        },
        {
         "confidence": 0.54158,
         "end": 47802,
         "speaker": "A",
         "start": 47607,
         "text": "wig"
        },
        {
         "confidence": 0.93742,
         "end": 47977,
         "speaker": "A",
         "start": 47832,
         "text": "but"
        },
        {
         "confidence": 0.98504,
         "end": 48127,
         "speaker": "A",
         "start": 47995,
         "text": "when"
        },
        {
         "confidence": 0.5,
         "end": 48277,
         "speaker": "A",
         "start": 48145,
         "text": "I"
        },
        {
         "confidence": 0.99772,
         "end": 48472,
         "speaker": "A",
         "start": 48295,
         "text": "went"
        },
        {
         "confidence": 1,
         "end": 48697,
         "speaker": "A",
         "start": 48505,
         "text": "to"
        },
        {
         "confidence": 0.99998,
         "end": 49417,
         "speaker": "A",
         "start": 48730,
         "text": "school"
        },
        {
         "confidence": 0.99901,
         "end": 49972,
         "speaker": "A",
         "start": 49615,
         "text": "when"
        },
        {
         "confidence": 1,
         "end": 50152,
         "speaker": "A",
         "start": 50005,
         "text": "you"
        },
        {
         "confidence": 0.89741,
         "end": 50842,
         "speaker": "A",
         "start": 50170,
         "text": "were"
        },
        {
         "confidence": 0.99,
         "end": 51567,
         "speaker": "A",
         "start": 51040,
         "text": "11,"
        },
        {
         "confidence": 1,
         "end": 51937,
         "speaker": "A",
         "start": 51627,
         "text": "12,"
        },
        {
         "confidence": 0.92,
         "end": 52712,
         "speaker": "A",
         "start": 52000,
         "text": "13"
        },
        {
         "confidence": 0.98529,
         "end": 54022,
         "speaker": "A",
         "start": 53662,
         "text": "was"
        },
        {
         "confidence": 0.5651,
         "end": 54472,
         "speaker": "A",
         "start": 54055,
         "text": "it"
        },
        {
         "confidence": 0.94368,
         "end": 54892,
         "speaker": "A",
         "start": 54580,
         "text": "this"
        },
        {
         "confidence": 0.9871,
         "end": 55192,
         "speaker": "A",
         "start": 54940,
         "text": "about"
        },
        {
         "confidence": 0.92,
         "end": 55537,
         "speaker": "A",
         "start": 55240,
         "text": "you?"
        },
        {
         "confidence": 0.90698,
         "end": 56002,
         "speaker": "B",
         "start": 55600,
         "text": "Well,"
        },
        {
         "confidence": 0.97,
         "end": 56302,
         "speaker": "B",
         "start": 56095,
         "text": "you"
        },
        {
         "confidence": 0.99446,
         "end": 56857,
         "speaker": "B",
         "start": 56320,
         "text": "mean"
        },
        {
         "confidence": 0.99,
         "end": 57367,
         "speaker": "B",
         "start": 57010,
         "text": "the"
        },
        {
         "confidence": 0.88906,
         "end": 58025,
         "speaker": "B",
         "start": 57415,
         "text": "full"
        },
        {
         "confidence": 0.99875,
         "end": 59600,
         "speaker": "B",
         "start": 58837,
         "text": "figure?"
        },
        {
         "confidence": 0.7799,
         "end": 60622,
         "speaker": "A",
         "start": 60262,
         "text": "Yeah,"
        },
        {
         "confidence": 0.85758,
         "end": 60882,
         "speaker": "A",
         "start": 60655,
         "text": "that's"
        },
        {
         "confidence": 0.98243,
         "end": 61027,
         "speaker": "A",
         "start": 60897,
         "text": "what"
        },
        {
         "confidence": 0.99,
         "end": 61132,
         "speaker": "A",
         "start": 61045,
         "text": "I"
        },
        {
         "confidence": 0.49747,
         "end": 61347,
         "speaker": "A",
         "start": 61135,
         "text": "meant."
        },
        {
         "confidence": 0.68109,
         "end": 61777,
         "speaker": "B",
         "start": 61392,
         "text": "Yeah,"
        },
        {
         "confidence": 0.7665,
         "end": 62127,
         "speaker": "B",
         "start": 61870,
         "text": "that's"
        },
        {
         "confidence": 0.99455,
         "end": 62302,
         "speaker": "B",
         "start": 62157,
         "text": "what"
        },
        {
         "confidence": 0.97,
         "end": 62452,
         "speaker": "B",
         "start": 62320,
         "text": "you"
        },
        {
         "confidence": 0.99681,
         "end": 62787,
         "speaker": "B",
         "start": 62470,
         "text": "meant."
        },
        {
         "confidence": 0.78306,
         "end": 63142,
         "speaker": "B",
         "start": 62862,
         "text": "Well,"
        },
        {
         "confidence": 0.99578,
         "end": 63577,
         "speaker": "B",
         "start": 63190,
         "text": "actually"
        },
        {
         "confidence": 0.98427,
         "end": 64002,
         "speaker": "B",
         "start": 63670,
         "text": "I've"
        },
        {
         "confidence": 0.99991,
         "end": 64267,
         "speaker": "B",
         "start": 64032,
         "text": "always"
        },
        {
         "confidence": 0.77262,
         "end": 64612,
         "speaker": "B",
         "start": 64315,
         "text": "been"
        },
        {
         "confidence": 0.99812,
         "end": 64897,
         "speaker": "B",
         "start": 64675,
         "text": "pretty"
        },
        {
         "confidence": 0.99879,
         "end": 65167,
         "speaker": "B",
         "start": 64930,
         "text": "well"
        },
        {
         "confidence": 0.99073,
         "end": 65967,
         "speaker": "B",
         "start": 65215,
         "text": "blessed"
        },
        {
         "confidence": 0.95742,
         "end": 66397,
         "speaker": "B",
         "start": 66102,
         "text": "as"
        },
        {
         "confidence": 0.99,
         "end": 66532,
         "speaker": "B",
         "start": 66430,
         "text": "a"
        },
        {
         "confidence": 0.99971,
         "end": 66742,
         "speaker": "B",
         "start": 66535,
         "text": "child."
        },
        {
         "confidence": 0.99,
         "end": 66952,
         "speaker": "B",
         "start": 66790,
         "text": "I"
        },
        {
         "confidence": 0.99896,
         "end": 67152,
         "speaker": "B",
         "start": 66970,
         "text": "grew"
        },
        {
         "confidence": 0.99895,
         "end": 67372,
         "speaker": "B",
         "start": 67182,
         "text": "up"
        },
        {
         "confidence": 0.99798,
         "end": 68000,
         "speaker": "B",
         "start": 67405,
         "text": "fast."
        },
        {
         "confidence": 0.99289,
         "end": 68812,
         "speaker": "B",
         "start": 68362,
         "text": "Other"
        },
        {
         "confidence": 0.99895,
         "end": 69142,
         "speaker": "B",
         "start": 68875,
         "text": "members"
        },
        {
         "confidence": 0.99,
         "end": 69352,
         "speaker": "B",
         "start": 69190,
         "text": "of"
        },
        {
         "confidence": 1,
         "end": 69547,
         "speaker": "B",
         "start": 69370,
         "text": "my"
        },
        {
         "confidence": 0.99981,
         "end": 70132,
         "speaker": "B",
         "start": 69580,
         "text": "family"
        },
        {
         "confidence": 0.98791,
         "end": 70597,
         "speaker": "B",
         "start": 70285,
         "text": "have"
        },
        {
         "confidence": 0.99931,
         "end": 70822,
         "speaker": "B",
         "start": 70630,
         "text": "done"
        },
        {
         "confidence": 0.9,
         "end": 71002,
         "speaker": "B",
         "start": 70855,
         "text": "the"
        },
        {
         "confidence": 0.93714,
         "end": 71600,
         "speaker": "B",
         "start": 71020,
         "text": "same."
        },
        {
         "confidence": 0.99,
         "end": 72802,
         "speaker": "A",
         "start": 72262,
         "text": "My"
        },
        {
         "confidence": 0.97235,
         "end": 73422,
         "speaker": "A",
         "start": 72895,
         "text": "assistant"
        },
        {
         "confidence": 0.97547,
         "end": 73672,
         "speaker": "A",
         "start": 73467,
         "text": "asked"
        },
        {
         "confidence": 1,
         "end": 73897,
         "speaker": "A",
         "start": 73705,
         "text": "me"
        },
        {
         "confidence": 0.99942,
         "end": 74212,
         "speaker": "A",
         "start": 73930,
         "text": "something"
        },
        {
         "confidence": 0.98,
         "end": 74452,
         "speaker": "A",
         "start": 74275,
         "text": "and"
        },
        {
         "confidence": 0.98842,
         "end": 74607,
         "speaker": "A",
         "start": 74470,
         "text": "I'm"
        },
        {
         "confidence": 0.99684,
         "end": 74707,
         "speaker": "A",
         "start": 74622,
         "text": "going"
        },
        {
         "confidence": 1,
         "end": 74782,
         "speaker": "A",
         "start": 74710,
         "text": "to"
        },
        {
         "confidence": 0.99642,
         "end": 74952,
         "speaker": "A",
         "start": 74785,
         "text": "blame"
        },
        {
         "confidence": 0.43117,
         "end": 75127,
         "speaker": "A",
         "start": 74982,
         "text": "it"
        },
        {
         "confidence": 0.94945,
         "end": 75277,
         "speaker": "A",
         "start": 75145,
         "text": "on"
        },
        {
         "confidence": 0.9705,
         "end": 75427,
         "speaker": "A",
         "start": 75295,
         "text": "her"
        },
        {
         "confidence": 0.94363,
         "end": 75577,
         "speaker": "A",
         "start": 75445,
         "text": "because"
        },
        {
         "confidence": 1,
         "end": 75682,
         "speaker": "A",
         "start": 75595,
         "text": "I"
        },
        {
         "confidence": 0.61853,
         "end": 75882,
         "speaker": "A",
         "start": 75685,
         "text": "wouldn't"
        },
        {
         "confidence": 0.98607,
         "end": 75982,
         "speaker": "A",
         "start": 75897,
         "text": "have"
        },
        {
         "confidence": 0.8438,
         "end": 76102,
         "speaker": "A",
         "start": 75985,
         "text": "had"
        },
        {
         "confidence": 0.95,
         "end": 76207,
         "speaker": "A",
         "start": 76120,
         "text": "the"
        },
        {
         "confidence": 0.69972,
         "end": 76497,
         "speaker": "A",
         "start": 76210,
         "text": "nerve"
        },
        {
         "confidence": 0.99454,
         "end": 77172,
         "speaker": "A",
         "start": 76542,
         "text": "otherwise."
        },
        {
         "confidence": 0.99,
         "end": 77527,
         "speaker": "A",
         "start": 77292,
         "text": "Is"
        },
        {
         "confidence": 0.98512,
         "end": 77722,
         "speaker": "A",
         "start": 77545,
         "text": "it"
        },
        {
         "confidence": 0.9977,
         "end": 77947,
         "speaker": "A",
         "start": 77755,
         "text": "all"
        },
        {
         "confidence": 1,
         "end": 78575,
         "speaker": "A",
         "start": 77980,
         "text": "you?"
        },
        {
         "confidence": 0.96937,
         "end": 80122,
         "speaker": "B",
         "start": 79762,
         "text": "Well,"
        },
        {
         "confidence": 1,
         "end": 80302,
         "speaker": "B",
         "start": 80155,
         "text": "I"
        },
        {
         "confidence": 0.98754,
         "end": 80622,
         "speaker": "B",
         "start": 80320,
         "text": "can't"
        },
        {
         "confidence": 0.99379,
         "end": 80917,
         "speaker": "B",
         "start": 80667,
         "text": "show"
        },
        {
         "confidence": 0.86,
         "end": 81217,
         "speaker": "B",
         "start": 80965,
         "text": "you."
        },
        {
         "confidence": 0.02634,
         "end": 81875,
         "speaker": "B",
         "start": 81265,
         "text": "Yeah,"
        },
        {
         "confidence": 0.75518,
         "end": 82977,
         "speaker": "B",
         "start": 82612,
         "text": "I'll"
        },
        {
         "confidence": 0.97307,
         "end": 83197,
         "speaker": "B",
         "start": 83007,
         "text": "take"
        },
        {
         "confidence": 0.93305,
         "end": 83377,
         "speaker": "B",
         "start": 83230,
         "text": "your"
        },
        {
         "confidence": 0.92201,
         "end": 83617,
         "speaker": "B",
         "start": 83395,
         "text": "word"
        },
        {
         "confidence": 0.9922,
         "end": 83827,
         "speaker": "B",
         "start": 83665,
         "text": "for"
        },
        {
         "confidence": 0.96484,
         "end": 84022,
         "speaker": "B",
         "start": 83845,
         "text": "it."
        },
        {
         "confidence": 0.97,
         "end": 84202,
         "speaker": "B",
         "start": 84055,
         "text": "I"
        },
        {
         "confidence": 0.98574,
         "end": 84397,
         "speaker": "B",
         "start": 84220,
         "text": "get"
        },
        {
         "confidence": 0.9961,
         "end": 84667,
         "speaker": "B",
         "start": 84430,
         "text": "asked"
        },
        {
         "confidence": 1,
         "end": 84922,
         "speaker": "B",
         "start": 84715,
         "text": "that"
        },
        {
         "confidence": 0.99931,
         "end": 85237,
         "speaker": "B",
         "start": 84955,
         "text": "question."
        },
        {
         "confidence": 0.94,
         "end": 85747,
         "speaker": "B",
         "start": 85300,
         "text": "I"
        },
        {
         "confidence": 0.99773,
         "end": 86212,
         "speaker": "B",
         "start": 85855,
         "text": "always"
        },
        {
         "confidence": 0.99908,
         "end": 86542,
         "speaker": "B",
         "start": 86275,
         "text": "answer"
        },
        {
         "confidence": 0.98,
         "end": 86977,
         "speaker": "B",
         "start": 86590,
         "text": "that"
        },
        {
         "confidence": 0.98424,
         "end": 87367,
         "speaker": "B",
         "start": 87070,
         "text": "because"
        },
        {
         "confidence": 0.99761,
         "end": 87892,
         "speaker": "B",
         "start": 87415,
         "text": "people"
        },
        {
         "confidence": 0.99725,
         "end": 88297,
         "speaker": "B",
         "start": 88015,
         "text": "are"
        },
        {
         "confidence": 0.95969,
         "end": 88612,
         "speaker": "B",
         "start": 88330,
         "text": "in"
        },
        {
         "confidence": 0.9505,
         "end": 88852,
         "speaker": "B",
         "start": 88675,
         "text": "all"
        },
        {
         "confidence": 0.89,
         "end": 89047,
         "speaker": "B",
         "start": 88870,
         "text": "of"
        },
        {
         "confidence": 1,
         "end": 89227,
         "speaker": "B",
         "start": 89080,
         "text": "the"
        },
        {
         "confidence": 0.99728,
         "end": 89422,
         "speaker": "B",
         "start": 89245,
         "text": "whole"
        },
        {
         "confidence": 0.9927,
         "end": 89737,
         "speaker": "B",
         "start": 89455,
         "text": "thing"
        },
        {
         "confidence": 0.98,
         "end": 89932,
         "speaker": "B",
         "start": 89800,
         "text": "a"
        },
        {
         "confidence": 0.99852,
         "end": 90052,
         "speaker": "B",
         "start": 89935,
         "text": "lot"
        },
        {
         "confidence": 1,
         "end": 90157,
         "speaker": "B",
         "start": 90070,
         "text": "of"
        },
        {
         "confidence": 0.99992,
         "end": 90367,
         "speaker": "B",
         "start": 90160,
         "text": "people"
        },
        {
         "confidence": 0.99875,
         "end": 90622,
         "speaker": "B",
         "start": 90415,
         "text": "say"
        },
        {
         "confidence": 0.99,
         "end": 90802,
         "speaker": "B",
         "start": 90655,
         "text": "I"
        },
        {
         "confidence": 0.99601,
         "end": 90997,
         "speaker": "B",
         "start": 90820,
         "text": "have"
        },
        {
         "confidence": 0.73,
         "end": 91177,
         "speaker": "B",
         "start": 91030,
         "text": "a"
        },
        {
         "confidence": 0.99993,
         "end": 91282,
         "speaker": "B",
         "start": 91195,
         "text": "lot"
        },
        {
         "confidence": 0.99,
         "end": 91402,
         "speaker": "B",
         "start": 91285,
         "text": "of"
        },
        {
         "confidence": 0.99976,
         "end": 91912,
         "speaker": "B",
         "start": 91420,
         "text": "people"
        },
        {
         "confidence": 0.99534,
         "end": 92347,
         "speaker": "B",
         "start": 92050,
         "text": "say"
        },
        {
         "confidence": 0.96,
         "end": 92572,
         "speaker": "B",
         "start": 92380,
         "text": "I"
        },
        {
         "confidence": 0.88454,
         "end": 92797,
         "speaker": "B",
         "start": 92605,
         "text": "have"
        },
        {
         "confidence": 0.65154,
         "end": 93067,
         "speaker": "B",
         "start": 92830,
         "text": "it."
        },
        {
         "confidence": 0.8,
         "end": 93277,
         "speaker": "B",
         "start": 93115,
         "text": "I"
        },
        {
         "confidence": 0.96177,
         "end": 93562,
         "speaker": "B",
         "start": 93295,
         "text": "always"
        },
        {
         "confidence": 0.99866,
         "end": 93982,
         "speaker": "B",
         "start": 93625,
         "text": "say"
        },
        {
         "confidence": 1,
         "end": 94297,
         "speaker": "B",
         "start": 94060,
         "text": "that"
        },
        {
         "confidence": 0.99877,
         "end": 94477,
         "speaker": "B",
         "start": 94330,
         "text": "if"
        },
        {
         "confidence": 1,
         "end": 94627,
         "speaker": "B",
         "start": 94495,
         "text": "I"
        },
        {
         "confidence": 0.96649,
         "end": 94917,
         "speaker": "B",
         "start": 94645,
         "text": "hadn't"
        },
        {
         "confidence": 0.99702,
         "end": 95152,
         "speaker": "B",
         "start": 94977,
         "text": "had"
        },
        {
         "confidence": 0.9982,
         "end": 95302,
         "speaker": "B",
         "start": 95170,
         "text": "it"
        },
        {
         "confidence": 0.99937,
         "end": 95452,
         "speaker": "B",
         "start": 95320,
         "text": "on"
        },
        {
         "confidence": 1,
         "end": 95602,
         "speaker": "B",
         "start": 95470,
         "text": "my"
        },
        {
         "confidence": 0.99976,
         "end": 95797,
         "speaker": "B",
         "start": 95620,
         "text": "own"
        },
        {
         "confidence": 0.97482,
         "end": 95982,
         "speaker": "B",
         "start": 95830,
         "text": "I'm"
        },
        {
         "confidence": 0.99827,
         "end": 96127,
         "speaker": "B",
         "start": 95997,
         "text": "just"
        },
        {
         "confidence": 0.98,
         "end": 96277,
         "speaker": "B",
         "start": 96145,
         "text": "the"
        },
        {
         "confidence": 0.99383,
         "end": 96427,
         "speaker": "B",
         "start": 96295,
         "text": "kind"
        },
        {
         "confidence": 1,
         "end": 96532,
         "speaker": "B",
         "start": 96445,
         "text": "of"
        },
        {
         "confidence": 0.84252,
         "end": 96742,
         "speaker": "B",
         "start": 96535,
         "text": "person"
        },
        {
         "confidence": 0.99,
         "end": 96952,
         "speaker": "B",
         "start": 96790,
         "text": "that"
        },
        {
         "confidence": 0.99903,
         "end": 97057,
         "speaker": "B",
         "start": 96970,
         "text": "would"
        },
        {
         "confidence": 0.78991,
         "end": 97177,
         "speaker": "B",
         "start": 97060,
         "text": "have"
        },
        {
         "confidence": 0.98484,
         "end": 97327,
         "speaker": "B",
         "start": 97195,
         "text": "had"
        },
        {
         "confidence": 0.8,
         "end": 97477,
         "speaker": "B",
         "start": 97345,
         "text": "me"
        },
        {
         "confidence": 0.97726,
         "end": 97627,
         "speaker": "B",
         "start": 97495,
         "text": "if"
        },
        {
         "confidence": 0.98,
         "end": 97777,
         "speaker": "B",
         "start": 97645,
         "text": "I"
        },
        {
         "confidence": 0.99648,
         "end": 98375,
         "speaker": "B",
         "start": 97795,
         "text": "made"
        },
        {
         "confidence": 1,
         "end": 99097,
         "speaker": "B",
         "start": 98737,
         "text": "you"
        },
        {
         "confidence": 0.9906,
         "end": 99327,
         "speaker": "B",
         "start": 99130,
         "text": "don't."
        },
        {
         "confidence": 0.99968,
         "end": 99502,
         "speaker": "A",
         "start": 99357,
         "text": "Have"
        },
        {
         "confidence": 1,
         "end": 99652,
         "speaker": "A",
         "start": 99520,
         "text": "to"
        },
        {
         "confidence": 0.99957,
         "end": 99802,
         "speaker": "A",
         "start": 99670,
         "text": "look"
        },
        {
         "confidence": 0.98511,
         "end": 99997,
         "speaker": "A",
         "start": 99820,
         "text": "like"
        },
        {
         "confidence": 0.99943,
         "end": 100447,
         "speaker": "A",
         "start": 100030,
         "text": "this."
        },
        {
         "confidence": 0.91031,
         "end": 100902,
         "speaker": "A",
         "start": 100555,
         "text": "You're"
        },
        {
         "confidence": 0.99959,
         "end": 101077,
         "speaker": "A",
         "start": 100932,
         "text": "very"
        },
        {
         "confidence": 0.99971,
         "end": 101452,
         "speaker": "A",
         "start": 101095,
         "text": "beautiful."
        },
        {
         "confidence": 0.98,
         "end": 101752,
         "speaker": "A",
         "start": 101545,
         "text": "You"
        },
        {
         "confidence": 0.98155,
         "end": 101952,
         "speaker": "A",
         "start": 101770,
         "text": "don't"
        },
        {
         "confidence": 0.99975,
         "end": 102082,
         "speaker": "A",
         "start": 101982,
         "text": "have"
        },
        {
         "confidence": 0.85,
         "end": 102202,
         "speaker": "A",
         "start": 102085,
         "text": "to"
        },
        {
         "confidence": 0.99653,
         "end": 102357,
         "speaker": "A",
         "start": 102220,
         "text": "wear"
        },
        {
         "confidence": 1,
         "end": 102457,
         "speaker": "A",
         "start": 102372,
         "text": "the"
        },
        {
         "confidence": 0.6237,
         "end": 102807,
         "speaker": "A",
         "start": 102460,
         "text": "blonde"
        },
        {
         "confidence": 0.91042,
         "end": 103362,
         "speaker": "A",
         "start": 102822,
         "text": "wigs"
        },
        {
         "confidence": 0.95,
         "end": 103627,
         "speaker": "A",
         "start": 103437,
         "text": "you"
        },
        {
         "confidence": 0.993,
         "end": 103827,
         "speaker": "A",
         "start": 103645,
         "text": "don't"
        },
        {
         "confidence": 0.99965,
         "end": 103957,
         "speaker": "A",
         "start": 103857,
         "text": "have"
        },
        {
         "confidence": 0.59,
         "end": 104077,
         "speaker": "A",
         "start": 103960,
         "text": "to"
        },
        {
         "confidence": 0.99539,
         "end": 104277,
         "speaker": "A",
         "start": 104095,
         "text": "wear"
        },
        {
         "confidence": 0.99,
         "end": 104452,
         "speaker": "A",
         "start": 104307,
         "text": "the"
        },
        {
         "confidence": 0.84767,
         "end": 104772,
         "speaker": "A",
         "start": 104470,
         "text": "extreme"
        },
        {
         "confidence": 0.9963,
         "end": 105222,
         "speaker": "A",
         "start": 104817,
         "text": "clothes."
        },
        {
         "confidence": 0.99574,
         "end": 105877,
         "speaker": "A",
         "start": 105267,
         "text": "Right?"
        },
        {
         "confidence": 0.97956,
         "end": 106687,
         "speaker": "B",
         "start": 106045,
         "text": "No,"
        },
        {
         "confidence": 0.73202,
         "end": 107202,
         "speaker": "B",
         "start": 106825,
         "text": "it's"
        },
        {
         "confidence": 0.99823,
         "end": 107467,
         "speaker": "B",
         "start": 107232,
         "text": "certainly"
        },
        {
         "confidence": 0.97,
         "end": 107677,
         "speaker": "B",
         "start": 107515,
         "text": "a"
        },
        {
         "confidence": 0.53279,
         "end": 108087,
         "speaker": "B",
         "start": 107695,
         "text": "choice."
        },
        {
         "confidence": 1,
         "end": 108352,
         "speaker": "B",
         "start": 108162,
         "text": "I"
        },
        {
         "confidence": 0.9792,
         "end": 108687,
         "speaker": "B",
         "start": 108370,
         "text": "don't"
        },
        {
         "confidence": 0.70811,
         "end": 108997,
         "speaker": "B",
         "start": 108762,
         "text": "like"
        },
        {
         "confidence": 0.99,
         "end": 109267,
         "speaker": "B",
         "start": 109030,
         "text": "to"
        },
        {
         "confidence": 1,
         "end": 109522,
         "speaker": "B",
         "start": 109315,
         "text": "be"
        },
        {
         "confidence": 0.99811,
         "end": 109792,
         "speaker": "B",
         "start": 109555,
         "text": "like"
        },
        {
         "confidence": 0.99856,
         "end": 110137,
         "speaker": "B",
         "start": 109840,
         "text": "everybody"
        },
        {
         "confidence": 0.99846,
         "end": 110422,
         "speaker": "B",
         "start": 110200,
         "text": "else."
        },
        {
         "confidence": 0.95053,
         "end": 110652,
         "speaker": "B",
         "start": 110455,
         "text": "I've"
        },
        {
         "confidence": 0.9986,
         "end": 110872,
         "speaker": "B",
         "start": 110682,
         "text": "often"
        },
        {
         "confidence": 0.62766,
         "end": 111142,
         "speaker": "B",
         "start": 110905,
         "text": "made"
        },
        {
         "confidence": 0.92059,
         "end": 111442,
         "speaker": "B",
         "start": 111190,
         "text": "this"
        },
        {
         "confidence": 0.79888,
         "end": 111867,
         "speaker": "B",
         "start": 111490,
         "text": "statement"
        },
        {
         "confidence": 0.97,
         "end": 112282,
         "speaker": "B",
         "start": 111927,
         "text": "that"
        },
        {
         "confidence": 1,
         "end": 112552,
         "speaker": "B",
         "start": 112360,
         "text": "I"
        },
        {
         "confidence": 0.99053,
         "end": 112702,
         "speaker": "B",
         "start": 112570,
         "text": "would"
        },
        {
         "confidence": 0.99922,
         "end": 112897,
         "speaker": "B",
         "start": 112720,
         "text": "never"
        },
        {
         "confidence": 0.94465,
         "end": 113202,
         "speaker": "B",
         "start": 112930,
         "text": "stoop"
        },
        {
         "confidence": 0.99291,
         "end": 113377,
         "speaker": "B",
         "start": 113232,
         "text": "so"
        },
        {
         "confidence": 0.97363,
         "end": 113527,
         "speaker": "B",
         "start": 113395,
         "text": "low"
        },
        {
         "confidence": 0.80948,
         "end": 113677,
         "speaker": "B",
         "start": 113545,
         "text": "as"
        },
        {
         "confidence": 1,
         "end": 113782,
         "speaker": "B",
         "start": 113695,
         "text": "to"
        },
        {
         "confidence": 0.99,
         "end": 113902,
         "speaker": "B",
         "start": 113785,
         "text": "be"
        },
        {
         "confidence": 0.56211,
         "end": 114417,
         "speaker": "B",
         "start": 113920,
         "text": "fashionable."
        },
        {
         "confidence": 0.97727,
         "end": 114657,
         "speaker": "B",
         "start": 114477,
         "text": "That's"
        },
        {
         "confidence": 1,
         "end": 114802,
         "speaker": "B",
         "start": 114672,
         "text": "the"
        },
        {
         "confidence": 0.97431,
         "end": 115152,
         "speaker": "B",
         "start": 114820,
         "text": "easiest"
        },
        {
         "confidence": 0.99974,
         "end": 115327,
         "speaker": "B",
         "start": 115182,
         "text": "thing"
        },
        {
         "confidence": 0.99729,
         "end": 115477,
         "speaker": "B",
         "start": 115345,
         "text": "in"
        },
        {
         "confidence": 1,
         "end": 115582,
         "speaker": "B",
         "start": 115495,
         "text": "the"
        },
        {
         "confidence": 0.99972,
         "end": 115792,
         "speaker": "B",
         "start": 115585,
         "text": "world"
        },
        {
         "confidence": 0.97,
         "end": 116002,
         "speaker": "B",
         "start": 115840,
         "text": "to"
        },
        {
         "confidence": 0.99853,
         "end": 116377,
         "speaker": "B",
         "start": 116020,
         "text": "do."
        },
        {
         "confidence": 0.78476,
         "end": 116677,
         "speaker": "B",
         "start": 116470,
         "text": "So"
        },
        {
         "confidence": 0.95,
         "end": 116872,
         "speaker": "B",
         "start": 116695,
         "text": "I"
        },
        {
         "confidence": 0.99642,
         "end": 117097,
         "speaker": "B",
         "start": 116905,
         "text": "just"
        },
        {
         "confidence": 0.99942,
         "end": 117567,
         "speaker": "B",
         "start": 117130,
         "text": "decided"
        },
        {
         "confidence": 1,
         "end": 117847,
         "speaker": "B",
         "start": 117627,
         "text": "that"
        },
        {
         "confidence": 1,
         "end": 118027,
         "speaker": "B",
         "start": 117880,
         "text": "I"
        },
        {
         "confidence": 0.99698,
         "end": 118222,
         "speaker": "B",
         "start": 118045,
         "text": "would"
        },
        {
         "confidence": 0.99957,
         "end": 118492,
         "speaker": "B",
         "start": 118255,
         "text": "do"
        },
        {
         "confidence": 0.99967,
         "end": 118972,
         "speaker": "B",
         "start": 118540,
         "text": "something"
        },
        {
         "confidence": 0.92,
         "end": 119302,
         "speaker": "B",
         "start": 119080,
         "text": "that"
        },
        {
         "confidence": 0.98478,
         "end": 119497,
         "speaker": "B",
         "start": 119320,
         "text": "would"
        },
        {
         "confidence": 1,
         "end": 119632,
         "speaker": "B",
         "start": 119530,
         "text": "at"
        },
        {
         "confidence": 0.9862,
         "end": 119842,
         "speaker": "B",
         "start": 119635,
         "text": "least"
        },
        {
         "confidence": 0.99826,
         "end": 120097,
         "speaker": "B",
         "start": 119890,
         "text": "get"
        },
        {
         "confidence": 0.99,
         "end": 120277,
         "speaker": "B",
         "start": 120130,
         "text": "the"
        },
        {
         "confidence": 0.9988,
         "end": 120687,
         "speaker": "B",
         "start": 120295,
         "text": "attention"
        },
        {
         "confidence": 0.99976,
         "end": 121042,
         "speaker": "B",
         "start": 120762,
         "text": "once"
        },
        {
         "confidence": 0.98956,
         "end": 121252,
         "speaker": "B",
         "start": 121090,
         "text": "they"
        },
        {
         "confidence": 0.9968,
         "end": 121447,
         "speaker": "B",
         "start": 121270,
         "text": "got"
        },
        {
         "confidence": 0.99,
         "end": 121717,
         "speaker": "B",
         "start": 121480,
         "text": "past"
        },
        {
         "confidence": 0.98,
         "end": 121972,
         "speaker": "B",
         "start": 121765,
         "text": "the"
        },
        {
         "confidence": 0.95938,
         "end": 122772,
         "speaker": "B",
         "start": 122005,
         "text": "shock"
        },
        {
         "confidence": 0.98,
         "end": 123322,
         "speaker": "B",
         "start": 122967,
         "text": "of"
        },
        {
         "confidence": 0.98,
         "end": 123547,
         "speaker": "B",
         "start": 123355,
         "text": "the"
        },
        {
         "confidence": 0.9568,
         "end": 124197,
         "speaker": "B",
         "start": 123580,
         "text": "ridiculous"
        },
        {
         "confidence": 0.99123,
         "end": 124447,
         "speaker": "B",
         "start": 124242,
         "text": "way"
        },
        {
         "confidence": 0.96,
         "end": 124627,
         "speaker": "B",
         "start": 124480,
         "text": "I"
        },
        {
         "confidence": 0.9898,
         "end": 124822,
         "speaker": "B",
         "start": 124645,
         "text": "looked"
        },
        {
         "confidence": 0.98,
         "end": 125002,
         "speaker": "B",
         "start": 124855,
         "text": "and"
        },
        {
         "confidence": 0.9974,
         "end": 125152,
         "speaker": "B",
         "start": 125020,
         "text": "all"
        },
        {
         "confidence": 1,
         "end": 125347,
         "speaker": "B",
         "start": 125170,
         "text": "that,"
        },
        {
         "confidence": 0.9262,
         "end": 125527,
         "speaker": "B",
         "start": 125380,
         "text": "then"
        },
        {
         "confidence": 0.98854,
         "end": 125677,
         "speaker": "B",
         "start": 125545,
         "text": "they"
        },
        {
         "confidence": 0.99453,
         "end": 125872,
         "speaker": "B",
         "start": 125695,
         "text": "would"
        },
        {
         "confidence": 0.98643,
         "end": 126097,
         "speaker": "B",
         "start": 125905,
         "text": "see"
        },
        {
         "confidence": 0.99669,
         "end": 126322,
         "speaker": "B",
         "start": 126130,
         "text": "there"
        },
        {
         "confidence": 0.97623,
         "end": 126950,
         "speaker": "B",
         "start": 126355,
         "text": "was"
        },
        {
         "confidence": 0.51,
         "end": 127627,
         "speaker": "B",
         "start": 127312,
         "text": "a"
        },
        {
         "confidence": 0.99405,
         "end": 127867,
         "speaker": "B",
         "start": 127645,
         "text": "part"
        },
        {
         "confidence": 1,
         "end": 128077,
         "speaker": "B",
         "start": 127915,
         "text": "of"
        },
        {
         "confidence": 1,
         "end": 128317,
         "speaker": "B",
         "start": 128095,
         "text": "me"
        },
        {
         "confidence": 0.99,
         "end": 128527,
         "speaker": "B",
         "start": 128365,
         "text": "to"
        },
        {
         "confidence": 0.99,
         "end": 128632,
         "speaker": "B",
         "start": 128545,
         "text": "be"
        },
        {
         "confidence": 0.87407,
         "end": 129072,
         "speaker": "B",
         "start": 128635,
         "text": "appreciated."
        },
        {
         "confidence": 0.95161,
         "end": 129327,
         "speaker": "B",
         "start": 129117,
         "text": "I'm"
        },
        {
         "confidence": 0.99938,
         "end": 129592,
         "speaker": "B",
         "start": 129357,
         "text": "very"
        },
        {
         "confidence": 1,
         "end": 130162,
         "speaker": "B",
         "start": 129640,
         "text": "real"
        },
        {
         "confidence": 0.97322,
         "end": 130597,
         "speaker": "B",
         "start": 130300,
         "text": "where"
        },
        {
         "confidence": 0.99811,
         "end": 130777,
         "speaker": "B",
         "start": 130630,
         "text": "it"
        },
        {
         "confidence": 0.99352,
         "end": 131082,
         "speaker": "B",
         "start": 130795,
         "text": "counts,"
        },
        {
         "confidence": 0.91,
         "end": 131227,
         "speaker": "B",
         "start": 131097,
         "text": "and"
        },
        {
         "confidence": 0.50044,
         "end": 131427,
         "speaker": "B",
         "start": 131245,
         "text": "that's"
        },
        {
         "confidence": 0.64876,
         "end": 131827,
         "speaker": "B",
         "start": 131457,
         "text": "inside."
        },
        {
         "confidence": 0.69,
         "end": 132127,
         "speaker": "B",
         "start": 131920,
         "text": "And"
        },
        {
         "confidence": 0.99382,
         "end": 132277,
         "speaker": "B",
         "start": 132145,
         "text": "as"
        },
        {
         "confidence": 0.99962,
         "end": 132427,
         "speaker": "B",
         "start": 132295,
         "text": "far"
        },
        {
         "confidence": 0.98493,
         "end": 132757,
         "speaker": "B",
         "start": 132445,
         "text": "as"
        },
        {
         "confidence": 0.99,
         "end": 133027,
         "speaker": "B",
         "start": 132835,
         "text": "my"
        },
        {
         "confidence": 0.61439,
         "end": 133452,
         "speaker": "B",
         "start": 133045,
         "text": "outlook"
        },
        {
         "confidence": 0.99294,
         "end": 133672,
         "speaker": "B",
         "start": 133482,
         "text": "on"
        },
        {
         "confidence": 0.99925,
         "end": 133942,
         "speaker": "B",
         "start": 133705,
         "text": "life"
        },
        {
         "confidence": 0.94,
         "end": 134152,
         "speaker": "B",
         "start": 133990,
         "text": "and"
        },
        {
         "confidence": 1,
         "end": 134302,
         "speaker": "B",
         "start": 134170,
         "text": "the"
        },
        {
         "confidence": 0.99969,
         "end": 134452,
         "speaker": "B",
         "start": 134320,
         "text": "way"
        },
        {
         "confidence": 0.99,
         "end": 134647,
         "speaker": "B",
         "start": 134470,
         "text": "I"
        },
        {
         "confidence": 0.99811,
         "end": 134872,
         "speaker": "B",
         "start": 134680,
         "text": "care"
        },
        {
         "confidence": 0.99614,
         "end": 135142,
         "speaker": "B",
         "start": 134905,
         "text": "about"
        },
        {
         "confidence": 0.99985,
         "end": 135442,
         "speaker": "B",
         "start": 135190,
         "text": "people"
        },
        {
         "confidence": 0.76,
         "end": 135607,
         "speaker": "B",
         "start": 135490,
         "text": "and"
        },
        {
         "confidence": 0.99,
         "end": 135682,
         "speaker": "B",
         "start": 135610,
         "text": "the"
        },
        {
         "confidence": 0.98477,
         "end": 135802,
         "speaker": "B",
         "start": 135685,
         "text": "way"
        },
        {
         "confidence": 0.99,
         "end": 135952,
         "speaker": "B",
         "start": 135820,
         "text": "I"
        },
        {
         "confidence": 0.99801,
         "end": 136147,
         "speaker": "B",
         "start": 135970,
         "text": "care"
        },
        {
         "confidence": 0.6672,
         "end": 136417,
         "speaker": "B",
         "start": 136180,
         "text": "about"
        },
        {
         "confidence": 0.999,
         "end": 136987,
         "speaker": "B",
         "start": 136465,
         "text": "myself"
        },
        {
         "confidence": 0.96,
         "end": 137377,
         "speaker": "B",
         "start": 137125,
         "text": "and"
        },
        {
         "confidence": 0.56,
         "end": 137572,
         "speaker": "B",
         "start": 137395,
         "text": "the"
        },
        {
         "confidence": 0.99777,
         "end": 137797,
         "speaker": "B",
         "start": 137605,
         "text": "things"
        },
        {
         "confidence": 1,
         "end": 137977,
         "speaker": "B",
         "start": 137830,
         "text": "that"
        },
        {
         "confidence": 1,
         "end": 138127,
         "speaker": "B",
         "start": 137995,
         "text": "I"
        },
        {
         "confidence": 0.99986,
         "end": 138322,
         "speaker": "B",
         "start": 138145,
         "text": "care"
        },
        {
         "confidence": 0.99989,
         "end": 138772,
         "speaker": "B",
         "start": 138355,
         "text": "about."
        },
        {
         "confidence": 0.91547,
         "end": 139192,
         "speaker": "B",
         "start": 138880,
         "text": "But"
        },
        {
         "confidence": 1,
         "end": 139402,
         "speaker": "B",
         "start": 139240,
         "text": "I"
        },
        {
         "confidence": 0.99689,
         "end": 139597,
         "speaker": "B",
         "start": 139420,
         "text": "just"
        },
        {
         "confidence": 0.99204,
         "end": 139872,
         "speaker": "B",
         "start": 139630,
         "text": "chose"
        },
        {
         "confidence": 1,
         "end": 140077,
         "speaker": "B",
         "start": 139917,
         "text": "to"
        },
        {
         "confidence": 0.99854,
         "end": 140227,
         "speaker": "B",
         "start": 140095,
         "text": "do"
        },
        {
         "confidence": 0.99822,
         "end": 140422,
         "speaker": "B",
         "start": 140245,
         "text": "this."
        },
        {
         "confidence": 0.6,
         "end": 141007,
         "speaker": "B",
         "start": 140455,
         "text": "And"
        },
        {
         "confidence": 0.99795,
         "end": 141472,
         "speaker": "B",
         "start": 141160,
         "text": "show"
        },
        {
         "confidence": 0.998,
         "end": 141787,
         "speaker": "B",
         "start": 141505,
         "text": "business"
        },
        {
         "confidence": 0.62,
         "end": 142072,
         "speaker": "B",
         "start": 141850,
         "text": "is"
        },
        {
         "confidence": 0.89,
         "end": 142342,
         "speaker": "B",
         "start": 142105,
         "text": "a"
        },
        {
         "confidence": 0.99994,
         "end": 142642,
         "speaker": "B",
         "start": 142390,
         "text": "money"
        },
        {
         "confidence": 0.9628,
         "end": 143077,
         "speaker": "B",
         "start": 142690,
         "text": "making"
        },
        {
         "confidence": 0.89028,
         "end": 143682,
         "speaker": "B",
         "start": 143170,
         "text": "joke,"
        },
        {
         "confidence": 0.86,
         "end": 144067,
         "speaker": "B",
         "start": 143772,
         "text": "and"
        },
        {
         "confidence": 0.99,
         "end": 144277,
         "speaker": "B",
         "start": 144115,
         "text": "I"
        },
        {
         "confidence": 0.96338,
         "end": 144517,
         "speaker": "B",
         "start": 144295,
         "text": "just"
        },
        {
         "confidence": 0.99887,
         "end": 144862,
         "speaker": "B",
         "start": 144565,
         "text": "always"
        },
        {
         "confidence": 0.8768,
         "end": 145407,
         "speaker": "B",
         "start": 144925,
         "text": "liked"
        },
        {
         "confidence": 0.87143,
         "end": 145872,
         "speaker": "B",
         "start": 145497,
         "text": "telling"
        },
        {
         "confidence": 0.74722,
         "end": 146537,
         "speaker": "B",
         "start": 145917,
         "text": "jokes."
        },
        {
         "confidence": 0.8213,
         "end": 147247,
         "speaker": "A",
         "start": 146887,
         "text": "But"
        },
        {
         "confidence": 0.99296,
         "end": 147427,
         "speaker": "A",
         "start": 147280,
         "text": "do"
        },
        {
         "confidence": 0.95,
         "end": 147667,
         "speaker": "A",
         "start": 147445,
         "text": "you"
        },
        {
         "confidence": 0.99889,
         "end": 147967,
         "speaker": "A",
         "start": 147715,
         "text": "ever"
        },
        {
         "confidence": 0.99967,
         "end": 148267,
         "speaker": "A",
         "start": 148015,
         "text": "feel"
        },
        {
         "confidence": 1,
         "end": 148477,
         "speaker": "A",
         "start": 148315,
         "text": "that"
        },
        {
         "confidence": 0.61436,
         "end": 148722,
         "speaker": "A",
         "start": 148495,
         "text": "you're"
        },
        {
         "confidence": 1,
         "end": 148927,
         "speaker": "A",
         "start": 148767,
         "text": "a"
        },
        {
         "confidence": 0.99547,
         "end": 149292,
         "speaker": "A",
         "start": 148945,
         "text": "joke?"
        },
        {
         "confidence": 0.98,
         "end": 149572,
         "speaker": "A",
         "start": 149352,
         "text": "That"
        },
        {
         "confidence": 0.99993,
         "end": 149842,
         "speaker": "A",
         "start": 149605,
         "text": "people"
        },
        {
         "confidence": 0.9976,
         "end": 150097,
         "speaker": "A",
         "start": 149890,
         "text": "make"
        },
        {
         "confidence": 0.99981,
         "end": 150277,
         "speaker": "A",
         "start": 150130,
         "text": "fun"
        },
        {
         "confidence": 0.52,
         "end": 150472,
         "speaker": "A",
         "start": 150295,
         "text": "of"
        },
        {
         "confidence": 1,
         "end": 150742,
         "speaker": "A",
         "start": 150505,
         "text": "you?"
        },
        {
         "confidence": 0.61,
         "end": 150952,
         "speaker": "B",
         "start": 150790,
         "text": "Oh,"
        },
        {
         "confidence": 1,
         "end": 151057,
         "speaker": "B",
         "start": 150970,
         "text": "I"
        },
        {
         "confidence": 0.99898,
         "end": 151177,
         "speaker": "B",
         "start": 151060,
         "text": "know"
        },
        {
         "confidence": 0.88295,
         "end": 151372,
         "speaker": "B",
         "start": 151195,
         "text": "they"
        },
        {
         "confidence": 0.9929,
         "end": 151597,
         "speaker": "B",
         "start": 151405,
         "text": "make"
        },
        {
         "confidence": 0.99987,
         "end": 151777,
         "speaker": "B",
         "start": 151630,
         "text": "fun"
        },
        {
         "confidence": 1,
         "end": 151927,
         "speaker": "B",
         "start": 151795,
         "text": "of"
        },
        {
         "confidence": 1,
         "end": 152437,
         "speaker": "B",
         "start": 151945,
         "text": "me"
        },
        {
         "confidence": 0.9336,
         "end": 152872,
         "speaker": "B",
         "start": 152575,
         "text": "but"
        },
        {
         "confidence": 0.99753,
         "end": 153187,
         "speaker": "B",
         "start": 152905,
         "text": "actually,"
        },
        {
         "confidence": 0.99677,
         "end": 153517,
         "speaker": "B",
         "start": 153250,
         "text": "all"
        },
        {
         "confidence": 0.99166,
         "end": 153817,
         "speaker": "B",
         "start": 153565,
         "text": "these"
        },
        {
         "confidence": 0.99968,
         "end": 154252,
         "speaker": "B",
         "start": 153865,
         "text": "years"
        },
        {
         "confidence": 0.89,
         "end": 154597,
         "speaker": "B",
         "start": 154345,
         "text": "the"
        },
        {
         "confidence": 0.99929,
         "end": 155225,
         "speaker": "B",
         "start": 154630,
         "text": "people"
        },
        {
         "confidence": 0.67776,
         "end": 155947,
         "speaker": "B",
         "start": 155587,
         "text": "have"
        },
        {
         "confidence": 0.99561,
         "end": 156172,
         "speaker": "B",
         "start": 155980,
         "text": "thought"
        },
        {
         "confidence": 0.96,
         "end": 156352,
         "speaker": "B",
         "start": 156205,
         "text": "the"
        },
        {
         "confidence": 0.99582,
         "end": 156627,
         "speaker": "B",
         "start": 156370,
         "text": "joke"
        },
        {
         "confidence": 0.98827,
         "end": 156802,
         "speaker": "B",
         "start": 156657,
         "text": "was"
        },
        {
         "confidence": 0.99755,
         "end": 156952,
         "speaker": "B",
         "start": 156820,
         "text": "on"
        },
        {
         "confidence": 0.99,
         "end": 157147,
         "speaker": "B",
         "start": 156970,
         "text": "me,"
        },
        {
         "confidence": 0.99138,
         "end": 157327,
         "speaker": "B",
         "start": 157180,
         "text": "but"
        },
        {
         "confidence": 0.93843,
         "end": 157527,
         "speaker": "B",
         "start": 157345,
         "text": "it's"
        },
        {
         "confidence": 0.99761,
         "end": 157792,
         "speaker": "B",
         "start": 157557,
         "text": "actually"
        },
        {
         "confidence": 0.99878,
         "end": 158002,
         "speaker": "B",
         "start": 157840,
         "text": "been"
        },
        {
         "confidence": 0.99418,
         "end": 158152,
         "speaker": "B",
         "start": 158020,
         "text": "on"
        },
        {
         "confidence": 0.98,
         "end": 158302,
         "speaker": "B",
         "start": 158170,
         "text": "the"
        },
        {
         "confidence": 0.68047,
         "end": 158722,
         "speaker": "B",
         "start": 158320,
         "text": "public."
        },
        {
         "confidence": 0.98,
         "end": 159097,
         "speaker": "B",
         "start": 158830,
         "text": "I"
        },
        {
         "confidence": 0.99907,
         "end": 159322,
         "speaker": "B",
         "start": 159130,
         "text": "know"
        },
        {
         "confidence": 0.99993,
         "end": 159637,
         "speaker": "B",
         "start": 159355,
         "text": "exactly"
        },
        {
         "confidence": 0.99963,
         "end": 159877,
         "speaker": "B",
         "start": 159700,
         "text": "what"
        },
        {
         "confidence": 0.97345,
         "end": 160077,
         "speaker": "B",
         "start": 159895,
         "text": "I'm"
        },
        {
         "confidence": 0.99874,
         "end": 160297,
         "speaker": "B",
         "start": 160107,
         "text": "doing"
        },
        {
         "confidence": 0.91,
         "end": 160477,
         "speaker": "B",
         "start": 160330,
         "text": "and"
        },
        {
         "confidence": 1,
         "end": 160582,
         "speaker": "B",
         "start": 160495,
         "text": "I"
        },
        {
         "confidence": 0.995,
         "end": 160747,
         "speaker": "B",
         "start": 160585,
         "text": "can"
        },
        {
         "confidence": 0.99978,
         "end": 160972,
         "speaker": "B",
         "start": 160780,
         "text": "change"
        },
        {
         "confidence": 0.99254,
         "end": 161152,
         "speaker": "B",
         "start": 161005,
         "text": "it"
        },
        {
         "confidence": 0.99,
         "end": 161302,
         "speaker": "B",
         "start": 161170,
         "text": "at"
        },
        {
         "confidence": 0.99917,
         "end": 161542,
         "speaker": "B",
         "start": 161320,
         "text": "any"
        },
        {
         "confidence": 0.9738,
         "end": 161932,
         "speaker": "B",
         "start": 161590,
         "text": "time"
        },
        {
         "confidence": 0.46059,
         "end": 162247,
         "speaker": "B",
         "start": 162010,
         "text": "or"
        },
        {
         "confidence": 0.99,
         "end": 162427,
         "speaker": "B",
         "start": 162280,
         "text": "I"
        },
        {
         "confidence": 0.99482,
         "end": 162622,
         "speaker": "B",
         "start": 162445,
         "text": "make"
        },
        {
         "confidence": 1,
         "end": 162802,
         "speaker": "B",
         "start": 162655,
         "text": "more"
        },
        {
         "confidence": 0.57052,
         "end": 163047,
         "speaker": "B",
         "start": 162820,
         "text": "jokes"
        },
        {
         "confidence": 0.9986,
         "end": 163252,
         "speaker": "B",
         "start": 163092,
         "text": "about"
        },
        {
         "confidence": 0.99398,
         "end": 163582,
         "speaker": "B",
         "start": 163270,
         "text": "myself"
        },
        {
         "confidence": 0.54641,
         "end": 164212,
         "speaker": "B",
         "start": 163660,
         "text": "than"
        },
        {
         "confidence": 0.99973,
         "end": 165097,
         "speaker": "B",
         "start": 164350,
         "text": "anybody"
        },
        {
         "confidence": 0.82485,
         "end": 165712,
         "speaker": "B",
         "start": 165280,
         "text": "because"
        },
        {
         "confidence": 0.72,
         "end": 165997,
         "speaker": "B",
         "start": 165775,
         "text": "I"
        },
        {
         "confidence": 0.97733,
         "end": 166627,
         "speaker": "B",
         "start": 166030,
         "text": "enjoy"
        },
        {
         "confidence": 0.01908,
         "end": 167077,
         "speaker": "B",
         "start": 166795,
         "text": "as"
        },
        {
         "confidence": 0.98,
         "end": 167182,
         "speaker": "B",
         "start": 167095,
         "text": "I"
        },
        {
         "confidence": 0.6215,
         "end": 167347,
         "speaker": "B",
         "start": 167185,
         "text": "say,"
        },
        {
         "confidence": 0.99,
         "end": 167527,
         "speaker": "B",
         "start": 167380,
         "text": "I"
        },
        {
         "confidence": 0.83,
         "end": 167722,
         "speaker": "B",
         "start": 167545,
         "text": "am"
        },
        {
         "confidence": 0.99666,
         "end": 167992,
         "speaker": "B",
         "start": 167755,
         "text": "sure"
        },
        {
         "confidence": 1,
         "end": 168202,
         "speaker": "B",
         "start": 168040,
         "text": "of"
        },
        {
         "confidence": 0.97309,
         "end": 168667,
         "speaker": "B",
         "start": 168220,
         "text": "myself"
        },
        {
         "confidence": 0.73036,
         "end": 169027,
         "speaker": "B",
         "start": 168790,
         "text": "as"
        },
        {
         "confidence": 0.98,
         "end": 169132,
         "speaker": "B",
         "start": 169045,
         "text": "a"
        },
        {
         "confidence": 0.99963,
         "end": 169522,
         "speaker": "B",
         "start": 169135,
         "text": "person."
        },
        {
         "confidence": 0.7482,
         "end": 170022,
         "speaker": "B",
         "start": 169630,
         "text": "I'm"
        },
        {
         "confidence": 0.99957,
         "end": 170272,
         "speaker": "B",
         "start": 170067,
         "text": "sure"
        },
        {
         "confidence": 0.99,
         "end": 170497,
         "speaker": "B",
         "start": 170305,
         "text": "of"
        },
        {
         "confidence": 1,
         "end": 170722,
         "speaker": "B",
         "start": 170530,
         "text": "my"
        },
        {
         "confidence": 0.90608,
         "end": 171477,
         "speaker": "B",
         "start": 170755,
         "text": "talent"
        },
        {
         "confidence": 0.69,
         "end": 171997,
         "speaker": "B",
         "start": 171657,
         "text": "and"
        },
        {
         "confidence": 0.99,
         "end": 172177,
         "speaker": "B",
         "start": 172030,
         "text": "to"
        },
        {
         "confidence": 1,
         "end": 172462,
         "speaker": "B",
         "start": 172195,
         "text": "me"
        },
        {
         "confidence": 0.68,
         "end": 172792,
         "speaker": "B",
         "start": 172525,
         "text": "and"
        },
        {
         "confidence": 0.95574,
         "end": 173127,
         "speaker": "B",
         "start": 172840,
         "text": "I'm"
        },
        {
         "confidence": 0.99862,
         "end": 173392,
         "speaker": "B",
         "start": 173157,
         "text": "sure"
        },
        {
         "confidence": 0.56,
         "end": 173827,
         "speaker": "B",
         "start": 173440,
         "text": "of"
        },
        {
         "confidence": 1,
         "end": 174352,
         "speaker": "B",
         "start": 173920,
         "text": "my"
        },
        {
         "confidence": 0.99937,
         "end": 175057,
         "speaker": "B",
         "start": 174445,
         "text": "love"
        },
        {
         "confidence": 0.9995,
         "end": 175522,
         "speaker": "B",
         "start": 175210,
         "text": "for"
        },
        {
         "confidence": 0.99981,
         "end": 175792,
         "speaker": "B",
         "start": 175555,
         "text": "life"
        },
        {
         "confidence": 0.98,
         "end": 176002,
         "speaker": "B",
         "start": 175840,
         "text": "and"
        },
        {
         "confidence": 1,
         "end": 176152,
         "speaker": "B",
         "start": 176020,
         "text": "that"
        },
        {
         "confidence": 0.99712,
         "end": 176302,
         "speaker": "B",
         "start": 176170,
         "text": "sort"
        },
        {
         "confidence": 0.99,
         "end": 176407,
         "speaker": "B",
         "start": 176320,
         "text": "of"
        },
        {
         "confidence": 0.99977,
         "end": 176572,
         "speaker": "B",
         "start": 176410,
         "text": "thing."
        },
        {
         "confidence": 0.98191,
         "end": 176757,
         "speaker": "B",
         "start": 176605,
         "text": "I'm"
        },
        {
         "confidence": 0.99968,
         "end": 176992,
         "speaker": "B",
         "start": 176772,
         "text": "very"
        },
        {
         "confidence": 0.99962,
         "end": 177427,
         "speaker": "B",
         "start": 177040,
         "text": "content."
        },
        {
         "confidence": 1,
         "end": 177727,
         "speaker": "B",
         "start": 177520,
         "text": "I"
        },
        {
         "confidence": 0.98172,
         "end": 177967,
         "speaker": "B",
         "start": 177745,
         "text": "like"
        },
        {
         "confidence": 0.99,
         "end": 178177,
         "speaker": "B",
         "start": 178015,
         "text": "the"
        },
        {
         "confidence": 0.99157,
         "end": 178327,
         "speaker": "B",
         "start": 178195,
         "text": "kind"
        },
        {
         "confidence": 1,
         "end": 178477,
         "speaker": "B",
         "start": 178345,
         "text": "of"
        },
        {
         "confidence": 0.99982,
         "end": 178717,
         "speaker": "B",
         "start": 178495,
         "text": "person"
        },
        {
         "confidence": 0.99,
         "end": 178927,
         "speaker": "B",
         "start": 178765,
         "text": "that"
        },
        {
         "confidence": 1,
         "end": 179077,
         "speaker": "B",
         "start": 178945,
         "text": "I"
        },
        {
         "confidence": 1,
         "end": 179317,
         "speaker": "B",
         "start": 179095,
         "text": "am"
        },
        {
         "confidence": 0.7859,
         "end": 179707,
         "speaker": "B",
         "start": 179365,
         "text": "so"
        },
        {
         "confidence": 1,
         "end": 179977,
         "speaker": "B",
         "start": 179785,
         "text": "I"
        },
        {
         "confidence": 0.99799,
         "end": 180172,
         "speaker": "B",
         "start": 179995,
         "text": "can"
        },
        {
         "confidence": 0.62098,
         "end": 180612,
         "speaker": "B",
         "start": 180205,
         "text": "afford"
        },
        {
         "confidence": 1,
         "end": 180922,
         "speaker": "B",
         "start": 180687,
         "text": "to"
        },
        {
         "confidence": 0.01284,
         "end": 181272,
         "speaker": "B",
         "start": 180955,
         "text": "pedal"
        },
        {
         "confidence": 0.99894,
         "end": 181567,
         "speaker": "B",
         "start": 181317,
         "text": "around"
        },
        {
         "confidence": 0.99,
         "end": 181822,
         "speaker": "B",
         "start": 181615,
         "text": "and"
        },
        {
         "confidence": 0.98465,
         "end": 182047,
         "speaker": "B",
         "start": 181855,
         "text": "do"
        },
        {
         "confidence": 0.04,
         "end": 182227,
         "speaker": "B",
         "start": 182080,
         "text": "the"
        },
        {
         "confidence": 0.01317,
         "end": 182422,
         "speaker": "B",
         "start": 182245,
         "text": "little"
        },
        {
         "confidence": 0.99872,
         "end": 182692,
         "speaker": "B",
         "start": 182455,
         "text": "around"
        },
        {
         "confidence": 0.99889,
         "end": 182992,
         "speaker": "B",
         "start": 182740,
         "text": "with"
        },
        {
         "confidence": 0.63073,
         "end": 183627,
         "speaker": "B",
         "start": 183040,
         "text": "makeups"
        },
        {
         "confidence": 0.97,
         "end": 183802,
         "speaker": "B",
         "start": 183657,
         "text": "and"
        },
        {
         "confidence": 0.83415,
         "end": 184152,
         "speaker": "B",
         "start": 183820,
         "text": "clothes"
        },
        {
         "confidence": 0.98,
         "end": 184327,
         "speaker": "B",
         "start": 184182,
         "text": "and"
        },
        {
         "confidence": 0.99743,
         "end": 184657,
         "speaker": "B",
         "start": 184345,
         "text": "stuff"
        },
        {
         "confidence": 0.55052,
         "end": 185107,
         "speaker": "B",
         "start": 184735,
         "text": "because"
        },
        {
         "confidence": 0.99,
         "end": 185422,
         "speaker": "B",
         "start": 185185,
         "text": "I"
        },
        {
         "confidence": 0.96,
         "end": 185872,
         "speaker": "B",
         "start": 185455,
         "text": "am"
        },
        {
         "confidence": 0.99729,
         "end": 186672,
         "speaker": "B",
         "start": 185980,
         "text": "secure"
        },
        {
         "confidence": 0.83823,
         "end": 187342,
         "speaker": "B",
         "start": 186792,
         "text": "with"
        },
        {
         "confidence": 0.99912,
         "end": 188150,
         "speaker": "B",
         "start": 187465,
         "text": "myself."
        },
        {
         "confidence": 0.9966,
         "end": 189412,
         "speaker": "A",
         "start": 188962,
         "text": "Listen,"
        },
        {
         "confidence": 0.99716,
         "end": 189652,
         "speaker": "A",
         "start": 189475,
         "text": "tell"
        },
        {
         "confidence": 1,
         "end": 189802,
         "speaker": "A",
         "start": 189670,
         "text": "me"
        },
        {
         "confidence": 0.99982,
         "end": 189997,
         "speaker": "A",
         "start": 189820,
         "text": "about"
        },
        {
         "confidence": 0.9993,
         "end": 190222,
         "speaker": "A",
         "start": 190030,
         "text": "this"
        },
        {
         "confidence": 0.99966,
         "end": 190572,
         "speaker": "A",
         "start": 190255,
         "text": "marriage"
        },
        {
         "confidence": 0.99,
         "end": 190777,
         "speaker": "A",
         "start": 190617,
         "text": "of"
        },
        {
         "confidence": 0.99414,
         "end": 191097,
         "speaker": "A",
         "start": 190795,
         "text": "yours"
        },
        {
         "confidence": 0.99904,
         "end": 191347,
         "speaker": "A",
         "start": 191142,
         "text": "this"
        },
        {
         "confidence": 0.99917,
         "end": 191572,
         "speaker": "A",
         "start": 191380,
         "text": "man"
        },
        {
         "confidence": 0.99823,
         "end": 191797,
         "speaker": "A",
         "start": 191605,
         "text": "who"
        },
        {
         "confidence": 0.99355,
         "end": 192327,
         "speaker": "A",
         "start": 191830,
         "text": "nobody"
        },
        {
         "confidence": 0.9984,
         "end": 192697,
         "speaker": "A",
         "start": 192432,
         "text": "ever"
        },
        {
         "confidence": 0.56941,
         "end": 192967,
         "speaker": "A",
         "start": 192730,
         "text": "seems"
        },
        {
         "confidence": 1,
         "end": 193132,
         "speaker": "A",
         "start": 193015,
         "text": "to"
        },
        {
         "confidence": 0.99515,
         "end": 193297,
         "speaker": "A",
         "start": 193135,
         "text": "see."
        },
        {
         "confidence": 0.99448,
         "end": 193522,
         "speaker": "A",
         "start": 193330,
         "text": "We"
        },
        {
         "confidence": 0.99967,
         "end": 193747,
         "speaker": "A",
         "start": 193555,
         "text": "heard"
        },
        {
         "confidence": 0.98,
         "end": 193927,
         "speaker": "A",
         "start": 193780,
         "text": "that"
        },
        {
         "confidence": 0.99756,
         "end": 194032,
         "speaker": "A",
         "start": 193945,
         "text": "he"
        },
        {
         "confidence": 0.99642,
         "end": 194152,
         "speaker": "A",
         "start": 194035,
         "text": "was"
        },
        {
         "confidence": 0.58996,
         "end": 194437,
         "speaker": "A",
         "start": 194170,
         "text": "here,"
        },
        {
         "confidence": 0.59642,
         "end": 194722,
         "speaker": "A",
         "start": 194500,
         "text": "we"
        },
        {
         "confidence": 0.5106,
         "end": 194947,
         "speaker": "A",
         "start": 194755,
         "text": "heard"
        },
        {
         "confidence": 0.97,
         "end": 195082,
         "speaker": "A",
         "start": 194980,
         "text": "that"
        },
        {
         "confidence": 0.79768,
         "end": 195202,
         "speaker": "A",
         "start": 195085,
         "text": "he"
        },
        {
         "confidence": 0.70057,
         "end": 195487,
         "speaker": "A",
         "start": 195220,
         "text": "was,"
        },
        {
         "confidence": 0.96908,
         "end": 195727,
         "speaker": "A",
         "start": 195550,
         "text": "but"
        },
        {
         "confidence": 0.99765,
         "end": 195882,
         "speaker": "A",
         "start": 195745,
         "text": "none"
        },
        {
         "confidence": 1,
         "end": 195982,
         "speaker": "A",
         "start": 195897,
         "text": "of"
        },
        {
         "confidence": 1,
         "end": 196102,
         "speaker": "A",
         "start": 195985,
         "text": "us"
        },
        {
         "confidence": 0.85322,
         "end": 196207,
         "speaker": "A",
         "start": 196120,
         "text": "have"
        },
        {
         "confidence": 0.98718,
         "end": 196372,
         "speaker": "A",
         "start": 196210,
         "text": "seen"
        },
        {
         "confidence": 0.96596,
         "end": 196732,
         "speaker": "A",
         "start": 196405,
         "text": "him."
        },
        {
         "confidence": 0.67854,
         "end": 197127,
         "speaker": "A",
         "start": 196810,
         "text": "Paul"
        },
        {
         "confidence": 0.74084,
         "end": 197832,
         "speaker": "A",
         "start": 197157,
         "text": "Dean,"
        },
        {
         "confidence": 0.99,
         "end": 198277,
         "speaker": "A",
         "start": 197997,
         "text": "you"
        },
        {
         "confidence": 0.995,
         "end": 198432,
         "speaker": "A",
         "start": 198295,
         "text": "don't"
        },
        {
         "confidence": 0.99192,
         "end": 198622,
         "speaker": "A",
         "start": 198447,
         "text": "see"
        },
        {
         "confidence": 0.93908,
         "end": 198847,
         "speaker": "A",
         "start": 198655,
         "text": "him"
        },
        {
         "confidence": 0.99982,
         "end": 199072,
         "speaker": "A",
         "start": 198880,
         "text": "very"
        },
        {
         "confidence": 0.99997,
         "end": 199477,
         "speaker": "A",
         "start": 199105,
         "text": "much."
        },
        {
         "confidence": 0.9428,
         "end": 199857,
         "speaker": "A",
         "start": 199570,
         "text": "You're"
        },
        {
         "confidence": 0.99949,
         "end": 200002,
         "speaker": "A",
         "start": 199872,
         "text": "on"
        },
        {
         "confidence": 1,
         "end": 200107,
         "speaker": "A",
         "start": 200020,
         "text": "the"
        },
        {
         "confidence": 0.81209,
         "end": 200362,
         "speaker": "A",
         "start": 200110,
         "text": "road"
        },
        {
         "confidence": 0.99977,
         "end": 200647,
         "speaker": "A",
         "start": 200425,
         "text": "most"
        },
        {
         "confidence": 0.98,
         "end": 200782,
         "speaker": "A",
         "start": 200680,
         "text": "of"
        },
        {
         "confidence": 0.99,
         "end": 200902,
         "speaker": "A",
         "start": 200785,
         "text": "the"
        },
        {
         "confidence": 0.9986,
         "end": 201142,
         "speaker": "A",
         "start": 200920,
         "text": "time."
        },
        {
         "confidence": 0.58451,
         "end": 201402,
         "speaker": "A",
         "start": 201190,
         "text": "You've"
        },
        {
         "confidence": 0.99912,
         "end": 201667,
         "speaker": "A",
         "start": 201432,
         "text": "said,"
        },
        {
         "confidence": 1,
         "end": 201877,
         "speaker": "A",
         "start": 201715,
         "text": "I"
        },
        {
         "confidence": 0.99953,
         "end": 202072,
         "speaker": "A",
         "start": 201895,
         "text": "know"
        },
        {
         "confidence": 1,
         "end": 202297,
         "speaker": "A",
         "start": 202105,
         "text": "that"
        },
        {
         "confidence": 0.99922,
         "end": 202522,
         "speaker": "A",
         "start": 202330,
         "text": "this"
        },
        {
         "confidence": 0.99962,
         "end": 202872,
         "speaker": "A",
         "start": 202555,
         "text": "marriage"
        },
        {
         "confidence": 0.99926,
         "end": 203122,
         "speaker": "A",
         "start": 202917,
         "text": "will"
        },
        {
         "confidence": 0.99993,
         "end": 203437,
         "speaker": "A",
         "start": 203155,
         "text": "always"
        },
        {
         "confidence": 0.99957,
         "end": 203947,
         "speaker": "A",
         "start": 203500,
         "text": "last."
        },
        {
         "confidence": 0.99873,
         "end": 204322,
         "speaker": "A",
         "start": 204055,
         "text": "This"
        },
        {
         "confidence": 0.99913,
         "end": 204547,
         "speaker": "A",
         "start": 204355,
         "text": "man"
        },
        {
         "confidence": 0.99561,
         "end": 204772,
         "speaker": "A",
         "start": 204580,
         "text": "gives"
        },
        {
         "confidence": 1,
         "end": 204997,
         "speaker": "A",
         "start": 204805,
         "text": "me"
        },
        {
         "confidence": 0.99984,
         "end": 205312,
         "speaker": "A",
         "start": 205030,
         "text": "everything"
        },
        {
         "confidence": 1,
         "end": 205552,
         "speaker": "A",
         "start": 205375,
         "text": "I"
        },
        {
         "confidence": 0.99972,
         "end": 206150,
         "speaker": "A",
         "start": 205570,
         "text": "need."
        },
        {
         "confidence": 0.97125,
         "end": 206902,
         "speaker": "A",
         "start": 206587,
         "text": "How"
        },
        {
         "confidence": 0.91293,
         "end": 207052,
         "speaker": "A",
         "start": 206920,
         "text": "do"
        },
        {
         "confidence": 1,
         "end": 207202,
         "speaker": "A",
         "start": 207070,
         "text": "you"
        },
        {
         "confidence": 0.99939,
         "end": 207712,
         "speaker": "A",
         "start": 207220,
         "text": "know?"
        },
        {
         "confidence": 0.96871,
         "end": 208147,
         "speaker": "B",
         "start": 207850,
         "text": "Well,"
        },
        {
         "confidence": 0.99,
         "end": 208327,
         "speaker": "B",
         "start": 208180,
         "text": "I"
        },
        {
         "confidence": 0.99264,
         "end": 208567,
         "speaker": "B",
         "start": 208345,
         "text": "need"
        },
        {
         "confidence": 0.94188,
         "end": 209202,
         "speaker": "B",
         "start": 208615,
         "text": "freedom."
        },
        {
         "confidence": 0.5,
         "end": 209572,
         "speaker": "B",
         "start": 209307,
         "text": "The"
        },
        {
         "confidence": 0.94568,
         "end": 209797,
         "speaker": "B",
         "start": 209605,
         "text": "man"
        },
        {
         "confidence": 0.99023,
         "end": 210022,
         "speaker": "B",
         "start": 209830,
         "text": "gives"
        },
        {
         "confidence": 1,
         "end": 210247,
         "speaker": "B",
         "start": 210055,
         "text": "me"
        },
        {
         "confidence": 0.99916,
         "end": 210762,
         "speaker": "B",
         "start": 210280,
         "text": "freedom."
        },
        {
         "confidence": 0.75173,
         "end": 211027,
         "speaker": "A",
         "start": 210837,
         "text": "So"
        },
        {
         "confidence": 0.8785,
         "end": 211222,
         "speaker": "A",
         "start": 211045,
         "text": "why"
        },
        {
         "confidence": 0.90845,
         "end": 211402,
         "speaker": "A",
         "start": 211255,
         "text": "get"
        },
        {
         "confidence": 0.85765,
         "end": 211947,
         "speaker": "A",
         "start": 211420,
         "text": "married?"
        },
        {
         "confidence": 0.91345,
         "end": 212617,
         "speaker": "B",
         "start": 212067,
         "text": "Well,"
        },
        {
         "confidence": 0.9994,
         "end": 212977,
         "speaker": "B",
         "start": 212740,
         "text": "why"
        },
        {
         "confidence": 0.70546,
         "end": 213577,
         "speaker": "B",
         "start": 212995,
         "text": "not?"
        },
        {
         "confidence": 0.97193,
         "end": 214252,
         "speaker": "A",
         "start": 213745,
         "text": "Why,"
        },
        {
         "confidence": 0.97723,
         "end": 214552,
         "speaker": "A",
         "start": 214345,
         "text": "if"
        },
        {
         "confidence": 0.69,
         "end": 214702,
         "speaker": "A",
         "start": 214570,
         "text": "I"
        },
        {
         "confidence": 0.82243,
         "end": 214807,
         "speaker": "A",
         "start": 214720,
         "text": "don't"
        },
        {
         "confidence": 0.93359,
         "end": 214972,
         "speaker": "A",
         "start": 214810,
         "text": "want"
        },
        {
         "confidence": 0.97126,
         "end": 215197,
         "speaker": "A",
         "start": 215005,
         "text": "most"
        },
        {
         "confidence": 0.81,
         "end": 215377,
         "speaker": "A",
         "start": 215230,
         "text": "of"
        },
        {
         "confidence": 0.81945,
         "end": 215697,
         "speaker": "A",
         "start": 215395,
         "text": "freedom?"
        },
        {
         "confidence": 0.97684,
         "end": 215902,
         "speaker": "A",
         "start": 215742,
         "text": "Why"
        },
        {
         "confidence": 0.99152,
         "end": 216052,
         "speaker": "A",
         "start": 215920,
         "text": "have"
        },
        {
         "confidence": 0.99,
         "end": 216202,
         "speaker": "A",
         "start": 216070,
         "text": "a"
        },
        {
         "confidence": 0.96211,
         "end": 216627,
         "speaker": "A",
         "start": 216220,
         "text": "husband"
        },
        {
         "confidence": 0.60441,
         "end": 217042,
         "speaker": "A",
         "start": 216732,
         "text": "away"
        },
        {
         "confidence": 0.98619,
         "end": 217297,
         "speaker": "A",
         "start": 217090,
         "text": "some"
        },
        {
         "confidence": 0.2578,
         "end": 217522,
         "speaker": "A",
         "start": 217330,
         "text": "place"
        },
        {
         "confidence": 0.22647,
         "end": 217702,
         "speaker": "A",
         "start": 217555,
         "text": "with"
        },
        {
         "confidence": 0.86033,
         "end": 217897,
         "speaker": "A",
         "start": 217720,
         "text": "these"
        },
        {
         "confidence": 0.99,
         "end": 218122,
         "speaker": "A",
         "start": 217930,
         "text": "six"
        },
        {
         "confidence": 0.99686,
         "end": 218347,
         "speaker": "A",
         "start": 218155,
         "text": "weeks"
        },
        {
         "confidence": 0.96,
         "end": 218527,
         "speaker": "A",
         "start": 218380,
         "text": "a"
        },
        {
         "confidence": 0.99965,
         "end": 218812,
         "speaker": "A",
         "start": 218545,
         "text": "year?"
        },
        {
         "confidence": 0.99513,
         "end": 219097,
         "speaker": "B",
         "start": 218875,
         "text": "He"
        },
        {
         "confidence": 0.9992,
         "end": 219322,
         "speaker": "B",
         "start": 219130,
         "text": "has"
        },
        {
         "confidence": 0.97,
         "end": 219547,
         "speaker": "B",
         "start": 219355,
         "text": "the"
        },
        {
         "confidence": 0.99762,
         "end": 219817,
         "speaker": "B",
         "start": 219580,
         "text": "same"
        },
        {
         "confidence": 0.67735,
         "end": 220152,
         "speaker": "B",
         "start": 219865,
         "text": "freedom."
        },
        {
         "confidence": 0.94863,
         "end": 220327,
         "speaker": "B",
         "start": 220182,
         "text": "See,"
        },
        {
         "confidence": 0.98,
         "end": 220477,
         "speaker": "B",
         "start": 220345,
         "text": "the"
        },
        {
         "confidence": 0.99875,
         "end": 220627,
         "speaker": "B",
         "start": 220495,
         "text": "thing"
        },
        {
         "confidence": 0.78,
         "end": 220732,
         "speaker": "B",
         "start": 220645,
         "text": "of"
        },
        {
         "confidence": 0.58002,
         "end": 220852,
         "speaker": "B",
         "start": 220735,
         "text": "it"
        },
        {
         "confidence": 0.99,
         "end": 221047,
         "speaker": "B",
         "start": 220870,
         "text": "is"
        },
        {
         "confidence": 1,
         "end": 221182,
         "speaker": "B",
         "start": 221080,
         "text": "you"
        },
        {
         "confidence": 0.77823,
         "end": 221427,
         "speaker": "B",
         "start": 221185,
         "text": "don't"
        },
        {
         "confidence": 0.99975,
         "end": 221737,
         "speaker": "B",
         "start": 221457,
         "text": "find"
        },
        {
         "confidence": 0.99,
         "end": 221977,
         "speaker": "B",
         "start": 221800,
         "text": "a"
        },
        {
         "confidence": 0.99996,
         "end": 222262,
         "speaker": "B",
         "start": 221995,
         "text": "person"
        },
        {
         "confidence": 1,
         "end": 222502,
         "speaker": "B",
         "start": 222325,
         "text": "that"
        },
        {
         "confidence": 1,
         "end": 222652,
         "speaker": "B",
         "start": 222520,
         "text": "you"
        },
        {
         "confidence": 0.99803,
         "end": 222757,
         "speaker": "B",
         "start": 222670,
         "text": "can"
        },
        {
         "confidence": 0.99,
         "end": 222877,
         "speaker": "B",
         "start": 222760,
         "text": "be"
        },
        {
         "confidence": 0.99638,
         "end": 223117,
         "speaker": "B",
         "start": 222895,
         "text": "happy"
        },
        {
         "confidence": 0.99904,
         "end": 223327,
         "speaker": "B",
         "start": 223165,
         "text": "with"
        },
        {
         "confidence": 0.86,
         "end": 223477,
         "speaker": "B",
         "start": 223345,
         "text": "and"
        },
        {
         "confidence": 0.52121,
         "end": 223672,
         "speaker": "B",
         "start": 223495,
         "text": "they"
        },
        {
         "confidence": 0.55772,
         "end": 223902,
         "speaker": "B",
         "start": 223705,
         "text": "can't"
        },
        {
         "confidence": 0.99288,
         "end": 224352,
         "speaker": "B",
         "start": 223932,
         "text": "accept"
        },
        {
         "confidence": 0.99,
         "end": 224977,
         "speaker": "B",
         "start": 224382,
         "text": "you."
        },
        {
         "confidence": 0.55,
         "end": 225427,
         "speaker": "B",
         "start": 225145,
         "text": "You"
        },
        {
         "confidence": 0.99507,
         "end": 225667,
         "speaker": "B",
         "start": 225445,
         "text": "are"
        },
        {
         "confidence": 0.99,
         "end": 225922,
         "speaker": "B",
         "start": 225715,
         "text": "and"
        },
        {
         "confidence": 0.99812,
         "end": 226147,
         "speaker": "B",
         "start": 225955,
         "text": "can"
        },
        {
         "confidence": 0.99781,
         "end": 226372,
         "speaker": "B",
         "start": 226180,
         "text": "share"
        },
        {
         "confidence": 0.98,
         "end": 226552,
         "speaker": "B",
         "start": 226405,
         "text": "the"
        },
        {
         "confidence": 0.95424,
         "end": 226792,
         "speaker": "B",
         "start": 226570,
         "text": "things"
        },
        {
         "confidence": 0.86,
         "end": 226957,
         "speaker": "B",
         "start": 226840,
         "text": "and"
        },
        {
         "confidence": 0.42,
         "end": 227077,
         "speaker": "B",
         "start": 226960,
         "text": "to"
        },
        {
         "confidence": 0.99901,
         "end": 227317,
         "speaker": "B",
         "start": 227095,
         "text": "plan"
        },
        {
         "confidence": 0.99894,
         "end": 227527,
         "speaker": "B",
         "start": 227365,
         "text": "for"
        },
        {
         "confidence": 1,
         "end": 227677,
         "speaker": "B",
         "start": 227545,
         "text": "the"
        },
        {
         "confidence": 0.99994,
         "end": 228007,
         "speaker": "B",
         "start": 227695,
         "text": "future"
        },
        {
         "confidence": 0.94,
         "end": 228277,
         "speaker": "B",
         "start": 228085,
         "text": "and"
        },
        {
         "confidence": 0.99,
         "end": 228427,
         "speaker": "B",
         "start": 228295,
         "text": "to"
        },
        {
         "confidence": 0.99991,
         "end": 228712,
         "speaker": "B",
         "start": 228445,
         "text": "enjoy"
        },
        {
         "confidence": 0.99779,
         "end": 228952,
         "speaker": "B",
         "start": 228775,
         "text": "your"
        },
        {
         "confidence": 0.99941,
         "end": 229147,
         "speaker": "B",
         "start": 228970,
         "text": "home."
        },
        {
         "confidence": 0.99913,
         "end": 229327,
         "speaker": "B",
         "start": 229180,
         "text": "We"
        },
        {
         "confidence": 0.9982,
         "end": 229522,
         "speaker": "B",
         "start": 229345,
         "text": "have"
        },
        {
         "confidence": 0.98894,
         "end": 229882,
         "speaker": "B",
         "start": 229555,
         "text": "our"
        },
        {
         "confidence": 0.55806,
         "end": 230592,
         "speaker": "B",
         "start": 229960,
         "text": "foundation,"
        },
        {
         "confidence": 0.99653,
         "end": 230827,
         "speaker": "B",
         "start": 230652,
         "text": "we"
        },
        {
         "confidence": 0.99926,
         "end": 230932,
         "speaker": "B",
         "start": 230845,
         "text": "have"
        },
        {
         "confidence": 0.50498,
         "end": 231052,
         "speaker": "B",
         "start": 230935,
         "text": "our"
        },
        {
         "confidence": 0.95324,
         "end": 231327,
         "speaker": "B",
         "start": 231070,
         "text": "roots,"
        },
        {
         "confidence": 0.99703,
         "end": 231502,
         "speaker": "B",
         "start": 231357,
         "text": "we"
        },
        {
         "confidence": 0.99936,
         "end": 231652,
         "speaker": "B",
         "start": 231520,
         "text": "have"
        },
        {
         "confidence": 0.99943,
         "end": 231802,
         "speaker": "B",
         "start": 231670,
         "text": "all"
        },
        {
         "confidence": 0.99,
         "end": 231952,
         "speaker": "B",
         "start": 231820,
         "text": "the"
        },
        {
         "confidence": 0.99933,
         "end": 232102,
         "speaker": "B",
         "start": 231970,
         "text": "things"
        },
        {
         "confidence": 0.58,
         "end": 232297,
         "speaker": "B",
         "start": 232120,
         "text": "that"
        },
        {
         "confidence": 0.99709,
         "end": 232612,
         "speaker": "B",
         "start": 232330,
         "text": "everybody"
        },
        {
         "confidence": 0.32,
         "end": 232852,
         "speaker": "B",
         "start": 232675,
         "text": "is"
        },
        {
         "confidence": 0.9962,
         "end": 233047,
         "speaker": "B",
         "start": 232870,
         "text": "looking"
        },
        {
         "confidence": 0.99849,
         "end": 233227,
         "speaker": "B",
         "start": 233080,
         "text": "for"
        },
        {
         "confidence": 0.94,
         "end": 233377,
         "speaker": "B",
         "start": 233245,
         "text": "and"
        },
        {
         "confidence": 0.9131,
         "end": 233577,
         "speaker": "B",
         "start": 233395,
         "text": "that's"
        },
        {
         "confidence": 0.9966,
         "end": 233967,
         "speaker": "B",
         "start": 233607,
         "text": "happiness"
        },
        {
         "confidence": 0.79088,
         "end": 234202,
         "speaker": "B",
         "start": 234027,
         "text": "in"
        },
        {
         "confidence": 0.66,
         "end": 234352,
         "speaker": "B",
         "start": 234220,
         "text": "a"
        },
        {
         "confidence": 0.99959,
         "end": 234672,
         "speaker": "B",
         "start": 234370,
         "text": "marriage."
        },
        {
         "confidence": 0.58367,
         "end": 234957,
         "speaker": "B",
         "start": 234717,
         "text": "I've"
        },
        {
         "confidence": 0.99955,
         "end": 235102,
         "speaker": "B",
         "start": 234972,
         "text": "got"
        },
        {
         "confidence": 0.9998,
         "end": 235342,
         "speaker": "B",
         "start": 235120,
         "text": "better"
        },
        {
         "confidence": 0.99957,
         "end": 235597,
         "speaker": "B",
         "start": 235390,
         "text": "things"
        },
        {
         "confidence": 1,
         "end": 235732,
         "speaker": "B",
         "start": 235630,
         "text": "to"
        },
        {
         "confidence": 0.96274,
         "end": 235897,
         "speaker": "B",
         "start": 235735,
         "text": "do"
        },
        {
         "confidence": 0.98304,
         "end": 236077,
         "speaker": "B",
         "start": 235930,
         "text": "than"
        },
        {
         "confidence": 0.94,
         "end": 236182,
         "speaker": "B",
         "start": 236095,
         "text": "to"
        },
        {
         "confidence": 0.99183,
         "end": 236347,
         "speaker": "B",
         "start": 236185,
         "text": "sit"
        },
        {
         "confidence": 0.99627,
         "end": 236572,
         "speaker": "B",
         "start": 236380,
         "text": "around"
        },
        {
         "confidence": 0.99059,
         "end": 236752,
         "speaker": "B",
         "start": 236605,
         "text": "in"
        },
        {
         "confidence": 1,
         "end": 236902,
         "speaker": "B",
         "start": 236770,
         "text": "my"
        },
        {
         "confidence": 0.99983,
         "end": 237142,
         "speaker": "B",
         "start": 236920,
         "text": "room"
        },
        {
         "confidence": 0.94185,
         "end": 237532,
         "speaker": "B",
         "start": 237190,
         "text": "thinking,"
        },
        {
         "confidence": 0.72,
         "end": 237847,
         "speaker": "B",
         "start": 237610,
         "text": "oh,"
        },
        {
         "confidence": 0.20168,
         "end": 238077,
         "speaker": "B",
         "start": 237880,
         "text": "it's"
        },
        {
         "confidence": 0.95858,
         "end": 238377,
         "speaker": "B",
         "start": 238107,
         "text": "Carl"
        },
        {
         "confidence": 0.98012,
         "end": 238597,
         "speaker": "B",
         "start": 238407,
         "text": "doing"
        },
        {
         "confidence": 0.8059,
         "end": 238872,
         "speaker": "B",
         "start": 238630,
         "text": "tonight."
        },
        {
         "confidence": 0.96,
         "end": 239032,
         "speaker": "B",
         "start": 238917,
         "text": "I"
        },
        {
         "confidence": 0.94256,
         "end": 239242,
         "speaker": "B",
         "start": 239035,
         "text": "wonder"
        },
        {
         "confidence": 0.99967,
         "end": 239452,
         "speaker": "B",
         "start": 239290,
         "text": "if"
        },
        {
         "confidence": 0.55015,
         "end": 239652,
         "speaker": "B",
         "start": 239470,
         "text": "he's"
        },
        {
         "confidence": 0.99668,
         "end": 239872,
         "speaker": "B",
         "start": 239682,
         "text": "with"
        },
        {
         "confidence": 0.99504,
         "end": 240232,
         "speaker": "B",
         "start": 239905,
         "text": "somebody"
        },
        {
         "confidence": 0.9,
         "end": 240502,
         "speaker": "B",
         "start": 240310,
         "text": "and"
        },
        {
         "confidence": 0.96835,
         "end": 240652,
         "speaker": "B",
         "start": 240520,
         "text": "this"
        },
        {
         "confidence": 0.91,
         "end": 240802,
         "speaker": "B",
         "start": 240670,
         "text": "and"
        },
        {
         "confidence": 0.93,
         "end": 240900,
         "speaker": "B",
         "start": 240820,
         "text": "that."
        }
       ]
      },
      "text/plain": [
       "<IPython.core.display.JSON object>"
      ]
     },
     "execution_count": 14,
     "metadata": {
      "application/json": {
       "expanded": false,
       "root": "root"
      }
     },
     "output_type": "execute_result"
    }
   ],
   "source": [
    "JSON(transcript_response.json())"
   ]
  },
  {
   "cell_type": "code",
   "execution_count": 34,
   "id": "53cfdbdc-06db-46be-af06-ac600d86aab9",
   "metadata": {},
   "outputs": [],
   "source": [
    "with open('Dolly_Barbara.pkl', 'wb') as f:\n",
    "    pickle.dump(response.json().copy(), f)"
   ]
  },
  {
   "cell_type": "code",
   "execution_count": 35,
   "id": "dad55ad1-2b68-4b72-b9ac-a40c03842623",
   "metadata": {},
   "outputs": [],
   "source": [
    "with open('Dolly_Barbara.pkl', 'rb') as f:\n",
    "    data = pickle.load(f)"
   ]
  },
  {
   "cell_type": "code",
   "execution_count": 36,
   "id": "dce2bf31-85b7-4fd1-843c-73ccd9e56962",
   "metadata": {},
   "outputs": [
    {
     "data": {
      "text/plain": [
       "0"
      ]
     },
     "execution_count": 36,
     "metadata": {},
     "output_type": "execute_result"
    }
   ],
   "source": [
    "buffer = StringIO()\n",
    "buffer.write(data['text'])\n",
    "buffer.seek(0)"
   ]
  },
  {
   "cell_type": "code",
   "execution_count": 37,
   "id": "3b4b1a31-b594-433c-950d-043b65fe1609",
   "metadata": {},
   "outputs": [
    {
     "data": {},
     "metadata": {},
     "output_type": "display_data"
    },
    {
     "data": {
      "application/vnd.holoviews_exec.v0+json": "",
      "text/html": [
       "<div id='1002'>\n",
       "  <div class=\"bk-root\" id=\"a7d8b405-a336-48e7-a6b4-838b05fede96\" data-root-id=\"1002\"></div>\n",
       "</div>\n",
       "<script type=\"application/javascript\">(function(root) {\n",
       "  function embed_document(root) {\n",
       "    var docs_json = {\"0d291608-65ee-41ad-8baf-01824e37980c\":{\"defs\":[{\"extends\":null,\"module\":null,\"name\":\"ReactiveHTML1\",\"overrides\":[],\"properties\":[]},{\"extends\":null,\"module\":null,\"name\":\"FlexBox1\",\"overrides\":[],\"properties\":[{\"default\":\"flex-start\",\"kind\":null,\"name\":\"align_content\"},{\"default\":\"flex-start\",\"kind\":null,\"name\":\"align_items\"},{\"default\":\"row\",\"kind\":null,\"name\":\"flex_direction\"},{\"default\":\"wrap\",\"kind\":null,\"name\":\"flex_wrap\"},{\"default\":\"flex-start\",\"kind\":null,\"name\":\"justify_content\"}]},{\"extends\":null,\"module\":null,\"name\":\"GridStack1\",\"overrides\":[],\"properties\":[{\"default\":\"warn\",\"kind\":null,\"name\":\"mode\"},{\"default\":null,\"kind\":null,\"name\":\"ncols\"},{\"default\":null,\"kind\":null,\"name\":\"nrows\"},{\"default\":true,\"kind\":null,\"name\":\"allow_resize\"},{\"default\":true,\"kind\":null,\"name\":\"allow_drag\"},{\"default\":[],\"kind\":null,\"name\":\"state\"}]},{\"extends\":null,\"module\":null,\"name\":\"click1\",\"overrides\":[],\"properties\":[{\"default\":\"\",\"kind\":null,\"name\":\"terminal_output\"},{\"default\":\"\",\"kind\":null,\"name\":\"debug_name\"},{\"default\":0,\"kind\":null,\"name\":\"clears\"}]},{\"extends\":null,\"module\":null,\"name\":\"NotificationAreaBase1\",\"overrides\":[],\"properties\":[{\"default\":\"bottom-right\",\"kind\":null,\"name\":\"position\"},{\"default\":0,\"kind\":null,\"name\":\"_clear\"}]},{\"extends\":null,\"module\":null,\"name\":\"NotificationArea1\",\"overrides\":[],\"properties\":[{\"default\":[],\"kind\":null,\"name\":\"notifications\"},{\"default\":\"bottom-right\",\"kind\":null,\"name\":\"position\"},{\"default\":0,\"kind\":null,\"name\":\"_clear\"},{\"default\":[{\"background\":\"#ffc107\",\"icon\":{\"className\":\"fas fa-exclamation-triangle\",\"color\":\"white\",\"tagName\":\"i\"},\"type\":\"warning\"},{\"background\":\"#007bff\",\"icon\":{\"className\":\"fas fa-info-circle\",\"color\":\"white\",\"tagName\":\"i\"},\"type\":\"info\"}],\"kind\":null,\"name\":\"types\"}]},{\"extends\":null,\"module\":null,\"name\":\"Notification\",\"overrides\":[],\"properties\":[{\"default\":null,\"kind\":null,\"name\":\"background\"},{\"default\":3000,\"kind\":null,\"name\":\"duration\"},{\"default\":null,\"kind\":null,\"name\":\"icon\"},{\"default\":\"\",\"kind\":null,\"name\":\"message\"},{\"default\":null,\"kind\":null,\"name\":\"notification_type\"},{\"default\":false,\"kind\":null,\"name\":\"_destroyed\"}]},{\"extends\":null,\"module\":null,\"name\":\"TemplateActions1\",\"overrides\":[],\"properties\":[{\"default\":0,\"kind\":null,\"name\":\"open_modal\"},{\"default\":0,\"kind\":null,\"name\":\"close_modal\"}]},{\"extends\":null,\"module\":null,\"name\":\"MaterialTemplateActions1\",\"overrides\":[],\"properties\":[{\"default\":0,\"kind\":null,\"name\":\"open_modal\"},{\"default\":0,\"kind\":null,\"name\":\"close_modal\"}]}],\"roots\":{\"references\":[{\"attributes\":{\"auto\":true,\"button_type\":\"success\",\"filename\":\"transcript.txt\",\"label\":\"Download transcript.txt\",\"margin\":[5,10,5,10]},\"id\":\"1002\",\"type\":\"panel.models.widgets.FileDownload\"},{\"attributes\":{\"reload\":false},\"id\":\"1004\",\"type\":\"panel.models.location.Location\"},{\"attributes\":{\"client_comm_id\":\"6f69d93accf84fc3bf0dfce6ee92da92\",\"comm_id\":\"abf158f2f6e947199c8f9f3c64819b34\",\"plot_id\":\"1002\"},\"id\":\"1003\",\"type\":\"panel.models.comm_manager.CommManager\"}],\"root_ids\":[\"1002\",\"1003\",\"1004\"]},\"title\":\"Bokeh Application\",\"version\":\"2.4.3\"}};\n",
       "    var render_items = [{\"docid\":\"0d291608-65ee-41ad-8baf-01824e37980c\",\"root_ids\":[\"1002\"],\"roots\":{\"1002\":\"a7d8b405-a336-48e7-a6b4-838b05fede96\"}}];\n",
       "    root.Bokeh.embed.embed_items_notebook(docs_json, render_items);\n",
       "    for (const render_item of render_items) {\n",
       "      for (const root_id of render_item.root_ids) {\n",
       "\tconst id_el = document.getElementById(root_id)\n",
       "\tif (id_el.children.length && (id_el.children[0].className === 'bk-root')) {\n",
       "\t  const root_el = id_el.children[0]\n",
       "\t  root_el.id = root_el.id + '-rendered'\n",
       "\t}\n",
       "      }\n",
       "    }\n",
       "  }\n",
       "  if (root.Bokeh !== undefined && root.Bokeh.Panel !== undefined) {\n",
       "    embed_document(root);\n",
       "  } else {\n",
       "    var attempts = 0;\n",
       "    var timer = setInterval(function(root) {\n",
       "      if (root.Bokeh !== undefined && root.Bokeh.Panel !== undefined) {\n",
       "        clearInterval(timer);\n",
       "        embed_document(root);\n",
       "      } else if (document.readyState == \"complete\") {\n",
       "        attempts++;\n",
       "        if (attempts > 200) {\n",
       "          clearInterval(timer);\n",
       "          console.log(\"Bokeh: ERROR: Unable to run BokehJS code because BokehJS library is missing\");\n",
       "        }\n",
       "      }\n",
       "    }, 25, root)\n",
       "  }\n",
       "})(window);</script>"
      ],
      "text/plain": [
       "FileDownload(button_type='success', file=<_io.StringIO o..., filename='transcript.txt', label='Download transcript.txt')"
      ]
     },
     "execution_count": 37,
     "metadata": {
      "application/vnd.holoviews_exec.v0+json": {
       "id": "1002"
      }
     },
     "output_type": "execute_result"
    }
   ],
   "source": [
    "transcript_download = pn.widgets.FileDownload(file=buffer,\n",
    "                                              filename=\"transcript.txt\",\n",
    "                                              button_type=\"success\")\n",
    "transcript_download"
   ]
  },
  {
   "cell_type": "code",
   "execution_count": 38,
   "id": "655359e1-64a3-46e3-b8fd-5e94dc8d6da1",
   "metadata": {},
   "outputs": [
    {
     "data": {},
     "metadata": {},
     "output_type": "display_data"
    },
    {
     "data": {
      "application/vnd.holoviews_exec.v0+json": "",
      "text/html": [
       "<div id='1005'>\n",
       "  <div class=\"bk-root\" id=\"7cfbae53-fe00-4f3b-aad8-16f94102043c\" data-root-id=\"1005\"></div>\n",
       "</div>\n",
       "<script type=\"application/javascript\">(function(root) {\n",
       "  function embed_document(root) {\n",
       "    var docs_json = {\"5750542d-2b93-43d1-9426-1e000da839c3\":{\"defs\":[{\"extends\":null,\"module\":null,\"name\":\"ReactiveHTML1\",\"overrides\":[],\"properties\":[]},{\"extends\":null,\"module\":null,\"name\":\"FlexBox1\",\"overrides\":[],\"properties\":[{\"default\":\"flex-start\",\"kind\":null,\"name\":\"align_content\"},{\"default\":\"flex-start\",\"kind\":null,\"name\":\"align_items\"},{\"default\":\"row\",\"kind\":null,\"name\":\"flex_direction\"},{\"default\":\"wrap\",\"kind\":null,\"name\":\"flex_wrap\"},{\"default\":\"flex-start\",\"kind\":null,\"name\":\"justify_content\"}]},{\"extends\":null,\"module\":null,\"name\":\"GridStack1\",\"overrides\":[],\"properties\":[{\"default\":\"warn\",\"kind\":null,\"name\":\"mode\"},{\"default\":null,\"kind\":null,\"name\":\"ncols\"},{\"default\":null,\"kind\":null,\"name\":\"nrows\"},{\"default\":true,\"kind\":null,\"name\":\"allow_resize\"},{\"default\":true,\"kind\":null,\"name\":\"allow_drag\"},{\"default\":[],\"kind\":null,\"name\":\"state\"}]},{\"extends\":null,\"module\":null,\"name\":\"click1\",\"overrides\":[],\"properties\":[{\"default\":\"\",\"kind\":null,\"name\":\"terminal_output\"},{\"default\":\"\",\"kind\":null,\"name\":\"debug_name\"},{\"default\":0,\"kind\":null,\"name\":\"clears\"}]},{\"extends\":null,\"module\":null,\"name\":\"NotificationAreaBase1\",\"overrides\":[],\"properties\":[{\"default\":\"bottom-right\",\"kind\":null,\"name\":\"position\"},{\"default\":0,\"kind\":null,\"name\":\"_clear\"}]},{\"extends\":null,\"module\":null,\"name\":\"NotificationArea1\",\"overrides\":[],\"properties\":[{\"default\":[],\"kind\":null,\"name\":\"notifications\"},{\"default\":\"bottom-right\",\"kind\":null,\"name\":\"position\"},{\"default\":0,\"kind\":null,\"name\":\"_clear\"},{\"default\":[{\"background\":\"#ffc107\",\"icon\":{\"className\":\"fas fa-exclamation-triangle\",\"color\":\"white\",\"tagName\":\"i\"},\"type\":\"warning\"},{\"background\":\"#007bff\",\"icon\":{\"className\":\"fas fa-info-circle\",\"color\":\"white\",\"tagName\":\"i\"},\"type\":\"info\"}],\"kind\":null,\"name\":\"types\"}]},{\"extends\":null,\"module\":null,\"name\":\"Notification\",\"overrides\":[],\"properties\":[{\"default\":null,\"kind\":null,\"name\":\"background\"},{\"default\":3000,\"kind\":null,\"name\":\"duration\"},{\"default\":null,\"kind\":null,\"name\":\"icon\"},{\"default\":\"\",\"kind\":null,\"name\":\"message\"},{\"default\":null,\"kind\":null,\"name\":\"notification_type\"},{\"default\":false,\"kind\":null,\"name\":\"_destroyed\"}]},{\"extends\":null,\"module\":null,\"name\":\"TemplateActions1\",\"overrides\":[],\"properties\":[{\"default\":0,\"kind\":null,\"name\":\"open_modal\"},{\"default\":0,\"kind\":null,\"name\":\"close_modal\"}]},{\"extends\":null,\"module\":null,\"name\":\"MaterialTemplateActions1\",\"overrides\":[],\"properties\":[{\"default\":0,\"kind\":null,\"name\":\"open_modal\"},{\"default\":0,\"kind\":null,\"name\":\"close_modal\"}]}],\"roots\":{\"references\":[{\"attributes\":{\"margin\":[5,5,5,5],\"paused\":true,\"time\":360,\"value\":\"https://github.com/CharlesPizza/AudioAnalysisDollyParton/blob/main/Audio/Dolly%20Shuts%20Down%20Patronising%20Interview%20In%20Style.mp3?raw=true\"},\"id\":\"1005\",\"type\":\"panel.models.widgets.Audio\"},{\"attributes\":{\"client_comm_id\":\"041adb912ab243b1ab4a1d6333959c68\",\"comm_id\":\"15c1dcc1fa0944f3b1bcc45b5346b74e\",\"plot_id\":\"1005\"},\"id\":\"1006\",\"type\":\"panel.models.comm_manager.CommManager\"}],\"root_ids\":[\"1005\",\"1006\"]},\"title\":\"Bokeh Application\",\"version\":\"2.4.3\"}};\n",
       "    var render_items = [{\"docid\":\"5750542d-2b93-43d1-9426-1e000da839c3\",\"root_ids\":[\"1005\"],\"roots\":{\"1005\":\"7cfbae53-fe00-4f3b-aad8-16f94102043c\"}}];\n",
       "    root.Bokeh.embed.embed_items_notebook(docs_json, render_items);\n",
       "    for (const render_item of render_items) {\n",
       "      for (const root_id of render_item.root_ids) {\n",
       "\tconst id_el = document.getElementById(root_id)\n",
       "\tif (id_el.children.length && (id_el.children[0].className === 'bk-root')) {\n",
       "\t  const root_el = id_el.children[0]\n",
       "\t  root_el.id = root_el.id + '-rendered'\n",
       "\t}\n",
       "      }\n",
       "    }\n",
       "  }\n",
       "  if (root.Bokeh !== undefined && root.Bokeh.Panel !== undefined) {\n",
       "    embed_document(root);\n",
       "  } else {\n",
       "    var attempts = 0;\n",
       "    var timer = setInterval(function(root) {\n",
       "      if (root.Bokeh !== undefined && root.Bokeh.Panel !== undefined) {\n",
       "        clearInterval(timer);\n",
       "        embed_document(root);\n",
       "      } else if (document.readyState == \"complete\") {\n",
       "        attempts++;\n",
       "        if (attempts > 200) {\n",
       "          clearInterval(timer);\n",
       "          console.log(\"Bokeh: ERROR: Unable to run BokehJS code because BokehJS library is missing\");\n",
       "        }\n",
       "      }\n",
       "    }, 25, root)\n",
       "  }\n",
       "})(window);</script>"
      ],
      "text/plain": [
       "Audio(str, time=360)"
      ]
     },
     "execution_count": 38,
     "metadata": {
      "application/vnd.holoviews_exec.v0+json": {
       "id": "1005"
      }
     },
     "output_type": "execute_result"
    }
   ],
   "source": [
    "audio_url = \"https://github.com/CharlesPizza/AudioAnalysisDollyParton/blob/main/Audio/Dolly%20Shuts%20Down%20Patronising%20Interview%20In%20Style.mp3?raw=true\"\n",
    "audio_play = pn.pane.Audio(audio_url, name=\"Audio\", time=360)\n",
    "audio_play"
   ]
  },
  {
   "cell_type": "code",
   "execution_count": 289,
   "id": "94a76f27-5764-4bfc-b1b7-f91758080b08",
   "metadata": {},
   "outputs": [],
   "source": [
    "sentiment = data['sentiment_analysis_results']\n",
    "sentiment_df = pd.DataFrame(sentiment)\n",
    "sentiment_df['speaker'] = sentiment_df['speaker'].map(lambda x: ['Dolly' if x == 'B' else 'Barbara']).explode('speaker')"
   ]
  },
  {
   "cell_type": "code",
   "execution_count": 290,
   "id": "35abb22a-f308-4350-8cf0-cf0cade6f619",
   "metadata": {},
   "outputs": [
    {
     "data": {
      "text/html": [
       "<div>\n",
       "<style scoped>\n",
       "    .dataframe tbody tr th:only-of-type {\n",
       "        vertical-align: middle;\n",
       "    }\n",
       "\n",
       "    .dataframe tbody tr th {\n",
       "        vertical-align: top;\n",
       "    }\n",
       "\n",
       "    .dataframe thead th {\n",
       "        text-align: right;\n",
       "    }\n",
       "</style>\n",
       "<table border=\"1\" class=\"dataframe\">\n",
       "  <thead>\n",
       "    <tr style=\"text-align: right;\">\n",
       "      <th></th>\n",
       "      <th>text</th>\n",
       "      <th>start</th>\n",
       "      <th>end</th>\n",
       "      <th>sentiment</th>\n",
       "      <th>confidence</th>\n",
       "      <th>speaker</th>\n",
       "    </tr>\n",
       "  </thead>\n",
       "  <tbody>\n",
       "    <tr>\n",
       "      <th>0</th>\n",
       "      <td>Dolly where I come from.</td>\n",
       "      <td>462</td>\n",
       "      <td>2827</td>\n",
       "      <td>NEUTRAL</td>\n",
       "      <td>0.828847</td>\n",
       "      <td>Barbara</td>\n",
       "    </tr>\n",
       "    <tr>\n",
       "      <th>1</th>\n",
       "      <td>Would I have called you a hillbilly?</td>\n",
       "      <td>2920</td>\n",
       "      <td>5127</td>\n",
       "      <td>NEUTRAL</td>\n",
       "      <td>0.651311</td>\n",
       "      <td>Barbara</td>\n",
       "    </tr>\n",
       "    <tr>\n",
       "      <th>2</th>\n",
       "      <td>If you had of it would have been something ver...</td>\n",
       "      <td>5307</td>\n",
       "      <td>10550</td>\n",
       "      <td>NEGATIVE</td>\n",
       "      <td>0.535894</td>\n",
       "      <td>Dolly</td>\n",
       "    </tr>\n",
       "    <tr>\n",
       "      <th>3</th>\n",
       "      <td>No, actually.</td>\n",
       "      <td>11137</td>\n",
       "      <td>11887</td>\n",
       "      <td>NEUTRAL</td>\n",
       "      <td>0.666117</td>\n",
       "      <td>Dolly</td>\n",
       "    </tr>\n",
       "    <tr>\n",
       "      <th>4</th>\n",
       "      <td>But when I think of your beliefs and I think o...</td>\n",
       "      <td>11950</td>\n",
       "      <td>14407</td>\n",
       "      <td>NEUTRAL</td>\n",
       "      <td>0.770856</td>\n",
       "      <td>Barbara</td>\n",
       "    </tr>\n",
       "    <tr>\n",
       "      <th>...</th>\n",
       "      <td>...</td>\n",
       "      <td>...</td>\n",
       "      <td>...</td>\n",
       "      <td>...</td>\n",
       "      <td>...</td>\n",
       "      <td>...</td>\n",
       "    </tr>\n",
       "    <tr>\n",
       "      <th>60</th>\n",
       "      <td>See, the thing of it is you don't find a perso...</td>\n",
       "      <td>220182</td>\n",
       "      <td>224977</td>\n",
       "      <td>NEGATIVE</td>\n",
       "      <td>0.561005</td>\n",
       "      <td>Dolly</td>\n",
       "    </tr>\n",
       "    <tr>\n",
       "      <th>61</th>\n",
       "      <td>You are and can share the things and to plan f...</td>\n",
       "      <td>225145</td>\n",
       "      <td>229147</td>\n",
       "      <td>POSITIVE</td>\n",
       "      <td>0.832287</td>\n",
       "      <td>Dolly</td>\n",
       "    </tr>\n",
       "    <tr>\n",
       "      <th>62</th>\n",
       "      <td>We have our foundation, we have our roots, we ...</td>\n",
       "      <td>229180</td>\n",
       "      <td>234672</td>\n",
       "      <td>POSITIVE</td>\n",
       "      <td>0.899541</td>\n",
       "      <td>Dolly</td>\n",
       "    </tr>\n",
       "    <tr>\n",
       "      <th>63</th>\n",
       "      <td>I've got better things to do than to sit aroun...</td>\n",
       "      <td>234717</td>\n",
       "      <td>238872</td>\n",
       "      <td>NEGATIVE</td>\n",
       "      <td>0.543684</td>\n",
       "      <td>Dolly</td>\n",
       "    </tr>\n",
       "    <tr>\n",
       "      <th>64</th>\n",
       "      <td>I wonder if he's with somebody and this and that.</td>\n",
       "      <td>238917</td>\n",
       "      <td>240900</td>\n",
       "      <td>NEUTRAL</td>\n",
       "      <td>0.868498</td>\n",
       "      <td>Dolly</td>\n",
       "    </tr>\n",
       "  </tbody>\n",
       "</table>\n",
       "<p>65 rows × 6 columns</p>\n",
       "</div>"
      ],
      "text/plain": [
       "                                                 text   start     end  \\\n",
       "0                            Dolly where I come from.     462    2827   \n",
       "1                Would I have called you a hillbilly?    2920    5127   \n",
       "2   If you had of it would have been something ver...    5307   10550   \n",
       "3                                       No, actually.   11137   11887   \n",
       "4   But when I think of your beliefs and I think o...   11950   14407   \n",
       "..                                                ...     ...     ...   \n",
       "60  See, the thing of it is you don't find a perso...  220182  224977   \n",
       "61  You are and can share the things and to plan f...  225145  229147   \n",
       "62  We have our foundation, we have our roots, we ...  229180  234672   \n",
       "63  I've got better things to do than to sit aroun...  234717  238872   \n",
       "64  I wonder if he's with somebody and this and that.  238917  240900   \n",
       "\n",
       "   sentiment  confidence  speaker  \n",
       "0    NEUTRAL    0.828847  Barbara  \n",
       "1    NEUTRAL    0.651311  Barbara  \n",
       "2   NEGATIVE    0.535894    Dolly  \n",
       "3    NEUTRAL    0.666117    Dolly  \n",
       "4    NEUTRAL    0.770856  Barbara  \n",
       "..       ...         ...      ...  \n",
       "60  NEGATIVE    0.561005    Dolly  \n",
       "61  POSITIVE    0.832287    Dolly  \n",
       "62  POSITIVE    0.899541    Dolly  \n",
       "63  NEGATIVE    0.543684    Dolly  \n",
       "64   NEUTRAL    0.868498    Dolly  \n",
       "\n",
       "[65 rows x 6 columns]"
      ]
     },
     "execution_count": 290,
     "metadata": {},
     "output_type": "execute_result"
    }
   ],
   "source": [
    "sentiment_df"
   ]
  },
  {
   "cell_type": "code",
   "execution_count": 294,
   "id": "5be649e7-f2cb-41ac-aed1-0b291ea7627c",
   "metadata": {},
   "outputs": [
    {
     "data": {},
     "metadata": {},
     "output_type": "display_data"
    },
    {
     "data": {},
     "metadata": {},
     "output_type": "display_data"
    },
    {
     "data": {
      "application/vnd.holoviews_exec.v0+json": "",
      "text/html": [
       "<div id='9813'>\n",
       "  <div class=\"bk-root\" id=\"95d606eb-5388-4bed-900d-5f5578fafa28\" data-root-id=\"9813\"></div>\n",
       "</div>\n",
       "<script type=\"application/javascript\">(function(root) {\n",
       "  function embed_document(root) {\n",
       "    var docs_json = {\"0f546a1f-e721-4fbc-9f9e-1055094abc96\":{\"defs\":[{\"extends\":null,\"module\":null,\"name\":\"ReactiveHTML1\",\"overrides\":[],\"properties\":[]},{\"extends\":null,\"module\":null,\"name\":\"FlexBox1\",\"overrides\":[],\"properties\":[{\"default\":\"flex-start\",\"kind\":null,\"name\":\"align_content\"},{\"default\":\"flex-start\",\"kind\":null,\"name\":\"align_items\"},{\"default\":\"row\",\"kind\":null,\"name\":\"flex_direction\"},{\"default\":\"wrap\",\"kind\":null,\"name\":\"flex_wrap\"},{\"default\":\"flex-start\",\"kind\":null,\"name\":\"justify_content\"}]},{\"extends\":null,\"module\":null,\"name\":\"GridStack1\",\"overrides\":[],\"properties\":[{\"default\":\"warn\",\"kind\":null,\"name\":\"mode\"},{\"default\":null,\"kind\":null,\"name\":\"ncols\"},{\"default\":null,\"kind\":null,\"name\":\"nrows\"},{\"default\":true,\"kind\":null,\"name\":\"allow_resize\"},{\"default\":true,\"kind\":null,\"name\":\"allow_drag\"},{\"default\":[],\"kind\":null,\"name\":\"state\"}]},{\"extends\":null,\"module\":null,\"name\":\"click1\",\"overrides\":[],\"properties\":[{\"default\":\"\",\"kind\":null,\"name\":\"terminal_output\"},{\"default\":\"\",\"kind\":null,\"name\":\"debug_name\"},{\"default\":0,\"kind\":null,\"name\":\"clears\"}]},{\"extends\":null,\"module\":null,\"name\":\"NotificationAreaBase1\",\"overrides\":[],\"properties\":[{\"default\":\"bottom-right\",\"kind\":null,\"name\":\"position\"},{\"default\":0,\"kind\":null,\"name\":\"_clear\"}]},{\"extends\":null,\"module\":null,\"name\":\"NotificationArea1\",\"overrides\":[],\"properties\":[{\"default\":[],\"kind\":null,\"name\":\"notifications\"},{\"default\":\"bottom-right\",\"kind\":null,\"name\":\"position\"},{\"default\":0,\"kind\":null,\"name\":\"_clear\"},{\"default\":[{\"background\":\"#ffc107\",\"icon\":{\"className\":\"fas fa-exclamation-triangle\",\"color\":\"white\",\"tagName\":\"i\"},\"type\":\"warning\"},{\"background\":\"#007bff\",\"icon\":{\"className\":\"fas fa-info-circle\",\"color\":\"white\",\"tagName\":\"i\"},\"type\":\"info\"}],\"kind\":null,\"name\":\"types\"}]},{\"extends\":null,\"module\":null,\"name\":\"Notification\",\"overrides\":[],\"properties\":[{\"default\":null,\"kind\":null,\"name\":\"background\"},{\"default\":3000,\"kind\":null,\"name\":\"duration\"},{\"default\":null,\"kind\":null,\"name\":\"icon\"},{\"default\":\"\",\"kind\":null,\"name\":\"message\"},{\"default\":null,\"kind\":null,\"name\":\"notification_type\"},{\"default\":false,\"kind\":null,\"name\":\"_destroyed\"}]},{\"extends\":null,\"module\":null,\"name\":\"TemplateActions1\",\"overrides\":[],\"properties\":[{\"default\":0,\"kind\":null,\"name\":\"open_modal\"},{\"default\":0,\"kind\":null,\"name\":\"close_modal\"}]},{\"extends\":null,\"module\":null,\"name\":\"MaterialTemplateActions1\",\"overrides\":[],\"properties\":[{\"default\":0,\"kind\":null,\"name\":\"open_modal\"},{\"default\":0,\"kind\":null,\"name\":\"close_modal\"}]}],\"roots\":{\"references\":[{\"attributes\":{\"fill_color\":{\"field\":\"sentiment\",\"transform\":{\"id\":\"9846\"}},\"hatch_color\":{\"field\":\"sentiment\",\"transform\":{\"id\":\"9846\"}},\"top\":{\"field\":\"count\"},\"width\":{\"value\":0.8},\"x\":{\"field\":\"xoffsets\"}},\"id\":\"9850\",\"type\":\"VBar\"},{\"attributes\":{\"axis_label\":\"count\",\"coordinates\":null,\"formatter\":{\"id\":\"9860\"},\"group\":null,\"major_label_policy\":{\"id\":\"9861\"},\"ticker\":{\"id\":\"9830\"}},\"id\":\"9829\",\"type\":\"LinearAxis\"},{\"attributes\":{\"axis\":{\"id\":\"9829\"},\"coordinates\":null,\"dimension\":1,\"grid_line_color\":null,\"group\":null,\"ticker\":null},\"id\":\"9832\",\"type\":\"Grid\"},{\"attributes\":{},\"id\":\"9830\",\"type\":\"BasicTicker\"},{\"attributes\":{},\"id\":\"9835\",\"type\":\"WheelZoomTool\"},{\"attributes\":{},\"id\":\"9833\",\"type\":\"SaveTool\"},{\"attributes\":{\"factors\":[[\"Barbara\",\"NEGATIVE\"],[\"Barbara\",\"NEUTRAL\"],[\"Barbara\",\"POSITIVE\"],[\"Dolly\",\"NEGATIVE\"],[\"Dolly\",\"NEUTRAL\"],[\"Dolly\",\"POSITIVE\"]],\"tags\":[[[\"speaker\",\"speaker\",null],[\"sentiment\",\"sentiment\",null]]]},\"id\":\"9814\",\"type\":\"FactorRange\"},{\"attributes\":{\"overlay\":{\"id\":\"9838\"}},\"id\":\"9836\",\"type\":\"BoxZoomTool\"},{\"attributes\":{\"children\":[{\"id\":\"9817\"}],\"margin\":[0,0,0,0],\"name\":\"Row07330\"},\"id\":\"9813\",\"type\":\"Row\"},{\"attributes\":{},\"id\":\"9837\",\"type\":\"ResetTool\"},{\"attributes\":{},\"id\":\"9822\",\"type\":\"CategoricalScale\"},{\"attributes\":{\"bottom_units\":\"screen\",\"coordinates\":null,\"fill_alpha\":0.5,\"fill_color\":\"lightgrey\",\"group\":null,\"left_units\":\"screen\",\"level\":\"overlay\",\"line_alpha\":1.0,\"line_color\":\"black\",\"line_dash\":[4,4],\"line_width\":2,\"right_units\":\"screen\",\"syncable\":false,\"top_units\":\"screen\"},\"id\":\"9838\",\"type\":\"BoxAnnotation\"},{\"attributes\":{\"below\":[{\"id\":\"9826\"}],\"center\":[{\"id\":\"9828\"},{\"id\":\"9832\"}],\"height\":300,\"left\":[{\"id\":\"9829\"}],\"margin\":[5,5,5,5],\"min_border_bottom\":10,\"min_border_left\":10,\"min_border_right\":10,\"min_border_top\":10,\"renderers\":[{\"id\":\"9853\"}],\"sizing_mode\":\"fixed\",\"title\":{\"id\":\"9818\"},\"toolbar\":{\"id\":\"9839\"},\"width\":700,\"x_range\":{\"id\":\"9814\"},\"x_scale\":{\"id\":\"9822\"},\"y_range\":{\"id\":\"9815\"},\"y_scale\":{\"id\":\"9824\"}},\"id\":\"9817\",\"subtype\":\"Figure\",\"type\":\"Plot\"},{\"attributes\":{},\"id\":\"9858\",\"type\":\"AllLabels\"},{\"attributes\":{\"source\":{\"id\":\"9847\"}},\"id\":\"9854\",\"type\":\"CDSView\"},{\"attributes\":{},\"id\":\"9869\",\"type\":\"UnionRenderers\"},{\"attributes\":{},\"id\":\"9861\",\"type\":\"AllLabels\"},{\"attributes\":{},\"id\":\"9860\",\"type\":\"BasicTickFormatter\"},{\"attributes\":{\"factors\":[\"NEGATIVE\",\"NEUTRAL\",\"POSITIVE\"],\"palette\":[\"#30a2da\",\"#fc4f30\",\"#e5ae38\"]},\"id\":\"9846\",\"type\":\"CategoricalColorMapper\"},{\"attributes\":{\"tools\":[{\"id\":\"9816\"},{\"id\":\"9833\"},{\"id\":\"9834\"},{\"id\":\"9835\"},{\"id\":\"9836\"},{\"id\":\"9837\"}]},\"id\":\"9839\",\"type\":\"Toolbar\"},{\"attributes\":{},\"id\":\"9824\",\"type\":\"LinearScale\"},{\"attributes\":{\"bottom\":{\"value\":0},\"fill_alpha\":{\"value\":1.0},\"fill_color\":{\"field\":\"sentiment\",\"transform\":{\"id\":\"9846\"}},\"hatch_alpha\":{\"value\":1.0},\"hatch_color\":{\"field\":\"sentiment\",\"transform\":{\"id\":\"9846\"}},\"hatch_scale\":{\"value\":12.0},\"hatch_weight\":{\"value\":1.0},\"line_alpha\":{\"value\":1.0},\"line_cap\":{\"value\":\"butt\"},\"line_color\":{\"value\":\"black\"},\"line_dash\":{\"value\":[]},\"line_dash_offset\":{\"value\":0},\"line_join\":{\"value\":\"bevel\"},\"line_width\":{\"value\":1},\"top\":{\"field\":\"count\"},\"width\":{\"value\":0.8},\"x\":{\"field\":\"xoffsets\"}},\"id\":\"9855\",\"type\":\"VBar\"},{\"attributes\":{\"callback\":null,\"renderers\":[{\"id\":\"9853\"}],\"tags\":[\"hv_created\"],\"tooltips\":[[\"speaker\",\"@{speaker}\"],[\"sentiment\",\"@{sentiment}\"],[\"count\",\"@{count}\"]]},\"id\":\"9816\",\"type\":\"HoverTool\"},{\"attributes\":{\"data\":{\"count\":[3,6,19,21,2,14],\"sentiment\":[\"NEGATIVE\",\"NEGATIVE\",\"NEUTRAL\",\"NEUTRAL\",\"POSITIVE\",\"POSITIVE\"],\"speaker\":[\"Barbara\",\"Dolly\",\"Barbara\",\"Dolly\",\"Barbara\",\"Dolly\"],\"xoffsets\":[[\"Barbara\",\"NEGATIVE\"],[\"Dolly\",\"NEGATIVE\"],[\"Barbara\",\"NEUTRAL\"],[\"Dolly\",\"NEUTRAL\"],[\"Barbara\",\"POSITIVE\"],[\"Dolly\",\"POSITIVE\"]]},\"selected\":{\"id\":\"9848\"},\"selection_policy\":{\"id\":\"9869\"}},\"id\":\"9847\",\"type\":\"ColumnDataSource\"},{\"attributes\":{},\"id\":\"9848\",\"type\":\"Selection\"},{\"attributes\":{},\"id\":\"9857\",\"type\":\"CategoricalTickFormatter\"},{\"attributes\":{\"end\":22.9,\"reset_end\":22.9,\"reset_start\":0.0,\"tags\":[[[\"count\",\"count\",null]]]},\"id\":\"9815\",\"type\":\"Range1d\"},{\"attributes\":{\"coordinates\":null,\"group\":null,\"text\":\"Sentiment Analysis by Speaker\",\"text_color\":\"black\",\"text_font_size\":\"12pt\"},\"id\":\"9818\",\"type\":\"Title\"},{\"attributes\":{\"client_comm_id\":\"641c73eea711476fb324cc5d59c5f7ab\",\"comm_id\":\"2df5dad43b324777978c0596bc582ff8\",\"plot_id\":\"9813\"},\"id\":\"9902\",\"type\":\"panel.models.comm_manager.CommManager\"},{\"attributes\":{\"coordinates\":null,\"data_source\":{\"id\":\"9847\"},\"glyph\":{\"id\":\"9850\"},\"group\":null,\"hover_glyph\":null,\"muted_glyph\":{\"id\":\"9852\"},\"nonselection_glyph\":{\"id\":\"9851\"},\"selection_glyph\":{\"id\":\"9855\"},\"view\":{\"id\":\"9854\"}},\"id\":\"9853\",\"type\":\"GlyphRenderer\"},{\"attributes\":{\"fill_alpha\":{\"value\":0.1},\"fill_color\":{\"field\":\"sentiment\",\"transform\":{\"id\":\"9846\"}},\"hatch_alpha\":{\"value\":0.1},\"hatch_color\":{\"field\":\"sentiment\",\"transform\":{\"id\":\"9846\"}},\"line_alpha\":{\"value\":0.1},\"top\":{\"field\":\"count\"},\"width\":{\"value\":0.8},\"x\":{\"field\":\"xoffsets\"}},\"id\":\"9851\",\"type\":\"VBar\"},{\"attributes\":{\"axis_label\":\"speaker, sentiment\",\"coordinates\":null,\"formatter\":{\"id\":\"9857\"},\"group\":null,\"major_label_policy\":{\"id\":\"9858\"},\"ticker\":{\"id\":\"9827\"}},\"id\":\"9826\",\"type\":\"CategoricalAxis\"},{\"attributes\":{\"fill_alpha\":{\"value\":0.2},\"fill_color\":{\"field\":\"sentiment\",\"transform\":{\"id\":\"9846\"}},\"hatch_alpha\":{\"value\":0.2},\"hatch_color\":{\"field\":\"sentiment\",\"transform\":{\"id\":\"9846\"}},\"line_alpha\":{\"value\":0.2},\"top\":{\"field\":\"count\"},\"width\":{\"value\":0.8},\"x\":{\"field\":\"xoffsets\"}},\"id\":\"9852\",\"type\":\"VBar\"},{\"attributes\":{\"axis\":{\"id\":\"9826\"},\"coordinates\":null,\"grid_line_color\":null,\"group\":null,\"ticker\":null},\"id\":\"9828\",\"type\":\"Grid\"},{\"attributes\":{},\"id\":\"9834\",\"type\":\"PanTool\"},{\"attributes\":{},\"id\":\"9827\",\"type\":\"CategoricalTicker\"}],\"root_ids\":[\"9813\",\"9902\"]},\"title\":\"Bokeh Application\",\"version\":\"2.4.3\"}};\n",
       "    var render_items = [{\"docid\":\"0f546a1f-e721-4fbc-9f9e-1055094abc96\",\"root_ids\":[\"9813\"],\"roots\":{\"9813\":\"95d606eb-5388-4bed-900d-5f5578fafa28\"}}];\n",
       "    root.Bokeh.embed.embed_items_notebook(docs_json, render_items);\n",
       "    for (const render_item of render_items) {\n",
       "      for (const root_id of render_item.root_ids) {\n",
       "\tconst id_el = document.getElementById(root_id)\n",
       "\tif (id_el.children.length && (id_el.children[0].className === 'bk-root')) {\n",
       "\t  const root_el = id_el.children[0]\n",
       "\t  root_el.id = root_el.id + '-rendered'\n",
       "\t}\n",
       "      }\n",
       "    }\n",
       "  }\n",
       "  if (root.Bokeh !== undefined && root.Bokeh.Panel !== undefined) {\n",
       "    embed_document(root);\n",
       "  } else {\n",
       "    var attempts = 0;\n",
       "    var timer = setInterval(function(root) {\n",
       "      if (root.Bokeh !== undefined && root.Bokeh.Panel !== undefined) {\n",
       "        clearInterval(timer);\n",
       "        embed_document(root);\n",
       "      } else if (document.readyState == \"complete\") {\n",
       "        attempts++;\n",
       "        if (attempts > 200) {\n",
       "          clearInterval(timer);\n",
       "          console.log(\"Bokeh: ERROR: Unable to run BokehJS code because BokehJS library is missing\");\n",
       "        }\n",
       "      }\n",
       "    }, 25, root)\n",
       "  }\n",
       "})(window);</script>"
      ],
      "text/plain": [
       "Row\n",
       "    [0] HoloViews(Bars)"
      ]
     },
     "execution_count": 294,
     "metadata": {
      "application/vnd.holoviews_exec.v0+json": {
       "id": "9813"
      }
     },
     "output_type": "execute_result"
    }
   ],
   "source": [
    "_df = pd.DataFrame()\n",
    "_df['count'] = sentiment_df.groupby(['speaker', 'sentiment'])['sentiment'].count()\n",
    "plot = _df.hvplot(title=\"Sentiment Analysis by Speaker\", kind=\"bar\")\n",
    "pn.Row(plot)"
   ]
  },
  {
   "cell_type": "code",
   "execution_count": 295,
   "id": "b81fdc78-53f3-48aa-b9c2-df56d9ca7cc3",
   "metadata": {},
   "outputs": [
    {
     "data": {},
     "metadata": {},
     "output_type": "display_data"
    },
    {
     "data": {},
     "metadata": {},
     "output_type": "display_data"
    },
    {
     "data": {
      "application/vnd.holoviews_exec.v0+json": "",
      "text/html": [
       "<div id='9953'>\n",
       "  <div class=\"bk-root\" id=\"68458797-3d51-452b-9faf-edd521cebc37\" data-root-id=\"9953\"></div>\n",
       "</div>\n",
       "<script type=\"application/javascript\">(function(root) {\n",
       "  function embed_document(root) {\n",
       "    var docs_json = {\"f6c69b87-d299-4cb6-825e-dd03aa1917d4\":{\"defs\":[{\"extends\":null,\"module\":null,\"name\":\"ReactiveHTML1\",\"overrides\":[],\"properties\":[]},{\"extends\":null,\"module\":null,\"name\":\"FlexBox1\",\"overrides\":[],\"properties\":[{\"default\":\"flex-start\",\"kind\":null,\"name\":\"align_content\"},{\"default\":\"flex-start\",\"kind\":null,\"name\":\"align_items\"},{\"default\":\"row\",\"kind\":null,\"name\":\"flex_direction\"},{\"default\":\"wrap\",\"kind\":null,\"name\":\"flex_wrap\"},{\"default\":\"flex-start\",\"kind\":null,\"name\":\"justify_content\"}]},{\"extends\":null,\"module\":null,\"name\":\"GridStack1\",\"overrides\":[],\"properties\":[{\"default\":\"warn\",\"kind\":null,\"name\":\"mode\"},{\"default\":null,\"kind\":null,\"name\":\"ncols\"},{\"default\":null,\"kind\":null,\"name\":\"nrows\"},{\"default\":true,\"kind\":null,\"name\":\"allow_resize\"},{\"default\":true,\"kind\":null,\"name\":\"allow_drag\"},{\"default\":[],\"kind\":null,\"name\":\"state\"}]},{\"extends\":null,\"module\":null,\"name\":\"click1\",\"overrides\":[],\"properties\":[{\"default\":\"\",\"kind\":null,\"name\":\"terminal_output\"},{\"default\":\"\",\"kind\":null,\"name\":\"debug_name\"},{\"default\":0,\"kind\":null,\"name\":\"clears\"}]},{\"extends\":null,\"module\":null,\"name\":\"NotificationAreaBase1\",\"overrides\":[],\"properties\":[{\"default\":\"bottom-right\",\"kind\":null,\"name\":\"position\"},{\"default\":0,\"kind\":null,\"name\":\"_clear\"}]},{\"extends\":null,\"module\":null,\"name\":\"NotificationArea1\",\"overrides\":[],\"properties\":[{\"default\":[],\"kind\":null,\"name\":\"notifications\"},{\"default\":\"bottom-right\",\"kind\":null,\"name\":\"position\"},{\"default\":0,\"kind\":null,\"name\":\"_clear\"},{\"default\":[{\"background\":\"#ffc107\",\"icon\":{\"className\":\"fas fa-exclamation-triangle\",\"color\":\"white\",\"tagName\":\"i\"},\"type\":\"warning\"},{\"background\":\"#007bff\",\"icon\":{\"className\":\"fas fa-info-circle\",\"color\":\"white\",\"tagName\":\"i\"},\"type\":\"info\"}],\"kind\":null,\"name\":\"types\"}]},{\"extends\":null,\"module\":null,\"name\":\"Notification\",\"overrides\":[],\"properties\":[{\"default\":null,\"kind\":null,\"name\":\"background\"},{\"default\":3000,\"kind\":null,\"name\":\"duration\"},{\"default\":null,\"kind\":null,\"name\":\"icon\"},{\"default\":\"\",\"kind\":null,\"name\":\"message\"},{\"default\":null,\"kind\":null,\"name\":\"notification_type\"},{\"default\":false,\"kind\":null,\"name\":\"_destroyed\"}]},{\"extends\":null,\"module\":null,\"name\":\"TemplateActions1\",\"overrides\":[],\"properties\":[{\"default\":0,\"kind\":null,\"name\":\"open_modal\"},{\"default\":0,\"kind\":null,\"name\":\"close_modal\"}]},{\"extends\":null,\"module\":null,\"name\":\"MaterialTemplateActions1\",\"overrides\":[],\"properties\":[{\"default\":0,\"kind\":null,\"name\":\"open_modal\"},{\"default\":0,\"kind\":null,\"name\":\"close_modal\"}]}],\"roots\":{\"references\":[{\"attributes\":{\"child\":{\"id\":\"9957\"},\"name\":\"Sentiment Overview\",\"title\":\"Sentiment Overview\"},\"id\":\"10012\",\"type\":\"Panel\"},{\"attributes\":{\"source\":{\"id\":\"9987\"}},\"id\":\"9994\",\"type\":\"CDSView\"},{\"attributes\":{},\"id\":\"10026\",\"type\":\"StringFormatter\"},{\"attributes\":{},\"id\":\"9997\",\"type\":\"CategoricalTickFormatter\"},{\"attributes\":{},\"id\":\"10087\",\"type\":\"StringFormatter\"},{\"attributes\":{},\"id\":\"10088\",\"type\":\"StringEditor\"},{\"attributes\":{},\"id\":\"10027\",\"type\":\"StringEditor\"},{\"attributes\":{\"editor\":{\"id\":\"10088\"},\"field\":\"speaker\",\"formatter\":{\"id\":\"10087\"},\"title\":\"speaker\",\"width\":0},\"id\":\"10089\",\"type\":\"TableColumn\"},{\"attributes\":{\"editor\":{\"id\":\"10027\"},\"field\":\"sentiment\",\"formatter\":{\"id\":\"10026\"},\"title\":\"sentiment\",\"width\":0},\"id\":\"10028\",\"type\":\"TableColumn\"},{\"attributes\":{},\"id\":\"10108\",\"type\":\"UnionRenderers\"},{\"attributes\":{\"client_comm_id\":\"149ac743dfcb4f949c0ac42ec6045001\",\"comm_id\":\"6ec3c7970b9e45df993f2835a92cfcd5\",\"plot_id\":\"9953\"},\"id\":\"10145\",\"type\":\"panel.models.comm_manager.CommManager\"},{\"attributes\":{},\"id\":\"10031\",\"type\":\"StringFormatter\"},{\"attributes\":{},\"id\":\"10032\",\"type\":\"StringEditor\"},{\"attributes\":{\"editor\":{\"id\":\"10032\"},\"field\":\"speaker\",\"formatter\":{\"id\":\"10031\"},\"title\":\"speaker\",\"width\":0},\"id\":\"10033\",\"type\":\"TableColumn\"},{\"attributes\":{\"child\":{\"id\":\"10092\"},\"name\":\"\",\"title\":\"Neutral\"},\"id\":\"10096\",\"type\":\"Panel\"},{\"attributes\":{},\"id\":\"10000\",\"type\":\"BasicTickFormatter\"},{\"attributes\":{\"text_align\":\"left\"},\"id\":\"10043\",\"type\":\"NumberFormatter\"},{\"attributes\":{\"editor\":{\"id\":\"10060\"},\"field\":\"speaker\",\"formatter\":{\"id\":\"10059\"},\"title\":\"speaker\",\"width\":0},\"id\":\"10061\",\"type\":\"TableColumn\"},{\"attributes\":{\"data\":{\"index\":[7,8,9,16,27,33,34,35,42,43,44,45,51,54,61,62],\"sentiment\":[\"POSITIVE\",\"POSITIVE\",\"POSITIVE\",\"POSITIVE\",\"POSITIVE\",\"POSITIVE\",\"POSITIVE\",\"POSITIVE\",\"POSITIVE\",\"POSITIVE\",\"POSITIVE\",\"POSITIVE\",\"POSITIVE\",\"POSITIVE\",\"POSITIVE\",\"POSITIVE\"],\"speaker\":[\"Dolly\",\"Dolly\",\"Dolly\",\"Dolly\",\"Barbara\",\"Dolly\",\"Dolly\",\"Dolly\",\"Dolly\",\"Dolly\",\"Dolly\",\"Dolly\",\"Barbara\",\"Dolly\",\"Dolly\",\"Dolly\"],\"text\":[\"But we were very proud people, people with a lot of class.\",\"It was country class, but it was a great deal of class and most of my people were not that educated but they are very intelligent.\",\"Good common sense horse since we called it darling.\",\"Well, actually I've always been pretty well blessed as a child.\",\"You're very beautiful.\",\"That's the easiest thing in the world to do.\",\"So I just decided that I would do something that would at least get the attention once they got past the shock of the ridiculous way I looked and all that, then they would see there was a part of me to be appreciated.\",\"I'm very real where it counts, and that's inside.\",\"I know exactly what I'm doing and I can change it at any time or I make more jokes about myself than anybody because I enjoy as I say, I am sure of myself as a person.\",\"I'm sure of my talent and to me and I'm sure of my love for life and that sort of thing.\",\"I'm very content.\",\"I like the kind of person that I am so I can afford to pedal around and do the little around with makeups and clothes and stuff because I am secure with myself.\",\"This man gives me everything I need.\",\"The man gives me freedom.\",\"You are and can share the things and to plan for the future and to enjoy your home.\",\"We have our foundation, we have our roots, we have all the things that everybody is looking for and that's happiness in a marriage.\"]},\"selected\":{\"id\":\"10014\"},\"selection_policy\":{\"id\":\"10104\"}},\"id\":\"10013\",\"type\":\"ColumnDataSource\"},{\"attributes\":{\"indices\":[]},\"id\":\"10042\",\"type\":\"Selection\"},{\"attributes\":{\"data\":{\"index\":[2,6,19,21,31,39,40,60,63],\"sentiment\":[\"NEGATIVE\",\"NEGATIVE\",\"NEGATIVE\",\"NEGATIVE\",\"NEGATIVE\",\"NEGATIVE\",\"NEGATIVE\",\"NEGATIVE\",\"NEGATIVE\"],\"speaker\":[\"Dolly\",\"Dolly\",\"Barbara\",\"Dolly\",\"Dolly\",\"Barbara\",\"Barbara\",\"Dolly\",\"Dolly\"],\"text\":[\"If you had of it would have been something very natural but I would have probably kicked your shins or something.\",\"They took that kind of thing from people like us.\",\"My assistant asked me something and I'm going to blame it on her because I wouldn't have had the nerve otherwise.\",\"Well, I can't show you.\",\"I don't like to be like everybody else.\",\"But do you ever feel that you're a joke?\",\"That people make fun of you?\",\"See, the thing of it is you don't find a person that you can be happy with and they can't accept you.\",\"I've got better things to do than to sit around in my room thinking, oh, it's Carl doing tonight.\"]},\"selected\":{\"id\":\"10042\"},\"selection_policy\":{\"id\":\"10106\"}},\"id\":\"10041\",\"type\":\"ColumnDataSource\"},{\"attributes\":{\"child\":{\"id\":\"10036\"},\"name\":\"\",\"title\":\"Positive\"},\"id\":\"10040\",\"type\":\"Panel\"},{\"attributes\":{\"editor\":{\"id\":\"10045\"},\"field\":\"index\",\"formatter\":{\"id\":\"10043\"},\"title\":\"index\",\"width\":0},\"id\":\"10046\",\"type\":\"TableColumn\"},{\"attributes\":{\"autosize_mode\":\"fit_columns\",\"columns\":[{\"id\":\"10046\"},{\"id\":\"10051\"},{\"id\":\"10056\"},{\"id\":\"10061\"}],\"editable\":true,\"height\":300,\"index_position\":null,\"margin\":[5,10,5,10],\"name\":\"\",\"row_height\":40,\"sizing_mode\":\"fixed\",\"source\":{\"id\":\"10041\"},\"view\":{\"id\":\"10066\"},\"width\":700},\"id\":\"10064\",\"type\":\"DataTable\"},{\"attributes\":{\"source\":{\"id\":\"10041\"}},\"id\":\"10066\",\"type\":\"CDSView\"},{\"attributes\":{},\"id\":\"10045\",\"type\":\"CellEditor\"},{\"attributes\":{},\"id\":\"9964\",\"type\":\"LinearScale\"},{\"attributes\":{\"bottom\":{\"value\":0},\"fill_alpha\":{\"value\":1.0},\"fill_color\":{\"field\":\"sentiment\",\"transform\":{\"id\":\"9986\"}},\"hatch_alpha\":{\"value\":1.0},\"hatch_color\":{\"field\":\"sentiment\",\"transform\":{\"id\":\"9986\"}},\"hatch_scale\":{\"value\":12.0},\"hatch_weight\":{\"value\":1.0},\"line_alpha\":{\"value\":1.0},\"line_cap\":{\"value\":\"butt\"},\"line_color\":{\"value\":\"black\"},\"line_dash\":{\"value\":[]},\"line_dash_offset\":{\"value\":0},\"line_join\":{\"value\":\"bevel\"},\"line_width\":{\"value\":1},\"top\":{\"field\":\"count\"},\"width\":{\"value\":0.8},\"x\":{\"field\":\"xoffsets\"}},\"id\":\"9995\",\"type\":\"VBar\"},{\"attributes\":{},\"id\":\"10049\",\"type\":\"StringFormatter\"},{\"attributes\":{\"coordinates\":null,\"data_source\":{\"id\":\"9987\"},\"glyph\":{\"id\":\"9990\"},\"group\":null,\"hover_glyph\":null,\"muted_glyph\":{\"id\":\"9992\"},\"nonselection_glyph\":{\"id\":\"9991\"},\"selection_glyph\":{\"id\":\"9995\"},\"view\":{\"id\":\"9994\"}},\"id\":\"9993\",\"type\":\"GlyphRenderer\"},{\"attributes\":{},\"id\":\"10050\",\"type\":\"StringEditor\"},{\"attributes\":{\"editor\":{\"id\":\"10050\"},\"field\":\"text\",\"formatter\":{\"id\":\"10049\"},\"title\":\"text\",\"width\":0},\"id\":\"10051\",\"type\":\"TableColumn\"},{\"attributes\":{\"factors\":[\"NEGATIVE\",\"NEUTRAL\",\"POSITIVE\"],\"palette\":[\"#30a2da\",\"#fc4f30\",\"#e5ae38\"]},\"id\":\"9986\",\"type\":\"CategoricalColorMapper\"},{\"attributes\":{\"factors\":[[\"Barbara\",\"NEGATIVE\"],[\"Barbara\",\"NEUTRAL\"],[\"Barbara\",\"POSITIVE\"],[\"Dolly\",\"NEGATIVE\"],[\"Dolly\",\"NEUTRAL\"],[\"Dolly\",\"POSITIVE\"]],\"tags\":[[[\"speaker\",\"speaker\",null],[\"sentiment\",\"sentiment\",null]]]},\"id\":\"9954\",\"type\":\"FactorRange\"},{\"attributes\":{\"callback\":null,\"renderers\":[{\"id\":\"9993\"}],\"tags\":[\"hv_created\"],\"tooltips\":[[\"speaker\",\"@{speaker}\"],[\"sentiment\",\"@{sentiment}\"],[\"count\",\"@{count}\"]]},\"id\":\"9956\",\"type\":\"HoverTool\"},{\"attributes\":{},\"id\":\"10009\",\"type\":\"UnionRenderers\"},{\"attributes\":{\"below\":[{\"id\":\"9966\"}],\"center\":[{\"id\":\"9968\"},{\"id\":\"9972\"}],\"height\":300,\"left\":[{\"id\":\"9969\"}],\"margin\":[5,5,5,5],\"min_border_bottom\":10,\"min_border_left\":10,\"min_border_right\":10,\"min_border_top\":10,\"renderers\":[{\"id\":\"9993\"}],\"sizing_mode\":\"fixed\",\"title\":{\"id\":\"9958\"},\"toolbar\":{\"id\":\"9979\"},\"width\":700,\"x_range\":{\"id\":\"9954\"},\"x_scale\":{\"id\":\"9962\"},\"y_range\":{\"id\":\"9955\"},\"y_scale\":{\"id\":\"9964\"}},\"id\":\"9957\",\"subtype\":\"Figure\",\"type\":\"Plot\"},{\"attributes\":{},\"id\":\"10054\",\"type\":\"StringFormatter\"},{\"attributes\":{\"end\":22.9,\"reset_end\":22.9,\"reset_start\":0.0,\"tags\":[[[\"count\",\"count\",null]]]},\"id\":\"9955\",\"type\":\"Range1d\"},{\"attributes\":{},\"id\":\"10055\",\"type\":\"StringEditor\"},{\"attributes\":{\"editor\":{\"id\":\"10055\"},\"field\":\"sentiment\",\"formatter\":{\"id\":\"10054\"},\"title\":\"sentiment\",\"width\":0},\"id\":\"10056\",\"type\":\"TableColumn\"},{\"attributes\":{\"coordinates\":null,\"group\":null,\"text\":\"Sentiment Analysis by Speaker\",\"text_color\":\"black\",\"text_font_size\":\"12pt\"},\"id\":\"9958\",\"type\":\"Title\"},{\"attributes\":{\"fill_alpha\":{\"value\":0.1},\"fill_color\":{\"field\":\"sentiment\",\"transform\":{\"id\":\"9986\"}},\"hatch_alpha\":{\"value\":0.1},\"hatch_color\":{\"field\":\"sentiment\",\"transform\":{\"id\":\"9986\"}},\"line_alpha\":{\"value\":0.1},\"top\":{\"field\":\"count\"},\"width\":{\"value\":0.8},\"x\":{\"field\":\"xoffsets\"}},\"id\":\"9991\",\"type\":\"VBar\"},{\"attributes\":{},\"id\":\"10001\",\"type\":\"AllLabels\"},{\"attributes\":{},\"id\":\"10104\",\"type\":\"UnionRenderers\"},{\"attributes\":{},\"id\":\"10059\",\"type\":\"StringFormatter\"},{\"attributes\":{},\"id\":\"10060\",\"type\":\"StringEditor\"},{\"attributes\":{\"axis\":{\"id\":\"9966\"},\"coordinates\":null,\"grid_line_color\":null,\"group\":null,\"ticker\":null},\"id\":\"9968\",\"type\":\"Grid\"},{\"attributes\":{\"text_align\":\"left\"},\"id\":\"10071\",\"type\":\"NumberFormatter\"},{\"attributes\":{},\"id\":\"9974\",\"type\":\"PanTool\"},{\"attributes\":{\"margin\":[0,0,0,0],\"tabs\":[{\"id\":\"10012\"},{\"id\":\"10040\"},{\"id\":\"10068\"},{\"id\":\"10096\"}]},\"id\":\"9953\",\"type\":\"panel.models.tabs.Tabs\"},{\"attributes\":{\"indices\":[]},\"id\":\"10014\",\"type\":\"Selection\"},{\"attributes\":{},\"id\":\"9967\",\"type\":\"CategoricalTicker\"},{\"attributes\":{\"fill_color\":{\"field\":\"sentiment\",\"transform\":{\"id\":\"9986\"}},\"hatch_color\":{\"field\":\"sentiment\",\"transform\":{\"id\":\"9986\"}},\"top\":{\"field\":\"count\"},\"width\":{\"value\":0.8},\"x\":{\"field\":\"xoffsets\"}},\"id\":\"9990\",\"type\":\"VBar\"},{\"attributes\":{\"indices\":[]},\"id\":\"10070\",\"type\":\"Selection\"},{\"attributes\":{\"axis_label\":\"count\",\"coordinates\":null,\"formatter\":{\"id\":\"10000\"},\"group\":null,\"major_label_policy\":{\"id\":\"10001\"},\"ticker\":{\"id\":\"9970\"}},\"id\":\"9969\",\"type\":\"LinearAxis\"},{\"attributes\":{\"axis\":{\"id\":\"9969\"},\"coordinates\":null,\"dimension\":1,\"grid_line_color\":null,\"group\":null,\"ticker\":null},\"id\":\"9972\",\"type\":\"Grid\"},{\"attributes\":{},\"id\":\"9970\",\"type\":\"BasicTicker\"},{\"attributes\":{\"data\":{\"index\":[0,1,3,4,5,10,11,12,13,14,15,17,18,20,22,23,24,25,26,28,29,30,32,36,37,38,41,46,47,48,49,50,52,53,55,56,57,58,59,64],\"sentiment\":[\"NEUTRAL\",\"NEUTRAL\",\"NEUTRAL\",\"NEUTRAL\",\"NEUTRAL\",\"NEUTRAL\",\"NEUTRAL\",\"NEUTRAL\",\"NEUTRAL\",\"NEUTRAL\",\"NEUTRAL\",\"NEUTRAL\",\"NEUTRAL\",\"NEUTRAL\",\"NEUTRAL\",\"NEUTRAL\",\"NEUTRAL\",\"NEUTRAL\",\"NEUTRAL\",\"NEUTRAL\",\"NEUTRAL\",\"NEUTRAL\",\"NEUTRAL\",\"NEUTRAL\",\"NEUTRAL\",\"NEUTRAL\",\"NEUTRAL\",\"NEUTRAL\",\"NEUTRAL\",\"NEUTRAL\",\"NEUTRAL\",\"NEUTRAL\",\"NEUTRAL\",\"NEUTRAL\",\"NEUTRAL\",\"NEUTRAL\",\"NEUTRAL\",\"NEUTRAL\",\"NEUTRAL\",\"NEUTRAL\"],\"speaker\":[\"Barbara\",\"Barbara\",\"Dolly\",\"Barbara\",\"Dolly\",\"Barbara\",\"Dolly\",\"Barbara\",\"Dolly\",\"Barbara\",\"Dolly\",\"Dolly\",\"Dolly\",\"Barbara\",\"Dolly\",\"Dolly\",\"Dolly\",\"Dolly\",\"Barbara\",\"Barbara\",\"Barbara\",\"Dolly\",\"Dolly\",\"Dolly\",\"Dolly\",\"Dolly\",\"Dolly\",\"Barbara\",\"Barbara\",\"Barbara\",\"Barbara\",\"Barbara\",\"Barbara\",\"Dolly\",\"Barbara\",\"Dolly\",\"Barbara\",\"Barbara\",\"Dolly\",\"Dolly\"],\"text\":[\"Dolly where I come from.\",\"Would I have called you a hillbilly?\",\"No, actually.\",\"But when I think of your beliefs and I think of your kind of.\",\"People I think you probably are, the people that grew up where I was were the ones that you would consider the little abner people daisy May and that sort of thing.\",\"Did you look like this when you were a kid?\",\"Not quite.\",\"I mean, you didn't have the blonde wig but when I went to school when you were 11, 12, 13 was it this about you?\",\"Well, you mean the full figure?\",\"Yeah, that's what I meant.\",\"Yeah, that's what you meant.\",\"I grew up fast.\",\"Other members of my family have done the same.\",\"Is it all you?\",\"Yeah, I'll take your word for it.\",\"I get asked that question.\",\"I always answer that because people are in all of the whole thing a lot of people say I have a lot of people say I have it.\",\"I always say that if I hadn't had it on my own I'm just the kind of person that would have had me if I made you don't.\",\"Have to look like this.\",\"You don't have to wear the blonde wigs you don't have to wear the extreme clothes.\",\"Right?\",\"No, it's certainly a choice.\",\"I've often made this statement that I would never stoop so low as to be fashionable.\",\"And as far as my outlook on life and the way I care about people and the way I care about myself and the things that I care about.\",\"But I just chose to do this.\",\"And show business is a money making joke, and I just always liked telling jokes.\",\"Oh, I know they make fun of me but actually, all these years the people have thought the joke was on me, but it's actually been on the public.\",\"Listen, tell me about this marriage of yours this man who nobody ever seems to see.\",\"We heard that he was here, we heard that he was, but none of us have seen him.\",\"Paul Dean, you don't see him very much.\",\"You're on the road most of the time.\",\"You've said, I know that this marriage will always last.\",\"How do you know?\",\"Well, I need freedom.\",\"So why get married?\",\"Well, why not?\",\"Why, if I don't want most of freedom?\",\"Why have a husband away some place with these six weeks a year?\",\"He has the same freedom.\",\"I wonder if he's with somebody and this and that.\"]},\"selected\":{\"id\":\"10070\"},\"selection_policy\":{\"id\":\"10108\"}},\"id\":\"10069\",\"type\":\"ColumnDataSource\"},{\"attributes\":{},\"id\":\"9975\",\"type\":\"WheelZoomTool\"},{\"attributes\":{\"child\":{\"id\":\"10064\"},\"name\":\"\",\"title\":\"Negative\"},\"id\":\"10068\",\"type\":\"Panel\"},{\"attributes\":{},\"id\":\"9962\",\"type\":\"CategoricalScale\"},{\"attributes\":{\"editor\":{\"id\":\"10073\"},\"field\":\"index\",\"formatter\":{\"id\":\"10071\"},\"title\":\"index\",\"width\":0},\"id\":\"10074\",\"type\":\"TableColumn\"},{\"attributes\":{\"fill_alpha\":{\"value\":0.2},\"fill_color\":{\"field\":\"sentiment\",\"transform\":{\"id\":\"9986\"}},\"hatch_alpha\":{\"value\":0.2},\"hatch_color\":{\"field\":\"sentiment\",\"transform\":{\"id\":\"9986\"}},\"line_alpha\":{\"value\":0.2},\"top\":{\"field\":\"count\"},\"width\":{\"value\":0.8},\"x\":{\"field\":\"xoffsets\"}},\"id\":\"9992\",\"type\":\"VBar\"},{\"attributes\":{\"autosize_mode\":\"fit_columns\",\"columns\":[{\"id\":\"10074\"},{\"id\":\"10079\"},{\"id\":\"10084\"},{\"id\":\"10089\"}],\"editable\":true,\"height\":300,\"index_position\":null,\"margin\":[5,10,5,10],\"name\":\"\",\"row_height\":40,\"sizing_mode\":\"fixed\",\"source\":{\"id\":\"10069\"},\"view\":{\"id\":\"10094\"},\"width\":700},\"id\":\"10092\",\"type\":\"DataTable\"},{\"attributes\":{},\"id\":\"9973\",\"type\":\"SaveTool\"},{\"attributes\":{\"source\":{\"id\":\"10069\"}},\"id\":\"10094\",\"type\":\"CDSView\"},{\"attributes\":{\"overlay\":{\"id\":\"9978\"}},\"id\":\"9976\",\"type\":\"BoxZoomTool\"},{\"attributes\":{\"axis_label\":\"speaker, sentiment\",\"coordinates\":null,\"formatter\":{\"id\":\"9997\"},\"group\":null,\"major_label_policy\":{\"id\":\"9998\"},\"ticker\":{\"id\":\"9967\"}},\"id\":\"9966\",\"type\":\"CategoricalAxis\"},{\"attributes\":{},\"id\":\"10073\",\"type\":\"CellEditor\"},{\"attributes\":{},\"id\":\"9977\",\"type\":\"ResetTool\"},{\"attributes\":{\"text_align\":\"left\"},\"id\":\"10015\",\"type\":\"NumberFormatter\"},{\"attributes\":{},\"id\":\"10077\",\"type\":\"StringFormatter\"},{\"attributes\":{\"editor\":{\"id\":\"10017\"},\"field\":\"index\",\"formatter\":{\"id\":\"10015\"},\"title\":\"index\",\"width\":0},\"id\":\"10018\",\"type\":\"TableColumn\"},{\"attributes\":{},\"id\":\"10106\",\"type\":\"UnionRenderers\"},{\"attributes\":{},\"id\":\"10078\",\"type\":\"StringEditor\"},{\"attributes\":{\"autosize_mode\":\"fit_columns\",\"columns\":[{\"id\":\"10018\"},{\"id\":\"10023\"},{\"id\":\"10028\"},{\"id\":\"10033\"}],\"editable\":true,\"height\":300,\"index_position\":null,\"margin\":[5,10,5,10],\"name\":\"\",\"row_height\":40,\"sizing_mode\":\"fixed\",\"source\":{\"id\":\"10013\"},\"view\":{\"id\":\"10038\"},\"width\":700},\"id\":\"10036\",\"type\":\"DataTable\"},{\"attributes\":{\"bottom_units\":\"screen\",\"coordinates\":null,\"fill_alpha\":0.5,\"fill_color\":\"lightgrey\",\"group\":null,\"left_units\":\"screen\",\"level\":\"overlay\",\"line_alpha\":1.0,\"line_color\":\"black\",\"line_dash\":[4,4],\"line_width\":2,\"right_units\":\"screen\",\"syncable\":false,\"top_units\":\"screen\"},\"id\":\"9978\",\"type\":\"BoxAnnotation\"},{\"attributes\":{\"editor\":{\"id\":\"10078\"},\"field\":\"text\",\"formatter\":{\"id\":\"10077\"},\"title\":\"text\",\"width\":0},\"id\":\"10079\",\"type\":\"TableColumn\"},{\"attributes\":{\"source\":{\"id\":\"10013\"}},\"id\":\"10038\",\"type\":\"CDSView\"},{\"attributes\":{},\"id\":\"10017\",\"type\":\"CellEditor\"},{\"attributes\":{\"tools\":[{\"id\":\"9956\"},{\"id\":\"9973\"},{\"id\":\"9974\"},{\"id\":\"9975\"},{\"id\":\"9976\"},{\"id\":\"9977\"}]},\"id\":\"9979\",\"type\":\"Toolbar\"},{\"attributes\":{\"data\":{\"count\":[3,6,19,21,2,14],\"sentiment\":[\"NEGATIVE\",\"NEGATIVE\",\"NEUTRAL\",\"NEUTRAL\",\"POSITIVE\",\"POSITIVE\"],\"speaker\":[\"Barbara\",\"Dolly\",\"Barbara\",\"Dolly\",\"Barbara\",\"Dolly\"],\"xoffsets\":[[\"Barbara\",\"NEGATIVE\"],[\"Dolly\",\"NEGATIVE\"],[\"Barbara\",\"NEUTRAL\"],[\"Dolly\",\"NEUTRAL\"],[\"Barbara\",\"POSITIVE\"],[\"Dolly\",\"POSITIVE\"]]},\"selected\":{\"id\":\"9988\"},\"selection_policy\":{\"id\":\"10009\"}},\"id\":\"9987\",\"type\":\"ColumnDataSource\"},{\"attributes\":{},\"id\":\"9988\",\"type\":\"Selection\"},{\"attributes\":{},\"id\":\"10021\",\"type\":\"StringFormatter\"},{\"attributes\":{},\"id\":\"10082\",\"type\":\"StringFormatter\"},{\"attributes\":{},\"id\":\"10022\",\"type\":\"StringEditor\"},{\"attributes\":{},\"id\":\"10083\",\"type\":\"StringEditor\"},{\"attributes\":{\"editor\":{\"id\":\"10022\"},\"field\":\"text\",\"formatter\":{\"id\":\"10021\"},\"title\":\"text\",\"width\":0},\"id\":\"10023\",\"type\":\"TableColumn\"},{\"attributes\":{\"editor\":{\"id\":\"10083\"},\"field\":\"sentiment\",\"formatter\":{\"id\":\"10082\"},\"title\":\"sentiment\",\"width\":0},\"id\":\"10084\",\"type\":\"TableColumn\"},{\"attributes\":{},\"id\":\"9998\",\"type\":\"AllLabels\"}],\"root_ids\":[\"9953\",\"10145\"]},\"title\":\"Bokeh Application\",\"version\":\"2.4.3\"}};\n",
       "    var render_items = [{\"docid\":\"f6c69b87-d299-4cb6-825e-dd03aa1917d4\",\"root_ids\":[\"9953\"],\"roots\":{\"9953\":\"68458797-3d51-452b-9faf-edd521cebc37\"}}];\n",
       "    root.Bokeh.embed.embed_items_notebook(docs_json, render_items);\n",
       "    for (const render_item of render_items) {\n",
       "      for (const root_id of render_item.root_ids) {\n",
       "\tconst id_el = document.getElementById(root_id)\n",
       "\tif (id_el.children.length && (id_el.children[0].className === 'bk-root')) {\n",
       "\t  const root_el = id_el.children[0]\n",
       "\t  root_el.id = root_el.id + '-rendered'\n",
       "\t}\n",
       "      }\n",
       "    }\n",
       "  }\n",
       "  if (root.Bokeh !== undefined && root.Bokeh.Panel !== undefined) {\n",
       "    embed_document(root);\n",
       "  } else {\n",
       "    var attempts = 0;\n",
       "    var timer = setInterval(function(root) {\n",
       "      if (root.Bokeh !== undefined && root.Bokeh.Panel !== undefined) {\n",
       "        clearInterval(timer);\n",
       "        embed_document(root);\n",
       "      } else if (document.readyState == \"complete\") {\n",
       "        attempts++;\n",
       "        if (attempts > 200) {\n",
       "          clearInterval(timer);\n",
       "          console.log(\"Bokeh: ERROR: Unable to run BokehJS code because BokehJS library is missing\");\n",
       "        }\n",
       "      }\n",
       "    }, 25, root)\n",
       "  }\n",
       "})(window);</script>"
      ],
      "text/plain": [
       "Tabs\n",
       "    [0] HoloViews(Bars, name='Sentiment Overview')\n",
       "    [1] DataFrame(autosize_mode='fit_columns', height=300, sizing_mode='fixed', value=                          ..., width=700)\n",
       "    [2] DataFrame(autosize_mode='fit_columns', height=300, sizing_mode='fixed', value=                          ..., width=700)\n",
       "    [3] DataFrame(autosize_mode='fit_columns', height=300, sizing_mode='fixed', value=                          ..., width=700)"
      ]
     },
     "execution_count": 295,
     "metadata": {
      "application/vnd.holoviews_exec.v0+json": {
       "id": "9953"
      }
     },
     "output_type": "execute_result"
    }
   ],
   "source": [
    "positive_df = sentiment_df.query('sentiment == \"POSITIVE\"')[[\"text\",\"sentiment\",'speaker']]\n",
    "negative_df = sentiment_df.query('sentiment == \"NEGATIVE\"')[['text','sentiment','speaker']]\n",
    "neutral_df = sentiment_df.query('sentiment == \"NEUTRAL\"')[['text','sentiment','speaker']]\n",
    "\n",
    "sentiment_tabs = pn.Tabs(('Sentiment Overview', plot),\n",
    "                         ('Positive', pn.widgets.DataFrame(positive_df, autosize_mode='fit_columns', width=700, height=300)),\n",
    "                         ('Negative', pn.widgets.DataFrame(negative_df, autosize_mode='fit_columns', width=700, height=300)),\n",
    "                         ('Neutral', pn.widgets.DataFrame(neutral_df, autosize_mode='fit_columns', width=700, height=300))\n",
    "                        )\n",
    "sentiment_tabs"
   ]
  },
  {
   "cell_type": "code",
   "execution_count": 343,
   "id": "8a421879-5076-4aaf-8516-c84ec1699dca",
   "metadata": {},
   "outputs": [],
   "source": [
    "speaker_text = sentiment_df.groupby('speaker')['text'].apply(' '.join).map(lambda x: x.lower())"
   ]
  },
  {
   "cell_type": "code",
   "execution_count": 406,
   "id": "82d61a59-0ffa-48cf-9e35-6f4b5a3994fd",
   "metadata": {},
   "outputs": [
    {
     "data": {
      "application/vnd.plotly.v1+json": {
       "config": {
        "plotlyServerURL": "https://plotly.com"
       },
       "data": [
        {
         "hovertemplate": "x: %{x}<br>y: %{y}<br>color: [%{z[0]}, %{z[1]}, %{z[2]}]<extra></extra>",
         "name": "0",
         "source": "data:image/png;base64,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",
         "type": "image",
         "xaxis": "x",
         "yaxis": "y"
        }
       ],
       "layout": {
        "autosize": true,
        "margin": {
         "t": 60
        },
        "template": {
         "data": {
          "bar": [
           {
            "error_x": {
             "color": "#2a3f5f"
            },
            "error_y": {
             "color": "#2a3f5f"
            },
            "marker": {
             "line": {
              "color": "#E5ECF6",
              "width": 0.5
             },
             "pattern": {
              "fillmode": "overlay",
              "size": 10,
              "solidity": 0.2
             }
            },
            "type": "bar"
           }
          ],
          "barpolar": [
           {
            "marker": {
             "line": {
              "color": "#E5ECF6",
              "width": 0.5
             },
             "pattern": {
              "fillmode": "overlay",
              "size": 10,
              "solidity": 0.2
             }
            },
            "type": "barpolar"
           }
          ],
          "carpet": [
           {
            "aaxis": {
             "endlinecolor": "#2a3f5f",
             "gridcolor": "white",
             "linecolor": "white",
             "minorgridcolor": "white",
             "startlinecolor": "#2a3f5f"
            },
            "baxis": {
             "endlinecolor": "#2a3f5f",
             "gridcolor": "white",
             "linecolor": "white",
             "minorgridcolor": "white",
             "startlinecolor": "#2a3f5f"
            },
            "type": "carpet"
           }
          ],
          "choropleth": [
           {
            "colorbar": {
             "outlinewidth": 0,
             "ticks": ""
            },
            "type": "choropleth"
           }
          ],
          "contour": [
           {
            "colorbar": {
             "outlinewidth": 0,
             "ticks": ""
            },
            "colorscale": [
             [
              0,
              "#0d0887"
             ],
             [
              0.1111111111111111,
              "#46039f"
             ],
             [
              0.2222222222222222,
              "#7201a8"
             ],
             [
              0.3333333333333333,
              "#9c179e"
             ],
             [
              0.4444444444444444,
              "#bd3786"
             ],
             [
              0.5555555555555556,
              "#d8576b"
             ],
             [
              0.6666666666666666,
              "#ed7953"
             ],
             [
              0.7777777777777778,
              "#fb9f3a"
             ],
             [
              0.8888888888888888,
              "#fdca26"
             ],
             [
              1,
              "#f0f921"
             ]
            ],
            "type": "contour"
           }
          ],
          "contourcarpet": [
           {
            "colorbar": {
             "outlinewidth": 0,
             "ticks": ""
            },
            "type": "contourcarpet"
           }
          ],
          "heatmap": [
           {
            "colorbar": {
             "outlinewidth": 0,
             "ticks": ""
            },
            "colorscale": [
             [
              0,
              "#0d0887"
             ],
             [
              0.1111111111111111,
              "#46039f"
             ],
             [
              0.2222222222222222,
              "#7201a8"
             ],
             [
              0.3333333333333333,
              "#9c179e"
             ],
             [
              0.4444444444444444,
              "#bd3786"
             ],
             [
              0.5555555555555556,
              "#d8576b"
             ],
             [
              0.6666666666666666,
              "#ed7953"
             ],
             [
              0.7777777777777778,
              "#fb9f3a"
             ],
             [
              0.8888888888888888,
              "#fdca26"
             ],
             [
              1,
              "#f0f921"
             ]
            ],
            "type": "heatmap"
           }
          ],
          "heatmapgl": [
           {
            "colorbar": {
             "outlinewidth": 0,
             "ticks": ""
            },
            "colorscale": [
             [
              0,
              "#0d0887"
             ],
             [
              0.1111111111111111,
              "#46039f"
             ],
             [
              0.2222222222222222,
              "#7201a8"
             ],
             [
              0.3333333333333333,
              "#9c179e"
             ],
             [
              0.4444444444444444,
              "#bd3786"
             ],
             [
              0.5555555555555556,
              "#d8576b"
             ],
             [
              0.6666666666666666,
              "#ed7953"
             ],
             [
              0.7777777777777778,
              "#fb9f3a"
             ],
             [
              0.8888888888888888,
              "#fdca26"
             ],
             [
              1,
              "#f0f921"
             ]
            ],
            "type": "heatmapgl"
           }
          ],
          "histogram": [
           {
            "marker": {
             "pattern": {
              "fillmode": "overlay",
              "size": 10,
              "solidity": 0.2
             }
            },
            "type": "histogram"
           }
          ],
          "histogram2d": [
           {
            "colorbar": {
             "outlinewidth": 0,
             "ticks": ""
            },
            "colorscale": [
             [
              0,
              "#0d0887"
             ],
             [
              0.1111111111111111,
              "#46039f"
             ],
             [
              0.2222222222222222,
              "#7201a8"
             ],
             [
              0.3333333333333333,
              "#9c179e"
             ],
             [
              0.4444444444444444,
              "#bd3786"
             ],
             [
              0.5555555555555556,
              "#d8576b"
             ],
             [
              0.6666666666666666,
              "#ed7953"
             ],
             [
              0.7777777777777778,
              "#fb9f3a"
             ],
             [
              0.8888888888888888,
              "#fdca26"
             ],
             [
              1,
              "#f0f921"
             ]
            ],
            "type": "histogram2d"
           }
          ],
          "histogram2dcontour": [
           {
            "colorbar": {
             "outlinewidth": 0,
             "ticks": ""
            },
            "colorscale": [
             [
              0,
              "#0d0887"
             ],
             [
              0.1111111111111111,
              "#46039f"
             ],
             [
              0.2222222222222222,
              "#7201a8"
             ],
             [
              0.3333333333333333,
              "#9c179e"
             ],
             [
              0.4444444444444444,
              "#bd3786"
             ],
             [
              0.5555555555555556,
              "#d8576b"
             ],
             [
              0.6666666666666666,
              "#ed7953"
             ],
             [
              0.7777777777777778,
              "#fb9f3a"
             ],
             [
              0.8888888888888888,
              "#fdca26"
             ],
             [
              1,
              "#f0f921"
             ]
            ],
            "type": "histogram2dcontour"
           }
          ],
          "mesh3d": [
           {
            "colorbar": {
             "outlinewidth": 0,
             "ticks": ""
            },
            "type": "mesh3d"
           }
          ],
          "parcoords": [
           {
            "line": {
             "colorbar": {
              "outlinewidth": 0,
              "ticks": ""
             }
            },
            "type": "parcoords"
           }
          ],
          "pie": [
           {
            "automargin": true,
            "type": "pie"
           }
          ],
          "scatter": [
           {
            "fillpattern": {
             "fillmode": "overlay",
             "size": 10,
             "solidity": 0.2
            },
            "type": "scatter"
           }
          ],
          "scatter3d": [
           {
            "line": {
             "colorbar": {
              "outlinewidth": 0,
              "ticks": ""
             }
            },
            "marker": {
             "colorbar": {
              "outlinewidth": 0,
              "ticks": ""
             }
            },
            "type": "scatter3d"
           }
          ],
          "scattercarpet": [
           {
            "marker": {
             "colorbar": {
              "outlinewidth": 0,
              "ticks": ""
             }
            },
            "type": "scattercarpet"
           }
          ],
          "scattergeo": [
           {
            "marker": {
             "colorbar": {
              "outlinewidth": 0,
              "ticks": ""
             }
            },
            "type": "scattergeo"
           }
          ],
          "scattergl": [
           {
            "marker": {
             "colorbar": {
              "outlinewidth": 0,
              "ticks": ""
             }
            },
            "type": "scattergl"
           }
          ],
          "scattermapbox": [
           {
            "marker": {
             "colorbar": {
              "outlinewidth": 0,
              "ticks": ""
             }
            },
            "type": "scattermapbox"
           }
          ],
          "scatterpolar": [
           {
            "marker": {
             "colorbar": {
              "outlinewidth": 0,
              "ticks": ""
             }
            },
            "type": "scatterpolar"
           }
          ],
          "scatterpolargl": [
           {
            "marker": {
             "colorbar": {
              "outlinewidth": 0,
              "ticks": ""
             }
            },
            "type": "scatterpolargl"
           }
          ],
          "scatterternary": [
           {
            "marker": {
             "colorbar": {
              "outlinewidth": 0,
              "ticks": ""
             }
            },
            "type": "scatterternary"
           }
          ],
          "surface": [
           {
            "colorbar": {
             "outlinewidth": 0,
             "ticks": ""
            },
            "colorscale": [
             [
              0,
              "#0d0887"
             ],
             [
              0.1111111111111111,
              "#46039f"
             ],
             [
              0.2222222222222222,
              "#7201a8"
             ],
             [
              0.3333333333333333,
              "#9c179e"
             ],
             [
              0.4444444444444444,
              "#bd3786"
             ],
             [
              0.5555555555555556,
              "#d8576b"
             ],
             [
              0.6666666666666666,
              "#ed7953"
             ],
             [
              0.7777777777777778,
              "#fb9f3a"
             ],
             [
              0.8888888888888888,
              "#fdca26"
             ],
             [
              1,
              "#f0f921"
             ]
            ],
            "type": "surface"
           }
          ],
          "table": [
           {
            "cells": {
             "fill": {
              "color": "#EBF0F8"
             },
             "line": {
              "color": "white"
             }
            },
            "header": {
             "fill": {
              "color": "#C8D4E3"
             },
             "line": {
              "color": "white"
             }
            },
            "type": "table"
           }
          ]
         },
         "layout": {
          "annotationdefaults": {
           "arrowcolor": "#2a3f5f",
           "arrowhead": 0,
           "arrowwidth": 1
          },
          "autotypenumbers": "strict",
          "coloraxis": {
           "colorbar": {
            "outlinewidth": 0,
            "ticks": ""
           }
          },
          "colorscale": {
           "diverging": [
            [
             0,
             "#8e0152"
            ],
            [
             0.1,
             "#c51b7d"
            ],
            [
             0.2,
             "#de77ae"
            ],
            [
             0.3,
             "#f1b6da"
            ],
            [
             0.4,
             "#fde0ef"
            ],
            [
             0.5,
             "#f7f7f7"
            ],
            [
             0.6,
             "#e6f5d0"
            ],
            [
             0.7,
             "#b8e186"
            ],
            [
             0.8,
             "#7fbc41"
            ],
            [
             0.9,
             "#4d9221"
            ],
            [
             1,
             "#276419"
            ]
           ],
           "sequential": [
            [
             0,
             "#0d0887"
            ],
            [
             0.1111111111111111,
             "#46039f"
            ],
            [
             0.2222222222222222,
             "#7201a8"
            ],
            [
             0.3333333333333333,
             "#9c179e"
            ],
            [
             0.4444444444444444,
             "#bd3786"
            ],
            [
             0.5555555555555556,
             "#d8576b"
            ],
            [
             0.6666666666666666,
             "#ed7953"
            ],
            [
             0.7777777777777778,
             "#fb9f3a"
            ],
            [
             0.8888888888888888,
             "#fdca26"
            ],
            [
             1,
             "#f0f921"
            ]
           ],
           "sequentialminus": [
            [
             0,
             "#0d0887"
            ],
            [
             0.1111111111111111,
             "#46039f"
            ],
            [
             0.2222222222222222,
             "#7201a8"
            ],
            [
             0.3333333333333333,
             "#9c179e"
            ],
            [
             0.4444444444444444,
             "#bd3786"
            ],
            [
             0.5555555555555556,
             "#d8576b"
            ],
            [
             0.6666666666666666,
             "#ed7953"
            ],
            [
             0.7777777777777778,
             "#fb9f3a"
            ],
            [
             0.8888888888888888,
             "#fdca26"
            ],
            [
             1,
             "#f0f921"
            ]
           ]
          },
          "colorway": [
           "#636efa",
           "#EF553B",
           "#00cc96",
           "#ab63fa",
           "#FFA15A",
           "#19d3f3",
           "#FF6692",
           "#B6E880",
           "#FF97FF",
           "#FECB52"
          ],
          "font": {
           "color": "#2a3f5f"
          },
          "geo": {
           "bgcolor": "white",
           "lakecolor": "white",
           "landcolor": "#E5ECF6",
           "showlakes": true,
           "showland": true,
           "subunitcolor": "white"
          },
          "hoverlabel": {
           "align": "left"
          },
          "hovermode": "closest",
          "mapbox": {
           "style": "light"
          },
          "paper_bgcolor": "white",
          "plot_bgcolor": "#E5ECF6",
          "polar": {
           "angularaxis": {
            "gridcolor": "white",
            "linecolor": "white",
            "ticks": ""
           },
           "bgcolor": "#E5ECF6",
           "radialaxis": {
            "gridcolor": "white",
            "linecolor": "white",
            "ticks": ""
           }
          },
          "scene": {
           "xaxis": {
            "backgroundcolor": "#E5ECF6",
            "gridcolor": "white",
            "gridwidth": 2,
            "linecolor": "white",
            "showbackground": true,
            "ticks": "",
            "zerolinecolor": "white"
           },
           "yaxis": {
            "backgroundcolor": "#E5ECF6",
            "gridcolor": "white",
            "gridwidth": 2,
            "linecolor": "white",
            "showbackground": true,
            "ticks": "",
            "zerolinecolor": "white"
           },
           "zaxis": {
            "backgroundcolor": "#E5ECF6",
            "gridcolor": "white",
            "gridwidth": 2,
            "linecolor": "white",
            "showbackground": true,
            "ticks": "",
            "zerolinecolor": "white"
           }
          },
          "shapedefaults": {
           "line": {
            "color": "#2a3f5f"
           }
          },
          "ternary": {
           "aaxis": {
            "gridcolor": "white",
            "linecolor": "white",
            "ticks": ""
           },
           "baxis": {
            "gridcolor": "white",
            "linecolor": "white",
            "ticks": ""
           },
           "bgcolor": "#E5ECF6",
           "caxis": {
            "gridcolor": "white",
            "linecolor": "white",
            "ticks": ""
           }
          },
          "title": {
           "x": 0.05
          },
          "xaxis": {
           "automargin": true,
           "gridcolor": "white",
           "linecolor": "white",
           "ticks": "",
           "title": {
            "standoff": 15
           },
           "zerolinecolor": "white",
           "zerolinewidth": 2
          },
          "yaxis": {
           "automargin": true,
           "gridcolor": "white",
           "linecolor": "white",
           "ticks": "",
           "title": {
            "standoff": 15
           },
           "zerolinecolor": "white",
           "zerolinewidth": 2
          }
         }
        },
        "xaxis": {
         "anchor": "y",
         "autorange": true,
         "domain": [
          0.3531375166889186,
          0.6468624833110814
         ],
         "range": [
          -0.5,
          399.5
         ],
         "showticklabels": false
        },
        "yaxis": {
         "anchor": "x",
         "autorange": true,
         "domain": [
          0,
          1
         ],
         "range": [
          199.5,
          -0.5
         ],
         "showticklabels": false
        }
       }
      },
      "image/png": "[encoded data removed]",
      "text/html": [
       "<div>                            <div id=\"dac4e518-1742-4ebf-b270-3ccd9e7bb560\" class=\"plotly-graph-div\" style=\"height:525px; width:100%;\"></div>            <script type=\"text/javascript\">                require([\"plotly\"], function(Plotly) {                    window.PLOTLYENV=window.PLOTLYENV || {};                                    if (document.getElementById(\"dac4e518-1742-4ebf-b270-3ccd9e7bb560\")) {                    Plotly.newPlot(                        \"dac4e518-1742-4ebf-b270-3ccd9e7bb560\",                        [{\"name\":\"0\",\"source\":\"data:image/png;base64,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\",\"type\":\"image\",\"xaxis\":\"x\",\"yaxis\":\"y\",\"hovertemplate\":\"x: %{x}<br>y: %{y}<br>color: [%{z[0]}, %{z[1]}, %{z[2]}]<extra></extra>\"}],                        {\"template\":{\"data\":{\"histogram2dcontour\":[{\"type\":\"histogram2dcontour\",\"colorbar\":{\"outlinewidth\":0,\"ticks\":\"\"},\"colorscale\":[[0.0,\"#0d0887\"],[0.1111111111111111,\"#46039f\"],[0.2222222222222222,\"#7201a8\"],[0.3333333333333333,\"#9c179e\"],[0.4444444444444444,\"#bd3786\"],[0.5555555555555556,\"#d8576b\"],[0.6666666666666666,\"#ed7953\"],[0.7777777777777778,\"#fb9f3a\"],[0.8888888888888888,\"#fdca26\"],[1.0,\"#f0f921\"]]}],\"choropleth\":[{\"type\":\"choropleth\",\"colorbar\":{\"outlinewidth\":0,\"ticks\":\"\"}}],\"histogram2d\":[{\"type\":\"histogram2d\",\"colorbar\":{\"outlinewidth\":0,\"ticks\":\"\"},\"colorscale\":[[0.0,\"#0d0887\"],[0.1111111111111111,\"#46039f\"],[0.2222222222222222,\"#7201a8\"],[0.3333333333333333,\"#9c179e\"],[0.4444444444444444,\"#bd3786\"],[0.5555555555555556,\"#d8576b\"],[0.6666666666666666,\"#ed7953\"],[0.7777777777777778,\"#fb9f3a\"],[0.8888888888888888,\"#fdca26\"],[1.0,\"#f0f921\"]]}],\"heatmap\":[{\"type\":\"heatmap\",\"colorbar\":{\"outlinewidth\":0,\"ticks\":\"\"},\"colorscale\":[[0.0,\"#0d0887\"],[0.1111111111111111,\"#46039f\"],[0.2222222222222222,\"#7201a8\"],[0.3333333333333333,\"#9c179e\"],[0.4444444444444444,\"#bd3786\"],[0.5555555555555556,\"#d8576b\"],[0.6666666666666666,\"#ed7953\"],[0.7777777777777778,\"#fb9f3a\"],[0.8888888888888888,\"#fdca26\"],[1.0,\"#f0f921\"]]}],\"heatmapgl\":[{\"type\":\"heatmapgl\",\"colorbar\":{\"outlinewidth\":0,\"ticks\":\"\"},\"colorscale\":[[0.0,\"#0d0887\"],[0.1111111111111111,\"#46039f\"],[0.2222222222222222,\"#7201a8\"],[0.3333333333333333,\"#9c179e\"],[0.4444444444444444,\"#bd3786\"],[0.5555555555555556,\"#d8576b\"],[0.6666666666666666,\"#ed7953\"],[0.7777777777777778,\"#fb9f3a\"],[0.8888888888888888,\"#fdca26\"],[1.0,\"#f0f921\"]]}],\"contourcarpet\":[{\"type\":\"contourcarpet\",\"colorbar\":{\"outlinewidth\":0,\"ticks\":\"\"}}],\"contour\":[{\"type\":\"contour\",\"colorbar\":{\"outlinewidth\":0,\"ticks\":\"\"},\"colorscale\":[[0.0,\"#0d0887\"],[0.1111111111111111,\"#46039f\"],[0.2222222222222222,\"#7201a8\"],[0.3333333333333333,\"#9c179e\"],[0.4444444444444444,\"#bd3786\"],[0.5555555555555556,\"#d8576b\"],[0.6666666666666666,\"#ed7953\"],[0.7777777777777778,\"#fb9f3a\"],[0.8888888888888888,\"#fdca26\"],[1.0,\"#f0f921\"]]}],\"surface\":[{\"type\":\"surface\",\"colorbar\":{\"outlinewidth\":0,\"ticks\":\"\"},\"colorscale\":[[0.0,\"#0d0887\"],[0.1111111111111111,\"#46039f\"],[0.2222222222222222,\"#7201a8\"],[0.3333333333333333,\"#9c179e\"],[0.4444444444444444,\"#bd3786\"],[0.5555555555555556,\"#d8576b\"],[0.6666666666666666,\"#ed7953\"],[0.7777777777777778,\"#fb9f3a\"],[0.8888888888888888,\"#fdca26\"],[1.0,\"#f0f921\"]]}],\"mesh3d\":[{\"type\":\"mesh3d\",\"colorbar\":{\"outlinewidth\":0,\"ticks\":\"\"}}],\"scatter\":[{\"fillpattern\":{\"fillmode\":\"overlay\",\"size\":10,\"solidity\":0.2},\"type\":\"scatter\"}],\"parcoords\":[{\"type\":\"parcoords\",\"line\":{\"colorbar\":{\"outlinewidth\":0,\"ticks\":\"\"}}}],\"scatterpolargl\":[{\"type\":\"scatterpolargl\",\"marker\":{\"colorbar\":{\"outlinewidth\":0,\"ticks\":\"\"}}}],\"bar\":[{\"error_x\":{\"color\":\"#2a3f5f\"},\"error_y\":{\"color\":\"#2a3f5f\"},\"marker\":{\"line\":{\"color\":\"#E5ECF6\",\"width\":0.5},\"pattern\":{\"fillmode\":\"overlay\",\"size\":10,\"solidity\":0.2}},\"type\":\"bar\"}],\"scattergeo\":[{\"type\":\"scattergeo\",\"marker\":{\"colorbar\":{\"outlinewidth\":0,\"ticks\":\"\"}}}],\"scatterpolar\":[{\"type\":\"scatterpolar\",\"marker\":{\"colorbar\":{\"outlinewidth\":0,\"ticks\":\"\"}}}],\"histogram\":[{\"marker\":{\"pattern\":{\"fillmode\":\"overlay\",\"size\":10,\"solidity\":0.2}},\"type\":\"histogram\"}],\"scattergl\":[{\"type\":\"scattergl\",\"marker\":{\"colorbar\":{\"outlinewidth\":0,\"ticks\":\"\"}}}],\"scatter3d\":[{\"type\":\"scatter3d\",\"line\":{\"colorbar\":{\"outlinewidth\":0,\"ticks\":\"\"}},\"marker\":{\"colorbar\":{\"outlinewidth\":0,\"ticks\":\"\"}}}],\"scattermapbox\":[{\"type\":\"scattermapbox\",\"marker\":{\"colorbar\":{\"outlinewidth\":0,\"ticks\":\"\"}}}],\"scatterternary\":[{\"type\":\"scatterternary\",\"marker\":{\"colorbar\":{\"outlinewidth\":0,\"ticks\":\"\"}}}],\"scattercarpet\":[{\"type\":\"scattercarpet\",\"marker\":{\"colorbar\":{\"outlinewidth\":0,\"ticks\":\"\"}}}],\"carpet\":[{\"aaxis\":{\"endlinecolor\":\"#2a3f5f\",\"gridcolor\":\"white\",\"linecolor\":\"white\",\"minorgridcolor\":\"white\",\"startlinecolor\":\"#2a3f5f\"},\"baxis\":{\"endlinecolor\":\"#2a3f5f\",\"gridcolor\":\"white\",\"linecolor\":\"white\",\"minorgridcolor\":\"white\",\"startlinecolor\":\"#2a3f5f\"},\"type\":\"carpet\"}],\"table\":[{\"cells\":{\"fill\":{\"color\":\"#EBF0F8\"},\"line\":{\"color\":\"white\"}},\"header\":{\"fill\":{\"color\":\"#C8D4E3\"},\"line\":{\"color\":\"white\"}},\"type\":\"table\"}],\"barpolar\":[{\"marker\":{\"line\":{\"color\":\"#E5ECF6\",\"width\":0.5},\"pattern\":{\"fillmode\":\"overlay\",\"size\":10,\"solidity\":0.2}},\"type\":\"barpolar\"}],\"pie\":[{\"automargin\":true,\"type\":\"pie\"}]},\"layout\":{\"autotypenumbers\":\"strict\",\"colorway\":[\"#636efa\",\"#EF553B\",\"#00cc96\",\"#ab63fa\",\"#FFA15A\",\"#19d3f3\",\"#FF6692\",\"#B6E880\",\"#FF97FF\",\"#FECB52\"],\"font\":{\"color\":\"#2a3f5f\"},\"hovermode\":\"closest\",\"hoverlabel\":{\"align\":\"left\"},\"paper_bgcolor\":\"white\",\"plot_bgcolor\":\"#E5ECF6\",\"polar\":{\"bgcolor\":\"#E5ECF6\",\"angularaxis\":{\"gridcolor\":\"white\",\"linecolor\":\"white\",\"ticks\":\"\"},\"radialaxis\":{\"gridcolor\":\"white\",\"linecolor\":\"white\",\"ticks\":\"\"}},\"ternary\":{\"bgcolor\":\"#E5ECF6\",\"aaxis\":{\"gridcolor\":\"white\",\"linecolor\":\"white\",\"ticks\":\"\"},\"baxis\":{\"gridcolor\":\"white\",\"linecolor\":\"white\",\"ticks\":\"\"},\"caxis\":{\"gridcolor\":\"white\",\"linecolor\":\"white\",\"ticks\":\"\"}},\"coloraxis\":{\"colorbar\":{\"outlinewidth\":0,\"ticks\":\"\"}},\"colorscale\":{\"sequential\":[[0.0,\"#0d0887\"],[0.1111111111111111,\"#46039f\"],[0.2222222222222222,\"#7201a8\"],[0.3333333333333333,\"#9c179e\"],[0.4444444444444444,\"#bd3786\"],[0.5555555555555556,\"#d8576b\"],[0.6666666666666666,\"#ed7953\"],[0.7777777777777778,\"#fb9f3a\"],[0.8888888888888888,\"#fdca26\"],[1.0,\"#f0f921\"]],\"sequentialminus\":[[0.0,\"#0d0887\"],[0.1111111111111111,\"#46039f\"],[0.2222222222222222,\"#7201a8\"],[0.3333333333333333,\"#9c179e\"],[0.4444444444444444,\"#bd3786\"],[0.5555555555555556,\"#d8576b\"],[0.6666666666666666,\"#ed7953\"],[0.7777777777777778,\"#fb9f3a\"],[0.8888888888888888,\"#fdca26\"],[1.0,\"#f0f921\"]],\"diverging\":[[0,\"#8e0152\"],[0.1,\"#c51b7d\"],[0.2,\"#de77ae\"],[0.3,\"#f1b6da\"],[0.4,\"#fde0ef\"],[0.5,\"#f7f7f7\"],[0.6,\"#e6f5d0\"],[0.7,\"#b8e186\"],[0.8,\"#7fbc41\"],[0.9,\"#4d9221\"],[1,\"#276419\"]]},\"xaxis\":{\"gridcolor\":\"white\",\"linecolor\":\"white\",\"ticks\":\"\",\"title\":{\"standoff\":15},\"zerolinecolor\":\"white\",\"automargin\":true,\"zerolinewidth\":2},\"yaxis\":{\"gridcolor\":\"white\",\"linecolor\":\"white\",\"ticks\":\"\",\"title\":{\"standoff\":15},\"zerolinecolor\":\"white\",\"automargin\":true,\"zerolinewidth\":2},\"scene\":{\"xaxis\":{\"backgroundcolor\":\"#E5ECF6\",\"gridcolor\":\"white\",\"linecolor\":\"white\",\"showbackground\":true,\"ticks\":\"\",\"zerolinecolor\":\"white\",\"gridwidth\":2},\"yaxis\":{\"backgroundcolor\":\"#E5ECF6\",\"gridcolor\":\"white\",\"linecolor\":\"white\",\"showbackground\":true,\"ticks\":\"\",\"zerolinecolor\":\"white\",\"gridwidth\":2},\"zaxis\":{\"backgroundcolor\":\"#E5ECF6\",\"gridcolor\":\"white\",\"linecolor\":\"white\",\"showbackground\":true,\"ticks\":\"\",\"zerolinecolor\":\"white\",\"gridwidth\":2}},\"shapedefaults\":{\"line\":{\"color\":\"#2a3f5f\"}},\"annotationdefaults\":{\"arrowcolor\":\"#2a3f5f\",\"arrowhead\":0,\"arrowwidth\":1},\"geo\":{\"bgcolor\":\"white\",\"landcolor\":\"#E5ECF6\",\"subunitcolor\":\"white\",\"showland\":true,\"showlakes\":true,\"lakecolor\":\"white\"},\"title\":{\"x\":0.05},\"mapbox\":{\"style\":\"light\"}}},\"xaxis\":{\"anchor\":\"y\",\"domain\":[0.0,1.0],\"showticklabels\":false},\"yaxis\":{\"anchor\":\"x\",\"domain\":[0.0,1.0],\"showticklabels\":false},\"margin\":{\"t\":60}},                        {\"responsive\": true}                    ).then(function(){\n",
       "                            \n",
       "var gd = document.getElementById('dac4e518-1742-4ebf-b270-3ccd9e7bb560');\n",
       "var x = new MutationObserver(function (mutations, observer) {{\n",
       "        var display = window.getComputedStyle(gd).display;\n",
       "        if (!display || display === 'none') {{\n",
       "            console.log([gd, 'removed!']);\n",
       "            Plotly.purge(gd);\n",
       "            observer.disconnect();\n",
       "        }}\n",
       "}});\n",
       "\n",
       "// Listen for the removal of the full notebook cells\n",
       "var notebookContainer = gd.closest('#notebook-container');\n",
       "if (notebookContainer) {{\n",
       "    x.observe(notebookContainer, {childList: true});\n",
       "}}\n",
       "\n",
       "// Listen for the clearing of the current output cell\n",
       "var outputEl = gd.closest('.output');\n",
       "if (outputEl) {{\n",
       "    x.observe(outputEl, {childList: true});\n",
       "}}\n",
       "\n",
       "                        })                };                });            </script>        </div>"
      ]
     },
     "metadata": {},
     "output_type": "display_data"
    }
   ],
   "source": [
    "stopwords = set(STOPWORDS)\n",
    "wordcloud_barbara = WordCloud(background_color = \"black\", stopwords = stopwords, max_words=20, \n",
    "                      colormap = 'viridis', collocations=False).generate(speaker_text['Barbara'])\n",
    "wordcloud_plot_barb = px.imshow(wordcloud_barbara)\n",
    "wordcloud_plot_barb.update_xaxes(showticklabels=False)\n",
    "wordcloud_plot_barb.update_yaxes(showticklabels=False)\n",
    "wordcloud_plot_barb\n",
    "# word_tabs = pn.Tabs(('Overall', wordcloud_plot))\n",
    "# word_tabs"
   ]
  },
  {
   "cell_type": "code",
   "execution_count": 407,
   "id": "1d83d395-0840-4075-9f16-e6e42d8f22f0",
   "metadata": {},
   "outputs": [
    {
     "data": {
      "application/vnd.plotly.v1+json": {
       "config": {
        "plotlyServerURL": "https://plotly.com"
       },
       "data": [
        {
         "hovertemplate": "x: %{x}<br>y: %{y}<br>color: [%{z[0]}, %{z[1]}, %{z[2]}]<extra></extra>",
         "name": "0",
         "source": "data:image/png;base64,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",
         "type": "image",
         "xaxis": "x",
         "yaxis": "y"
        }
       ],
       "layout": {
        "autosize": true,
        "margin": {
         "t": 60
        },
        "template": {
         "data": {
          "bar": [
           {
            "error_x": {
             "color": "#2a3f5f"
            },
            "error_y": {
             "color": "#2a3f5f"
            },
            "marker": {
             "line": {
              "color": "#E5ECF6",
              "width": 0.5
             },
             "pattern": {
              "fillmode": "overlay",
              "size": 10,
              "solidity": 0.2
             }
            },
            "type": "bar"
           }
          ],
          "barpolar": [
           {
            "marker": {
             "line": {
              "color": "#E5ECF6",
              "width": 0.5
             },
             "pattern": {
              "fillmode": "overlay",
              "size": 10,
              "solidity": 0.2
             }
            },
            "type": "barpolar"
           }
          ],
          "carpet": [
           {
            "aaxis": {
             "endlinecolor": "#2a3f5f",
             "gridcolor": "white",
             "linecolor": "white",
             "minorgridcolor": "white",
             "startlinecolor": "#2a3f5f"
            },
            "baxis": {
             "endlinecolor": "#2a3f5f",
             "gridcolor": "white",
             "linecolor": "white",
             "minorgridcolor": "white",
             "startlinecolor": "#2a3f5f"
            },
            "type": "carpet"
           }
          ],
          "choropleth": [
           {
            "colorbar": {
             "outlinewidth": 0,
             "ticks": ""
            },
            "type": "choropleth"
           }
          ],
          "contour": [
           {
            "colorbar": {
             "outlinewidth": 0,
             "ticks": ""
            },
            "colorscale": [
             [
              0,
              "#0d0887"
             ],
             [
              0.1111111111111111,
              "#46039f"
             ],
             [
              0.2222222222222222,
              "#7201a8"
             ],
             [
              0.3333333333333333,
              "#9c179e"
             ],
             [
              0.4444444444444444,
              "#bd3786"
             ],
             [
              0.5555555555555556,
              "#d8576b"
             ],
             [
              0.6666666666666666,
              "#ed7953"
             ],
             [
              0.7777777777777778,
              "#fb9f3a"
             ],
             [
              0.8888888888888888,
              "#fdca26"
             ],
             [
              1,
              "#f0f921"
             ]
            ],
            "type": "contour"
           }
          ],
          "contourcarpet": [
           {
            "colorbar": {
             "outlinewidth": 0,
             "ticks": ""
            },
            "type": "contourcarpet"
           }
          ],
          "heatmap": [
           {
            "colorbar": {
             "outlinewidth": 0,
             "ticks": ""
            },
            "colorscale": [
             [
              0,
              "#0d0887"
             ],
             [
              0.1111111111111111,
              "#46039f"
             ],
             [
              0.2222222222222222,
              "#7201a8"
             ],
             [
              0.3333333333333333,
              "#9c179e"
             ],
             [
              0.4444444444444444,
              "#bd3786"
             ],
             [
              0.5555555555555556,
              "#d8576b"
             ],
             [
              0.6666666666666666,
              "#ed7953"
             ],
             [
              0.7777777777777778,
              "#fb9f3a"
             ],
             [
              0.8888888888888888,
              "#fdca26"
             ],
             [
              1,
              "#f0f921"
             ]
            ],
            "type": "heatmap"
           }
          ],
          "heatmapgl": [
           {
            "colorbar": {
             "outlinewidth": 0,
             "ticks": ""
            },
            "colorscale": [
             [
              0,
              "#0d0887"
             ],
             [
              0.1111111111111111,
              "#46039f"
             ],
             [
              0.2222222222222222,
              "#7201a8"
             ],
             [
              0.3333333333333333,
              "#9c179e"
             ],
             [
              0.4444444444444444,
              "#bd3786"
             ],
             [
              0.5555555555555556,
              "#d8576b"
             ],
             [
              0.6666666666666666,
              "#ed7953"
             ],
             [
              0.7777777777777778,
              "#fb9f3a"
             ],
             [
              0.8888888888888888,
              "#fdca26"
             ],
             [
              1,
              "#f0f921"
             ]
            ],
            "type": "heatmapgl"
           }
          ],
          "histogram": [
           {
            "marker": {
             "pattern": {
              "fillmode": "overlay",
              "size": 10,
              "solidity": 0.2
             }
            },
            "type": "histogram"
           }
          ],
          "histogram2d": [
           {
            "colorbar": {
             "outlinewidth": 0,
             "ticks": ""
            },
            "colorscale": [
             [
              0,
              "#0d0887"
             ],
             [
              0.1111111111111111,
              "#46039f"
             ],
             [
              0.2222222222222222,
              "#7201a8"
             ],
             [
              0.3333333333333333,
              "#9c179e"
             ],
             [
              0.4444444444444444,
              "#bd3786"
             ],
             [
              0.5555555555555556,
              "#d8576b"
             ],
             [
              0.6666666666666666,
              "#ed7953"
             ],
             [
              0.7777777777777778,
              "#fb9f3a"
             ],
             [
              0.8888888888888888,
              "#fdca26"
             ],
             [
              1,
              "#f0f921"
             ]
            ],
            "type": "histogram2d"
           }
          ],
          "histogram2dcontour": [
           {
            "colorbar": {
             "outlinewidth": 0,
             "ticks": ""
            },
            "colorscale": [
             [
              0,
              "#0d0887"
             ],
             [
              0.1111111111111111,
              "#46039f"
             ],
             [
              0.2222222222222222,
              "#7201a8"
             ],
             [
              0.3333333333333333,
              "#9c179e"
             ],
             [
              0.4444444444444444,
              "#bd3786"
             ],
             [
              0.5555555555555556,
              "#d8576b"
             ],
             [
              0.6666666666666666,
              "#ed7953"
             ],
             [
              0.7777777777777778,
              "#fb9f3a"
             ],
             [
              0.8888888888888888,
              "#fdca26"
             ],
             [
              1,
              "#f0f921"
             ]
            ],
            "type": "histogram2dcontour"
           }
          ],
          "mesh3d": [
           {
            "colorbar": {
             "outlinewidth": 0,
             "ticks": ""
            },
            "type": "mesh3d"
           }
          ],
          "parcoords": [
           {
            "line": {
             "colorbar": {
              "outlinewidth": 0,
              "ticks": ""
             }
            },
            "type": "parcoords"
           }
          ],
          "pie": [
           {
            "automargin": true,
            "type": "pie"
           }
          ],
          "scatter": [
           {
            "fillpattern": {
             "fillmode": "overlay",
             "size": 10,
             "solidity": 0.2
            },
            "type": "scatter"
           }
          ],
          "scatter3d": [
           {
            "line": {
             "colorbar": {
              "outlinewidth": 0,
              "ticks": ""
             }
            },
            "marker": {
             "colorbar": {
              "outlinewidth": 0,
              "ticks": ""
             }
            },
            "type": "scatter3d"
           }
          ],
          "scattercarpet": [
           {
            "marker": {
             "colorbar": {
              "outlinewidth": 0,
              "ticks": ""
             }
            },
            "type": "scattercarpet"
           }
          ],
          "scattergeo": [
           {
            "marker": {
             "colorbar": {
              "outlinewidth": 0,
              "ticks": ""
             }
            },
            "type": "scattergeo"
           }
          ],
          "scattergl": [
           {
            "marker": {
             "colorbar": {
              "outlinewidth": 0,
              "ticks": ""
             }
            },
            "type": "scattergl"
           }
          ],
          "scattermapbox": [
           {
            "marker": {
             "colorbar": {
              "outlinewidth": 0,
              "ticks": ""
             }
            },
            "type": "scattermapbox"
           }
          ],
          "scatterpolar": [
           {
            "marker": {
             "colorbar": {
              "outlinewidth": 0,
              "ticks": ""
             }
            },
            "type": "scatterpolar"
           }
          ],
          "scatterpolargl": [
           {
            "marker": {
             "colorbar": {
              "outlinewidth": 0,
              "ticks": ""
             }
            },
            "type": "scatterpolargl"
           }
          ],
          "scatterternary": [
           {
            "marker": {
             "colorbar": {
              "outlinewidth": 0,
              "ticks": ""
             }
            },
            "type": "scatterternary"
           }
          ],
          "surface": [
           {
            "colorbar": {
             "outlinewidth": 0,
             "ticks": ""
            },
            "colorscale": [
             [
              0,
              "#0d0887"
             ],
             [
              0.1111111111111111,
              "#46039f"
             ],
             [
              0.2222222222222222,
              "#7201a8"
             ],
             [
              0.3333333333333333,
              "#9c179e"
             ],
             [
              0.4444444444444444,
              "#bd3786"
             ],
             [
              0.5555555555555556,
              "#d8576b"
             ],
             [
              0.6666666666666666,
              "#ed7953"
             ],
             [
              0.7777777777777778,
              "#fb9f3a"
             ],
             [
              0.8888888888888888,
              "#fdca26"
             ],
             [
              1,
              "#f0f921"
             ]
            ],
            "type": "surface"
           }
          ],
          "table": [
           {
            "cells": {
             "fill": {
              "color": "#EBF0F8"
             },
             "line": {
              "color": "white"
             }
            },
            "header": {
             "fill": {
              "color": "#C8D4E3"
             },
             "line": {
              "color": "white"
             }
            },
            "type": "table"
           }
          ]
         },
         "layout": {
          "annotationdefaults": {
           "arrowcolor": "#2a3f5f",
           "arrowhead": 0,
           "arrowwidth": 1
          },
          "autotypenumbers": "strict",
          "coloraxis": {
           "colorbar": {
            "outlinewidth": 0,
            "ticks": ""
           }
          },
          "colorscale": {
           "diverging": [
            [
             0,
             "#8e0152"
            ],
            [
             0.1,
             "#c51b7d"
            ],
            [
             0.2,
             "#de77ae"
            ],
            [
             0.3,
             "#f1b6da"
            ],
            [
             0.4,
             "#fde0ef"
            ],
            [
             0.5,
             "#f7f7f7"
            ],
            [
             0.6,
             "#e6f5d0"
            ],
            [
             0.7,
             "#b8e186"
            ],
            [
             0.8,
             "#7fbc41"
            ],
            [
             0.9,
             "#4d9221"
            ],
            [
             1,
             "#276419"
            ]
           ],
           "sequential": [
            [
             0,
             "#0d0887"
            ],
            [
             0.1111111111111111,
             "#46039f"
            ],
            [
             0.2222222222222222,
             "#7201a8"
            ],
            [
             0.3333333333333333,
             "#9c179e"
            ],
            [
             0.4444444444444444,
             "#bd3786"
            ],
            [
             0.5555555555555556,
             "#d8576b"
            ],
            [
             0.6666666666666666,
             "#ed7953"
            ],
            [
             0.7777777777777778,
             "#fb9f3a"
            ],
            [
             0.8888888888888888,
             "#fdca26"
            ],
            [
             1,
             "#f0f921"
            ]
           ],
           "sequentialminus": [
            [
             0,
             "#0d0887"
            ],
            [
             0.1111111111111111,
             "#46039f"
            ],
            [
             0.2222222222222222,
             "#7201a8"
            ],
            [
             0.3333333333333333,
             "#9c179e"
            ],
            [
             0.4444444444444444,
             "#bd3786"
            ],
            [
             0.5555555555555556,
             "#d8576b"
            ],
            [
             0.6666666666666666,
             "#ed7953"
            ],
            [
             0.7777777777777778,
             "#fb9f3a"
            ],
            [
             0.8888888888888888,
             "#fdca26"
            ],
            [
             1,
             "#f0f921"
            ]
           ]
          },
          "colorway": [
           "#636efa",
           "#EF553B",
           "#00cc96",
           "#ab63fa",
           "#FFA15A",
           "#19d3f3",
           "#FF6692",
           "#B6E880",
           "#FF97FF",
           "#FECB52"
          ],
          "font": {
           "color": "#2a3f5f"
          },
          "geo": {
           "bgcolor": "white",
           "lakecolor": "white",
           "landcolor": "#E5ECF6",
           "showlakes": true,
           "showland": true,
           "subunitcolor": "white"
          },
          "hoverlabel": {
           "align": "left"
          },
          "hovermode": "closest",
          "mapbox": {
           "style": "light"
          },
          "paper_bgcolor": "white",
          "plot_bgcolor": "#E5ECF6",
          "polar": {
           "angularaxis": {
            "gridcolor": "white",
            "linecolor": "white",
            "ticks": ""
           },
           "bgcolor": "#E5ECF6",
           "radialaxis": {
            "gridcolor": "white",
            "linecolor": "white",
            "ticks": ""
           }
          },
          "scene": {
           "xaxis": {
            "backgroundcolor": "#E5ECF6",
            "gridcolor": "white",
            "gridwidth": 2,
            "linecolor": "white",
            "showbackground": true,
            "ticks": "",
            "zerolinecolor": "white"
           },
           "yaxis": {
            "backgroundcolor": "#E5ECF6",
            "gridcolor": "white",
            "gridwidth": 2,
            "linecolor": "white",
            "showbackground": true,
            "ticks": "",
            "zerolinecolor": "white"
           },
           "zaxis": {
            "backgroundcolor": "#E5ECF6",
            "gridcolor": "white",
            "gridwidth": 2,
            "linecolor": "white",
            "showbackground": true,
            "ticks": "",
            "zerolinecolor": "white"
           }
          },
          "shapedefaults": {
           "line": {
            "color": "#2a3f5f"
           }
          },
          "ternary": {
           "aaxis": {
            "gridcolor": "white",
            "linecolor": "white",
            "ticks": ""
           },
           "baxis": {
            "gridcolor": "white",
            "linecolor": "white",
            "ticks": ""
           },
           "bgcolor": "#E5ECF6",
           "caxis": {
            "gridcolor": "white",
            "linecolor": "white",
            "ticks": ""
           }
          },
          "title": {
           "x": 0.05
          },
          "xaxis": {
           "automargin": true,
           "gridcolor": "white",
           "linecolor": "white",
           "ticks": "",
           "title": {
            "standoff": 15
           },
           "zerolinecolor": "white",
           "zerolinewidth": 2
          },
          "yaxis": {
           "automargin": true,
           "gridcolor": "white",
           "linecolor": "white",
           "ticks": "",
           "title": {
            "standoff": 15
           },
           "zerolinecolor": "white",
           "zerolinewidth": 2
          }
         }
        },
        "xaxis": {
         "anchor": "y",
         "autorange": true,
         "domain": [
          0.3531375166889186,
          0.6468624833110814
         ],
         "range": [
          -0.5,
          399.5
         ],
         "showticklabels": false
        },
        "yaxis": {
         "anchor": "x",
         "autorange": true,
         "domain": [
          0,
          1
         ],
         "range": [
          199.5,
          -0.5
         ],
         "showticklabels": false
        }
       }
      },
      "image/png": "[encoded data removed]",
      "text/html": [
       "<div>                            <div id=\"1d8a5b61-1fe7-4b59-bd94-50b4b0205a65\" class=\"plotly-graph-div\" style=\"height:525px; width:100%;\"></div>            <script type=\"text/javascript\">                require([\"plotly\"], function(Plotly) {                    window.PLOTLYENV=window.PLOTLYENV || {};                                    if (document.getElementById(\"1d8a5b61-1fe7-4b59-bd94-50b4b0205a65\")) {                    Plotly.newPlot(                        \"1d8a5b61-1fe7-4b59-bd94-50b4b0205a65\",                        [{\"name\":\"0\",\"source\":\"data:image/png;base64,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\",\"type\":\"image\",\"xaxis\":\"x\",\"yaxis\":\"y\",\"hovertemplate\":\"x: %{x}<br>y: %{y}<br>color: [%{z[0]}, %{z[1]}, %{z[2]}]<extra></extra>\"}],                        {\"template\":{\"data\":{\"histogram2dcontour\":[{\"type\":\"histogram2dcontour\",\"colorbar\":{\"outlinewidth\":0,\"ticks\":\"\"},\"colorscale\":[[0.0,\"#0d0887\"],[0.1111111111111111,\"#46039f\"],[0.2222222222222222,\"#7201a8\"],[0.3333333333333333,\"#9c179e\"],[0.4444444444444444,\"#bd3786\"],[0.5555555555555556,\"#d8576b\"],[0.6666666666666666,\"#ed7953\"],[0.7777777777777778,\"#fb9f3a\"],[0.8888888888888888,\"#fdca26\"],[1.0,\"#f0f921\"]]}],\"choropleth\":[{\"type\":\"choropleth\",\"colorbar\":{\"outlinewidth\":0,\"ticks\":\"\"}}],\"histogram2d\":[{\"type\":\"histogram2d\",\"colorbar\":{\"outlinewidth\":0,\"ticks\":\"\"},\"colorscale\":[[0.0,\"#0d0887\"],[0.1111111111111111,\"#46039f\"],[0.2222222222222222,\"#7201a8\"],[0.3333333333333333,\"#9c179e\"],[0.4444444444444444,\"#bd3786\"],[0.5555555555555556,\"#d8576b\"],[0.6666666666666666,\"#ed7953\"],[0.7777777777777778,\"#fb9f3a\"],[0.8888888888888888,\"#fdca26\"],[1.0,\"#f0f921\"]]}],\"heatmap\":[{\"type\":\"heatmap\",\"colorbar\":{\"outlinewidth\":0,\"ticks\":\"\"},\"colorscale\":[[0.0,\"#0d0887\"],[0.1111111111111111,\"#46039f\"],[0.2222222222222222,\"#7201a8\"],[0.3333333333333333,\"#9c179e\"],[0.4444444444444444,\"#bd3786\"],[0.5555555555555556,\"#d8576b\"],[0.6666666666666666,\"#ed7953\"],[0.7777777777777778,\"#fb9f3a\"],[0.8888888888888888,\"#fdca26\"],[1.0,\"#f0f921\"]]}],\"heatmapgl\":[{\"type\":\"heatmapgl\",\"colorbar\":{\"outlinewidth\":0,\"ticks\":\"\"},\"colorscale\":[[0.0,\"#0d0887\"],[0.1111111111111111,\"#46039f\"],[0.2222222222222222,\"#7201a8\"],[0.3333333333333333,\"#9c179e\"],[0.4444444444444444,\"#bd3786\"],[0.5555555555555556,\"#d8576b\"],[0.6666666666666666,\"#ed7953\"],[0.7777777777777778,\"#fb9f3a\"],[0.8888888888888888,\"#fdca26\"],[1.0,\"#f0f921\"]]}],\"contourcarpet\":[{\"type\":\"contourcarpet\",\"colorbar\":{\"outlinewidth\":0,\"ticks\":\"\"}}],\"contour\":[{\"type\":\"contour\",\"colorbar\":{\"outlinewidth\":0,\"ticks\":\"\"},\"colorscale\":[[0.0,\"#0d0887\"],[0.1111111111111111,\"#46039f\"],[0.2222222222222222,\"#7201a8\"],[0.3333333333333333,\"#9c179e\"],[0.4444444444444444,\"#bd3786\"],[0.5555555555555556,\"#d8576b\"],[0.6666666666666666,\"#ed7953\"],[0.7777777777777778,\"#fb9f3a\"],[0.8888888888888888,\"#fdca26\"],[1.0,\"#f0f921\"]]}],\"surface\":[{\"type\":\"surface\",\"colorbar\":{\"outlinewidth\":0,\"ticks\":\"\"},\"colorscale\":[[0.0,\"#0d0887\"],[0.1111111111111111,\"#46039f\"],[0.2222222222222222,\"#7201a8\"],[0.3333333333333333,\"#9c179e\"],[0.4444444444444444,\"#bd3786\"],[0.5555555555555556,\"#d8576b\"],[0.6666666666666666,\"#ed7953\"],[0.7777777777777778,\"#fb9f3a\"],[0.8888888888888888,\"#fdca26\"],[1.0,\"#f0f921\"]]}],\"mesh3d\":[{\"type\":\"mesh3d\",\"colorbar\":{\"outlinewidth\":0,\"ticks\":\"\"}}],\"scatter\":[{\"fillpattern\":{\"fillmode\":\"overlay\",\"size\":10,\"solidity\":0.2},\"type\":\"scatter\"}],\"parcoords\":[{\"type\":\"parcoords\",\"line\":{\"colorbar\":{\"outlinewidth\":0,\"ticks\":\"\"}}}],\"scatterpolargl\":[{\"type\":\"scatterpolargl\",\"marker\":{\"colorbar\":{\"outlinewidth\":0,\"ticks\":\"\"}}}],\"bar\":[{\"error_x\":{\"color\":\"#2a3f5f\"},\"error_y\":{\"color\":\"#2a3f5f\"},\"marker\":{\"line\":{\"color\":\"#E5ECF6\",\"width\":0.5},\"pattern\":{\"fillmode\":\"overlay\",\"size\":10,\"solidity\":0.2}},\"type\":\"bar\"}],\"scattergeo\":[{\"type\":\"scattergeo\",\"marker\":{\"colorbar\":{\"outlinewidth\":0,\"ticks\":\"\"}}}],\"scatterpolar\":[{\"type\":\"scatterpolar\",\"marker\":{\"colorbar\":{\"outlinewidth\":0,\"ticks\":\"\"}}}],\"histogram\":[{\"marker\":{\"pattern\":{\"fillmode\":\"overlay\",\"size\":10,\"solidity\":0.2}},\"type\":\"histogram\"}],\"scattergl\":[{\"type\":\"scattergl\",\"marker\":{\"colorbar\":{\"outlinewidth\":0,\"ticks\":\"\"}}}],\"scatter3d\":[{\"type\":\"scatter3d\",\"line\":{\"colorbar\":{\"outlinewidth\":0,\"ticks\":\"\"}},\"marker\":{\"colorbar\":{\"outlinewidth\":0,\"ticks\":\"\"}}}],\"scattermapbox\":[{\"type\":\"scattermapbox\",\"marker\":{\"colorbar\":{\"outlinewidth\":0,\"ticks\":\"\"}}}],\"scatterternary\":[{\"type\":\"scatterternary\",\"marker\":{\"colorbar\":{\"outlinewidth\":0,\"ticks\":\"\"}}}],\"scattercarpet\":[{\"type\":\"scattercarpet\",\"marker\":{\"colorbar\":{\"outlinewidth\":0,\"ticks\":\"\"}}}],\"carpet\":[{\"aaxis\":{\"endlinecolor\":\"#2a3f5f\",\"gridcolor\":\"white\",\"linecolor\":\"white\",\"minorgridcolor\":\"white\",\"startlinecolor\":\"#2a3f5f\"},\"baxis\":{\"endlinecolor\":\"#2a3f5f\",\"gridcolor\":\"white\",\"linecolor\":\"white\",\"minorgridcolor\":\"white\",\"startlinecolor\":\"#2a3f5f\"},\"type\":\"carpet\"}],\"table\":[{\"cells\":{\"fill\":{\"color\":\"#EBF0F8\"},\"line\":{\"color\":\"white\"}},\"header\":{\"fill\":{\"color\":\"#C8D4E3\"},\"line\":{\"color\":\"white\"}},\"type\":\"table\"}],\"barpolar\":[{\"marker\":{\"line\":{\"color\":\"#E5ECF6\",\"width\":0.5},\"pattern\":{\"fillmode\":\"overlay\",\"size\":10,\"solidity\":0.2}},\"type\":\"barpolar\"}],\"pie\":[{\"automargin\":true,\"type\":\"pie\"}]},\"layout\":{\"autotypenumbers\":\"strict\",\"colorway\":[\"#636efa\",\"#EF553B\",\"#00cc96\",\"#ab63fa\",\"#FFA15A\",\"#19d3f3\",\"#FF6692\",\"#B6E880\",\"#FF97FF\",\"#FECB52\"],\"font\":{\"color\":\"#2a3f5f\"},\"hovermode\":\"closest\",\"hoverlabel\":{\"align\":\"left\"},\"paper_bgcolor\":\"white\",\"plot_bgcolor\":\"#E5ECF6\",\"polar\":{\"bgcolor\":\"#E5ECF6\",\"angularaxis\":{\"gridcolor\":\"white\",\"linecolor\":\"white\",\"ticks\":\"\"},\"radialaxis\":{\"gridcolor\":\"white\",\"linecolor\":\"white\",\"ticks\":\"\"}},\"ternary\":{\"bgcolor\":\"#E5ECF6\",\"aaxis\":{\"gridcolor\":\"white\",\"linecolor\":\"white\",\"ticks\":\"\"},\"baxis\":{\"gridcolor\":\"white\",\"linecolor\":\"white\",\"ticks\":\"\"},\"caxis\":{\"gridcolor\":\"white\",\"linecolor\":\"white\",\"ticks\":\"\"}},\"coloraxis\":{\"colorbar\":{\"outlinewidth\":0,\"ticks\":\"\"}},\"colorscale\":{\"sequential\":[[0.0,\"#0d0887\"],[0.1111111111111111,\"#46039f\"],[0.2222222222222222,\"#7201a8\"],[0.3333333333333333,\"#9c179e\"],[0.4444444444444444,\"#bd3786\"],[0.5555555555555556,\"#d8576b\"],[0.6666666666666666,\"#ed7953\"],[0.7777777777777778,\"#fb9f3a\"],[0.8888888888888888,\"#fdca26\"],[1.0,\"#f0f921\"]],\"sequentialminus\":[[0.0,\"#0d0887\"],[0.1111111111111111,\"#46039f\"],[0.2222222222222222,\"#7201a8\"],[0.3333333333333333,\"#9c179e\"],[0.4444444444444444,\"#bd3786\"],[0.5555555555555556,\"#d8576b\"],[0.6666666666666666,\"#ed7953\"],[0.7777777777777778,\"#fb9f3a\"],[0.8888888888888888,\"#fdca26\"],[1.0,\"#f0f921\"]],\"diverging\":[[0,\"#8e0152\"],[0.1,\"#c51b7d\"],[0.2,\"#de77ae\"],[0.3,\"#f1b6da\"],[0.4,\"#fde0ef\"],[0.5,\"#f7f7f7\"],[0.6,\"#e6f5d0\"],[0.7,\"#b8e186\"],[0.8,\"#7fbc41\"],[0.9,\"#4d9221\"],[1,\"#276419\"]]},\"xaxis\":{\"gridcolor\":\"white\",\"linecolor\":\"white\",\"ticks\":\"\",\"title\":{\"standoff\":15},\"zerolinecolor\":\"white\",\"automargin\":true,\"zerolinewidth\":2},\"yaxis\":{\"gridcolor\":\"white\",\"linecolor\":\"white\",\"ticks\":\"\",\"title\":{\"standoff\":15},\"zerolinecolor\":\"white\",\"automargin\":true,\"zerolinewidth\":2},\"scene\":{\"xaxis\":{\"backgroundcolor\":\"#E5ECF6\",\"gridcolor\":\"white\",\"linecolor\":\"white\",\"showbackground\":true,\"ticks\":\"\",\"zerolinecolor\":\"white\",\"gridwidth\":2},\"yaxis\":{\"backgroundcolor\":\"#E5ECF6\",\"gridcolor\":\"white\",\"linecolor\":\"white\",\"showbackground\":true,\"ticks\":\"\",\"zerolinecolor\":\"white\",\"gridwidth\":2},\"zaxis\":{\"backgroundcolor\":\"#E5ECF6\",\"gridcolor\":\"white\",\"linecolor\":\"white\",\"showbackground\":true,\"ticks\":\"\",\"zerolinecolor\":\"white\",\"gridwidth\":2}},\"shapedefaults\":{\"line\":{\"color\":\"#2a3f5f\"}},\"annotationdefaults\":{\"arrowcolor\":\"#2a3f5f\",\"arrowhead\":0,\"arrowwidth\":1},\"geo\":{\"bgcolor\":\"white\",\"landcolor\":\"#E5ECF6\",\"subunitcolor\":\"white\",\"showland\":true,\"showlakes\":true,\"lakecolor\":\"white\"},\"title\":{\"x\":0.05},\"mapbox\":{\"style\":\"light\"}}},\"xaxis\":{\"anchor\":\"y\",\"domain\":[0.0,1.0],\"showticklabels\":false},\"yaxis\":{\"anchor\":\"x\",\"domain\":[0.0,1.0],\"showticklabels\":false},\"margin\":{\"t\":60}},                        {\"responsive\": true}                    ).then(function(){\n",
       "                            \n",
       "var gd = document.getElementById('1d8a5b61-1fe7-4b59-bd94-50b4b0205a65');\n",
       "var x = new MutationObserver(function (mutations, observer) {{\n",
       "        var display = window.getComputedStyle(gd).display;\n",
       "        if (!display || display === 'none') {{\n",
       "            console.log([gd, 'removed!']);\n",
       "            Plotly.purge(gd);\n",
       "            observer.disconnect();\n",
       "        }}\n",
       "}});\n",
       "\n",
       "// Listen for the removal of the full notebook cells\n",
       "var notebookContainer = gd.closest('#notebook-container');\n",
       "if (notebookContainer) {{\n",
       "    x.observe(notebookContainer, {childList: true});\n",
       "}}\n",
       "\n",
       "// Listen for the clearing of the current output cell\n",
       "var outputEl = gd.closest('.output');\n",
       "if (outputEl) {{\n",
       "    x.observe(outputEl, {childList: true});\n",
       "}}\n",
       "\n",
       "                        })                };                });            </script>        </div>"
      ]
     },
     "metadata": {},
     "output_type": "display_data"
    }
   ],
   "source": [
    "wordcloud_dolly = WordCloud(background_color = \"black\", stopwords = stopwords, max_words=20, \n",
    "                      colormap = 'viridis', collocations=False).generate(speaker_text['Dolly'])\n",
    "wordcloud_plot_dolly = px.imshow(wordcloud_dolly)\n",
    "wordcloud_plot_dolly.update_xaxes(showticklabels=False)\n",
    "wordcloud_plot_dolly.update_yaxes(showticklabels=False)\n",
    "wordcloud_plot_dolly\n"
   ]
  },
  {
   "cell_type": "code",
   "execution_count": null,
   "id": "59da1555-5710-41a0-82f8-a63bf39b72c9",
   "metadata": {},
   "outputs": [],
   "source": []
  },
  {
   "cell_type": "code",
   "execution_count": 411,
   "id": "4455daa0-9e98-4738-bc75-12a2690b2e01",
   "metadata": {},
   "outputs": [],
   "source": [
    "# Create interactive slider\n",
    "class Controller(param.Parameterized):\n",
    "    word_slider = param.Integer(30, bounds=(5, 50), step=5)\n",
    "\n",
    "controller = Controller()\n",
    "\n",
    "@pn.depends(controller.param.word_slider, watch=False)\n",
    "def update_wordcloud(num_words):\n",
    "    # Word cloud plot\n",
    "    wordcloud = WordCloud(background_color='black', stopwords = stopwords, max_words = num_words,\n",
    "                          colormap='viridis', collocations=False).generate(num_words)\n",
    "\n",
    "    wordcloud_plot = px.imshow(wordcloud) \n",
    "    # Remove labels on axes\n",
    "    wordcloud_plot.update_xaxes(showticklabels=False)\n",
    "    wordcloud_plot.update_yaxes(showticklabels=False)\n",
    "    return wordcloud_plot\n",
    "\n"
   ]
  },
  {
   "cell_type": "markdown",
   "id": "91d02dde-2a3d-47af-a66f-d3aed9a9b16a",
   "metadata": {},
   "source": [
    "<h4> We skipped AutoChapters as this audio is very short </h4>\n",
    "However, as a good practice we can "
   ]
  },
  {
   "cell_type": "markdown",
   "id": "9f67038d-eacc-4e73-94d7-e0aee9ce3e95",
   "metadata": {},
   "source": [
    "## Auto Word Highlights by Time and Rank"
   ]
  },
  {
   "cell_type": "code",
   "execution_count": 472,
   "id": "fa4b397b-dd40-49f6-a896-188ed0377076",
   "metadata": {},
   "outputs": [],
   "source": [
    "_ = pd.DataFrame(data['words'])\n",
    "_['start'] = _['start'].apply(lambda x: x/100)\n",
    "def f(i):\n",
    "    if i == 'A':\n",
    "        return \"Barbara\"\n",
    "    else: return \"Dolly\"\n",
    "_['speaker'] = _['speaker'].apply(f)\n",
    "_.drop(['end', 'confidence'], axis=1, inplace=True)\n",
    "_.rename(columns={'start':'timestamp'}, inplace=True)"
   ]
  },
  {
   "cell_type": "code",
   "execution_count": 473,
   "id": "e5d4e584-5636-4da8-92b2-78801eb953eb",
   "metadata": {},
   "outputs": [
    {
     "data": {
      "text/html": [
       "<div>\n",
       "<style scoped>\n",
       "    .dataframe tbody tr th:only-of-type {\n",
       "        vertical-align: middle;\n",
       "    }\n",
       "\n",
       "    .dataframe tbody tr th {\n",
       "        vertical-align: top;\n",
       "    }\n",
       "\n",
       "    .dataframe thead th {\n",
       "        text-align: right;\n",
       "    }\n",
       "</style>\n",
       "<table border=\"1\" class=\"dataframe\">\n",
       "  <thead>\n",
       "    <tr style=\"text-align: right;\">\n",
       "      <th></th>\n",
       "      <th>text</th>\n",
       "      <th>timestamp</th>\n",
       "      <th>speaker</th>\n",
       "    </tr>\n",
       "  </thead>\n",
       "  <tbody>\n",
       "    <tr>\n",
       "      <th>0</th>\n",
       "      <td>Dolly</td>\n",
       "      <td>4.62</td>\n",
       "      <td>Barbara</td>\n",
       "    </tr>\n",
       "    <tr>\n",
       "      <th>1</th>\n",
       "      <td>where</td>\n",
       "      <td>15.37</td>\n",
       "      <td>Barbara</td>\n",
       "    </tr>\n",
       "    <tr>\n",
       "      <th>2</th>\n",
       "      <td>I</td>\n",
       "      <td>19.30</td>\n",
       "      <td>Barbara</td>\n",
       "    </tr>\n",
       "    <tr>\n",
       "      <th>3</th>\n",
       "      <td>come</td>\n",
       "      <td>22.15</td>\n",
       "      <td>Barbara</td>\n",
       "    </tr>\n",
       "    <tr>\n",
       "      <th>4</th>\n",
       "      <td>from.</td>\n",
       "      <td>24.55</td>\n",
       "      <td>Barbara</td>\n",
       "    </tr>\n",
       "  </tbody>\n",
       "</table>\n",
       "</div>"
      ],
      "text/plain": [
       "    text  timestamp  speaker\n",
       "0  Dolly       4.62  Barbara\n",
       "1  where      15.37  Barbara\n",
       "2      I      19.30  Barbara\n",
       "3   come      22.15  Barbara\n",
       "4  from.      24.55  Barbara"
      ]
     },
     "execution_count": 473,
     "metadata": {},
     "output_type": "execute_result"
    }
   ],
   "source": [
    "_.head()"
   ]
  },
  {
   "cell_type": "code",
   "execution_count": 478,
   "id": "41afe006-b459-490a-bb37-c3c1936200da",
   "metadata": {},
   "outputs": [
    {
     "data": {
      "text/html": [
       "<div>\n",
       "<style scoped>\n",
       "    .dataframe tbody tr th:only-of-type {\n",
       "        vertical-align: middle;\n",
       "    }\n",
       "\n",
       "    .dataframe tbody tr th {\n",
       "        vertical-align: top;\n",
       "    }\n",
       "\n",
       "    .dataframe thead th {\n",
       "        text-align: right;\n",
       "    }\n",
       "</style>\n",
       "<table border=\"1\" class=\"dataframe\">\n",
       "  <thead>\n",
       "    <tr style=\"text-align: right;\">\n",
       "      <th></th>\n",
       "      <th>count</th>\n",
       "      <th>rank</th>\n",
       "      <th>text</th>\n",
       "      <th>timestamp</th>\n",
       "      <th>speaker</th>\n",
       "    </tr>\n",
       "  </thead>\n",
       "  <tbody>\n",
       "    <tr>\n",
       "      <th>0</th>\n",
       "      <td>1</td>\n",
       "      <td>0.08</td>\n",
       "      <td>better things</td>\n",
       "      <td>2351.20</td>\n",
       "      <td>Dolly</td>\n",
       "    </tr>\n",
       "    <tr>\n",
       "      <th>1</th>\n",
       "      <td>1</td>\n",
       "      <td>0.07</td>\n",
       "      <td>Good common sense horse</td>\n",
       "      <td>404.67</td>\n",
       "      <td>Dolly</td>\n",
       "    </tr>\n",
       "    <tr>\n",
       "      <th>2</th>\n",
       "      <td>1</td>\n",
       "      <td>0.06</td>\n",
       "      <td>more jokes</td>\n",
       "      <td>1626.55</td>\n",
       "      <td>Dolly</td>\n",
       "    </tr>\n",
       "    <tr>\n",
       "      <th>3</th>\n",
       "      <td>4</td>\n",
       "      <td>0.06</td>\n",
       "      <td>freedom</td>\n",
       "      <td>2086.15</td>\n",
       "      <td>Dolly</td>\n",
       "    </tr>\n",
       "    <tr>\n",
       "      <th>4</th>\n",
       "      <td>4</td>\n",
       "      <td>0.06</td>\n",
       "      <td>freedom</td>\n",
       "      <td>2102.80</td>\n",
       "      <td>Dolly</td>\n",
       "    </tr>\n",
       "    <tr>\n",
       "      <th>5</th>\n",
       "      <td>4</td>\n",
       "      <td>0.06</td>\n",
       "      <td>freedom</td>\n",
       "      <td>2153.95</td>\n",
       "      <td>Barbara</td>\n",
       "    </tr>\n",
       "    <tr>\n",
       "      <th>6</th>\n",
       "      <td>4</td>\n",
       "      <td>0.06</td>\n",
       "      <td>freedom</td>\n",
       "      <td>2198.65</td>\n",
       "      <td>Dolly</td>\n",
       "    </tr>\n",
       "    <tr>\n",
       "      <th>7</th>\n",
       "      <td>1</td>\n",
       "      <td>0.05</td>\n",
       "      <td>very proud people</td>\n",
       "      <td>281.05</td>\n",
       "      <td>Dolly</td>\n",
       "    </tr>\n",
       "    <tr>\n",
       "      <th>8</th>\n",
       "      <td>1</td>\n",
       "      <td>0.05</td>\n",
       "      <td>country class</td>\n",
       "      <td>314.05</td>\n",
       "      <td>Dolly</td>\n",
       "    </tr>\n",
       "    <tr>\n",
       "      <th>9</th>\n",
       "      <td>1</td>\n",
       "      <td>0.05</td>\n",
       "      <td>Paul Dean</td>\n",
       "      <td>1968.10</td>\n",
       "      <td>Barbara</td>\n",
       "    </tr>\n",
       "    <tr>\n",
       "      <th>10</th>\n",
       "      <td>4</td>\n",
       "      <td>0.05</td>\n",
       "      <td>person</td>\n",
       "      <td>965.35</td>\n",
       "      <td>Dolly</td>\n",
       "    </tr>\n",
       "    <tr>\n",
       "      <th>11</th>\n",
       "      <td>4</td>\n",
       "      <td>0.05</td>\n",
       "      <td>person</td>\n",
       "      <td>1691.35</td>\n",
       "      <td>Dolly</td>\n",
       "    </tr>\n",
       "    <tr>\n",
       "      <th>12</th>\n",
       "      <td>4</td>\n",
       "      <td>0.05</td>\n",
       "      <td>person</td>\n",
       "      <td>1784.95</td>\n",
       "      <td>Dolly</td>\n",
       "    </tr>\n",
       "    <tr>\n",
       "      <th>13</th>\n",
       "      <td>4</td>\n",
       "      <td>0.05</td>\n",
       "      <td>person</td>\n",
       "      <td>2219.95</td>\n",
       "      <td>Dolly</td>\n",
       "    </tr>\n",
       "    <tr>\n",
       "      <th>14</th>\n",
       "      <td>2</td>\n",
       "      <td>0.05</td>\n",
       "      <td>clothes</td>\n",
       "      <td>1048.17</td>\n",
       "      <td>Barbara</td>\n",
       "    </tr>\n",
       "    <tr>\n",
       "      <th>15</th>\n",
       "      <td>2</td>\n",
       "      <td>0.05</td>\n",
       "      <td>clothes</td>\n",
       "      <td>1838.20</td>\n",
       "      <td>Dolly</td>\n",
       "    </tr>\n",
       "    <tr>\n",
       "      <th>16</th>\n",
       "      <td>1</td>\n",
       "      <td>0.05</td>\n",
       "      <td>Other members</td>\n",
       "      <td>683.62</td>\n",
       "      <td>Dolly</td>\n",
       "    </tr>\n",
       "    <tr>\n",
       "      <th>17</th>\n",
       "      <td>1</td>\n",
       "      <td>0.05</td>\n",
       "      <td>whole thing</td>\n",
       "      <td>892.45</td>\n",
       "      <td>Dolly</td>\n",
       "    </tr>\n",
       "    <tr>\n",
       "      <th>18</th>\n",
       "      <td>2</td>\n",
       "      <td>0.05</td>\n",
       "      <td>life</td>\n",
       "      <td>1337.05</td>\n",
       "      <td>Dolly</td>\n",
       "    </tr>\n",
       "    <tr>\n",
       "      <th>19</th>\n",
       "      <td>2</td>\n",
       "      <td>0.05</td>\n",
       "      <td>life</td>\n",
       "      <td>1755.55</td>\n",
       "      <td>Dolly</td>\n",
       "    </tr>\n",
       "    <tr>\n",
       "      <th>20</th>\n",
       "      <td>1</td>\n",
       "      <td>0.05</td>\n",
       "      <td>easiest thing</td>\n",
       "      <td>1148.20</td>\n",
       "      <td>Dolly</td>\n",
       "    </tr>\n",
       "    <tr>\n",
       "      <th>21</th>\n",
       "      <td>1</td>\n",
       "      <td>0.05</td>\n",
       "      <td>show business</td>\n",
       "      <td>1411.60</td>\n",
       "      <td>Dolly</td>\n",
       "    </tr>\n",
       "    <tr>\n",
       "      <th>22</th>\n",
       "      <td>2</td>\n",
       "      <td>0.04</td>\n",
       "      <td>fun</td>\n",
       "      <td>1501.30</td>\n",
       "      <td>Barbara</td>\n",
       "    </tr>\n",
       "    <tr>\n",
       "      <th>23</th>\n",
       "      <td>2</td>\n",
       "      <td>0.04</td>\n",
       "      <td>fun</td>\n",
       "      <td>1516.30</td>\n",
       "      <td>Dolly</td>\n",
       "    </tr>\n",
       "  </tbody>\n",
       "</table>\n",
       "</div>"
      ],
      "text/plain": [
       "    count  rank                     text  timestamp  speaker\n",
       "0       1  0.08            better things    2351.20    Dolly\n",
       "1       1  0.07  Good common sense horse     404.67    Dolly\n",
       "2       1  0.06               more jokes    1626.55    Dolly\n",
       "3       4  0.06                  freedom    2086.15    Dolly\n",
       "4       4  0.06                  freedom    2102.80    Dolly\n",
       "5       4  0.06                  freedom    2153.95  Barbara\n",
       "6       4  0.06                  freedom    2198.65    Dolly\n",
       "7       1  0.05        very proud people     281.05    Dolly\n",
       "8       1  0.05            country class     314.05    Dolly\n",
       "9       1  0.05                Paul Dean    1968.10  Barbara\n",
       "10      4  0.05                   person     965.35    Dolly\n",
       "11      4  0.05                   person    1691.35    Dolly\n",
       "12      4  0.05                   person    1784.95    Dolly\n",
       "13      4  0.05                   person    2219.95    Dolly\n",
       "14      2  0.05                  clothes    1048.17  Barbara\n",
       "15      2  0.05                  clothes    1838.20    Dolly\n",
       "16      1  0.05            Other members     683.62    Dolly\n",
       "17      1  0.05              whole thing     892.45    Dolly\n",
       "18      2  0.05                     life    1337.05    Dolly\n",
       "19      2  0.05                     life    1755.55    Dolly\n",
       "20      1  0.05            easiest thing    1148.20    Dolly\n",
       "21      1  0.05            show business    1411.60    Dolly\n",
       "22      2  0.04                      fun    1501.30  Barbara\n",
       "23      2  0.04                      fun    1516.30    Dolly"
      ]
     },
     "execution_count": 478,
     "metadata": {},
     "output_type": "execute_result"
    }
   ],
   "source": [
    "highlights = pd.DataFrame(data['auto_highlights_result']['results'])\n",
    "highlights = highlights.explode('timestamps')\n",
    "highlights['timestamp'] = highlights['timestamps'].map(lambda x: x['start']/100)\n",
    "highlights = pd.merge(highlights, _, how='left', on='timestamp', suffixes=('','_y')).drop(['timestamps', 'text_y'], axis=1)\n",
    "highlights\n"
   ]
  },
  {
   "cell_type": "code",
   "execution_count": 177,
   "id": "cd155d38-1ff9-4721-b748-1c8d23fb841f",
   "metadata": {},
   "outputs": [],
   "source": [
    "def gen_count_size(df):\n",
    "    return df['count'].map(lambda x: x*100)"
   ]
  },
  {
   "cell_type": "code",
   "execution_count": 550,
   "id": "a15456da-00d9-4f3e-b71f-317b913bdd3e",
   "metadata": {},
   "outputs": [
    {
     "data": {},
     "metadata": {},
     "output_type": "display_data"
    },
    {
     "data": {},
     "metadata": {},
     "output_type": "display_data"
    },
    {
     "data": {
      "application/vnd.holoviews_exec.v0+json": "",
      "text/html": [
       "<div id='14042'>\n",
       "  <div class=\"bk-root\" id=\"9c91aeaa-bd63-4cb5-96ff-dd0a6ea346da\" data-root-id=\"14042\"></div>\n",
       "</div>\n",
       "<script type=\"application/javascript\">(function(root) {\n",
       "  function embed_document(root) {\n",
       "    var docs_json = {\"a11ec842-e40d-4cf1-bc0b-84423586894d\":{\"defs\":[{\"extends\":null,\"module\":null,\"name\":\"ReactiveHTML1\",\"overrides\":[],\"properties\":[]},{\"extends\":null,\"module\":null,\"name\":\"FlexBox1\",\"overrides\":[],\"properties\":[{\"default\":\"flex-start\",\"kind\":null,\"name\":\"align_content\"},{\"default\":\"flex-start\",\"kind\":null,\"name\":\"align_items\"},{\"default\":\"row\",\"kind\":null,\"name\":\"flex_direction\"},{\"default\":\"wrap\",\"kind\":null,\"name\":\"flex_wrap\"},{\"default\":\"flex-start\",\"kind\":null,\"name\":\"justify_content\"}]},{\"extends\":null,\"module\":null,\"name\":\"GridStack1\",\"overrides\":[],\"properties\":[{\"default\":\"warn\",\"kind\":null,\"name\":\"mode\"},{\"default\":null,\"kind\":null,\"name\":\"ncols\"},{\"default\":null,\"kind\":null,\"name\":\"nrows\"},{\"default\":true,\"kind\":null,\"name\":\"allow_resize\"},{\"default\":true,\"kind\":null,\"name\":\"allow_drag\"},{\"default\":[],\"kind\":null,\"name\":\"state\"}]},{\"extends\":null,\"module\":null,\"name\":\"click1\",\"overrides\":[],\"properties\":[{\"default\":\"\",\"kind\":null,\"name\":\"terminal_output\"},{\"default\":\"\",\"kind\":null,\"name\":\"debug_name\"},{\"default\":0,\"kind\":null,\"name\":\"clears\"}]},{\"extends\":null,\"module\":null,\"name\":\"NotificationAreaBase1\",\"overrides\":[],\"properties\":[{\"default\":\"bottom-right\",\"kind\":null,\"name\":\"position\"},{\"default\":0,\"kind\":null,\"name\":\"_clear\"}]},{\"extends\":null,\"module\":null,\"name\":\"NotificationArea1\",\"overrides\":[],\"properties\":[{\"default\":[],\"kind\":null,\"name\":\"notifications\"},{\"default\":\"bottom-right\",\"kind\":null,\"name\":\"position\"},{\"default\":0,\"kind\":null,\"name\":\"_clear\"},{\"default\":[{\"background\":\"#ffc107\",\"icon\":{\"className\":\"fas fa-exclamation-triangle\",\"color\":\"white\",\"tagName\":\"i\"},\"type\":\"warning\"},{\"background\":\"#007bff\",\"icon\":{\"className\":\"fas fa-info-circle\",\"color\":\"white\",\"tagName\":\"i\"},\"type\":\"info\"}],\"kind\":null,\"name\":\"types\"}]},{\"extends\":null,\"module\":null,\"name\":\"Notification\",\"overrides\":[],\"properties\":[{\"default\":null,\"kind\":null,\"name\":\"background\"},{\"default\":3000,\"kind\":null,\"name\":\"duration\"},{\"default\":null,\"kind\":null,\"name\":\"icon\"},{\"default\":\"\",\"kind\":null,\"name\":\"message\"},{\"default\":null,\"kind\":null,\"name\":\"notification_type\"},{\"default\":false,\"kind\":null,\"name\":\"_destroyed\"}]},{\"extends\":null,\"module\":null,\"name\":\"TemplateActions1\",\"overrides\":[],\"properties\":[{\"default\":0,\"kind\":null,\"name\":\"open_modal\"},{\"default\":0,\"kind\":null,\"name\":\"close_modal\"}]},{\"extends\":null,\"module\":null,\"name\":\"MaterialTemplateActions1\",\"overrides\":[],\"properties\":[{\"default\":0,\"kind\":null,\"name\":\"open_modal\"},{\"default\":0,\"kind\":null,\"name\":\"close_modal\"}]}],\"roots\":{\"references\":[{\"attributes\":{\"bottom_units\":\"screen\",\"coordinates\":null,\"fill_alpha\":0.5,\"fill_color\":\"lightgrey\",\"group\":null,\"left_units\":\"screen\",\"level\":\"overlay\",\"line_alpha\":1.0,\"line_color\":\"black\",\"line_dash\":[4,4],\"line_width\":2,\"right_units\":\"screen\",\"syncable\":false,\"top_units\":\"screen\"},\"id\":\"14068\",\"type\":\"BoxAnnotation\"},{\"attributes\":{},\"id\":\"14090\",\"type\":\"AllLabels\"},{\"attributes\":{\"coordinates\":null,\"group\":null,\"items\":[{\"id\":\"14098\"}],\"location\":[0,0]},\"id\":\"14097\",\"type\":\"Legend\"},{\"attributes\":{},\"id\":\"14078\",\"type\":\"Selection\"},{\"attributes\":{},\"id\":\"14092\",\"type\":\"BasicTickFormatter\"},{\"attributes\":{\"fill_alpha\":{\"value\":0.1},\"fill_color\":{\"field\":\"color\",\"transform\":{\"id\":\"14076\"}},\"hatch_alpha\":{\"value\":0.1},\"hatch_color\":{\"field\":\"color\",\"transform\":{\"id\":\"14076\"}},\"line_alpha\":{\"value\":0.1},\"line_color\":{\"field\":\"color\",\"transform\":{\"id\":\"14076\"}},\"size\":{\"field\":\"size\"},\"x\":{\"field\":\"timestamp\"},\"y\":{\"field\":\"rank\"}},\"id\":\"14081\",\"type\":\"Scatter\"},{\"attributes\":{\"factors\":[\"better things\",\"Good common sense horse\",\"more jokes\",\"freedom\",\"very proud people\",\"country class\",\"Paul Dean\",\"person\",\"clothes\",\"Other members\",\"whole thing\",\"life\",\"easiest thing\",\"show business\",\"fun\"],\"palette\":[\"#1f77b3\",\"#ff7e0e\",\"#2ba02b\",\"#d62628\",\"#9367bc\",\"#8c564b\",\"#e277c1\",\"#7e7e7e\",\"#bcbc21\",\"#16bdcf\",\"#3a0182\",\"#004201\",\"#0fffa8\",\"#5d003f\",\"#bcbcff\"]},\"id\":\"14076\",\"type\":\"CategoricalColorMapper\"},{\"attributes\":{\"end\":0.096,\"reset_end\":0.096,\"reset_start\":0.024,\"start\":0.024,\"tags\":[[[\"rank\",\"rank\",null]]]},\"id\":\"14044\",\"type\":\"Range1d\"},{\"attributes\":{},\"id\":\"14089\",\"type\":\"BasicTickFormatter\"},{\"attributes\":{\"axis_label\":\"timestamp\",\"coordinates\":null,\"formatter\":{\"id\":\"14092\"},\"group\":null,\"major_label_policy\":{\"id\":\"14093\"},\"ticker\":{\"id\":\"14056\"}},\"id\":\"14055\",\"type\":\"LinearAxis\"},{\"attributes\":{\"label\":{\"field\":\"color\"},\"renderers\":[{\"id\":\"14085\"}]},\"id\":\"14098\",\"type\":\"LegendItem\"},{\"attributes\":{},\"id\":\"14053\",\"type\":\"LinearScale\"},{\"attributes\":{\"callback\":null,\"renderers\":[{\"id\":\"14085\"}],\"tags\":[\"hv_created\"],\"tooltips\":[[\"timestamp\",\"@{timestamp}\"],[\"rank\",\"@{rank}\"],[\"text\",\"@{text}\"],[\"_size\",\"@{A__size}\"],[\"speaker\",\"@{speaker}\"]]},\"id\":\"14045\",\"type\":\"HoverTool\"},{\"attributes\":{\"fill_color\":{\"field\":\"color\",\"transform\":{\"id\":\"14076\"}},\"hatch_color\":{\"field\":\"color\",\"transform\":{\"id\":\"14076\"}},\"line_color\":{\"field\":\"color\",\"transform\":{\"id\":\"14076\"}},\"size\":{\"field\":\"size\"},\"x\":{\"field\":\"timestamp\"},\"y\":{\"field\":\"rank\"}},\"id\":\"14080\",\"type\":\"Scatter\"},{\"attributes\":{\"end\":2733.381538461538,\"reset_end\":2733.381538461538,\"reset_start\":-101.13153846153841,\"start\":-101.13153846153841,\"tags\":[[[\"timestamp\",\"timestamp\",null]]]},\"id\":\"14043\",\"type\":\"Range1d\"},{\"attributes\":{\"children\":[{\"id\":\"14046\"}],\"margin\":[0,0,0,0],\"name\":\"Row12212\"},\"id\":\"14042\",\"type\":\"Row\"},{\"attributes\":{},\"id\":\"14063\",\"type\":\"SaveTool\"},{\"attributes\":{\"overlay\":{\"id\":\"14068\"}},\"id\":\"14066\",\"type\":\"BoxZoomTool\"},{\"attributes\":{\"axis_label\":\"rank\",\"coordinates\":null,\"formatter\":{\"id\":\"14089\"},\"group\":null,\"major_label_policy\":{\"id\":\"14090\"},\"ticker\":{\"id\":\"14060\"}},\"id\":\"14059\",\"type\":\"LinearAxis\"},{\"attributes\":{},\"id\":\"14056\",\"type\":\"BasicTicker\"},{\"attributes\":{},\"id\":\"14060\",\"type\":\"BasicTicker\"},{\"attributes\":{\"axis\":{\"id\":\"14059\"},\"coordinates\":null,\"dimension\":1,\"grid_line_color\":null,\"group\":null,\"ticker\":null},\"id\":\"14062\",\"type\":\"Grid\"},{\"attributes\":{},\"id\":\"14093\",\"type\":\"AllLabels\"},{\"attributes\":{\"coordinates\":null,\"group\":null,\"text\":\"Automatic Highlighted Words\",\"text_color\":\"black\",\"text_font_size\":\"12pt\"},\"id\":\"14047\",\"type\":\"Title\"},{\"attributes\":{\"coordinates\":null,\"data_source\":{\"id\":\"14077\"},\"glyph\":{\"id\":\"14080\"},\"group\":null,\"hover_glyph\":{\"id\":\"14083\"},\"muted_glyph\":{\"id\":\"14084\"},\"nonselection_glyph\":{\"id\":\"14081\"},\"selection_glyph\":{\"id\":\"14082\"},\"view\":{\"id\":\"14086\"}},\"id\":\"14085\",\"type\":\"GlyphRenderer\"},{\"attributes\":{\"source\":{\"id\":\"14077\"}},\"id\":\"14086\",\"type\":\"CDSView\"},{\"attributes\":{\"axis\":{\"id\":\"14055\"},\"coordinates\":null,\"grid_line_color\":null,\"group\":null,\"ticker\":null},\"id\":\"14058\",\"type\":\"Grid\"},{\"attributes\":{},\"id\":\"14067\",\"type\":\"ResetTool\"},{\"attributes\":{\"client_comm_id\":\"6eeb90bb67384b20b32718b95df616b9\",\"comm_id\":\"cbadc7d709474bbe921089bb0f6204dc\",\"plot_id\":\"14042\"},\"id\":\"14145\",\"type\":\"panel.models.comm_manager.CommManager\"},{\"attributes\":{},\"id\":\"14094\",\"type\":\"UnionRenderers\"},{\"attributes\":{\"fill_color\":{\"field\":\"color\",\"transform\":{\"id\":\"14076\"}},\"hatch_color\":{\"field\":\"color\",\"transform\":{\"id\":\"14076\"}},\"line_color\":{\"field\":\"color\",\"transform\":{\"id\":\"14076\"}},\"size\":{\"field\":\"size\"},\"x\":{\"field\":\"timestamp\"},\"y\":{\"field\":\"rank\"}},\"id\":\"14083\",\"type\":\"Scatter\"},{\"attributes\":{\"data\":{\"A__size\":{\"__ndarray__\":\"AAAAAAAAJEAAAAAAAAAkQAAAAAAAACRAAAAAAAAANEAAAAAAAAA0QAAAAAAAADRAAAAAAAAANEAAAAAAAAAkQAAAAAAAACRAAAAAAAAAJEAAAAAAAAA0QAAAAAAAADRAAAAAAAAANEAAAAAAAAA0QMAKHwDGSCxAwAofAMZILEAAAAAAAAAkQAAAAAAAACRAwAofAMZILEDACh8AxkgsQAAAAAAAACRAAAAAAAAAJEDACh8AxkgsQMAKHwDGSCxA\",\"dtype\":\"float64\",\"order\":\"little\",\"shape\":[24]},\"color\":[\"better things\",\"Good common sense horse\",\"more jokes\",\"freedom\",\"freedom\",\"freedom\",\"freedom\",\"very proud people\",\"country class\",\"Paul Dean\",\"person\",\"person\",\"person\",\"person\",\"clothes\",\"clothes\",\"Other members\",\"whole thing\",\"life\",\"life\",\"easiest thing\",\"show business\",\"fun\",\"fun\"],\"rank\":{\"__ndarray__\":\"exSuR+F6tD/sUbgeheuxP7gehetRuK4/uB6F61G4rj+4HoXrUbiuP7gehetRuK4/uB6F61G4rj+amZmZmZmpP5qZmZmZmak/mpmZmZmZqT+amZmZmZmpP5qZmZmZmak/mpmZmZmZqT+amZmZmZmpP5qZmZmZmak/mpmZmZmZqT+amZmZmZmpP5qZmZmZmak/mpmZmZmZqT+amZmZmZmpP5qZmZmZmak/mpmZmZmZqT97FK5H4XqkP3sUrkfheqQ/\",\"dtype\":\"float64\",\"order\":\"little\",\"shape\":[24]},\"size\":{\"__ndarray__\":\"AAAAAAAAJEAAAAAAAAAkQAAAAAAAACRAAAAAAAAANEAAAAAAAAA0QAAAAAAAADRAAAAAAAAANEAAAAAAAAAkQAAAAAAAACRAAAAAAAAAJEAAAAAAAAA0QAAAAAAAADRAAAAAAAAANEAAAAAAAAA0QMAKHwDGSCxAwAofAMZILEAAAAAAAAAkQAAAAAAAACRAwAofAMZILEDACh8AxkgsQAAAAAAAACRAAAAAAAAAJEDACh8AxkgsQMAKHwDGSCxA\",\"dtype\":\"float64\",\"order\":\"little\",\"shape\":[24]},\"speaker\":[\"Dolly\",\"Dolly\",\"Dolly\",\"Dolly\",\"Dolly\",\"Barbara\",\"Dolly\",\"Dolly\",\"Dolly\",\"Barbara\",\"Dolly\",\"Dolly\",\"Dolly\",\"Dolly\",\"Barbara\",\"Dolly\",\"Dolly\",\"Dolly\",\"Dolly\",\"Dolly\",\"Dolly\",\"Dolly\",\"Barbara\",\"Dolly\"],\"text\":[\"better things\",\"Good common sense horse\",\"more jokes\",\"freedom\",\"freedom\",\"freedom\",\"freedom\",\"very proud people\",\"country class\",\"Paul Dean\",\"person\",\"person\",\"person\",\"person\",\"clothes\",\"clothes\",\"Other members\",\"whole thing\",\"life\",\"life\",\"easiest thing\",\"show business\",\"fun\",\"fun\"],\"timestamp\":{\"__ndarray__\":\"ZmZmZmZeokAfhetRuEp5QDMzMzMzaplAzczMzExMoECamZmZmW2gQGZmZmbm06BAzczMzEwtoUDNzMzMzJBxQM3MzMzMoHNAZmZmZmbAnkDNzMzMzCqOQGZmZmZmbZpAzczMzMzjm0BmZmZm5lehQEjhehSuYJBAzczMzMy4nEApXI/C9VyFQJqZmZmZ44tAMzMzMzPklEAzMzMzM26bQM3MzMzM8JFAZmZmZmYOlkAzMzMzM3WXQDMzMzMzsZdA\",\"dtype\":\"float64\",\"order\":\"little\",\"shape\":[24]}},\"selected\":{\"id\":\"14078\"},\"selection_policy\":{\"id\":\"14094\"}},\"id\":\"14077\",\"type\":\"ColumnDataSource\"},{\"attributes\":{\"fill_color\":{\"field\":\"color\",\"transform\":{\"id\":\"14076\"}},\"hatch_color\":{\"field\":\"color\",\"transform\":{\"id\":\"14076\"}},\"line_color\":{\"field\":\"color\",\"transform\":{\"id\":\"14076\"}},\"size\":{\"field\":\"size\"},\"x\":{\"field\":\"timestamp\"},\"y\":{\"field\":\"rank\"}},\"id\":\"14082\",\"type\":\"Scatter\"},{\"attributes\":{},\"id\":\"14051\",\"type\":\"LinearScale\"},{\"attributes\":{},\"id\":\"14065\",\"type\":\"WheelZoomTool\"},{\"attributes\":{\"fill_alpha\":{\"value\":0.2},\"fill_color\":{\"field\":\"color\",\"transform\":{\"id\":\"14076\"}},\"hatch_alpha\":{\"value\":0.2},\"hatch_color\":{\"field\":\"color\",\"transform\":{\"id\":\"14076\"}},\"line_alpha\":{\"value\":0.2},\"line_color\":{\"field\":\"color\",\"transform\":{\"id\":\"14076\"}},\"size\":{\"field\":\"size\"},\"x\":{\"field\":\"timestamp\"},\"y\":{\"field\":\"rank\"}},\"id\":\"14084\",\"type\":\"Scatter\"},{\"attributes\":{\"below\":[{\"id\":\"14055\"}],\"center\":[{\"id\":\"14058\"},{\"id\":\"14062\"},{\"id\":\"14097\"}],\"left\":[{\"id\":\"14059\"}],\"margin\":[5,5,5,5],\"min_border_bottom\":10,\"min_border_left\":10,\"min_border_right\":10,\"min_border_top\":10,\"renderers\":[{\"id\":\"14085\"}],\"right\":[{\"id\":\"14097\"}],\"sizing_mode\":\"fixed\",\"title\":{\"id\":\"14047\"},\"toolbar\":{\"id\":\"14069\"},\"width\":1300,\"x_range\":{\"id\":\"14043\"},\"x_scale\":{\"id\":\"14051\"},\"y_range\":{\"id\":\"14044\"},\"y_scale\":{\"id\":\"14053\"}},\"id\":\"14046\",\"subtype\":\"Figure\",\"type\":\"Plot\"},{\"attributes\":{},\"id\":\"14064\",\"type\":\"PanTool\"},{\"attributes\":{\"tools\":[{\"id\":\"14045\"},{\"id\":\"14063\"},{\"id\":\"14064\"},{\"id\":\"14065\"},{\"id\":\"14066\"},{\"id\":\"14067\"}]},\"id\":\"14069\",\"type\":\"Toolbar\"}],\"root_ids\":[\"14042\",\"14145\"]},\"title\":\"Bokeh Application\",\"version\":\"2.4.3\"}};\n",
       "    var render_items = [{\"docid\":\"a11ec842-e40d-4cf1-bc0b-84423586894d\",\"root_ids\":[\"14042\"],\"roots\":{\"14042\":\"9c91aeaa-bd63-4cb5-96ff-dd0a6ea346da\"}}];\n",
       "    root.Bokeh.embed.embed_items_notebook(docs_json, render_items);\n",
       "    for (const render_item of render_items) {\n",
       "      for (const root_id of render_item.root_ids) {\n",
       "\tconst id_el = document.getElementById(root_id)\n",
       "\tif (id_el.children.length && (id_el.children[0].className === 'bk-root')) {\n",
       "\t  const root_el = id_el.children[0]\n",
       "\t  root_el.id = root_el.id + '-rendered'\n",
       "\t}\n",
       "      }\n",
       "    }\n",
       "  }\n",
       "  if (root.Bokeh !== undefined && root.Bokeh.Panel !== undefined) {\n",
       "    embed_document(root);\n",
       "  } else {\n",
       "    var attempts = 0;\n",
       "    var timer = setInterval(function(root) {\n",
       "      if (root.Bokeh !== undefined && root.Bokeh.Panel !== undefined) {\n",
       "        clearInterval(timer);\n",
       "        embed_document(root);\n",
       "      } else if (document.readyState == \"complete\") {\n",
       "        attempts++;\n",
       "        if (attempts > 200) {\n",
       "          clearInterval(timer);\n",
       "          console.log(\"Bokeh: ERROR: Unable to run BokehJS code because BokehJS library is missing\");\n",
       "        }\n",
       "      }\n",
       "    }, 25, root)\n",
       "  }\n",
       "})(window);</script>"
      ],
      "text/plain": [
       "Row\n",
       "    [0] HoloViews(Points)"
      ]
     },
     "execution_count": 550,
     "metadata": {
      "application/vnd.holoviews_exec.v0+json": {
       "id": "14042"
      }
     },
     "output_type": "execute_result"
    }
   ],
   "source": [
    "highlights_plot = highlights[['count', 'rank', 'text', 'timestamp', 'speaker']].hvplot.points(x=\"timestamp\", y=\"rank\",\n",
    "              padding=0.4, hover_cols=['speaker'],\n",
    "              width=1300, height=600,\n",
    "              size=gen_count_size(highlights), color=\"text\", title=\"Automatic Highlighted Words\")# * \\\n",
    "# highlights.hvplot.labels(x='timestamp', y='rank', text='speaker', text_baseline='top',\n",
    "#                          hover=False).opts(fontscale=1.5)\n",
    "\n",
    "pn.Row(highlights_plot)"
   ]
  },
  {
   "cell_type": "code",
   "execution_count": 549,
   "id": "0b721e08-7e8a-44c1-981a-58ea19f02913",
   "metadata": {},
   "outputs": [
    {
     "data": {
      "application/vnd.plotly.v1+json": {
       "config": {
        "plotlyServerURL": "https://plotly.com"
       },
       "data": [
        {
         "customdata": [
          [
           "Dolly",
           "better things",
           1
          ]
         ],
         "hovertemplate": "<b>%{hovertext}</b><br><br>text=%{customdata[1]}<br>timestamp=%{x}<br>rank=%{y}<br>size=%{marker.size}<br>speaker=%{customdata[0]}<br>count=%{customdata[2]}<extra></extra>",
         "hovertext": [
          "Dolly"
         ],
         "legendgroup": "better things",
         "marker": {
          "color": "#636efa",
          "size": [
           100
          ],
          "sizemode": "area",
          "sizeref": 1,
          "symbol": "circle"
         },
         "mode": "markers",
         "name": "better things",
         "orientation": "v",
         "showlegend": true,
         "type": "scatter",
         "x": [
          2351.2
         ],
         "xaxis": "x",
         "y": [
          0.08
         ],
         "yaxis": "y"
        },
        {
         "customdata": [
          [
           "Dolly",
           "Good common sense horse",
           1
          ]
         ],
         "hovertemplate": "<b>%{hovertext}</b><br><br>text=%{customdata[1]}<br>timestamp=%{x}<br>rank=%{y}<br>size=%{marker.size}<br>speaker=%{customdata[0]}<br>count=%{customdata[2]}<extra></extra>",
         "hovertext": [
          "Dolly"
         ],
         "legendgroup": "Good common sense horse",
         "marker": {
          "color": "#EF553B",
          "size": [
           100
          ],
          "sizemode": "area",
          "sizeref": 1,
          "symbol": "circle"
         },
         "mode": "markers",
         "name": "Good common sense horse",
         "orientation": "v",
         "showlegend": true,
         "type": "scatter",
         "x": [
          404.67
         ],
         "xaxis": "x",
         "y": [
          0.07
         ],
         "yaxis": "y"
        },
        {
         "customdata": [
          [
           "Dolly",
           "more jokes",
           1
          ]
         ],
         "hovertemplate": "<b>%{hovertext}</b><br><br>text=%{customdata[1]}<br>timestamp=%{x}<br>rank=%{y}<br>size=%{marker.size}<br>speaker=%{customdata[0]}<br>count=%{customdata[2]}<extra></extra>",
         "hovertext": [
          "Dolly"
         ],
         "legendgroup": "more jokes",
         "marker": {
          "color": "#00cc96",
          "size": [
           100
          ],
          "sizemode": "area",
          "sizeref": 1,
          "symbol": "circle"
         },
         "mode": "markers",
         "name": "more jokes",
         "orientation": "v",
         "showlegend": true,
         "type": "scatter",
         "x": [
          1626.55
         ],
         "xaxis": "x",
         "y": [
          0.06
         ],
         "yaxis": "y"
        },
        {
         "customdata": [
          [
           "Dolly",
           "freedom",
           4
          ],
          [
           "Dolly",
           "freedom",
           4
          ],
          [
           "Barbara",
           "freedom",
           4
          ],
          [
           "Dolly",
           "freedom",
           4
          ]
         ],
         "hovertemplate": "<b>%{hovertext}</b><br><br>text=%{customdata[1]}<br>timestamp=%{x}<br>rank=%{y}<br>size=%{marker.size}<br>speaker=%{customdata[0]}<br>count=%{customdata[2]}<extra></extra>",
         "hovertext": [
          "Dolly",
          "Dolly",
          "Barbara",
          "Dolly"
         ],
         "legendgroup": "freedom",
         "marker": {
          "color": "#ab63fa",
          "size": [
           400,
           400,
           400,
           400
          ],
          "sizemode": "area",
          "sizeref": 1,
          "symbol": "circle"
         },
         "mode": "markers",
         "name": "freedom",
         "orientation": "v",
         "showlegend": true,
         "type": "scatter",
         "x": [
          2086.15,
          2102.8,
          2153.95,
          2198.65
         ],
         "xaxis": "x",
         "y": [
          0.06,
          0.06,
          0.06,
          0.06
         ],
         "yaxis": "y"
        },
        {
         "customdata": [
          [
           "Dolly",
           "very proud people",
           1
          ]
         ],
         "hovertemplate": "<b>%{hovertext}</b><br><br>text=%{customdata[1]}<br>timestamp=%{x}<br>rank=%{y}<br>size=%{marker.size}<br>speaker=%{customdata[0]}<br>count=%{customdata[2]}<extra></extra>",
         "hovertext": [
          "Dolly"
         ],
         "legendgroup": "very proud people",
         "marker": {
          "color": "#FFA15A",
          "size": [
           100
          ],
          "sizemode": "area",
          "sizeref": 1,
          "symbol": "circle"
         },
         "mode": "markers",
         "name": "very proud people",
         "orientation": "v",
         "showlegend": true,
         "type": "scatter",
         "x": [
          281.05
         ],
         "xaxis": "x",
         "y": [
          0.05
         ],
         "yaxis": "y"
        },
        {
         "customdata": [
          [
           "Dolly",
           "country class",
           1
          ]
         ],
         "hovertemplate": "<b>%{hovertext}</b><br><br>text=%{customdata[1]}<br>timestamp=%{x}<br>rank=%{y}<br>size=%{marker.size}<br>speaker=%{customdata[0]}<br>count=%{customdata[2]}<extra></extra>",
         "hovertext": [
          "Dolly"
         ],
         "legendgroup": "country class",
         "marker": {
          "color": "#19d3f3",
          "size": [
           100
          ],
          "sizemode": "area",
          "sizeref": 1,
          "symbol": "circle"
         },
         "mode": "markers",
         "name": "country class",
         "orientation": "v",
         "showlegend": true,
         "type": "scatter",
         "x": [
          314.05
         ],
         "xaxis": "x",
         "y": [
          0.05
         ],
         "yaxis": "y"
        },
        {
         "customdata": [
          [
           "Barbara",
           "Paul Dean",
           1
          ]
         ],
         "hovertemplate": "<b>%{hovertext}</b><br><br>text=%{customdata[1]}<br>timestamp=%{x}<br>rank=%{y}<br>size=%{marker.size}<br>speaker=%{customdata[0]}<br>count=%{customdata[2]}<extra></extra>",
         "hovertext": [
          "Barbara"
         ],
         "legendgroup": "Paul Dean",
         "marker": {
          "color": "#FF6692",
          "size": [
           100
          ],
          "sizemode": "area",
          "sizeref": 1,
          "symbol": "circle"
         },
         "mode": "markers",
         "name": "Paul Dean",
         "orientation": "v",
         "showlegend": true,
         "type": "scatter",
         "x": [
          1968.1
         ],
         "xaxis": "x",
         "y": [
          0.05
         ],
         "yaxis": "y"
        },
        {
         "customdata": [
          [
           "Dolly",
           "person",
           4
          ],
          [
           "Dolly",
           "person",
           4
          ],
          [
           "Dolly",
           "person",
           4
          ],
          [
           "Dolly",
           "person",
           4
          ]
         ],
         "hovertemplate": "<b>%{hovertext}</b><br><br>text=%{customdata[1]}<br>timestamp=%{x}<br>rank=%{y}<br>size=%{marker.size}<br>speaker=%{customdata[0]}<br>count=%{customdata[2]}<extra></extra>",
         "hovertext": [
          "Dolly",
          "Dolly",
          "Dolly",
          "Dolly"
         ],
         "legendgroup": "person",
         "marker": {
          "color": "#B6E880",
          "size": [
           400,
           400,
           400,
           400
          ],
          "sizemode": "area",
          "sizeref": 1,
          "symbol": "circle"
         },
         "mode": "markers",
         "name": "person",
         "orientation": "v",
         "showlegend": true,
         "type": "scatter",
         "x": [
          965.35,
          1691.35,
          1784.95,
          2219.95
         ],
         "xaxis": "x",
         "y": [
          0.05,
          0.05,
          0.05,
          0.05
         ],
         "yaxis": "y"
        },
        {
         "customdata": [
          [
           "Barbara",
           "clothes",
           2
          ],
          [
           "Dolly",
           "clothes",
           2
          ]
         ],
         "hovertemplate": "<b>%{hovertext}</b><br><br>text=%{customdata[1]}<br>timestamp=%{x}<br>rank=%{y}<br>size=%{marker.size}<br>speaker=%{customdata[0]}<br>count=%{customdata[2]}<extra></extra>",
         "hovertext": [
          "Barbara",
          "Dolly"
         ],
         "legendgroup": "clothes",
         "marker": {
          "color": "#FF97FF",
          "size": [
           200,
           200
          ],
          "sizemode": "area",
          "sizeref": 1,
          "symbol": "circle"
         },
         "mode": "markers",
         "name": "clothes",
         "orientation": "v",
         "showlegend": true,
         "type": "scatter",
         "x": [
          1048.17,
          1838.2
         ],
         "xaxis": "x",
         "y": [
          0.05,
          0.05
         ],
         "yaxis": "y"
        },
        {
         "customdata": [
          [
           "Dolly",
           "Other members",
           1
          ]
         ],
         "hovertemplate": "<b>%{hovertext}</b><br><br>text=%{customdata[1]}<br>timestamp=%{x}<br>rank=%{y}<br>size=%{marker.size}<br>speaker=%{customdata[0]}<br>count=%{customdata[2]}<extra></extra>",
         "hovertext": [
          "Dolly"
         ],
         "legendgroup": "Other members",
         "marker": {
          "color": "#FECB52",
          "size": [
           100
          ],
          "sizemode": "area",
          "sizeref": 1,
          "symbol": "circle"
         },
         "mode": "markers",
         "name": "Other members",
         "orientation": "v",
         "showlegend": true,
         "type": "scatter",
         "x": [
          683.62
         ],
         "xaxis": "x",
         "y": [
          0.05
         ],
         "yaxis": "y"
        },
        {
         "customdata": [
          [
           "Dolly",
           "whole thing",
           1
          ]
         ],
         "hovertemplate": "<b>%{hovertext}</b><br><br>text=%{customdata[1]}<br>timestamp=%{x}<br>rank=%{y}<br>size=%{marker.size}<br>speaker=%{customdata[0]}<br>count=%{customdata[2]}<extra></extra>",
         "hovertext": [
          "Dolly"
         ],
         "legendgroup": "whole thing",
         "marker": {
          "color": "#636efa",
          "size": [
           100
          ],
          "sizemode": "area",
          "sizeref": 1,
          "symbol": "circle"
         },
         "mode": "markers",
         "name": "whole thing",
         "orientation": "v",
         "showlegend": true,
         "type": "scatter",
         "x": [
          892.45
         ],
         "xaxis": "x",
         "y": [
          0.05
         ],
         "yaxis": "y"
        },
        {
         "customdata": [
          [
           "Dolly",
           "life",
           2
          ],
          [
           "Dolly",
           "life",
           2
          ]
         ],
         "hovertemplate": "<b>%{hovertext}</b><br><br>text=%{customdata[1]}<br>timestamp=%{x}<br>rank=%{y}<br>size=%{marker.size}<br>speaker=%{customdata[0]}<br>count=%{customdata[2]}<extra></extra>",
         "hovertext": [
          "Dolly",
          "Dolly"
         ],
         "legendgroup": "life",
         "marker": {
          "color": "#EF553B",
          "size": [
           200,
           200
          ],
          "sizemode": "area",
          "sizeref": 1,
          "symbol": "circle"
         },
         "mode": "markers",
         "name": "life",
         "orientation": "v",
         "showlegend": true,
         "type": "scatter",
         "x": [
          1337.05,
          1755.55
         ],
         "xaxis": "x",
         "y": [
          0.05,
          0.05
         ],
         "yaxis": "y"
        },
        {
         "customdata": [
          [
           "Dolly",
           "easiest thing",
           1
          ]
         ],
         "hovertemplate": "<b>%{hovertext}</b><br><br>text=%{customdata[1]}<br>timestamp=%{x}<br>rank=%{y}<br>size=%{marker.size}<br>speaker=%{customdata[0]}<br>count=%{customdata[2]}<extra></extra>",
         "hovertext": [
          "Dolly"
         ],
         "legendgroup": "easiest thing",
         "marker": {
          "color": "#00cc96",
          "size": [
           100
          ],
          "sizemode": "area",
          "sizeref": 1,
          "symbol": "circle"
         },
         "mode": "markers",
         "name": "easiest thing",
         "orientation": "v",
         "showlegend": true,
         "type": "scatter",
         "x": [
          1148.2
         ],
         "xaxis": "x",
         "y": [
          0.05
         ],
         "yaxis": "y"
        },
        {
         "customdata": [
          [
           "Dolly",
           "show business",
           1
          ]
         ],
         "hovertemplate": "<b>%{hovertext}</b><br><br>text=%{customdata[1]}<br>timestamp=%{x}<br>rank=%{y}<br>size=%{marker.size}<br>speaker=%{customdata[0]}<br>count=%{customdata[2]}<extra></extra>",
         "hovertext": [
          "Dolly"
         ],
         "legendgroup": "show business",
         "marker": {
          "color": "#ab63fa",
          "size": [
           100
          ],
          "sizemode": "area",
          "sizeref": 1,
          "symbol": "circle"
         },
         "mode": "markers",
         "name": "show business",
         "orientation": "v",
         "showlegend": true,
         "type": "scatter",
         "x": [
          1411.6
         ],
         "xaxis": "x",
         "y": [
          0.05
         ],
         "yaxis": "y"
        },
        {
         "customdata": [
          [
           "Barbara",
           "fun",
           2
          ],
          [
           "Dolly",
           "fun",
           2
          ]
         ],
         "hovertemplate": "<b>%{hovertext}</b><br><br>text=%{customdata[1]}<br>timestamp=%{x}<br>rank=%{y}<br>size=%{marker.size}<br>speaker=%{customdata[0]}<br>count=%{customdata[2]}<extra></extra>",
         "hovertext": [
          "Barbara",
          "Dolly"
         ],
         "legendgroup": "fun",
         "marker": {
          "color": "#FFA15A",
          "size": [
           200,
           200
          ],
          "sizemode": "area",
          "sizeref": 1,
          "symbol": "circle"
         },
         "mode": "markers",
         "name": "fun",
         "orientation": "v",
         "showlegend": true,
         "type": "scatter",
         "x": [
          1501.3,
          1516.3
         ],
         "xaxis": "x",
         "y": [
          0.04,
          0.04
         ],
         "yaxis": "y"
        }
       ],
       "layout": {
        "autosize": true,
        "hoverlabel": {
         "bgcolor": "white",
         "font": {
          "family": "Rockwell",
          "size": 16
         }
        },
        "legend": {
         "itemsizing": "constant",
         "title": {
          "text": "text"
         },
         "tracegroupgap": 0
        },
        "margin": {
         "t": 60
        },
        "template": {
         "data": {
          "bar": [
           {
            "error_x": {
             "color": "#2a3f5f"
            },
            "error_y": {
             "color": "#2a3f5f"
            },
            "marker": {
             "line": {
              "color": "#E5ECF6",
              "width": 0.5
             },
             "pattern": {
              "fillmode": "overlay",
              "size": 10,
              "solidity": 0.2
             }
            },
            "type": "bar"
           }
          ],
          "barpolar": [
           {
            "marker": {
             "line": {
              "color": "#E5ECF6",
              "width": 0.5
             },
             "pattern": {
              "fillmode": "overlay",
              "size": 10,
              "solidity": 0.2
             }
            },
            "type": "barpolar"
           }
          ],
          "carpet": [
           {
            "aaxis": {
             "endlinecolor": "#2a3f5f",
             "gridcolor": "white",
             "linecolor": "white",
             "minorgridcolor": "white",
             "startlinecolor": "#2a3f5f"
            },
            "baxis": {
             "endlinecolor": "#2a3f5f",
             "gridcolor": "white",
             "linecolor": "white",
             "minorgridcolor": "white",
             "startlinecolor": "#2a3f5f"
            },
            "type": "carpet"
           }
          ],
          "choropleth": [
           {
            "colorbar": {
             "outlinewidth": 0,
             "ticks": ""
            },
            "type": "choropleth"
           }
          ],
          "contour": [
           {
            "colorbar": {
             "outlinewidth": 0,
             "ticks": ""
            },
            "colorscale": [
             [
              0,
              "#0d0887"
             ],
             [
              0.1111111111111111,
              "#46039f"
             ],
             [
              0.2222222222222222,
              "#7201a8"
             ],
             [
              0.3333333333333333,
              "#9c179e"
             ],
             [
              0.4444444444444444,
              "#bd3786"
             ],
             [
              0.5555555555555556,
              "#d8576b"
             ],
             [
              0.6666666666666666,
              "#ed7953"
             ],
             [
              0.7777777777777778,
              "#fb9f3a"
             ],
             [
              0.8888888888888888,
              "#fdca26"
             ],
             [
              1,
              "#f0f921"
             ]
            ],
            "type": "contour"
           }
          ],
          "contourcarpet": [
           {
            "colorbar": {
             "outlinewidth": 0,
             "ticks": ""
            },
            "type": "contourcarpet"
           }
          ],
          "heatmap": [
           {
            "colorbar": {
             "outlinewidth": 0,
             "ticks": ""
            },
            "colorscale": [
             [
              0,
              "#0d0887"
             ],
             [
              0.1111111111111111,
              "#46039f"
             ],
             [
              0.2222222222222222,
              "#7201a8"
             ],
             [
              0.3333333333333333,
              "#9c179e"
             ],
             [
              0.4444444444444444,
              "#bd3786"
             ],
             [
              0.5555555555555556,
              "#d8576b"
             ],
             [
              0.6666666666666666,
              "#ed7953"
             ],
             [
              0.7777777777777778,
              "#fb9f3a"
             ],
             [
              0.8888888888888888,
              "#fdca26"
             ],
             [
              1,
              "#f0f921"
             ]
            ],
            "type": "heatmap"
           }
          ],
          "heatmapgl": [
           {
            "colorbar": {
             "outlinewidth": 0,
             "ticks": ""
            },
            "colorscale": [
             [
              0,
              "#0d0887"
             ],
             [
              0.1111111111111111,
              "#46039f"
             ],
             [
              0.2222222222222222,
              "#7201a8"
             ],
             [
              0.3333333333333333,
              "#9c179e"
             ],
             [
              0.4444444444444444,
              "#bd3786"
             ],
             [
              0.5555555555555556,
              "#d8576b"
             ],
             [
              0.6666666666666666,
              "#ed7953"
             ],
             [
              0.7777777777777778,
              "#fb9f3a"
             ],
             [
              0.8888888888888888,
              "#fdca26"
             ],
             [
              1,
              "#f0f921"
             ]
            ],
            "type": "heatmapgl"
           }
          ],
          "histogram": [
           {
            "marker": {
             "pattern": {
              "fillmode": "overlay",
              "size": 10,
              "solidity": 0.2
             }
            },
            "type": "histogram"
           }
          ],
          "histogram2d": [
           {
            "colorbar": {
             "outlinewidth": 0,
             "ticks": ""
            },
            "colorscale": [
             [
              0,
              "#0d0887"
             ],
             [
              0.1111111111111111,
              "#46039f"
             ],
             [
              0.2222222222222222,
              "#7201a8"
             ],
             [
              0.3333333333333333,
              "#9c179e"
             ],
             [
              0.4444444444444444,
              "#bd3786"
             ],
             [
              0.5555555555555556,
              "#d8576b"
             ],
             [
              0.6666666666666666,
              "#ed7953"
             ],
             [
              0.7777777777777778,
              "#fb9f3a"
             ],
             [
              0.8888888888888888,
              "#fdca26"
             ],
             [
              1,
              "#f0f921"
             ]
            ],
            "type": "histogram2d"
           }
          ],
          "histogram2dcontour": [
           {
            "colorbar": {
             "outlinewidth": 0,
             "ticks": ""
            },
            "colorscale": [
             [
              0,
              "#0d0887"
             ],
             [
              0.1111111111111111,
              "#46039f"
             ],
             [
              0.2222222222222222,
              "#7201a8"
             ],
             [
              0.3333333333333333,
              "#9c179e"
             ],
             [
              0.4444444444444444,
              "#bd3786"
             ],
             [
              0.5555555555555556,
              "#d8576b"
             ],
             [
              0.6666666666666666,
              "#ed7953"
             ],
             [
              0.7777777777777778,
              "#fb9f3a"
             ],
             [
              0.8888888888888888,
              "#fdca26"
             ],
             [
              1,
              "#f0f921"
             ]
            ],
            "type": "histogram2dcontour"
           }
          ],
          "mesh3d": [
           {
            "colorbar": {
             "outlinewidth": 0,
             "ticks": ""
            },
            "type": "mesh3d"
           }
          ],
          "parcoords": [
           {
            "line": {
             "colorbar": {
              "outlinewidth": 0,
              "ticks": ""
             }
            },
            "type": "parcoords"
           }
          ],
          "pie": [
           {
            "automargin": true,
            "type": "pie"
           }
          ],
          "scatter": [
           {
            "fillpattern": {
             "fillmode": "overlay",
             "size": 10,
             "solidity": 0.2
            },
            "type": "scatter"
           }
          ],
          "scatter3d": [
           {
            "line": {
             "colorbar": {
              "outlinewidth": 0,
              "ticks": ""
             }
            },
            "marker": {
             "colorbar": {
              "outlinewidth": 0,
              "ticks": ""
             }
            },
            "type": "scatter3d"
           }
          ],
          "scattercarpet": [
           {
            "marker": {
             "colorbar": {
              "outlinewidth": 0,
              "ticks": ""
             }
            },
            "type": "scattercarpet"
           }
          ],
          "scattergeo": [
           {
            "marker": {
             "colorbar": {
              "outlinewidth": 0,
              "ticks": ""
             }
            },
            "type": "scattergeo"
           }
          ],
          "scattergl": [
           {
            "marker": {
             "colorbar": {
              "outlinewidth": 0,
              "ticks": ""
             }
            },
            "type": "scattergl"
           }
          ],
          "scattermapbox": [
           {
            "marker": {
             "colorbar": {
              "outlinewidth": 0,
              "ticks": ""
             }
            },
            "type": "scattermapbox"
           }
          ],
          "scatterpolar": [
           {
            "marker": {
             "colorbar": {
              "outlinewidth": 0,
              "ticks": ""
             }
            },
            "type": "scatterpolar"
           }
          ],
          "scatterpolargl": [
           {
            "marker": {
             "colorbar": {
              "outlinewidth": 0,
              "ticks": ""
             }
            },
            "type": "scatterpolargl"
           }
          ],
          "scatterternary": [
           {
            "marker": {
             "colorbar": {
              "outlinewidth": 0,
              "ticks": ""
             }
            },
            "type": "scatterternary"
           }
          ],
          "surface": [
           {
            "colorbar": {
             "outlinewidth": 0,
             "ticks": ""
            },
            "colorscale": [
             [
              0,
              "#0d0887"
             ],
             [
              0.1111111111111111,
              "#46039f"
             ],
             [
              0.2222222222222222,
              "#7201a8"
             ],
             [
              0.3333333333333333,
              "#9c179e"
             ],
             [
              0.4444444444444444,
              "#bd3786"
             ],
             [
              0.5555555555555556,
              "#d8576b"
             ],
             [
              0.6666666666666666,
              "#ed7953"
             ],
             [
              0.7777777777777778,
              "#fb9f3a"
             ],
             [
              0.8888888888888888,
              "#fdca26"
             ],
             [
              1,
              "#f0f921"
             ]
            ],
            "type": "surface"
           }
          ],
          "table": [
           {
            "cells": {
             "fill": {
              "color": "#EBF0F8"
             },
             "line": {
              "color": "white"
             }
            },
            "header": {
             "fill": {
              "color": "#C8D4E3"
             },
             "line": {
              "color": "white"
             }
            },
            "type": "table"
           }
          ]
         },
         "layout": {
          "annotationdefaults": {
           "arrowcolor": "#2a3f5f",
           "arrowhead": 0,
           "arrowwidth": 1
          },
          "autotypenumbers": "strict",
          "coloraxis": {
           "colorbar": {
            "outlinewidth": 0,
            "ticks": ""
           }
          },
          "colorscale": {
           "diverging": [
            [
             0,
             "#8e0152"
            ],
            [
             0.1,
             "#c51b7d"
            ],
            [
             0.2,
             "#de77ae"
            ],
            [
             0.3,
             "#f1b6da"
            ],
            [
             0.4,
             "#fde0ef"
            ],
            [
             0.5,
             "#f7f7f7"
            ],
            [
             0.6,
             "#e6f5d0"
            ],
            [
             0.7,
             "#b8e186"
            ],
            [
             0.8,
             "#7fbc41"
            ],
            [
             0.9,
             "#4d9221"
            ],
            [
             1,
             "#276419"
            ]
           ],
           "sequential": [
            [
             0,
             "#0d0887"
            ],
            [
             0.1111111111111111,
             "#46039f"
            ],
            [
             0.2222222222222222,
             "#7201a8"
            ],
            [
             0.3333333333333333,
             "#9c179e"
            ],
            [
             0.4444444444444444,
             "#bd3786"
            ],
            [
             0.5555555555555556,
             "#d8576b"
            ],
            [
             0.6666666666666666,
             "#ed7953"
            ],
            [
             0.7777777777777778,
             "#fb9f3a"
            ],
            [
             0.8888888888888888,
             "#fdca26"
            ],
            [
             1,
             "#f0f921"
            ]
           ],
           "sequentialminus": [
            [
             0,
             "#0d0887"
            ],
            [
             0.1111111111111111,
             "#46039f"
            ],
            [
             0.2222222222222222,
             "#7201a8"
            ],
            [
             0.3333333333333333,
             "#9c179e"
            ],
            [
             0.4444444444444444,
             "#bd3786"
            ],
            [
             0.5555555555555556,
             "#d8576b"
            ],
            [
             0.6666666666666666,
             "#ed7953"
            ],
            [
             0.7777777777777778,
             "#fb9f3a"
            ],
            [
             0.8888888888888888,
             "#fdca26"
            ],
            [
             1,
             "#f0f921"
            ]
           ]
          },
          "colorway": [
           "#636efa",
           "#EF553B",
           "#00cc96",
           "#ab63fa",
           "#FFA15A",
           "#19d3f3",
           "#FF6692",
           "#B6E880",
           "#FF97FF",
           "#FECB52"
          ],
          "font": {
           "color": "#2a3f5f"
          },
          "geo": {
           "bgcolor": "white",
           "lakecolor": "white",
           "landcolor": "#E5ECF6",
           "showlakes": true,
           "showland": true,
           "subunitcolor": "white"
          },
          "hoverlabel": {
           "align": "left"
          },
          "hovermode": "closest",
          "mapbox": {
           "style": "light"
          },
          "paper_bgcolor": "white",
          "plot_bgcolor": "#E5ECF6",
          "polar": {
           "angularaxis": {
            "gridcolor": "white",
            "linecolor": "white",
            "ticks": ""
           },
           "bgcolor": "#E5ECF6",
           "radialaxis": {
            "gridcolor": "white",
            "linecolor": "white",
            "ticks": ""
           }
          },
          "scene": {
           "xaxis": {
            "backgroundcolor": "#E5ECF6",
            "gridcolor": "white",
            "gridwidth": 2,
            "linecolor": "white",
            "showbackground": true,
            "ticks": "",
            "zerolinecolor": "white"
           },
           "yaxis": {
            "backgroundcolor": "#E5ECF6",
            "gridcolor": "white",
            "gridwidth": 2,
            "linecolor": "white",
            "showbackground": true,
            "ticks": "",
            "zerolinecolor": "white"
           },
           "zaxis": {
            "backgroundcolor": "#E5ECF6",
            "gridcolor": "white",
            "gridwidth": 2,
            "linecolor": "white",
            "showbackground": true,
            "ticks": "",
            "zerolinecolor": "white"
           }
          },
          "shapedefaults": {
           "line": {
            "color": "#2a3f5f"
           }
          },
          "ternary": {
           "aaxis": {
            "gridcolor": "white",
            "linecolor": "white",
            "ticks": ""
           },
           "baxis": {
            "gridcolor": "white",
            "linecolor": "white",
            "ticks": ""
           },
           "bgcolor": "#E5ECF6",
           "caxis": {
            "gridcolor": "white",
            "linecolor": "white",
            "ticks": ""
           }
          },
          "title": {
           "x": 0.05
          },
          "xaxis": {
           "automargin": true,
           "gridcolor": "white",
           "linecolor": "white",
           "ticks": "",
           "title": {
            "standoff": 15
           },
           "zerolinecolor": "white",
           "zerolinewidth": 2
          },
          "yaxis": {
           "automargin": true,
           "gridcolor": "white",
           "linecolor": "white",
           "ticks": "",
           "title": {
            "standoff": 15
           },
           "zerolinecolor": "white",
           "zerolinewidth": 2
          }
         }
        },
        "xaxis": {
         "anchor": "y",
         "autorange": true,
         "domain": [
          0,
          1
         ],
         "range": [
          150.6349144694381,
          2481.615085530562
         ],
         "title": {
          "text": "timestamp"
         },
         "type": "linear"
        },
        "yaxis": {
         "anchor": "x",
         "autorange": true,
         "domain": [
          0,
          1
         ],
         "range": [
          0.03653794569617414,
          0.08313037236605489
         ],
         "title": {
          "text": "rank"
         },
         "type": "linear"
        }
       }
      },
      "image/png": "[encoded data removed]",
      "text/html": [
       "<div>                            <div id=\"87c7e04c-64d3-4250-bf56-2a4c3b080420\" class=\"plotly-graph-div\" style=\"height:600px; width:100%;\"></div>            <script type=\"text/javascript\">                require([\"plotly\"], function(Plotly) {                    window.PLOTLYENV=window.PLOTLYENV || {};                                    if (document.getElementById(\"87c7e04c-64d3-4250-bf56-2a4c3b080420\")) {                    Plotly.newPlot(                        \"87c7e04c-64d3-4250-bf56-2a4c3b080420\",                        [{\"customdata\":[[\"Dolly\",\"better things\",1]],\"hovertemplate\":\"<b>%{hovertext}</b><br><br>text=%{customdata[1]}<br>timestamp=%{x}<br>rank=%{y}<br>size=%{marker.size}<br>speaker=%{customdata[0]}<br>count=%{customdata[2]}<extra></extra>\",\"hovertext\":[\"Dolly\"],\"legendgroup\":\"better things\",\"marker\":{\"color\":\"#636efa\",\"size\":[100],\"sizemode\":\"area\",\"sizeref\":1.0,\"symbol\":\"circle\"},\"mode\":\"markers\",\"name\":\"better things\",\"orientation\":\"v\",\"showlegend\":true,\"x\":[2351.2],\"xaxis\":\"x\",\"y\":[0.08],\"yaxis\":\"y\",\"type\":\"scatter\"},{\"customdata\":[[\"Dolly\",\"Good common sense horse\",1]],\"hovertemplate\":\"<b>%{hovertext}</b><br><br>text=%{customdata[1]}<br>timestamp=%{x}<br>rank=%{y}<br>size=%{marker.size}<br>speaker=%{customdata[0]}<br>count=%{customdata[2]}<extra></extra>\",\"hovertext\":[\"Dolly\"],\"legendgroup\":\"Good common sense horse\",\"marker\":{\"color\":\"#EF553B\",\"size\":[100],\"sizemode\":\"area\",\"sizeref\":1.0,\"symbol\":\"circle\"},\"mode\":\"markers\",\"name\":\"Good common sense horse\",\"orientation\":\"v\",\"showlegend\":true,\"x\":[404.67],\"xaxis\":\"x\",\"y\":[0.07],\"yaxis\":\"y\",\"type\":\"scatter\"},{\"customdata\":[[\"Dolly\",\"more jokes\",1]],\"hovertemplate\":\"<b>%{hovertext}</b><br><br>text=%{customdata[1]}<br>timestamp=%{x}<br>rank=%{y}<br>size=%{marker.size}<br>speaker=%{customdata[0]}<br>count=%{customdata[2]}<extra></extra>\",\"hovertext\":[\"Dolly\"],\"legendgroup\":\"more jokes\",\"marker\":{\"color\":\"#00cc96\",\"size\":[100],\"sizemode\":\"area\",\"sizeref\":1.0,\"symbol\":\"circle\"},\"mode\":\"markers\",\"name\":\"more jokes\",\"orientation\":\"v\",\"showlegend\":true,\"x\":[1626.55],\"xaxis\":\"x\",\"y\":[0.06],\"yaxis\":\"y\",\"type\":\"scatter\"},{\"customdata\":[[\"Dolly\",\"freedom\",4],[\"Dolly\",\"freedom\",4],[\"Barbara\",\"freedom\",4],[\"Dolly\",\"freedom\",4]],\"hovertemplate\":\"<b>%{hovertext}</b><br><br>text=%{customdata[1]}<br>timestamp=%{x}<br>rank=%{y}<br>size=%{marker.size}<br>speaker=%{customdata[0]}<br>count=%{customdata[2]}<extra></extra>\",\"hovertext\":[\"Dolly\",\"Dolly\",\"Barbara\",\"Dolly\"],\"legendgroup\":\"freedom\",\"marker\":{\"color\":\"#ab63fa\",\"size\":[400,400,400,400],\"sizemode\":\"area\",\"sizeref\":1.0,\"symbol\":\"circle\"},\"mode\":\"markers\",\"name\":\"freedom\",\"orientation\":\"v\",\"showlegend\":true,\"x\":[2086.15,2102.8,2153.95,2198.65],\"xaxis\":\"x\",\"y\":[0.06,0.06,0.06,0.06],\"yaxis\":\"y\",\"type\":\"scatter\"},{\"customdata\":[[\"Dolly\",\"very proud people\",1]],\"hovertemplate\":\"<b>%{hovertext}</b><br><br>text=%{customdata[1]}<br>timestamp=%{x}<br>rank=%{y}<br>size=%{marker.size}<br>speaker=%{customdata[0]}<br>count=%{customdata[2]}<extra></extra>\",\"hovertext\":[\"Dolly\"],\"legendgroup\":\"very proud people\",\"marker\":{\"color\":\"#FFA15A\",\"size\":[100],\"sizemode\":\"area\",\"sizeref\":1.0,\"symbol\":\"circle\"},\"mode\":\"markers\",\"name\":\"very proud people\",\"orientation\":\"v\",\"showlegend\":true,\"x\":[281.05],\"xaxis\":\"x\",\"y\":[0.05],\"yaxis\":\"y\",\"type\":\"scatter\"},{\"customdata\":[[\"Dolly\",\"country class\",1]],\"hovertemplate\":\"<b>%{hovertext}</b><br><br>text=%{customdata[1]}<br>timestamp=%{x}<br>rank=%{y}<br>size=%{marker.size}<br>speaker=%{customdata[0]}<br>count=%{customdata[2]}<extra></extra>\",\"hovertext\":[\"Dolly\"],\"legendgroup\":\"country class\",\"marker\":{\"color\":\"#19d3f3\",\"size\":[100],\"sizemode\":\"area\",\"sizeref\":1.0,\"symbol\":\"circle\"},\"mode\":\"markers\",\"name\":\"country class\",\"orientation\":\"v\",\"showlegend\":true,\"x\":[314.05],\"xaxis\":\"x\",\"y\":[0.05],\"yaxis\":\"y\",\"type\":\"scatter\"},{\"customdata\":[[\"Barbara\",\"Paul Dean\",1]],\"hovertemplate\":\"<b>%{hovertext}</b><br><br>text=%{customdata[1]}<br>timestamp=%{x}<br>rank=%{y}<br>size=%{marker.size}<br>speaker=%{customdata[0]}<br>count=%{customdata[2]}<extra></extra>\",\"hovertext\":[\"Barbara\"],\"legendgroup\":\"Paul Dean\",\"marker\":{\"color\":\"#FF6692\",\"size\":[100],\"sizemode\":\"area\",\"sizeref\":1.0,\"symbol\":\"circle\"},\"mode\":\"markers\",\"name\":\"Paul Dean\",\"orientation\":\"v\",\"showlegend\":true,\"x\":[1968.1],\"xaxis\":\"x\",\"y\":[0.05],\"yaxis\":\"y\",\"type\":\"scatter\"},{\"customdata\":[[\"Dolly\",\"person\",4],[\"Dolly\",\"person\",4],[\"Dolly\",\"person\",4],[\"Dolly\",\"person\",4]],\"hovertemplate\":\"<b>%{hovertext}</b><br><br>text=%{customdata[1]}<br>timestamp=%{x}<br>rank=%{y}<br>size=%{marker.size}<br>speaker=%{customdata[0]}<br>count=%{customdata[2]}<extra></extra>\",\"hovertext\":[\"Dolly\",\"Dolly\",\"Dolly\",\"Dolly\"],\"legendgroup\":\"person\",\"marker\":{\"color\":\"#B6E880\",\"size\":[400,400,400,400],\"sizemode\":\"area\",\"sizeref\":1.0,\"symbol\":\"circle\"},\"mode\":\"markers\",\"name\":\"person\",\"orientation\":\"v\",\"showlegend\":true,\"x\":[965.35,1691.35,1784.95,2219.95],\"xaxis\":\"x\",\"y\":[0.05,0.05,0.05,0.05],\"yaxis\":\"y\",\"type\":\"scatter\"},{\"customdata\":[[\"Barbara\",\"clothes\",2],[\"Dolly\",\"clothes\",2]],\"hovertemplate\":\"<b>%{hovertext}</b><br><br>text=%{customdata[1]}<br>timestamp=%{x}<br>rank=%{y}<br>size=%{marker.size}<br>speaker=%{customdata[0]}<br>count=%{customdata[2]}<extra></extra>\",\"hovertext\":[\"Barbara\",\"Dolly\"],\"legendgroup\":\"clothes\",\"marker\":{\"color\":\"#FF97FF\",\"size\":[200,200],\"sizemode\":\"area\",\"sizeref\":1.0,\"symbol\":\"circle\"},\"mode\":\"markers\",\"name\":\"clothes\",\"orientation\":\"v\",\"showlegend\":true,\"x\":[1048.17,1838.2],\"xaxis\":\"x\",\"y\":[0.05,0.05],\"yaxis\":\"y\",\"type\":\"scatter\"},{\"customdata\":[[\"Dolly\",\"Other members\",1]],\"hovertemplate\":\"<b>%{hovertext}</b><br><br>text=%{customdata[1]}<br>timestamp=%{x}<br>rank=%{y}<br>size=%{marker.size}<br>speaker=%{customdata[0]}<br>count=%{customdata[2]}<extra></extra>\",\"hovertext\":[\"Dolly\"],\"legendgroup\":\"Other members\",\"marker\":{\"color\":\"#FECB52\",\"size\":[100],\"sizemode\":\"area\",\"sizeref\":1.0,\"symbol\":\"circle\"},\"mode\":\"markers\",\"name\":\"Other members\",\"orientation\":\"v\",\"showlegend\":true,\"x\":[683.62],\"xaxis\":\"x\",\"y\":[0.05],\"yaxis\":\"y\",\"type\":\"scatter\"},{\"customdata\":[[\"Dolly\",\"whole thing\",1]],\"hovertemplate\":\"<b>%{hovertext}</b><br><br>text=%{customdata[1]}<br>timestamp=%{x}<br>rank=%{y}<br>size=%{marker.size}<br>speaker=%{customdata[0]}<br>count=%{customdata[2]}<extra></extra>\",\"hovertext\":[\"Dolly\"],\"legendgroup\":\"whole thing\",\"marker\":{\"color\":\"#636efa\",\"size\":[100],\"sizemode\":\"area\",\"sizeref\":1.0,\"symbol\":\"circle\"},\"mode\":\"markers\",\"name\":\"whole thing\",\"orientation\":\"v\",\"showlegend\":true,\"x\":[892.45],\"xaxis\":\"x\",\"y\":[0.05],\"yaxis\":\"y\",\"type\":\"scatter\"},{\"customdata\":[[\"Dolly\",\"life\",2],[\"Dolly\",\"life\",2]],\"hovertemplate\":\"<b>%{hovertext}</b><br><br>text=%{customdata[1]}<br>timestamp=%{x}<br>rank=%{y}<br>size=%{marker.size}<br>speaker=%{customdata[0]}<br>count=%{customdata[2]}<extra></extra>\",\"hovertext\":[\"Dolly\",\"Dolly\"],\"legendgroup\":\"life\",\"marker\":{\"color\":\"#EF553B\",\"size\":[200,200],\"sizemode\":\"area\",\"sizeref\":1.0,\"symbol\":\"circle\"},\"mode\":\"markers\",\"name\":\"life\",\"orientation\":\"v\",\"showlegend\":true,\"x\":[1337.05,1755.55],\"xaxis\":\"x\",\"y\":[0.05,0.05],\"yaxis\":\"y\",\"type\":\"scatter\"},{\"customdata\":[[\"Dolly\",\"easiest thing\",1]],\"hovertemplate\":\"<b>%{hovertext}</b><br><br>text=%{customdata[1]}<br>timestamp=%{x}<br>rank=%{y}<br>size=%{marker.size}<br>speaker=%{customdata[0]}<br>count=%{customdata[2]}<extra></extra>\",\"hovertext\":[\"Dolly\"],\"legendgroup\":\"easiest thing\",\"marker\":{\"color\":\"#00cc96\",\"size\":[100],\"sizemode\":\"area\",\"sizeref\":1.0,\"symbol\":\"circle\"},\"mode\":\"markers\",\"name\":\"easiest thing\",\"orientation\":\"v\",\"showlegend\":true,\"x\":[1148.2],\"xaxis\":\"x\",\"y\":[0.05],\"yaxis\":\"y\",\"type\":\"scatter\"},{\"customdata\":[[\"Dolly\",\"show business\",1]],\"hovertemplate\":\"<b>%{hovertext}</b><br><br>text=%{customdata[1]}<br>timestamp=%{x}<br>rank=%{y}<br>size=%{marker.size}<br>speaker=%{customdata[0]}<br>count=%{customdata[2]}<extra></extra>\",\"hovertext\":[\"Dolly\"],\"legendgroup\":\"show business\",\"marker\":{\"color\":\"#ab63fa\",\"size\":[100],\"sizemode\":\"area\",\"sizeref\":1.0,\"symbol\":\"circle\"},\"mode\":\"markers\",\"name\":\"show business\",\"orientation\":\"v\",\"showlegend\":true,\"x\":[1411.6],\"xaxis\":\"x\",\"y\":[0.05],\"yaxis\":\"y\",\"type\":\"scatter\"},{\"customdata\":[[\"Barbara\",\"fun\",2],[\"Dolly\",\"fun\",2]],\"hovertemplate\":\"<b>%{hovertext}</b><br><br>text=%{customdata[1]}<br>timestamp=%{x}<br>rank=%{y}<br>size=%{marker.size}<br>speaker=%{customdata[0]}<br>count=%{customdata[2]}<extra></extra>\",\"hovertext\":[\"Barbara\",\"Dolly\"],\"legendgroup\":\"fun\",\"marker\":{\"color\":\"#FFA15A\",\"size\":[200,200],\"sizemode\":\"area\",\"sizeref\":1.0,\"symbol\":\"circle\"},\"mode\":\"markers\",\"name\":\"fun\",\"orientation\":\"v\",\"showlegend\":true,\"x\":[1501.3,1516.3],\"xaxis\":\"x\",\"y\":[0.04,0.04],\"yaxis\":\"y\",\"type\":\"scatter\"}],                        {\"template\":{\"data\":{\"histogram2dcontour\":[{\"type\":\"histogram2dcontour\",\"colorbar\":{\"outlinewidth\":0,\"ticks\":\"\"},\"colorscale\":[[0.0,\"#0d0887\"],[0.1111111111111111,\"#46039f\"],[0.2222222222222222,\"#7201a8\"],[0.3333333333333333,\"#9c179e\"],[0.4444444444444444,\"#bd3786\"],[0.5555555555555556,\"#d8576b\"],[0.6666666666666666,\"#ed7953\"],[0.7777777777777778,\"#fb9f3a\"],[0.8888888888888888,\"#fdca26\"],[1.0,\"#f0f921\"]]}],\"choropleth\":[{\"type\":\"choropleth\",\"colorbar\":{\"outlinewidth\":0,\"ticks\":\"\"}}],\"histogram2d\":[{\"type\":\"histogram2d\",\"colorbar\":{\"outlinewidth\":0,\"ticks\":\"\"},\"colorscale\":[[0.0,\"#0d0887\"],[0.1111111111111111,\"#46039f\"],[0.2222222222222222,\"#7201a8\"],[0.3333333333333333,\"#9c179e\"],[0.4444444444444444,\"#bd3786\"],[0.5555555555555556,\"#d8576b\"],[0.6666666666666666,\"#ed7953\"],[0.7777777777777778,\"#fb9f3a\"],[0.8888888888888888,\"#fdca26\"],[1.0,\"#f0f921\"]]}],\"heatmap\":[{\"type\":\"heatmap\",\"colorbar\":{\"outlinewidth\":0,\"ticks\":\"\"},\"colorscale\":[[0.0,\"#0d0887\"],[0.1111111111111111,\"#46039f\"],[0.2222222222222222,\"#7201a8\"],[0.3333333333333333,\"#9c179e\"],[0.4444444444444444,\"#bd3786\"],[0.5555555555555556,\"#d8576b\"],[0.6666666666666666,\"#ed7953\"],[0.7777777777777778,\"#fb9f3a\"],[0.8888888888888888,\"#fdca26\"],[1.0,\"#f0f921\"]]}],\"heatmapgl\":[{\"type\":\"heatmapgl\",\"colorbar\":{\"outlinewidth\":0,\"ticks\":\"\"},\"colorscale\":[[0.0,\"#0d0887\"],[0.1111111111111111,\"#46039f\"],[0.2222222222222222,\"#7201a8\"],[0.3333333333333333,\"#9c179e\"],[0.4444444444444444,\"#bd3786\"],[0.5555555555555556,\"#d8576b\"],[0.6666666666666666,\"#ed7953\"],[0.7777777777777778,\"#fb9f3a\"],[0.8888888888888888,\"#fdca26\"],[1.0,\"#f0f921\"]]}],\"contourcarpet\":[{\"type\":\"contourcarpet\",\"colorbar\":{\"outlinewidth\":0,\"ticks\":\"\"}}],\"contour\":[{\"type\":\"contour\",\"colorbar\":{\"outlinewidth\":0,\"ticks\":\"\"},\"colorscale\":[[0.0,\"#0d0887\"],[0.1111111111111111,\"#46039f\"],[0.2222222222222222,\"#7201a8\"],[0.3333333333333333,\"#9c179e\"],[0.4444444444444444,\"#bd3786\"],[0.5555555555555556,\"#d8576b\"],[0.6666666666666666,\"#ed7953\"],[0.7777777777777778,\"#fb9f3a\"],[0.8888888888888888,\"#fdca26\"],[1.0,\"#f0f921\"]]}],\"surface\":[{\"type\":\"surface\",\"colorbar\":{\"outlinewidth\":0,\"ticks\":\"\"},\"colorscale\":[[0.0,\"#0d0887\"],[0.1111111111111111,\"#46039f\"],[0.2222222222222222,\"#7201a8\"],[0.3333333333333333,\"#9c179e\"],[0.4444444444444444,\"#bd3786\"],[0.5555555555555556,\"#d8576b\"],[0.6666666666666666,\"#ed7953\"],[0.7777777777777778,\"#fb9f3a\"],[0.8888888888888888,\"#fdca26\"],[1.0,\"#f0f921\"]]}],\"mesh3d\":[{\"type\":\"mesh3d\",\"colorbar\":{\"outlinewidth\":0,\"ticks\":\"\"}}],\"scatter\":[{\"fillpattern\":{\"fillmode\":\"overlay\",\"size\":10,\"solidity\":0.2},\"type\":\"scatter\"}],\"parcoords\":[{\"type\":\"parcoords\",\"line\":{\"colorbar\":{\"outlinewidth\":0,\"ticks\":\"\"}}}],\"scatterpolargl\":[{\"type\":\"scatterpolargl\",\"marker\":{\"colorbar\":{\"outlinewidth\":0,\"ticks\":\"\"}}}],\"bar\":[{\"error_x\":{\"color\":\"#2a3f5f\"},\"error_y\":{\"color\":\"#2a3f5f\"},\"marker\":{\"line\":{\"color\":\"#E5ECF6\",\"width\":0.5},\"pattern\":{\"fillmode\":\"overlay\",\"size\":10,\"solidity\":0.2}},\"type\":\"bar\"}],\"scattergeo\":[{\"type\":\"scattergeo\",\"marker\":{\"colorbar\":{\"outlinewidth\":0,\"ticks\":\"\"}}}],\"scatterpolar\":[{\"type\":\"scatterpolar\",\"marker\":{\"colorbar\":{\"outlinewidth\":0,\"ticks\":\"\"}}}],\"histogram\":[{\"marker\":{\"pattern\":{\"fillmode\":\"overlay\",\"size\":10,\"solidity\":0.2}},\"type\":\"histogram\"}],\"scattergl\":[{\"type\":\"scattergl\",\"marker\":{\"colorbar\":{\"outlinewidth\":0,\"ticks\":\"\"}}}],\"scatter3d\":[{\"type\":\"scatter3d\",\"line\":{\"colorbar\":{\"outlinewidth\":0,\"ticks\":\"\"}},\"marker\":{\"colorbar\":{\"outlinewidth\":0,\"ticks\":\"\"}}}],\"scattermapbox\":[{\"type\":\"scattermapbox\",\"marker\":{\"colorbar\":{\"outlinewidth\":0,\"ticks\":\"\"}}}],\"scatterternary\":[{\"type\":\"scatterternary\",\"marker\":{\"colorbar\":{\"outlinewidth\":0,\"ticks\":\"\"}}}],\"scattercarpet\":[{\"type\":\"scattercarpet\",\"marker\":{\"colorbar\":{\"outlinewidth\":0,\"ticks\":\"\"}}}],\"carpet\":[{\"aaxis\":{\"endlinecolor\":\"#2a3f5f\",\"gridcolor\":\"white\",\"linecolor\":\"white\",\"minorgridcolor\":\"white\",\"startlinecolor\":\"#2a3f5f\"},\"baxis\":{\"endlinecolor\":\"#2a3f5f\",\"gridcolor\":\"white\",\"linecolor\":\"white\",\"minorgridcolor\":\"white\",\"startlinecolor\":\"#2a3f5f\"},\"type\":\"carpet\"}],\"table\":[{\"cells\":{\"fill\":{\"color\":\"#EBF0F8\"},\"line\":{\"color\":\"white\"}},\"header\":{\"fill\":{\"color\":\"#C8D4E3\"},\"line\":{\"color\":\"white\"}},\"type\":\"table\"}],\"barpolar\":[{\"marker\":{\"line\":{\"color\":\"#E5ECF6\",\"width\":0.5},\"pattern\":{\"fillmode\":\"overlay\",\"size\":10,\"solidity\":0.2}},\"type\":\"barpolar\"}],\"pie\":[{\"automargin\":true,\"type\":\"pie\"}]},\"layout\":{\"autotypenumbers\":\"strict\",\"colorway\":[\"#636efa\",\"#EF553B\",\"#00cc96\",\"#ab63fa\",\"#FFA15A\",\"#19d3f3\",\"#FF6692\",\"#B6E880\",\"#FF97FF\",\"#FECB52\"],\"font\":{\"color\":\"#2a3f5f\"},\"hovermode\":\"closest\",\"hoverlabel\":{\"align\":\"left\"},\"paper_bgcolor\":\"white\",\"plot_bgcolor\":\"#E5ECF6\",\"polar\":{\"bgcolor\":\"#E5ECF6\",\"angularaxis\":{\"gridcolor\":\"white\",\"linecolor\":\"white\",\"ticks\":\"\"},\"radialaxis\":{\"gridcolor\":\"white\",\"linecolor\":\"white\",\"ticks\":\"\"}},\"ternary\":{\"bgcolor\":\"#E5ECF6\",\"aaxis\":{\"gridcolor\":\"white\",\"linecolor\":\"white\",\"ticks\":\"\"},\"baxis\":{\"gridcolor\":\"white\",\"linecolor\":\"white\",\"ticks\":\"\"},\"caxis\":{\"gridcolor\":\"white\",\"linecolor\":\"white\",\"ticks\":\"\"}},\"coloraxis\":{\"colorbar\":{\"outlinewidth\":0,\"ticks\":\"\"}},\"colorscale\":{\"sequential\":[[0.0,\"#0d0887\"],[0.1111111111111111,\"#46039f\"],[0.2222222222222222,\"#7201a8\"],[0.3333333333333333,\"#9c179e\"],[0.4444444444444444,\"#bd3786\"],[0.5555555555555556,\"#d8576b\"],[0.6666666666666666,\"#ed7953\"],[0.7777777777777778,\"#fb9f3a\"],[0.8888888888888888,\"#fdca26\"],[1.0,\"#f0f921\"]],\"sequentialminus\":[[0.0,\"#0d0887\"],[0.1111111111111111,\"#46039f\"],[0.2222222222222222,\"#7201a8\"],[0.3333333333333333,\"#9c179e\"],[0.4444444444444444,\"#bd3786\"],[0.5555555555555556,\"#d8576b\"],[0.6666666666666666,\"#ed7953\"],[0.7777777777777778,\"#fb9f3a\"],[0.8888888888888888,\"#fdca26\"],[1.0,\"#f0f921\"]],\"diverging\":[[0,\"#8e0152\"],[0.1,\"#c51b7d\"],[0.2,\"#de77ae\"],[0.3,\"#f1b6da\"],[0.4,\"#fde0ef\"],[0.5,\"#f7f7f7\"],[0.6,\"#e6f5d0\"],[0.7,\"#b8e186\"],[0.8,\"#7fbc41\"],[0.9,\"#4d9221\"],[1,\"#276419\"]]},\"xaxis\":{\"gridcolor\":\"white\",\"linecolor\":\"white\",\"ticks\":\"\",\"title\":{\"standoff\":15},\"zerolinecolor\":\"white\",\"automargin\":true,\"zerolinewidth\":2},\"yaxis\":{\"gridcolor\":\"white\",\"linecolor\":\"white\",\"ticks\":\"\",\"title\":{\"standoff\":15},\"zerolinecolor\":\"white\",\"automargin\":true,\"zerolinewidth\":2},\"scene\":{\"xaxis\":{\"backgroundcolor\":\"#E5ECF6\",\"gridcolor\":\"white\",\"linecolor\":\"white\",\"showbackground\":true,\"ticks\":\"\",\"zerolinecolor\":\"white\",\"gridwidth\":2},\"yaxis\":{\"backgroundcolor\":\"#E5ECF6\",\"gridcolor\":\"white\",\"linecolor\":\"white\",\"showbackground\":true,\"ticks\":\"\",\"zerolinecolor\":\"white\",\"gridwidth\":2},\"zaxis\":{\"backgroundcolor\":\"#E5ECF6\",\"gridcolor\":\"white\",\"linecolor\":\"white\",\"showbackground\":true,\"ticks\":\"\",\"zerolinecolor\":\"white\",\"gridwidth\":2}},\"shapedefaults\":{\"line\":{\"color\":\"#2a3f5f\"}},\"annotationdefaults\":{\"arrowcolor\":\"#2a3f5f\",\"arrowhead\":0,\"arrowwidth\":1},\"geo\":{\"bgcolor\":\"white\",\"landcolor\":\"#E5ECF6\",\"subunitcolor\":\"white\",\"showland\":true,\"showlakes\":true,\"lakecolor\":\"white\"},\"title\":{\"x\":0.05},\"mapbox\":{\"style\":\"light\"}}},\"xaxis\":{\"anchor\":\"y\",\"domain\":[0.0,1.0],\"title\":{\"text\":\"timestamp\"}},\"yaxis\":{\"anchor\":\"x\",\"domain\":[0.0,1.0],\"title\":{\"text\":\"rank\"}},\"legend\":{\"title\":{\"text\":\"text\"},\"tracegroupgap\":0,\"itemsizing\":\"constant\"},\"margin\":{\"t\":60},\"height\":600,\"hoverlabel\":{\"font\":{\"size\":16,\"family\":\"Rockwell\"},\"bgcolor\":\"white\"}},                        {\"responsive\": true}                    ).then(function(){\n",
       "                            \n",
       "var gd = document.getElementById('87c7e04c-64d3-4250-bf56-2a4c3b080420');\n",
       "var x = new MutationObserver(function (mutations, observer) {{\n",
       "        var display = window.getComputedStyle(gd).display;\n",
       "        if (!display || display === 'none') {{\n",
       "            console.log([gd, 'removed!']);\n",
       "            Plotly.purge(gd);\n",
       "            observer.disconnect();\n",
       "        }}\n",
       "}});\n",
       "\n",
       "// Listen for the removal of the full notebook cells\n",
       "var notebookContainer = gd.closest('#notebook-container');\n",
       "if (notebookContainer) {{\n",
       "    x.observe(notebookContainer, {childList: true});\n",
       "}}\n",
       "\n",
       "// Listen for the clearing of the current output cell\n",
       "var outputEl = gd.closest('.output');\n",
       "if (outputEl) {{\n",
       "    x.observe(outputEl, {childList: true});\n",
       "}}\n",
       "\n",
       "                        })                };                });            </script>        </div>"
      ]
     },
     "metadata": {},
     "output_type": "display_data"
    }
   ],
   "source": [
    "fig = px.scatter(data_frame=highlights, x='timestamp', y='rank', color='text', size=gen_count_size(highlights),hover_name='speaker',hover_data={'speaker':True, 'text':True, 'timestamp':True, 'count':True},height=600)\n",
    "fig.update_layout(\n",
    "    hoverlabel=dict(\n",
    "        bgcolor=\"white\",\n",
    "        font_size=16,\n",
    "        font_family=\"Rockwell\"\n",
    "    )\n",
    ")\n",
    "fig.show()"
   ]
  },
  {
   "cell_type": "code",
   "execution_count": null,
   "id": "a7e95f9b-3c27-4748-9e5a-561c8685aeb8",
   "metadata": {},
   "outputs": [],
   "source": []
  }
 ],
 "metadata": {
  "kernelspec": {
   "display_name": "Python 3 (ipykernel)",
   "language": "python",
   "name": "python3"
  },
  "language_info": {
   "codemirror_mode": {
    "name": "ipython",
    "version": 3
   },
   "file_extension": ".py",
   "mimetype": "text/x-python",
   "name": "python",
   "nbconvert_exporter": "python",
   "pygments_lexer": "ipython3",
   "version": "3.10.0"
  }
 },
 "nbformat": 4,
 "nbformat_minor": 5
}
