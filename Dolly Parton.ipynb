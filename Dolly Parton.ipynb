{
 "cells": [
  {
   "cell_type": "code",
   "execution_count": 1,
   "id": "650b2ec6-a98e-4020-8a73-4c8965019b59",
   "metadata": {},
   "outputs": [
    {
     "data": {
      "application/javascript": [
       "(function(root) {\n",
       "  function now() {\n",
       "    return new Date();\n",
       "  }\n",
       "\n",
       "  var force = true;\n",
       "\n",
       "  if (typeof root._bokeh_onload_callbacks === \"undefined\" || force === true) {\n",
       "    root._bokeh_onload_callbacks = [];\n",
       "    root._bokeh_is_loading = undefined;\n",
       "  }\n",
       "\n",
       "  if (typeof (root._bokeh_timeout) === \"undefined\" || force === true) {\n",
       "    root._bokeh_timeout = Date.now() + 5000;\n",
       "    root._bokeh_failed_load = false;\n",
       "  }\n",
       "\n",
       "  function run_callbacks() {\n",
       "    try {\n",
       "      root._bokeh_onload_callbacks.forEach(function(callback) {\n",
       "        if (callback != null)\n",
       "          callback();\n",
       "      });\n",
       "    } finally {\n",
       "      delete root._bokeh_onload_callbacks\n",
       "    }\n",
       "    console.debug(\"Bokeh: all callbacks have finished\");\n",
       "  }\n",
       "\n",
       "  function load_libs(css_urls, js_urls, js_modules, callback) {\n",
       "    if (css_urls == null) css_urls = [];\n",
       "    if (js_urls == null) js_urls = [];\n",
       "    if (js_modules == null) js_modules = [];\n",
       "\n",
       "    root._bokeh_onload_callbacks.push(callback);\n",
       "    if (root._bokeh_is_loading > 0) {\n",
       "      console.debug(\"Bokeh: BokehJS is being loaded, scheduling callback at\", now());\n",
       "      return null;\n",
       "    }\n",
       "    if (js_urls.length === 0 && js_modules.length === 0) {\n",
       "      run_callbacks();\n",
       "      return null;\n",
       "    }\n",
       "    console.debug(\"Bokeh: BokehJS not loaded, scheduling load and callback at\", now());\n",
       "\n",
       "    function on_load() {\n",
       "      root._bokeh_is_loading--;\n",
       "      if (root._bokeh_is_loading === 0) {\n",
       "        console.debug(\"Bokeh: all BokehJS libraries/stylesheets loaded\");\n",
       "        run_callbacks()\n",
       "      }\n",
       "    }\n",
       "\n",
       "    function on_error() {\n",
       "      console.error(\"failed to load \" + url);\n",
       "    }\n",
       "\n",
       "    for (var i = 0; i < css_urls.length; i++) {\n",
       "      var url = css_urls[i];\n",
       "      const element = document.createElement(\"link\");\n",
       "      element.onload = on_load;\n",
       "      element.onerror = on_error;\n",
       "      element.rel = \"stylesheet\";\n",
       "      element.type = \"text/css\";\n",
       "      element.href = url;\n",
       "      console.debug(\"Bokeh: injecting link tag for BokehJS stylesheet: \", url);\n",
       "      document.body.appendChild(element);\n",
       "    }\n",
       "\n",
       "    var skip = [];\n",
       "    if (window.requirejs) {\n",
       "      window.requirejs.config({'packages': {}, 'paths': {'gridstack': 'https://cdn.jsdelivr.net/npm/gridstack@4.2.5/dist/gridstack-h5', 'notyf': 'https://cdn.jsdelivr.net/npm/notyf@3/notyf.min'}, 'shim': {'gridstack': {'exports': 'GridStack'}}});\n",
       "      require([\"gridstack\"], function(GridStack) {\n",
       "\twindow.GridStack = GridStack\n",
       "\ton_load()\n",
       "      })\n",
       "      require([\"notyf\"], function() {\n",
       "\ton_load()\n",
       "      })\n",
       "      root._bokeh_is_loading = css_urls.length + 2;\n",
       "    } else {\n",
       "      root._bokeh_is_loading = css_urls.length + js_urls.length + js_modules.length;\n",
       "    }    if (((window['GridStack'] !== undefined) && (!(window['GridStack'] instanceof HTMLElement))) || window.requirejs) {\n",
       "      var urls = ['https://cdn.holoviz.org/panel/0.14.1/dist/bundled/gridstack/gridstack@4.2.5/dist/gridstack-h5.js'];\n",
       "      for (var i = 0; i < urls.length; i++) {\n",
       "        skip.push(urls[i])\n",
       "      }\n",
       "    }    if (((window['Notyf'] !== undefined) && (!(window['Notyf'] instanceof HTMLElement))) || window.requirejs) {\n",
       "      var urls = ['https://cdn.holoviz.org/panel/0.14.1/dist/bundled/notificationarea/notyf@3/notyf.min.js'];\n",
       "      for (var i = 0; i < urls.length; i++) {\n",
       "        skip.push(urls[i])\n",
       "      }\n",
       "    }    for (var i = 0; i < js_urls.length; i++) {\n",
       "      var url = js_urls[i];\n",
       "      if (skip.indexOf(url) >= 0) {\n",
       "\tif (!window.requirejs) {\n",
       "\t  on_load();\n",
       "\t}\n",
       "\tcontinue;\n",
       "      }\n",
       "      var element = document.createElement('script');\n",
       "      element.onload = on_load;\n",
       "      element.onerror = on_error;\n",
       "      element.async = false;\n",
       "      element.src = url;\n",
       "      console.debug(\"Bokeh: injecting script tag for BokehJS library: \", url);\n",
       "      document.head.appendChild(element);\n",
       "    }\n",
       "    for (var i = 0; i < js_modules.length; i++) {\n",
       "      var url = js_modules[i];\n",
       "      if (skip.indexOf(url) >= 0) {\n",
       "\tif (!window.requirejs) {\n",
       "\t  on_load();\n",
       "\t}\n",
       "\tcontinue;\n",
       "      }\n",
       "      var element = document.createElement('script');\n",
       "      element.onload = on_load;\n",
       "      element.onerror = on_error;\n",
       "      element.async = false;\n",
       "      element.src = url;\n",
       "      element.type = \"module\";\n",
       "      console.debug(\"Bokeh: injecting script tag for BokehJS library: \", url);\n",
       "      document.head.appendChild(element);\n",
       "    }\n",
       "    if (!js_urls.length && !js_modules.length) {\n",
       "      on_load()\n",
       "    }\n",
       "  };\n",
       "\n",
       "  function inject_raw_css(css) {\n",
       "    const element = document.createElement(\"style\");\n",
       "    element.appendChild(document.createTextNode(css));\n",
       "    document.body.appendChild(element);\n",
       "  }\n",
       "\n",
       "  var js_urls = [\"https://cdn.bokeh.org/bokeh/release/bokeh-2.4.3.min.js\", \"https://cdn.bokeh.org/bokeh/release/bokeh-gl-2.4.3.min.js\", \"https://cdn.bokeh.org/bokeh/release/bokeh-widgets-2.4.3.min.js\", \"https://cdn.bokeh.org/bokeh/release/bokeh-tables-2.4.3.min.js\", \"https://cdn.bokeh.org/bokeh/release/bokeh-mathjax-2.4.3.min.js\", \"https://unpkg.com/@holoviz/panel@0.14.1/dist/panel.min.js\"];\n",
       "  var js_modules = [];\n",
       "  var css_urls = [\"https://cdn.holoviz.org/panel/0.14.1/dist/css/alerts.css\", \"https://cdn.holoviz.org/panel/0.14.1/dist/css/card.css\", \"https://cdn.holoviz.org/panel/0.14.1/dist/css/dataframe.css\", \"https://cdn.holoviz.org/panel/0.14.1/dist/css/debugger.css\", \"https://cdn.holoviz.org/panel/0.14.1/dist/css/json.css\", \"https://cdn.holoviz.org/panel/0.14.1/dist/css/loading.css\", \"https://cdn.holoviz.org/panel/0.14.1/dist/css/markdown.css\", \"https://cdn.holoviz.org/panel/0.14.1/dist/css/widgets.css\"];\n",
       "  var inline_js = [    function(Bokeh) {\n",
       "      inject_raw_css(\"\\n    .bk.pn-loading.arc:before {\\n      background-image: url(\\\"data:image/svg+xml;base64,PHN2ZyB4bWxucz0iaHR0cDovL3d3dy53My5vcmcvMjAwMC9zdmciIHN0eWxlPSJtYXJnaW46IGF1dG87IGJhY2tncm91bmQ6IG5vbmU7IGRpc3BsYXk6IGJsb2NrOyBzaGFwZS1yZW5kZXJpbmc6IGF1dG87IiB2aWV3Qm94PSIwIDAgMTAwIDEwMCIgcHJlc2VydmVBc3BlY3RSYXRpbz0ieE1pZFlNaWQiPiAgPGNpcmNsZSBjeD0iNTAiIGN5PSI1MCIgZmlsbD0ibm9uZSIgc3Ryb2tlPSIjYzNjM2MzIiBzdHJva2Utd2lkdGg9IjEwIiByPSIzNSIgc3Ryb2tlLWRhc2hhcnJheT0iMTY0LjkzMzYxNDMxMzQ2NDE1IDU2Ljk3Nzg3MTQzNzgyMTM4Ij4gICAgPGFuaW1hdGVUcmFuc2Zvcm0gYXR0cmlidXRlTmFtZT0idHJhbnNmb3JtIiB0eXBlPSJyb3RhdGUiIHJlcGVhdENvdW50PSJpbmRlZmluaXRlIiBkdXI9IjFzIiB2YWx1ZXM9IjAgNTAgNTA7MzYwIDUwIDUwIiBrZXlUaW1lcz0iMDsxIj48L2FuaW1hdGVUcmFuc2Zvcm0+ICA8L2NpcmNsZT48L3N2Zz4=\\\");\\n      background-size: auto calc(min(50%, 400px));\\n    }\\n    \");\n",
       "    },    function(Bokeh) {\n",
       "      Bokeh.set_log_level(\"info\");\n",
       "    },\n",
       "function(Bokeh) {} // ensure no trailing comma for IE\n",
       "  ];\n",
       "\n",
       "  function run_inline_js() {\n",
       "    if ((root.Bokeh !== undefined) || (force === true)) {\n",
       "      for (var i = 0; i < inline_js.length; i++) {\n",
       "        inline_js[i].call(root, root.Bokeh);\n",
       "      }} else if (Date.now() < root._bokeh_timeout) {\n",
       "      setTimeout(run_inline_js, 100);\n",
       "    } else if (!root._bokeh_failed_load) {\n",
       "      console.log(\"Bokeh: BokehJS failed to load within specified timeout.\");\n",
       "      root._bokeh_failed_load = true;\n",
       "    }\n",
       "  }\n",
       "\n",
       "  if (root._bokeh_is_loading === 0) {\n",
       "    console.debug(\"Bokeh: BokehJS loaded, going straight to plotting\");\n",
       "    run_inline_js();\n",
       "  } else {\n",
       "    load_libs(css_urls, js_urls, js_modules, function() {\n",
       "      console.debug(\"Bokeh: BokehJS plotting callback run at\", now());\n",
       "      run_inline_js();\n",
       "    });\n",
       "  }\n",
       "}(window));"
      ],
      "application/vnd.holoviews_load.v0+json": "(function(root) {\n  function now() {\n    return new Date();\n  }\n\n  var force = true;\n\n  if (typeof root._bokeh_onload_callbacks === \"undefined\" || force === true) {\n    root._bokeh_onload_callbacks = [];\n    root._bokeh_is_loading = undefined;\n  }\n\n  if (typeof (root._bokeh_timeout) === \"undefined\" || force === true) {\n    root._bokeh_timeout = Date.now() + 5000;\n    root._bokeh_failed_load = false;\n  }\n\n  function run_callbacks() {\n    try {\n      root._bokeh_onload_callbacks.forEach(function(callback) {\n        if (callback != null)\n          callback();\n      });\n    } finally {\n      delete root._bokeh_onload_callbacks\n    }\n    console.debug(\"Bokeh: all callbacks have finished\");\n  }\n\n  function load_libs(css_urls, js_urls, js_modules, callback) {\n    if (css_urls == null) css_urls = [];\n    if (js_urls == null) js_urls = [];\n    if (js_modules == null) js_modules = [];\n\n    root._bokeh_onload_callbacks.push(callback);\n    if (root._bokeh_is_loading > 0) {\n      console.debug(\"Bokeh: BokehJS is being loaded, scheduling callback at\", now());\n      return null;\n    }\n    if (js_urls.length === 0 && js_modules.length === 0) {\n      run_callbacks();\n      return null;\n    }\n    console.debug(\"Bokeh: BokehJS not loaded, scheduling load and callback at\", now());\n\n    function on_load() {\n      root._bokeh_is_loading--;\n      if (root._bokeh_is_loading === 0) {\n        console.debug(\"Bokeh: all BokehJS libraries/stylesheets loaded\");\n        run_callbacks()\n      }\n    }\n\n    function on_error() {\n      console.error(\"failed to load \" + url);\n    }\n\n    for (var i = 0; i < css_urls.length; i++) {\n      var url = css_urls[i];\n      const element = document.createElement(\"link\");\n      element.onload = on_load;\n      element.onerror = on_error;\n      element.rel = \"stylesheet\";\n      element.type = \"text/css\";\n      element.href = url;\n      console.debug(\"Bokeh: injecting link tag for BokehJS stylesheet: \", url);\n      document.body.appendChild(element);\n    }\n\n    var skip = [];\n    if (window.requirejs) {\n      window.requirejs.config({'packages': {}, 'paths': {'gridstack': 'https://cdn.jsdelivr.net/npm/gridstack@4.2.5/dist/gridstack-h5', 'notyf': 'https://cdn.jsdelivr.net/npm/notyf@3/notyf.min'}, 'shim': {'gridstack': {'exports': 'GridStack'}}});\n      require([\"gridstack\"], function(GridStack) {\n\twindow.GridStack = GridStack\n\ton_load()\n      })\n      require([\"notyf\"], function() {\n\ton_load()\n      })\n      root._bokeh_is_loading = css_urls.length + 2;\n    } else {\n      root._bokeh_is_loading = css_urls.length + js_urls.length + js_modules.length;\n    }    if (((window['GridStack'] !== undefined) && (!(window['GridStack'] instanceof HTMLElement))) || window.requirejs) {\n      var urls = ['https://cdn.holoviz.org/panel/0.14.1/dist/bundled/gridstack/gridstack@4.2.5/dist/gridstack-h5.js'];\n      for (var i = 0; i < urls.length; i++) {\n        skip.push(urls[i])\n      }\n    }    if (((window['Notyf'] !== undefined) && (!(window['Notyf'] instanceof HTMLElement))) || window.requirejs) {\n      var urls = ['https://cdn.holoviz.org/panel/0.14.1/dist/bundled/notificationarea/notyf@3/notyf.min.js'];\n      for (var i = 0; i < urls.length; i++) {\n        skip.push(urls[i])\n      }\n    }    for (var i = 0; i < js_urls.length; i++) {\n      var url = js_urls[i];\n      if (skip.indexOf(url) >= 0) {\n\tif (!window.requirejs) {\n\t  on_load();\n\t}\n\tcontinue;\n      }\n      var element = document.createElement('script');\n      element.onload = on_load;\n      element.onerror = on_error;\n      element.async = false;\n      element.src = url;\n      console.debug(\"Bokeh: injecting script tag for BokehJS library: \", url);\n      document.head.appendChild(element);\n    }\n    for (var i = 0; i < js_modules.length; i++) {\n      var url = js_modules[i];\n      if (skip.indexOf(url) >= 0) {\n\tif (!window.requirejs) {\n\t  on_load();\n\t}\n\tcontinue;\n      }\n      var element = document.createElement('script');\n      element.onload = on_load;\n      element.onerror = on_error;\n      element.async = false;\n      element.src = url;\n      element.type = \"module\";\n      console.debug(\"Bokeh: injecting script tag for BokehJS library: \", url);\n      document.head.appendChild(element);\n    }\n    if (!js_urls.length && !js_modules.length) {\n      on_load()\n    }\n  };\n\n  function inject_raw_css(css) {\n    const element = document.createElement(\"style\");\n    element.appendChild(document.createTextNode(css));\n    document.body.appendChild(element);\n  }\n\n  var js_urls = [\"https://cdn.bokeh.org/bokeh/release/bokeh-2.4.3.min.js\", \"https://cdn.bokeh.org/bokeh/release/bokeh-gl-2.4.3.min.js\", \"https://cdn.bokeh.org/bokeh/release/bokeh-widgets-2.4.3.min.js\", \"https://cdn.bokeh.org/bokeh/release/bokeh-tables-2.4.3.min.js\", \"https://cdn.bokeh.org/bokeh/release/bokeh-mathjax-2.4.3.min.js\", \"https://unpkg.com/@holoviz/panel@0.14.1/dist/panel.min.js\"];\n  var js_modules = [];\n  var css_urls = [\"https://cdn.holoviz.org/panel/0.14.1/dist/css/alerts.css\", \"https://cdn.holoviz.org/panel/0.14.1/dist/css/card.css\", \"https://cdn.holoviz.org/panel/0.14.1/dist/css/dataframe.css\", \"https://cdn.holoviz.org/panel/0.14.1/dist/css/debugger.css\", \"https://cdn.holoviz.org/panel/0.14.1/dist/css/json.css\", \"https://cdn.holoviz.org/panel/0.14.1/dist/css/loading.css\", \"https://cdn.holoviz.org/panel/0.14.1/dist/css/markdown.css\", \"https://cdn.holoviz.org/panel/0.14.1/dist/css/widgets.css\"];\n  var inline_js = [    function(Bokeh) {\n      inject_raw_css(\"\\n    .bk.pn-loading.arc:before {\\n      background-image: url(\\\"data:image/svg+xml;base64,PHN2ZyB4bWxucz0iaHR0cDovL3d3dy53My5vcmcvMjAwMC9zdmciIHN0eWxlPSJtYXJnaW46IGF1dG87IGJhY2tncm91bmQ6IG5vbmU7IGRpc3BsYXk6IGJsb2NrOyBzaGFwZS1yZW5kZXJpbmc6IGF1dG87IiB2aWV3Qm94PSIwIDAgMTAwIDEwMCIgcHJlc2VydmVBc3BlY3RSYXRpbz0ieE1pZFlNaWQiPiAgPGNpcmNsZSBjeD0iNTAiIGN5PSI1MCIgZmlsbD0ibm9uZSIgc3Ryb2tlPSIjYzNjM2MzIiBzdHJva2Utd2lkdGg9IjEwIiByPSIzNSIgc3Ryb2tlLWRhc2hhcnJheT0iMTY0LjkzMzYxNDMxMzQ2NDE1IDU2Ljk3Nzg3MTQzNzgyMTM4Ij4gICAgPGFuaW1hdGVUcmFuc2Zvcm0gYXR0cmlidXRlTmFtZT0idHJhbnNmb3JtIiB0eXBlPSJyb3RhdGUiIHJlcGVhdENvdW50PSJpbmRlZmluaXRlIiBkdXI9IjFzIiB2YWx1ZXM9IjAgNTAgNTA7MzYwIDUwIDUwIiBrZXlUaW1lcz0iMDsxIj48L2FuaW1hdGVUcmFuc2Zvcm0+ICA8L2NpcmNsZT48L3N2Zz4=\\\");\\n      background-size: auto calc(min(50%, 400px));\\n    }\\n    \");\n    },    function(Bokeh) {\n      Bokeh.set_log_level(\"info\");\n    },\nfunction(Bokeh) {} // ensure no trailing comma for IE\n  ];\n\n  function run_inline_js() {\n    if ((root.Bokeh !== undefined) || (force === true)) {\n      for (var i = 0; i < inline_js.length; i++) {\n        inline_js[i].call(root, root.Bokeh);\n      }} else if (Date.now() < root._bokeh_timeout) {\n      setTimeout(run_inline_js, 100);\n    } else if (!root._bokeh_failed_load) {\n      console.log(\"Bokeh: BokehJS failed to load within specified timeout.\");\n      root._bokeh_failed_load = true;\n    }\n  }\n\n  if (root._bokeh_is_loading === 0) {\n    console.debug(\"Bokeh: BokehJS loaded, going straight to plotting\");\n    run_inline_js();\n  } else {\n    load_libs(css_urls, js_urls, js_modules, function() {\n      console.debug(\"Bokeh: BokehJS plotting callback run at\", now());\n      run_inline_js();\n    });\n  }\n}(window));"
     },
     "metadata": {},
     "output_type": "display_data"
    },
    {
     "data": {
      "application/javascript": [
       "\n",
       "if ((window.PyViz === undefined) || (window.PyViz instanceof HTMLElement)) {\n",
       "  window.PyViz = {comms: {}, comm_status:{}, kernels:{}, receivers: {}, plot_index: []}\n",
       "}\n",
       "\n",
       "\n",
       "    function JupyterCommManager() {\n",
       "    }\n",
       "\n",
       "    JupyterCommManager.prototype.register_target = function(plot_id, comm_id, msg_handler) {\n",
       "      if (window.comm_manager || ((window.Jupyter !== undefined) && (Jupyter.notebook.kernel != null))) {\n",
       "        var comm_manager = window.comm_manager || Jupyter.notebook.kernel.comm_manager;\n",
       "        comm_manager.register_target(comm_id, function(comm) {\n",
       "          comm.on_msg(msg_handler);\n",
       "        });\n",
       "      } else if ((plot_id in window.PyViz.kernels) && (window.PyViz.kernels[plot_id])) {\n",
       "        window.PyViz.kernels[plot_id].registerCommTarget(comm_id, function(comm) {\n",
       "          comm.onMsg = msg_handler;\n",
       "        });\n",
       "      } else if (typeof google != 'undefined' && google.colab.kernel != null) {\n",
       "        google.colab.kernel.comms.registerTarget(comm_id, (comm) => {\n",
       "          var messages = comm.messages[Symbol.asyncIterator]();\n",
       "          function processIteratorResult(result) {\n",
       "            var message = result.value;\n",
       "            console.log(message)\n",
       "            var content = {data: message.data, comm_id};\n",
       "            var buffers = []\n",
       "            for (var buffer of message.buffers || []) {\n",
       "              buffers.push(new DataView(buffer))\n",
       "            }\n",
       "            var metadata = message.metadata || {};\n",
       "            var msg = {content, buffers, metadata}\n",
       "            msg_handler(msg);\n",
       "            return messages.next().then(processIteratorResult);\n",
       "          }\n",
       "          return messages.next().then(processIteratorResult);\n",
       "        })\n",
       "      }\n",
       "    }\n",
       "\n",
       "    JupyterCommManager.prototype.get_client_comm = function(plot_id, comm_id, msg_handler) {\n",
       "      if (comm_id in window.PyViz.comms) {\n",
       "        return window.PyViz.comms[comm_id];\n",
       "      } else if (window.comm_manager || ((window.Jupyter !== undefined) && (Jupyter.notebook.kernel != null))) {\n",
       "        var comm_manager = window.comm_manager || Jupyter.notebook.kernel.comm_manager;\n",
       "        var comm = comm_manager.new_comm(comm_id, {}, {}, {}, comm_id);\n",
       "        if (msg_handler) {\n",
       "          comm.on_msg(msg_handler);\n",
       "        }\n",
       "      } else if ((plot_id in window.PyViz.kernels) && (window.PyViz.kernels[plot_id])) {\n",
       "        var comm = window.PyViz.kernels[plot_id].connectToComm(comm_id);\n",
       "        comm.open();\n",
       "        if (msg_handler) {\n",
       "          comm.onMsg = msg_handler;\n",
       "        }\n",
       "      } else if (typeof google != 'undefined' && google.colab.kernel != null) {\n",
       "        var comm_promise = google.colab.kernel.comms.open(comm_id)\n",
       "        comm_promise.then((comm) => {\n",
       "          window.PyViz.comms[comm_id] = comm;\n",
       "          if (msg_handler) {\n",
       "            var messages = comm.messages[Symbol.asyncIterator]();\n",
       "            function processIteratorResult(result) {\n",
       "              var message = result.value;\n",
       "              var content = {data: message.data};\n",
       "              var metadata = message.metadata || {comm_id};\n",
       "              var msg = {content, metadata}\n",
       "              msg_handler(msg);\n",
       "              return messages.next().then(processIteratorResult);\n",
       "            }\n",
       "            return messages.next().then(processIteratorResult);\n",
       "          }\n",
       "        }) \n",
       "        var sendClosure = (data, metadata, buffers, disposeOnDone) => {\n",
       "          return comm_promise.then((comm) => {\n",
       "            comm.send(data, metadata, buffers, disposeOnDone);\n",
       "          });\n",
       "        };\n",
       "        var comm = {\n",
       "          send: sendClosure\n",
       "        };\n",
       "      }\n",
       "      window.PyViz.comms[comm_id] = comm;\n",
       "      return comm;\n",
       "    }\n",
       "    window.PyViz.comm_manager = new JupyterCommManager();\n",
       "    \n",
       "\n",
       "\n",
       "var JS_MIME_TYPE = 'application/javascript';\n",
       "var HTML_MIME_TYPE = 'text/html';\n",
       "var EXEC_MIME_TYPE = 'application/vnd.holoviews_exec.v0+json';\n",
       "var CLASS_NAME = 'output';\n",
       "\n",
       "/**\n",
       " * Render data to the DOM node\n",
       " */\n",
       "function render(props, node) {\n",
       "  var div = document.createElement(\"div\");\n",
       "  var script = document.createElement(\"script\");\n",
       "  node.appendChild(div);\n",
       "  node.appendChild(script);\n",
       "}\n",
       "\n",
       "/**\n",
       " * Handle when a new output is added\n",
       " */\n",
       "function handle_add_output(event, handle) {\n",
       "  var output_area = handle.output_area;\n",
       "  var output = handle.output;\n",
       "  if ((output.data == undefined) || (!output.data.hasOwnProperty(EXEC_MIME_TYPE))) {\n",
       "    return\n",
       "  }\n",
       "  var id = output.metadata[EXEC_MIME_TYPE][\"id\"];\n",
       "  var toinsert = output_area.element.find(\".\" + CLASS_NAME.split(' ')[0]);\n",
       "  if (id !== undefined) {\n",
       "    var nchildren = toinsert.length;\n",
       "    var html_node = toinsert[nchildren-1].children[0];\n",
       "    html_node.innerHTML = output.data[HTML_MIME_TYPE];\n",
       "    var scripts = [];\n",
       "    var nodelist = html_node.querySelectorAll(\"script\");\n",
       "    for (var i in nodelist) {\n",
       "      if (nodelist.hasOwnProperty(i)) {\n",
       "        scripts.push(nodelist[i])\n",
       "      }\n",
       "    }\n",
       "\n",
       "    scripts.forEach( function (oldScript) {\n",
       "      var newScript = document.createElement(\"script\");\n",
       "      var attrs = [];\n",
       "      var nodemap = oldScript.attributes;\n",
       "      for (var j in nodemap) {\n",
       "        if (nodemap.hasOwnProperty(j)) {\n",
       "          attrs.push(nodemap[j])\n",
       "        }\n",
       "      }\n",
       "      attrs.forEach(function(attr) { newScript.setAttribute(attr.name, attr.value) });\n",
       "      newScript.appendChild(document.createTextNode(oldScript.innerHTML));\n",
       "      oldScript.parentNode.replaceChild(newScript, oldScript);\n",
       "    });\n",
       "    if (JS_MIME_TYPE in output.data) {\n",
       "      toinsert[nchildren-1].children[1].textContent = output.data[JS_MIME_TYPE];\n",
       "    }\n",
       "    output_area._hv_plot_id = id;\n",
       "    if ((window.Bokeh !== undefined) && (id in Bokeh.index)) {\n",
       "      window.PyViz.plot_index[id] = Bokeh.index[id];\n",
       "    } else {\n",
       "      window.PyViz.plot_index[id] = null;\n",
       "    }\n",
       "  } else if (output.metadata[EXEC_MIME_TYPE][\"server_id\"] !== undefined) {\n",
       "    var bk_div = document.createElement(\"div\");\n",
       "    bk_div.innerHTML = output.data[HTML_MIME_TYPE];\n",
       "    var script_attrs = bk_div.children[0].attributes;\n",
       "    for (var i = 0; i < script_attrs.length; i++) {\n",
       "      toinsert[toinsert.length - 1].childNodes[1].setAttribute(script_attrs[i].name, script_attrs[i].value);\n",
       "    }\n",
       "    // store reference to server id on output_area\n",
       "    output_area._bokeh_server_id = output.metadata[EXEC_MIME_TYPE][\"server_id\"];\n",
       "  }\n",
       "}\n",
       "\n",
       "/**\n",
       " * Handle when an output is cleared or removed\n",
       " */\n",
       "function handle_clear_output(event, handle) {\n",
       "  var id = handle.cell.output_area._hv_plot_id;\n",
       "  var server_id = handle.cell.output_area._bokeh_server_id;\n",
       "  if (((id === undefined) || !(id in PyViz.plot_index)) && (server_id !== undefined)) { return; }\n",
       "  var comm = window.PyViz.comm_manager.get_client_comm(\"hv-extension-comm\", \"hv-extension-comm\", function () {});\n",
       "  if (server_id !== null) {\n",
       "    comm.send({event_type: 'server_delete', 'id': server_id});\n",
       "    return;\n",
       "  } else if (comm !== null) {\n",
       "    comm.send({event_type: 'delete', 'id': id});\n",
       "  }\n",
       "  delete PyViz.plot_index[id];\n",
       "  if ((window.Bokeh !== undefined) & (id in window.Bokeh.index)) {\n",
       "    var doc = window.Bokeh.index[id].model.document\n",
       "    doc.clear();\n",
       "    const i = window.Bokeh.documents.indexOf(doc);\n",
       "    if (i > -1) {\n",
       "      window.Bokeh.documents.splice(i, 1);\n",
       "    }\n",
       "  }\n",
       "}\n",
       "\n",
       "/**\n",
       " * Handle kernel restart event\n",
       " */\n",
       "function handle_kernel_cleanup(event, handle) {\n",
       "  delete PyViz.comms[\"hv-extension-comm\"];\n",
       "  window.PyViz.plot_index = {}\n",
       "}\n",
       "\n",
       "/**\n",
       " * Handle update_display_data messages\n",
       " */\n",
       "function handle_update_output(event, handle) {\n",
       "  handle_clear_output(event, {cell: {output_area: handle.output_area}})\n",
       "  handle_add_output(event, handle)\n",
       "}\n",
       "\n",
       "function register_renderer(events, OutputArea) {\n",
       "  function append_mime(data, metadata, element) {\n",
       "    // create a DOM node to render to\n",
       "    var toinsert = this.create_output_subarea(\n",
       "    metadata,\n",
       "    CLASS_NAME,\n",
       "    EXEC_MIME_TYPE\n",
       "    );\n",
       "    this.keyboard_manager.register_events(toinsert);\n",
       "    // Render to node\n",
       "    var props = {data: data, metadata: metadata[EXEC_MIME_TYPE]};\n",
       "    render(props, toinsert[0]);\n",
       "    element.append(toinsert);\n",
       "    return toinsert\n",
       "  }\n",
       "\n",
       "  events.on('output_added.OutputArea', handle_add_output);\n",
       "  events.on('output_updated.OutputArea', handle_update_output);\n",
       "  events.on('clear_output.CodeCell', handle_clear_output);\n",
       "  events.on('delete.Cell', handle_clear_output);\n",
       "  events.on('kernel_ready.Kernel', handle_kernel_cleanup);\n",
       "\n",
       "  OutputArea.prototype.register_mime_type(EXEC_MIME_TYPE, append_mime, {\n",
       "    safe: true,\n",
       "    index: 0\n",
       "  });\n",
       "}\n",
       "\n",
       "if (window.Jupyter !== undefined) {\n",
       "  try {\n",
       "    var events = require('base/js/events');\n",
       "    var OutputArea = require('notebook/js/outputarea').OutputArea;\n",
       "    if (OutputArea.prototype.mime_types().indexOf(EXEC_MIME_TYPE) == -1) {\n",
       "      register_renderer(events, OutputArea);\n",
       "    }\n",
       "  } catch(err) {\n",
       "  }\n",
       "}\n"
      ],
      "application/vnd.holoviews_load.v0+json": "\nif ((window.PyViz === undefined) || (window.PyViz instanceof HTMLElement)) {\n  window.PyViz = {comms: {}, comm_status:{}, kernels:{}, receivers: {}, plot_index: []}\n}\n\n\n    function JupyterCommManager() {\n    }\n\n    JupyterCommManager.prototype.register_target = function(plot_id, comm_id, msg_handler) {\n      if (window.comm_manager || ((window.Jupyter !== undefined) && (Jupyter.notebook.kernel != null))) {\n        var comm_manager = window.comm_manager || Jupyter.notebook.kernel.comm_manager;\n        comm_manager.register_target(comm_id, function(comm) {\n          comm.on_msg(msg_handler);\n        });\n      } else if ((plot_id in window.PyViz.kernels) && (window.PyViz.kernels[plot_id])) {\n        window.PyViz.kernels[plot_id].registerCommTarget(comm_id, function(comm) {\n          comm.onMsg = msg_handler;\n        });\n      } else if (typeof google != 'undefined' && google.colab.kernel != null) {\n        google.colab.kernel.comms.registerTarget(comm_id, (comm) => {\n          var messages = comm.messages[Symbol.asyncIterator]();\n          function processIteratorResult(result) {\n            var message = result.value;\n            console.log(message)\n            var content = {data: message.data, comm_id};\n            var buffers = []\n            for (var buffer of message.buffers || []) {\n              buffers.push(new DataView(buffer))\n            }\n            var metadata = message.metadata || {};\n            var msg = {content, buffers, metadata}\n            msg_handler(msg);\n            return messages.next().then(processIteratorResult);\n          }\n          return messages.next().then(processIteratorResult);\n        })\n      }\n    }\n\n    JupyterCommManager.prototype.get_client_comm = function(plot_id, comm_id, msg_handler) {\n      if (comm_id in window.PyViz.comms) {\n        return window.PyViz.comms[comm_id];\n      } else if (window.comm_manager || ((window.Jupyter !== undefined) && (Jupyter.notebook.kernel != null))) {\n        var comm_manager = window.comm_manager || Jupyter.notebook.kernel.comm_manager;\n        var comm = comm_manager.new_comm(comm_id, {}, {}, {}, comm_id);\n        if (msg_handler) {\n          comm.on_msg(msg_handler);\n        }\n      } else if ((plot_id in window.PyViz.kernels) && (window.PyViz.kernels[plot_id])) {\n        var comm = window.PyViz.kernels[plot_id].connectToComm(comm_id);\n        comm.open();\n        if (msg_handler) {\n          comm.onMsg = msg_handler;\n        }\n      } else if (typeof google != 'undefined' && google.colab.kernel != null) {\n        var comm_promise = google.colab.kernel.comms.open(comm_id)\n        comm_promise.then((comm) => {\n          window.PyViz.comms[comm_id] = comm;\n          if (msg_handler) {\n            var messages = comm.messages[Symbol.asyncIterator]();\n            function processIteratorResult(result) {\n              var message = result.value;\n              var content = {data: message.data};\n              var metadata = message.metadata || {comm_id};\n              var msg = {content, metadata}\n              msg_handler(msg);\n              return messages.next().then(processIteratorResult);\n            }\n            return messages.next().then(processIteratorResult);\n          }\n        }) \n        var sendClosure = (data, metadata, buffers, disposeOnDone) => {\n          return comm_promise.then((comm) => {\n            comm.send(data, metadata, buffers, disposeOnDone);\n          });\n        };\n        var comm = {\n          send: sendClosure\n        };\n      }\n      window.PyViz.comms[comm_id] = comm;\n      return comm;\n    }\n    window.PyViz.comm_manager = new JupyterCommManager();\n    \n\n\nvar JS_MIME_TYPE = 'application/javascript';\nvar HTML_MIME_TYPE = 'text/html';\nvar EXEC_MIME_TYPE = 'application/vnd.holoviews_exec.v0+json';\nvar CLASS_NAME = 'output';\n\n/**\n * Render data to the DOM node\n */\nfunction render(props, node) {\n  var div = document.createElement(\"div\");\n  var script = document.createElement(\"script\");\n  node.appendChild(div);\n  node.appendChild(script);\n}\n\n/**\n * Handle when a new output is added\n */\nfunction handle_add_output(event, handle) {\n  var output_area = handle.output_area;\n  var output = handle.output;\n  if ((output.data == undefined) || (!output.data.hasOwnProperty(EXEC_MIME_TYPE))) {\n    return\n  }\n  var id = output.metadata[EXEC_MIME_TYPE][\"id\"];\n  var toinsert = output_area.element.find(\".\" + CLASS_NAME.split(' ')[0]);\n  if (id !== undefined) {\n    var nchildren = toinsert.length;\n    var html_node = toinsert[nchildren-1].children[0];\n    html_node.innerHTML = output.data[HTML_MIME_TYPE];\n    var scripts = [];\n    var nodelist = html_node.querySelectorAll(\"script\");\n    for (var i in nodelist) {\n      if (nodelist.hasOwnProperty(i)) {\n        scripts.push(nodelist[i])\n      }\n    }\n\n    scripts.forEach( function (oldScript) {\n      var newScript = document.createElement(\"script\");\n      var attrs = [];\n      var nodemap = oldScript.attributes;\n      for (var j in nodemap) {\n        if (nodemap.hasOwnProperty(j)) {\n          attrs.push(nodemap[j])\n        }\n      }\n      attrs.forEach(function(attr) { newScript.setAttribute(attr.name, attr.value) });\n      newScript.appendChild(document.createTextNode(oldScript.innerHTML));\n      oldScript.parentNode.replaceChild(newScript, oldScript);\n    });\n    if (JS_MIME_TYPE in output.data) {\n      toinsert[nchildren-1].children[1].textContent = output.data[JS_MIME_TYPE];\n    }\n    output_area._hv_plot_id = id;\n    if ((window.Bokeh !== undefined) && (id in Bokeh.index)) {\n      window.PyViz.plot_index[id] = Bokeh.index[id];\n    } else {\n      window.PyViz.plot_index[id] = null;\n    }\n  } else if (output.metadata[EXEC_MIME_TYPE][\"server_id\"] !== undefined) {\n    var bk_div = document.createElement(\"div\");\n    bk_div.innerHTML = output.data[HTML_MIME_TYPE];\n    var script_attrs = bk_div.children[0].attributes;\n    for (var i = 0; i < script_attrs.length; i++) {\n      toinsert[toinsert.length - 1].childNodes[1].setAttribute(script_attrs[i].name, script_attrs[i].value);\n    }\n    // store reference to server id on output_area\n    output_area._bokeh_server_id = output.metadata[EXEC_MIME_TYPE][\"server_id\"];\n  }\n}\n\n/**\n * Handle when an output is cleared or removed\n */\nfunction handle_clear_output(event, handle) {\n  var id = handle.cell.output_area._hv_plot_id;\n  var server_id = handle.cell.output_area._bokeh_server_id;\n  if (((id === undefined) || !(id in PyViz.plot_index)) && (server_id !== undefined)) { return; }\n  var comm = window.PyViz.comm_manager.get_client_comm(\"hv-extension-comm\", \"hv-extension-comm\", function () {});\n  if (server_id !== null) {\n    comm.send({event_type: 'server_delete', 'id': server_id});\n    return;\n  } else if (comm !== null) {\n    comm.send({event_type: 'delete', 'id': id});\n  }\n  delete PyViz.plot_index[id];\n  if ((window.Bokeh !== undefined) & (id in window.Bokeh.index)) {\n    var doc = window.Bokeh.index[id].model.document\n    doc.clear();\n    const i = window.Bokeh.documents.indexOf(doc);\n    if (i > -1) {\n      window.Bokeh.documents.splice(i, 1);\n    }\n  }\n}\n\n/**\n * Handle kernel restart event\n */\nfunction handle_kernel_cleanup(event, handle) {\n  delete PyViz.comms[\"hv-extension-comm\"];\n  window.PyViz.plot_index = {}\n}\n\n/**\n * Handle update_display_data messages\n */\nfunction handle_update_output(event, handle) {\n  handle_clear_output(event, {cell: {output_area: handle.output_area}})\n  handle_add_output(event, handle)\n}\n\nfunction register_renderer(events, OutputArea) {\n  function append_mime(data, metadata, element) {\n    // create a DOM node to render to\n    var toinsert = this.create_output_subarea(\n    metadata,\n    CLASS_NAME,\n    EXEC_MIME_TYPE\n    );\n    this.keyboard_manager.register_events(toinsert);\n    // Render to node\n    var props = {data: data, metadata: metadata[EXEC_MIME_TYPE]};\n    render(props, toinsert[0]);\n    element.append(toinsert);\n    return toinsert\n  }\n\n  events.on('output_added.OutputArea', handle_add_output);\n  events.on('output_updated.OutputArea', handle_update_output);\n  events.on('clear_output.CodeCell', handle_clear_output);\n  events.on('delete.Cell', handle_clear_output);\n  events.on('kernel_ready.Kernel', handle_kernel_cleanup);\n\n  OutputArea.prototype.register_mime_type(EXEC_MIME_TYPE, append_mime, {\n    safe: true,\n    index: 0\n  });\n}\n\nif (window.Jupyter !== undefined) {\n  try {\n    var events = require('base/js/events');\n    var OutputArea = require('notebook/js/outputarea').OutputArea;\n    if (OutputArea.prototype.mime_types().indexOf(EXEC_MIME_TYPE) == -1) {\n      register_renderer(events, OutputArea);\n    }\n  } catch(err) {\n  }\n}\n"
     },
     "metadata": {},
     "output_type": "display_data"
    },
    {
     "data": {
      "text/html": [
       "<style>.bk-root, .bk-root .bk:before, .bk-root .bk:after {\n",
       "  font-family: var(--jp-ui-font-size1);\n",
       "  font-size: var(--jp-ui-font-size1);\n",
       "  color: var(--jp-ui-font-color1);\n",
       "}\n",
       "</style>"
      ]
     },
     "metadata": {},
     "output_type": "display_data"
    }
   ],
   "source": [
    "import requests\n",
    "import os\n",
    "from IPython.display import JSON\n",
    "import pandas as pd\n",
    "import numpy as np\n",
    "import time\n",
    "\n",
    "from wordcloud import WordCloud, STOPWORDS\n",
    "import plotly.express as px\n",
    "\n",
    "import panel as pn\n",
    "pn.extension()\n",
    "import param\n",
    "import hvplot.pandas\n",
    "\n",
    "import pickle\n",
    "from io import StringIO"
   ]
  },
  {
   "cell_type": "code",
   "execution_count": 2,
   "id": "d17c49f0-7634-462b-91c0-d47f8304529f",
   "metadata": {},
   "outputs": [],
   "source": [
    "APIKEY = os.environ.get('ASSEMBLYAI_APIKEY')"
   ]
  },
  {
   "cell_type": "markdown",
   "id": "4f71a4bc-9fe8-4095-969c-29dcf879b7fe",
   "metadata": {},
   "source": [
    "## Upload file"
   ]
  },
  {
   "cell_type": "code",
   "execution_count": 16,
   "id": "798c57d4-398e-4c5a-9824-2b9a6349a52d",
   "metadata": {},
   "outputs": [],
   "source": [
    "# filename = \"Audio/Dolly Shuts Down Patronising Interview In Style.mp4\"\n",
    "# def read_file(filename, chunk_size=5242880):\n",
    "#     with open(filename, 'rb') as _file:\n",
    "#         while True:\n",
    "#             data = _file.read(chunk_size)\n",
    "#             if not data:\n",
    "#                 break\n",
    "#             yield data\n",
    "\n",
    "# headers = {'authorization': APIKEY}\n",
    "# response = requests.post('https://api.assemblyai.com/v2/upload',\n",
    "#                         headers=headers,\n",
    "#                         data=read_file(filename))\n",
    "\n",
    "# audio_url = response.json()['upload_url']"
   ]
  },
  {
   "cell_type": "markdown",
   "id": "5628c582-fd80-4e8e-afdd-ddb92b70883b",
   "metadata": {},
   "source": [
    "## Submit for Transcription"
   ]
  },
  {
   "cell_type": "code",
   "execution_count": 15,
   "id": "2382c377-b948-4ed2-af7b-47bcf9af19f5",
   "metadata": {},
   "outputs": [],
   "source": [
    "# endpoint = \"https://api.assemblyai.com/v2/transcript\"\n",
    "# json = {\n",
    "#     \"audio_url\": audio_url,\n",
    "#     \"speaker_labels\":True,\n",
    "#     \"auto_highlights\": True,\n",
    "#     \"sentiment_analysis\":True,\n",
    "#     \"iab_categories\":True\n",
    "    \n",
    "# }\n",
    "# headers = {\n",
    "#     \"authorization\": APIKEY,\n",
    "#     \"content-type\": \"application/json\"\n",
    "# }\n",
    "# response = requests.post(endpoint, json=json, headers=headers)\n",
    "# print(response.json())"
   ]
  },
  {
   "cell_type": "markdown",
   "id": "50d037c0-60be-42d2-9791-8395889ffb3f",
   "metadata": {},
   "source": [
    "## Get Transcription Result"
   ]
  },
  {
   "cell_type": "code",
   "execution_count": 13,
   "id": "5a0d8d0d-859f-4ed4-b913-46fd316f2fbe",
   "metadata": {},
   "outputs": [],
   "source": [
    "# result_endpoint = f'{endpoint}/{response.json()[\"id\"]}'\n",
    "# headers_auth = {\n",
    "#     \"authorization\": APIKEY,\n",
    "# }\n",
    "# transcript_response = requests.get(result_endpoint, headers=headers_auth)\n",
    "# print(transcript_response.json())\n",
    "\n",
    "# while response.json()['status'] != \"completed\":\n",
    "#     response = requests.get(result_endpoint, headers=headers_auth)\n",
    "#     time.sleep(5)"
   ]
  },
  {
   "cell_type": "code",
   "execution_count": 29,
   "id": "6e394ac1-5f79-41c0-a5b9-c9d265d54d71",
   "metadata": {},
   "outputs": [
    {
     "name": "stdout",
     "output_type": "stream",
     "text": [
      "{'text': 'If you had of it would have been something very natural but I would have probably kicked your shins or something.', 'start': 5307, 'end': 10550, 'sentiment': 'NEGATIVE', 'confidence': 0.5358942747116089, 'speaker': 'B'}\n",
      "{'text': 'They took that kind of thing from people like us.', 'start': 22555, 'end': 26992, 'sentiment': 'NEGATIVE', 'confidence': 0.6504906415939331, 'speaker': 'B'}\n",
      "{'text': \"My assistant asked me something and I'm going to blame it on her because I wouldn't have had the nerve otherwise.\", 'start': 72262, 'end': 77172, 'sentiment': 'NEGATIVE', 'confidence': 0.5965232849121094, 'speaker': 'A'}\n",
      "{'text': \"Well, I can't show you.\", 'start': 79762, 'end': 81217, 'sentiment': 'NEGATIVE', 'confidence': 0.5410354733467102, 'speaker': 'B'}\n",
      "{'text': \"I don't like to be like everybody else.\", 'start': 108162, 'end': 110422, 'sentiment': 'NEGATIVE', 'confidence': 0.7588388919830322, 'speaker': 'B'}\n",
      "{'text': \"But do you ever feel that you're a joke?\", 'start': 146887, 'end': 149292, 'sentiment': 'NEGATIVE', 'confidence': 0.6296707987785339, 'speaker': 'A'}\n",
      "{'text': 'That people make fun of you?', 'start': 149352, 'end': 150742, 'sentiment': 'NEGATIVE', 'confidence': 0.6824779510498047, 'speaker': 'A'}\n",
      "{'text': \"See, the thing of it is you don't find a person that you can be happy with and they can't accept you.\", 'start': 220182, 'end': 224977, 'sentiment': 'NEGATIVE', 'confidence': 0.5610052347183228, 'speaker': 'B'}\n",
      "{'text': \"I've got better things to do than to sit around in my room thinking, oh, it's Carl doing tonight.\", 'start': 234717, 'end': 238872, 'sentiment': 'NEGATIVE', 'confidence': 0.5436835289001465, 'speaker': 'B'}\n"
     ]
    }
   ],
   "source": [
    "# for u in transcript_response.json()['utterances']:\n",
    "#     print(u['speaker'])\n",
    "#     print(u['text'])\n",
    "for u in transcript_response.json()['sentiment_analysis_results']:\n",
    "    if u['sentiment'] == 'NEGATIVE':\n",
    "        print(u)"
   ]
  },
  {
   "cell_type": "code",
   "execution_count": 14,
   "id": "aab995e2-37c6-4b31-9915-1b6dc272edd4",
   "metadata": {},
   "outputs": [
    {
     "data": {
      "application/json": {
       "acoustic_model": "assemblyai_default",
       "audio_duration": 241,
       "audio_end_at": null,
       "audio_start_from": null,
       "audio_url": "https://cdn.assemblyai.com/upload/1dd6646b-0e26-47e0-b325-28ccedb99f21",
       "auto_chapters": false,
       "auto_highlights": true,
       "auto_highlights_result": {
        "results": [
         {
          "count": 1,
          "rank": 0.08,
          "text": "better things",
          "timestamps": [
           {
            "end": 235597,
            "start": 235120
           }
          ]
         },
         {
          "count": 1,
          "rank": 0.07,
          "text": "Good common sense horse",
          "timestamps": [
           {
            "end": 41772,
            "start": 40467
           }
          ]
         },
         {
          "count": 1,
          "rank": 0.06,
          "text": "more jokes",
          "timestamps": [
           {
            "end": 163047,
            "start": 162655
           }
          ]
         },
         {
          "count": 4,
          "rank": 0.06,
          "text": "freedom",
          "timestamps": [
           {
            "end": 209202,
            "start": 208615
           },
           {
            "end": 210762,
            "start": 210280
           },
           {
            "end": 215697,
            "start": 215395
           },
           {
            "end": 220152,
            "start": 219865
           }
          ]
         },
         {
          "count": 1,
          "rank": 0.05,
          "text": "very proud people",
          "timestamps": [
           {
            "end": 29497,
            "start": 28105
           }
          ]
         },
         {
          "count": 1,
          "rank": 0.05,
          "text": "country class",
          "timestamps": [
           {
            "end": 32137,
            "start": 31405
           }
          ]
         },
         {
          "count": 1,
          "rank": 0.05,
          "text": "Paul Dean",
          "timestamps": [
           {
            "end": 197832,
            "start": 196810
           }
          ]
         },
         {
          "count": 4,
          "rank": 0.05,
          "text": "person",
          "timestamps": [
           {
            "end": 96742,
            "start": 96535
           },
           {
            "end": 169522,
            "start": 169135
           },
           {
            "end": 178717,
            "start": 178495
           },
           {
            "end": 222262,
            "start": 221995
           }
          ]
         },
         {
          "count": 2,
          "rank": 0.05,
          "text": "clothes",
          "timestamps": [
           {
            "end": 105222,
            "start": 104817
           },
           {
            "end": 184152,
            "start": 183820
           }
          ]
         },
         {
          "count": 1,
          "rank": 0.05,
          "text": "Other members",
          "timestamps": [
           {
            "end": 69142,
            "start": 68362
           }
          ]
         },
         {
          "count": 1,
          "rank": 0.05,
          "text": "whole thing",
          "timestamps": [
           {
            "end": 89737,
            "start": 89245
           }
          ]
         },
         {
          "count": 2,
          "rank": 0.05,
          "text": "life",
          "timestamps": [
           {
            "end": 133942,
            "start": 133705
           },
           {
            "end": 175792,
            "start": 175555
           }
          ]
         },
         {
          "count": 1,
          "rank": 0.05,
          "text": "easiest thing",
          "timestamps": [
           {
            "end": 115327,
            "start": 114820
           }
          ]
         },
         {
          "count": 1,
          "rank": 0.05,
          "text": "show business",
          "timestamps": [
           {
            "end": 141787,
            "start": 141160
           }
          ]
         },
         {
          "count": 2,
          "rank": 0.04,
          "text": "fun",
          "timestamps": [
           {
            "end": 150277,
            "start": 150130
           },
           {
            "end": 151777,
            "start": 151630
           }
          ]
         }
        ],
        "status": "success"
       },
       "boost_param": null,
       "chapters": null,
       "cluster_id": null,
       "confidence": 0.91761202669903,
       "content_safety": false,
       "content_safety_labels": {
        "results": [],
        "status": "unavailable",
        "summary": {}
       },
       "custom_spelling": null,
       "disfluencies": false,
       "dual_channel": null,
       "entities": null,
       "entity_detection": false,
       "filter_profanity": false,
       "format_text": true,
       "iab_categories": true,
       "iab_categories_result": {
        "results": [
         {
          "labels": [
           {
            "label": "MusicAndAudio>CountryMusic",
            "relevance": 0.0384661927819252
           },
           {
            "label": "Travel>TravelType>RoadTrips",
            "relevance": 0.0056031192652881145
           },
           {
            "label": "MusicAndAudio>Songwriters/Folk",
            "relevance": 0.0033305047545582056
           },
           {
            "label": "Sports>Rodeo",
            "relevance": 0.0027258521877229214
           },
           {
            "label": "FamilyAndRelationships>Parenting",
            "relevance": 0.0017606096807867289
           },
           {
            "label": "MusicAndAudio>Children'sMusic",
            "relevance": 0.0014924313873052597
           },
           {
            "label": "Automotive>AutoBodyStyles>StationWagon",
            "relevance": 0.0013625945430248976
           },
           {
            "label": "BooksAndLiterature>Children'sLiterature",
            "relevance": 0.0011156209511682391
           },
           {
            "label": "BooksAndLiterature>Poetry",
            "relevance": 0.0011048176093026996
           },
           {
            "label": "Travel>TravelType>Camping",
            "relevance": 0.0010164851555600762
           }
          ],
          "text": "Dolly where I come from. Would I have called you a hillbilly? If you had of it would have been something very natural but I would have probably kicked your shins or something. No, actually. But when I think of your beliefs and I think of your kind of. People I think you probably are, the people that grew up where I was were the ones that you would consider the little abner people daisy May and that sort of thing. They took that kind of thing from people like us.",
          "timestamp": {
           "end": 26992,
           "start": 462
          }
         },
         {
          "labels": [
           {
            "label": "Style&Fashion>Beauty",
            "relevance": 0.40583258867263794
           },
           {
            "label": "Style&Fashion>Women'sFashion>Women'sAccessories>Women'sHatsAndScarves",
            "relevance": 0.07844225317239761
           },
           {
            "label": "Style&Fashion>Children'sClothing",
            "relevance": 0.018007412552833557
           },
           {
            "label": "Style&Fashion>Beauty>HairCare",
            "relevance": 0.010364923626184464
           },
           {
            "label": "Style&Fashion>Women'sFashion",
            "relevance": 0.01006582472473383
           },
           {
            "label": "Style&Fashion>Women'sFashion>Women'sClothing>Women'sOuterwear",
            "relevance": 0.009374735876917839
           },
           {
            "label": "FamilyAndRelationships>Parenting>ParentingChildrenAged4-11",
            "relevance": 0.005627588368952274
           },
           {
            "label": "Style&Fashion>Beauty>MakeupAndAccessories",
            "relevance": 0.004898100160062313
           },
           {
            "label": "Style&Fashion>Women'sFashion>Women'sAccessories",
            "relevance": 0.004801925737410784
           },
           {
            "label": "Sports>Cheerleading",
            "relevance": 0.004719836637377739
           }
          ],
          "text": "But we were very proud people, people with a lot of class. It was country class, but it was a great deal of class and most of my people were not that educated but they are very intelligent. Good common sense horse since we called it darling. Did you look like this when you were a kid? Not quite. I mean, you didn't have the blonde wig but when I went to school when you were 11, 12, 13 was it this about you?",
          "timestamp": {
           "end": 55537,
           "start": 27040
          }
         },
         {
          "labels": [
           {
            "label": "Style&Fashion>Beauty",
            "relevance": 0.6242024898529053
           },
           {
            "label": "HealthyLiving>Men'sHealth",
            "relevance": 0.04504771903157234
           },
           {
            "label": "FamilyAndRelationships",
            "relevance": 0.017344510182738304
           },
           {
            "label": "FamilyAndRelationships>SingleLife",
            "relevance": 0.008007110096514225
           },
           {
            "label": "HealthyLiving>Women'sHealth",
            "relevance": 0.004546392243355513
           },
           {
            "label": "FamilyAndRelationships>Parenting",
            "relevance": 0.004424206912517548
           },
           {
            "label": "MedicalHealth>DiseasesAndConditions>ReproductiveHealth>Infertility",
            "relevance": 0.002462359145283699
           },
           {
            "label": "FamilyAndRelationships>Parenting>ParentingChildrenAged4-11",
            "relevance": 0.0023136595264077187
           },
           {
            "label": "PopCulture>CelebrityPregnancy",
            "relevance": 0.002154906513169408
           },
           {
            "label": "FamilyAndRelationships>Dating",
            "relevance": 0.0017587811453267932
           }
          ],
          "text": "Well, you mean the full figure? Yeah, that's what I meant. Yeah, that's what you meant. Well, actually I've always been pretty well blessed as a child. I grew up fast. Other members of my family have done the same. My assistant asked me something and I'm going to blame it on her because I wouldn't have had the nerve otherwise. Is it all you? Well, I can't show you. Yeah, I'll take your word for it.",
          "timestamp": {
           "end": 84022,
           "start": 55600
          }
         },
         {
          "labels": [
           {
            "label": "Style&Fashion>Beauty",
            "relevance": 0.9765373468399048
           },
           {
            "label": "Style&Fashion>Beauty>MakeupAndAccessories",
            "relevance": 0.13392303884029388
           },
           {
            "label": "Style&Fashion>Women'sFashion>Women'sAccessories>Women'sHatsAndScarves",
            "relevance": 0.025081554427742958
           },
           {
            "label": "Style&Fashion>Beauty>HairCare",
            "relevance": 0.011163284070789814
           },
           {
            "label": "FineArt>Costume",
            "relevance": 0.010895474813878536
           },
           {
            "label": "HealthyLiving>Men'sHealth",
            "relevance": 0.0035225481260567904
           },
           {
            "label": "Style&Fashion>PersonalCare>Shaving",
            "relevance": 0.0034955579321831465
           },
           {
            "label": "Style&Fashion>StreetStyle",
            "relevance": 0.003164107445627451
           },
           {
            "label": "Style&Fashion>BodyArt",
            "relevance": 0.0026745786890387535
           },
           {
            "label": "EventsAndAttractions>FashionEvents",
            "relevance": 0.002088321140035987
           }
          ],
          "text": "I get asked that question. I always answer that because people are in all of the whole thing a lot of people say I have a lot of people say I have it. I always say that if I hadn't had it on my own I'm just the kind of person that would have had me if I made you don't. Have to look like this. You're very beautiful. You don't have to wear the blonde wigs you don't have to wear the extreme clothes. Right?",
          "timestamp": {
           "end": 105877,
           "start": 84055
          }
         },
         {
          "labels": [
           {
            "label": "Style&Fashion>StreetStyle",
            "relevance": 0.9487990140914917
           },
           {
            "label": "Style&Fashion",
            "relevance": 0.8525909185409546
           },
           {
            "label": "Style&Fashion>FashionTrends",
            "relevance": 0.6781418323516846
           },
           {
            "label": "Style&Fashion>Women'sFashion",
            "relevance": 0.602287769317627
           },
           {
            "label": "Style&Fashion>Men'sFashion",
            "relevance": 0.36784011125564575
           },
           {
            "label": "EventsAndAttractions>FashionEvents",
            "relevance": 0.09945571422576904
           },
           {
            "label": "Style&Fashion>HighFashion",
            "relevance": 0.08816640824079514
           },
           {
            "label": "Style&Fashion>Children'sClothing",
            "relevance": 0.005538068246096373
           },
           {
            "label": "Style&Fashion>Men'sFashion>Men'sAccessories",
            "relevance": 0.004724432714283466
           },
           {
            "label": "Style&Fashion>Men'sFashion>Men'sClothing>Men'sCasualWear",
            "relevance": 0.003850517561659217
           }
          ],
          "text": "No, it's certainly a choice. I don't like to be like everybody else. I've often made this statement that I would never stoop so low as to be fashionable. That's the easiest thing in the world to do. So I just decided that I would do something that would at least get the attention once they got past the shock of the ridiculous way I looked and all that, then they would see there was a part of me to be appreciated.",
          "timestamp": {
           "end": 129072,
           "start": 106045
          }
         },
         {
          "labels": [
           {
            "label": "EventsAndAttractions>ComedyEvents",
            "relevance": 0.9939175844192505
           },
           {
            "label": "Television>ComedyTV",
            "relevance": 0.8580138087272644
           },
           {
            "label": "PopCulture>HumorAndSatire",
            "relevance": 0.3581605851650238
           },
           {
            "label": "MusicAndAudio>Comedy(MusicAndAudio)",
            "relevance": 0.013248809613287449
           },
           {
            "label": "Television>RealityTV",
            "relevance": 0.007944436743855476
           },
           {
            "label": "Movies>ComedyMovies",
            "relevance": 0.003280746517702937
           },
           {
            "label": "FineArt>Theater",
            "relevance": 0.0009968000231310725
           },
           {
            "label": "Hobbies&Interests>ContentProduction>FreelanceWriting",
            "relevance": 0.0008054221980273724
           },
           {
            "label": "PopCulture>CelebrityRelationships",
            "relevance": 0.00046489122905768454
           },
           {
            "label": "Television>FactualTV",
            "relevance": 0.00046150267007760704
           }
          ],
          "text": "I'm very real where it counts, and that's inside. And as far as my outlook on life and the way I care about people and the way I care about myself and the things that I care about. But I just chose to do this. And show business is a money making joke, and I just always liked telling jokes. But do you ever feel that you're a joke? That people make fun of you?",
          "timestamp": {
           "end": 150742,
           "start": 129117
          }
         },
         {
          "labels": [
           {
            "label": "PopCulture>HumorAndSatire",
            "relevance": 0.9779303073883057
           },
           {
            "label": "EventsAndAttractions>ComedyEvents",
            "relevance": 0.8197059631347656
           },
           {
            "label": "Television>ComedyTV",
            "relevance": 0.038462817668914795
           },
           {
            "label": "MusicAndAudio>Comedy(MusicAndAudio)",
            "relevance": 0.014674751088023186
           },
           {
            "label": "Hobbies&Interests>ContentProduction>FreelanceWriting",
            "relevance": 0.00046682514948770404
           },
           {
            "label": "FineArt>Theater",
            "relevance": 0.0002773481828626245
           },
           {
            "label": "Movies>ComedyMovies",
            "relevance": 0.00023507419973611832
           },
           {
            "label": "BusinessAndFinance>Business>MarketingAndAdvertising",
            "relevance": 0.00020743324421346188
           },
           {
            "label": "BooksAndLiterature>ComicsAndGraphicNovels",
            "relevance": 0.00019269617041572928
           },
           {
            "label": "NewsAndPolitics>NationalNews",
            "relevance": 0.00018382890266366303
           }
          ],
          "text": "Oh, I know they make fun of me but actually, all these years the people have thought the joke was on me, but it's actually been on the public. I know exactly what I'm doing and I can change it at any time or I make more jokes about myself than anybody because I enjoy as I say, I am sure of myself as a person. I'm sure of my talent and to me and I'm sure of my love for life and that sort of thing.",
          "timestamp": {
           "end": 176572,
           "start": 150790
          }
         },
         {
          "labels": [
           {
            "label": "FamilyAndRelationships>SingleLife",
            "relevance": 0.19302822649478912
           },
           {
            "label": "Sports>Cycling",
            "relevance": 0.020281635224819183
           },
           {
            "label": "PopCulture>CelebrityRelationships",
            "relevance": 0.01615997403860092
           },
           {
            "label": "HealthyLiving>Men'sHealth",
            "relevance": 0.009778176434338093
           },
           {
            "label": "Travel>TravelType>RoadTrips",
            "relevance": 0.008473444730043411
           },
           {
            "label": "FamilyAndRelationships>Divorce",
            "relevance": 0.007192848715931177
           },
           {
            "label": "PopCulture>CelebrityDeaths",
            "relevance": 0.007005138788372278
           },
           {
            "label": "FamilyAndRelationships>Dating",
            "relevance": 0.006534062325954437
           },
           {
            "label": "Travel>TravelType>Camping",
            "relevance": 0.005786917172372341
           },
           {
            "label": "Automotive>Motorcycles",
            "relevance": 0.005494610872119665
           }
          ],
          "text": "I'm very content. I like the kind of person that I am so I can afford to pedal around and do the little around with makeups and clothes and stuff because I am secure with myself. Listen, tell me about this marriage of yours this man who nobody ever seems to see. We heard that he was here, we heard that he was, but none of us have seen him. Paul Dean, you don't see him very much. You're on the road most of the time.",
          "timestamp": {
           "end": 201142,
           "start": 176605
          }
         },
         {
          "labels": [
           {
            "label": "FamilyAndRelationships>Divorce",
            "relevance": 0.751889705657959
           },
           {
            "label": "FamilyAndRelationships>SingleLife",
            "relevance": 0.4844997823238373
           },
           {
            "label": "FamilyAndRelationships",
            "relevance": 0.12339542806148529
           },
           {
            "label": "FamilyAndRelationships>MarriageAndCivilUnions",
            "relevance": 0.09288500249385834
           },
           {
            "label": "FamilyAndRelationships>Dating",
            "relevance": 0.02703435719013214
           },
           {
            "label": "HealthyLiving>Men'sHealth",
            "relevance": 0.003092282684519887
           },
           {
            "label": "EventsAndAttractions>PersonalCelebrations&LifeEvents>Wedding",
            "relevance": 0.0027524984907358885
           },
           {
            "label": "FamilyAndRelationships>Parenting",
            "relevance": 0.001128598116338253
           },
           {
            "label": "PopCulture>CelebrityRelationships",
            "relevance": 0.0007760163862258196
           },
           {
            "label": "MedicalHealth>DiseasesAndConditions>ReproductiveHealth",
            "relevance": 0.0003636004403233528
           }
          ],
          "text": "You've said, I know that this marriage will always last. This man gives me everything I need. How do you know? Well, I need freedom. The man gives me freedom. So why get married? Well, why not? Why, if I don't want most of freedom? Why have a husband away some place with these six weeks a year? He has the same freedom.",
          "timestamp": {
           "end": 220152,
           "start": 201190
          }
         },
         {
          "labels": [
           {
            "label": "FamilyAndRelationships>SingleLife",
            "relevance": 0.7753461599349976
           },
           {
            "label": "FamilyAndRelationships",
            "relevance": 0.5219306945800781
           },
           {
            "label": "FamilyAndRelationships>Divorce",
            "relevance": 0.378251850605011
           },
           {
            "label": "FamilyAndRelationships>Dating",
            "relevance": 0.06885505467653275
           },
           {
            "label": "HealthyLiving>Men'sHealth",
            "relevance": 0.01576736941933632
           },
           {
            "label": "FamilyAndRelationships>Parenting",
            "relevance": 0.00566395977512002
           },
           {
            "label": "FamilyAndRelationships>MarriageAndCivilUnions",
            "relevance": 0.005503539927303791
           },
           {
            "label": "PopCulture>CelebrityRelationships",
            "relevance": 0.0037237899377942085
           },
           {
            "label": "EventsAndAttractions>PersonalCelebrations&LifeEvents>Wedding",
            "relevance": 0.0025974418967962265
           },
           {
            "label": "FamilyAndRelationships>Bereavement",
            "relevance": 0.0014088120078667998
           }
          ],
          "text": "See, the thing of it is you don't find a person that you can be happy with and they can't accept you. You are and can share the things and to plan for the future and to enjoy your home. We have our foundation, we have our roots, we have all the things that everybody is looking for and that's happiness in a marriage. I've got better things to do than to sit around in my room thinking, oh, it's Carl doing tonight.",
          "timestamp": {
           "end": 238872,
           "start": 220182
          }
         },
         {
          "labels": [
           {
            "label": "FamilyAndRelationships>SingleLife",
            "relevance": 0.24146711826324463
           },
           {
            "label": "FamilyAndRelationships>Dating",
            "relevance": 0.19686083495616913
           },
           {
            "label": "PopCulture>CelebrityRelationships",
            "relevance": 0.05459204316139221
           },
           {
            "label": "FamilyAndRelationships",
            "relevance": 0.026265891268849373
           },
           {
            "label": "HealthyLiving>Men'sHealth",
            "relevance": 0.003025364363566041
           },
           {
            "label": "FamilyAndRelationships>Divorce",
            "relevance": 0.0018445635214447975
           },
           {
            "label": "FamilyAndRelationships>MarriageAndCivilUnions",
            "relevance": 0.00037526286905631423
           },
           {
            "label": "PopCulture>CelebrityFamilies",
            "relevance": 0.00035657218541018665
           },
           {
            "label": "PopCulture>CelebrityScandal",
            "relevance": 0.00035268545616418123
           },
           {
            "label": "Automotive>AutoType>BudgetCars",
            "relevance": 0.00031293369829654694
           }
          ],
          "text": "I wonder if he's with somebody and this and that.",
          "timestamp": {
           "end": 240900,
           "start": 238917
          }
         }
        ],
        "status": "success",
        "summary": {
         "EventsAndAttractions>ComedyEvents": 0.9033228158950806,
         "EventsAndAttractions>FashionEvents": 0.050757091492414474,
         "FamilyAndRelationships": 0.3448086380958557,
         "FamilyAndRelationships>Dating": 0.15037426352500916,
         "FamilyAndRelationships>Divorce": 0.5672422647476196,
         "FamilyAndRelationships>MarriageAndCivilUnions": 0.04947863519191742,
         "FamilyAndRelationships>SingleLife": 0.8481855392456055,
         "HealthyLiving>Men'sHealth": 0.041264988481998444,
         "PopCulture>CelebrityRelationships": 0.03820483759045601,
         "PopCulture>HumorAndSatire": 0.6656082272529602,
         "Style&Fashion": 0.4260181486606598,
         "Style&Fashion>Beauty": 1,
         "Style&Fashion>Beauty>MakeupAndAccessories": 0.06968006491661072,
         "Style&Fashion>FashionTrends": 0.338242769241333,
         "Style&Fashion>HighFashion": 0.045685477554798126,
         "Style&Fashion>Men'sFashion": 0.18474410474300385,
         "Style&Fashion>StreetStyle": 0.47628286480903625,
         "Style&Fashion>Women'sFashion": 0.3058570325374603,
         "Style&Fashion>Women'sFashion>Women'sAccessories>Women'sHatsAndScarves": 0.052490171045064926,
         "Television>ComedyTV": 0.4466465413570404
        }
       },
       "id": "r1odqrzpvp-a69f-4fa6-b83b-7a7314315f97",
       "language_code": "en_us",
       "language_detection": false,
       "language_model": "assemblyai_default",
       "punctuate": true,
       "redact_pii": false,
       "redact_pii_audio": false,
       "redact_pii_audio_quality": null,
       "redact_pii_policies": null,
       "redact_pii_sub": null,
       "sentiment_analysis": true,
       "sentiment_analysis_results": [
        {
         "confidence": 0.8288469314575195,
         "end": 2827,
         "sentiment": "NEUTRAL",
         "speaker": "A",
         "start": 462,
         "text": "Dolly where I come from."
        },
        {
         "confidence": 0.6513108015060425,
         "end": 5127,
         "sentiment": "NEUTRAL",
         "speaker": "A",
         "start": 2920,
         "text": "Would I have called you a hillbilly?"
        },
        {
         "confidence": 0.5358942747116089,
         "end": 10550,
         "sentiment": "NEGATIVE",
         "speaker": "B",
         "start": 5307,
         "text": "If you had of it would have been something very natural but I would have probably kicked your shins or something."
        },
        {
         "confidence": 0.6661166548728943,
         "end": 11887,
         "sentiment": "NEUTRAL",
         "speaker": "B",
         "start": 11137,
         "text": "No, actually."
        },
        {
         "confidence": 0.7708563208580017,
         "end": 14407,
         "sentiment": "NEUTRAL",
         "speaker": "A",
         "start": 11950,
         "text": "But when I think of your beliefs and I think of your kind of."
        },
        {
         "confidence": 0.8153480291366577,
         "end": 22522,
         "sentiment": "NEUTRAL",
         "speaker": "B",
         "start": 14410,
         "text": "People I think you probably are, the people that grew up where I was were the ones that you would consider the little abner people daisy May and that sort of thing."
        },
        {
         "confidence": 0.6504906415939331,
         "end": 26992,
         "sentiment": "NEGATIVE",
         "speaker": "B",
         "start": 22555,
         "text": "They took that kind of thing from people like us."
        },
        {
         "confidence": 0.8560635447502136,
         "end": 30937,
         "sentiment": "POSITIVE",
         "speaker": "B",
         "start": 27040,
         "text": "But we were very proud people, people with a lot of class."
        },
        {
         "confidence": 0.581783652305603,
         "end": 40422,
         "sentiment": "POSITIVE",
         "speaker": "B",
         "start": 31000,
         "text": "It was country class, but it was a great deal of class and most of my people were not that educated but they are very intelligent."
        },
        {
         "confidence": 0.6084290146827698,
         "end": 43047,
         "sentiment": "POSITIVE",
         "speaker": "B",
         "start": 40467,
         "text": "Good common sense horse since we called it darling."
        },
        {
         "confidence": 0.8528315424919128,
         "end": 44917,
         "sentiment": "NEUTRAL",
         "speaker": "A",
         "start": 43092,
         "text": "Did you look like this when you were a kid?"
        },
        {
         "confidence": 0.5199145078659058,
         "end": 45757,
         "sentiment": "NEUTRAL",
         "speaker": "B",
         "start": 45040,
         "text": "Not quite."
        },
        {
         "confidence": 0.7857349514961243,
         "end": 55537,
         "sentiment": "NEUTRAL",
         "speaker": "A",
         "start": 45835,
         "text": "I mean, you didn't have the blonde wig but when I went to school when you were 11, 12, 13 was it this about you?"
        },
        {
         "confidence": 0.8158475160598755,
         "end": 59600,
         "sentiment": "NEUTRAL",
         "speaker": "B",
         "start": 55600,
         "text": "Well, you mean the full figure?"
        },
        {
         "confidence": 0.7583904266357422,
         "end": 61347,
         "sentiment": "NEUTRAL",
         "speaker": "A",
         "start": 60262,
         "text": "Yeah, that's what I meant."
        },
        {
         "confidence": 0.7503639459609985,
         "end": 62787,
         "sentiment": "NEUTRAL",
         "speaker": "B",
         "start": 61392,
         "text": "Yeah, that's what you meant."
        },
        {
         "confidence": 0.9637918472290039,
         "end": 66742,
         "sentiment": "POSITIVE",
         "speaker": "B",
         "start": 62862,
         "text": "Well, actually I've always been pretty well blessed as a child."
        },
        {
         "confidence": 0.5986786484718323,
         "end": 68000,
         "sentiment": "NEUTRAL",
         "speaker": "B",
         "start": 66790,
         "text": "I grew up fast."
        },
        {
         "confidence": 0.8856564164161682,
         "end": 71600,
         "sentiment": "NEUTRAL",
         "speaker": "B",
         "start": 68362,
         "text": "Other members of my family have done the same."
        },
        {
         "confidence": 0.5965232849121094,
         "end": 77172,
         "sentiment": "NEGATIVE",
         "speaker": "A",
         "start": 72262,
         "text": "My assistant asked me something and I'm going to blame it on her because I wouldn't have had the nerve otherwise."
        },
        {
         "confidence": 0.8095303177833557,
         "end": 78575,
         "sentiment": "NEUTRAL",
         "speaker": "A",
         "start": 77292,
         "text": "Is it all you?"
        },
        {
         "confidence": 0.5410354733467102,
         "end": 81217,
         "sentiment": "NEGATIVE",
         "speaker": "B",
         "start": 79762,
         "text": "Well, I can't show you."
        },
        {
         "confidence": 0.698145866394043,
         "end": 84022,
         "sentiment": "NEUTRAL",
         "speaker": "B",
         "start": 81265,
         "text": "Yeah, I'll take your word for it."
        },
        {
         "confidence": 0.6997410655021667,
         "end": 85237,
         "sentiment": "NEUTRAL",
         "speaker": "B",
         "start": 84055,
         "text": "I get asked that question."
        },
        {
         "confidence": 0.8133596181869507,
         "end": 93067,
         "sentiment": "NEUTRAL",
         "speaker": "B",
         "start": 85300,
         "text": "I always answer that because people are in all of the whole thing a lot of people say I have a lot of people say I have it."
        },
        {
         "confidence": 0.6698908805847168,
         "end": 99327,
         "sentiment": "NEUTRAL",
         "speaker": "B",
         "start": 93115,
         "text": "I always say that if I hadn't had it on my own I'm just the kind of person that would have had me if I made you don't."
        },
        {
         "confidence": 0.7443570494651794,
         "end": 100447,
         "sentiment": "NEUTRAL",
         "speaker": "A",
         "start": 99357,
         "text": "Have to look like this."
        },
        {
         "confidence": 0.9765705466270447,
         "end": 101452,
         "sentiment": "POSITIVE",
         "speaker": "A",
         "start": 100555,
         "text": "You're very beautiful."
        },
        {
         "confidence": 0.7462072372436523,
         "end": 105222,
         "sentiment": "NEUTRAL",
         "speaker": "A",
         "start": 101545,
         "text": "You don't have to wear the blonde wigs you don't have to wear the extreme clothes."
        },
        {
         "confidence": 0.7360091805458069,
         "end": 105877,
         "sentiment": "NEUTRAL",
         "speaker": "A",
         "start": 105267,
         "text": "Right?"
        },
        {
         "confidence": 0.7384374141693115,
         "end": 108087,
         "sentiment": "NEUTRAL",
         "speaker": "B",
         "start": 106045,
         "text": "No, it's certainly a choice."
        },
        {
         "confidence": 0.7588388919830322,
         "end": 110422,
         "sentiment": "NEGATIVE",
         "speaker": "B",
         "start": 108162,
         "text": "I don't like to be like everybody else."
        },
        {
         "confidence": 0.6484503149986267,
         "end": 114417,
         "sentiment": "NEUTRAL",
         "speaker": "B",
         "start": 110455,
         "text": "I've often made this statement that I would never stoop so low as to be fashionable."
        },
        {
         "confidence": 0.9167831540107727,
         "end": 116377,
         "sentiment": "POSITIVE",
         "speaker": "B",
         "start": 114477,
         "text": "That's the easiest thing in the world to do."
        },
        {
         "confidence": 0.48690980672836304,
         "end": 129072,
         "sentiment": "POSITIVE",
         "speaker": "B",
         "start": 116470,
         "text": "So I just decided that I would do something that would at least get the attention once they got past the shock of the ridiculous way I looked and all that, then they would see there was a part of me to be appreciated."
        },
        {
         "confidence": 0.6421365141868591,
         "end": 131827,
         "sentiment": "POSITIVE",
         "speaker": "B",
         "start": 129117,
         "text": "I'm very real where it counts, and that's inside."
        },
        {
         "confidence": 0.6112033128738403,
         "end": 138772,
         "sentiment": "NEUTRAL",
         "speaker": "B",
         "start": 131920,
         "text": "And as far as my outlook on life and the way I care about people and the way I care about myself and the things that I care about."
        },
        {
         "confidence": 0.7434086203575134,
         "end": 140422,
         "sentiment": "NEUTRAL",
         "speaker": "B",
         "start": 138880,
         "text": "But I just chose to do this."
        },
        {
         "confidence": 0.4804114103317261,
         "end": 146537,
         "sentiment": "NEUTRAL",
         "speaker": "B",
         "start": 140455,
         "text": "And show business is a money making joke, and I just always liked telling jokes."
        },
        {
         "confidence": 0.6296707987785339,
         "end": 149292,
         "sentiment": "NEGATIVE",
         "speaker": "A",
         "start": 146887,
         "text": "But do you ever feel that you're a joke?"
        },
        {
         "confidence": 0.6824779510498047,
         "end": 150742,
         "sentiment": "NEGATIVE",
         "speaker": "A",
         "start": 149352,
         "text": "That people make fun of you?"
        },
        {
         "confidence": 0.4699747860431671,
         "end": 158722,
         "sentiment": "NEUTRAL",
         "speaker": "B",
         "start": 150790,
         "text": "Oh, I know they make fun of me but actually, all these years the people have thought the joke was on me, but it's actually been on the public."
        },
        {
         "confidence": 0.5173078179359436,
         "end": 169522,
         "sentiment": "POSITIVE",
         "speaker": "B",
         "start": 158830,
         "text": "I know exactly what I'm doing and I can change it at any time or I make more jokes about myself than anybody because I enjoy as I say, I am sure of myself as a person."
        },
        {
         "confidence": 0.8856375217437744,
         "end": 176572,
         "sentiment": "POSITIVE",
         "speaker": "B",
         "start": 169630,
         "text": "I'm sure of my talent and to me and I'm sure of my love for life and that sort of thing."
        },
        {
         "confidence": 0.9655782580375671,
         "end": 177427,
         "sentiment": "POSITIVE",
         "speaker": "B",
         "start": 176605,
         "text": "I'm very content."
        },
        {
         "confidence": 0.9164209961891174,
         "end": 188150,
         "sentiment": "POSITIVE",
         "speaker": "B",
         "start": 177520,
         "text": "I like the kind of person that I am so I can afford to pedal around and do the little around with makeups and clothes and stuff because I am secure with myself."
        },
        {
         "confidence": 0.5861097574234009,
         "end": 193297,
         "sentiment": "NEUTRAL",
         "speaker": "A",
         "start": 188962,
         "text": "Listen, tell me about this marriage of yours this man who nobody ever seems to see."
        },
        {
         "confidence": 0.6701010465621948,
         "end": 196732,
         "sentiment": "NEUTRAL",
         "speaker": "A",
         "start": 193330,
         "text": "We heard that he was here, we heard that he was, but none of us have seen him."
        },
        {
         "confidence": 0.5208736062049866,
         "end": 199477,
         "sentiment": "NEUTRAL",
         "speaker": "A",
         "start": 196810,
         "text": "Paul Dean, you don't see him very much."
        },
        {
         "confidence": 0.8020555973052979,
         "end": 201142,
         "sentiment": "NEUTRAL",
         "speaker": "A",
         "start": 199570,
         "text": "You're on the road most of the time."
        },
        {
         "confidence": 0.619137704372406,
         "end": 203947,
         "sentiment": "NEUTRAL",
         "speaker": "A",
         "start": 201190,
         "text": "You've said, I know that this marriage will always last."
        },
        {
         "confidence": 0.9678488373756409,
         "end": 206150,
         "sentiment": "POSITIVE",
         "speaker": "A",
         "start": 204055,
         "text": "This man gives me everything I need."
        },
        {
         "confidence": 0.7054855227470398,
         "end": 207712,
         "sentiment": "NEUTRAL",
         "speaker": "A",
         "start": 206587,
         "text": "How do you know?"
        },
        {
         "confidence": 0.7071945071220398,
         "end": 209202,
         "sentiment": "NEUTRAL",
         "speaker": "B",
         "start": 207850,
         "text": "Well, I need freedom."
        },
        {
         "confidence": 0.694890022277832,
         "end": 210762,
         "sentiment": "POSITIVE",
         "speaker": "B",
         "start": 209307,
         "text": "The man gives me freedom."
        },
        {
         "confidence": 0.6371146440505981,
         "end": 211947,
         "sentiment": "NEUTRAL",
         "speaker": "A",
         "start": 210837,
         "text": "So why get married?"
        },
        {
         "confidence": 0.6562745571136475,
         "end": 213577,
         "sentiment": "NEUTRAL",
         "speaker": "B",
         "start": 212067,
         "text": "Well, why not?"
        },
        {
         "confidence": 0.6328395009040833,
         "end": 215697,
         "sentiment": "NEUTRAL",
         "speaker": "A",
         "start": 213745,
         "text": "Why, if I don't want most of freedom?"
        },
        {
         "confidence": 0.4891687333583832,
         "end": 218812,
         "sentiment": "NEUTRAL",
         "speaker": "A",
         "start": 215742,
         "text": "Why have a husband away some place with these six weeks a year?"
        },
        {
         "confidence": 0.7640110850334167,
         "end": 220152,
         "sentiment": "NEUTRAL",
         "speaker": "B",
         "start": 218875,
         "text": "He has the same freedom."
        },
        {
         "confidence": 0.5610052347183228,
         "end": 224977,
         "sentiment": "NEGATIVE",
         "speaker": "B",
         "start": 220182,
         "text": "See, the thing of it is you don't find a person that you can be happy with and they can't accept you."
        },
        {
         "confidence": 0.8322866559028625,
         "end": 229147,
         "sentiment": "POSITIVE",
         "speaker": "B",
         "start": 225145,
         "text": "You are and can share the things and to plan for the future and to enjoy your home."
        },
        {
         "confidence": 0.8995410799980164,
         "end": 234672,
         "sentiment": "POSITIVE",
         "speaker": "B",
         "start": 229180,
         "text": "We have our foundation, we have our roots, we have all the things that everybody is looking for and that's happiness in a marriage."
        },
        {
         "confidence": 0.5436835289001465,
         "end": 238872,
         "sentiment": "NEGATIVE",
         "speaker": "B",
         "start": 234717,
         "text": "I've got better things to do than to sit around in my room thinking, oh, it's Carl doing tonight."
        },
        {
         "confidence": 0.8684977889060974,
         "end": 240900,
         "sentiment": "NEUTRAL",
         "speaker": "B",
         "start": 238917,
         "text": "I wonder if he's with somebody and this and that."
        }
       ],
       "speaker_labels": true,
       "speed_boost": false,
       "status": "completed",
       "summarization": false,
       "summary": null,
       "summary_type": null,
       "text": "Dolly where I come from. Would I have called you a hillbilly? If you had of it would have been something very natural but I would have probably kicked your shins or something. No, actually. But when I think of your beliefs and I think of your kind of. People I think you probably are, the people that grew up where I was were the ones that you would consider the little abner people daisy May and that sort of thing. They took that kind of thing from people like us. But we were very proud people, people with a lot of class. It was country class, but it was a great deal of class and most of my people were not that educated but they are very intelligent. Good common sense horse since we called it darling. Did you look like this when you were a kid? Not quite. I mean, you didn't have the blonde wig but when I went to school when you were 11, 12, 13 was it this about you? Well, you mean the full figure? Yeah, that's what I meant. Yeah, that's what you meant. Well, actually I've always been pretty well blessed as a child. I grew up fast. Other members of my family have done the same. My assistant asked me something and I'm going to blame it on her because I wouldn't have had the nerve otherwise. Is it all you? Well, I can't show you. Yeah, I'll take your word for it. I get asked that question. I always answer that because people are in all of the whole thing a lot of people say I have a lot of people say I have it. I always say that if I hadn't had it on my own I'm just the kind of person that would have had me if I made you don't. Have to look like this. You're very beautiful. You don't have to wear the blonde wigs you don't have to wear the extreme clothes. Right? No, it's certainly a choice. I don't like to be like everybody else. I've often made this statement that I would never stoop so low as to be fashionable. That's the easiest thing in the world to do. So I just decided that I would do something that would at least get the attention once they got past the shock of the ridiculous way I looked and all that, then they would see there was a part of me to be appreciated. I'm very real where it counts, and that's inside. And as far as my outlook on life and the way I care about people and the way I care about myself and the things that I care about. But I just chose to do this. And show business is a money making joke, and I just always liked telling jokes. But do you ever feel that you're a joke? That people make fun of you? Oh, I know they make fun of me but actually, all these years the people have thought the joke was on me, but it's actually been on the public. I know exactly what I'm doing and I can change it at any time or I make more jokes about myself than anybody because I enjoy as I say, I am sure of myself as a person. I'm sure of my talent and to me and I'm sure of my love for life and that sort of thing. I'm very content. I like the kind of person that I am so I can afford to pedal around and do the little around with makeups and clothes and stuff because I am secure with myself. Listen, tell me about this marriage of yours this man who nobody ever seems to see. We heard that he was here, we heard that he was, but none of us have seen him. Paul Dean, you don't see him very much. You're on the road most of the time. You've said, I know that this marriage will always last. This man gives me everything I need. How do you know? Well, I need freedom. The man gives me freedom. So why get married? Well, why not? Why, if I don't want most of freedom? Why have a husband away some place with these six weeks a year? He has the same freedom. See, the thing of it is you don't find a person that you can be happy with and they can't accept you. You are and can share the things and to plan for the future and to enjoy your home. We have our foundation, we have our roots, we have all the things that everybody is looking for and that's happiness in a marriage. I've got better things to do than to sit around in my room thinking, oh, it's Carl doing tonight. I wonder if he's with somebody and this and that.",
       "throttled": null,
       "utterances": [
        {
         "confidence": 0.8826016666666668,
         "end": 5127,
         "speaker": "A",
         "start": 462,
         "text": "Dolly where I come from. Would I have called you a hillbilly?",
         "words": [
          {
           "confidence": 0.67758,
           "end": 1187,
           "speaker": "A",
           "start": 462,
           "text": "Dolly"
          },
          {
           "confidence": 0.97134,
           "end": 1897,
           "speaker": "A",
           "start": 1537,
           "text": "where"
          },
          {
           "confidence": 0.81,
           "end": 2167,
           "speaker": "A",
           "start": 1930,
           "text": "I"
          },
          {
           "confidence": 0.9969,
           "end": 2422,
           "speaker": "A",
           "start": 2215,
           "text": "come"
          },
          {
           "confidence": 0.99961,
           "end": 2827,
           "speaker": "A",
           "start": 2455,
           "text": "from."
          },
          {
           "confidence": 0.47957,
           "end": 3127,
           "speaker": "A",
           "start": 2920,
           "text": "Would"
          },
          {
           "confidence": 0.74,
           "end": 3322,
           "speaker": "A",
           "start": 3145,
           "text": "I"
          },
          {
           "confidence": 0.99436,
           "end": 3502,
           "speaker": "A",
           "start": 3355,
           "text": "have"
          },
          {
           "confidence": 0.98301,
           "end": 3742,
           "speaker": "A",
           "start": 3520,
           "text": "called"
          },
          {
           "confidence": 1,
           "end": 3952,
           "speaker": "A",
           "start": 3790,
           "text": "you"
          },
          {
           "confidence": 0.99,
           "end": 4102,
           "speaker": "A",
           "start": 3970,
           "text": "a"
          },
          {
           "confidence": 0.94885,
           "end": 5127,
           "speaker": "A",
           "start": 4120,
           "text": "hillbilly?"
          }
         ]
        },
        {
         "confidence": 0.9216965217391305,
         "end": 11887,
         "speaker": "B",
         "start": 5307,
         "text": "If you had of it would have been something very natural but I would have probably kicked your shins or something. No, actually.",
         "words": [
          {
           "confidence": 0.99907,
           "end": 5647,
           "speaker": "B",
           "start": 5307,
           "text": "If"
          },
          {
           "confidence": 1,
           "end": 5827,
           "speaker": "B",
           "start": 5680,
           "text": "you"
          },
          {
           "confidence": 0.97597,
           "end": 6022,
           "speaker": "B",
           "start": 5845,
           "text": "had"
          },
          {
           "confidence": 0.57,
           "end": 6382,
           "speaker": "B",
           "start": 6055,
           "text": "of"
          },
          {
           "confidence": 0.99784,
           "end": 6652,
           "speaker": "B",
           "start": 6460,
           "text": "it"
          },
          {
           "confidence": 0.99841,
           "end": 6757,
           "speaker": "B",
           "start": 6670,
           "text": "would"
          },
          {
           "confidence": 0.42768,
           "end": 6877,
           "speaker": "B",
           "start": 6760,
           "text": "have"
          },
          {
           "confidence": 0.99804,
           "end": 7072,
           "speaker": "B",
           "start": 6895,
           "text": "been"
          },
          {
           "confidence": 0.99448,
           "end": 7342,
           "speaker": "B",
           "start": 7105,
           "text": "something"
          },
          {
           "confidence": 0.99838,
           "end": 7597,
           "speaker": "B",
           "start": 7390,
           "text": "very"
          },
          {
           "confidence": 0.9994,
           "end": 7977,
           "speaker": "B",
           "start": 7630,
           "text": "natural"
          },
          {
           "confidence": 0.99335,
           "end": 8152,
           "speaker": "B",
           "start": 8007,
           "text": "but"
          },
          {
           "confidence": 1,
           "end": 8257,
           "speaker": "B",
           "start": 8170,
           "text": "I"
          },
          {
           "confidence": 0.98795,
           "end": 8377,
           "speaker": "B",
           "start": 8260,
           "text": "would"
          },
          {
           "confidence": 0.59235,
           "end": 8617,
           "speaker": "B",
           "start": 8395,
           "text": "have"
          },
          {
           "confidence": 0.99872,
           "end": 8962,
           "speaker": "B",
           "start": 8665,
           "text": "probably"
          },
          {
           "confidence": 0.99371,
           "end": 9282,
           "speaker": "B",
           "start": 9025,
           "text": "kicked"
          },
          {
           "confidence": 0.97394,
           "end": 9427,
           "speaker": "B",
           "start": 9297,
           "text": "your"
          },
          {
           "confidence": 0.86004,
           "end": 9717,
           "speaker": "B",
           "start": 9445,
           "text": "shins"
          },
          {
           "confidence": 0.99663,
           "end": 9952,
           "speaker": "B",
           "start": 9777,
           "text": "or"
          },
          {
           "confidence": 0.95692,
           "end": 10550,
           "speaker": "B",
           "start": 9970,
           "text": "something."
          },
          {
           "confidence": 0.93748,
           "end": 11542,
           "speaker": "B",
           "start": 11137,
           "text": "No,"
          },
          {
           "confidence": 0.94866,
           "end": 11887,
           "speaker": "B",
           "start": 11590,
           "text": "actually."
          }
         ]
        },
        {
         "confidence": 0.8352664285714285,
         "end": 14407,
         "speaker": "A",
         "start": 11950,
         "text": "But when I think of your beliefs and I think of your kind of.",
         "words": [
          {
           "confidence": 0.72545,
           "end": 12127,
           "speaker": "A",
           "start": 11950,
           "text": "But"
          },
          {
           "confidence": 0.98347,
           "end": 12277,
           "speaker": "A",
           "start": 12145,
           "text": "when"
          },
          {
           "confidence": 1,
           "end": 12427,
           "speaker": "A",
           "start": 12295,
           "text": "I"
          },
          {
           "confidence": 0.99512,
           "end": 12577,
           "speaker": "A",
           "start": 12445,
           "text": "think"
          },
          {
           "confidence": 0.99,
           "end": 12727,
           "speaker": "A",
           "start": 12595,
           "text": "of"
          },
          {
           "confidence": 0.89778,
           "end": 12877,
           "speaker": "A",
           "start": 12745,
           "text": "your"
          },
          {
           "confidence": 0.28241,
           "end": 13257,
           "speaker": "A",
           "start": 12895,
           "text": "beliefs"
          },
          {
           "confidence": 0.27,
           "end": 13402,
           "speaker": "A",
           "start": 13272,
           "text": "and"
          },
          {
           "confidence": 0.92,
           "end": 13552,
           "speaker": "A",
           "start": 13420,
           "text": "I"
          },
          {
           "confidence": 0.78147,
           "end": 13747,
           "speaker": "A",
           "start": 13570,
           "text": "think"
          },
          {
           "confidence": 0.97,
           "end": 13927,
           "speaker": "A",
           "start": 13780,
           "text": "of"
          },
          {
           "confidence": 0.94683,
           "end": 14122,
           "speaker": "A",
           "start": 13945,
           "text": "your"
          },
          {
           "confidence": 0.9912,
           "end": 14302,
           "speaker": "A",
           "start": 14155,
           "text": "kind"
          },
          {
           "confidence": 0.94,
           "end": 14407,
           "speaker": "A",
           "start": 14320,
           "text": "of."
          }
         ]
        },
        {
         "confidence": 0.8974601123595504,
         "end": 43047,
         "speaker": "B",
         "start": 14410,
         "text": "People I think you probably are, the people that grew up where I was were the ones that you would consider the little abner people daisy May and that sort of thing. They took that kind of thing from people like us. But we were very proud people, people with a lot of class. It was country class, but it was a great deal of class and most of my people were not that educated but they are very intelligent. Good common sense horse since we called it darling.",
         "words": [
          {
           "confidence": 0.97919,
           "end": 14617,
           "speaker": "B",
           "start": 14410,
           "text": "People"
          },
          {
           "confidence": 0.96,
           "end": 14827,
           "speaker": "B",
           "start": 14665,
           "text": "I"
          },
          {
           "confidence": 0.99815,
           "end": 15022,
           "speaker": "B",
           "start": 14845,
           "text": "think"
          },
          {
           "confidence": 1,
           "end": 15247,
           "speaker": "B",
           "start": 15055,
           "text": "you"
          },
          {
           "confidence": 0.99979,
           "end": 15607,
           "speaker": "B",
           "start": 15280,
           "text": "probably"
          },
          {
           "confidence": 0.99749,
           "end": 16147,
           "speaker": "B",
           "start": 15685,
           "text": "are,"
          },
          {
           "confidence": 0.77,
           "end": 16522,
           "speaker": "B",
           "start": 16255,
           "text": "the"
          },
          {
           "confidence": 0.99996,
           "end": 16747,
           "speaker": "B",
           "start": 16555,
           "text": "people"
          },
          {
           "confidence": 0.71,
           "end": 16972,
           "speaker": "B",
           "start": 16780,
           "text": "that"
          },
          {
           "confidence": 0.97203,
           "end": 17232,
           "speaker": "B",
           "start": 17005,
           "text": "grew"
          },
          {
           "confidence": 0.99684,
           "end": 17422,
           "speaker": "B",
           "start": 17247,
           "text": "up"
          },
          {
           "confidence": 0.98785,
           "end": 17602,
           "speaker": "B",
           "start": 17455,
           "text": "where"
          },
          {
           "confidence": 1,
           "end": 17752,
           "speaker": "B",
           "start": 17620,
           "text": "I"
          },
          {
           "confidence": 0.99786,
           "end": 18037,
           "speaker": "B",
           "start": 17770,
           "text": "was"
          },
          {
           "confidence": 0.95812,
           "end": 18277,
           "speaker": "B",
           "start": 18100,
           "text": "were"
          },
          {
           "confidence": 0.55,
           "end": 18427,
           "speaker": "B",
           "start": 18295,
           "text": "the"
          },
          {
           "confidence": 1,
           "end": 18667,
           "speaker": "B",
           "start": 18445,
           "text": "ones"
          },
          {
           "confidence": 0.78,
           "end": 18877,
           "speaker": "B",
           "start": 18715,
           "text": "that"
          },
          {
           "confidence": 0.67,
           "end": 19027,
           "speaker": "B",
           "start": 18895,
           "text": "you"
          },
          {
           "confidence": 0.68103,
           "end": 19222,
           "speaker": "B",
           "start": 19045,
           "text": "would"
          },
          {
           "confidence": 0.99993,
           "end": 19537,
           "speaker": "B",
           "start": 19255,
           "text": "consider"
          },
          {
           "confidence": 0.8,
           "end": 19822,
           "speaker": "B",
           "start": 19600,
           "text": "the"
          },
          {
           "confidence": 0.93292,
           "end": 20047,
           "speaker": "B",
           "start": 19855,
           "text": "little"
          },
          {
           "confidence": 0.8086,
           "end": 20442,
           "speaker": "B",
           "start": 20080,
           "text": "abner"
          },
          {
           "confidence": 0.99858,
           "end": 20947,
           "speaker": "B",
           "start": 20502,
           "text": "people"
          },
          {
           "confidence": 0.41929,
           "end": 21552,
           "speaker": "B",
           "start": 21055,
           "text": "daisy"
          },
          {
           "confidence": 0.6,
           "end": 21772,
           "speaker": "B",
           "start": 21582,
           "text": "May"
          },
          {
           "confidence": 0.97,
           "end": 21952,
           "speaker": "B",
           "start": 21805,
           "text": "and"
          },
          {
           "confidence": 0.99,
           "end": 22102,
           "speaker": "B",
           "start": 21970,
           "text": "that"
          },
          {
           "confidence": 0.96498,
           "end": 22252,
           "speaker": "B",
           "start": 22120,
           "text": "sort"
          },
          {
           "confidence": 0.99,
           "end": 22357,
           "speaker": "B",
           "start": 22270,
           "text": "of"
          },
          {
           "confidence": 0.99954,
           "end": 22522,
           "speaker": "B",
           "start": 22360,
           "text": "thing."
          },
          {
           "confidence": 0.99553,
           "end": 22702,
           "speaker": "B",
           "start": 22555,
           "text": "They"
          },
          {
           "confidence": 0.79385,
           "end": 22942,
           "speaker": "B",
           "start": 22720,
           "text": "took"
          },
          {
           "confidence": 1,
           "end": 23242,
           "speaker": "B",
           "start": 22990,
           "text": "that"
          },
          {
           "confidence": 0.98289,
           "end": 23497,
           "speaker": "B",
           "start": 23290,
           "text": "kind"
          },
          {
           "confidence": 0.99,
           "end": 24125,
           "speaker": "B",
           "start": 23530,
           "text": "of"
          },
          {
           "confidence": 0.9987,
           "end": 25357,
           "speaker": "B",
           "start": 24862,
           "text": "thing"
          },
          {
           "confidence": 0.99936,
           "end": 25762,
           "speaker": "B",
           "start": 25435,
           "text": "from"
          },
          {
           "confidence": 0.99988,
           "end": 26227,
           "speaker": "B",
           "start": 25825,
           "text": "people"
          },
          {
           "confidence": 0.9997,
           "end": 26662,
           "speaker": "B",
           "start": 26320,
           "text": "like"
          },
          {
           "confidence": 1,
           "end": 26992,
           "speaker": "B",
           "start": 26725,
           "text": "us."
          },
          {
           "confidence": 0.92168,
           "end": 27517,
           "speaker": "B",
           "start": 27040,
           "text": "But"
          },
          {
           "confidence": 0.99858,
           "end": 27877,
           "speaker": "B",
           "start": 27640,
           "text": "we"
          },
          {
           "confidence": 0.72596,
           "end": 28072,
           "speaker": "B",
           "start": 27895,
           "text": "were"
          },
          {
           "confidence": 0.99716,
           "end": 28432,
           "speaker": "B",
           "start": 28105,
           "text": "very"
          },
          {
           "confidence": 0.99965,
           "end": 28962,
           "speaker": "B",
           "start": 28510,
           "text": "proud"
          },
          {
           "confidence": 0.9653,
           "end": 29497,
           "speaker": "B",
           "start": 29037,
           "text": "people,"
          },
          {
           "confidence": 0.66054,
           "end": 29917,
           "speaker": "B",
           "start": 29605,
           "text": "people"
          },
          {
           "confidence": 0.90484,
           "end": 30172,
           "speaker": "B",
           "start": 29965,
           "text": "with"
          },
          {
           "confidence": 0.99,
           "end": 30307,
           "speaker": "B",
           "start": 30205,
           "text": "a"
          },
          {
           "confidence": 0.96268,
           "end": 30472,
           "speaker": "B",
           "start": 30310,
           "text": "lot"
          },
          {
           "confidence": 1,
           "end": 30652,
           "speaker": "B",
           "start": 30505,
           "text": "of"
          },
          {
           "confidence": 0.99519,
           "end": 30937,
           "speaker": "B",
           "start": 30670,
           "text": "class."
          },
          {
           "confidence": 0.98851,
           "end": 31177,
           "speaker": "B",
           "start": 31000,
           "text": "It"
          },
          {
           "confidence": 0.99819,
           "end": 31372,
           "speaker": "B",
           "start": 31195,
           "text": "was"
          },
          {
           "confidence": 0.99966,
           "end": 31732,
           "speaker": "B",
           "start": 31405,
           "text": "country"
          },
          {
           "confidence": 0.99909,
           "end": 32137,
           "speaker": "B",
           "start": 31810,
           "text": "class,"
          },
          {
           "confidence": 0.99037,
           "end": 32377,
           "speaker": "B",
           "start": 32200,
           "text": "but"
          },
          {
           "confidence": 0.99778,
           "end": 32527,
           "speaker": "B",
           "start": 32395,
           "text": "it"
          },
          {
           "confidence": 0.99936,
           "end": 32722,
           "speaker": "B",
           "start": 32545,
           "text": "was"
          },
          {
           "confidence": 1,
           "end": 32857,
           "speaker": "B",
           "start": 32755,
           "text": "a"
          },
          {
           "confidence": 0.91581,
           "end": 33067,
           "speaker": "B",
           "start": 32860,
           "text": "great"
          },
          {
           "confidence": 0.99976,
           "end": 33322,
           "speaker": "B",
           "start": 33115,
           "text": "deal"
          },
          {
           "confidence": 0.24,
           "end": 33502,
           "speaker": "B",
           "start": 33355,
           "text": "of"
          },
          {
           "confidence": 0.99352,
           "end": 33742,
           "speaker": "B",
           "start": 33520,
           "text": "class"
          },
          {
           "confidence": 0.69,
           "end": 34402,
           "speaker": "B",
           "start": 33790,
           "text": "and"
          },
          {
           "confidence": 0.99981,
           "end": 34942,
           "speaker": "B",
           "start": 34570,
           "text": "most"
          },
          {
           "confidence": 1,
           "end": 35600,
           "speaker": "B",
           "start": 34990,
           "text": "of"
          },
          {
           "confidence": 1,
           "end": 36472,
           "speaker": "B",
           "start": 36112,
           "text": "my"
          },
          {
           "confidence": 0.99994,
           "end": 36742,
           "speaker": "B",
           "start": 36505,
           "text": "people"
          },
          {
           "confidence": 0.50897,
           "end": 37132,
           "speaker": "B",
           "start": 36790,
           "text": "were"
          },
          {
           "confidence": 0.99948,
           "end": 37402,
           "speaker": "B",
           "start": 37210,
           "text": "not"
          },
          {
           "confidence": 0.75,
           "end": 37642,
           "speaker": "B",
           "start": 37420,
           "text": "that"
          },
          {
           "confidence": 0.99937,
           "end": 38307,
           "speaker": "B",
           "start": 37690,
           "text": "educated"
          },
          {
           "confidence": 0.98464,
           "end": 38602,
           "speaker": "B",
           "start": 38397,
           "text": "but"
          },
          {
           "confidence": 0.52894,
           "end": 38797,
           "speaker": "B",
           "start": 38620,
           "text": "they"
          },
          {
           "confidence": 0.99092,
           "end": 39112,
           "speaker": "B",
           "start": 38830,
           "text": "are"
          },
          {
           "confidence": 0.99672,
           "end": 39622,
           "speaker": "B",
           "start": 39175,
           "text": "very"
          },
          {
           "confidence": 0.54261,
           "end": 40422,
           "speaker": "B",
           "start": 39730,
           "text": "intelligent."
          },
          {
           "confidence": 0.99528,
           "end": 40762,
           "speaker": "B",
           "start": 40467,
           "text": "Good"
          },
          {
           "confidence": 0.99385,
           "end": 41092,
           "speaker": "B",
           "start": 40825,
           "text": "common"
          },
          {
           "confidence": 0.96342,
           "end": 41437,
           "speaker": "B",
           "start": 41140,
           "text": "sense"
          },
          {
           "confidence": 0.95392,
           "end": 41772,
           "speaker": "B",
           "start": 41500,
           "text": "horse"
          },
          {
           "confidence": 0.35407,
           "end": 42022,
           "speaker": "B",
           "start": 41817,
           "text": "since"
          },
          {
           "confidence": 0.99942,
           "end": 42202,
           "speaker": "B",
           "start": 42055,
           "text": "we"
          },
          {
           "confidence": 0.98713,
           "end": 42397,
           "speaker": "B",
           "start": 42220,
           "text": "called"
          },
          {
           "confidence": 0.99521,
           "end": 42667,
           "speaker": "B",
           "start": 42430,
           "text": "it"
          },
          {
           "confidence": 0.15456,
           "end": 43047,
           "speaker": "B",
           "start": 42715,
           "text": "darling."
          }
         ]
        },
        {
         "confidence": 0.9669320000000001,
         "end": 44917,
         "speaker": "A",
         "start": 43092,
         "text": "Did you look like this when you were a kid?",
         "words": [
          {
           "confidence": 0.99824,
           "end": 43252,
           "speaker": "A",
           "start": 43092,
           "text": "Did"
          },
          {
           "confidence": 1,
           "end": 43402,
           "speaker": "A",
           "start": 43270,
           "text": "you"
          },
          {
           "confidence": 0.99496,
           "end": 43597,
           "speaker": "A",
           "start": 43420,
           "text": "look"
          },
          {
           "confidence": 0.99901,
           "end": 43777,
           "speaker": "A",
           "start": 43630,
           "text": "like"
          },
          {
           "confidence": 0.99083,
           "end": 43972,
           "speaker": "A",
           "start": 43795,
           "text": "this"
          },
          {
           "confidence": 0.99979,
           "end": 44107,
           "speaker": "A",
           "start": 44005,
           "text": "when"
          },
          {
           "confidence": 0.73,
           "end": 44227,
           "speaker": "A",
           "start": 44110,
           "text": "you"
          },
          {
           "confidence": 0.97688,
           "end": 44377,
           "speaker": "A",
           "start": 44245,
           "text": "were"
          },
          {
           "confidence": 0.98,
           "end": 44482,
           "speaker": "A",
           "start": 44395,
           "text": "a"
          },
          {
           "confidence": 0.99961,
           "end": 44917,
           "speaker": "A",
           "start": 44485,
           "text": "kid?"
          }
         ]
        },
        {
         "confidence": 0.98238,
         "end": 45757,
         "speaker": "B",
         "start": 45040,
         "text": "Not quite.",
         "words": [
          {
           "confidence": 0.99579,
           "end": 45367,
           "speaker": "B",
           "start": 45040,
           "text": "Not"
          },
          {
           "confidence": 0.96897,
           "end": 45757,
           "speaker": "B",
           "start": 45415,
           "text": "quite."
          }
         ]
        },
        {
         "confidence": 0.8672840000000004,
         "end": 55537,
         "speaker": "A",
         "start": 45835,
         "text": "I mean, you didn't have the blonde wig but when I went to school when you were 11, 12, 13 was it this about you?",
         "words": [
          {
           "confidence": 0.55,
           "end": 45982,
           "speaker": "A",
           "start": 45835,
           "text": "I"
          },
          {
           "confidence": 0.97453,
           "end": 46462,
           "speaker": "A",
           "start": 45985,
           "text": "mean,"
          },
          {
           "confidence": 0.97,
           "end": 46852,
           "speaker": "A",
           "start": 46600,
           "text": "you"
          },
          {
           "confidence": 0.90202,
           "end": 47007,
           "speaker": "A",
           "start": 46870,
           "text": "didn't"
          },
          {
           "confidence": 0.83442,
           "end": 47152,
           "speaker": "A",
           "start": 47022,
           "text": "have"
          },
          {
           "confidence": 0.91,
           "end": 47257,
           "speaker": "A",
           "start": 47170,
           "text": "the"
          },
          {
           "confidence": 0.3718,
           "end": 47577,
           "speaker": "A",
           "start": 47260,
           "text": "blonde"
          },
          {
           "confidence": 0.54158,
           "end": 47802,
           "speaker": "A",
           "start": 47607,
           "text": "wig"
          },
          {
           "confidence": 0.93742,
           "end": 47977,
           "speaker": "A",
           "start": 47832,
           "text": "but"
          },
          {
           "confidence": 0.98504,
           "end": 48127,
           "speaker": "A",
           "start": 47995,
           "text": "when"
          },
          {
           "confidence": 0.5,
           "end": 48277,
           "speaker": "A",
           "start": 48145,
           "text": "I"
          },
          {
           "confidence": 0.99772,
           "end": 48472,
           "speaker": "A",
           "start": 48295,
           "text": "went"
          },
          {
           "confidence": 1,
           "end": 48697,
           "speaker": "A",
           "start": 48505,
           "text": "to"
          },
          {
           "confidence": 0.99998,
           "end": 49417,
           "speaker": "A",
           "start": 48730,
           "text": "school"
          },
          {
           "confidence": 0.99901,
           "end": 49972,
           "speaker": "A",
           "start": 49615,
           "text": "when"
          },
          {
           "confidence": 1,
           "end": 50152,
           "speaker": "A",
           "start": 50005,
           "text": "you"
          },
          {
           "confidence": 0.89741,
           "end": 50842,
           "speaker": "A",
           "start": 50170,
           "text": "were"
          },
          {
           "confidence": 0.99,
           "end": 51567,
           "speaker": "A",
           "start": 51040,
           "text": "11,"
          },
          {
           "confidence": 1,
           "end": 51937,
           "speaker": "A",
           "start": 51627,
           "text": "12,"
          },
          {
           "confidence": 0.92,
           "end": 52712,
           "speaker": "A",
           "start": 52000,
           "text": "13"
          },
          {
           "confidence": 0.98529,
           "end": 54022,
           "speaker": "A",
           "start": 53662,
           "text": "was"
          },
          {
           "confidence": 0.5651,
           "end": 54472,
           "speaker": "A",
           "start": 54055,
           "text": "it"
          },
          {
           "confidence": 0.94368,
           "end": 54892,
           "speaker": "A",
           "start": 54580,
           "text": "this"
          },
          {
           "confidence": 0.9871,
           "end": 55192,
           "speaker": "A",
           "start": 54940,
           "text": "about"
          },
          {
           "confidence": 0.92,
           "end": 55537,
           "speaker": "A",
           "start": 55240,
           "text": "you?"
          }
         ]
        },
        {
         "confidence": 0.9582083333333333,
         "end": 59600,
         "speaker": "B",
         "start": 55600,
         "text": "Well, you mean the full figure?",
         "words": [
          {
           "confidence": 0.90698,
           "end": 56002,
           "speaker": "B",
           "start": 55600,
           "text": "Well,"
          },
          {
           "confidence": 0.97,
           "end": 56302,
           "speaker": "B",
           "start": 56095,
           "text": "you"
          },
          {
           "confidence": 0.99446,
           "end": 56857,
           "speaker": "B",
           "start": 56320,
           "text": "mean"
          },
          {
           "confidence": 0.99,
           "end": 57367,
           "speaker": "B",
           "start": 57010,
           "text": "the"
          },
          {
           "confidence": 0.88906,
           "end": 58025,
           "speaker": "B",
           "start": 57415,
           "text": "full"
          },
          {
           "confidence": 0.99875,
           "end": 59600,
           "speaker": "B",
           "start": 58837,
           "text": "figure?"
          }
         ]
        },
        {
         "confidence": 0.821476,
         "end": 61347,
         "speaker": "A",
         "start": 60262,
         "text": "Yeah, that's what I meant.",
         "words": [
          {
           "confidence": 0.7799,
           "end": 60622,
           "speaker": "A",
           "start": 60262,
           "text": "Yeah,"
          },
          {
           "confidence": 0.85758,
           "end": 60882,
           "speaker": "A",
           "start": 60655,
           "text": "that's"
          },
          {
           "confidence": 0.98243,
           "end": 61027,
           "speaker": "A",
           "start": 60897,
           "text": "what"
          },
          {
           "confidence": 0.99,
           "end": 61132,
           "speaker": "A",
           "start": 61045,
           "text": "I"
          },
          {
           "confidence": 0.49747,
           "end": 61347,
           "speaker": "A",
           "start": 61135,
           "text": "meant."
          }
         ]
        },
        {
         "confidence": 0.9541813793103447,
         "end": 71600,
         "speaker": "B",
         "start": 61392,
         "text": "Yeah, that's what you meant. Well, actually I've always been pretty well blessed as a child. I grew up fast. Other members of my family have done the same.",
         "words": [
          {
           "confidence": 0.68109,
           "end": 61777,
           "speaker": "B",
           "start": 61392,
           "text": "Yeah,"
          },
          {
           "confidence": 0.7665,
           "end": 62127,
           "speaker": "B",
           "start": 61870,
           "text": "that's"
          },
          {
           "confidence": 0.99455,
           "end": 62302,
           "speaker": "B",
           "start": 62157,
           "text": "what"
          },
          {
           "confidence": 0.97,
           "end": 62452,
           "speaker": "B",
           "start": 62320,
           "text": "you"
          },
          {
           "confidence": 0.99681,
           "end": 62787,
           "speaker": "B",
           "start": 62470,
           "text": "meant."
          },
          {
           "confidence": 0.78306,
           "end": 63142,
           "speaker": "B",
           "start": 62862,
           "text": "Well,"
          },
          {
           "confidence": 0.99578,
           "end": 63577,
           "speaker": "B",
           "start": 63190,
           "text": "actually"
          },
          {
           "confidence": 0.98427,
           "end": 64002,
           "speaker": "B",
           "start": 63670,
           "text": "I've"
          },
          {
           "confidence": 0.99991,
           "end": 64267,
           "speaker": "B",
           "start": 64032,
           "text": "always"
          },
          {
           "confidence": 0.77262,
           "end": 64612,
           "speaker": "B",
           "start": 64315,
           "text": "been"
          },
          {
           "confidence": 0.99812,
           "end": 64897,
           "speaker": "B",
           "start": 64675,
           "text": "pretty"
          },
          {
           "confidence": 0.99879,
           "end": 65167,
           "speaker": "B",
           "start": 64930,
           "text": "well"
          },
          {
           "confidence": 0.99073,
           "end": 65967,
           "speaker": "B",
           "start": 65215,
           "text": "blessed"
          },
          {
           "confidence": 0.95742,
           "end": 66397,
           "speaker": "B",
           "start": 66102,
           "text": "as"
          },
          {
           "confidence": 0.99,
           "end": 66532,
           "speaker": "B",
           "start": 66430,
           "text": "a"
          },
          {
           "confidence": 0.99971,
           "end": 66742,
           "speaker": "B",
           "start": 66535,
           "text": "child."
          },
          {
           "confidence": 0.99,
           "end": 66952,
           "speaker": "B",
           "start": 66790,
           "text": "I"
          },
          {
           "confidence": 0.99896,
           "end": 67152,
           "speaker": "B",
           "start": 66970,
           "text": "grew"
          },
          {
           "confidence": 0.99895,
           "end": 67372,
           "speaker": "B",
           "start": 67182,
           "text": "up"
          },
          {
           "confidence": 0.99798,
           "end": 68000,
           "speaker": "B",
           "start": 67405,
           "text": "fast."
          },
          {
           "confidence": 0.99289,
           "end": 68812,
           "speaker": "B",
           "start": 68362,
           "text": "Other"
          },
          {
           "confidence": 0.99895,
           "end": 69142,
           "speaker": "B",
           "start": 68875,
           "text": "members"
          },
          {
           "confidence": 0.99,
           "end": 69352,
           "speaker": "B",
           "start": 69190,
           "text": "of"
          },
          {
           "confidence": 1,
           "end": 69547,
           "speaker": "B",
           "start": 69370,
           "text": "my"
          },
          {
           "confidence": 0.99981,
           "end": 70132,
           "speaker": "B",
           "start": 69580,
           "text": "family"
          },
          {
           "confidence": 0.98791,
           "end": 70597,
           "speaker": "B",
           "start": 70285,
           "text": "have"
          },
          {
           "confidence": 0.99931,
           "end": 70822,
           "speaker": "B",
           "start": 70630,
           "text": "done"
          },
          {
           "confidence": 0.9,
           "end": 71002,
           "speaker": "B",
           "start": 70855,
           "text": "the"
          },
          {
           "confidence": 0.93714,
           "end": 71600,
           "speaker": "B",
           "start": 71020,
           "text": "same."
          }
         ]
        },
        {
         "confidence": 0.9303659999999999,
         "end": 78575,
         "speaker": "A",
         "start": 72262,
         "text": "My assistant asked me something and I'm going to blame it on her because I wouldn't have had the nerve otherwise. Is it all you?",
         "words": [
          {
           "confidence": 0.99,
           "end": 72802,
           "speaker": "A",
           "start": 72262,
           "text": "My"
          },
          {
           "confidence": 0.97235,
           "end": 73422,
           "speaker": "A",
           "start": 72895,
           "text": "assistant"
          },
          {
           "confidence": 0.97547,
           "end": 73672,
           "speaker": "A",
           "start": 73467,
           "text": "asked"
          },
          {
           "confidence": 1,
           "end": 73897,
           "speaker": "A",
           "start": 73705,
           "text": "me"
          },
          {
           "confidence": 0.99942,
           "end": 74212,
           "speaker": "A",
           "start": 73930,
           "text": "something"
          },
          {
           "confidence": 0.98,
           "end": 74452,
           "speaker": "A",
           "start": 74275,
           "text": "and"
          },
          {
           "confidence": 0.98842,
           "end": 74607,
           "speaker": "A",
           "start": 74470,
           "text": "I'm"
          },
          {
           "confidence": 0.99684,
           "end": 74707,
           "speaker": "A",
           "start": 74622,
           "text": "going"
          },
          {
           "confidence": 1,
           "end": 74782,
           "speaker": "A",
           "start": 74710,
           "text": "to"
          },
          {
           "confidence": 0.99642,
           "end": 74952,
           "speaker": "A",
           "start": 74785,
           "text": "blame"
          },
          {
           "confidence": 0.43117,
           "end": 75127,
           "speaker": "A",
           "start": 74982,
           "text": "it"
          },
          {
           "confidence": 0.94945,
           "end": 75277,
           "speaker": "A",
           "start": 75145,
           "text": "on"
          },
          {
           "confidence": 0.9705,
           "end": 75427,
           "speaker": "A",
           "start": 75295,
           "text": "her"
          },
          {
           "confidence": 0.94363,
           "end": 75577,
           "speaker": "A",
           "start": 75445,
           "text": "because"
          },
          {
           "confidence": 1,
           "end": 75682,
           "speaker": "A",
           "start": 75595,
           "text": "I"
          },
          {
           "confidence": 0.61853,
           "end": 75882,
           "speaker": "A",
           "start": 75685,
           "text": "wouldn't"
          },
          {
           "confidence": 0.98607,
           "end": 75982,
           "speaker": "A",
           "start": 75897,
           "text": "have"
          },
          {
           "confidence": 0.8438,
           "end": 76102,
           "speaker": "A",
           "start": 75985,
           "text": "had"
          },
          {
           "confidence": 0.95,
           "end": 76207,
           "speaker": "A",
           "start": 76120,
           "text": "the"
          },
          {
           "confidence": 0.69972,
           "end": 76497,
           "speaker": "A",
           "start": 76210,
           "text": "nerve"
          },
          {
           "confidence": 0.99454,
           "end": 77172,
           "speaker": "A",
           "start": 76542,
           "text": "otherwise."
          },
          {
           "confidence": 0.99,
           "end": 77527,
           "speaker": "A",
           "start": 77292,
           "text": "Is"
          },
          {
           "confidence": 0.98512,
           "end": 77722,
           "speaker": "A",
           "start": 77545,
           "text": "it"
          },
          {
           "confidence": 0.9977,
           "end": 77947,
           "speaker": "A",
           "start": 77755,
           "text": "all"
          },
          {
           "confidence": 1,
           "end": 78575,
           "speaker": "A",
           "start": 77980,
           "text": "you?"
          }
         ]
        },
        {
         "confidence": 0.9480346575342465,
         "end": 99327,
         "speaker": "B",
         "start": 79762,
         "text": "Well, I can't show you. Yeah, I'll take your word for it. I get asked that question. I always answer that because people are in all of the whole thing a lot of people say I have a lot of people say I have it. I always say that if I hadn't had it on my own I'm just the kind of person that would have had me if I made you don't.",
         "words": [
          {
           "confidence": 0.96937,
           "end": 80122,
           "speaker": "B",
           "start": 79762,
           "text": "Well,"
          },
          {
           "confidence": 1,
           "end": 80302,
           "speaker": "B",
           "start": 80155,
           "text": "I"
          },
          {
           "confidence": 0.98754,
           "end": 80622,
           "speaker": "B",
           "start": 80320,
           "text": "can't"
          },
          {
           "confidence": 0.99379,
           "end": 80917,
           "speaker": "B",
           "start": 80667,
           "text": "show"
          },
          {
           "confidence": 0.86,
           "end": 81217,
           "speaker": "B",
           "start": 80965,
           "text": "you."
          },
          {
           "confidence": 0.02634,
           "end": 81875,
           "speaker": "B",
           "start": 81265,
           "text": "Yeah,"
          },
          {
           "confidence": 0.75518,
           "end": 82977,
           "speaker": "B",
           "start": 82612,
           "text": "I'll"
          },
          {
           "confidence": 0.97307,
           "end": 83197,
           "speaker": "B",
           "start": 83007,
           "text": "take"
          },
          {
           "confidence": 0.93305,
           "end": 83377,
           "speaker": "B",
           "start": 83230,
           "text": "your"
          },
          {
           "confidence": 0.92201,
           "end": 83617,
           "speaker": "B",
           "start": 83395,
           "text": "word"
          },
          {
           "confidence": 0.9922,
           "end": 83827,
           "speaker": "B",
           "start": 83665,
           "text": "for"
          },
          {
           "confidence": 0.96484,
           "end": 84022,
           "speaker": "B",
           "start": 83845,
           "text": "it."
          },
          {
           "confidence": 0.97,
           "end": 84202,
           "speaker": "B",
           "start": 84055,
           "text": "I"
          },
          {
           "confidence": 0.98574,
           "end": 84397,
           "speaker": "B",
           "start": 84220,
           "text": "get"
          },
          {
           "confidence": 0.9961,
           "end": 84667,
           "speaker": "B",
           "start": 84430,
           "text": "asked"
          },
          {
           "confidence": 1,
           "end": 84922,
           "speaker": "B",
           "start": 84715,
           "text": "that"
          },
          {
           "confidence": 0.99931,
           "end": 85237,
           "speaker": "B",
           "start": 84955,
           "text": "question."
          },
          {
           "confidence": 0.94,
           "end": 85747,
           "speaker": "B",
           "start": 85300,
           "text": "I"
          },
          {
           "confidence": 0.99773,
           "end": 86212,
           "speaker": "B",
           "start": 85855,
           "text": "always"
          },
          {
           "confidence": 0.99908,
           "end": 86542,
           "speaker": "B",
           "start": 86275,
           "text": "answer"
          },
          {
           "confidence": 0.98,
           "end": 86977,
           "speaker": "B",
           "start": 86590,
           "text": "that"
          },
          {
           "confidence": 0.98424,
           "end": 87367,
           "speaker": "B",
           "start": 87070,
           "text": "because"
          },
          {
           "confidence": 0.99761,
           "end": 87892,
           "speaker": "B",
           "start": 87415,
           "text": "people"
          },
          {
           "confidence": 0.99725,
           "end": 88297,
           "speaker": "B",
           "start": 88015,
           "text": "are"
          },
          {
           "confidence": 0.95969,
           "end": 88612,
           "speaker": "B",
           "start": 88330,
           "text": "in"
          },
          {
           "confidence": 0.9505,
           "end": 88852,
           "speaker": "B",
           "start": 88675,
           "text": "all"
          },
          {
           "confidence": 0.89,
           "end": 89047,
           "speaker": "B",
           "start": 88870,
           "text": "of"
          },
          {
           "confidence": 1,
           "end": 89227,
           "speaker": "B",
           "start": 89080,
           "text": "the"
          },
          {
           "confidence": 0.99728,
           "end": 89422,
           "speaker": "B",
           "start": 89245,
           "text": "whole"
          },
          {
           "confidence": 0.9927,
           "end": 89737,
           "speaker": "B",
           "start": 89455,
           "text": "thing"
          },
          {
           "confidence": 0.98,
           "end": 89932,
           "speaker": "B",
           "start": 89800,
           "text": "a"
          },
          {
           "confidence": 0.99852,
           "end": 90052,
           "speaker": "B",
           "start": 89935,
           "text": "lot"
          },
          {
           "confidence": 1,
           "end": 90157,
           "speaker": "B",
           "start": 90070,
           "text": "of"
          },
          {
           "confidence": 0.99992,
           "end": 90367,
           "speaker": "B",
           "start": 90160,
           "text": "people"
          },
          {
           "confidence": 0.99875,
           "end": 90622,
           "speaker": "B",
           "start": 90415,
           "text": "say"
          },
          {
           "confidence": 0.99,
           "end": 90802,
           "speaker": "B",
           "start": 90655,
           "text": "I"
          },
          {
           "confidence": 0.99601,
           "end": 90997,
           "speaker": "B",
           "start": 90820,
           "text": "have"
          },
          {
           "confidence": 0.73,
           "end": 91177,
           "speaker": "B",
           "start": 91030,
           "text": "a"
          },
          {
           "confidence": 0.99993,
           "end": 91282,
           "speaker": "B",
           "start": 91195,
           "text": "lot"
          },
          {
           "confidence": 0.99,
           "end": 91402,
           "speaker": "B",
           "start": 91285,
           "text": "of"
          },
          {
           "confidence": 0.99976,
           "end": 91912,
           "speaker": "B",
           "start": 91420,
           "text": "people"
          },
          {
           "confidence": 0.99534,
           "end": 92347,
           "speaker": "B",
           "start": 92050,
           "text": "say"
          },
          {
           "confidence": 0.96,
           "end": 92572,
           "speaker": "B",
           "start": 92380,
           "text": "I"
          },
          {
           "confidence": 0.88454,
           "end": 92797,
           "speaker": "B",
           "start": 92605,
           "text": "have"
          },
          {
           "confidence": 0.65154,
           "end": 93067,
           "speaker": "B",
           "start": 92830,
           "text": "it."
          },
          {
           "confidence": 0.8,
           "end": 93277,
           "speaker": "B",
           "start": 93115,
           "text": "I"
          },
          {
           "confidence": 0.96177,
           "end": 93562,
           "speaker": "B",
           "start": 93295,
           "text": "always"
          },
          {
           "confidence": 0.99866,
           "end": 93982,
           "speaker": "B",
           "start": 93625,
           "text": "say"
          },
          {
           "confidence": 1,
           "end": 94297,
           "speaker": "B",
           "start": 94060,
           "text": "that"
          },
          {
           "confidence": 0.99877,
           "end": 94477,
           "speaker": "B",
           "start": 94330,
           "text": "if"
          },
          {
           "confidence": 1,
           "end": 94627,
           "speaker": "B",
           "start": 94495,
           "text": "I"
          },
          {
           "confidence": 0.96649,
           "end": 94917,
           "speaker": "B",
           "start": 94645,
           "text": "hadn't"
          },
          {
           "confidence": 0.99702,
           "end": 95152,
           "speaker": "B",
           "start": 94977,
           "text": "had"
          },
          {
           "confidence": 0.9982,
           "end": 95302,
           "speaker": "B",
           "start": 95170,
           "text": "it"
          },
          {
           "confidence": 0.99937,
           "end": 95452,
           "speaker": "B",
           "start": 95320,
           "text": "on"
          },
          {
           "confidence": 1,
           "end": 95602,
           "speaker": "B",
           "start": 95470,
           "text": "my"
          },
          {
           "confidence": 0.99976,
           "end": 95797,
           "speaker": "B",
           "start": 95620,
           "text": "own"
          },
          {
           "confidence": 0.97482,
           "end": 95982,
           "speaker": "B",
           "start": 95830,
           "text": "I'm"
          },
          {
           "confidence": 0.99827,
           "end": 96127,
           "speaker": "B",
           "start": 95997,
           "text": "just"
          },
          {
           "confidence": 0.98,
           "end": 96277,
           "speaker": "B",
           "start": 96145,
           "text": "the"
          },
          {
           "confidence": 0.99383,
           "end": 96427,
           "speaker": "B",
           "start": 96295,
           "text": "kind"
          },
          {
           "confidence": 1,
           "end": 96532,
           "speaker": "B",
           "start": 96445,
           "text": "of"
          },
          {
           "confidence": 0.84252,
           "end": 96742,
           "speaker": "B",
           "start": 96535,
           "text": "person"
          },
          {
           "confidence": 0.99,
           "end": 96952,
           "speaker": "B",
           "start": 96790,
           "text": "that"
          },
          {
           "confidence": 0.99903,
           "end": 97057,
           "speaker": "B",
           "start": 96970,
           "text": "would"
          },
          {
           "confidence": 0.78991,
           "end": 97177,
           "speaker": "B",
           "start": 97060,
           "text": "have"
          },
          {
           "confidence": 0.98484,
           "end": 97327,
           "speaker": "B",
           "start": 97195,
           "text": "had"
          },
          {
           "confidence": 0.8,
           "end": 97477,
           "speaker": "B",
           "start": 97345,
           "text": "me"
          },
          {
           "confidence": 0.97726,
           "end": 97627,
           "speaker": "B",
           "start": 97495,
           "text": "if"
          },
          {
           "confidence": 0.98,
           "end": 97777,
           "speaker": "B",
           "start": 97645,
           "text": "I"
          },
          {
           "confidence": 0.99648,
           "end": 98375,
           "speaker": "B",
           "start": 97795,
           "text": "made"
          },
          {
           "confidence": 1,
           "end": 99097,
           "speaker": "B",
           "start": 98737,
           "text": "you"
          },
          {
           "confidence": 0.9906,
           "end": 99327,
           "speaker": "B",
           "start": 99130,
           "text": "don't."
          }
         ]
        },
        {
         "confidence": 0.943724,
         "end": 105877,
         "speaker": "A",
         "start": 99357,
         "text": "Have to look like this. You're very beautiful. You don't have to wear the blonde wigs you don't have to wear the extreme clothes. Right?",
         "words": [
          {
           "confidence": 0.99968,
           "end": 99502,
           "speaker": "A",
           "start": 99357,
           "text": "Have"
          },
          {
           "confidence": 1,
           "end": 99652,
           "speaker": "A",
           "start": 99520,
           "text": "to"
          },
          {
           "confidence": 0.99957,
           "end": 99802,
           "speaker": "A",
           "start": 99670,
           "text": "look"
          },
          {
           "confidence": 0.98511,
           "end": 99997,
           "speaker": "A",
           "start": 99820,
           "text": "like"
          },
          {
           "confidence": 0.99943,
           "end": 100447,
           "speaker": "A",
           "start": 100030,
           "text": "this."
          },
          {
           "confidence": 0.91031,
           "end": 100902,
           "speaker": "A",
           "start": 100555,
           "text": "You're"
          },
          {
           "confidence": 0.99959,
           "end": 101077,
           "speaker": "A",
           "start": 100932,
           "text": "very"
          },
          {
           "confidence": 0.99971,
           "end": 101452,
           "speaker": "A",
           "start": 101095,
           "text": "beautiful."
          },
          {
           "confidence": 0.98,
           "end": 101752,
           "speaker": "A",
           "start": 101545,
           "text": "You"
          },
          {
           "confidence": 0.98155,
           "end": 101952,
           "speaker": "A",
           "start": 101770,
           "text": "don't"
          },
          {
           "confidence": 0.99975,
           "end": 102082,
           "speaker": "A",
           "start": 101982,
           "text": "have"
          },
          {
           "confidence": 0.85,
           "end": 102202,
           "speaker": "A",
           "start": 102085,
           "text": "to"
          },
          {
           "confidence": 0.99653,
           "end": 102357,
           "speaker": "A",
           "start": 102220,
           "text": "wear"
          },
          {
           "confidence": 1,
           "end": 102457,
           "speaker": "A",
           "start": 102372,
           "text": "the"
          },
          {
           "confidence": 0.6237,
           "end": 102807,
           "speaker": "A",
           "start": 102460,
           "text": "blonde"
          },
          {
           "confidence": 0.91042,
           "end": 103362,
           "speaker": "A",
           "start": 102822,
           "text": "wigs"
          },
          {
           "confidence": 0.95,
           "end": 103627,
           "speaker": "A",
           "start": 103437,
           "text": "you"
          },
          {
           "confidence": 0.993,
           "end": 103827,
           "speaker": "A",
           "start": 103645,
           "text": "don't"
          },
          {
           "confidence": 0.99965,
           "end": 103957,
           "speaker": "A",
           "start": 103857,
           "text": "have"
          },
          {
           "confidence": 0.59,
           "end": 104077,
           "speaker": "A",
           "start": 103960,
           "text": "to"
          },
          {
           "confidence": 0.99539,
           "end": 104277,
           "speaker": "A",
           "start": 104095,
           "text": "wear"
          },
          {
           "confidence": 0.99,
           "end": 104452,
           "speaker": "A",
           "start": 104307,
           "text": "the"
          },
          {
           "confidence": 0.84767,
           "end": 104772,
           "speaker": "A",
           "start": 104470,
           "text": "extreme"
          },
          {
           "confidence": 0.9963,
           "end": 105222,
           "speaker": "A",
           "start": 104817,
           "text": "clothes."
          },
          {
           "confidence": 0.99574,
           "end": 105877,
           "speaker": "A",
           "start": 105267,
           "text": "Right?"
          }
         ]
        },
        {
         "confidence": 0.9376840140845069,
         "end": 146537,
         "speaker": "B",
         "start": 106045,
         "text": "No, it's certainly a choice. I don't like to be like everybody else. I've often made this statement that I would never stoop so low as to be fashionable. That's the easiest thing in the world to do. So I just decided that I would do something that would at least get the attention once they got past the shock of the ridiculous way I looked and all that, then they would see there was a part of me to be appreciated. I'm very real where it counts, and that's inside. And as far as my outlook on life and the way I care about people and the way I care about myself and the things that I care about. But I just chose to do this. And show business is a money making joke, and I just always liked telling jokes.",
         "words": [
          {
           "confidence": 0.97956,
           "end": 106687,
           "speaker": "B",
           "start": 106045,
           "text": "No,"
          },
          {
           "confidence": 0.73202,
           "end": 107202,
           "speaker": "B",
           "start": 106825,
           "text": "it's"
          },
          {
           "confidence": 0.99823,
           "end": 107467,
           "speaker": "B",
           "start": 107232,
           "text": "certainly"
          },
          {
           "confidence": 0.97,
           "end": 107677,
           "speaker": "B",
           "start": 107515,
           "text": "a"
          },
          {
           "confidence": 0.53279,
           "end": 108087,
           "speaker": "B",
           "start": 107695,
           "text": "choice."
          },
          {
           "confidence": 1,
           "end": 108352,
           "speaker": "B",
           "start": 108162,
           "text": "I"
          },
          {
           "confidence": 0.9792,
           "end": 108687,
           "speaker": "B",
           "start": 108370,
           "text": "don't"
          },
          {
           "confidence": 0.70811,
           "end": 108997,
           "speaker": "B",
           "start": 108762,
           "text": "like"
          },
          {
           "confidence": 0.99,
           "end": 109267,
           "speaker": "B",
           "start": 109030,
           "text": "to"
          },
          {
           "confidence": 1,
           "end": 109522,
           "speaker": "B",
           "start": 109315,
           "text": "be"
          },
          {
           "confidence": 0.99811,
           "end": 109792,
           "speaker": "B",
           "start": 109555,
           "text": "like"
          },
          {
           "confidence": 0.99856,
           "end": 110137,
           "speaker": "B",
           "start": 109840,
           "text": "everybody"
          },
          {
           "confidence": 0.99846,
           "end": 110422,
           "speaker": "B",
           "start": 110200,
           "text": "else."
          },
          {
           "confidence": 0.95053,
           "end": 110652,
           "speaker": "B",
           "start": 110455,
           "text": "I've"
          },
          {
           "confidence": 0.9986,
           "end": 110872,
           "speaker": "B",
           "start": 110682,
           "text": "often"
          },
          {
           "confidence": 0.62766,
           "end": 111142,
           "speaker": "B",
           "start": 110905,
           "text": "made"
          },
          {
           "confidence": 0.92059,
           "end": 111442,
           "speaker": "B",
           "start": 111190,
           "text": "this"
          },
          {
           "confidence": 0.79888,
           "end": 111867,
           "speaker": "B",
           "start": 111490,
           "text": "statement"
          },
          {
           "confidence": 0.97,
           "end": 112282,
           "speaker": "B",
           "start": 111927,
           "text": "that"
          },
          {
           "confidence": 1,
           "end": 112552,
           "speaker": "B",
           "start": 112360,
           "text": "I"
          },
          {
           "confidence": 0.99053,
           "end": 112702,
           "speaker": "B",
           "start": 112570,
           "text": "would"
          },
          {
           "confidence": 0.99922,
           "end": 112897,
           "speaker": "B",
           "start": 112720,
           "text": "never"
          },
          {
           "confidence": 0.94465,
           "end": 113202,
           "speaker": "B",
           "start": 112930,
           "text": "stoop"
          },
          {
           "confidence": 0.99291,
           "end": 113377,
           "speaker": "B",
           "start": 113232,
           "text": "so"
          },
          {
           "confidence": 0.97363,
           "end": 113527,
           "speaker": "B",
           "start": 113395,
           "text": "low"
          },
          {
           "confidence": 0.80948,
           "end": 113677,
           "speaker": "B",
           "start": 113545,
           "text": "as"
          },
          {
           "confidence": 1,
           "end": 113782,
           "speaker": "B",
           "start": 113695,
           "text": "to"
          },
          {
           "confidence": 0.99,
           "end": 113902,
           "speaker": "B",
           "start": 113785,
           "text": "be"
          },
          {
           "confidence": 0.56211,
           "end": 114417,
           "speaker": "B",
           "start": 113920,
           "text": "fashionable."
          },
          {
           "confidence": 0.97727,
           "end": 114657,
           "speaker": "B",
           "start": 114477,
           "text": "That's"
          },
          {
           "confidence": 1,
           "end": 114802,
           "speaker": "B",
           "start": 114672,
           "text": "the"
          },
          {
           "confidence": 0.97431,
           "end": 115152,
           "speaker": "B",
           "start": 114820,
           "text": "easiest"
          },
          {
           "confidence": 0.99974,
           "end": 115327,
           "speaker": "B",
           "start": 115182,
           "text": "thing"
          },
          {
           "confidence": 0.99729,
           "end": 115477,
           "speaker": "B",
           "start": 115345,
           "text": "in"
          },
          {
           "confidence": 1,
           "end": 115582,
           "speaker": "B",
           "start": 115495,
           "text": "the"
          },
          {
           "confidence": 0.99972,
           "end": 115792,
           "speaker": "B",
           "start": 115585,
           "text": "world"
          },
          {
           "confidence": 0.97,
           "end": 116002,
           "speaker": "B",
           "start": 115840,
           "text": "to"
          },
          {
           "confidence": 0.99853,
           "end": 116377,
           "speaker": "B",
           "start": 116020,
           "text": "do."
          },
          {
           "confidence": 0.78476,
           "end": 116677,
           "speaker": "B",
           "start": 116470,
           "text": "So"
          },
          {
           "confidence": 0.95,
           "end": 116872,
           "speaker": "B",
           "start": 116695,
           "text": "I"
          },
          {
           "confidence": 0.99642,
           "end": 117097,
           "speaker": "B",
           "start": 116905,
           "text": "just"
          },
          {
           "confidence": 0.99942,
           "end": 117567,
           "speaker": "B",
           "start": 117130,
           "text": "decided"
          },
          {
           "confidence": 1,
           "end": 117847,
           "speaker": "B",
           "start": 117627,
           "text": "that"
          },
          {
           "confidence": 1,
           "end": 118027,
           "speaker": "B",
           "start": 117880,
           "text": "I"
          },
          {
           "confidence": 0.99698,
           "end": 118222,
           "speaker": "B",
           "start": 118045,
           "text": "would"
          },
          {
           "confidence": 0.99957,
           "end": 118492,
           "speaker": "B",
           "start": 118255,
           "text": "do"
          },
          {
           "confidence": 0.99967,
           "end": 118972,
           "speaker": "B",
           "start": 118540,
           "text": "something"
          },
          {
           "confidence": 0.92,
           "end": 119302,
           "speaker": "B",
           "start": 119080,
           "text": "that"
          },
          {
           "confidence": 0.98478,
           "end": 119497,
           "speaker": "B",
           "start": 119320,
           "text": "would"
          },
          {
           "confidence": 1,
           "end": 119632,
           "speaker": "B",
           "start": 119530,
           "text": "at"
          },
          {
           "confidence": 0.9862,
           "end": 119842,
           "speaker": "B",
           "start": 119635,
           "text": "least"
          },
          {
           "confidence": 0.99826,
           "end": 120097,
           "speaker": "B",
           "start": 119890,
           "text": "get"
          },
          {
           "confidence": 0.99,
           "end": 120277,
           "speaker": "B",
           "start": 120130,
           "text": "the"
          },
          {
           "confidence": 0.9988,
           "end": 120687,
           "speaker": "B",
           "start": 120295,
           "text": "attention"
          },
          {
           "confidence": 0.99976,
           "end": 121042,
           "speaker": "B",
           "start": 120762,
           "text": "once"
          },
          {
           "confidence": 0.98956,
           "end": 121252,
           "speaker": "B",
           "start": 121090,
           "text": "they"
          },
          {
           "confidence": 0.9968,
           "end": 121447,
           "speaker": "B",
           "start": 121270,
           "text": "got"
          },
          {
           "confidence": 0.99,
           "end": 121717,
           "speaker": "B",
           "start": 121480,
           "text": "past"
          },
          {
           "confidence": 0.98,
           "end": 121972,
           "speaker": "B",
           "start": 121765,
           "text": "the"
          },
          {
           "confidence": 0.95938,
           "end": 122772,
           "speaker": "B",
           "start": 122005,
           "text": "shock"
          },
          {
           "confidence": 0.98,
           "end": 123322,
           "speaker": "B",
           "start": 122967,
           "text": "of"
          },
          {
           "confidence": 0.98,
           "end": 123547,
           "speaker": "B",
           "start": 123355,
           "text": "the"
          },
          {
           "confidence": 0.9568,
           "end": 124197,
           "speaker": "B",
           "start": 123580,
           "text": "ridiculous"
          },
          {
           "confidence": 0.99123,
           "end": 124447,
           "speaker": "B",
           "start": 124242,
           "text": "way"
          },
          {
           "confidence": 0.96,
           "end": 124627,
           "speaker": "B",
           "start": 124480,
           "text": "I"
          },
          {
           "confidence": 0.9898,
           "end": 124822,
           "speaker": "B",
           "start": 124645,
           "text": "looked"
          },
          {
           "confidence": 0.98,
           "end": 125002,
           "speaker": "B",
           "start": 124855,
           "text": "and"
          },
          {
           "confidence": 0.9974,
           "end": 125152,
           "speaker": "B",
           "start": 125020,
           "text": "all"
          },
          {
           "confidence": 1,
           "end": 125347,
           "speaker": "B",
           "start": 125170,
           "text": "that,"
          },
          {
           "confidence": 0.9262,
           "end": 125527,
           "speaker": "B",
           "start": 125380,
           "text": "then"
          },
          {
           "confidence": 0.98854,
           "end": 125677,
           "speaker": "B",
           "start": 125545,
           "text": "they"
          },
          {
           "confidence": 0.99453,
           "end": 125872,
           "speaker": "B",
           "start": 125695,
           "text": "would"
          },
          {
           "confidence": 0.98643,
           "end": 126097,
           "speaker": "B",
           "start": 125905,
           "text": "see"
          },
          {
           "confidence": 0.99669,
           "end": 126322,
           "speaker": "B",
           "start": 126130,
           "text": "there"
          },
          {
           "confidence": 0.97623,
           "end": 126950,
           "speaker": "B",
           "start": 126355,
           "text": "was"
          },
          {
           "confidence": 0.51,
           "end": 127627,
           "speaker": "B",
           "start": 127312,
           "text": "a"
          },
          {
           "confidence": 0.99405,
           "end": 127867,
           "speaker": "B",
           "start": 127645,
           "text": "part"
          },
          {
           "confidence": 1,
           "end": 128077,
           "speaker": "B",
           "start": 127915,
           "text": "of"
          },
          {
           "confidence": 1,
           "end": 128317,
           "speaker": "B",
           "start": 128095,
           "text": "me"
          },
          {
           "confidence": 0.99,
           "end": 128527,
           "speaker": "B",
           "start": 128365,
           "text": "to"
          },
          {
           "confidence": 0.99,
           "end": 128632,
           "speaker": "B",
           "start": 128545,
           "text": "be"
          },
          {
           "confidence": 0.87407,
           "end": 129072,
           "speaker": "B",
           "start": 128635,
           "text": "appreciated."
          },
          {
           "confidence": 0.95161,
           "end": 129327,
           "speaker": "B",
           "start": 129117,
           "text": "I'm"
          },
          {
           "confidence": 0.99938,
           "end": 129592,
           "speaker": "B",
           "start": 129357,
           "text": "very"
          },
          {
           "confidence": 1,
           "end": 130162,
           "speaker": "B",
           "start": 129640,
           "text": "real"
          },
          {
           "confidence": 0.97322,
           "end": 130597,
           "speaker": "B",
           "start": 130300,
           "text": "where"
          },
          {
           "confidence": 0.99811,
           "end": 130777,
           "speaker": "B",
           "start": 130630,
           "text": "it"
          },
          {
           "confidence": 0.99352,
           "end": 131082,
           "speaker": "B",
           "start": 130795,
           "text": "counts,"
          },
          {
           "confidence": 0.91,
           "end": 131227,
           "speaker": "B",
           "start": 131097,
           "text": "and"
          },
          {
           "confidence": 0.50044,
           "end": 131427,
           "speaker": "B",
           "start": 131245,
           "text": "that's"
          },
          {
           "confidence": 0.64876,
           "end": 131827,
           "speaker": "B",
           "start": 131457,
           "text": "inside."
          },
          {
           "confidence": 0.69,
           "end": 132127,
           "speaker": "B",
           "start": 131920,
           "text": "And"
          },
          {
           "confidence": 0.99382,
           "end": 132277,
           "speaker": "B",
           "start": 132145,
           "text": "as"
          },
          {
           "confidence": 0.99962,
           "end": 132427,
           "speaker": "B",
           "start": 132295,
           "text": "far"
          },
          {
           "confidence": 0.98493,
           "end": 132757,
           "speaker": "B",
           "start": 132445,
           "text": "as"
          },
          {
           "confidence": 0.99,
           "end": 133027,
           "speaker": "B",
           "start": 132835,
           "text": "my"
          },
          {
           "confidence": 0.61439,
           "end": 133452,
           "speaker": "B",
           "start": 133045,
           "text": "outlook"
          },
          {
           "confidence": 0.99294,
           "end": 133672,
           "speaker": "B",
           "start": 133482,
           "text": "on"
          },
          {
           "confidence": 0.99925,
           "end": 133942,
           "speaker": "B",
           "start": 133705,
           "text": "life"
          },
          {
           "confidence": 0.94,
           "end": 134152,
           "speaker": "B",
           "start": 133990,
           "text": "and"
          },
          {
           "confidence": 1,
           "end": 134302,
           "speaker": "B",
           "start": 134170,
           "text": "the"
          },
          {
           "confidence": 0.99969,
           "end": 134452,
           "speaker": "B",
           "start": 134320,
           "text": "way"
          },
          {
           "confidence": 0.99,
           "end": 134647,
           "speaker": "B",
           "start": 134470,
           "text": "I"
          },
          {
           "confidence": 0.99811,
           "end": 134872,
           "speaker": "B",
           "start": 134680,
           "text": "care"
          },
          {
           "confidence": 0.99614,
           "end": 135142,
           "speaker": "B",
           "start": 134905,
           "text": "about"
          },
          {
           "confidence": 0.99985,
           "end": 135442,
           "speaker": "B",
           "start": 135190,
           "text": "people"
          },
          {
           "confidence": 0.76,
           "end": 135607,
           "speaker": "B",
           "start": 135490,
           "text": "and"
          },
          {
           "confidence": 0.99,
           "end": 135682,
           "speaker": "B",
           "start": 135610,
           "text": "the"
          },
          {
           "confidence": 0.98477,
           "end": 135802,
           "speaker": "B",
           "start": 135685,
           "text": "way"
          },
          {
           "confidence": 0.99,
           "end": 135952,
           "speaker": "B",
           "start": 135820,
           "text": "I"
          },
          {
           "confidence": 0.99801,
           "end": 136147,
           "speaker": "B",
           "start": 135970,
           "text": "care"
          },
          {
           "confidence": 0.6672,
           "end": 136417,
           "speaker": "B",
           "start": 136180,
           "text": "about"
          },
          {
           "confidence": 0.999,
           "end": 136987,
           "speaker": "B",
           "start": 136465,
           "text": "myself"
          },
          {
           "confidence": 0.96,
           "end": 137377,
           "speaker": "B",
           "start": 137125,
           "text": "and"
          },
          {
           "confidence": 0.56,
           "end": 137572,
           "speaker": "B",
           "start": 137395,
           "text": "the"
          },
          {
           "confidence": 0.99777,
           "end": 137797,
           "speaker": "B",
           "start": 137605,
           "text": "things"
          },
          {
           "confidence": 1,
           "end": 137977,
           "speaker": "B",
           "start": 137830,
           "text": "that"
          },
          {
           "confidence": 1,
           "end": 138127,
           "speaker": "B",
           "start": 137995,
           "text": "I"
          },
          {
           "confidence": 0.99986,
           "end": 138322,
           "speaker": "B",
           "start": 138145,
           "text": "care"
          },
          {
           "confidence": 0.99989,
           "end": 138772,
           "speaker": "B",
           "start": 138355,
           "text": "about."
          },
          {
           "confidence": 0.91547,
           "end": 139192,
           "speaker": "B",
           "start": 138880,
           "text": "But"
          },
          {
           "confidence": 1,
           "end": 139402,
           "speaker": "B",
           "start": 139240,
           "text": "I"
          },
          {
           "confidence": 0.99689,
           "end": 139597,
           "speaker": "B",
           "start": 139420,
           "text": "just"
          },
          {
           "confidence": 0.99204,
           "end": 139872,
           "speaker": "B",
           "start": 139630,
           "text": "chose"
          },
          {
           "confidence": 1,
           "end": 140077,
           "speaker": "B",
           "start": 139917,
           "text": "to"
          },
          {
           "confidence": 0.99854,
           "end": 140227,
           "speaker": "B",
           "start": 140095,
           "text": "do"
          },
          {
           "confidence": 0.99822,
           "end": 140422,
           "speaker": "B",
           "start": 140245,
           "text": "this."
          },
          {
           "confidence": 0.6,
           "end": 141007,
           "speaker": "B",
           "start": 140455,
           "text": "And"
          },
          {
           "confidence": 0.99795,
           "end": 141472,
           "speaker": "B",
           "start": 141160,
           "text": "show"
          },
          {
           "confidence": 0.998,
           "end": 141787,
           "speaker": "B",
           "start": 141505,
           "text": "business"
          },
          {
           "confidence": 0.62,
           "end": 142072,
           "speaker": "B",
           "start": 141850,
           "text": "is"
          },
          {
           "confidence": 0.89,
           "end": 142342,
           "speaker": "B",
           "start": 142105,
           "text": "a"
          },
          {
           "confidence": 0.99994,
           "end": 142642,
           "speaker": "B",
           "start": 142390,
           "text": "money"
          },
          {
           "confidence": 0.9628,
           "end": 143077,
           "speaker": "B",
           "start": 142690,
           "text": "making"
          },
          {
           "confidence": 0.89028,
           "end": 143682,
           "speaker": "B",
           "start": 143170,
           "text": "joke,"
          },
          {
           "confidence": 0.86,
           "end": 144067,
           "speaker": "B",
           "start": 143772,
           "text": "and"
          },
          {
           "confidence": 0.99,
           "end": 144277,
           "speaker": "B",
           "start": 144115,
           "text": "I"
          },
          {
           "confidence": 0.96338,
           "end": 144517,
           "speaker": "B",
           "start": 144295,
           "text": "just"
          },
          {
           "confidence": 0.99887,
           "end": 144862,
           "speaker": "B",
           "start": 144565,
           "text": "always"
          },
          {
           "confidence": 0.8768,
           "end": 145407,
           "speaker": "B",
           "start": 144925,
           "text": "liked"
          },
          {
           "confidence": 0.87143,
           "end": 145872,
           "speaker": "B",
           "start": 145497,
           "text": "telling"
          },
          {
           "confidence": 0.74722,
           "end": 146537,
           "speaker": "B",
           "start": 145917,
           "text": "jokes."
          }
         ]
        },
        {
         "confidence": 0.924666,
         "end": 150742,
         "speaker": "A",
         "start": 146887,
         "text": "But do you ever feel that you're a joke? That people make fun of you?",
         "words": [
          {
           "confidence": 0.8213,
           "end": 147247,
           "speaker": "A",
           "start": 146887,
           "text": "But"
          },
          {
           "confidence": 0.99296,
           "end": 147427,
           "speaker": "A",
           "start": 147280,
           "text": "do"
          },
          {
           "confidence": 0.95,
           "end": 147667,
           "speaker": "A",
           "start": 147445,
           "text": "you"
          },
          {
           "confidence": 0.99889,
           "end": 147967,
           "speaker": "A",
           "start": 147715,
           "text": "ever"
          },
          {
           "confidence": 0.99967,
           "end": 148267,
           "speaker": "A",
           "start": 148015,
           "text": "feel"
          },
          {
           "confidence": 1,
           "end": 148477,
           "speaker": "A",
           "start": 148315,
           "text": "that"
          },
          {
           "confidence": 0.61436,
           "end": 148722,
           "speaker": "A",
           "start": 148495,
           "text": "you're"
          },
          {
           "confidence": 1,
           "end": 148927,
           "speaker": "A",
           "start": 148767,
           "text": "a"
          },
          {
           "confidence": 0.99547,
           "end": 149292,
           "speaker": "A",
           "start": 148945,
           "text": "joke?"
          },
          {
           "confidence": 0.98,
           "end": 149572,
           "speaker": "A",
           "start": 149352,
           "text": "That"
          },
          {
           "confidence": 0.99993,
           "end": 149842,
           "speaker": "A",
           "start": 149605,
           "text": "people"
          },
          {
           "confidence": 0.9976,
           "end": 150097,
           "speaker": "A",
           "start": 149890,
           "text": "make"
          },
          {
           "confidence": 0.99981,
           "end": 150277,
           "speaker": "A",
           "start": 150130,
           "text": "fun"
          },
          {
           "confidence": 0.52,
           "end": 150472,
           "speaker": "A",
           "start": 150295,
           "text": "of"
          },
          {
           "confidence": 1,
           "end": 150742,
           "speaker": "A",
           "start": 150505,
           "text": "you?"
          }
         ]
        },
        {
         "confidence": 0.9032113821138208,
         "end": 188150,
         "speaker": "B",
         "start": 150790,
         "text": "Oh, I know they make fun of me but actually, all these years the people have thought the joke was on me, but it's actually been on the public. I know exactly what I'm doing and I can change it at any time or I make more jokes about myself than anybody because I enjoy as I say, I am sure of myself as a person. I'm sure of my talent and to me and I'm sure of my love for life and that sort of thing. I'm very content. I like the kind of person that I am so I can afford to pedal around and do the little around with makeups and clothes and stuff because I am secure with myself.",
         "words": [
          {
           "confidence": 0.61,
           "end": 150952,
           "speaker": "B",
           "start": 150790,
           "text": "Oh,"
          },
          {
           "confidence": 1,
           "end": 151057,
           "speaker": "B",
           "start": 150970,
           "text": "I"
          },
          {
           "confidence": 0.99898,
           "end": 151177,
           "speaker": "B",
           "start": 151060,
           "text": "know"
          },
          {
           "confidence": 0.88295,
           "end": 151372,
           "speaker": "B",
           "start": 151195,
           "text": "they"
          },
          {
           "confidence": 0.9929,
           "end": 151597,
           "speaker": "B",
           "start": 151405,
           "text": "make"
          },
          {
           "confidence": 0.99987,
           "end": 151777,
           "speaker": "B",
           "start": 151630,
           "text": "fun"
          },
          {
           "confidence": 1,
           "end": 151927,
           "speaker": "B",
           "start": 151795,
           "text": "of"
          },
          {
           "confidence": 1,
           "end": 152437,
           "speaker": "B",
           "start": 151945,
           "text": "me"
          },
          {
           "confidence": 0.9336,
           "end": 152872,
           "speaker": "B",
           "start": 152575,
           "text": "but"
          },
          {
           "confidence": 0.99753,
           "end": 153187,
           "speaker": "B",
           "start": 152905,
           "text": "actually,"
          },
          {
           "confidence": 0.99677,
           "end": 153517,
           "speaker": "B",
           "start": 153250,
           "text": "all"
          },
          {
           "confidence": 0.99166,
           "end": 153817,
           "speaker": "B",
           "start": 153565,
           "text": "these"
          },
          {
           "confidence": 0.99968,
           "end": 154252,
           "speaker": "B",
           "start": 153865,
           "text": "years"
          },
          {
           "confidence": 0.89,
           "end": 154597,
           "speaker": "B",
           "start": 154345,
           "text": "the"
          },
          {
           "confidence": 0.99929,
           "end": 155225,
           "speaker": "B",
           "start": 154630,
           "text": "people"
          },
          {
           "confidence": 0.67776,
           "end": 155947,
           "speaker": "B",
           "start": 155587,
           "text": "have"
          },
          {
           "confidence": 0.99561,
           "end": 156172,
           "speaker": "B",
           "start": 155980,
           "text": "thought"
          },
          {
           "confidence": 0.96,
           "end": 156352,
           "speaker": "B",
           "start": 156205,
           "text": "the"
          },
          {
           "confidence": 0.99582,
           "end": 156627,
           "speaker": "B",
           "start": 156370,
           "text": "joke"
          },
          {
           "confidence": 0.98827,
           "end": 156802,
           "speaker": "B",
           "start": 156657,
           "text": "was"
          },
          {
           "confidence": 0.99755,
           "end": 156952,
           "speaker": "B",
           "start": 156820,
           "text": "on"
          },
          {
           "confidence": 0.99,
           "end": 157147,
           "speaker": "B",
           "start": 156970,
           "text": "me,"
          },
          {
           "confidence": 0.99138,
           "end": 157327,
           "speaker": "B",
           "start": 157180,
           "text": "but"
          },
          {
           "confidence": 0.93843,
           "end": 157527,
           "speaker": "B",
           "start": 157345,
           "text": "it's"
          },
          {
           "confidence": 0.99761,
           "end": 157792,
           "speaker": "B",
           "start": 157557,
           "text": "actually"
          },
          {
           "confidence": 0.99878,
           "end": 158002,
           "speaker": "B",
           "start": 157840,
           "text": "been"
          },
          {
           "confidence": 0.99418,
           "end": 158152,
           "speaker": "B",
           "start": 158020,
           "text": "on"
          },
          {
           "confidence": 0.98,
           "end": 158302,
           "speaker": "B",
           "start": 158170,
           "text": "the"
          },
          {
           "confidence": 0.68047,
           "end": 158722,
           "speaker": "B",
           "start": 158320,
           "text": "public."
          },
          {
           "confidence": 0.98,
           "end": 159097,
           "speaker": "B",
           "start": 158830,
           "text": "I"
          },
          {
           "confidence": 0.99907,
           "end": 159322,
           "speaker": "B",
           "start": 159130,
           "text": "know"
          },
          {
           "confidence": 0.99993,
           "end": 159637,
           "speaker": "B",
           "start": 159355,
           "text": "exactly"
          },
          {
           "confidence": 0.99963,
           "end": 159877,
           "speaker": "B",
           "start": 159700,
           "text": "what"
          },
          {
           "confidence": 0.97345,
           "end": 160077,
           "speaker": "B",
           "start": 159895,
           "text": "I'm"
          },
          {
           "confidence": 0.99874,
           "end": 160297,
           "speaker": "B",
           "start": 160107,
           "text": "doing"
          },
          {
           "confidence": 0.91,
           "end": 160477,
           "speaker": "B",
           "start": 160330,
           "text": "and"
          },
          {
           "confidence": 1,
           "end": 160582,
           "speaker": "B",
           "start": 160495,
           "text": "I"
          },
          {
           "confidence": 0.995,
           "end": 160747,
           "speaker": "B",
           "start": 160585,
           "text": "can"
          },
          {
           "confidence": 0.99978,
           "end": 160972,
           "speaker": "B",
           "start": 160780,
           "text": "change"
          },
          {
           "confidence": 0.99254,
           "end": 161152,
           "speaker": "B",
           "start": 161005,
           "text": "it"
          },
          {
           "confidence": 0.99,
           "end": 161302,
           "speaker": "B",
           "start": 161170,
           "text": "at"
          },
          {
           "confidence": 0.99917,
           "end": 161542,
           "speaker": "B",
           "start": 161320,
           "text": "any"
          },
          {
           "confidence": 0.9738,
           "end": 161932,
           "speaker": "B",
           "start": 161590,
           "text": "time"
          },
          {
           "confidence": 0.46059,
           "end": 162247,
           "speaker": "B",
           "start": 162010,
           "text": "or"
          },
          {
           "confidence": 0.99,
           "end": 162427,
           "speaker": "B",
           "start": 162280,
           "text": "I"
          },
          {
           "confidence": 0.99482,
           "end": 162622,
           "speaker": "B",
           "start": 162445,
           "text": "make"
          },
          {
           "confidence": 1,
           "end": 162802,
           "speaker": "B",
           "start": 162655,
           "text": "more"
          },
          {
           "confidence": 0.57052,
           "end": 163047,
           "speaker": "B",
           "start": 162820,
           "text": "jokes"
          },
          {
           "confidence": 0.9986,
           "end": 163252,
           "speaker": "B",
           "start": 163092,
           "text": "about"
          },
          {
           "confidence": 0.99398,
           "end": 163582,
           "speaker": "B",
           "start": 163270,
           "text": "myself"
          },
          {
           "confidence": 0.54641,
           "end": 164212,
           "speaker": "B",
           "start": 163660,
           "text": "than"
          },
          {
           "confidence": 0.99973,
           "end": 165097,
           "speaker": "B",
           "start": 164350,
           "text": "anybody"
          },
          {
           "confidence": 0.82485,
           "end": 165712,
           "speaker": "B",
           "start": 165280,
           "text": "because"
          },
          {
           "confidence": 0.72,
           "end": 165997,
           "speaker": "B",
           "start": 165775,
           "text": "I"
          },
          {
           "confidence": 0.97733,
           "end": 166627,
           "speaker": "B",
           "start": 166030,
           "text": "enjoy"
          },
          {
           "confidence": 0.01908,
           "end": 167077,
           "speaker": "B",
           "start": 166795,
           "text": "as"
          },
          {
           "confidence": 0.98,
           "end": 167182,
           "speaker": "B",
           "start": 167095,
           "text": "I"
          },
          {
           "confidence": 0.6215,
           "end": 167347,
           "speaker": "B",
           "start": 167185,
           "text": "say,"
          },
          {
           "confidence": 0.99,
           "end": 167527,
           "speaker": "B",
           "start": 167380,
           "text": "I"
          },
          {
           "confidence": 0.83,
           "end": 167722,
           "speaker": "B",
           "start": 167545,
           "text": "am"
          },
          {
           "confidence": 0.99666,
           "end": 167992,
           "speaker": "B",
           "start": 167755,
           "text": "sure"
          },
          {
           "confidence": 1,
           "end": 168202,
           "speaker": "B",
           "start": 168040,
           "text": "of"
          },
          {
           "confidence": 0.97309,
           "end": 168667,
           "speaker": "B",
           "start": 168220,
           "text": "myself"
          },
          {
           "confidence": 0.73036,
           "end": 169027,
           "speaker": "B",
           "start": 168790,
           "text": "as"
          },
          {
           "confidence": 0.98,
           "end": 169132,
           "speaker": "B",
           "start": 169045,
           "text": "a"
          },
          {
           "confidence": 0.99963,
           "end": 169522,
           "speaker": "B",
           "start": 169135,
           "text": "person."
          },
          {
           "confidence": 0.7482,
           "end": 170022,
           "speaker": "B",
           "start": 169630,
           "text": "I'm"
          },
          {
           "confidence": 0.99957,
           "end": 170272,
           "speaker": "B",
           "start": 170067,
           "text": "sure"
          },
          {
           "confidence": 0.99,
           "end": 170497,
           "speaker": "B",
           "start": 170305,
           "text": "of"
          },
          {
           "confidence": 1,
           "end": 170722,
           "speaker": "B",
           "start": 170530,
           "text": "my"
          },
          {
           "confidence": 0.90608,
           "end": 171477,
           "speaker": "B",
           "start": 170755,
           "text": "talent"
          },
          {
           "confidence": 0.69,
           "end": 171997,
           "speaker": "B",
           "start": 171657,
           "text": "and"
          },
          {
           "confidence": 0.99,
           "end": 172177,
           "speaker": "B",
           "start": 172030,
           "text": "to"
          },
          {
           "confidence": 1,
           "end": 172462,
           "speaker": "B",
           "start": 172195,
           "text": "me"
          },
          {
           "confidence": 0.68,
           "end": 172792,
           "speaker": "B",
           "start": 172525,
           "text": "and"
          },
          {
           "confidence": 0.95574,
           "end": 173127,
           "speaker": "B",
           "start": 172840,
           "text": "I'm"
          },
          {
           "confidence": 0.99862,
           "end": 173392,
           "speaker": "B",
           "start": 173157,
           "text": "sure"
          },
          {
           "confidence": 0.56,
           "end": 173827,
           "speaker": "B",
           "start": 173440,
           "text": "of"
          },
          {
           "confidence": 1,
           "end": 174352,
           "speaker": "B",
           "start": 173920,
           "text": "my"
          },
          {
           "confidence": 0.99937,
           "end": 175057,
           "speaker": "B",
           "start": 174445,
           "text": "love"
          },
          {
           "confidence": 0.9995,
           "end": 175522,
           "speaker": "B",
           "start": 175210,
           "text": "for"
          },
          {
           "confidence": 0.99981,
           "end": 175792,
           "speaker": "B",
           "start": 175555,
           "text": "life"
          },
          {
           "confidence": 0.98,
           "end": 176002,
           "speaker": "B",
           "start": 175840,
           "text": "and"
          },
          {
           "confidence": 1,
           "end": 176152,
           "speaker": "B",
           "start": 176020,
           "text": "that"
          },
          {
           "confidence": 0.99712,
           "end": 176302,
           "speaker": "B",
           "start": 176170,
           "text": "sort"
          },
          {
           "confidence": 0.99,
           "end": 176407,
           "speaker": "B",
           "start": 176320,
           "text": "of"
          },
          {
           "confidence": 0.99977,
           "end": 176572,
           "speaker": "B",
           "start": 176410,
           "text": "thing."
          },
          {
           "confidence": 0.98191,
           "end": 176757,
           "speaker": "B",
           "start": 176605,
           "text": "I'm"
          },
          {
           "confidence": 0.99968,
           "end": 176992,
           "speaker": "B",
           "start": 176772,
           "text": "very"
          },
          {
           "confidence": 0.99962,
           "end": 177427,
           "speaker": "B",
           "start": 177040,
           "text": "content."
          },
          {
           "confidence": 1,
           "end": 177727,
           "speaker": "B",
           "start": 177520,
           "text": "I"
          },
          {
           "confidence": 0.98172,
           "end": 177967,
           "speaker": "B",
           "start": 177745,
           "text": "like"
          },
          {
           "confidence": 0.99,
           "end": 178177,
           "speaker": "B",
           "start": 178015,
           "text": "the"
          },
          {
           "confidence": 0.99157,
           "end": 178327,
           "speaker": "B",
           "start": 178195,
           "text": "kind"
          },
          {
           "confidence": 1,
           "end": 178477,
           "speaker": "B",
           "start": 178345,
           "text": "of"
          },
          {
           "confidence": 0.99982,
           "end": 178717,
           "speaker": "B",
           "start": 178495,
           "text": "person"
          },
          {
           "confidence": 0.99,
           "end": 178927,
           "speaker": "B",
           "start": 178765,
           "text": "that"
          },
          {
           "confidence": 1,
           "end": 179077,
           "speaker": "B",
           "start": 178945,
           "text": "I"
          },
          {
           "confidence": 1,
           "end": 179317,
           "speaker": "B",
           "start": 179095,
           "text": "am"
          },
          {
           "confidence": 0.7859,
           "end": 179707,
           "speaker": "B",
           "start": 179365,
           "text": "so"
          },
          {
           "confidence": 1,
           "end": 179977,
           "speaker": "B",
           "start": 179785,
           "text": "I"
          },
          {
           "confidence": 0.99799,
           "end": 180172,
           "speaker": "B",
           "start": 179995,
           "text": "can"
          },
          {
           "confidence": 0.62098,
           "end": 180612,
           "speaker": "B",
           "start": 180205,
           "text": "afford"
          },
          {
           "confidence": 1,
           "end": 180922,
           "speaker": "B",
           "start": 180687,
           "text": "to"
          },
          {
           "confidence": 0.01284,
           "end": 181272,
           "speaker": "B",
           "start": 180955,
           "text": "pedal"
          },
          {
           "confidence": 0.99894,
           "end": 181567,
           "speaker": "B",
           "start": 181317,
           "text": "around"
          },
          {
           "confidence": 0.99,
           "end": 181822,
           "speaker": "B",
           "start": 181615,
           "text": "and"
          },
          {
           "confidence": 0.98465,
           "end": 182047,
           "speaker": "B",
           "start": 181855,
           "text": "do"
          },
          {
           "confidence": 0.04,
           "end": 182227,
           "speaker": "B",
           "start": 182080,
           "text": "the"
          },
          {
           "confidence": 0.01317,
           "end": 182422,
           "speaker": "B",
           "start": 182245,
           "text": "little"
          },
          {
           "confidence": 0.99872,
           "end": 182692,
           "speaker": "B",
           "start": 182455,
           "text": "around"
          },
          {
           "confidence": 0.99889,
           "end": 182992,
           "speaker": "B",
           "start": 182740,
           "text": "with"
          },
          {
           "confidence": 0.63073,
           "end": 183627,
           "speaker": "B",
           "start": 183040,
           "text": "makeups"
          },
          {
           "confidence": 0.97,
           "end": 183802,
           "speaker": "B",
           "start": 183657,
           "text": "and"
          },
          {
           "confidence": 0.83415,
           "end": 184152,
           "speaker": "B",
           "start": 183820,
           "text": "clothes"
          },
          {
           "confidence": 0.98,
           "end": 184327,
           "speaker": "B",
           "start": 184182,
           "text": "and"
          },
          {
           "confidence": 0.99743,
           "end": 184657,
           "speaker": "B",
           "start": 184345,
           "text": "stuff"
          },
          {
           "confidence": 0.55052,
           "end": 185107,
           "speaker": "B",
           "start": 184735,
           "text": "because"
          },
          {
           "confidence": 0.99,
           "end": 185422,
           "speaker": "B",
           "start": 185185,
           "text": "I"
          },
          {
           "confidence": 0.96,
           "end": 185872,
           "speaker": "B",
           "start": 185455,
           "text": "am"
          },
          {
           "confidence": 0.99729,
           "end": 186672,
           "speaker": "B",
           "start": 185980,
           "text": "secure"
          },
          {
           "confidence": 0.83823,
           "end": 187342,
           "speaker": "B",
           "start": 186792,
           "text": "with"
          },
          {
           "confidence": 0.99912,
           "end": 188150,
           "speaker": "B",
           "start": 187465,
           "text": "myself."
          }
         ]
        },
        {
         "confidence": 0.9429769014084506,
         "end": 207712,
         "speaker": "A",
         "start": 188962,
         "text": "Listen, tell me about this marriage of yours this man who nobody ever seems to see. We heard that he was here, we heard that he was, but none of us have seen him. Paul Dean, you don't see him very much. You're on the road most of the time. You've said, I know that this marriage will always last. This man gives me everything I need. How do you know?",
         "words": [
          {
           "confidence": 0.9966,
           "end": 189412,
           "speaker": "A",
           "start": 188962,
           "text": "Listen,"
          },
          {
           "confidence": 0.99716,
           "end": 189652,
           "speaker": "A",
           "start": 189475,
           "text": "tell"
          },
          {
           "confidence": 1,
           "end": 189802,
           "speaker": "A",
           "start": 189670,
           "text": "me"
          },
          {
           "confidence": 0.99982,
           "end": 189997,
           "speaker": "A",
           "start": 189820,
           "text": "about"
          },
          {
           "confidence": 0.9993,
           "end": 190222,
           "speaker": "A",
           "start": 190030,
           "text": "this"
          },
          {
           "confidence": 0.99966,
           "end": 190572,
           "speaker": "A",
           "start": 190255,
           "text": "marriage"
          },
          {
           "confidence": 0.99,
           "end": 190777,
           "speaker": "A",
           "start": 190617,
           "text": "of"
          },
          {
           "confidence": 0.99414,
           "end": 191097,
           "speaker": "A",
           "start": 190795,
           "text": "yours"
          },
          {
           "confidence": 0.99904,
           "end": 191347,
           "speaker": "A",
           "start": 191142,
           "text": "this"
          },
          {
           "confidence": 0.99917,
           "end": 191572,
           "speaker": "A",
           "start": 191380,
           "text": "man"
          },
          {
           "confidence": 0.99823,
           "end": 191797,
           "speaker": "A",
           "start": 191605,
           "text": "who"
          },
          {
           "confidence": 0.99355,
           "end": 192327,
           "speaker": "A",
           "start": 191830,
           "text": "nobody"
          },
          {
           "confidence": 0.9984,
           "end": 192697,
           "speaker": "A",
           "start": 192432,
           "text": "ever"
          },
          {
           "confidence": 0.56941,
           "end": 192967,
           "speaker": "A",
           "start": 192730,
           "text": "seems"
          },
          {
           "confidence": 1,
           "end": 193132,
           "speaker": "A",
           "start": 193015,
           "text": "to"
          },
          {
           "confidence": 0.99515,
           "end": 193297,
           "speaker": "A",
           "start": 193135,
           "text": "see."
          },
          {
           "confidence": 0.99448,
           "end": 193522,
           "speaker": "A",
           "start": 193330,
           "text": "We"
          },
          {
           "confidence": 0.99967,
           "end": 193747,
           "speaker": "A",
           "start": 193555,
           "text": "heard"
          },
          {
           "confidence": 0.98,
           "end": 193927,
           "speaker": "A",
           "start": 193780,
           "text": "that"
          },
          {
           "confidence": 0.99756,
           "end": 194032,
           "speaker": "A",
           "start": 193945,
           "text": "he"
          },
          {
           "confidence": 0.99642,
           "end": 194152,
           "speaker": "A",
           "start": 194035,
           "text": "was"
          },
          {
           "confidence": 0.58996,
           "end": 194437,
           "speaker": "A",
           "start": 194170,
           "text": "here,"
          },
          {
           "confidence": 0.59642,
           "end": 194722,
           "speaker": "A",
           "start": 194500,
           "text": "we"
          },
          {
           "confidence": 0.5106,
           "end": 194947,
           "speaker": "A",
           "start": 194755,
           "text": "heard"
          },
          {
           "confidence": 0.97,
           "end": 195082,
           "speaker": "A",
           "start": 194980,
           "text": "that"
          },
          {
           "confidence": 0.79768,
           "end": 195202,
           "speaker": "A",
           "start": 195085,
           "text": "he"
          },
          {
           "confidence": 0.70057,
           "end": 195487,
           "speaker": "A",
           "start": 195220,
           "text": "was,"
          },
          {
           "confidence": 0.96908,
           "end": 195727,
           "speaker": "A",
           "start": 195550,
           "text": "but"
          },
          {
           "confidence": 0.99765,
           "end": 195882,
           "speaker": "A",
           "start": 195745,
           "text": "none"
          },
          {
           "confidence": 1,
           "end": 195982,
           "speaker": "A",
           "start": 195897,
           "text": "of"
          },
          {
           "confidence": 1,
           "end": 196102,
           "speaker": "A",
           "start": 195985,
           "text": "us"
          },
          {
           "confidence": 0.85322,
           "end": 196207,
           "speaker": "A",
           "start": 196120,
           "text": "have"
          },
          {
           "confidence": 0.98718,
           "end": 196372,
           "speaker": "A",
           "start": 196210,
           "text": "seen"
          },
          {
           "confidence": 0.96596,
           "end": 196732,
           "speaker": "A",
           "start": 196405,
           "text": "him."
          },
          {
           "confidence": 0.67854,
           "end": 197127,
           "speaker": "A",
           "start": 196810,
           "text": "Paul"
          },
          {
           "confidence": 0.74084,
           "end": 197832,
           "speaker": "A",
           "start": 197157,
           "text": "Dean,"
          },
          {
           "confidence": 0.99,
           "end": 198277,
           "speaker": "A",
           "start": 197997,
           "text": "you"
          },
          {
           "confidence": 0.995,
           "end": 198432,
           "speaker": "A",
           "start": 198295,
           "text": "don't"
          },
          {
           "confidence": 0.99192,
           "end": 198622,
           "speaker": "A",
           "start": 198447,
           "text": "see"
          },
          {
           "confidence": 0.93908,
           "end": 198847,
           "speaker": "A",
           "start": 198655,
           "text": "him"
          },
          {
           "confidence": 0.99982,
           "end": 199072,
           "speaker": "A",
           "start": 198880,
           "text": "very"
          },
          {
           "confidence": 0.99997,
           "end": 199477,
           "speaker": "A",
           "start": 199105,
           "text": "much."
          },
          {
           "confidence": 0.9428,
           "end": 199857,
           "speaker": "A",
           "start": 199570,
           "text": "You're"
          },
          {
           "confidence": 0.99949,
           "end": 200002,
           "speaker": "A",
           "start": 199872,
           "text": "on"
          },
          {
           "confidence": 1,
           "end": 200107,
           "speaker": "A",
           "start": 200020,
           "text": "the"
          },
          {
           "confidence": 0.81209,
           "end": 200362,
           "speaker": "A",
           "start": 200110,
           "text": "road"
          },
          {
           "confidence": 0.99977,
           "end": 200647,
           "speaker": "A",
           "start": 200425,
           "text": "most"
          },
          {
           "confidence": 0.98,
           "end": 200782,
           "speaker": "A",
           "start": 200680,
           "text": "of"
          },
          {
           "confidence": 0.99,
           "end": 200902,
           "speaker": "A",
           "start": 200785,
           "text": "the"
          },
          {
           "confidence": 0.9986,
           "end": 201142,
           "speaker": "A",
           "start": 200920,
           "text": "time."
          },
          {
           "confidence": 0.58451,
           "end": 201402,
           "speaker": "A",
           "start": 201190,
           "text": "You've"
          },
          {
           "confidence": 0.99912,
           "end": 201667,
           "speaker": "A",
           "start": 201432,
           "text": "said,"
          },
          {
           "confidence": 1,
           "end": 201877,
           "speaker": "A",
           "start": 201715,
           "text": "I"
          },
          {
           "confidence": 0.99953,
           "end": 202072,
           "speaker": "A",
           "start": 201895,
           "text": "know"
          },
          {
           "confidence": 1,
           "end": 202297,
           "speaker": "A",
           "start": 202105,
           "text": "that"
          },
          {
           "confidence": 0.99922,
           "end": 202522,
           "speaker": "A",
           "start": 202330,
           "text": "this"
          },
          {
           "confidence": 0.99962,
           "end": 202872,
           "speaker": "A",
           "start": 202555,
           "text": "marriage"
          },
          {
           "confidence": 0.99926,
           "end": 203122,
           "speaker": "A",
           "start": 202917,
           "text": "will"
          },
          {
           "confidence": 0.99993,
           "end": 203437,
           "speaker": "A",
           "start": 203155,
           "text": "always"
          },
          {
           "confidence": 0.99957,
           "end": 203947,
           "speaker": "A",
           "start": 203500,
           "text": "last."
          },
          {
           "confidence": 0.99873,
           "end": 204322,
           "speaker": "A",
           "start": 204055,
           "text": "This"
          },
          {
           "confidence": 0.99913,
           "end": 204547,
           "speaker": "A",
           "start": 204355,
           "text": "man"
          },
          {
           "confidence": 0.99561,
           "end": 204772,
           "speaker": "A",
           "start": 204580,
           "text": "gives"
          },
          {
           "confidence": 1,
           "end": 204997,
           "speaker": "A",
           "start": 204805,
           "text": "me"
          },
          {
           "confidence": 0.99984,
           "end": 205312,
           "speaker": "A",
           "start": 205030,
           "text": "everything"
          },
          {
           "confidence": 1,
           "end": 205552,
           "speaker": "A",
           "start": 205375,
           "text": "I"
          },
          {
           "confidence": 0.99972,
           "end": 206150,
           "speaker": "A",
           "start": 205570,
           "text": "need."
          },
          {
           "confidence": 0.97125,
           "end": 206902,
           "speaker": "A",
           "start": 206587,
           "text": "How"
          },
          {
           "confidence": 0.91293,
           "end": 207052,
           "speaker": "A",
           "start": 206920,
           "text": "do"
          },
          {
           "confidence": 1,
           "end": 207202,
           "speaker": "A",
           "start": 207070,
           "text": "you"
          },
          {
           "confidence": 0.99939,
           "end": 207712,
           "speaker": "A",
           "start": 207220,
           "text": "know?"
          }
         ]
        },
        {
         "confidence": 0.9253666666666667,
         "end": 210762,
         "speaker": "B",
         "start": 207850,
         "text": "Well, I need freedom. The man gives me freedom.",
         "words": [
          {
           "confidence": 0.96871,
           "end": 208147,
           "speaker": "B",
           "start": 207850,
           "text": "Well,"
          },
          {
           "confidence": 0.99,
           "end": 208327,
           "speaker": "B",
           "start": 208180,
           "text": "I"
          },
          {
           "confidence": 0.99264,
           "end": 208567,
           "speaker": "B",
           "start": 208345,
           "text": "need"
          },
          {
           "confidence": 0.94188,
           "end": 209202,
           "speaker": "B",
           "start": 208615,
           "text": "freedom."
          },
          {
           "confidence": 0.5,
           "end": 209572,
           "speaker": "B",
           "start": 209307,
           "text": "The"
          },
          {
           "confidence": 0.94568,
           "end": 209797,
           "speaker": "B",
           "start": 209605,
           "text": "man"
          },
          {
           "confidence": 0.99023,
           "end": 210022,
           "speaker": "B",
           "start": 209830,
           "text": "gives"
          },
          {
           "confidence": 1,
           "end": 210247,
           "speaker": "B",
           "start": 210055,
           "text": "me"
          },
          {
           "confidence": 0.99916,
           "end": 210762,
           "speaker": "B",
           "start": 210280,
           "text": "freedom."
          }
         ]
        },
        {
         "confidence": 0.8490825000000001,
         "end": 211947,
         "speaker": "A",
         "start": 210837,
         "text": "So why get married?",
         "words": [
          {
           "confidence": 0.75173,
           "end": 211027,
           "speaker": "A",
           "start": 210837,
           "text": "So"
          },
          {
           "confidence": 0.8785,
           "end": 211222,
           "speaker": "A",
           "start": 211045,
           "text": "why"
          },
          {
           "confidence": 0.90845,
           "end": 211402,
           "speaker": "A",
           "start": 211255,
           "text": "get"
          },
          {
           "confidence": 0.85765,
           "end": 211947,
           "speaker": "A",
           "start": 211420,
           "text": "married?"
          }
         ]
        },
        {
         "confidence": 0.87277,
         "end": 213577,
         "speaker": "B",
         "start": 212067,
         "text": "Well, why not?",
         "words": [
          {
           "confidence": 0.91345,
           "end": 212617,
           "speaker": "B",
           "start": 212067,
           "text": "Well,"
          },
          {
           "confidence": 0.9994,
           "end": 212977,
           "speaker": "B",
           "start": 212740,
           "text": "why"
          },
          {
           "confidence": 0.70546,
           "end": 213577,
           "speaker": "B",
           "start": 212995,
           "text": "not?"
          }
         ]
        },
        {
         "confidence": 0.8475271428571428,
         "end": 218812,
         "speaker": "A",
         "start": 213745,
         "text": "Why, if I don't want most of freedom? Why have a husband away some place with these six weeks a year?",
         "words": [
          {
           "confidence": 0.97193,
           "end": 214252,
           "speaker": "A",
           "start": 213745,
           "text": "Why,"
          },
          {
           "confidence": 0.97723,
           "end": 214552,
           "speaker": "A",
           "start": 214345,
           "text": "if"
          },
          {
           "confidence": 0.69,
           "end": 214702,
           "speaker": "A",
           "start": 214570,
           "text": "I"
          },
          {
           "confidence": 0.82243,
           "end": 214807,
           "speaker": "A",
           "start": 214720,
           "text": "don't"
          },
          {
           "confidence": 0.93359,
           "end": 214972,
           "speaker": "A",
           "start": 214810,
           "text": "want"
          },
          {
           "confidence": 0.97126,
           "end": 215197,
           "speaker": "A",
           "start": 215005,
           "text": "most"
          },
          {
           "confidence": 0.81,
           "end": 215377,
           "speaker": "A",
           "start": 215230,
           "text": "of"
          },
          {
           "confidence": 0.81945,
           "end": 215697,
           "speaker": "A",
           "start": 215395,
           "text": "freedom?"
          },
          {
           "confidence": 0.97684,
           "end": 215902,
           "speaker": "A",
           "start": 215742,
           "text": "Why"
          },
          {
           "confidence": 0.99152,
           "end": 216052,
           "speaker": "A",
           "start": 215920,
           "text": "have"
          },
          {
           "confidence": 0.99,
           "end": 216202,
           "speaker": "A",
           "start": 216070,
           "text": "a"
          },
          {
           "confidence": 0.96211,
           "end": 216627,
           "speaker": "A",
           "start": 216220,
           "text": "husband"
          },
          {
           "confidence": 0.60441,
           "end": 217042,
           "speaker": "A",
           "start": 216732,
           "text": "away"
          },
          {
           "confidence": 0.98619,
           "end": 217297,
           "speaker": "A",
           "start": 217090,
           "text": "some"
          },
          {
           "confidence": 0.2578,
           "end": 217522,
           "speaker": "A",
           "start": 217330,
           "text": "place"
          },
          {
           "confidence": 0.22647,
           "end": 217702,
           "speaker": "A",
           "start": 217555,
           "text": "with"
          },
          {
           "confidence": 0.86033,
           "end": 217897,
           "speaker": "A",
           "start": 217720,
           "text": "these"
          },
          {
           "confidence": 0.99,
           "end": 218122,
           "speaker": "A",
           "start": 217930,
           "text": "six"
          },
          {
           "confidence": 0.99686,
           "end": 218347,
           "speaker": "A",
           "start": 218155,
           "text": "weeks"
          },
          {
           "confidence": 0.96,
           "end": 218527,
           "speaker": "A",
           "start": 218380,
           "text": "a"
          },
          {
           "confidence": 0.99965,
           "end": 218812,
           "speaker": "A",
           "start": 218545,
           "text": "year?"
          }
         ]
        },
        {
         "confidence": 0.9045209183673465,
         "end": 240900,
         "speaker": "B",
         "start": 218875,
         "text": "He has the same freedom. See, the thing of it is you don't find a person that you can be happy with and they can't accept you. You are and can share the things and to plan for the future and to enjoy your home. We have our foundation, we have our roots, we have all the things that everybody is looking for and that's happiness in a marriage. I've got better things to do than to sit around in my room thinking, oh, it's Carl doing tonight. I wonder if he's with somebody and this and that.",
         "words": [
          {
           "confidence": 0.99513,
           "end": 219097,
           "speaker": "B",
           "start": 218875,
           "text": "He"
          },
          {
           "confidence": 0.9992,
           "end": 219322,
           "speaker": "B",
           "start": 219130,
           "text": "has"
          },
          {
           "confidence": 0.97,
           "end": 219547,
           "speaker": "B",
           "start": 219355,
           "text": "the"
          },
          {
           "confidence": 0.99762,
           "end": 219817,
           "speaker": "B",
           "start": 219580,
           "text": "same"
          },
          {
           "confidence": 0.67735,
           "end": 220152,
           "speaker": "B",
           "start": 219865,
           "text": "freedom."
          },
          {
           "confidence": 0.94863,
           "end": 220327,
           "speaker": "B",
           "start": 220182,
           "text": "See,"
          },
          {
           "confidence": 0.98,
           "end": 220477,
           "speaker": "B",
           "start": 220345,
           "text": "the"
          },
          {
           "confidence": 0.99875,
           "end": 220627,
           "speaker": "B",
           "start": 220495,
           "text": "thing"
          },
          {
           "confidence": 0.78,
           "end": 220732,
           "speaker": "B",
           "start": 220645,
           "text": "of"
          },
          {
           "confidence": 0.58002,
           "end": 220852,
           "speaker": "B",
           "start": 220735,
           "text": "it"
          },
          {
           "confidence": 0.99,
           "end": 221047,
           "speaker": "B",
           "start": 220870,
           "text": "is"
          },
          {
           "confidence": 1,
           "end": 221182,
           "speaker": "B",
           "start": 221080,
           "text": "you"
          },
          {
           "confidence": 0.77823,
           "end": 221427,
           "speaker": "B",
           "start": 221185,
           "text": "don't"
          },
          {
           "confidence": 0.99975,
           "end": 221737,
           "speaker": "B",
           "start": 221457,
           "text": "find"
          },
          {
           "confidence": 0.99,
           "end": 221977,
           "speaker": "B",
           "start": 221800,
           "text": "a"
          },
          {
           "confidence": 0.99996,
           "end": 222262,
           "speaker": "B",
           "start": 221995,
           "text": "person"
          },
          {
           "confidence": 1,
           "end": 222502,
           "speaker": "B",
           "start": 222325,
           "text": "that"
          },
          {
           "confidence": 1,
           "end": 222652,
           "speaker": "B",
           "start": 222520,
           "text": "you"
          },
          {
           "confidence": 0.99803,
           "end": 222757,
           "speaker": "B",
           "start": 222670,
           "text": "can"
          },
          {
           "confidence": 0.99,
           "end": 222877,
           "speaker": "B",
           "start": 222760,
           "text": "be"
          },
          {
           "confidence": 0.99638,
           "end": 223117,
           "speaker": "B",
           "start": 222895,
           "text": "happy"
          },
          {
           "confidence": 0.99904,
           "end": 223327,
           "speaker": "B",
           "start": 223165,
           "text": "with"
          },
          {
           "confidence": 0.86,
           "end": 223477,
           "speaker": "B",
           "start": 223345,
           "text": "and"
          },
          {
           "confidence": 0.52121,
           "end": 223672,
           "speaker": "B",
           "start": 223495,
           "text": "they"
          },
          {
           "confidence": 0.55772,
           "end": 223902,
           "speaker": "B",
           "start": 223705,
           "text": "can't"
          },
          {
           "confidence": 0.99288,
           "end": 224352,
           "speaker": "B",
           "start": 223932,
           "text": "accept"
          },
          {
           "confidence": 0.99,
           "end": 224977,
           "speaker": "B",
           "start": 224382,
           "text": "you."
          },
          {
           "confidence": 0.55,
           "end": 225427,
           "speaker": "B",
           "start": 225145,
           "text": "You"
          },
          {
           "confidence": 0.99507,
           "end": 225667,
           "speaker": "B",
           "start": 225445,
           "text": "are"
          },
          {
           "confidence": 0.99,
           "end": 225922,
           "speaker": "B",
           "start": 225715,
           "text": "and"
          },
          {
           "confidence": 0.99812,
           "end": 226147,
           "speaker": "B",
           "start": 225955,
           "text": "can"
          },
          {
           "confidence": 0.99781,
           "end": 226372,
           "speaker": "B",
           "start": 226180,
           "text": "share"
          },
          {
           "confidence": 0.98,
           "end": 226552,
           "speaker": "B",
           "start": 226405,
           "text": "the"
          },
          {
           "confidence": 0.95424,
           "end": 226792,
           "speaker": "B",
           "start": 226570,
           "text": "things"
          },
          {
           "confidence": 0.86,
           "end": 226957,
           "speaker": "B",
           "start": 226840,
           "text": "and"
          },
          {
           "confidence": 0.42,
           "end": 227077,
           "speaker": "B",
           "start": 226960,
           "text": "to"
          },
          {
           "confidence": 0.99901,
           "end": 227317,
           "speaker": "B",
           "start": 227095,
           "text": "plan"
          },
          {
           "confidence": 0.99894,
           "end": 227527,
           "speaker": "B",
           "start": 227365,
           "text": "for"
          },
          {
           "confidence": 1,
           "end": 227677,
           "speaker": "B",
           "start": 227545,
           "text": "the"
          },
          {
           "confidence": 0.99994,
           "end": 228007,
           "speaker": "B",
           "start": 227695,
           "text": "future"
          },
          {
           "confidence": 0.94,
           "end": 228277,
           "speaker": "B",
           "start": 228085,
           "text": "and"
          },
          {
           "confidence": 0.99,
           "end": 228427,
           "speaker": "B",
           "start": 228295,
           "text": "to"
          },
          {
           "confidence": 0.99991,
           "end": 228712,
           "speaker": "B",
           "start": 228445,
           "text": "enjoy"
          },
          {
           "confidence": 0.99779,
           "end": 228952,
           "speaker": "B",
           "start": 228775,
           "text": "your"
          },
          {
           "confidence": 0.99941,
           "end": 229147,
           "speaker": "B",
           "start": 228970,
           "text": "home."
          },
          {
           "confidence": 0.99913,
           "end": 229327,
           "speaker": "B",
           "start": 229180,
           "text": "We"
          },
          {
           "confidence": 0.9982,
           "end": 229522,
           "speaker": "B",
           "start": 229345,
           "text": "have"
          },
          {
           "confidence": 0.98894,
           "end": 229882,
           "speaker": "B",
           "start": 229555,
           "text": "our"
          },
          {
           "confidence": 0.55806,
           "end": 230592,
           "speaker": "B",
           "start": 229960,
           "text": "foundation,"
          },
          {
           "confidence": 0.99653,
           "end": 230827,
           "speaker": "B",
           "start": 230652,
           "text": "we"
          },
          {
           "confidence": 0.99926,
           "end": 230932,
           "speaker": "B",
           "start": 230845,
           "text": "have"
          },
          {
           "confidence": 0.50498,
           "end": 231052,
           "speaker": "B",
           "start": 230935,
           "text": "our"
          },
          {
           "confidence": 0.95324,
           "end": 231327,
           "speaker": "B",
           "start": 231070,
           "text": "roots,"
          },
          {
           "confidence": 0.99703,
           "end": 231502,
           "speaker": "B",
           "start": 231357,
           "text": "we"
          },
          {
           "confidence": 0.99936,
           "end": 231652,
           "speaker": "B",
           "start": 231520,
           "text": "have"
          },
          {
           "confidence": 0.99943,
           "end": 231802,
           "speaker": "B",
           "start": 231670,
           "text": "all"
          },
          {
           "confidence": 0.99,
           "end": 231952,
           "speaker": "B",
           "start": 231820,
           "text": "the"
          },
          {
           "confidence": 0.99933,
           "end": 232102,
           "speaker": "B",
           "start": 231970,
           "text": "things"
          },
          {
           "confidence": 0.58,
           "end": 232297,
           "speaker": "B",
           "start": 232120,
           "text": "that"
          },
          {
           "confidence": 0.99709,
           "end": 232612,
           "speaker": "B",
           "start": 232330,
           "text": "everybody"
          },
          {
           "confidence": 0.32,
           "end": 232852,
           "speaker": "B",
           "start": 232675,
           "text": "is"
          },
          {
           "confidence": 0.9962,
           "end": 233047,
           "speaker": "B",
           "start": 232870,
           "text": "looking"
          },
          {
           "confidence": 0.99849,
           "end": 233227,
           "speaker": "B",
           "start": 233080,
           "text": "for"
          },
          {
           "confidence": 0.94,
           "end": 233377,
           "speaker": "B",
           "start": 233245,
           "text": "and"
          },
          {
           "confidence": 0.9131,
           "end": 233577,
           "speaker": "B",
           "start": 233395,
           "text": "that's"
          },
          {
           "confidence": 0.9966,
           "end": 233967,
           "speaker": "B",
           "start": 233607,
           "text": "happiness"
          },
          {
           "confidence": 0.79088,
           "end": 234202,
           "speaker": "B",
           "start": 234027,
           "text": "in"
          },
          {
           "confidence": 0.66,
           "end": 234352,
           "speaker": "B",
           "start": 234220,
           "text": "a"
          },
          {
           "confidence": 0.99959,
           "end": 234672,
           "speaker": "B",
           "start": 234370,
           "text": "marriage."
          },
          {
           "confidence": 0.58367,
           "end": 234957,
           "speaker": "B",
           "start": 234717,
           "text": "I've"
          },
          {
           "confidence": 0.99955,
           "end": 235102,
           "speaker": "B",
           "start": 234972,
           "text": "got"
          },
          {
           "confidence": 0.9998,
           "end": 235342,
           "speaker": "B",
           "start": 235120,
           "text": "better"
          },
          {
           "confidence": 0.99957,
           "end": 235597,
           "speaker": "B",
           "start": 235390,
           "text": "things"
          },
          {
           "confidence": 1,
           "end": 235732,
           "speaker": "B",
           "start": 235630,
           "text": "to"
          },
          {
           "confidence": 0.96274,
           "end": 235897,
           "speaker": "B",
           "start": 235735,
           "text": "do"
          },
          {
           "confidence": 0.98304,
           "end": 236077,
           "speaker": "B",
           "start": 235930,
           "text": "than"
          },
          {
           "confidence": 0.94,
           "end": 236182,
           "speaker": "B",
           "start": 236095,
           "text": "to"
          },
          {
           "confidence": 0.99183,
           "end": 236347,
           "speaker": "B",
           "start": 236185,
           "text": "sit"
          },
          {
           "confidence": 0.99627,
           "end": 236572,
           "speaker": "B",
           "start": 236380,
           "text": "around"
          },
          {
           "confidence": 0.99059,
           "end": 236752,
           "speaker": "B",
           "start": 236605,
           "text": "in"
          },
          {
           "confidence": 1,
           "end": 236902,
           "speaker": "B",
           "start": 236770,
           "text": "my"
          },
          {
           "confidence": 0.99983,
           "end": 237142,
           "speaker": "B",
           "start": 236920,
           "text": "room"
          },
          {
           "confidence": 0.94185,
           "end": 237532,
           "speaker": "B",
           "start": 237190,
           "text": "thinking,"
          },
          {
           "confidence": 0.72,
           "end": 237847,
           "speaker": "B",
           "start": 237610,
           "text": "oh,"
          },
          {
           "confidence": 0.20168,
           "end": 238077,
           "speaker": "B",
           "start": 237880,
           "text": "it's"
          },
          {
           "confidence": 0.95858,
           "end": 238377,
           "speaker": "B",
           "start": 238107,
           "text": "Carl"
          },
          {
           "confidence": 0.98012,
           "end": 238597,
           "speaker": "B",
           "start": 238407,
           "text": "doing"
          },
          {
           "confidence": 0.8059,
           "end": 238872,
           "speaker": "B",
           "start": 238630,
           "text": "tonight."
          },
          {
           "confidence": 0.96,
           "end": 239032,
           "speaker": "B",
           "start": 238917,
           "text": "I"
          },
          {
           "confidence": 0.94256,
           "end": 239242,
           "speaker": "B",
           "start": 239035,
           "text": "wonder"
          },
          {
           "confidence": 0.99967,
           "end": 239452,
           "speaker": "B",
           "start": 239290,
           "text": "if"
          },
          {
           "confidence": 0.55015,
           "end": 239652,
           "speaker": "B",
           "start": 239470,
           "text": "he's"
          },
          {
           "confidence": 0.99668,
           "end": 239872,
           "speaker": "B",
           "start": 239682,
           "text": "with"
          },
          {
           "confidence": 0.99504,
           "end": 240232,
           "speaker": "B",
           "start": 239905,
           "text": "somebody"
          },
          {
           "confidence": 0.9,
           "end": 240502,
           "speaker": "B",
           "start": 240310,
           "text": "and"
          },
          {
           "confidence": 0.96835,
           "end": 240652,
           "speaker": "B",
           "start": 240520,
           "text": "this"
          },
          {
           "confidence": 0.91,
           "end": 240802,
           "speaker": "B",
           "start": 240670,
           "text": "and"
          },
          {
           "confidence": 0.93,
           "end": 240900,
           "speaker": "B",
           "start": 240820,
           "text": "that."
          }
         ]
        }
       ],
       "webhook_auth": false,
       "webhook_auth_header_name": null,
       "webhook_status_code": null,
       "webhook_url": null,
       "word_boost": [],
       "words": [
        {
         "confidence": 0.67758,
         "end": 1187,
         "speaker": "A",
         "start": 462,
         "text": "Dolly"
        },
        {
         "confidence": 0.97134,
         "end": 1897,
         "speaker": "A",
         "start": 1537,
         "text": "where"
        },
        {
         "confidence": 0.81,
         "end": 2167,
         "speaker": "A",
         "start": 1930,
         "text": "I"
        },
        {
         "confidence": 0.9969,
         "end": 2422,
         "speaker": "A",
         "start": 2215,
         "text": "come"
        },
        {
         "confidence": 0.99961,
         "end": 2827,
         "speaker": "A",
         "start": 2455,
         "text": "from."
        },
        {
         "confidence": 0.47957,
         "end": 3127,
         "speaker": "A",
         "start": 2920,
         "text": "Would"
        },
        {
         "confidence": 0.74,
         "end": 3322,
         "speaker": "A",
         "start": 3145,
         "text": "I"
        },
        {
         "confidence": 0.99436,
         "end": 3502,
         "speaker": "A",
         "start": 3355,
         "text": "have"
        },
        {
         "confidence": 0.98301,
         "end": 3742,
         "speaker": "A",
         "start": 3520,
         "text": "called"
        },
        {
         "confidence": 1,
         "end": 3952,
         "speaker": "A",
         "start": 3790,
         "text": "you"
        },
        {
         "confidence": 0.99,
         "end": 4102,
         "speaker": "A",
         "start": 3970,
         "text": "a"
        },
        {
         "confidence": 0.94885,
         "end": 5127,
         "speaker": "A",
         "start": 4120,
         "text": "hillbilly?"
        },
        {
         "confidence": 0.99907,
         "end": 5647,
         "speaker": "B",
         "start": 5307,
         "text": "If"
        },
        {
         "confidence": 1,
         "end": 5827,
         "speaker": "B",
         "start": 5680,
         "text": "you"
        },
        {
         "confidence": 0.97597,
         "end": 6022,
         "speaker": "B",
         "start": 5845,
         "text": "had"
        },
        {
         "confidence": 0.57,
         "end": 6382,
         "speaker": "B",
         "start": 6055,
         "text": "of"
        },
        {
         "confidence": 0.99784,
         "end": 6652,
         "speaker": "B",
         "start": 6460,
         "text": "it"
        },
        {
         "confidence": 0.99841,
         "end": 6757,
         "speaker": "B",
         "start": 6670,
         "text": "would"
        },
        {
         "confidence": 0.42768,
         "end": 6877,
         "speaker": "B",
         "start": 6760,
         "text": "have"
        },
        {
         "confidence": 0.99804,
         "end": 7072,
         "speaker": "B",
         "start": 6895,
         "text": "been"
        },
        {
         "confidence": 0.99448,
         "end": 7342,
         "speaker": "B",
         "start": 7105,
         "text": "something"
        },
        {
         "confidence": 0.99838,
         "end": 7597,
         "speaker": "B",
         "start": 7390,
         "text": "very"
        },
        {
         "confidence": 0.9994,
         "end": 7977,
         "speaker": "B",
         "start": 7630,
         "text": "natural"
        },
        {
         "confidence": 0.99335,
         "end": 8152,
         "speaker": "B",
         "start": 8007,
         "text": "but"
        },
        {
         "confidence": 1,
         "end": 8257,
         "speaker": "B",
         "start": 8170,
         "text": "I"
        },
        {
         "confidence": 0.98795,
         "end": 8377,
         "speaker": "B",
         "start": 8260,
         "text": "would"
        },
        {
         "confidence": 0.59235,
         "end": 8617,
         "speaker": "B",
         "start": 8395,
         "text": "have"
        },
        {
         "confidence": 0.99872,
         "end": 8962,
         "speaker": "B",
         "start": 8665,
         "text": "probably"
        },
        {
         "confidence": 0.99371,
         "end": 9282,
         "speaker": "B",
         "start": 9025,
         "text": "kicked"
        },
        {
         "confidence": 0.97394,
         "end": 9427,
         "speaker": "B",
         "start": 9297,
         "text": "your"
        },
        {
         "confidence": 0.86004,
         "end": 9717,
         "speaker": "B",
         "start": 9445,
         "text": "shins"
        },
        {
         "confidence": 0.99663,
         "end": 9952,
         "speaker": "B",
         "start": 9777,
         "text": "or"
        },
        {
         "confidence": 0.95692,
         "end": 10550,
         "speaker": "B",
         "start": 9970,
         "text": "something."
        },
        {
         "confidence": 0.93748,
         "end": 11542,
         "speaker": "B",
         "start": 11137,
         "text": "No,"
        },
        {
         "confidence": 0.94866,
         "end": 11887,
         "speaker": "B",
         "start": 11590,
         "text": "actually."
        },
        {
         "confidence": 0.72545,
         "end": 12127,
         "speaker": "A",
         "start": 11950,
         "text": "But"
        },
        {
         "confidence": 0.98347,
         "end": 12277,
         "speaker": "A",
         "start": 12145,
         "text": "when"
        },
        {
         "confidence": 1,
         "end": 12427,
         "speaker": "A",
         "start": 12295,
         "text": "I"
        },
        {
         "confidence": 0.99512,
         "end": 12577,
         "speaker": "A",
         "start": 12445,
         "text": "think"
        },
        {
         "confidence": 0.99,
         "end": 12727,
         "speaker": "A",
         "start": 12595,
         "text": "of"
        },
        {
         "confidence": 0.89778,
         "end": 12877,
         "speaker": "A",
         "start": 12745,
         "text": "your"
        },
        {
         "confidence": 0.28241,
         "end": 13257,
         "speaker": "A",
         "start": 12895,
         "text": "beliefs"
        },
        {
         "confidence": 0.27,
         "end": 13402,
         "speaker": "A",
         "start": 13272,
         "text": "and"
        },
        {
         "confidence": 0.92,
         "end": 13552,
         "speaker": "A",
         "start": 13420,
         "text": "I"
        },
        {
         "confidence": 0.78147,
         "end": 13747,
         "speaker": "A",
         "start": 13570,
         "text": "think"
        },
        {
         "confidence": 0.97,
         "end": 13927,
         "speaker": "A",
         "start": 13780,
         "text": "of"
        },
        {
         "confidence": 0.94683,
         "end": 14122,
         "speaker": "A",
         "start": 13945,
         "text": "your"
        },
        {
         "confidence": 0.9912,
         "end": 14302,
         "speaker": "A",
         "start": 14155,
         "text": "kind"
        },
        {
         "confidence": 0.94,
         "end": 14407,
         "speaker": "A",
         "start": 14320,
         "text": "of."
        },
        {
         "confidence": 0.97919,
         "end": 14617,
         "speaker": "B",
         "start": 14410,
         "text": "People"
        },
        {
         "confidence": 0.96,
         "end": 14827,
         "speaker": "B",
         "start": 14665,
         "text": "I"
        },
        {
         "confidence": 0.99815,
         "end": 15022,
         "speaker": "B",
         "start": 14845,
         "text": "think"
        },
        {
         "confidence": 1,
         "end": 15247,
         "speaker": "B",
         "start": 15055,
         "text": "you"
        },
        {
         "confidence": 0.99979,
         "end": 15607,
         "speaker": "B",
         "start": 15280,
         "text": "probably"
        },
        {
         "confidence": 0.99749,
         "end": 16147,
         "speaker": "B",
         "start": 15685,
         "text": "are,"
        },
        {
         "confidence": 0.77,
         "end": 16522,
         "speaker": "B",
         "start": 16255,
         "text": "the"
        },
        {
         "confidence": 0.99996,
         "end": 16747,
         "speaker": "B",
         "start": 16555,
         "text": "people"
        },
        {
         "confidence": 0.71,
         "end": 16972,
         "speaker": "B",
         "start": 16780,
         "text": "that"
        },
        {
         "confidence": 0.97203,
         "end": 17232,
         "speaker": "B",
         "start": 17005,
         "text": "grew"
        },
        {
         "confidence": 0.99684,
         "end": 17422,
         "speaker": "B",
         "start": 17247,
         "text": "up"
        },
        {
         "confidence": 0.98785,
         "end": 17602,
         "speaker": "B",
         "start": 17455,
         "text": "where"
        },
        {
         "confidence": 1,
         "end": 17752,
         "speaker": "B",
         "start": 17620,
         "text": "I"
        },
        {
         "confidence": 0.99786,
         "end": 18037,
         "speaker": "B",
         "start": 17770,
         "text": "was"
        },
        {
         "confidence": 0.95812,
         "end": 18277,
         "speaker": "B",
         "start": 18100,
         "text": "were"
        },
        {
         "confidence": 0.55,
         "end": 18427,
         "speaker": "B",
         "start": 18295,
         "text": "the"
        },
        {
         "confidence": 1,
         "end": 18667,
         "speaker": "B",
         "start": 18445,
         "text": "ones"
        },
        {
         "confidence": 0.78,
         "end": 18877,
         "speaker": "B",
         "start": 18715,
         "text": "that"
        },
        {
         "confidence": 0.67,
         "end": 19027,
         "speaker": "B",
         "start": 18895,
         "text": "you"
        },
        {
         "confidence": 0.68103,
         "end": 19222,
         "speaker": "B",
         "start": 19045,
         "text": "would"
        },
        {
         "confidence": 0.99993,
         "end": 19537,
         "speaker": "B",
         "start": 19255,
         "text": "consider"
        },
        {
         "confidence": 0.8,
         "end": 19822,
         "speaker": "B",
         "start": 19600,
         "text": "the"
        },
        {
         "confidence": 0.93292,
         "end": 20047,
         "speaker": "B",
         "start": 19855,
         "text": "little"
        },
        {
         "confidence": 0.8086,
         "end": 20442,
         "speaker": "B",
         "start": 20080,
         "text": "abner"
        },
        {
         "confidence": 0.99858,
         "end": 20947,
         "speaker": "B",
         "start": 20502,
         "text": "people"
        },
        {
         "confidence": 0.41929,
         "end": 21552,
         "speaker": "B",
         "start": 21055,
         "text": "daisy"
        },
        {
         "confidence": 0.6,
         "end": 21772,
         "speaker": "B",
         "start": 21582,
         "text": "May"
        },
        {
         "confidence": 0.97,
         "end": 21952,
         "speaker": "B",
         "start": 21805,
         "text": "and"
        },
        {
         "confidence": 0.99,
         "end": 22102,
         "speaker": "B",
         "start": 21970,
         "text": "that"
        },
        {
         "confidence": 0.96498,
         "end": 22252,
         "speaker": "B",
         "start": 22120,
         "text": "sort"
        },
        {
         "confidence": 0.99,
         "end": 22357,
         "speaker": "B",
         "start": 22270,
         "text": "of"
        },
        {
         "confidence": 0.99954,
         "end": 22522,
         "speaker": "B",
         "start": 22360,
         "text": "thing."
        },
        {
         "confidence": 0.99553,
         "end": 22702,
         "speaker": "B",
         "start": 22555,
         "text": "They"
        },
        {
         "confidence": 0.79385,
         "end": 22942,
         "speaker": "B",
         "start": 22720,
         "text": "took"
        },
        {
         "confidence": 1,
         "end": 23242,
         "speaker": "B",
         "start": 22990,
         "text": "that"
        },
        {
         "confidence": 0.98289,
         "end": 23497,
         "speaker": "B",
         "start": 23290,
         "text": "kind"
        },
        {
         "confidence": 0.99,
         "end": 24125,
         "speaker": "B",
         "start": 23530,
         "text": "of"
        },
        {
         "confidence": 0.9987,
         "end": 25357,
         "speaker": "B",
         "start": 24862,
         "text": "thing"
        },
        {
         "confidence": 0.99936,
         "end": 25762,
         "speaker": "B",
         "start": 25435,
         "text": "from"
        },
        {
         "confidence": 0.99988,
         "end": 26227,
         "speaker": "B",
         "start": 25825,
         "text": "people"
        },
        {
         "confidence": 0.9997,
         "end": 26662,
         "speaker": "B",
         "start": 26320,
         "text": "like"
        },
        {
         "confidence": 1,
         "end": 26992,
         "speaker": "B",
         "start": 26725,
         "text": "us."
        },
        {
         "confidence": 0.92168,
         "end": 27517,
         "speaker": "B",
         "start": 27040,
         "text": "But"
        },
        {
         "confidence": 0.99858,
         "end": 27877,
         "speaker": "B",
         "start": 27640,
         "text": "we"
        },
        {
         "confidence": 0.72596,
         "end": 28072,
         "speaker": "B",
         "start": 27895,
         "text": "were"
        },
        {
         "confidence": 0.99716,
         "end": 28432,
         "speaker": "B",
         "start": 28105,
         "text": "very"
        },
        {
         "confidence": 0.99965,
         "end": 28962,
         "speaker": "B",
         "start": 28510,
         "text": "proud"
        },
        {
         "confidence": 0.9653,
         "end": 29497,
         "speaker": "B",
         "start": 29037,
         "text": "people,"
        },
        {
         "confidence": 0.66054,
         "end": 29917,
         "speaker": "B",
         "start": 29605,
         "text": "people"
        },
        {
         "confidence": 0.90484,
         "end": 30172,
         "speaker": "B",
         "start": 29965,
         "text": "with"
        },
        {
         "confidence": 0.99,
         "end": 30307,
         "speaker": "B",
         "start": 30205,
         "text": "a"
        },
        {
         "confidence": 0.96268,
         "end": 30472,
         "speaker": "B",
         "start": 30310,
         "text": "lot"
        },
        {
         "confidence": 1,
         "end": 30652,
         "speaker": "B",
         "start": 30505,
         "text": "of"
        },
        {
         "confidence": 0.99519,
         "end": 30937,
         "speaker": "B",
         "start": 30670,
         "text": "class."
        },
        {
         "confidence": 0.98851,
         "end": 31177,
         "speaker": "B",
         "start": 31000,
         "text": "It"
        },
        {
         "confidence": 0.99819,
         "end": 31372,
         "speaker": "B",
         "start": 31195,
         "text": "was"
        },
        {
         "confidence": 0.99966,
         "end": 31732,
         "speaker": "B",
         "start": 31405,
         "text": "country"
        },
        {
         "confidence": 0.99909,
         "end": 32137,
         "speaker": "B",
         "start": 31810,
         "text": "class,"
        },
        {
         "confidence": 0.99037,
         "end": 32377,
         "speaker": "B",
         "start": 32200,
         "text": "but"
        },
        {
         "confidence": 0.99778,
         "end": 32527,
         "speaker": "B",
         "start": 32395,
         "text": "it"
        },
        {
         "confidence": 0.99936,
         "end": 32722,
         "speaker": "B",
         "start": 32545,
         "text": "was"
        },
        {
         "confidence": 1,
         "end": 32857,
         "speaker": "B",
         "start": 32755,
         "text": "a"
        },
        {
         "confidence": 0.91581,
         "end": 33067,
         "speaker": "B",
         "start": 32860,
         "text": "great"
        },
        {
         "confidence": 0.99976,
         "end": 33322,
         "speaker": "B",
         "start": 33115,
         "text": "deal"
        },
        {
         "confidence": 0.24,
         "end": 33502,
         "speaker": "B",
         "start": 33355,
         "text": "of"
        },
        {
         "confidence": 0.99352,
         "end": 33742,
         "speaker": "B",
         "start": 33520,
         "text": "class"
        },
        {
         "confidence": 0.69,
         "end": 34402,
         "speaker": "B",
         "start": 33790,
         "text": "and"
        },
        {
         "confidence": 0.99981,
         "end": 34942,
         "speaker": "B",
         "start": 34570,
         "text": "most"
        },
        {
         "confidence": 1,
         "end": 35600,
         "speaker": "B",
         "start": 34990,
         "text": "of"
        },
        {
         "confidence": 1,
         "end": 36472,
         "speaker": "B",
         "start": 36112,
         "text": "my"
        },
        {
         "confidence": 0.99994,
         "end": 36742,
         "speaker": "B",
         "start": 36505,
         "text": "people"
        },
        {
         "confidence": 0.50897,
         "end": 37132,
         "speaker": "B",
         "start": 36790,
         "text": "were"
        },
        {
         "confidence": 0.99948,
         "end": 37402,
         "speaker": "B",
         "start": 37210,
         "text": "not"
        },
        {
         "confidence": 0.75,
         "end": 37642,
         "speaker": "B",
         "start": 37420,
         "text": "that"
        },
        {
         "confidence": 0.99937,
         "end": 38307,
         "speaker": "B",
         "start": 37690,
         "text": "educated"
        },
        {
         "confidence": 0.98464,
         "end": 38602,
         "speaker": "B",
         "start": 38397,
         "text": "but"
        },
        {
         "confidence": 0.52894,
         "end": 38797,
         "speaker": "B",
         "start": 38620,
         "text": "they"
        },
        {
         "confidence": 0.99092,
         "end": 39112,
         "speaker": "B",
         "start": 38830,
         "text": "are"
        },
        {
         "confidence": 0.99672,
         "end": 39622,
         "speaker": "B",
         "start": 39175,
         "text": "very"
        },
        {
         "confidence": 0.54261,
         "end": 40422,
         "speaker": "B",
         "start": 39730,
         "text": "intelligent."
        },
        {
         "confidence": 0.99528,
         "end": 40762,
         "speaker": "B",
         "start": 40467,
         "text": "Good"
        },
        {
         "confidence": 0.99385,
         "end": 41092,
         "speaker": "B",
         "start": 40825,
         "text": "common"
        },
        {
         "confidence": 0.96342,
         "end": 41437,
         "speaker": "B",
         "start": 41140,
         "text": "sense"
        },
        {
         "confidence": 0.95392,
         "end": 41772,
         "speaker": "B",
         "start": 41500,
         "text": "horse"
        },
        {
         "confidence": 0.35407,
         "end": 42022,
         "speaker": "B",
         "start": 41817,
         "text": "since"
        },
        {
         "confidence": 0.99942,
         "end": 42202,
         "speaker": "B",
         "start": 42055,
         "text": "we"
        },
        {
         "confidence": 0.98713,
         "end": 42397,
         "speaker": "B",
         "start": 42220,
         "text": "called"
        },
        {
         "confidence": 0.99521,
         "end": 42667,
         "speaker": "B",
         "start": 42430,
         "text": "it"
        },
        {
         "confidence": 0.15456,
         "end": 43047,
         "speaker": "B",
         "start": 42715,
         "text": "darling."
        },
        {
         "confidence": 0.99824,
         "end": 43252,
         "speaker": "A",
         "start": 43092,
         "text": "Did"
        },
        {
         "confidence": 1,
         "end": 43402,
         "speaker": "A",
         "start": 43270,
         "text": "you"
        },
        {
         "confidence": 0.99496,
         "end": 43597,
         "speaker": "A",
         "start": 43420,
         "text": "look"
        },
        {
         "confidence": 0.99901,
         "end": 43777,
         "speaker": "A",
         "start": 43630,
         "text": "like"
        },
        {
         "confidence": 0.99083,
         "end": 43972,
         "speaker": "A",
         "start": 43795,
         "text": "this"
        },
        {
         "confidence": 0.99979,
         "end": 44107,
         "speaker": "A",
         "start": 44005,
         "text": "when"
        },
        {
         "confidence": 0.73,
         "end": 44227,
         "speaker": "A",
         "start": 44110,
         "text": "you"
        },
        {
         "confidence": 0.97688,
         "end": 44377,
         "speaker": "A",
         "start": 44245,
         "text": "were"
        },
        {
         "confidence": 0.98,
         "end": 44482,
         "speaker": "A",
         "start": 44395,
         "text": "a"
        },
        {
         "confidence": 0.99961,
         "end": 44917,
         "speaker": "A",
         "start": 44485,
         "text": "kid?"
        },
        {
         "confidence": 0.99579,
         "end": 45367,
         "speaker": "B",
         "start": 45040,
         "text": "Not"
        },
        {
         "confidence": 0.96897,
         "end": 45757,
         "speaker": "B",
         "start": 45415,
         "text": "quite."
        },
        {
         "confidence": 0.55,
         "end": 45982,
         "speaker": "A",
         "start": 45835,
         "text": "I"
        },
        {
         "confidence": 0.97453,
         "end": 46462,
         "speaker": "A",
         "start": 45985,
         "text": "mean,"
        },
        {
         "confidence": 0.97,
         "end": 46852,
         "speaker": "A",
         "start": 46600,
         "text": "you"
        },
        {
         "confidence": 0.90202,
         "end": 47007,
         "speaker": "A",
         "start": 46870,
         "text": "didn't"
        },
        {
         "confidence": 0.83442,
         "end": 47152,
         "speaker": "A",
         "start": 47022,
         "text": "have"
        },
        {
         "confidence": 0.91,
         "end": 47257,
         "speaker": "A",
         "start": 47170,
         "text": "the"
        },
        {
         "confidence": 0.3718,
         "end": 47577,
         "speaker": "A",
         "start": 47260,
         "text": "blonde"
        },
        {
         "confidence": 0.54158,
         "end": 47802,
         "speaker": "A",
         "start": 47607,
         "text": "wig"
        },
        {
         "confidence": 0.93742,
         "end": 47977,
         "speaker": "A",
         "start": 47832,
         "text": "but"
        },
        {
         "confidence": 0.98504,
         "end": 48127,
         "speaker": "A",
         "start": 47995,
         "text": "when"
        },
        {
         "confidence": 0.5,
         "end": 48277,
         "speaker": "A",
         "start": 48145,
         "text": "I"
        },
        {
         "confidence": 0.99772,
         "end": 48472,
         "speaker": "A",
         "start": 48295,
         "text": "went"
        },
        {
         "confidence": 1,
         "end": 48697,
         "speaker": "A",
         "start": 48505,
         "text": "to"
        },
        {
         "confidence": 0.99998,
         "end": 49417,
         "speaker": "A",
         "start": 48730,
         "text": "school"
        },
        {
         "confidence": 0.99901,
         "end": 49972,
         "speaker": "A",
         "start": 49615,
         "text": "when"
        },
        {
         "confidence": 1,
         "end": 50152,
         "speaker": "A",
         "start": 50005,
         "text": "you"
        },
        {
         "confidence": 0.89741,
         "end": 50842,
         "speaker": "A",
         "start": 50170,
         "text": "were"
        },
        {
         "confidence": 0.99,
         "end": 51567,
         "speaker": "A",
         "start": 51040,
         "text": "11,"
        },
        {
         "confidence": 1,
         "end": 51937,
         "speaker": "A",
         "start": 51627,
         "text": "12,"
        },
        {
         "confidence": 0.92,
         "end": 52712,
         "speaker": "A",
         "start": 52000,
         "text": "13"
        },
        {
         "confidence": 0.98529,
         "end": 54022,
         "speaker": "A",
         "start": 53662,
         "text": "was"
        },
        {
         "confidence": 0.5651,
         "end": 54472,
         "speaker": "A",
         "start": 54055,
         "text": "it"
        },
        {
         "confidence": 0.94368,
         "end": 54892,
         "speaker": "A",
         "start": 54580,
         "text": "this"
        },
        {
         "confidence": 0.9871,
         "end": 55192,
         "speaker": "A",
         "start": 54940,
         "text": "about"
        },
        {
         "confidence": 0.92,
         "end": 55537,
         "speaker": "A",
         "start": 55240,
         "text": "you?"
        },
        {
         "confidence": 0.90698,
         "end": 56002,
         "speaker": "B",
         "start": 55600,
         "text": "Well,"
        },
        {
         "confidence": 0.97,
         "end": 56302,
         "speaker": "B",
         "start": 56095,
         "text": "you"
        },
        {
         "confidence": 0.99446,
         "end": 56857,
         "speaker": "B",
         "start": 56320,
         "text": "mean"
        },
        {
         "confidence": 0.99,
         "end": 57367,
         "speaker": "B",
         "start": 57010,
         "text": "the"
        },
        {
         "confidence": 0.88906,
         "end": 58025,
         "speaker": "B",
         "start": 57415,
         "text": "full"
        },
        {
         "confidence": 0.99875,
         "end": 59600,
         "speaker": "B",
         "start": 58837,
         "text": "figure?"
        },
        {
         "confidence": 0.7799,
         "end": 60622,
         "speaker": "A",
         "start": 60262,
         "text": "Yeah,"
        },
        {
         "confidence": 0.85758,
         "end": 60882,
         "speaker": "A",
         "start": 60655,
         "text": "that's"
        },
        {
         "confidence": 0.98243,
         "end": 61027,
         "speaker": "A",
         "start": 60897,
         "text": "what"
        },
        {
         "confidence": 0.99,
         "end": 61132,
         "speaker": "A",
         "start": 61045,
         "text": "I"
        },
        {
         "confidence": 0.49747,
         "end": 61347,
         "speaker": "A",
         "start": 61135,
         "text": "meant."
        },
        {
         "confidence": 0.68109,
         "end": 61777,
         "speaker": "B",
         "start": 61392,
         "text": "Yeah,"
        },
        {
         "confidence": 0.7665,
         "end": 62127,
         "speaker": "B",
         "start": 61870,
         "text": "that's"
        },
        {
         "confidence": 0.99455,
         "end": 62302,
         "speaker": "B",
         "start": 62157,
         "text": "what"
        },
        {
         "confidence": 0.97,
         "end": 62452,
         "speaker": "B",
         "start": 62320,
         "text": "you"
        },
        {
         "confidence": 0.99681,
         "end": 62787,
         "speaker": "B",
         "start": 62470,
         "text": "meant."
        },
        {
         "confidence": 0.78306,
         "end": 63142,
         "speaker": "B",
         "start": 62862,
         "text": "Well,"
        },
        {
         "confidence": 0.99578,
         "end": 63577,
         "speaker": "B",
         "start": 63190,
         "text": "actually"
        },
        {
         "confidence": 0.98427,
         "end": 64002,
         "speaker": "B",
         "start": 63670,
         "text": "I've"
        },
        {
         "confidence": 0.99991,
         "end": 64267,
         "speaker": "B",
         "start": 64032,
         "text": "always"
        },
        {
         "confidence": 0.77262,
         "end": 64612,
         "speaker": "B",
         "start": 64315,
         "text": "been"
        },
        {
         "confidence": 0.99812,
         "end": 64897,
         "speaker": "B",
         "start": 64675,
         "text": "pretty"
        },
        {
         "confidence": 0.99879,
         "end": 65167,
         "speaker": "B",
         "start": 64930,
         "text": "well"
        },
        {
         "confidence": 0.99073,
         "end": 65967,
         "speaker": "B",
         "start": 65215,
         "text": "blessed"
        },
        {
         "confidence": 0.95742,
         "end": 66397,
         "speaker": "B",
         "start": 66102,
         "text": "as"
        },
        {
         "confidence": 0.99,
         "end": 66532,
         "speaker": "B",
         "start": 66430,
         "text": "a"
        },
        {
         "confidence": 0.99971,
         "end": 66742,
         "speaker": "B",
         "start": 66535,
         "text": "child."
        },
        {
         "confidence": 0.99,
         "end": 66952,
         "speaker": "B",
         "start": 66790,
         "text": "I"
        },
        {
         "confidence": 0.99896,
         "end": 67152,
         "speaker": "B",
         "start": 66970,
         "text": "grew"
        },
        {
         "confidence": 0.99895,
         "end": 67372,
         "speaker": "B",
         "start": 67182,
         "text": "up"
        },
        {
         "confidence": 0.99798,
         "end": 68000,
         "speaker": "B",
         "start": 67405,
         "text": "fast."
        },
        {
         "confidence": 0.99289,
         "end": 68812,
         "speaker": "B",
         "start": 68362,
         "text": "Other"
        },
        {
         "confidence": 0.99895,
         "end": 69142,
         "speaker": "B",
         "start": 68875,
         "text": "members"
        },
        {
         "confidence": 0.99,
         "end": 69352,
         "speaker": "B",
         "start": 69190,
         "text": "of"
        },
        {
         "confidence": 1,
         "end": 69547,
         "speaker": "B",
         "start": 69370,
         "text": "my"
        },
        {
         "confidence": 0.99981,
         "end": 70132,
         "speaker": "B",
         "start": 69580,
         "text": "family"
        },
        {
         "confidence": 0.98791,
         "end": 70597,
         "speaker": "B",
         "start": 70285,
         "text": "have"
        },
        {
         "confidence": 0.99931,
         "end": 70822,
         "speaker": "B",
         "start": 70630,
         "text": "done"
        },
        {
         "confidence": 0.9,
         "end": 71002,
         "speaker": "B",
         "start": 70855,
         "text": "the"
        },
        {
         "confidence": 0.93714,
         "end": 71600,
         "speaker": "B",
         "start": 71020,
         "text": "same."
        },
        {
         "confidence": 0.99,
         "end": 72802,
         "speaker": "A",
         "start": 72262,
         "text": "My"
        },
        {
         "confidence": 0.97235,
         "end": 73422,
         "speaker": "A",
         "start": 72895,
         "text": "assistant"
        },
        {
         "confidence": 0.97547,
         "end": 73672,
         "speaker": "A",
         "start": 73467,
         "text": "asked"
        },
        {
         "confidence": 1,
         "end": 73897,
         "speaker": "A",
         "start": 73705,
         "text": "me"
        },
        {
         "confidence": 0.99942,
         "end": 74212,
         "speaker": "A",
         "start": 73930,
         "text": "something"
        },
        {
         "confidence": 0.98,
         "end": 74452,
         "speaker": "A",
         "start": 74275,
         "text": "and"
        },
        {
         "confidence": 0.98842,
         "end": 74607,
         "speaker": "A",
         "start": 74470,
         "text": "I'm"
        },
        {
         "confidence": 0.99684,
         "end": 74707,
         "speaker": "A",
         "start": 74622,
         "text": "going"
        },
        {
         "confidence": 1,
         "end": 74782,
         "speaker": "A",
         "start": 74710,
         "text": "to"
        },
        {
         "confidence": 0.99642,
         "end": 74952,
         "speaker": "A",
         "start": 74785,
         "text": "blame"
        },
        {
         "confidence": 0.43117,
         "end": 75127,
         "speaker": "A",
         "start": 74982,
         "text": "it"
        },
        {
         "confidence": 0.94945,
         "end": 75277,
         "speaker": "A",
         "start": 75145,
         "text": "on"
        },
        {
         "confidence": 0.9705,
         "end": 75427,
         "speaker": "A",
         "start": 75295,
         "text": "her"
        },
        {
         "confidence": 0.94363,
         "end": 75577,
         "speaker": "A",
         "start": 75445,
         "text": "because"
        },
        {
         "confidence": 1,
         "end": 75682,
         "speaker": "A",
         "start": 75595,
         "text": "I"
        },
        {
         "confidence": 0.61853,
         "end": 75882,
         "speaker": "A",
         "start": 75685,
         "text": "wouldn't"
        },
        {
         "confidence": 0.98607,
         "end": 75982,
         "speaker": "A",
         "start": 75897,
         "text": "have"
        },
        {
         "confidence": 0.8438,
         "end": 76102,
         "speaker": "A",
         "start": 75985,
         "text": "had"
        },
        {
         "confidence": 0.95,
         "end": 76207,
         "speaker": "A",
         "start": 76120,
         "text": "the"
        },
        {
         "confidence": 0.69972,
         "end": 76497,
         "speaker": "A",
         "start": 76210,
         "text": "nerve"
        },
        {
         "confidence": 0.99454,
         "end": 77172,
         "speaker": "A",
         "start": 76542,
         "text": "otherwise."
        },
        {
         "confidence": 0.99,
         "end": 77527,
         "speaker": "A",
         "start": 77292,
         "text": "Is"
        },
        {
         "confidence": 0.98512,
         "end": 77722,
         "speaker": "A",
         "start": 77545,
         "text": "it"
        },
        {
         "confidence": 0.9977,
         "end": 77947,
         "speaker": "A",
         "start": 77755,
         "text": "all"
        },
        {
         "confidence": 1,
         "end": 78575,
         "speaker": "A",
         "start": 77980,
         "text": "you?"
        },
        {
         "confidence": 0.96937,
         "end": 80122,
         "speaker": "B",
         "start": 79762,
         "text": "Well,"
        },
        {
         "confidence": 1,
         "end": 80302,
         "speaker": "B",
         "start": 80155,
         "text": "I"
        },
        {
         "confidence": 0.98754,
         "end": 80622,
         "speaker": "B",
         "start": 80320,
         "text": "can't"
        },
        {
         "confidence": 0.99379,
         "end": 80917,
         "speaker": "B",
         "start": 80667,
         "text": "show"
        },
        {
         "confidence": 0.86,
         "end": 81217,
         "speaker": "B",
         "start": 80965,
         "text": "you."
        },
        {
         "confidence": 0.02634,
         "end": 81875,
         "speaker": "B",
         "start": 81265,
         "text": "Yeah,"
        },
        {
         "confidence": 0.75518,
         "end": 82977,
         "speaker": "B",
         "start": 82612,
         "text": "I'll"
        },
        {
         "confidence": 0.97307,
         "end": 83197,
         "speaker": "B",
         "start": 83007,
         "text": "take"
        },
        {
         "confidence": 0.93305,
         "end": 83377,
         "speaker": "B",
         "start": 83230,
         "text": "your"
        },
        {
         "confidence": 0.92201,
         "end": 83617,
         "speaker": "B",
         "start": 83395,
         "text": "word"
        },
        {
         "confidence": 0.9922,
         "end": 83827,
         "speaker": "B",
         "start": 83665,
         "text": "for"
        },
        {
         "confidence": 0.96484,
         "end": 84022,
         "speaker": "B",
         "start": 83845,
         "text": "it."
        },
        {
         "confidence": 0.97,
         "end": 84202,
         "speaker": "B",
         "start": 84055,
         "text": "I"
        },
        {
         "confidence": 0.98574,
         "end": 84397,
         "speaker": "B",
         "start": 84220,
         "text": "get"
        },
        {
         "confidence": 0.9961,
         "end": 84667,
         "speaker": "B",
         "start": 84430,
         "text": "asked"
        },
        {
         "confidence": 1,
         "end": 84922,
         "speaker": "B",
         "start": 84715,
         "text": "that"
        },
        {
         "confidence": 0.99931,
         "end": 85237,
         "speaker": "B",
         "start": 84955,
         "text": "question."
        },
        {
         "confidence": 0.94,
         "end": 85747,
         "speaker": "B",
         "start": 85300,
         "text": "I"
        },
        {
         "confidence": 0.99773,
         "end": 86212,
         "speaker": "B",
         "start": 85855,
         "text": "always"
        },
        {
         "confidence": 0.99908,
         "end": 86542,
         "speaker": "B",
         "start": 86275,
         "text": "answer"
        },
        {
         "confidence": 0.98,
         "end": 86977,
         "speaker": "B",
         "start": 86590,
         "text": "that"
        },
        {
         "confidence": 0.98424,
         "end": 87367,
         "speaker": "B",
         "start": 87070,
         "text": "because"
        },
        {
         "confidence": 0.99761,
         "end": 87892,
         "speaker": "B",
         "start": 87415,
         "text": "people"
        },
        {
         "confidence": 0.99725,
         "end": 88297,
         "speaker": "B",
         "start": 88015,
         "text": "are"
        },
        {
         "confidence": 0.95969,
         "end": 88612,
         "speaker": "B",
         "start": 88330,
         "text": "in"
        },
        {
         "confidence": 0.9505,
         "end": 88852,
         "speaker": "B",
         "start": 88675,
         "text": "all"
        },
        {
         "confidence": 0.89,
         "end": 89047,
         "speaker": "B",
         "start": 88870,
         "text": "of"
        },
        {
         "confidence": 1,
         "end": 89227,
         "speaker": "B",
         "start": 89080,
         "text": "the"
        },
        {
         "confidence": 0.99728,
         "end": 89422,
         "speaker": "B",
         "start": 89245,
         "text": "whole"
        },
        {
         "confidence": 0.9927,
         "end": 89737,
         "speaker": "B",
         "start": 89455,
         "text": "thing"
        },
        {
         "confidence": 0.98,
         "end": 89932,
         "speaker": "B",
         "start": 89800,
         "text": "a"
        },
        {
         "confidence": 0.99852,
         "end": 90052,
         "speaker": "B",
         "start": 89935,
         "text": "lot"
        },
        {
         "confidence": 1,
         "end": 90157,
         "speaker": "B",
         "start": 90070,
         "text": "of"
        },
        {
         "confidence": 0.99992,
         "end": 90367,
         "speaker": "B",
         "start": 90160,
         "text": "people"
        },
        {
         "confidence": 0.99875,
         "end": 90622,
         "speaker": "B",
         "start": 90415,
         "text": "say"
        },
        {
         "confidence": 0.99,
         "end": 90802,
         "speaker": "B",
         "start": 90655,
         "text": "I"
        },
        {
         "confidence": 0.99601,
         "end": 90997,
         "speaker": "B",
         "start": 90820,
         "text": "have"
        },
        {
         "confidence": 0.73,
         "end": 91177,
         "speaker": "B",
         "start": 91030,
         "text": "a"
        },
        {
         "confidence": 0.99993,
         "end": 91282,
         "speaker": "B",
         "start": 91195,
         "text": "lot"
        },
        {
         "confidence": 0.99,
         "end": 91402,
         "speaker": "B",
         "start": 91285,
         "text": "of"
        },
        {
         "confidence": 0.99976,
         "end": 91912,
         "speaker": "B",
         "start": 91420,
         "text": "people"
        },
        {
         "confidence": 0.99534,
         "end": 92347,
         "speaker": "B",
         "start": 92050,
         "text": "say"
        },
        {
         "confidence": 0.96,
         "end": 92572,
         "speaker": "B",
         "start": 92380,
         "text": "I"
        },
        {
         "confidence": 0.88454,
         "end": 92797,
         "speaker": "B",
         "start": 92605,
         "text": "have"
        },
        {
         "confidence": 0.65154,
         "end": 93067,
         "speaker": "B",
         "start": 92830,
         "text": "it."
        },
        {
         "confidence": 0.8,
         "end": 93277,
         "speaker": "B",
         "start": 93115,
         "text": "I"
        },
        {
         "confidence": 0.96177,
         "end": 93562,
         "speaker": "B",
         "start": 93295,
         "text": "always"
        },
        {
         "confidence": 0.99866,
         "end": 93982,
         "speaker": "B",
         "start": 93625,
         "text": "say"
        },
        {
         "confidence": 1,
         "end": 94297,
         "speaker": "B",
         "start": 94060,
         "text": "that"
        },
        {
         "confidence": 0.99877,
         "end": 94477,
         "speaker": "B",
         "start": 94330,
         "text": "if"
        },
        {
         "confidence": 1,
         "end": 94627,
         "speaker": "B",
         "start": 94495,
         "text": "I"
        },
        {
         "confidence": 0.96649,
         "end": 94917,
         "speaker": "B",
         "start": 94645,
         "text": "hadn't"
        },
        {
         "confidence": 0.99702,
         "end": 95152,
         "speaker": "B",
         "start": 94977,
         "text": "had"
        },
        {
         "confidence": 0.9982,
         "end": 95302,
         "speaker": "B",
         "start": 95170,
         "text": "it"
        },
        {
         "confidence": 0.99937,
         "end": 95452,
         "speaker": "B",
         "start": 95320,
         "text": "on"
        },
        {
         "confidence": 1,
         "end": 95602,
         "speaker": "B",
         "start": 95470,
         "text": "my"
        },
        {
         "confidence": 0.99976,
         "end": 95797,
         "speaker": "B",
         "start": 95620,
         "text": "own"
        },
        {
         "confidence": 0.97482,
         "end": 95982,
         "speaker": "B",
         "start": 95830,
         "text": "I'm"
        },
        {
         "confidence": 0.99827,
         "end": 96127,
         "speaker": "B",
         "start": 95997,
         "text": "just"
        },
        {
         "confidence": 0.98,
         "end": 96277,
         "speaker": "B",
         "start": 96145,
         "text": "the"
        },
        {
         "confidence": 0.99383,
         "end": 96427,
         "speaker": "B",
         "start": 96295,
         "text": "kind"
        },
        {
         "confidence": 1,
         "end": 96532,
         "speaker": "B",
         "start": 96445,
         "text": "of"
        },
        {
         "confidence": 0.84252,
         "end": 96742,
         "speaker": "B",
         "start": 96535,
         "text": "person"
        },
        {
         "confidence": 0.99,
         "end": 96952,
         "speaker": "B",
         "start": 96790,
         "text": "that"
        },
        {
         "confidence": 0.99903,
         "end": 97057,
         "speaker": "B",
         "start": 96970,
         "text": "would"
        },
        {
         "confidence": 0.78991,
         "end": 97177,
         "speaker": "B",
         "start": 97060,
         "text": "have"
        },
        {
         "confidence": 0.98484,
         "end": 97327,
         "speaker": "B",
         "start": 97195,
         "text": "had"
        },
        {
         "confidence": 0.8,
         "end": 97477,
         "speaker": "B",
         "start": 97345,
         "text": "me"
        },
        {
         "confidence": 0.97726,
         "end": 97627,
         "speaker": "B",
         "start": 97495,
         "text": "if"
        },
        {
         "confidence": 0.98,
         "end": 97777,
         "speaker": "B",
         "start": 97645,
         "text": "I"
        },
        {
         "confidence": 0.99648,
         "end": 98375,
         "speaker": "B",
         "start": 97795,
         "text": "made"
        },
        {
         "confidence": 1,
         "end": 99097,
         "speaker": "B",
         "start": 98737,
         "text": "you"
        },
        {
         "confidence": 0.9906,
         "end": 99327,
         "speaker": "B",
         "start": 99130,
         "text": "don't."
        },
        {
         "confidence": 0.99968,
         "end": 99502,
         "speaker": "A",
         "start": 99357,
         "text": "Have"
        },
        {
         "confidence": 1,
         "end": 99652,
         "speaker": "A",
         "start": 99520,
         "text": "to"
        },
        {
         "confidence": 0.99957,
         "end": 99802,
         "speaker": "A",
         "start": 99670,
         "text": "look"
        },
        {
         "confidence": 0.98511,
         "end": 99997,
         "speaker": "A",
         "start": 99820,
         "text": "like"
        },
        {
         "confidence": 0.99943,
         "end": 100447,
         "speaker": "A",
         "start": 100030,
         "text": "this."
        },
        {
         "confidence": 0.91031,
         "end": 100902,
         "speaker": "A",
         "start": 100555,
         "text": "You're"
        },
        {
         "confidence": 0.99959,
         "end": 101077,
         "speaker": "A",
         "start": 100932,
         "text": "very"
        },
        {
         "confidence": 0.99971,
         "end": 101452,
         "speaker": "A",
         "start": 101095,
         "text": "beautiful."
        },
        {
         "confidence": 0.98,
         "end": 101752,
         "speaker": "A",
         "start": 101545,
         "text": "You"
        },
        {
         "confidence": 0.98155,
         "end": 101952,
         "speaker": "A",
         "start": 101770,
         "text": "don't"
        },
        {
         "confidence": 0.99975,
         "end": 102082,
         "speaker": "A",
         "start": 101982,
         "text": "have"
        },
        {
         "confidence": 0.85,
         "end": 102202,
         "speaker": "A",
         "start": 102085,
         "text": "to"
        },
        {
         "confidence": 0.99653,
         "end": 102357,
         "speaker": "A",
         "start": 102220,
         "text": "wear"
        },
        {
         "confidence": 1,
         "end": 102457,
         "speaker": "A",
         "start": 102372,
         "text": "the"
        },
        {
         "confidence": 0.6237,
         "end": 102807,
         "speaker": "A",
         "start": 102460,
         "text": "blonde"
        },
        {
         "confidence": 0.91042,
         "end": 103362,
         "speaker": "A",
         "start": 102822,
         "text": "wigs"
        },
        {
         "confidence": 0.95,
         "end": 103627,
         "speaker": "A",
         "start": 103437,
         "text": "you"
        },
        {
         "confidence": 0.993,
         "end": 103827,
         "speaker": "A",
         "start": 103645,
         "text": "don't"
        },
        {
         "confidence": 0.99965,
         "end": 103957,
         "speaker": "A",
         "start": 103857,
         "text": "have"
        },
        {
         "confidence": 0.59,
         "end": 104077,
         "speaker": "A",
         "start": 103960,
         "text": "to"
        },
        {
         "confidence": 0.99539,
         "end": 104277,
         "speaker": "A",
         "start": 104095,
         "text": "wear"
        },
        {
         "confidence": 0.99,
         "end": 104452,
         "speaker": "A",
         "start": 104307,
         "text": "the"
        },
        {
         "confidence": 0.84767,
         "end": 104772,
         "speaker": "A",
         "start": 104470,
         "text": "extreme"
        },
        {
         "confidence": 0.9963,
         "end": 105222,
         "speaker": "A",
         "start": 104817,
         "text": "clothes."
        },
        {
         "confidence": 0.99574,
         "end": 105877,
         "speaker": "A",
         "start": 105267,
         "text": "Right?"
        },
        {
         "confidence": 0.97956,
         "end": 106687,
         "speaker": "B",
         "start": 106045,
         "text": "No,"
        },
        {
         "confidence": 0.73202,
         "end": 107202,
         "speaker": "B",
         "start": 106825,
         "text": "it's"
        },
        {
         "confidence": 0.99823,
         "end": 107467,
         "speaker": "B",
         "start": 107232,
         "text": "certainly"
        },
        {
         "confidence": 0.97,
         "end": 107677,
         "speaker": "B",
         "start": 107515,
         "text": "a"
        },
        {
         "confidence": 0.53279,
         "end": 108087,
         "speaker": "B",
         "start": 107695,
         "text": "choice."
        },
        {
         "confidence": 1,
         "end": 108352,
         "speaker": "B",
         "start": 108162,
         "text": "I"
        },
        {
         "confidence": 0.9792,
         "end": 108687,
         "speaker": "B",
         "start": 108370,
         "text": "don't"
        },
        {
         "confidence": 0.70811,
         "end": 108997,
         "speaker": "B",
         "start": 108762,
         "text": "like"
        },
        {
         "confidence": 0.99,
         "end": 109267,
         "speaker": "B",
         "start": 109030,
         "text": "to"
        },
        {
         "confidence": 1,
         "end": 109522,
         "speaker": "B",
         "start": 109315,
         "text": "be"
        },
        {
         "confidence": 0.99811,
         "end": 109792,
         "speaker": "B",
         "start": 109555,
         "text": "like"
        },
        {
         "confidence": 0.99856,
         "end": 110137,
         "speaker": "B",
         "start": 109840,
         "text": "everybody"
        },
        {
         "confidence": 0.99846,
         "end": 110422,
         "speaker": "B",
         "start": 110200,
         "text": "else."
        },
        {
         "confidence": 0.95053,
         "end": 110652,
         "speaker": "B",
         "start": 110455,
         "text": "I've"
        },
        {
         "confidence": 0.9986,
         "end": 110872,
         "speaker": "B",
         "start": 110682,
         "text": "often"
        },
        {
         "confidence": 0.62766,
         "end": 111142,
         "speaker": "B",
         "start": 110905,
         "text": "made"
        },
        {
         "confidence": 0.92059,
         "end": 111442,
         "speaker": "B",
         "start": 111190,
         "text": "this"
        },
        {
         "confidence": 0.79888,
         "end": 111867,
         "speaker": "B",
         "start": 111490,
         "text": "statement"
        },
        {
         "confidence": 0.97,
         "end": 112282,
         "speaker": "B",
         "start": 111927,
         "text": "that"
        },
        {
         "confidence": 1,
         "end": 112552,
         "speaker": "B",
         "start": 112360,
         "text": "I"
        },
        {
         "confidence": 0.99053,
         "end": 112702,
         "speaker": "B",
         "start": 112570,
         "text": "would"
        },
        {
         "confidence": 0.99922,
         "end": 112897,
         "speaker": "B",
         "start": 112720,
         "text": "never"
        },
        {
         "confidence": 0.94465,
         "end": 113202,
         "speaker": "B",
         "start": 112930,
         "text": "stoop"
        },
        {
         "confidence": 0.99291,
         "end": 113377,
         "speaker": "B",
         "start": 113232,
         "text": "so"
        },
        {
         "confidence": 0.97363,
         "end": 113527,
         "speaker": "B",
         "start": 113395,
         "text": "low"
        },
        {
         "confidence": 0.80948,
         "end": 113677,
         "speaker": "B",
         "start": 113545,
         "text": "as"
        },
        {
         "confidence": 1,
         "end": 113782,
         "speaker": "B",
         "start": 113695,
         "text": "to"
        },
        {
         "confidence": 0.99,
         "end": 113902,
         "speaker": "B",
         "start": 113785,
         "text": "be"
        },
        {
         "confidence": 0.56211,
         "end": 114417,
         "speaker": "B",
         "start": 113920,
         "text": "fashionable."
        },
        {
         "confidence": 0.97727,
         "end": 114657,
         "speaker": "B",
         "start": 114477,
         "text": "That's"
        },
        {
         "confidence": 1,
         "end": 114802,
         "speaker": "B",
         "start": 114672,
         "text": "the"
        },
        {
         "confidence": 0.97431,
         "end": 115152,
         "speaker": "B",
         "start": 114820,
         "text": "easiest"
        },
        {
         "confidence": 0.99974,
         "end": 115327,
         "speaker": "B",
         "start": 115182,
         "text": "thing"
        },
        {
         "confidence": 0.99729,
         "end": 115477,
         "speaker": "B",
         "start": 115345,
         "text": "in"
        },
        {
         "confidence": 1,
         "end": 115582,
         "speaker": "B",
         "start": 115495,
         "text": "the"
        },
        {
         "confidence": 0.99972,
         "end": 115792,
         "speaker": "B",
         "start": 115585,
         "text": "world"
        },
        {
         "confidence": 0.97,
         "end": 116002,
         "speaker": "B",
         "start": 115840,
         "text": "to"
        },
        {
         "confidence": 0.99853,
         "end": 116377,
         "speaker": "B",
         "start": 116020,
         "text": "do."
        },
        {
         "confidence": 0.78476,
         "end": 116677,
         "speaker": "B",
         "start": 116470,
         "text": "So"
        },
        {
         "confidence": 0.95,
         "end": 116872,
         "speaker": "B",
         "start": 116695,
         "text": "I"
        },
        {
         "confidence": 0.99642,
         "end": 117097,
         "speaker": "B",
         "start": 116905,
         "text": "just"
        },
        {
         "confidence": 0.99942,
         "end": 117567,
         "speaker": "B",
         "start": 117130,
         "text": "decided"
        },
        {
         "confidence": 1,
         "end": 117847,
         "speaker": "B",
         "start": 117627,
         "text": "that"
        },
        {
         "confidence": 1,
         "end": 118027,
         "speaker": "B",
         "start": 117880,
         "text": "I"
        },
        {
         "confidence": 0.99698,
         "end": 118222,
         "speaker": "B",
         "start": 118045,
         "text": "would"
        },
        {
         "confidence": 0.99957,
         "end": 118492,
         "speaker": "B",
         "start": 118255,
         "text": "do"
        },
        {
         "confidence": 0.99967,
         "end": 118972,
         "speaker": "B",
         "start": 118540,
         "text": "something"
        },
        {
         "confidence": 0.92,
         "end": 119302,
         "speaker": "B",
         "start": 119080,
         "text": "that"
        },
        {
         "confidence": 0.98478,
         "end": 119497,
         "speaker": "B",
         "start": 119320,
         "text": "would"
        },
        {
         "confidence": 1,
         "end": 119632,
         "speaker": "B",
         "start": 119530,
         "text": "at"
        },
        {
         "confidence": 0.9862,
         "end": 119842,
         "speaker": "B",
         "start": 119635,
         "text": "least"
        },
        {
         "confidence": 0.99826,
         "end": 120097,
         "speaker": "B",
         "start": 119890,
         "text": "get"
        },
        {
         "confidence": 0.99,
         "end": 120277,
         "speaker": "B",
         "start": 120130,
         "text": "the"
        },
        {
         "confidence": 0.9988,
         "end": 120687,
         "speaker": "B",
         "start": 120295,
         "text": "attention"
        },
        {
         "confidence": 0.99976,
         "end": 121042,
         "speaker": "B",
         "start": 120762,
         "text": "once"
        },
        {
         "confidence": 0.98956,
         "end": 121252,
         "speaker": "B",
         "start": 121090,
         "text": "they"
        },
        {
         "confidence": 0.9968,
         "end": 121447,
         "speaker": "B",
         "start": 121270,
         "text": "got"
        },
        {
         "confidence": 0.99,
         "end": 121717,
         "speaker": "B",
         "start": 121480,
         "text": "past"
        },
        {
         "confidence": 0.98,
         "end": 121972,
         "speaker": "B",
         "start": 121765,
         "text": "the"
        },
        {
         "confidence": 0.95938,
         "end": 122772,
         "speaker": "B",
         "start": 122005,
         "text": "shock"
        },
        {
         "confidence": 0.98,
         "end": 123322,
         "speaker": "B",
         "start": 122967,
         "text": "of"
        },
        {
         "confidence": 0.98,
         "end": 123547,
         "speaker": "B",
         "start": 123355,
         "text": "the"
        },
        {
         "confidence": 0.9568,
         "end": 124197,
         "speaker": "B",
         "start": 123580,
         "text": "ridiculous"
        },
        {
         "confidence": 0.99123,
         "end": 124447,
         "speaker": "B",
         "start": 124242,
         "text": "way"
        },
        {
         "confidence": 0.96,
         "end": 124627,
         "speaker": "B",
         "start": 124480,
         "text": "I"
        },
        {
         "confidence": 0.9898,
         "end": 124822,
         "speaker": "B",
         "start": 124645,
         "text": "looked"
        },
        {
         "confidence": 0.98,
         "end": 125002,
         "speaker": "B",
         "start": 124855,
         "text": "and"
        },
        {
         "confidence": 0.9974,
         "end": 125152,
         "speaker": "B",
         "start": 125020,
         "text": "all"
        },
        {
         "confidence": 1,
         "end": 125347,
         "speaker": "B",
         "start": 125170,
         "text": "that,"
        },
        {
         "confidence": 0.9262,
         "end": 125527,
         "speaker": "B",
         "start": 125380,
         "text": "then"
        },
        {
         "confidence": 0.98854,
         "end": 125677,
         "speaker": "B",
         "start": 125545,
         "text": "they"
        },
        {
         "confidence": 0.99453,
         "end": 125872,
         "speaker": "B",
         "start": 125695,
         "text": "would"
        },
        {
         "confidence": 0.98643,
         "end": 126097,
         "speaker": "B",
         "start": 125905,
         "text": "see"
        },
        {
         "confidence": 0.99669,
         "end": 126322,
         "speaker": "B",
         "start": 126130,
         "text": "there"
        },
        {
         "confidence": 0.97623,
         "end": 126950,
         "speaker": "B",
         "start": 126355,
         "text": "was"
        },
        {
         "confidence": 0.51,
         "end": 127627,
         "speaker": "B",
         "start": 127312,
         "text": "a"
        },
        {
         "confidence": 0.99405,
         "end": 127867,
         "speaker": "B",
         "start": 127645,
         "text": "part"
        },
        {
         "confidence": 1,
         "end": 128077,
         "speaker": "B",
         "start": 127915,
         "text": "of"
        },
        {
         "confidence": 1,
         "end": 128317,
         "speaker": "B",
         "start": 128095,
         "text": "me"
        },
        {
         "confidence": 0.99,
         "end": 128527,
         "speaker": "B",
         "start": 128365,
         "text": "to"
        },
        {
         "confidence": 0.99,
         "end": 128632,
         "speaker": "B",
         "start": 128545,
         "text": "be"
        },
        {
         "confidence": 0.87407,
         "end": 129072,
         "speaker": "B",
         "start": 128635,
         "text": "appreciated."
        },
        {
         "confidence": 0.95161,
         "end": 129327,
         "speaker": "B",
         "start": 129117,
         "text": "I'm"
        },
        {
         "confidence": 0.99938,
         "end": 129592,
         "speaker": "B",
         "start": 129357,
         "text": "very"
        },
        {
         "confidence": 1,
         "end": 130162,
         "speaker": "B",
         "start": 129640,
         "text": "real"
        },
        {
         "confidence": 0.97322,
         "end": 130597,
         "speaker": "B",
         "start": 130300,
         "text": "where"
        },
        {
         "confidence": 0.99811,
         "end": 130777,
         "speaker": "B",
         "start": 130630,
         "text": "it"
        },
        {
         "confidence": 0.99352,
         "end": 131082,
         "speaker": "B",
         "start": 130795,
         "text": "counts,"
        },
        {
         "confidence": 0.91,
         "end": 131227,
         "speaker": "B",
         "start": 131097,
         "text": "and"
        },
        {
         "confidence": 0.50044,
         "end": 131427,
         "speaker": "B",
         "start": 131245,
         "text": "that's"
        },
        {
         "confidence": 0.64876,
         "end": 131827,
         "speaker": "B",
         "start": 131457,
         "text": "inside."
        },
        {
         "confidence": 0.69,
         "end": 132127,
         "speaker": "B",
         "start": 131920,
         "text": "And"
        },
        {
         "confidence": 0.99382,
         "end": 132277,
         "speaker": "B",
         "start": 132145,
         "text": "as"
        },
        {
         "confidence": 0.99962,
         "end": 132427,
         "speaker": "B",
         "start": 132295,
         "text": "far"
        },
        {
         "confidence": 0.98493,
         "end": 132757,
         "speaker": "B",
         "start": 132445,
         "text": "as"
        },
        {
         "confidence": 0.99,
         "end": 133027,
         "speaker": "B",
         "start": 132835,
         "text": "my"
        },
        {
         "confidence": 0.61439,
         "end": 133452,
         "speaker": "B",
         "start": 133045,
         "text": "outlook"
        },
        {
         "confidence": 0.99294,
         "end": 133672,
         "speaker": "B",
         "start": 133482,
         "text": "on"
        },
        {
         "confidence": 0.99925,
         "end": 133942,
         "speaker": "B",
         "start": 133705,
         "text": "life"
        },
        {
         "confidence": 0.94,
         "end": 134152,
         "speaker": "B",
         "start": 133990,
         "text": "and"
        },
        {
         "confidence": 1,
         "end": 134302,
         "speaker": "B",
         "start": 134170,
         "text": "the"
        },
        {
         "confidence": 0.99969,
         "end": 134452,
         "speaker": "B",
         "start": 134320,
         "text": "way"
        },
        {
         "confidence": 0.99,
         "end": 134647,
         "speaker": "B",
         "start": 134470,
         "text": "I"
        },
        {
         "confidence": 0.99811,
         "end": 134872,
         "speaker": "B",
         "start": 134680,
         "text": "care"
        },
        {
         "confidence": 0.99614,
         "end": 135142,
         "speaker": "B",
         "start": 134905,
         "text": "about"
        },
        {
         "confidence": 0.99985,
         "end": 135442,
         "speaker": "B",
         "start": 135190,
         "text": "people"
        },
        {
         "confidence": 0.76,
         "end": 135607,
         "speaker": "B",
         "start": 135490,
         "text": "and"
        },
        {
         "confidence": 0.99,
         "end": 135682,
         "speaker": "B",
         "start": 135610,
         "text": "the"
        },
        {
         "confidence": 0.98477,
         "end": 135802,
         "speaker": "B",
         "start": 135685,
         "text": "way"
        },
        {
         "confidence": 0.99,
         "end": 135952,
         "speaker": "B",
         "start": 135820,
         "text": "I"
        },
        {
         "confidence": 0.99801,
         "end": 136147,
         "speaker": "B",
         "start": 135970,
         "text": "care"
        },
        {
         "confidence": 0.6672,
         "end": 136417,
         "speaker": "B",
         "start": 136180,
         "text": "about"
        },
        {
         "confidence": 0.999,
         "end": 136987,
         "speaker": "B",
         "start": 136465,
         "text": "myself"
        },
        {
         "confidence": 0.96,
         "end": 137377,
         "speaker": "B",
         "start": 137125,
         "text": "and"
        },
        {
         "confidence": 0.56,
         "end": 137572,
         "speaker": "B",
         "start": 137395,
         "text": "the"
        },
        {
         "confidence": 0.99777,
         "end": 137797,
         "speaker": "B",
         "start": 137605,
         "text": "things"
        },
        {
         "confidence": 1,
         "end": 137977,
         "speaker": "B",
         "start": 137830,
         "text": "that"
        },
        {
         "confidence": 1,
         "end": 138127,
         "speaker": "B",
         "start": 137995,
         "text": "I"
        },
        {
         "confidence": 0.99986,
         "end": 138322,
         "speaker": "B",
         "start": 138145,
         "text": "care"
        },
        {
         "confidence": 0.99989,
         "end": 138772,
         "speaker": "B",
         "start": 138355,
         "text": "about."
        },
        {
         "confidence": 0.91547,
         "end": 139192,
         "speaker": "B",
         "start": 138880,
         "text": "But"
        },
        {
         "confidence": 1,
         "end": 139402,
         "speaker": "B",
         "start": 139240,
         "text": "I"
        },
        {
         "confidence": 0.99689,
         "end": 139597,
         "speaker": "B",
         "start": 139420,
         "text": "just"
        },
        {
         "confidence": 0.99204,
         "end": 139872,
         "speaker": "B",
         "start": 139630,
         "text": "chose"
        },
        {
         "confidence": 1,
         "end": 140077,
         "speaker": "B",
         "start": 139917,
         "text": "to"
        },
        {
         "confidence": 0.99854,
         "end": 140227,
         "speaker": "B",
         "start": 140095,
         "text": "do"
        },
        {
         "confidence": 0.99822,
         "end": 140422,
         "speaker": "B",
         "start": 140245,
         "text": "this."
        },
        {
         "confidence": 0.6,
         "end": 141007,
         "speaker": "B",
         "start": 140455,
         "text": "And"
        },
        {
         "confidence": 0.99795,
         "end": 141472,
         "speaker": "B",
         "start": 141160,
         "text": "show"
        },
        {
         "confidence": 0.998,
         "end": 141787,
         "speaker": "B",
         "start": 141505,
         "text": "business"
        },
        {
         "confidence": 0.62,
         "end": 142072,
         "speaker": "B",
         "start": 141850,
         "text": "is"
        },
        {
         "confidence": 0.89,
         "end": 142342,
         "speaker": "B",
         "start": 142105,
         "text": "a"
        },
        {
         "confidence": 0.99994,
         "end": 142642,
         "speaker": "B",
         "start": 142390,
         "text": "money"
        },
        {
         "confidence": 0.9628,
         "end": 143077,
         "speaker": "B",
         "start": 142690,
         "text": "making"
        },
        {
         "confidence": 0.89028,
         "end": 143682,
         "speaker": "B",
         "start": 143170,
         "text": "joke,"
        },
        {
         "confidence": 0.86,
         "end": 144067,
         "speaker": "B",
         "start": 143772,
         "text": "and"
        },
        {
         "confidence": 0.99,
         "end": 144277,
         "speaker": "B",
         "start": 144115,
         "text": "I"
        },
        {
         "confidence": 0.96338,
         "end": 144517,
         "speaker": "B",
         "start": 144295,
         "text": "just"
        },
        {
         "confidence": 0.99887,
         "end": 144862,
         "speaker": "B",
         "start": 144565,
         "text": "always"
        },
        {
         "confidence": 0.8768,
         "end": 145407,
         "speaker": "B",
         "start": 144925,
         "text": "liked"
        },
        {
         "confidence": 0.87143,
         "end": 145872,
         "speaker": "B",
         "start": 145497,
         "text": "telling"
        },
        {
         "confidence": 0.74722,
         "end": 146537,
         "speaker": "B",
         "start": 145917,
         "text": "jokes."
        },
        {
         "confidence": 0.8213,
         "end": 147247,
         "speaker": "A",
         "start": 146887,
         "text": "But"
        },
        {
         "confidence": 0.99296,
         "end": 147427,
         "speaker": "A",
         "start": 147280,
         "text": "do"
        },
        {
         "confidence": 0.95,
         "end": 147667,
         "speaker": "A",
         "start": 147445,
         "text": "you"
        },
        {
         "confidence": 0.99889,
         "end": 147967,
         "speaker": "A",
         "start": 147715,
         "text": "ever"
        },
        {
         "confidence": 0.99967,
         "end": 148267,
         "speaker": "A",
         "start": 148015,
         "text": "feel"
        },
        {
         "confidence": 1,
         "end": 148477,
         "speaker": "A",
         "start": 148315,
         "text": "that"
        },
        {
         "confidence": 0.61436,
         "end": 148722,
         "speaker": "A",
         "start": 148495,
         "text": "you're"
        },
        {
         "confidence": 1,
         "end": 148927,
         "speaker": "A",
         "start": 148767,
         "text": "a"
        },
        {
         "confidence": 0.99547,
         "end": 149292,
         "speaker": "A",
         "start": 148945,
         "text": "joke?"
        },
        {
         "confidence": 0.98,
         "end": 149572,
         "speaker": "A",
         "start": 149352,
         "text": "That"
        },
        {
         "confidence": 0.99993,
         "end": 149842,
         "speaker": "A",
         "start": 149605,
         "text": "people"
        },
        {
         "confidence": 0.9976,
         "end": 150097,
         "speaker": "A",
         "start": 149890,
         "text": "make"
        },
        {
         "confidence": 0.99981,
         "end": 150277,
         "speaker": "A",
         "start": 150130,
         "text": "fun"
        },
        {
         "confidence": 0.52,
         "end": 150472,
         "speaker": "A",
         "start": 150295,
         "text": "of"
        },
        {
         "confidence": 1,
         "end": 150742,
         "speaker": "A",
         "start": 150505,
         "text": "you?"
        },
        {
         "confidence": 0.61,
         "end": 150952,
         "speaker": "B",
         "start": 150790,
         "text": "Oh,"
        },
        {
         "confidence": 1,
         "end": 151057,
         "speaker": "B",
         "start": 150970,
         "text": "I"
        },
        {
         "confidence": 0.99898,
         "end": 151177,
         "speaker": "B",
         "start": 151060,
         "text": "know"
        },
        {
         "confidence": 0.88295,
         "end": 151372,
         "speaker": "B",
         "start": 151195,
         "text": "they"
        },
        {
         "confidence": 0.9929,
         "end": 151597,
         "speaker": "B",
         "start": 151405,
         "text": "make"
        },
        {
         "confidence": 0.99987,
         "end": 151777,
         "speaker": "B",
         "start": 151630,
         "text": "fun"
        },
        {
         "confidence": 1,
         "end": 151927,
         "speaker": "B",
         "start": 151795,
         "text": "of"
        },
        {
         "confidence": 1,
         "end": 152437,
         "speaker": "B",
         "start": 151945,
         "text": "me"
        },
        {
         "confidence": 0.9336,
         "end": 152872,
         "speaker": "B",
         "start": 152575,
         "text": "but"
        },
        {
         "confidence": 0.99753,
         "end": 153187,
         "speaker": "B",
         "start": 152905,
         "text": "actually,"
        },
        {
         "confidence": 0.99677,
         "end": 153517,
         "speaker": "B",
         "start": 153250,
         "text": "all"
        },
        {
         "confidence": 0.99166,
         "end": 153817,
         "speaker": "B",
         "start": 153565,
         "text": "these"
        },
        {
         "confidence": 0.99968,
         "end": 154252,
         "speaker": "B",
         "start": 153865,
         "text": "years"
        },
        {
         "confidence": 0.89,
         "end": 154597,
         "speaker": "B",
         "start": 154345,
         "text": "the"
        },
        {
         "confidence": 0.99929,
         "end": 155225,
         "speaker": "B",
         "start": 154630,
         "text": "people"
        },
        {
         "confidence": 0.67776,
         "end": 155947,
         "speaker": "B",
         "start": 155587,
         "text": "have"
        },
        {
         "confidence": 0.99561,
         "end": 156172,
         "speaker": "B",
         "start": 155980,
         "text": "thought"
        },
        {
         "confidence": 0.96,
         "end": 156352,
         "speaker": "B",
         "start": 156205,
         "text": "the"
        },
        {
         "confidence": 0.99582,
         "end": 156627,
         "speaker": "B",
         "start": 156370,
         "text": "joke"
        },
        {
         "confidence": 0.98827,
         "end": 156802,
         "speaker": "B",
         "start": 156657,
         "text": "was"
        },
        {
         "confidence": 0.99755,
         "end": 156952,
         "speaker": "B",
         "start": 156820,
         "text": "on"
        },
        {
         "confidence": 0.99,
         "end": 157147,
         "speaker": "B",
         "start": 156970,
         "text": "me,"
        },
        {
         "confidence": 0.99138,
         "end": 157327,
         "speaker": "B",
         "start": 157180,
         "text": "but"
        },
        {
         "confidence": 0.93843,
         "end": 157527,
         "speaker": "B",
         "start": 157345,
         "text": "it's"
        },
        {
         "confidence": 0.99761,
         "end": 157792,
         "speaker": "B",
         "start": 157557,
         "text": "actually"
        },
        {
         "confidence": 0.99878,
         "end": 158002,
         "speaker": "B",
         "start": 157840,
         "text": "been"
        },
        {
         "confidence": 0.99418,
         "end": 158152,
         "speaker": "B",
         "start": 158020,
         "text": "on"
        },
        {
         "confidence": 0.98,
         "end": 158302,
         "speaker": "B",
         "start": 158170,
         "text": "the"
        },
        {
         "confidence": 0.68047,
         "end": 158722,
         "speaker": "B",
         "start": 158320,
         "text": "public."
        },
        {
         "confidence": 0.98,
         "end": 159097,
         "speaker": "B",
         "start": 158830,
         "text": "I"
        },
        {
         "confidence": 0.99907,
         "end": 159322,
         "speaker": "B",
         "start": 159130,
         "text": "know"
        },
        {
         "confidence": 0.99993,
         "end": 159637,
         "speaker": "B",
         "start": 159355,
         "text": "exactly"
        },
        {
         "confidence": 0.99963,
         "end": 159877,
         "speaker": "B",
         "start": 159700,
         "text": "what"
        },
        {
         "confidence": 0.97345,
         "end": 160077,
         "speaker": "B",
         "start": 159895,
         "text": "I'm"
        },
        {
         "confidence": 0.99874,
         "end": 160297,
         "speaker": "B",
         "start": 160107,
         "text": "doing"
        },
        {
         "confidence": 0.91,
         "end": 160477,
         "speaker": "B",
         "start": 160330,
         "text": "and"
        },
        {
         "confidence": 1,
         "end": 160582,
         "speaker": "B",
         "start": 160495,
         "text": "I"
        },
        {
         "confidence": 0.995,
         "end": 160747,
         "speaker": "B",
         "start": 160585,
         "text": "can"
        },
        {
         "confidence": 0.99978,
         "end": 160972,
         "speaker": "B",
         "start": 160780,
         "text": "change"
        },
        {
         "confidence": 0.99254,
         "end": 161152,
         "speaker": "B",
         "start": 161005,
         "text": "it"
        },
        {
         "confidence": 0.99,
         "end": 161302,
         "speaker": "B",
         "start": 161170,
         "text": "at"
        },
        {
         "confidence": 0.99917,
         "end": 161542,
         "speaker": "B",
         "start": 161320,
         "text": "any"
        },
        {
         "confidence": 0.9738,
         "end": 161932,
         "speaker": "B",
         "start": 161590,
         "text": "time"
        },
        {
         "confidence": 0.46059,
         "end": 162247,
         "speaker": "B",
         "start": 162010,
         "text": "or"
        },
        {
         "confidence": 0.99,
         "end": 162427,
         "speaker": "B",
         "start": 162280,
         "text": "I"
        },
        {
         "confidence": 0.99482,
         "end": 162622,
         "speaker": "B",
         "start": 162445,
         "text": "make"
        },
        {
         "confidence": 1,
         "end": 162802,
         "speaker": "B",
         "start": 162655,
         "text": "more"
        },
        {
         "confidence": 0.57052,
         "end": 163047,
         "speaker": "B",
         "start": 162820,
         "text": "jokes"
        },
        {
         "confidence": 0.9986,
         "end": 163252,
         "speaker": "B",
         "start": 163092,
         "text": "about"
        },
        {
         "confidence": 0.99398,
         "end": 163582,
         "speaker": "B",
         "start": 163270,
         "text": "myself"
        },
        {
         "confidence": 0.54641,
         "end": 164212,
         "speaker": "B",
         "start": 163660,
         "text": "than"
        },
        {
         "confidence": 0.99973,
         "end": 165097,
         "speaker": "B",
         "start": 164350,
         "text": "anybody"
        },
        {
         "confidence": 0.82485,
         "end": 165712,
         "speaker": "B",
         "start": 165280,
         "text": "because"
        },
        {
         "confidence": 0.72,
         "end": 165997,
         "speaker": "B",
         "start": 165775,
         "text": "I"
        },
        {
         "confidence": 0.97733,
         "end": 166627,
         "speaker": "B",
         "start": 166030,
         "text": "enjoy"
        },
        {
         "confidence": 0.01908,
         "end": 167077,
         "speaker": "B",
         "start": 166795,
         "text": "as"
        },
        {
         "confidence": 0.98,
         "end": 167182,
         "speaker": "B",
         "start": 167095,
         "text": "I"
        },
        {
         "confidence": 0.6215,
         "end": 167347,
         "speaker": "B",
         "start": 167185,
         "text": "say,"
        },
        {
         "confidence": 0.99,
         "end": 167527,
         "speaker": "B",
         "start": 167380,
         "text": "I"
        },
        {
         "confidence": 0.83,
         "end": 167722,
         "speaker": "B",
         "start": 167545,
         "text": "am"
        },
        {
         "confidence": 0.99666,
         "end": 167992,
         "speaker": "B",
         "start": 167755,
         "text": "sure"
        },
        {
         "confidence": 1,
         "end": 168202,
         "speaker": "B",
         "start": 168040,
         "text": "of"
        },
        {
         "confidence": 0.97309,
         "end": 168667,
         "speaker": "B",
         "start": 168220,
         "text": "myself"
        },
        {
         "confidence": 0.73036,
         "end": 169027,
         "speaker": "B",
         "start": 168790,
         "text": "as"
        },
        {
         "confidence": 0.98,
         "end": 169132,
         "speaker": "B",
         "start": 169045,
         "text": "a"
        },
        {
         "confidence": 0.99963,
         "end": 169522,
         "speaker": "B",
         "start": 169135,
         "text": "person."
        },
        {
         "confidence": 0.7482,
         "end": 170022,
         "speaker": "B",
         "start": 169630,
         "text": "I'm"
        },
        {
         "confidence": 0.99957,
         "end": 170272,
         "speaker": "B",
         "start": 170067,
         "text": "sure"
        },
        {
         "confidence": 0.99,
         "end": 170497,
         "speaker": "B",
         "start": 170305,
         "text": "of"
        },
        {
         "confidence": 1,
         "end": 170722,
         "speaker": "B",
         "start": 170530,
         "text": "my"
        },
        {
         "confidence": 0.90608,
         "end": 171477,
         "speaker": "B",
         "start": 170755,
         "text": "talent"
        },
        {
         "confidence": 0.69,
         "end": 171997,
         "speaker": "B",
         "start": 171657,
         "text": "and"
        },
        {
         "confidence": 0.99,
         "end": 172177,
         "speaker": "B",
         "start": 172030,
         "text": "to"
        },
        {
         "confidence": 1,
         "end": 172462,
         "speaker": "B",
         "start": 172195,
         "text": "me"
        },
        {
         "confidence": 0.68,
         "end": 172792,
         "speaker": "B",
         "start": 172525,
         "text": "and"
        },
        {
         "confidence": 0.95574,
         "end": 173127,
         "speaker": "B",
         "start": 172840,
         "text": "I'm"
        },
        {
         "confidence": 0.99862,
         "end": 173392,
         "speaker": "B",
         "start": 173157,
         "text": "sure"
        },
        {
         "confidence": 0.56,
         "end": 173827,
         "speaker": "B",
         "start": 173440,
         "text": "of"
        },
        {
         "confidence": 1,
         "end": 174352,
         "speaker": "B",
         "start": 173920,
         "text": "my"
        },
        {
         "confidence": 0.99937,
         "end": 175057,
         "speaker": "B",
         "start": 174445,
         "text": "love"
        },
        {
         "confidence": 0.9995,
         "end": 175522,
         "speaker": "B",
         "start": 175210,
         "text": "for"
        },
        {
         "confidence": 0.99981,
         "end": 175792,
         "speaker": "B",
         "start": 175555,
         "text": "life"
        },
        {
         "confidence": 0.98,
         "end": 176002,
         "speaker": "B",
         "start": 175840,
         "text": "and"
        },
        {
         "confidence": 1,
         "end": 176152,
         "speaker": "B",
         "start": 176020,
         "text": "that"
        },
        {
         "confidence": 0.99712,
         "end": 176302,
         "speaker": "B",
         "start": 176170,
         "text": "sort"
        },
        {
         "confidence": 0.99,
         "end": 176407,
         "speaker": "B",
         "start": 176320,
         "text": "of"
        },
        {
         "confidence": 0.99977,
         "end": 176572,
         "speaker": "B",
         "start": 176410,
         "text": "thing."
        },
        {
         "confidence": 0.98191,
         "end": 176757,
         "speaker": "B",
         "start": 176605,
         "text": "I'm"
        },
        {
         "confidence": 0.99968,
         "end": 176992,
         "speaker": "B",
         "start": 176772,
         "text": "very"
        },
        {
         "confidence": 0.99962,
         "end": 177427,
         "speaker": "B",
         "start": 177040,
         "text": "content."
        },
        {
         "confidence": 1,
         "end": 177727,
         "speaker": "B",
         "start": 177520,
         "text": "I"
        },
        {
         "confidence": 0.98172,
         "end": 177967,
         "speaker": "B",
         "start": 177745,
         "text": "like"
        },
        {
         "confidence": 0.99,
         "end": 178177,
         "speaker": "B",
         "start": 178015,
         "text": "the"
        },
        {
         "confidence": 0.99157,
         "end": 178327,
         "speaker": "B",
         "start": 178195,
         "text": "kind"
        },
        {
         "confidence": 1,
         "end": 178477,
         "speaker": "B",
         "start": 178345,
         "text": "of"
        },
        {
         "confidence": 0.99982,
         "end": 178717,
         "speaker": "B",
         "start": 178495,
         "text": "person"
        },
        {
         "confidence": 0.99,
         "end": 178927,
         "speaker": "B",
         "start": 178765,
         "text": "that"
        },
        {
         "confidence": 1,
         "end": 179077,
         "speaker": "B",
         "start": 178945,
         "text": "I"
        },
        {
         "confidence": 1,
         "end": 179317,
         "speaker": "B",
         "start": 179095,
         "text": "am"
        },
        {
         "confidence": 0.7859,
         "end": 179707,
         "speaker": "B",
         "start": 179365,
         "text": "so"
        },
        {
         "confidence": 1,
         "end": 179977,
         "speaker": "B",
         "start": 179785,
         "text": "I"
        },
        {
         "confidence": 0.99799,
         "end": 180172,
         "speaker": "B",
         "start": 179995,
         "text": "can"
        },
        {
         "confidence": 0.62098,
         "end": 180612,
         "speaker": "B",
         "start": 180205,
         "text": "afford"
        },
        {
         "confidence": 1,
         "end": 180922,
         "speaker": "B",
         "start": 180687,
         "text": "to"
        },
        {
         "confidence": 0.01284,
         "end": 181272,
         "speaker": "B",
         "start": 180955,
         "text": "pedal"
        },
        {
         "confidence": 0.99894,
         "end": 181567,
         "speaker": "B",
         "start": 181317,
         "text": "around"
        },
        {
         "confidence": 0.99,
         "end": 181822,
         "speaker": "B",
         "start": 181615,
         "text": "and"
        },
        {
         "confidence": 0.98465,
         "end": 182047,
         "speaker": "B",
         "start": 181855,
         "text": "do"
        },
        {
         "confidence": 0.04,
         "end": 182227,
         "speaker": "B",
         "start": 182080,
         "text": "the"
        },
        {
         "confidence": 0.01317,
         "end": 182422,
         "speaker": "B",
         "start": 182245,
         "text": "little"
        },
        {
         "confidence": 0.99872,
         "end": 182692,
         "speaker": "B",
         "start": 182455,
         "text": "around"
        },
        {
         "confidence": 0.99889,
         "end": 182992,
         "speaker": "B",
         "start": 182740,
         "text": "with"
        },
        {
         "confidence": 0.63073,
         "end": 183627,
         "speaker": "B",
         "start": 183040,
         "text": "makeups"
        },
        {
         "confidence": 0.97,
         "end": 183802,
         "speaker": "B",
         "start": 183657,
         "text": "and"
        },
        {
         "confidence": 0.83415,
         "end": 184152,
         "speaker": "B",
         "start": 183820,
         "text": "clothes"
        },
        {
         "confidence": 0.98,
         "end": 184327,
         "speaker": "B",
         "start": 184182,
         "text": "and"
        },
        {
         "confidence": 0.99743,
         "end": 184657,
         "speaker": "B",
         "start": 184345,
         "text": "stuff"
        },
        {
         "confidence": 0.55052,
         "end": 185107,
         "speaker": "B",
         "start": 184735,
         "text": "because"
        },
        {
         "confidence": 0.99,
         "end": 185422,
         "speaker": "B",
         "start": 185185,
         "text": "I"
        },
        {
         "confidence": 0.96,
         "end": 185872,
         "speaker": "B",
         "start": 185455,
         "text": "am"
        },
        {
         "confidence": 0.99729,
         "end": 186672,
         "speaker": "B",
         "start": 185980,
         "text": "secure"
        },
        {
         "confidence": 0.83823,
         "end": 187342,
         "speaker": "B",
         "start": 186792,
         "text": "with"
        },
        {
         "confidence": 0.99912,
         "end": 188150,
         "speaker": "B",
         "start": 187465,
         "text": "myself."
        },
        {
         "confidence": 0.9966,
         "end": 189412,
         "speaker": "A",
         "start": 188962,
         "text": "Listen,"
        },
        {
         "confidence": 0.99716,
         "end": 189652,
         "speaker": "A",
         "start": 189475,
         "text": "tell"
        },
        {
         "confidence": 1,
         "end": 189802,
         "speaker": "A",
         "start": 189670,
         "text": "me"
        },
        {
         "confidence": 0.99982,
         "end": 189997,
         "speaker": "A",
         "start": 189820,
         "text": "about"
        },
        {
         "confidence": 0.9993,
         "end": 190222,
         "speaker": "A",
         "start": 190030,
         "text": "this"
        },
        {
         "confidence": 0.99966,
         "end": 190572,
         "speaker": "A",
         "start": 190255,
         "text": "marriage"
        },
        {
         "confidence": 0.99,
         "end": 190777,
         "speaker": "A",
         "start": 190617,
         "text": "of"
        },
        {
         "confidence": 0.99414,
         "end": 191097,
         "speaker": "A",
         "start": 190795,
         "text": "yours"
        },
        {
         "confidence": 0.99904,
         "end": 191347,
         "speaker": "A",
         "start": 191142,
         "text": "this"
        },
        {
         "confidence": 0.99917,
         "end": 191572,
         "speaker": "A",
         "start": 191380,
         "text": "man"
        },
        {
         "confidence": 0.99823,
         "end": 191797,
         "speaker": "A",
         "start": 191605,
         "text": "who"
        },
        {
         "confidence": 0.99355,
         "end": 192327,
         "speaker": "A",
         "start": 191830,
         "text": "nobody"
        },
        {
         "confidence": 0.9984,
         "end": 192697,
         "speaker": "A",
         "start": 192432,
         "text": "ever"
        },
        {
         "confidence": 0.56941,
         "end": 192967,
         "speaker": "A",
         "start": 192730,
         "text": "seems"
        },
        {
         "confidence": 1,
         "end": 193132,
         "speaker": "A",
         "start": 193015,
         "text": "to"
        },
        {
         "confidence": 0.99515,
         "end": 193297,
         "speaker": "A",
         "start": 193135,
         "text": "see."
        },
        {
         "confidence": 0.99448,
         "end": 193522,
         "speaker": "A",
         "start": 193330,
         "text": "We"
        },
        {
         "confidence": 0.99967,
         "end": 193747,
         "speaker": "A",
         "start": 193555,
         "text": "heard"
        },
        {
         "confidence": 0.98,
         "end": 193927,
         "speaker": "A",
         "start": 193780,
         "text": "that"
        },
        {
         "confidence": 0.99756,
         "end": 194032,
         "speaker": "A",
         "start": 193945,
         "text": "he"
        },
        {
         "confidence": 0.99642,
         "end": 194152,
         "speaker": "A",
         "start": 194035,
         "text": "was"
        },
        {
         "confidence": 0.58996,
         "end": 194437,
         "speaker": "A",
         "start": 194170,
         "text": "here,"
        },
        {
         "confidence": 0.59642,
         "end": 194722,
         "speaker": "A",
         "start": 194500,
         "text": "we"
        },
        {
         "confidence": 0.5106,
         "end": 194947,
         "speaker": "A",
         "start": 194755,
         "text": "heard"
        },
        {
         "confidence": 0.97,
         "end": 195082,
         "speaker": "A",
         "start": 194980,
         "text": "that"
        },
        {
         "confidence": 0.79768,
         "end": 195202,
         "speaker": "A",
         "start": 195085,
         "text": "he"
        },
        {
         "confidence": 0.70057,
         "end": 195487,
         "speaker": "A",
         "start": 195220,
         "text": "was,"
        },
        {
         "confidence": 0.96908,
         "end": 195727,
         "speaker": "A",
         "start": 195550,
         "text": "but"
        },
        {
         "confidence": 0.99765,
         "end": 195882,
         "speaker": "A",
         "start": 195745,
         "text": "none"
        },
        {
         "confidence": 1,
         "end": 195982,
         "speaker": "A",
         "start": 195897,
         "text": "of"
        },
        {
         "confidence": 1,
         "end": 196102,
         "speaker": "A",
         "start": 195985,
         "text": "us"
        },
        {
         "confidence": 0.85322,
         "end": 196207,
         "speaker": "A",
         "start": 196120,
         "text": "have"
        },
        {
         "confidence": 0.98718,
         "end": 196372,
         "speaker": "A",
         "start": 196210,
         "text": "seen"
        },
        {
         "confidence": 0.96596,
         "end": 196732,
         "speaker": "A",
         "start": 196405,
         "text": "him."
        },
        {
         "confidence": 0.67854,
         "end": 197127,
         "speaker": "A",
         "start": 196810,
         "text": "Paul"
        },
        {
         "confidence": 0.74084,
         "end": 197832,
         "speaker": "A",
         "start": 197157,
         "text": "Dean,"
        },
        {
         "confidence": 0.99,
         "end": 198277,
         "speaker": "A",
         "start": 197997,
         "text": "you"
        },
        {
         "confidence": 0.995,
         "end": 198432,
         "speaker": "A",
         "start": 198295,
         "text": "don't"
        },
        {
         "confidence": 0.99192,
         "end": 198622,
         "speaker": "A",
         "start": 198447,
         "text": "see"
        },
        {
         "confidence": 0.93908,
         "end": 198847,
         "speaker": "A",
         "start": 198655,
         "text": "him"
        },
        {
         "confidence": 0.99982,
         "end": 199072,
         "speaker": "A",
         "start": 198880,
         "text": "very"
        },
        {
         "confidence": 0.99997,
         "end": 199477,
         "speaker": "A",
         "start": 199105,
         "text": "much."
        },
        {
         "confidence": 0.9428,
         "end": 199857,
         "speaker": "A",
         "start": 199570,
         "text": "You're"
        },
        {
         "confidence": 0.99949,
         "end": 200002,
         "speaker": "A",
         "start": 199872,
         "text": "on"
        },
        {
         "confidence": 1,
         "end": 200107,
         "speaker": "A",
         "start": 200020,
         "text": "the"
        },
        {
         "confidence": 0.81209,
         "end": 200362,
         "speaker": "A",
         "start": 200110,
         "text": "road"
        },
        {
         "confidence": 0.99977,
         "end": 200647,
         "speaker": "A",
         "start": 200425,
         "text": "most"
        },
        {
         "confidence": 0.98,
         "end": 200782,
         "speaker": "A",
         "start": 200680,
         "text": "of"
        },
        {
         "confidence": 0.99,
         "end": 200902,
         "speaker": "A",
         "start": 200785,
         "text": "the"
        },
        {
         "confidence": 0.9986,
         "end": 201142,
         "speaker": "A",
         "start": 200920,
         "text": "time."
        },
        {
         "confidence": 0.58451,
         "end": 201402,
         "speaker": "A",
         "start": 201190,
         "text": "You've"
        },
        {
         "confidence": 0.99912,
         "end": 201667,
         "speaker": "A",
         "start": 201432,
         "text": "said,"
        },
        {
         "confidence": 1,
         "end": 201877,
         "speaker": "A",
         "start": 201715,
         "text": "I"
        },
        {
         "confidence": 0.99953,
         "end": 202072,
         "speaker": "A",
         "start": 201895,
         "text": "know"
        },
        {
         "confidence": 1,
         "end": 202297,
         "speaker": "A",
         "start": 202105,
         "text": "that"
        },
        {
         "confidence": 0.99922,
         "end": 202522,
         "speaker": "A",
         "start": 202330,
         "text": "this"
        },
        {
         "confidence": 0.99962,
         "end": 202872,
         "speaker": "A",
         "start": 202555,
         "text": "marriage"
        },
        {
         "confidence": 0.99926,
         "end": 203122,
         "speaker": "A",
         "start": 202917,
         "text": "will"
        },
        {
         "confidence": 0.99993,
         "end": 203437,
         "speaker": "A",
         "start": 203155,
         "text": "always"
        },
        {
         "confidence": 0.99957,
         "end": 203947,
         "speaker": "A",
         "start": 203500,
         "text": "last."
        },
        {
         "confidence": 0.99873,
         "end": 204322,
         "speaker": "A",
         "start": 204055,
         "text": "This"
        },
        {
         "confidence": 0.99913,
         "end": 204547,
         "speaker": "A",
         "start": 204355,
         "text": "man"
        },
        {
         "confidence": 0.99561,
         "end": 204772,
         "speaker": "A",
         "start": 204580,
         "text": "gives"
        },
        {
         "confidence": 1,
         "end": 204997,
         "speaker": "A",
         "start": 204805,
         "text": "me"
        },
        {
         "confidence": 0.99984,
         "end": 205312,
         "speaker": "A",
         "start": 205030,
         "text": "everything"
        },
        {
         "confidence": 1,
         "end": 205552,
         "speaker": "A",
         "start": 205375,
         "text": "I"
        },
        {
         "confidence": 0.99972,
         "end": 206150,
         "speaker": "A",
         "start": 205570,
         "text": "need."
        },
        {
         "confidence": 0.97125,
         "end": 206902,
         "speaker": "A",
         "start": 206587,
         "text": "How"
        },
        {
         "confidence": 0.91293,
         "end": 207052,
         "speaker": "A",
         "start": 206920,
         "text": "do"
        },
        {
         "confidence": 1,
         "end": 207202,
         "speaker": "A",
         "start": 207070,
         "text": "you"
        },
        {
         "confidence": 0.99939,
         "end": 207712,
         "speaker": "A",
         "start": 207220,
         "text": "know?"
        },
        {
         "confidence": 0.96871,
         "end": 208147,
         "speaker": "B",
         "start": 207850,
         "text": "Well,"
        },
        {
         "confidence": 0.99,
         "end": 208327,
         "speaker": "B",
         "start": 208180,
         "text": "I"
        },
        {
         "confidence": 0.99264,
         "end": 208567,
         "speaker": "B",
         "start": 208345,
         "text": "need"
        },
        {
         "confidence": 0.94188,
         "end": 209202,
         "speaker": "B",
         "start": 208615,
         "text": "freedom."
        },
        {
         "confidence": 0.5,
         "end": 209572,
         "speaker": "B",
         "start": 209307,
         "text": "The"
        },
        {
         "confidence": 0.94568,
         "end": 209797,
         "speaker": "B",
         "start": 209605,
         "text": "man"
        },
        {
         "confidence": 0.99023,
         "end": 210022,
         "speaker": "B",
         "start": 209830,
         "text": "gives"
        },
        {
         "confidence": 1,
         "end": 210247,
         "speaker": "B",
         "start": 210055,
         "text": "me"
        },
        {
         "confidence": 0.99916,
         "end": 210762,
         "speaker": "B",
         "start": 210280,
         "text": "freedom."
        },
        {
         "confidence": 0.75173,
         "end": 211027,
         "speaker": "A",
         "start": 210837,
         "text": "So"
        },
        {
         "confidence": 0.8785,
         "end": 211222,
         "speaker": "A",
         "start": 211045,
         "text": "why"
        },
        {
         "confidence": 0.90845,
         "end": 211402,
         "speaker": "A",
         "start": 211255,
         "text": "get"
        },
        {
         "confidence": 0.85765,
         "end": 211947,
         "speaker": "A",
         "start": 211420,
         "text": "married?"
        },
        {
         "confidence": 0.91345,
         "end": 212617,
         "speaker": "B",
         "start": 212067,
         "text": "Well,"
        },
        {
         "confidence": 0.9994,
         "end": 212977,
         "speaker": "B",
         "start": 212740,
         "text": "why"
        },
        {
         "confidence": 0.70546,
         "end": 213577,
         "speaker": "B",
         "start": 212995,
         "text": "not?"
        },
        {
         "confidence": 0.97193,
         "end": 214252,
         "speaker": "A",
         "start": 213745,
         "text": "Why,"
        },
        {
         "confidence": 0.97723,
         "end": 214552,
         "speaker": "A",
         "start": 214345,
         "text": "if"
        },
        {
         "confidence": 0.69,
         "end": 214702,
         "speaker": "A",
         "start": 214570,
         "text": "I"
        },
        {
         "confidence": 0.82243,
         "end": 214807,
         "speaker": "A",
         "start": 214720,
         "text": "don't"
        },
        {
         "confidence": 0.93359,
         "end": 214972,
         "speaker": "A",
         "start": 214810,
         "text": "want"
        },
        {
         "confidence": 0.97126,
         "end": 215197,
         "speaker": "A",
         "start": 215005,
         "text": "most"
        },
        {
         "confidence": 0.81,
         "end": 215377,
         "speaker": "A",
         "start": 215230,
         "text": "of"
        },
        {
         "confidence": 0.81945,
         "end": 215697,
         "speaker": "A",
         "start": 215395,
         "text": "freedom?"
        },
        {
         "confidence": 0.97684,
         "end": 215902,
         "speaker": "A",
         "start": 215742,
         "text": "Why"
        },
        {
         "confidence": 0.99152,
         "end": 216052,
         "speaker": "A",
         "start": 215920,
         "text": "have"
        },
        {
         "confidence": 0.99,
         "end": 216202,
         "speaker": "A",
         "start": 216070,
         "text": "a"
        },
        {
         "confidence": 0.96211,
         "end": 216627,
         "speaker": "A",
         "start": 216220,
         "text": "husband"
        },
        {
         "confidence": 0.60441,
         "end": 217042,
         "speaker": "A",
         "start": 216732,
         "text": "away"
        },
        {
         "confidence": 0.98619,
         "end": 217297,
         "speaker": "A",
         "start": 217090,
         "text": "some"
        },
        {
         "confidence": 0.2578,
         "end": 217522,
         "speaker": "A",
         "start": 217330,
         "text": "place"
        },
        {
         "confidence": 0.22647,
         "end": 217702,
         "speaker": "A",
         "start": 217555,
         "text": "with"
        },
        {
         "confidence": 0.86033,
         "end": 217897,
         "speaker": "A",
         "start": 217720,
         "text": "these"
        },
        {
         "confidence": 0.99,
         "end": 218122,
         "speaker": "A",
         "start": 217930,
         "text": "six"
        },
        {
         "confidence": 0.99686,
         "end": 218347,
         "speaker": "A",
         "start": 218155,
         "text": "weeks"
        },
        {
         "confidence": 0.96,
         "end": 218527,
         "speaker": "A",
         "start": 218380,
         "text": "a"
        },
        {
         "confidence": 0.99965,
         "end": 218812,
         "speaker": "A",
         "start": 218545,
         "text": "year?"
        },
        {
         "confidence": 0.99513,
         "end": 219097,
         "speaker": "B",
         "start": 218875,
         "text": "He"
        },
        {
         "confidence": 0.9992,
         "end": 219322,
         "speaker": "B",
         "start": 219130,
         "text": "has"
        },
        {
         "confidence": 0.97,
         "end": 219547,
         "speaker": "B",
         "start": 219355,
         "text": "the"
        },
        {
         "confidence": 0.99762,
         "end": 219817,
         "speaker": "B",
         "start": 219580,
         "text": "same"
        },
        {
         "confidence": 0.67735,
         "end": 220152,
         "speaker": "B",
         "start": 219865,
         "text": "freedom."
        },
        {
         "confidence": 0.94863,
         "end": 220327,
         "speaker": "B",
         "start": 220182,
         "text": "See,"
        },
        {
         "confidence": 0.98,
         "end": 220477,
         "speaker": "B",
         "start": 220345,
         "text": "the"
        },
        {
         "confidence": 0.99875,
         "end": 220627,
         "speaker": "B",
         "start": 220495,
         "text": "thing"
        },
        {
         "confidence": 0.78,
         "end": 220732,
         "speaker": "B",
         "start": 220645,
         "text": "of"
        },
        {
         "confidence": 0.58002,
         "end": 220852,
         "speaker": "B",
         "start": 220735,
         "text": "it"
        },
        {
         "confidence": 0.99,
         "end": 221047,
         "speaker": "B",
         "start": 220870,
         "text": "is"
        },
        {
         "confidence": 1,
         "end": 221182,
         "speaker": "B",
         "start": 221080,
         "text": "you"
        },
        {
         "confidence": 0.77823,
         "end": 221427,
         "speaker": "B",
         "start": 221185,
         "text": "don't"
        },
        {
         "confidence": 0.99975,
         "end": 221737,
         "speaker": "B",
         "start": 221457,
         "text": "find"
        },
        {
         "confidence": 0.99,
         "end": 221977,
         "speaker": "B",
         "start": 221800,
         "text": "a"
        },
        {
         "confidence": 0.99996,
         "end": 222262,
         "speaker": "B",
         "start": 221995,
         "text": "person"
        },
        {
         "confidence": 1,
         "end": 222502,
         "speaker": "B",
         "start": 222325,
         "text": "that"
        },
        {
         "confidence": 1,
         "end": 222652,
         "speaker": "B",
         "start": 222520,
         "text": "you"
        },
        {
         "confidence": 0.99803,
         "end": 222757,
         "speaker": "B",
         "start": 222670,
         "text": "can"
        },
        {
         "confidence": 0.99,
         "end": 222877,
         "speaker": "B",
         "start": 222760,
         "text": "be"
        },
        {
         "confidence": 0.99638,
         "end": 223117,
         "speaker": "B",
         "start": 222895,
         "text": "happy"
        },
        {
         "confidence": 0.99904,
         "end": 223327,
         "speaker": "B",
         "start": 223165,
         "text": "with"
        },
        {
         "confidence": 0.86,
         "end": 223477,
         "speaker": "B",
         "start": 223345,
         "text": "and"
        },
        {
         "confidence": 0.52121,
         "end": 223672,
         "speaker": "B",
         "start": 223495,
         "text": "they"
        },
        {
         "confidence": 0.55772,
         "end": 223902,
         "speaker": "B",
         "start": 223705,
         "text": "can't"
        },
        {
         "confidence": 0.99288,
         "end": 224352,
         "speaker": "B",
         "start": 223932,
         "text": "accept"
        },
        {
         "confidence": 0.99,
         "end": 224977,
         "speaker": "B",
         "start": 224382,
         "text": "you."
        },
        {
         "confidence": 0.55,
         "end": 225427,
         "speaker": "B",
         "start": 225145,
         "text": "You"
        },
        {
         "confidence": 0.99507,
         "end": 225667,
         "speaker": "B",
         "start": 225445,
         "text": "are"
        },
        {
         "confidence": 0.99,
         "end": 225922,
         "speaker": "B",
         "start": 225715,
         "text": "and"
        },
        {
         "confidence": 0.99812,
         "end": 226147,
         "speaker": "B",
         "start": 225955,
         "text": "can"
        },
        {
         "confidence": 0.99781,
         "end": 226372,
         "speaker": "B",
         "start": 226180,
         "text": "share"
        },
        {
         "confidence": 0.98,
         "end": 226552,
         "speaker": "B",
         "start": 226405,
         "text": "the"
        },
        {
         "confidence": 0.95424,
         "end": 226792,
         "speaker": "B",
         "start": 226570,
         "text": "things"
        },
        {
         "confidence": 0.86,
         "end": 226957,
         "speaker": "B",
         "start": 226840,
         "text": "and"
        },
        {
         "confidence": 0.42,
         "end": 227077,
         "speaker": "B",
         "start": 226960,
         "text": "to"
        },
        {
         "confidence": 0.99901,
         "end": 227317,
         "speaker": "B",
         "start": 227095,
         "text": "plan"
        },
        {
         "confidence": 0.99894,
         "end": 227527,
         "speaker": "B",
         "start": 227365,
         "text": "for"
        },
        {
         "confidence": 1,
         "end": 227677,
         "speaker": "B",
         "start": 227545,
         "text": "the"
        },
        {
         "confidence": 0.99994,
         "end": 228007,
         "speaker": "B",
         "start": 227695,
         "text": "future"
        },
        {
         "confidence": 0.94,
         "end": 228277,
         "speaker": "B",
         "start": 228085,
         "text": "and"
        },
        {
         "confidence": 0.99,
         "end": 228427,
         "speaker": "B",
         "start": 228295,
         "text": "to"
        },
        {
         "confidence": 0.99991,
         "end": 228712,
         "speaker": "B",
         "start": 228445,
         "text": "enjoy"
        },
        {
         "confidence": 0.99779,
         "end": 228952,
         "speaker": "B",
         "start": 228775,
         "text": "your"
        },
        {
         "confidence": 0.99941,
         "end": 229147,
         "speaker": "B",
         "start": 228970,
         "text": "home."
        },
        {
         "confidence": 0.99913,
         "end": 229327,
         "speaker": "B",
         "start": 229180,
         "text": "We"
        },
        {
         "confidence": 0.9982,
         "end": 229522,
         "speaker": "B",
         "start": 229345,
         "text": "have"
        },
        {
         "confidence": 0.98894,
         "end": 229882,
         "speaker": "B",
         "start": 229555,
         "text": "our"
        },
        {
         "confidence": 0.55806,
         "end": 230592,
         "speaker": "B",
         "start": 229960,
         "text": "foundation,"
        },
        {
         "confidence": 0.99653,
         "end": 230827,
         "speaker": "B",
         "start": 230652,
         "text": "we"
        },
        {
         "confidence": 0.99926,
         "end": 230932,
         "speaker": "B",
         "start": 230845,
         "text": "have"
        },
        {
         "confidence": 0.50498,
         "end": 231052,
         "speaker": "B",
         "start": 230935,
         "text": "our"
        },
        {
         "confidence": 0.95324,
         "end": 231327,
         "speaker": "B",
         "start": 231070,
         "text": "roots,"
        },
        {
         "confidence": 0.99703,
         "end": 231502,
         "speaker": "B",
         "start": 231357,
         "text": "we"
        },
        {
         "confidence": 0.99936,
         "end": 231652,
         "speaker": "B",
         "start": 231520,
         "text": "have"
        },
        {
         "confidence": 0.99943,
         "end": 231802,
         "speaker": "B",
         "start": 231670,
         "text": "all"
        },
        {
         "confidence": 0.99,
         "end": 231952,
         "speaker": "B",
         "start": 231820,
         "text": "the"
        },
        {
         "confidence": 0.99933,
         "end": 232102,
         "speaker": "B",
         "start": 231970,
         "text": "things"
        },
        {
         "confidence": 0.58,
         "end": 232297,
         "speaker": "B",
         "start": 232120,
         "text": "that"
        },
        {
         "confidence": 0.99709,
         "end": 232612,
         "speaker": "B",
         "start": 232330,
         "text": "everybody"
        },
        {
         "confidence": 0.32,
         "end": 232852,
         "speaker": "B",
         "start": 232675,
         "text": "is"
        },
        {
         "confidence": 0.9962,
         "end": 233047,
         "speaker": "B",
         "start": 232870,
         "text": "looking"
        },
        {
         "confidence": 0.99849,
         "end": 233227,
         "speaker": "B",
         "start": 233080,
         "text": "for"
        },
        {
         "confidence": 0.94,
         "end": 233377,
         "speaker": "B",
         "start": 233245,
         "text": "and"
        },
        {
         "confidence": 0.9131,
         "end": 233577,
         "speaker": "B",
         "start": 233395,
         "text": "that's"
        },
        {
         "confidence": 0.9966,
         "end": 233967,
         "speaker": "B",
         "start": 233607,
         "text": "happiness"
        },
        {
         "confidence": 0.79088,
         "end": 234202,
         "speaker": "B",
         "start": 234027,
         "text": "in"
        },
        {
         "confidence": 0.66,
         "end": 234352,
         "speaker": "B",
         "start": 234220,
         "text": "a"
        },
        {
         "confidence": 0.99959,
         "end": 234672,
         "speaker": "B",
         "start": 234370,
         "text": "marriage."
        },
        {
         "confidence": 0.58367,
         "end": 234957,
         "speaker": "B",
         "start": 234717,
         "text": "I've"
        },
        {
         "confidence": 0.99955,
         "end": 235102,
         "speaker": "B",
         "start": 234972,
         "text": "got"
        },
        {
         "confidence": 0.9998,
         "end": 235342,
         "speaker": "B",
         "start": 235120,
         "text": "better"
        },
        {
         "confidence": 0.99957,
         "end": 235597,
         "speaker": "B",
         "start": 235390,
         "text": "things"
        },
        {
         "confidence": 1,
         "end": 235732,
         "speaker": "B",
         "start": 235630,
         "text": "to"
        },
        {
         "confidence": 0.96274,
         "end": 235897,
         "speaker": "B",
         "start": 235735,
         "text": "do"
        },
        {
         "confidence": 0.98304,
         "end": 236077,
         "speaker": "B",
         "start": 235930,
         "text": "than"
        },
        {
         "confidence": 0.94,
         "end": 236182,
         "speaker": "B",
         "start": 236095,
         "text": "to"
        },
        {
         "confidence": 0.99183,
         "end": 236347,
         "speaker": "B",
         "start": 236185,
         "text": "sit"
        },
        {
         "confidence": 0.99627,
         "end": 236572,
         "speaker": "B",
         "start": 236380,
         "text": "around"
        },
        {
         "confidence": 0.99059,
         "end": 236752,
         "speaker": "B",
         "start": 236605,
         "text": "in"
        },
        {
         "confidence": 1,
         "end": 236902,
         "speaker": "B",
         "start": 236770,
         "text": "my"
        },
        {
         "confidence": 0.99983,
         "end": 237142,
         "speaker": "B",
         "start": 236920,
         "text": "room"
        },
        {
         "confidence": 0.94185,
         "end": 237532,
         "speaker": "B",
         "start": 237190,
         "text": "thinking,"
        },
        {
         "confidence": 0.72,
         "end": 237847,
         "speaker": "B",
         "start": 237610,
         "text": "oh,"
        },
        {
         "confidence": 0.20168,
         "end": 238077,
         "speaker": "B",
         "start": 237880,
         "text": "it's"
        },
        {
         "confidence": 0.95858,
         "end": 238377,
         "speaker": "B",
         "start": 238107,
         "text": "Carl"
        },
        {
         "confidence": 0.98012,
         "end": 238597,
         "speaker": "B",
         "start": 238407,
         "text": "doing"
        },
        {
         "confidence": 0.8059,
         "end": 238872,
         "speaker": "B",
         "start": 238630,
         "text": "tonight."
        },
        {
         "confidence": 0.96,
         "end": 239032,
         "speaker": "B",
         "start": 238917,
         "text": "I"
        },
        {
         "confidence": 0.94256,
         "end": 239242,
         "speaker": "B",
         "start": 239035,
         "text": "wonder"
        },
        {
         "confidence": 0.99967,
         "end": 239452,
         "speaker": "B",
         "start": 239290,
         "text": "if"
        },
        {
         "confidence": 0.55015,
         "end": 239652,
         "speaker": "B",
         "start": 239470,
         "text": "he's"
        },
        {
         "confidence": 0.99668,
         "end": 239872,
         "speaker": "B",
         "start": 239682,
         "text": "with"
        },
        {
         "confidence": 0.99504,
         "end": 240232,
         "speaker": "B",
         "start": 239905,
         "text": "somebody"
        },
        {
         "confidence": 0.9,
         "end": 240502,
         "speaker": "B",
         "start": 240310,
         "text": "and"
        },
        {
         "confidence": 0.96835,
         "end": 240652,
         "speaker": "B",
         "start": 240520,
         "text": "this"
        },
        {
         "confidence": 0.91,
         "end": 240802,
         "speaker": "B",
         "start": 240670,
         "text": "and"
        },
        {
         "confidence": 0.93,
         "end": 240900,
         "speaker": "B",
         "start": 240820,
         "text": "that."
        }
       ]
      },
      "text/plain": [
       "<IPython.core.display.JSON object>"
      ]
     },
     "execution_count": 14,
     "metadata": {
      "application/json": {
       "expanded": false,
       "root": "root"
      }
     },
     "output_type": "execute_result"
    }
   ],
   "source": [
    "JSON(transcript_response.json())"
   ]
  },
  {
   "cell_type": "code",
   "execution_count": 34,
   "id": "53cfdbdc-06db-46be-af06-ac600d86aab9",
   "metadata": {},
   "outputs": [],
   "source": [
    "with open('Dolly_Barbara.pkl', 'wb') as f:\n",
    "    pickle.dump(response.json().copy(), f)"
   ]
  },
  {
   "cell_type": "code",
   "execution_count": 35,
   "id": "dad55ad1-2b68-4b72-b9ac-a40c03842623",
   "metadata": {},
   "outputs": [],
   "source": [
    "with open('Dolly_Barbara.pkl', 'rb') as f:\n",
    "    data = pickle.load(f)"
   ]
  },
  {
   "cell_type": "code",
   "execution_count": 36,
   "id": "dce2bf31-85b7-4fd1-843c-73ccd9e56962",
   "metadata": {},
   "outputs": [
    {
     "data": {
      "text/plain": [
       "0"
      ]
     },
     "execution_count": 36,
     "metadata": {},
     "output_type": "execute_result"
    }
   ],
   "source": [
    "buffer = StringIO()\n",
    "buffer.write(data['text'])\n",
    "buffer.seek(0)"
   ]
  },
  {
   "cell_type": "code",
   "execution_count": 37,
   "id": "3b4b1a31-b594-433c-950d-043b65fe1609",
   "metadata": {},
   "outputs": [
    {
     "data": {},
     "metadata": {},
     "output_type": "display_data"
    },
    {
     "data": {
      "application/vnd.holoviews_exec.v0+json": "",
      "text/html": [
       "<div id='1002'>\n",
       "  <div class=\"bk-root\" id=\"a7d8b405-a336-48e7-a6b4-838b05fede96\" data-root-id=\"1002\"></div>\n",
       "</div>\n",
       "<script type=\"application/javascript\">(function(root) {\n",
       "  function embed_document(root) {\n",
       "    var docs_json = {\"0d291608-65ee-41ad-8baf-01824e37980c\":{\"defs\":[{\"extends\":null,\"module\":null,\"name\":\"ReactiveHTML1\",\"overrides\":[],\"properties\":[]},{\"extends\":null,\"module\":null,\"name\":\"FlexBox1\",\"overrides\":[],\"properties\":[{\"default\":\"flex-start\",\"kind\":null,\"name\":\"align_content\"},{\"default\":\"flex-start\",\"kind\":null,\"name\":\"align_items\"},{\"default\":\"row\",\"kind\":null,\"name\":\"flex_direction\"},{\"default\":\"wrap\",\"kind\":null,\"name\":\"flex_wrap\"},{\"default\":\"flex-start\",\"kind\":null,\"name\":\"justify_content\"}]},{\"extends\":null,\"module\":null,\"name\":\"GridStack1\",\"overrides\":[],\"properties\":[{\"default\":\"warn\",\"kind\":null,\"name\":\"mode\"},{\"default\":null,\"kind\":null,\"name\":\"ncols\"},{\"default\":null,\"kind\":null,\"name\":\"nrows\"},{\"default\":true,\"kind\":null,\"name\":\"allow_resize\"},{\"default\":true,\"kind\":null,\"name\":\"allow_drag\"},{\"default\":[],\"kind\":null,\"name\":\"state\"}]},{\"extends\":null,\"module\":null,\"name\":\"click1\",\"overrides\":[],\"properties\":[{\"default\":\"\",\"kind\":null,\"name\":\"terminal_output\"},{\"default\":\"\",\"kind\":null,\"name\":\"debug_name\"},{\"default\":0,\"kind\":null,\"name\":\"clears\"}]},{\"extends\":null,\"module\":null,\"name\":\"NotificationAreaBase1\",\"overrides\":[],\"properties\":[{\"default\":\"bottom-right\",\"kind\":null,\"name\":\"position\"},{\"default\":0,\"kind\":null,\"name\":\"_clear\"}]},{\"extends\":null,\"module\":null,\"name\":\"NotificationArea1\",\"overrides\":[],\"properties\":[{\"default\":[],\"kind\":null,\"name\":\"notifications\"},{\"default\":\"bottom-right\",\"kind\":null,\"name\":\"position\"},{\"default\":0,\"kind\":null,\"name\":\"_clear\"},{\"default\":[{\"background\":\"#ffc107\",\"icon\":{\"className\":\"fas fa-exclamation-triangle\",\"color\":\"white\",\"tagName\":\"i\"},\"type\":\"warning\"},{\"background\":\"#007bff\",\"icon\":{\"className\":\"fas fa-info-circle\",\"color\":\"white\",\"tagName\":\"i\"},\"type\":\"info\"}],\"kind\":null,\"name\":\"types\"}]},{\"extends\":null,\"module\":null,\"name\":\"Notification\",\"overrides\":[],\"properties\":[{\"default\":null,\"kind\":null,\"name\":\"background\"},{\"default\":3000,\"kind\":null,\"name\":\"duration\"},{\"default\":null,\"kind\":null,\"name\":\"icon\"},{\"default\":\"\",\"kind\":null,\"name\":\"message\"},{\"default\":null,\"kind\":null,\"name\":\"notification_type\"},{\"default\":false,\"kind\":null,\"name\":\"_destroyed\"}]},{\"extends\":null,\"module\":null,\"name\":\"TemplateActions1\",\"overrides\":[],\"properties\":[{\"default\":0,\"kind\":null,\"name\":\"open_modal\"},{\"default\":0,\"kind\":null,\"name\":\"close_modal\"}]},{\"extends\":null,\"module\":null,\"name\":\"MaterialTemplateActions1\",\"overrides\":[],\"properties\":[{\"default\":0,\"kind\":null,\"name\":\"open_modal\"},{\"default\":0,\"kind\":null,\"name\":\"close_modal\"}]}],\"roots\":{\"references\":[{\"attributes\":{\"auto\":true,\"button_type\":\"success\",\"filename\":\"transcript.txt\",\"label\":\"Download transcript.txt\",\"margin\":[5,10,5,10]},\"id\":\"1002\",\"type\":\"panel.models.widgets.FileDownload\"},{\"attributes\":{\"reload\":false},\"id\":\"1004\",\"type\":\"panel.models.location.Location\"},{\"attributes\":{\"client_comm_id\":\"6f69d93accf84fc3bf0dfce6ee92da92\",\"comm_id\":\"abf158f2f6e947199c8f9f3c64819b34\",\"plot_id\":\"1002\"},\"id\":\"1003\",\"type\":\"panel.models.comm_manager.CommManager\"}],\"root_ids\":[\"1002\",\"1003\",\"1004\"]},\"title\":\"Bokeh Application\",\"version\":\"2.4.3\"}};\n",
       "    var render_items = [{\"docid\":\"0d291608-65ee-41ad-8baf-01824e37980c\",\"root_ids\":[\"1002\"],\"roots\":{\"1002\":\"a7d8b405-a336-48e7-a6b4-838b05fede96\"}}];\n",
       "    root.Bokeh.embed.embed_items_notebook(docs_json, render_items);\n",
       "    for (const render_item of render_items) {\n",
       "      for (const root_id of render_item.root_ids) {\n",
       "\tconst id_el = document.getElementById(root_id)\n",
       "\tif (id_el.children.length && (id_el.children[0].className === 'bk-root')) {\n",
       "\t  const root_el = id_el.children[0]\n",
       "\t  root_el.id = root_el.id + '-rendered'\n",
       "\t}\n",
       "      }\n",
       "    }\n",
       "  }\n",
       "  if (root.Bokeh !== undefined && root.Bokeh.Panel !== undefined) {\n",
       "    embed_document(root);\n",
       "  } else {\n",
       "    var attempts = 0;\n",
       "    var timer = setInterval(function(root) {\n",
       "      if (root.Bokeh !== undefined && root.Bokeh.Panel !== undefined) {\n",
       "        clearInterval(timer);\n",
       "        embed_document(root);\n",
       "      } else if (document.readyState == \"complete\") {\n",
       "        attempts++;\n",
       "        if (attempts > 200) {\n",
       "          clearInterval(timer);\n",
       "          console.log(\"Bokeh: ERROR: Unable to run BokehJS code because BokehJS library is missing\");\n",
       "        }\n",
       "      }\n",
       "    }, 25, root)\n",
       "  }\n",
       "})(window);</script>"
      ],
      "text/plain": [
       "FileDownload(button_type='success', file=<_io.StringIO o..., filename='transcript.txt', label='Download transcript.txt')"
      ]
     },
     "execution_count": 37,
     "metadata": {
      "application/vnd.holoviews_exec.v0+json": {
       "id": "1002"
      }
     },
     "output_type": "execute_result"
    }
   ],
   "source": [
    "transcript_download = pn.widgets.FileDownload(file=buffer,\n",
    "                                              filename=\"transcript.txt\",\n",
    "                                              button_type=\"success\")\n",
    "transcript_download"
   ]
  },
  {
   "cell_type": "code",
   "execution_count": 38,
   "id": "655359e1-64a3-46e3-b8fd-5e94dc8d6da1",
   "metadata": {},
   "outputs": [
    {
     "data": {},
     "metadata": {},
     "output_type": "display_data"
    },
    {
     "data": {
      "application/vnd.holoviews_exec.v0+json": "",
      "text/html": [
       "<div id='1005'>\n",
       "  <div class=\"bk-root\" id=\"7cfbae53-fe00-4f3b-aad8-16f94102043c\" data-root-id=\"1005\"></div>\n",
       "</div>\n",
       "<script type=\"application/javascript\">(function(root) {\n",
       "  function embed_document(root) {\n",
       "    var docs_json = {\"5750542d-2b93-43d1-9426-1e000da839c3\":{\"defs\":[{\"extends\":null,\"module\":null,\"name\":\"ReactiveHTML1\",\"overrides\":[],\"properties\":[]},{\"extends\":null,\"module\":null,\"name\":\"FlexBox1\",\"overrides\":[],\"properties\":[{\"default\":\"flex-start\",\"kind\":null,\"name\":\"align_content\"},{\"default\":\"flex-start\",\"kind\":null,\"name\":\"align_items\"},{\"default\":\"row\",\"kind\":null,\"name\":\"flex_direction\"},{\"default\":\"wrap\",\"kind\":null,\"name\":\"flex_wrap\"},{\"default\":\"flex-start\",\"kind\":null,\"name\":\"justify_content\"}]},{\"extends\":null,\"module\":null,\"name\":\"GridStack1\",\"overrides\":[],\"properties\":[{\"default\":\"warn\",\"kind\":null,\"name\":\"mode\"},{\"default\":null,\"kind\":null,\"name\":\"ncols\"},{\"default\":null,\"kind\":null,\"name\":\"nrows\"},{\"default\":true,\"kind\":null,\"name\":\"allow_resize\"},{\"default\":true,\"kind\":null,\"name\":\"allow_drag\"},{\"default\":[],\"kind\":null,\"name\":\"state\"}]},{\"extends\":null,\"module\":null,\"name\":\"click1\",\"overrides\":[],\"properties\":[{\"default\":\"\",\"kind\":null,\"name\":\"terminal_output\"},{\"default\":\"\",\"kind\":null,\"name\":\"debug_name\"},{\"default\":0,\"kind\":null,\"name\":\"clears\"}]},{\"extends\":null,\"module\":null,\"name\":\"NotificationAreaBase1\",\"overrides\":[],\"properties\":[{\"default\":\"bottom-right\",\"kind\":null,\"name\":\"position\"},{\"default\":0,\"kind\":null,\"name\":\"_clear\"}]},{\"extends\":null,\"module\":null,\"name\":\"NotificationArea1\",\"overrides\":[],\"properties\":[{\"default\":[],\"kind\":null,\"name\":\"notifications\"},{\"default\":\"bottom-right\",\"kind\":null,\"name\":\"position\"},{\"default\":0,\"kind\":null,\"name\":\"_clear\"},{\"default\":[{\"background\":\"#ffc107\",\"icon\":{\"className\":\"fas fa-exclamation-triangle\",\"color\":\"white\",\"tagName\":\"i\"},\"type\":\"warning\"},{\"background\":\"#007bff\",\"icon\":{\"className\":\"fas fa-info-circle\",\"color\":\"white\",\"tagName\":\"i\"},\"type\":\"info\"}],\"kind\":null,\"name\":\"types\"}]},{\"extends\":null,\"module\":null,\"name\":\"Notification\",\"overrides\":[],\"properties\":[{\"default\":null,\"kind\":null,\"name\":\"background\"},{\"default\":3000,\"kind\":null,\"name\":\"duration\"},{\"default\":null,\"kind\":null,\"name\":\"icon\"},{\"default\":\"\",\"kind\":null,\"name\":\"message\"},{\"default\":null,\"kind\":null,\"name\":\"notification_type\"},{\"default\":false,\"kind\":null,\"name\":\"_destroyed\"}]},{\"extends\":null,\"module\":null,\"name\":\"TemplateActions1\",\"overrides\":[],\"properties\":[{\"default\":0,\"kind\":null,\"name\":\"open_modal\"},{\"default\":0,\"kind\":null,\"name\":\"close_modal\"}]},{\"extends\":null,\"module\":null,\"name\":\"MaterialTemplateActions1\",\"overrides\":[],\"properties\":[{\"default\":0,\"kind\":null,\"name\":\"open_modal\"},{\"default\":0,\"kind\":null,\"name\":\"close_modal\"}]}],\"roots\":{\"references\":[{\"attributes\":{\"margin\":[5,5,5,5],\"paused\":true,\"time\":360,\"value\":\"https://github.com/CharlesPizza/AudioAnalysisDollyParton/blob/main/Audio/Dolly%20Shuts%20Down%20Patronising%20Interview%20In%20Style.mp3?raw=true\"},\"id\":\"1005\",\"type\":\"panel.models.widgets.Audio\"},{\"attributes\":{\"client_comm_id\":\"041adb912ab243b1ab4a1d6333959c68\",\"comm_id\":\"15c1dcc1fa0944f3b1bcc45b5346b74e\",\"plot_id\":\"1005\"},\"id\":\"1006\",\"type\":\"panel.models.comm_manager.CommManager\"}],\"root_ids\":[\"1005\",\"1006\"]},\"title\":\"Bokeh Application\",\"version\":\"2.4.3\"}};\n",
       "    var render_items = [{\"docid\":\"5750542d-2b93-43d1-9426-1e000da839c3\",\"root_ids\":[\"1005\"],\"roots\":{\"1005\":\"7cfbae53-fe00-4f3b-aad8-16f94102043c\"}}];\n",
       "    root.Bokeh.embed.embed_items_notebook(docs_json, render_items);\n",
       "    for (const render_item of render_items) {\n",
       "      for (const root_id of render_item.root_ids) {\n",
       "\tconst id_el = document.getElementById(root_id)\n",
       "\tif (id_el.children.length && (id_el.children[0].className === 'bk-root')) {\n",
       "\t  const root_el = id_el.children[0]\n",
       "\t  root_el.id = root_el.id + '-rendered'\n",
       "\t}\n",
       "      }\n",
       "    }\n",
       "  }\n",
       "  if (root.Bokeh !== undefined && root.Bokeh.Panel !== undefined) {\n",
       "    embed_document(root);\n",
       "  } else {\n",
       "    var attempts = 0;\n",
       "    var timer = setInterval(function(root) {\n",
       "      if (root.Bokeh !== undefined && root.Bokeh.Panel !== undefined) {\n",
       "        clearInterval(timer);\n",
       "        embed_document(root);\n",
       "      } else if (document.readyState == \"complete\") {\n",
       "        attempts++;\n",
       "        if (attempts > 200) {\n",
       "          clearInterval(timer);\n",
       "          console.log(\"Bokeh: ERROR: Unable to run BokehJS code because BokehJS library is missing\");\n",
       "        }\n",
       "      }\n",
       "    }, 25, root)\n",
       "  }\n",
       "})(window);</script>"
      ],
      "text/plain": [
       "Audio(str, time=360)"
      ]
     },
     "execution_count": 38,
     "metadata": {
      "application/vnd.holoviews_exec.v0+json": {
       "id": "1005"
      }
     },
     "output_type": "execute_result"
    }
   ],
   "source": [
    "audio_url = \"https://github.com/CharlesPizza/AudioAnalysisDollyParton/blob/main/Audio/Dolly%20Shuts%20Down%20Patronising%20Interview%20In%20Style.mp3?raw=true\"\n",
    "audio_play = pn.pane.Audio(audio_url, name=\"Audio\", time=360)\n",
    "audio_play"
   ]
  },
  {
   "cell_type": "code",
   "execution_count": 289,
   "id": "94a76f27-5764-4bfc-b1b7-f91758080b08",
   "metadata": {},
   "outputs": [],
   "source": [
    "sentiment = data['sentiment_analysis_results']\n",
    "sentiment_df = pd.DataFrame(sentiment)\n",
    "sentiment_df['speaker'] = sentiment_df['speaker'].map(lambda x: ['Dolly' if x == 'B' else 'Barbara']).explode('speaker')"
   ]
  },
  {
   "cell_type": "code",
   "execution_count": 290,
   "id": "35abb22a-f308-4350-8cf0-cf0cade6f619",
   "metadata": {},
   "outputs": [
    {
     "data": {
      "text/html": [
       "<div>\n",
       "<style scoped>\n",
       "    .dataframe tbody tr th:only-of-type {\n",
       "        vertical-align: middle;\n",
       "    }\n",
       "\n",
       "    .dataframe tbody tr th {\n",
       "        vertical-align: top;\n",
       "    }\n",
       "\n",
       "    .dataframe thead th {\n",
       "        text-align: right;\n",
       "    }\n",
       "</style>\n",
       "<table border=\"1\" class=\"dataframe\">\n",
       "  <thead>\n",
       "    <tr style=\"text-align: right;\">\n",
       "      <th></th>\n",
       "      <th>text</th>\n",
       "      <th>start</th>\n",
       "      <th>end</th>\n",
       "      <th>sentiment</th>\n",
       "      <th>confidence</th>\n",
       "      <th>speaker</th>\n",
       "    </tr>\n",
       "  </thead>\n",
       "  <tbody>\n",
       "    <tr>\n",
       "      <th>0</th>\n",
       "      <td>Dolly where I come from.</td>\n",
       "      <td>462</td>\n",
       "      <td>2827</td>\n",
       "      <td>NEUTRAL</td>\n",
       "      <td>0.828847</td>\n",
       "      <td>Barbara</td>\n",
       "    </tr>\n",
       "    <tr>\n",
       "      <th>1</th>\n",
       "      <td>Would I have called you a hillbilly?</td>\n",
       "      <td>2920</td>\n",
       "      <td>5127</td>\n",
       "      <td>NEUTRAL</td>\n",
       "      <td>0.651311</td>\n",
       "      <td>Barbara</td>\n",
       "    </tr>\n",
       "    <tr>\n",
       "      <th>2</th>\n",
       "      <td>If you had of it would have been something ver...</td>\n",
       "      <td>5307</td>\n",
       "      <td>10550</td>\n",
       "      <td>NEGATIVE</td>\n",
       "      <td>0.535894</td>\n",
       "      <td>Dolly</td>\n",
       "    </tr>\n",
       "    <tr>\n",
       "      <th>3</th>\n",
       "      <td>No, actually.</td>\n",
       "      <td>11137</td>\n",
       "      <td>11887</td>\n",
       "      <td>NEUTRAL</td>\n",
       "      <td>0.666117</td>\n",
       "      <td>Dolly</td>\n",
       "    </tr>\n",
       "    <tr>\n",
       "      <th>4</th>\n",
       "      <td>But when I think of your beliefs and I think o...</td>\n",
       "      <td>11950</td>\n",
       "      <td>14407</td>\n",
       "      <td>NEUTRAL</td>\n",
       "      <td>0.770856</td>\n",
       "      <td>Barbara</td>\n",
       "    </tr>\n",
       "    <tr>\n",
       "      <th>...</th>\n",
       "      <td>...</td>\n",
       "      <td>...</td>\n",
       "      <td>...</td>\n",
       "      <td>...</td>\n",
       "      <td>...</td>\n",
       "      <td>...</td>\n",
       "    </tr>\n",
       "    <tr>\n",
       "      <th>60</th>\n",
       "      <td>See, the thing of it is you don't find a perso...</td>\n",
       "      <td>220182</td>\n",
       "      <td>224977</td>\n",
       "      <td>NEGATIVE</td>\n",
       "      <td>0.561005</td>\n",
       "      <td>Dolly</td>\n",
       "    </tr>\n",
       "    <tr>\n",
       "      <th>61</th>\n",
       "      <td>You are and can share the things and to plan f...</td>\n",
       "      <td>225145</td>\n",
       "      <td>229147</td>\n",
       "      <td>POSITIVE</td>\n",
       "      <td>0.832287</td>\n",
       "      <td>Dolly</td>\n",
       "    </tr>\n",
       "    <tr>\n",
       "      <th>62</th>\n",
       "      <td>We have our foundation, we have our roots, we ...</td>\n",
       "      <td>229180</td>\n",
       "      <td>234672</td>\n",
       "      <td>POSITIVE</td>\n",
       "      <td>0.899541</td>\n",
       "      <td>Dolly</td>\n",
       "    </tr>\n",
       "    <tr>\n",
       "      <th>63</th>\n",
       "      <td>I've got better things to do than to sit aroun...</td>\n",
       "      <td>234717</td>\n",
       "      <td>238872</td>\n",
       "      <td>NEGATIVE</td>\n",
       "      <td>0.543684</td>\n",
       "      <td>Dolly</td>\n",
       "    </tr>\n",
       "    <tr>\n",
       "      <th>64</th>\n",
       "      <td>I wonder if he's with somebody and this and that.</td>\n",
       "      <td>238917</td>\n",
       "      <td>240900</td>\n",
       "      <td>NEUTRAL</td>\n",
       "      <td>0.868498</td>\n",
       "      <td>Dolly</td>\n",
       "    </tr>\n",
       "  </tbody>\n",
       "</table>\n",
       "<p>65 rows × 6 columns</p>\n",
       "</div>"
      ],
      "text/plain": [
       "                                                 text   start     end  \\\n",
       "0                            Dolly where I come from.     462    2827   \n",
       "1                Would I have called you a hillbilly?    2920    5127   \n",
       "2   If you had of it would have been something ver...    5307   10550   \n",
       "3                                       No, actually.   11137   11887   \n",
       "4   But when I think of your beliefs and I think o...   11950   14407   \n",
       "..                                                ...     ...     ...   \n",
       "60  See, the thing of it is you don't find a perso...  220182  224977   \n",
       "61  You are and can share the things and to plan f...  225145  229147   \n",
       "62  We have our foundation, we have our roots, we ...  229180  234672   \n",
       "63  I've got better things to do than to sit aroun...  234717  238872   \n",
       "64  I wonder if he's with somebody and this and that.  238917  240900   \n",
       "\n",
       "   sentiment  confidence  speaker  \n",
       "0    NEUTRAL    0.828847  Barbara  \n",
       "1    NEUTRAL    0.651311  Barbara  \n",
       "2   NEGATIVE    0.535894    Dolly  \n",
       "3    NEUTRAL    0.666117    Dolly  \n",
       "4    NEUTRAL    0.770856  Barbara  \n",
       "..       ...         ...      ...  \n",
       "60  NEGATIVE    0.561005    Dolly  \n",
       "61  POSITIVE    0.832287    Dolly  \n",
       "62  POSITIVE    0.899541    Dolly  \n",
       "63  NEGATIVE    0.543684    Dolly  \n",
       "64   NEUTRAL    0.868498    Dolly  \n",
       "\n",
       "[65 rows x 6 columns]"
      ]
     },
     "execution_count": 290,
     "metadata": {},
     "output_type": "execute_result"
    }
   ],
   "source": [
    "sentiment_df"
   ]
  },
  {
   "cell_type": "code",
   "execution_count": 291,
   "id": "5be649e7-f2cb-41ac-aed1-0b291ea7627c",
   "metadata": {},
   "outputs": [
    {
     "data": {},
     "metadata": {},
     "output_type": "display_data"
    },
    {
     "data": {},
     "metadata": {},
     "output_type": "display_data"
    },
    {
     "data": {
      "application/vnd.holoviews_exec.v0+json": "",
      "text/html": [
       "<div id='9400'>\n",
       "  <div class=\"bk-root\" id=\"d94fd07d-202c-45d7-9de8-03e022706877\" data-root-id=\"9400\"></div>\n",
       "</div>\n",
       "<script type=\"application/javascript\">(function(root) {\n",
       "  function embed_document(root) {\n",
       "    var docs_json = {\"1e1ff3a3-e8b0-44a6-aaa0-a59b2ae01f13\":{\"defs\":[{\"extends\":null,\"module\":null,\"name\":\"ReactiveHTML1\",\"overrides\":[],\"properties\":[]},{\"extends\":null,\"module\":null,\"name\":\"FlexBox1\",\"overrides\":[],\"properties\":[{\"default\":\"flex-start\",\"kind\":null,\"name\":\"align_content\"},{\"default\":\"flex-start\",\"kind\":null,\"name\":\"align_items\"},{\"default\":\"row\",\"kind\":null,\"name\":\"flex_direction\"},{\"default\":\"wrap\",\"kind\":null,\"name\":\"flex_wrap\"},{\"default\":\"flex-start\",\"kind\":null,\"name\":\"justify_content\"}]},{\"extends\":null,\"module\":null,\"name\":\"GridStack1\",\"overrides\":[],\"properties\":[{\"default\":\"warn\",\"kind\":null,\"name\":\"mode\"},{\"default\":null,\"kind\":null,\"name\":\"ncols\"},{\"default\":null,\"kind\":null,\"name\":\"nrows\"},{\"default\":true,\"kind\":null,\"name\":\"allow_resize\"},{\"default\":true,\"kind\":null,\"name\":\"allow_drag\"},{\"default\":[],\"kind\":null,\"name\":\"state\"}]},{\"extends\":null,\"module\":null,\"name\":\"click1\",\"overrides\":[],\"properties\":[{\"default\":\"\",\"kind\":null,\"name\":\"terminal_output\"},{\"default\":\"\",\"kind\":null,\"name\":\"debug_name\"},{\"default\":0,\"kind\":null,\"name\":\"clears\"}]},{\"extends\":null,\"module\":null,\"name\":\"NotificationAreaBase1\",\"overrides\":[],\"properties\":[{\"default\":\"bottom-right\",\"kind\":null,\"name\":\"position\"},{\"default\":0,\"kind\":null,\"name\":\"_clear\"}]},{\"extends\":null,\"module\":null,\"name\":\"NotificationArea1\",\"overrides\":[],\"properties\":[{\"default\":[],\"kind\":null,\"name\":\"notifications\"},{\"default\":\"bottom-right\",\"kind\":null,\"name\":\"position\"},{\"default\":0,\"kind\":null,\"name\":\"_clear\"},{\"default\":[{\"background\":\"#ffc107\",\"icon\":{\"className\":\"fas fa-exclamation-triangle\",\"color\":\"white\",\"tagName\":\"i\"},\"type\":\"warning\"},{\"background\":\"#007bff\",\"icon\":{\"className\":\"fas fa-info-circle\",\"color\":\"white\",\"tagName\":\"i\"},\"type\":\"info\"}],\"kind\":null,\"name\":\"types\"}]},{\"extends\":null,\"module\":null,\"name\":\"Notification\",\"overrides\":[],\"properties\":[{\"default\":null,\"kind\":null,\"name\":\"background\"},{\"default\":3000,\"kind\":null,\"name\":\"duration\"},{\"default\":null,\"kind\":null,\"name\":\"icon\"},{\"default\":\"\",\"kind\":null,\"name\":\"message\"},{\"default\":null,\"kind\":null,\"name\":\"notification_type\"},{\"default\":false,\"kind\":null,\"name\":\"_destroyed\"}]},{\"extends\":null,\"module\":null,\"name\":\"TemplateActions1\",\"overrides\":[],\"properties\":[{\"default\":0,\"kind\":null,\"name\":\"open_modal\"},{\"default\":0,\"kind\":null,\"name\":\"close_modal\"}]},{\"extends\":null,\"module\":null,\"name\":\"MaterialTemplateActions1\",\"overrides\":[],\"properties\":[{\"default\":0,\"kind\":null,\"name\":\"open_modal\"},{\"default\":0,\"kind\":null,\"name\":\"close_modal\"}]}],\"roots\":{\"references\":[{\"attributes\":{\"overlay\":{\"id\":\"9425\"}},\"id\":\"9423\",\"type\":\"BoxZoomTool\"},{\"attributes\":{},\"id\":\"9456\",\"type\":\"UnionRenderers\"},{\"attributes\":{},\"id\":\"9424\",\"type\":\"ResetTool\"},{\"attributes\":{\"fill_alpha\":{\"value\":0.2},\"fill_color\":{\"field\":\"sentiment\",\"transform\":{\"id\":\"9433\"}},\"hatch_alpha\":{\"value\":0.2},\"hatch_color\":{\"field\":\"sentiment\",\"transform\":{\"id\":\"9433\"}},\"line_alpha\":{\"value\":0.2},\"top\":{\"field\":\"count\"},\"width\":{\"value\":0.8},\"x\":{\"field\":\"xoffsets\"}},\"id\":\"9439\",\"type\":\"VBar\"},{\"attributes\":{\"data\":{\"count\":[3,6,19,21,2,14],\"sentiment\":[\"NEGATIVE\",\"NEGATIVE\",\"NEUTRAL\",\"NEUTRAL\",\"POSITIVE\",\"POSITIVE\"],\"speaker\":[\"Barbara\",\"Dolly\",\"Barbara\",\"Dolly\",\"Barbara\",\"Dolly\"],\"xoffsets\":[[\"Barbara\",\"NEGATIVE\"],[\"Dolly\",\"NEGATIVE\"],[\"Barbara\",\"NEUTRAL\"],[\"Dolly\",\"NEUTRAL\"],[\"Barbara\",\"POSITIVE\"],[\"Dolly\",\"POSITIVE\"]]},\"selected\":{\"id\":\"9435\"},\"selection_policy\":{\"id\":\"9456\"}},\"id\":\"9434\",\"type\":\"ColumnDataSource\"},{\"attributes\":{\"source\":{\"id\":\"9434\"}},\"id\":\"9441\",\"type\":\"CDSView\"},{\"attributes\":{\"coordinates\":null,\"data_source\":{\"id\":\"9434\"},\"glyph\":{\"id\":\"9437\"},\"group\":null,\"hover_glyph\":null,\"muted_glyph\":{\"id\":\"9439\"},\"nonselection_glyph\":{\"id\":\"9438\"},\"selection_glyph\":{\"id\":\"9442\"},\"view\":{\"id\":\"9441\"}},\"id\":\"9440\",\"type\":\"GlyphRenderer\"},{\"attributes\":{},\"id\":\"9448\",\"type\":\"AllLabels\"},{\"attributes\":{},\"id\":\"9409\",\"type\":\"CategoricalScale\"},{\"attributes\":{\"bottom_units\":\"screen\",\"coordinates\":null,\"fill_alpha\":0.5,\"fill_color\":\"lightgrey\",\"group\":null,\"left_units\":\"screen\",\"level\":\"overlay\",\"line_alpha\":1.0,\"line_color\":\"black\",\"line_dash\":[4,4],\"line_width\":2,\"right_units\":\"screen\",\"syncable\":false,\"top_units\":\"screen\"},\"id\":\"9425\",\"type\":\"BoxAnnotation\"},{\"attributes\":{},\"id\":\"9447\",\"type\":\"BasicTickFormatter\"},{\"attributes\":{\"children\":[{\"id\":\"9404\"}],\"margin\":[0,0,0,0],\"name\":\"Row07082\"},\"id\":\"9400\",\"type\":\"Row\"},{\"attributes\":{\"factors\":[\"NEGATIVE\",\"NEUTRAL\",\"POSITIVE\"],\"palette\":[\"#30a2da\",\"#fc4f30\",\"#e5ae38\"]},\"id\":\"9433\",\"type\":\"CategoricalColorMapper\"},{\"attributes\":{},\"id\":\"9445\",\"type\":\"AllLabels\"},{\"attributes\":{\"factors\":[[\"Barbara\",\"NEGATIVE\"],[\"Barbara\",\"NEUTRAL\"],[\"Barbara\",\"POSITIVE\"],[\"Dolly\",\"NEGATIVE\"],[\"Dolly\",\"NEUTRAL\"],[\"Dolly\",\"POSITIVE\"]],\"tags\":[[[\"speaker\",\"speaker\",null],[\"sentiment\",\"sentiment\",null]]]},\"id\":\"9401\",\"type\":\"FactorRange\"},{\"attributes\":{},\"id\":\"9444\",\"type\":\"CategoricalTickFormatter\"},{\"attributes\":{\"below\":[{\"id\":\"9413\"}],\"center\":[{\"id\":\"9415\"},{\"id\":\"9419\"}],\"height\":300,\"left\":[{\"id\":\"9416\"}],\"margin\":[5,5,5,5],\"min_border_bottom\":10,\"min_border_left\":10,\"min_border_right\":10,\"min_border_top\":10,\"renderers\":[{\"id\":\"9440\"}],\"sizing_mode\":\"fixed\",\"title\":{\"id\":\"9405\"},\"toolbar\":{\"id\":\"9426\"},\"width\":700,\"x_range\":{\"id\":\"9401\"},\"x_scale\":{\"id\":\"9409\"},\"y_range\":{\"id\":\"9402\"},\"y_scale\":{\"id\":\"9411\"}},\"id\":\"9404\",\"subtype\":\"Figure\",\"type\":\"Plot\"},{\"attributes\":{\"tools\":[{\"id\":\"9403\"},{\"id\":\"9420\"},{\"id\":\"9421\"},{\"id\":\"9422\"},{\"id\":\"9423\"},{\"id\":\"9424\"}]},\"id\":\"9426\",\"type\":\"Toolbar\"},{\"attributes\":{},\"id\":\"9411\",\"type\":\"LinearScale\"},{\"attributes\":{\"fill_color\":{\"field\":\"sentiment\",\"transform\":{\"id\":\"9433\"}},\"hatch_color\":{\"field\":\"sentiment\",\"transform\":{\"id\":\"9433\"}},\"top\":{\"field\":\"count\"},\"width\":{\"value\":0.8},\"x\":{\"field\":\"xoffsets\"}},\"id\":\"9437\",\"type\":\"VBar\"},{\"attributes\":{\"callback\":null,\"renderers\":[{\"id\":\"9440\"}],\"tags\":[\"hv_created\"],\"tooltips\":[[\"speaker\",\"@{speaker}\"],[\"sentiment\",\"@{sentiment}\"],[\"count\",\"@{count}\"]]},\"id\":\"9403\",\"type\":\"HoverTool\"},{\"attributes\":{\"end\":22.9,\"reset_end\":22.9,\"reset_start\":0.0,\"tags\":[[[\"count\",\"count\",null]]]},\"id\":\"9402\",\"type\":\"Range1d\"},{\"attributes\":{\"coordinates\":null,\"group\":null,\"text\":\"test\",\"text_color\":\"black\",\"text_font_size\":\"12pt\"},\"id\":\"9405\",\"type\":\"Title\"},{\"attributes\":{\"axis_label\":\"speaker, sentiment\",\"coordinates\":null,\"formatter\":{\"id\":\"9444\"},\"group\":null,\"major_label_policy\":{\"id\":\"9445\"},\"ticker\":{\"id\":\"9414\"}},\"id\":\"9413\",\"type\":\"CategoricalAxis\"},{\"attributes\":{\"bottom\":{\"value\":0},\"fill_alpha\":{\"value\":1.0},\"fill_color\":{\"field\":\"sentiment\",\"transform\":{\"id\":\"9433\"}},\"hatch_alpha\":{\"value\":1.0},\"hatch_color\":{\"field\":\"sentiment\",\"transform\":{\"id\":\"9433\"}},\"hatch_scale\":{\"value\":12.0},\"hatch_weight\":{\"value\":1.0},\"line_alpha\":{\"value\":1.0},\"line_cap\":{\"value\":\"butt\"},\"line_color\":{\"value\":\"black\"},\"line_dash\":{\"value\":[]},\"line_dash_offset\":{\"value\":0},\"line_join\":{\"value\":\"bevel\"},\"line_width\":{\"value\":1},\"top\":{\"field\":\"count\"},\"width\":{\"value\":0.8},\"x\":{\"field\":\"xoffsets\"}},\"id\":\"9442\",\"type\":\"VBar\"},{\"attributes\":{},\"id\":\"9435\",\"type\":\"Selection\"},{\"attributes\":{\"axis\":{\"id\":\"9413\"},\"coordinates\":null,\"grid_line_color\":null,\"group\":null,\"ticker\":null},\"id\":\"9415\",\"type\":\"Grid\"},{\"attributes\":{},\"id\":\"9421\",\"type\":\"PanTool\"},{\"attributes\":{},\"id\":\"9414\",\"type\":\"CategoricalTicker\"},{\"attributes\":{\"fill_alpha\":{\"value\":0.1},\"fill_color\":{\"field\":\"sentiment\",\"transform\":{\"id\":\"9433\"}},\"hatch_alpha\":{\"value\":0.1},\"hatch_color\":{\"field\":\"sentiment\",\"transform\":{\"id\":\"9433\"}},\"line_alpha\":{\"value\":0.1},\"top\":{\"field\":\"count\"},\"width\":{\"value\":0.8},\"x\":{\"field\":\"xoffsets\"}},\"id\":\"9438\",\"type\":\"VBar\"},{\"attributes\":{\"axis_label\":\"count\",\"coordinates\":null,\"formatter\":{\"id\":\"9447\"},\"group\":null,\"major_label_policy\":{\"id\":\"9448\"},\"ticker\":{\"id\":\"9417\"}},\"id\":\"9416\",\"type\":\"LinearAxis\"},{\"attributes\":{\"axis\":{\"id\":\"9416\"},\"coordinates\":null,\"dimension\":1,\"grid_line_color\":null,\"group\":null,\"ticker\":null},\"id\":\"9419\",\"type\":\"Grid\"},{\"attributes\":{},\"id\":\"9417\",\"type\":\"BasicTicker\"},{\"attributes\":{\"client_comm_id\":\"218f4375f3a140bf82d58acad9427892\",\"comm_id\":\"534089234eb34fd69dfd832246c74164\",\"plot_id\":\"9400\"},\"id\":\"9489\",\"type\":\"panel.models.comm_manager.CommManager\"},{\"attributes\":{},\"id\":\"9422\",\"type\":\"WheelZoomTool\"},{\"attributes\":{},\"id\":\"9420\",\"type\":\"SaveTool\"}],\"root_ids\":[\"9400\",\"9489\"]},\"title\":\"Bokeh Application\",\"version\":\"2.4.3\"}};\n",
       "    var render_items = [{\"docid\":\"1e1ff3a3-e8b0-44a6-aaa0-a59b2ae01f13\",\"root_ids\":[\"9400\"],\"roots\":{\"9400\":\"d94fd07d-202c-45d7-9de8-03e022706877\"}}];\n",
       "    root.Bokeh.embed.embed_items_notebook(docs_json, render_items);\n",
       "    for (const render_item of render_items) {\n",
       "      for (const root_id of render_item.root_ids) {\n",
       "\tconst id_el = document.getElementById(root_id)\n",
       "\tif (id_el.children.length && (id_el.children[0].className === 'bk-root')) {\n",
       "\t  const root_el = id_el.children[0]\n",
       "\t  root_el.id = root_el.id + '-rendered'\n",
       "\t}\n",
       "      }\n",
       "    }\n",
       "  }\n",
       "  if (root.Bokeh !== undefined && root.Bokeh.Panel !== undefined) {\n",
       "    embed_document(root);\n",
       "  } else {\n",
       "    var attempts = 0;\n",
       "    var timer = setInterval(function(root) {\n",
       "      if (root.Bokeh !== undefined && root.Bokeh.Panel !== undefined) {\n",
       "        clearInterval(timer);\n",
       "        embed_document(root);\n",
       "      } else if (document.readyState == \"complete\") {\n",
       "        attempts++;\n",
       "        if (attempts > 200) {\n",
       "          clearInterval(timer);\n",
       "          console.log(\"Bokeh: ERROR: Unable to run BokehJS code because BokehJS library is missing\");\n",
       "        }\n",
       "      }\n",
       "    }, 25, root)\n",
       "  }\n",
       "})(window);</script>"
      ],
      "text/plain": [
       "Row\n",
       "    [0] HoloViews(Bars)"
      ]
     },
     "execution_count": 291,
     "metadata": {
      "application/vnd.holoviews_exec.v0+json": {
       "id": "9400"
      }
     },
     "output_type": "execute_result"
    }
   ],
   "source": [
    "_df = pd.DataFrame()\n",
    "_df['count'] = sentiment_df.groupby(['speaker', 'sentiment'])['sentiment'].count()\n",
    "plot = _df.hvplot(title=\"test\", kind=\"bar\")\n",
    "pn.Row(plot)"
   ]
  },
  {
   "cell_type": "code",
   "execution_count": 292,
   "id": "b81fdc78-53f3-48aa-b9c2-df56d9ca7cc3",
   "metadata": {},
   "outputs": [
    {
     "data": {},
     "metadata": {},
     "output_type": "display_data"
    },
    {
     "data": {},
     "metadata": {},
     "output_type": "display_data"
    },
    {
     "data": {
      "application/vnd.holoviews_exec.v0+json": "",
      "text/html": [
       "<div id='9540'>\n",
       "  <div class=\"bk-root\" id=\"efe1df6c-9502-4b3c-bcb6-59d3793155a9\" data-root-id=\"9540\"></div>\n",
       "</div>\n",
       "<script type=\"application/javascript\">(function(root) {\n",
       "  function embed_document(root) {\n",
       "    var docs_json = {\"695739cd-de41-4b87-b3e4-38ff300df586\":{\"defs\":[{\"extends\":null,\"module\":null,\"name\":\"ReactiveHTML1\",\"overrides\":[],\"properties\":[]},{\"extends\":null,\"module\":null,\"name\":\"FlexBox1\",\"overrides\":[],\"properties\":[{\"default\":\"flex-start\",\"kind\":null,\"name\":\"align_content\"},{\"default\":\"flex-start\",\"kind\":null,\"name\":\"align_items\"},{\"default\":\"row\",\"kind\":null,\"name\":\"flex_direction\"},{\"default\":\"wrap\",\"kind\":null,\"name\":\"flex_wrap\"},{\"default\":\"flex-start\",\"kind\":null,\"name\":\"justify_content\"}]},{\"extends\":null,\"module\":null,\"name\":\"GridStack1\",\"overrides\":[],\"properties\":[{\"default\":\"warn\",\"kind\":null,\"name\":\"mode\"},{\"default\":null,\"kind\":null,\"name\":\"ncols\"},{\"default\":null,\"kind\":null,\"name\":\"nrows\"},{\"default\":true,\"kind\":null,\"name\":\"allow_resize\"},{\"default\":true,\"kind\":null,\"name\":\"allow_drag\"},{\"default\":[],\"kind\":null,\"name\":\"state\"}]},{\"extends\":null,\"module\":null,\"name\":\"click1\",\"overrides\":[],\"properties\":[{\"default\":\"\",\"kind\":null,\"name\":\"terminal_output\"},{\"default\":\"\",\"kind\":null,\"name\":\"debug_name\"},{\"default\":0,\"kind\":null,\"name\":\"clears\"}]},{\"extends\":null,\"module\":null,\"name\":\"NotificationAreaBase1\",\"overrides\":[],\"properties\":[{\"default\":\"bottom-right\",\"kind\":null,\"name\":\"position\"},{\"default\":0,\"kind\":null,\"name\":\"_clear\"}]},{\"extends\":null,\"module\":null,\"name\":\"NotificationArea1\",\"overrides\":[],\"properties\":[{\"default\":[],\"kind\":null,\"name\":\"notifications\"},{\"default\":\"bottom-right\",\"kind\":null,\"name\":\"position\"},{\"default\":0,\"kind\":null,\"name\":\"_clear\"},{\"default\":[{\"background\":\"#ffc107\",\"icon\":{\"className\":\"fas fa-exclamation-triangle\",\"color\":\"white\",\"tagName\":\"i\"},\"type\":\"warning\"},{\"background\":\"#007bff\",\"icon\":{\"className\":\"fas fa-info-circle\",\"color\":\"white\",\"tagName\":\"i\"},\"type\":\"info\"}],\"kind\":null,\"name\":\"types\"}]},{\"extends\":null,\"module\":null,\"name\":\"Notification\",\"overrides\":[],\"properties\":[{\"default\":null,\"kind\":null,\"name\":\"background\"},{\"default\":3000,\"kind\":null,\"name\":\"duration\"},{\"default\":null,\"kind\":null,\"name\":\"icon\"},{\"default\":\"\",\"kind\":null,\"name\":\"message\"},{\"default\":null,\"kind\":null,\"name\":\"notification_type\"},{\"default\":false,\"kind\":null,\"name\":\"_destroyed\"}]},{\"extends\":null,\"module\":null,\"name\":\"TemplateActions1\",\"overrides\":[],\"properties\":[{\"default\":0,\"kind\":null,\"name\":\"open_modal\"},{\"default\":0,\"kind\":null,\"name\":\"close_modal\"}]},{\"extends\":null,\"module\":null,\"name\":\"MaterialTemplateActions1\",\"overrides\":[],\"properties\":[{\"default\":0,\"kind\":null,\"name\":\"open_modal\"},{\"default\":0,\"kind\":null,\"name\":\"close_modal\"}]}],\"roots\":{\"references\":[{\"attributes\":{\"bottom_units\":\"screen\",\"coordinates\":null,\"fill_alpha\":0.5,\"fill_color\":\"lightgrey\",\"group\":null,\"left_units\":\"screen\",\"level\":\"overlay\",\"line_alpha\":1.0,\"line_color\":\"black\",\"line_dash\":[4,4],\"line_width\":2,\"right_units\":\"screen\",\"syncable\":false,\"top_units\":\"screen\"},\"id\":\"9565\",\"type\":\"BoxAnnotation\"},{\"attributes\":{},\"id\":\"9608\",\"type\":\"StringFormatter\"},{\"attributes\":{},\"id\":\"9561\",\"type\":\"PanTool\"},{\"attributes\":{},\"id\":\"9609\",\"type\":\"StringEditor\"},{\"attributes\":{\"editor\":{\"id\":\"9609\"},\"field\":\"text\",\"formatter\":{\"id\":\"9608\"},\"title\":\"text\",\"width\":0},\"id\":\"9610\",\"type\":\"TableColumn\"},{\"attributes\":{\"callback\":null,\"renderers\":[{\"id\":\"9580\"}],\"tags\":[\"hv_created\"],\"tooltips\":[[\"speaker\",\"@{speaker}\"],[\"sentiment\",\"@{sentiment}\"],[\"count\",\"@{count}\"]]},\"id\":\"9543\",\"type\":\"HoverTool\"},{\"attributes\":{},\"id\":\"9669\",\"type\":\"StringFormatter\"},{\"attributes\":{\"data\":{\"count\":[3,6,19,21,2,14],\"sentiment\":[\"NEGATIVE\",\"NEGATIVE\",\"NEUTRAL\",\"NEUTRAL\",\"POSITIVE\",\"POSITIVE\"],\"speaker\":[\"Barbara\",\"Dolly\",\"Barbara\",\"Dolly\",\"Barbara\",\"Dolly\"],\"xoffsets\":[[\"Barbara\",\"NEGATIVE\"],[\"Dolly\",\"NEGATIVE\"],[\"Barbara\",\"NEUTRAL\"],[\"Dolly\",\"NEUTRAL\"],[\"Barbara\",\"POSITIVE\"],[\"Dolly\",\"POSITIVE\"]]},\"selected\":{\"id\":\"9575\"},\"selection_policy\":{\"id\":\"9596\"}},\"id\":\"9574\",\"type\":\"ColumnDataSource\"},{\"attributes\":{},\"id\":\"9670\",\"type\":\"StringEditor\"},{\"attributes\":{\"editor\":{\"id\":\"9670\"},\"field\":\"sentiment\",\"formatter\":{\"id\":\"9669\"},\"title\":\"sentiment\",\"width\":0},\"id\":\"9671\",\"type\":\"TableColumn\"},{\"attributes\":{\"client_comm_id\":\"da9068af4753481dafbcb02e5ed0c880\",\"comm_id\":\"6acb6bc2ca7c449c8a4e52103d3fa32b\",\"plot_id\":\"9540\"},\"id\":\"9732\",\"type\":\"panel.models.comm_manager.CommManager\"},{\"attributes\":{\"axis_label\":\"speaker, sentiment\",\"coordinates\":null,\"formatter\":{\"id\":\"9584\"},\"group\":null,\"major_label_policy\":{\"id\":\"9585\"},\"ticker\":{\"id\":\"9554\"}},\"id\":\"9553\",\"type\":\"CategoricalAxis\"},{\"attributes\":{},\"id\":\"9613\",\"type\":\"StringFormatter\"},{\"attributes\":{\"fill_alpha\":{\"value\":0.1},\"fill_color\":{\"field\":\"sentiment\",\"transform\":{\"id\":\"9573\"}},\"hatch_alpha\":{\"value\":0.1},\"hatch_color\":{\"field\":\"sentiment\",\"transform\":{\"id\":\"9573\"}},\"line_alpha\":{\"value\":0.1},\"top\":{\"field\":\"count\"},\"width\":{\"value\":0.8},\"x\":{\"field\":\"xoffsets\"}},\"id\":\"9578\",\"type\":\"VBar\"},{\"attributes\":{},\"id\":\"9614\",\"type\":\"StringEditor\"},{\"attributes\":{\"editor\":{\"id\":\"9614\"},\"field\":\"sentiment\",\"formatter\":{\"id\":\"9613\"},\"title\":\"sentiment\",\"width\":0},\"id\":\"9615\",\"type\":\"TableColumn\"},{\"attributes\":{},\"id\":\"9585\",\"type\":\"AllLabels\"},{\"attributes\":{},\"id\":\"9674\",\"type\":\"StringFormatter\"},{\"attributes\":{\"child\":{\"id\":\"9544\"},\"name\":\"Sentiment Overview\",\"title\":\"Sentiment Overview\"},\"id\":\"9599\",\"type\":\"Panel\"},{\"attributes\":{},\"id\":\"9675\",\"type\":\"StringEditor\"},{\"attributes\":{\"editor\":{\"id\":\"9675\"},\"field\":\"speaker\",\"formatter\":{\"id\":\"9674\"},\"title\":\"speaker\",\"width\":0},\"id\":\"9676\",\"type\":\"TableColumn\"},{\"attributes\":{},\"id\":\"9587\",\"type\":\"BasicTickFormatter\"},{\"attributes\":{},\"id\":\"9695\",\"type\":\"UnionRenderers\"},{\"attributes\":{},\"id\":\"9618\",\"type\":\"StringFormatter\"},{\"attributes\":{\"fill_color\":{\"field\":\"sentiment\",\"transform\":{\"id\":\"9573\"}},\"hatch_color\":{\"field\":\"sentiment\",\"transform\":{\"id\":\"9573\"}},\"top\":{\"field\":\"count\"},\"width\":{\"value\":0.8},\"x\":{\"field\":\"xoffsets\"}},\"id\":\"9577\",\"type\":\"VBar\"},{\"attributes\":{},\"id\":\"9619\",\"type\":\"StringEditor\"},{\"attributes\":{\"editor\":{\"id\":\"9619\"},\"field\":\"speaker\",\"formatter\":{\"id\":\"9618\"},\"title\":\"speaker\",\"width\":0},\"id\":\"9620\",\"type\":\"TableColumn\"},{\"attributes\":{\"source\":{\"id\":\"9574\"}},\"id\":\"9581\",\"type\":\"CDSView\"},{\"attributes\":{\"indices\":[]},\"id\":\"9629\",\"type\":\"Selection\"},{\"attributes\":{},\"id\":\"9560\",\"type\":\"SaveTool\"},{\"attributes\":{\"text_align\":\"left\"},\"id\":\"9630\",\"type\":\"NumberFormatter\"},{\"attributes\":{},\"id\":\"9562\",\"type\":\"WheelZoomTool\"},{\"attributes\":{\"axis\":{\"id\":\"9553\"},\"coordinates\":null,\"grid_line_color\":null,\"group\":null,\"ticker\":null},\"id\":\"9555\",\"type\":\"Grid\"},{\"attributes\":{\"child\":{\"id\":\"9679\"},\"name\":\"\",\"title\":\"Neutral\"},\"id\":\"9683\",\"type\":\"Panel\"},{\"attributes\":{\"factors\":[\"NEGATIVE\",\"NEUTRAL\",\"POSITIVE\"],\"palette\":[\"#30a2da\",\"#fc4f30\",\"#e5ae38\"]},\"id\":\"9573\",\"type\":\"CategoricalColorMapper\"},{\"attributes\":{\"end\":22.9,\"reset_end\":22.9,\"reset_start\":0.0,\"tags\":[[[\"count\",\"count\",null]]]},\"id\":\"9542\",\"type\":\"Range1d\"},{\"attributes\":{\"axis_label\":\"count\",\"coordinates\":null,\"formatter\":{\"id\":\"9587\"},\"group\":null,\"major_label_policy\":{\"id\":\"9588\"},\"ticker\":{\"id\":\"9557\"}},\"id\":\"9556\",\"type\":\"LinearAxis\"},{\"attributes\":{\"data\":{\"index\":[2,6,19,21,31,39,40,60,63],\"sentiment\":[\"NEGATIVE\",\"NEGATIVE\",\"NEGATIVE\",\"NEGATIVE\",\"NEGATIVE\",\"NEGATIVE\",\"NEGATIVE\",\"NEGATIVE\",\"NEGATIVE\"],\"speaker\":[\"Dolly\",\"Dolly\",\"Barbara\",\"Dolly\",\"Dolly\",\"Barbara\",\"Barbara\",\"Dolly\",\"Dolly\"],\"text\":[\"If you had of it would have been something very natural but I would have probably kicked your shins or something.\",\"They took that kind of thing from people like us.\",\"My assistant asked me something and I'm going to blame it on her because I wouldn't have had the nerve otherwise.\",\"Well, I can't show you.\",\"I don't like to be like everybody else.\",\"But do you ever feel that you're a joke?\",\"That people make fun of you?\",\"See, the thing of it is you don't find a person that you can be happy with and they can't accept you.\",\"I've got better things to do than to sit around in my room thinking, oh, it's Carl doing tonight.\"]},\"selected\":{\"id\":\"9629\"},\"selection_policy\":{\"id\":\"9693\"}},\"id\":\"9628\",\"type\":\"ColumnDataSource\"},{\"attributes\":{\"child\":{\"id\":\"9623\"},\"name\":\"\",\"title\":\"Positive\"},\"id\":\"9627\",\"type\":\"Panel\"},{\"attributes\":{\"editor\":{\"id\":\"9632\"},\"field\":\"index\",\"formatter\":{\"id\":\"9630\"},\"title\":\"index\",\"width\":0},\"id\":\"9633\",\"type\":\"TableColumn\"},{\"attributes\":{},\"id\":\"9554\",\"type\":\"CategoricalTicker\"},{\"attributes\":{\"autosize_mode\":\"fit_columns\",\"columns\":[{\"id\":\"9633\"},{\"id\":\"9638\"},{\"id\":\"9643\"},{\"id\":\"9648\"}],\"editable\":true,\"height\":300,\"index_position\":null,\"margin\":[5,10,5,10],\"name\":\"\",\"row_height\":40,\"sizing_mode\":\"fixed\",\"source\":{\"id\":\"9628\"},\"view\":{\"id\":\"9653\"},\"width\":700},\"id\":\"9651\",\"type\":\"DataTable\"},{\"attributes\":{\"bottom\":{\"value\":0},\"fill_alpha\":{\"value\":1.0},\"fill_color\":{\"field\":\"sentiment\",\"transform\":{\"id\":\"9573\"}},\"hatch_alpha\":{\"value\":1.0},\"hatch_color\":{\"field\":\"sentiment\",\"transform\":{\"id\":\"9573\"}},\"hatch_scale\":{\"value\":12.0},\"hatch_weight\":{\"value\":1.0},\"line_alpha\":{\"value\":1.0},\"line_cap\":{\"value\":\"butt\"},\"line_color\":{\"value\":\"black\"},\"line_dash\":{\"value\":[]},\"line_dash_offset\":{\"value\":0},\"line_join\":{\"value\":\"bevel\"},\"line_width\":{\"value\":1},\"top\":{\"field\":\"count\"},\"width\":{\"value\":0.8},\"x\":{\"field\":\"xoffsets\"}},\"id\":\"9582\",\"type\":\"VBar\"},{\"attributes\":{\"source\":{\"id\":\"9628\"}},\"id\":\"9653\",\"type\":\"CDSView\"},{\"attributes\":{},\"id\":\"9632\",\"type\":\"CellEditor\"},{\"attributes\":{\"data\":{\"index\":[7,8,9,16,27,33,34,35,42,43,44,45,51,54,61,62],\"sentiment\":[\"POSITIVE\",\"POSITIVE\",\"POSITIVE\",\"POSITIVE\",\"POSITIVE\",\"POSITIVE\",\"POSITIVE\",\"POSITIVE\",\"POSITIVE\",\"POSITIVE\",\"POSITIVE\",\"POSITIVE\",\"POSITIVE\",\"POSITIVE\",\"POSITIVE\",\"POSITIVE\"],\"speaker\":[\"Dolly\",\"Dolly\",\"Dolly\",\"Dolly\",\"Barbara\",\"Dolly\",\"Dolly\",\"Dolly\",\"Dolly\",\"Dolly\",\"Dolly\",\"Dolly\",\"Barbara\",\"Dolly\",\"Dolly\",\"Dolly\"],\"text\":[\"But we were very proud people, people with a lot of class.\",\"It was country class, but it was a great deal of class and most of my people were not that educated but they are very intelligent.\",\"Good common sense horse since we called it darling.\",\"Well, actually I've always been pretty well blessed as a child.\",\"You're very beautiful.\",\"That's the easiest thing in the world to do.\",\"So I just decided that I would do something that would at least get the attention once they got past the shock of the ridiculous way I looked and all that, then they would see there was a part of me to be appreciated.\",\"I'm very real where it counts, and that's inside.\",\"I know exactly what I'm doing and I can change it at any time or I make more jokes about myself than anybody because I enjoy as I say, I am sure of myself as a person.\",\"I'm sure of my talent and to me and I'm sure of my love for life and that sort of thing.\",\"I'm very content.\",\"I like the kind of person that I am so I can afford to pedal around and do the little around with makeups and clothes and stuff because I am secure with myself.\",\"This man gives me everything I need.\",\"The man gives me freedom.\",\"You are and can share the things and to plan for the future and to enjoy your home.\",\"We have our foundation, we have our roots, we have all the things that everybody is looking for and that's happiness in a marriage.\"]},\"selected\":{\"id\":\"9601\"},\"selection_policy\":{\"id\":\"9691\"}},\"id\":\"9600\",\"type\":\"ColumnDataSource\"},{\"attributes\":{\"autosize_mode\":\"fit_columns\",\"columns\":[{\"id\":\"9605\"},{\"id\":\"9610\"},{\"id\":\"9615\"},{\"id\":\"9620\"}],\"editable\":true,\"height\":300,\"index_position\":null,\"margin\":[5,10,5,10],\"name\":\"\",\"row_height\":40,\"sizing_mode\":\"fixed\",\"source\":{\"id\":\"9600\"},\"view\":{\"id\":\"9625\"},\"width\":700},\"id\":\"9623\",\"type\":\"DataTable\"},{\"attributes\":{\"tools\":[{\"id\":\"9543\"},{\"id\":\"9560\"},{\"id\":\"9561\"},{\"id\":\"9562\"},{\"id\":\"9563\"},{\"id\":\"9564\"}]},\"id\":\"9566\",\"type\":\"Toolbar\"},{\"attributes\":{\"indices\":[]},\"id\":\"9601\",\"type\":\"Selection\"},{\"attributes\":{\"coordinates\":null,\"data_source\":{\"id\":\"9574\"},\"glyph\":{\"id\":\"9577\"},\"group\":null,\"hover_glyph\":null,\"muted_glyph\":{\"id\":\"9579\"},\"nonselection_glyph\":{\"id\":\"9578\"},\"selection_glyph\":{\"id\":\"9582\"},\"view\":{\"id\":\"9581\"}},\"id\":\"9580\",\"type\":\"GlyphRenderer\"},{\"attributes\":{},\"id\":\"9636\",\"type\":\"StringFormatter\"},{\"attributes\":{},\"id\":\"9637\",\"type\":\"StringEditor\"},{\"attributes\":{\"editor\":{\"id\":\"9637\"},\"field\":\"text\",\"formatter\":{\"id\":\"9636\"},\"title\":\"text\",\"width\":0},\"id\":\"9638\",\"type\":\"TableColumn\"},{\"attributes\":{},\"id\":\"9584\",\"type\":\"CategoricalTickFormatter\"},{\"attributes\":{\"below\":[{\"id\":\"9553\"}],\"center\":[{\"id\":\"9555\"},{\"id\":\"9559\"}],\"height\":300,\"left\":[{\"id\":\"9556\"}],\"margin\":[5,5,5,5],\"min_border_bottom\":10,\"min_border_left\":10,\"min_border_right\":10,\"min_border_top\":10,\"renderers\":[{\"id\":\"9580\"}],\"sizing_mode\":\"fixed\",\"title\":{\"id\":\"9545\"},\"toolbar\":{\"id\":\"9566\"},\"width\":700,\"x_range\":{\"id\":\"9541\"},\"x_scale\":{\"id\":\"9549\"},\"y_range\":{\"id\":\"9542\"},\"y_scale\":{\"id\":\"9551\"}},\"id\":\"9544\",\"subtype\":\"Figure\",\"type\":\"Plot\"},{\"attributes\":{},\"id\":\"9641\",\"type\":\"StringFormatter\"},{\"attributes\":{},\"id\":\"9642\",\"type\":\"StringEditor\"},{\"attributes\":{\"editor\":{\"id\":\"9642\"},\"field\":\"sentiment\",\"formatter\":{\"id\":\"9641\"},\"title\":\"sentiment\",\"width\":0},\"id\":\"9643\",\"type\":\"TableColumn\"},{\"attributes\":{\"factors\":[[\"Barbara\",\"NEGATIVE\"],[\"Barbara\",\"NEUTRAL\"],[\"Barbara\",\"POSITIVE\"],[\"Dolly\",\"NEGATIVE\"],[\"Dolly\",\"NEUTRAL\"],[\"Dolly\",\"POSITIVE\"]],\"tags\":[[[\"speaker\",\"speaker\",null],[\"sentiment\",\"sentiment\",null]]]},\"id\":\"9541\",\"type\":\"FactorRange\"},{\"attributes\":{\"margin\":[0,0,0,0],\"tabs\":[{\"id\":\"9599\"},{\"id\":\"9627\"},{\"id\":\"9655\"},{\"id\":\"9683\"}]},\"id\":\"9540\",\"type\":\"panel.models.tabs.Tabs\"},{\"attributes\":{},\"id\":\"9588\",\"type\":\"AllLabels\"},{\"attributes\":{},\"id\":\"9549\",\"type\":\"CategoricalScale\"},{\"attributes\":{\"axis\":{\"id\":\"9556\"},\"coordinates\":null,\"dimension\":1,\"grid_line_color\":null,\"group\":null,\"ticker\":null},\"id\":\"9559\",\"type\":\"Grid\"},{\"attributes\":{},\"id\":\"9596\",\"type\":\"UnionRenderers\"},{\"attributes\":{},\"id\":\"9646\",\"type\":\"StringFormatter\"},{\"attributes\":{\"overlay\":{\"id\":\"9565\"}},\"id\":\"9563\",\"type\":\"BoxZoomTool\"},{\"attributes\":{},\"id\":\"9647\",\"type\":\"StringEditor\"},{\"attributes\":{},\"id\":\"9691\",\"type\":\"UnionRenderers\"},{\"attributes\":{\"editor\":{\"id\":\"9647\"},\"field\":\"speaker\",\"formatter\":{\"id\":\"9646\"},\"title\":\"speaker\",\"width\":0},\"id\":\"9648\",\"type\":\"TableColumn\"},{\"attributes\":{\"fill_alpha\":{\"value\":0.2},\"fill_color\":{\"field\":\"sentiment\",\"transform\":{\"id\":\"9573\"}},\"hatch_alpha\":{\"value\":0.2},\"hatch_color\":{\"field\":\"sentiment\",\"transform\":{\"id\":\"9573\"}},\"line_alpha\":{\"value\":0.2},\"top\":{\"field\":\"count\"},\"width\":{\"value\":0.8},\"x\":{\"field\":\"xoffsets\"}},\"id\":\"9579\",\"type\":\"VBar\"},{\"attributes\":{\"text_align\":\"left\"},\"id\":\"9658\",\"type\":\"NumberFormatter\"},{\"attributes\":{\"indices\":[]},\"id\":\"9657\",\"type\":\"Selection\"},{\"attributes\":{\"data\":{\"index\":[0,1,3,4,5,10,11,12,13,14,15,17,18,20,22,23,24,25,26,28,29,30,32,36,37,38,41,46,47,48,49,50,52,53,55,56,57,58,59,64],\"sentiment\":[\"NEUTRAL\",\"NEUTRAL\",\"NEUTRAL\",\"NEUTRAL\",\"NEUTRAL\",\"NEUTRAL\",\"NEUTRAL\",\"NEUTRAL\",\"NEUTRAL\",\"NEUTRAL\",\"NEUTRAL\",\"NEUTRAL\",\"NEUTRAL\",\"NEUTRAL\",\"NEUTRAL\",\"NEUTRAL\",\"NEUTRAL\",\"NEUTRAL\",\"NEUTRAL\",\"NEUTRAL\",\"NEUTRAL\",\"NEUTRAL\",\"NEUTRAL\",\"NEUTRAL\",\"NEUTRAL\",\"NEUTRAL\",\"NEUTRAL\",\"NEUTRAL\",\"NEUTRAL\",\"NEUTRAL\",\"NEUTRAL\",\"NEUTRAL\",\"NEUTRAL\",\"NEUTRAL\",\"NEUTRAL\",\"NEUTRAL\",\"NEUTRAL\",\"NEUTRAL\",\"NEUTRAL\",\"NEUTRAL\"],\"speaker\":[\"Barbara\",\"Barbara\",\"Dolly\",\"Barbara\",\"Dolly\",\"Barbara\",\"Dolly\",\"Barbara\",\"Dolly\",\"Barbara\",\"Dolly\",\"Dolly\",\"Dolly\",\"Barbara\",\"Dolly\",\"Dolly\",\"Dolly\",\"Dolly\",\"Barbara\",\"Barbara\",\"Barbara\",\"Dolly\",\"Dolly\",\"Dolly\",\"Dolly\",\"Dolly\",\"Dolly\",\"Barbara\",\"Barbara\",\"Barbara\",\"Barbara\",\"Barbara\",\"Barbara\",\"Dolly\",\"Barbara\",\"Dolly\",\"Barbara\",\"Barbara\",\"Dolly\",\"Dolly\"],\"text\":[\"Dolly where I come from.\",\"Would I have called you a hillbilly?\",\"No, actually.\",\"But when I think of your beliefs and I think of your kind of.\",\"People I think you probably are, the people that grew up where I was were the ones that you would consider the little abner people daisy May and that sort of thing.\",\"Did you look like this when you were a kid?\",\"Not quite.\",\"I mean, you didn't have the blonde wig but when I went to school when you were 11, 12, 13 was it this about you?\",\"Well, you mean the full figure?\",\"Yeah, that's what I meant.\",\"Yeah, that's what you meant.\",\"I grew up fast.\",\"Other members of my family have done the same.\",\"Is it all you?\",\"Yeah, I'll take your word for it.\",\"I get asked that question.\",\"I always answer that because people are in all of the whole thing a lot of people say I have a lot of people say I have it.\",\"I always say that if I hadn't had it on my own I'm just the kind of person that would have had me if I made you don't.\",\"Have to look like this.\",\"You don't have to wear the blonde wigs you don't have to wear the extreme clothes.\",\"Right?\",\"No, it's certainly a choice.\",\"I've often made this statement that I would never stoop so low as to be fashionable.\",\"And as far as my outlook on life and the way I care about people and the way I care about myself and the things that I care about.\",\"But I just chose to do this.\",\"And show business is a money making joke, and I just always liked telling jokes.\",\"Oh, I know they make fun of me but actually, all these years the people have thought the joke was on me, but it's actually been on the public.\",\"Listen, tell me about this marriage of yours this man who nobody ever seems to see.\",\"We heard that he was here, we heard that he was, but none of us have seen him.\",\"Paul Dean, you don't see him very much.\",\"You're on the road most of the time.\",\"You've said, I know that this marriage will always last.\",\"How do you know?\",\"Well, I need freedom.\",\"So why get married?\",\"Well, why not?\",\"Why, if I don't want most of freedom?\",\"Why have a husband away some place with these six weeks a year?\",\"He has the same freedom.\",\"I wonder if he's with somebody and this and that.\"]},\"selected\":{\"id\":\"9657\"},\"selection_policy\":{\"id\":\"9695\"}},\"id\":\"9656\",\"type\":\"ColumnDataSource\"},{\"attributes\":{},\"id\":\"9557\",\"type\":\"BasicTicker\"},{\"attributes\":{\"child\":{\"id\":\"9651\"},\"name\":\"\",\"title\":\"Negative\"},\"id\":\"9655\",\"type\":\"Panel\"},{\"attributes\":{\"editor\":{\"id\":\"9660\"},\"field\":\"index\",\"formatter\":{\"id\":\"9658\"},\"title\":\"index\",\"width\":0},\"id\":\"9661\",\"type\":\"TableColumn\"},{\"attributes\":{\"autosize_mode\":\"fit_columns\",\"columns\":[{\"id\":\"9661\"},{\"id\":\"9666\"},{\"id\":\"9671\"},{\"id\":\"9676\"}],\"editable\":true,\"height\":300,\"index_position\":null,\"margin\":[5,10,5,10],\"name\":\"\",\"row_height\":40,\"sizing_mode\":\"fixed\",\"source\":{\"id\":\"9656\"},\"view\":{\"id\":\"9681\"},\"width\":700},\"id\":\"9679\",\"type\":\"DataTable\"},{\"attributes\":{\"source\":{\"id\":\"9656\"}},\"id\":\"9681\",\"type\":\"CDSView\"},{\"attributes\":{},\"id\":\"9660\",\"type\":\"CellEditor\"},{\"attributes\":{\"text_align\":\"left\"},\"id\":\"9602\",\"type\":\"NumberFormatter\"},{\"attributes\":{},\"id\":\"9551\",\"type\":\"LinearScale\"},{\"attributes\":{},\"id\":\"9564\",\"type\":\"ResetTool\"},{\"attributes\":{\"editor\":{\"id\":\"9604\"},\"field\":\"index\",\"formatter\":{\"id\":\"9602\"},\"title\":\"index\",\"width\":0},\"id\":\"9605\",\"type\":\"TableColumn\"},{\"attributes\":{\"source\":{\"id\":\"9600\"}},\"id\":\"9625\",\"type\":\"CDSView\"},{\"attributes\":{},\"id\":\"9664\",\"type\":\"StringFormatter\"},{\"attributes\":{\"coordinates\":null,\"group\":null,\"text\":\"test\",\"text_color\":\"black\",\"text_font_size\":\"12pt\"},\"id\":\"9545\",\"type\":\"Title\"},{\"attributes\":{},\"id\":\"9665\",\"type\":\"StringEditor\"},{\"attributes\":{},\"id\":\"9693\",\"type\":\"UnionRenderers\"},{\"attributes\":{},\"id\":\"9604\",\"type\":\"CellEditor\"},{\"attributes\":{\"editor\":{\"id\":\"9665\"},\"field\":\"text\",\"formatter\":{\"id\":\"9664\"},\"title\":\"text\",\"width\":0},\"id\":\"9666\",\"type\":\"TableColumn\"},{\"attributes\":{},\"id\":\"9575\",\"type\":\"Selection\"}],\"root_ids\":[\"9540\",\"9732\"]},\"title\":\"Bokeh Application\",\"version\":\"2.4.3\"}};\n",
       "    var render_items = [{\"docid\":\"695739cd-de41-4b87-b3e4-38ff300df586\",\"root_ids\":[\"9540\"],\"roots\":{\"9540\":\"efe1df6c-9502-4b3c-bcb6-59d3793155a9\"}}];\n",
       "    root.Bokeh.embed.embed_items_notebook(docs_json, render_items);\n",
       "    for (const render_item of render_items) {\n",
       "      for (const root_id of render_item.root_ids) {\n",
       "\tconst id_el = document.getElementById(root_id)\n",
       "\tif (id_el.children.length && (id_el.children[0].className === 'bk-root')) {\n",
       "\t  const root_el = id_el.children[0]\n",
       "\t  root_el.id = root_el.id + '-rendered'\n",
       "\t}\n",
       "      }\n",
       "    }\n",
       "  }\n",
       "  if (root.Bokeh !== undefined && root.Bokeh.Panel !== undefined) {\n",
       "    embed_document(root);\n",
       "  } else {\n",
       "    var attempts = 0;\n",
       "    var timer = setInterval(function(root) {\n",
       "      if (root.Bokeh !== undefined && root.Bokeh.Panel !== undefined) {\n",
       "        clearInterval(timer);\n",
       "        embed_document(root);\n",
       "      } else if (document.readyState == \"complete\") {\n",
       "        attempts++;\n",
       "        if (attempts > 200) {\n",
       "          clearInterval(timer);\n",
       "          console.log(\"Bokeh: ERROR: Unable to run BokehJS code because BokehJS library is missing\");\n",
       "        }\n",
       "      }\n",
       "    }, 25, root)\n",
       "  }\n",
       "})(window);</script>"
      ],
      "text/plain": [
       "Tabs\n",
       "    [0] HoloViews(Bars, name='Sentiment Overview')\n",
       "    [1] DataFrame(autosize_mode='fit_columns', height=300, sizing_mode='fixed', value=                          ..., width=700)\n",
       "    [2] DataFrame(autosize_mode='fit_columns', height=300, sizing_mode='fixed', value=                          ..., width=700)\n",
       "    [3] DataFrame(autosize_mode='fit_columns', height=300, sizing_mode='fixed', value=                          ..., width=700)"
      ]
     },
     "execution_count": 292,
     "metadata": {
      "application/vnd.holoviews_exec.v0+json": {
       "id": "9540"
      }
     },
     "output_type": "execute_result"
    }
   ],
   "source": [
    "positive_df = sentiment_df.query('sentiment == \"POSITIVE\"')[[\"text\",\"sentiment\",'speaker']]\n",
    "negative_df = sentiment_df.query('sentiment == \"NEGATIVE\"')[['text','sentiment','speaker']]\n",
    "neutral_df = sentiment_df.query('sentiment == \"NEUTRAL\"')[['text','sentiment','speaker']]\n",
    "\n",
    "sentiment_tabs = pn.Tabs(('Sentiment Overview', plot),\n",
    "                         ('Positive', pn.widgets.DataFrame(positive_df, autosize_mode='fit_columns', width=700, height=300)),\n",
    "                         ('Negative', pn.widgets.DataFrame(negative_df, autosize_mode='fit_columns', width=700, height=300)),\n",
    "                         ('Neutral', pn.widgets.DataFrame(neutral_df, autosize_mode='fit_columns', width=700, height=300))\n",
    "                        )\n",
    "sentiment_tabs"
   ]
  },
  {
   "cell_type": "code",
   "execution_count": 192,
   "id": "82d61a59-0ffa-48cf-9e35-6f4b5a3994fd",
   "metadata": {},
   "outputs": [
    {
     "data": {
      "application/vnd.plotly.v1+json": {
       "config": {
        "plotlyServerURL": "https://plotly.com"
       },
       "data": [
        {
         "hovertemplate": "x: %{x}<br>y: %{y}<br>color: [%{z[0]}, %{z[1]}, %{z[2]}]<extra></extra>",
         "name": "0",
         "source": "data:image/png;base64,iVBORw0KGgoAAAANSUhEUgAAAZAAAADICAIAAABJdyC1AACCk0lEQVR4Xu2dd3gbx7W3z1b0DpAg2HuRRPXeLFmyLBe5xb3ENT1O4pTPyU25yU2/uWlOs2M7cRyXuFe5ybK61SslsfcCEkTvW78/lgKXS4AEIJKCbLyPHz/AmVlolzv725kzZ84AZMmSJctFAiI1nAcrv7+yckulxBgYCLx0zUsSY5aLmpKr7tWWzZZaRZx98id0wCO1TsY0/WyWTxKo1JAlS5YsmQouNZwH+3+9//jjx+V6uUwnM1YaFz24SFojyycCjqGlpqlgmn42yyeJqRQslmKD9mDQHgSA8HA4K1ifVLrffbrn/WcwuQpXqHGFCpOrVHkl5vlrpfVSZJp+NoaFKFqgviz29Xjww0GqQ1SeESiU6FW361ZuVBdXkCotylDgHmY6mqmje0M73/Y7hxjpAQAAsPxS1eU36mrny3VGLBzg2puo7W/43n3BxzC8tOo50jgkE5hKwcry6YHnOCbkZ0J+4SsbDU+JskzTzwp4maHjgW0EKs8jy414nrQ4A7AWEv/3TIG1kIhZMAVYCwlrIbH8UlVhGfGHHwyJqgMAyOTI936ft2qTOmbR6LG5SxVzlyquuEX3X/f2uYdZUXWAtA6ZFFRO8hzHU/H1dArJClaWTwsUHxmkOwFAheoyU7Ae/HGOtZDwe9jHfjl88mA44GMNJjyviFi8Vrlyo/rt57zSAwAe/q111SY1w/Cv/dOz8x3/YC9jzsWXb1Td+gVj9Rz5Tx7N/9pN3dxY/UnjkEmpef674db+jm/9XVoQDwTHDJcv0iyqwjQKxh3wH272bDvGM0n9k1nBypIlU5i3TAkAz/3VtfU/I9rkcbIdzdF92wJ//OEQP26stmy9as1mDQD877cHt73mE4zOIabpVMTeQ3/719a6BfJLt2g/eHWkKL1DkoS0GmOfERLnaQbGnTAAAIoU/fB2VX1pzKBeVGnYtLDrB0+xgYioXnziCJa5zly0tiinPkdXopNpZTzPU37K2+kdODzQ8kZLyBGSHpAWCIrc/tHtuALv3du77RvbxEX1d9cv+NICAKAC1LOXPiu+bOsC6+V/uxwAdv/37ratbTF7quc867ZZi7++GAC6Pur66P99JCkVU7im8NLfXAoA7jb367e+Li0GyJ2XW7653DLHorKqCCXBRtmIJ+Lr9jlOOXr39ToaHNIDskwPeWR5Plmlxc04QtBcNMh57VR7d/SMtN5kKFBNvqzSjBcqMA2OkBQXGqb72iJHI1xQUlOLmUvlc3W4RYYqGI4KcwEH3dMTPUvx4TSqAYDfy8oUeMUsucQOAOPVCgCuuVMPAK1nojHpifHey74HHrbojdj6LRqx+qRxSJJgarlmaY1h4wJFVT6mVfIsF27qHX55T+BIi7iaYeMCQa24CE31OwmLDtMo5KVW21ev6fnFf8Q14zJGsEw1plU/XGWoMIiNAKAwKRQmhXWhdfads/f+z97ODzslFdKA53h3q9syxzL+n7PMtggfSDWpK9Z5O0d7wrHKriaX8CG9c259q3XBlxZgJFa4ulBukEfcCaW9bFOZ8KHt7VF9FMAV+OofrS5eXywxqhVqdZ7attQ29/65DU83HH7ksLhClumgXnVJHlnB8NQw3UvxETmqMuI2N2qX1kuCEvmcIlmdn3U66V6WZwx4XoGs2kjk7fW9zPGjwxYjblukuZzlGQfdQ/NRGarUYzllink9YyUyyWoC217z3fIF4/otGp0Re+Ex15E9obg6JYBhSP0SBQCcPCgVPgDgOejroPRGRXmdLGZM45CUKPzuzbHPCIYq64qK6m4b/OcHztf2xey6NXMAgHZ4O77zOOMOIBhq/fwVhssWapbWyEtyI52DsZpxGSNYwcGgtkgrfPZ2eZ1nnSFHiOd5fak+f3k+iqOEkljzkzWeDo+n3SM+MD2cjU7LHIsqV0WoCDo4OqVtnm0e/VxnHiNYlQYAYKOsp8MjWNI756gv2vVRV9mmMhRHy68oP/3M6ViRGEJJFK0pAgCe49vekQrWqh+sEtSKYzn7Ebuvy0cFKEJF6Ep0ltkWQkkAQNdHXZKjskw5RbK6PLLCywwdCbxH81HBiCIYmlaYYXvkWHf0dJAdaXUIoIs1Vxhwaw5RZBfNKhbJahFAD/m3+tjhmFGF6Sh+zMsvyWoC//qD05JHXHqNZuEq5cJVSscA88Grvndf8PZ1xQn4MOZgciUKANffrb/+br20+BxaPRb7nMYhKcPx4bYBetiL69XyMisqI3I/uyF4qiPSNiCUy4pyAMC/v5FxBwCAZzn7o1vV88qJHL1mRV1qghVxRxqebuA5vm1rm79vZKZGQFeiu/wvlyvMCpRAZ902a+9P94pL08PZ5BQ+GMoNQydHpj80+RqFUcHRnP2Y3bbEZpllEQ/9jBVGAHC1uHhu5NWT9jk3vdIk9J6qrqlKJFhFlxRhMgwA+j7uCzvHvJQ0BZqSDSUAEHFH3vn8O2JVBQAUR3Pn5+YtyssOCWeAYvksADgV2hVTKwDgeJaDpPy4EqJcOAqj95oHrp9qNeBWFaofrQQASJxVIjGZGyXJagAAEI3wP//6wGv/ct/0gHHFRpUlD7/tS8Zbv2Dc/V7gsV86BrrHyJZKk5QcY9joCaRxSEpQdnfPz56L9oy0edykKfzOTYrqAuMVS/ofeV0wYmo5ANDDo38BnuW8e06br1+prC6IGRMh9WEde/SYxCLg7fQe+sOhNf+zBgDyFk3NDIuzcUSw9OX6mGAJ40FPu8fR4LAtsZlnjfa2EBTRl+lBdKBAeuc8eGzQ2+nVleh0JTrLHIvjVBxlKd9cLnxofat1bMno4LR7Z7dErQCAY7iBQwMDh0beKmIQFJv9xV8gGA4AlM/V+M+fSmsAAEDxlffoyufEvjY/8+uIM84Ax1C3pHDDLcLn3u0vuBr2jy0fRW62aUvr1IVVpMaAK9QIhjHhAB30Bfva/N1Nge4WiO8jzXRkqEKJ6oKsJ8h6pGVTRJQLAQCKjOl32Kn2XKJkkWZzZ+RUL9VEcXEGWZB0NTFnjkb++4v9BjN26bXaK2/RFZWTazarF65Sfu3Gno6mUUUOB0fu1xO/GX7jaU/MLkE8qEzjkJSwP/5OTK0AgHH6B/76Vtnvv6CcJXKbIAgAcNEx4htp7QcA0mYSG+MiFawJ6NndAzwAAsocpbQsLTztHpZiMRIzlI88/ABgmWMBAFeLS1AlY6URJVCO5gBAk6/BFTiME6wJmPicm19rFlzvVddUjRcshVGRtzgPAKK+aPeubkkpHRj5i2sLRwakScJzbHi4X5lbBACk1oCRcpaKMzpQ2UrFX5XWkriCpbDkxz6HB3tEJaPIzba8lVdpimskdkKtJ9R6ZW6RZcG6yHC/fd9WX2ccx0qGI0NUABDmAtKCdEEAsZJlOUSxGjOQiBxDCIlUCdipdhwhKxWLKhWLKhQLhqiujuhJLyNtRUlWG497mH3pcffLT7jXXa351q+sKg361f+2PHRrb6yCc4ihojwpQ8w5eMDHiQ5NSBqHpES4UdoCI12DXJQmjBqJXQLt9AEAplFIC8aRVBdRgA7RVJACABRHMTLOLUwVjuEEv1IcwWoeESyUQI1VRqFIcGBBKoI18Tm3vt3KUiwAlGwoEVxOYko2liAoAgAd73UIiinG2eRkwgwAWBdal/2/ZTJtCn5KkbIgcrO06wcAMr0FV4zG9QGAMm+Maz9GTLB4lok443TojLOXVd760Hi1kiA320q23J+38qq4Q5iLgXR7BWNBAV2kuaJetU6NGR10d0vkSENoV2fkpLQeAAD0Rht3eZ8/E9obYN25ZOkyzTVVisXSSklXiwvPw/Y3/C897gaA2vkK8c1haF7wna/YqE5yEJfGIUki9JhijppReAAeADunMwlaFx+lAQCVSZ/B8aQgWADAs+NO6PwQpEdfrhe+YiRmrDQCgKvZFbQHI54IAFhmjUwaCg4slmJTcvlPcM5Rb1RwihNKQnBIiSm//Nx48G3peBAAKD918h8j7bjmhpob37xx+cPLzbWjA9gJCA2NvojkZpuoZATl2O4VAKisJRILAAAgscPDQ708J1XVnEWXFqy/CUFG7zITDvq7mzxNRz1NRwPdzWxkTMCHZeH6/DXXiS2ZjxAcIEfH6Hva5MuqjHiek+7b53u5OXyoN9pop9oDiQebLM/0RM/u8716yL81wgVL5XPjhqQmU00mR3A8/vOs1qIAQFO8ZLD20hNuALDk4Z/7bvyGR5AIKRvzm2kckgyCB11RIW3MsgIzKieA5TCtEgBww8htQvAxvQfhK09P7nOMMyRECTRvYV7uglxDuUFpUcp0MlyOYzIMk2FoTCmnCEGw5Hq5wqgIu8LmOjOKowDganEBgKvJZVtqM9eN/GWFHpan3cMx0icz7XNufrU55npveaMlZtcWagX3mafDM3xmdH5HzMl/nmQpdv4X5uNyHFfg1ddXV19f7W51N73a1PpWq9D/iot47KaIJ1ix8aCv47S2dBYAyIw5mEzBRsd4QEidESNHYnbEIiigLqqyrrgi9jVk77Lv2xroHb1GAABAtKV1ttXXkPqRP7Jp7qrQULf77EUTihHhgmEuoMYMClQT5vzS4hRRY0YAGKDbeFGXTYON9PEnwMX0t4QPz1Gt1eM5LiZOV1dggmrltbL/eTx/z7uBo3tDHc1Rn4slSMSSh6+9QrPlDj0A7HhbenWHdgbf+Y938826z9xnqJwtf/cFb3cbxdC8WocVlBJzFiuWrlN946bejuZRz1cahyRD6EwXaTVY77+8+yfP0MM+wYgqZdbPXQEACIkXfveWwX+8p1s9WygizGMcKUSuHgAYnzRecjxSwaq5oWbuA3MVxskHk1NCbKJQX64Pu8KCx93X46P8FAAMnxm2LR31uwsjR+dZ6XjwfM7ZftQuuN4tcyy6ktGYr7LLy4QP493tYk4/e7r9/fbZt8+uvKaSVJMAYKgwLPv2svmfm3/88eONLzbG6SQDRF2DHE2hBAkJeliqvBHBcjV8rCmuRVAUAFFai/1djeJqYx1Y3aISwEh50WW3w7l8Z56mIz3vP8fzUqEH4H0dp4N9beU3fU1uzBVM1hVXeVtOXES5E7qjp6sVS+eo1h4NvMfwo6ctR1Xjoz0nRqivREcfJy1mKpTVjtY4hx7P9TJDYl3T4RYAiI51qydZTUBvxK66TXfVbTppAUDD4fBjv4jj+frdfw2FQ9x1dxuExYDSYgDxPy2QxiGT4n7nsH7dPFlRTsVfvhps6KSHvZhGqZpVLHSsvLtO6dbMKf31/SO1OV67vG7o6Q95dqRBapfVAkC0a3CkQmLGCNay/7es5oYRZ4e7zd27p9fd6g4NhygfxUQYJsJc/9L1gtt7qnC3uDmWQzFUX6ofODRgqjUBQMz/7TjtAABdkY5QETzLa/I1INI4gfM/Z7Hr/dAfDglGodsVN/xKQng4fOgPh449eqx0Y2nllsqcuTkAINPJln5zaf6y/O3f3j6+P8jzXNjRJ3Sj5KY8QBDxxAyuUMkMOcLnYH9HxDkgCFM8wRqdBg6N9bgbZy3FlSOeTsoz3LPt+XhqNQJLRXo//E/FjQ8KXwmV1lC3xHly79hamUtXpMGAW3OI4tW6m4fpXoaPyhClDrf4WOexwAdCHQRQM1GAIwSOkFrcDAA5RBGByFiepviIk+4Tqtmp9nL5/FJ5vRxVhbmACtXlkiX9VGs+WRX75wQWqC/jgfcyjggXQADR4mYtZg6yHjvdnkY1AGhuiP7iG/bll6rKamXmXFyuQFmW97jY1tPRj97yb3/DF/cGsiz/55843n3Rd/Xt+rlLFRYbLpOhQT/b10WfPhLe9U6gs5k6/0MmJdzS53juI8tt6xASVy+oEBe53z088Le3WW/IePVSAKD6nK6tB60PbC760R3OV/bSLr92RZ129WwA8B9qFh8Yl9EnOW9x3siTz8Pen+5teVMydgCA2At7ymAp1tvpNZQbdCU6ABAcWLHYpeGGYQAABIxVRibMCP+62OM+Jefc+vZI1Hv5FeVH/nSEYzlzrVkIRu37uC88HOdNOB4mwrS82dLyZouhwjDv/nlCQGnByoI5d8858fgJaW2A8FCPIFgoQcp05qhn9OWpPNe9onwuNhoOD/bEBCtWR0BuGemdsVQk6ha9fhHEPG9N7NvQ4Q95dhLvQGigM+K0y01W4au2dNZFJFg88McD22xkZb6sKocowhCc4qIBzt1PjfaOCYQU55YBABtZaSMrAYDhqQ89/xKMYc5/OLC1UrEohyhGAA1ynobgrn6qNYeQ/vHbI8dziRI9noMjBSxPh7lAa/hIV/Q0y49xBSRZDQAYmt/2mm/8iplkaDsb/f33J++eiEnjkIlxvLAr2uMw3bBKUW4THrpo77DztX2ebccAwP7Eu66tB3G9OtzSh2Co6doVqvpS8YpC2uH1bD8e+5qIUcEaXYPyblvcJx8jMVw+UVclPVxNLkGwMBkmyERMsMKucNAeVFlVphpTxBUBAI7h3K3u2LFTcs6C671sU5ncIM9fkd+zu6f0spG/48Tjwbi4W90fPfzRnM/OWfjlhQBQeXVlXMEKiUZwcrNNLFgxB1Z4qAcAQkPdRlgGI4KFgKi7HuthhYd6xHa5KY/QGM59471tJ2NFExCyd8UES2UrQxB0gk5ZpsED30c191EJX9EUH3nP/bjUGg8PM3TIv1Vi3O55WmLpjJzqjJySGMeTZLVPBr6Pz/o+PovKSUynZP1hLjTGEUYNuKgBFwDwDNv7qxcKvnszYRoZetNDnu6fPZdMdppRh7Q6b8SBP3RiKGYUIwQcTDlCj0mTrzGUGxAUYaOsu2VUkoRRobHSqCnUAICnwyMEIghM1Tk3vzrS0AWpKl5XDACUn+rZLfVkJ8npZ08LkRBqq1qIjZAg9rtLIhtUthEVDg/1AkDIPiJtmEwhN44MFQEAV6gJ1cj9lkRgqfJHfgEAaL9H4qpPRCwLFQCgBIkpVKLCLFmShYtQ9KBHolYSwq39bV/+U88vnrf//Z2enz/f+pU/R7viP8ISRnsfMSGQG0cmnsQgKFJ/T73UOhUIgqXMUZpqTAAwfHaYO+eKA4DhM8Mll5boS/Xjx4MwdedsP2r3dnl1xbrCVYXGSqPapgaA9vfbxeKYEhiJIRgCAFSAiu939wyz0TAmUwCAwpwfsyMYLuo39QJA1GXnGBrFCRDCR10j3Xixx13cXwMApci3RWgM9Q/+VlSYLLhCLZawLFmmFi5C+w80Sa2TMdrDis2+VVxZQajGRHDhCnzVD1fZlsSZzzp/XM0u4AHF0IIVBSAaDwoIX3WluhGP+1jBmsJzFjpZhIqYdfsswTLxeLD+nvrZd8yOdfHE4Ap8xXdXCB2r/oP90uIR+LCjV/gUc0UBgNJajGCY8FmowHNcxDHiEhaHj8rHCNaYHtaUdI6EScwsn04st6+vffVHwkLljGK0h9X8RvPsu2ZjJKbJ11z3wnVtW9sCAwGUQA3lhuL1xTKtzHHKwUSZ8YvyBEg1SWpIQkWQapJUk7pSnWDHFXjJhhI6SNNBmgpQdJCm/BQdomMH0iHa1+PTFmnzl+fDOMFyNjp5jieUhBA+KhGs8zxnMTHXe+nGUgDwdnqHTw9LK4nQFmkrrqxY9OAif6/f1eIKDASYMIPJMG2B1rrQSmpIAGAiTKJ1jgAQHuxRF1QCAKkZXaATc2BRXicTDgqfg/YuZV4JAChF4aOKczLHhAO0f3QQDQCYXCn+miXLJ4ZRwQrag7t+uGvNT9ZgJKa0KOd8do6oGvQf7N/x8I7qG6oTPfxbntkSt7sh18sv+fklYkvf/r4PHvxAbHE2OrVFWpRAQRTTIMCEGU+7x1BhQAmU53ixewvO+5zFxFzvwmnEdeGLiS3W0RRoNAWasYUAAEF7cOf3d45fFx1D3C2SmayhgU4AEIQJAIIDHbHS0EAnzF8LAHJTbkzaRkeO45YQIuhIHw0A6IDH35VyxxsAmHBAasqSJQlQBYkb1ChJJFqIIxDpsEtNSTBmBq1re9cbbW/U3VqXtzhPlasCHiKeiLPR2fF+R8cHHTCu+zNVOJucgrc7OBQcnx3UcdohpEbwdnmZiHQeYQrPORb1nkz41f5f7e/d15u/LN9YZVTnqUk1iRIoG2Uj7oir2dWzu6f9/XY2OpELTJgEFJDHBCu3SLCE+kWCZe889xFR5BQGeltQnIjFpkscWADARka6ZgBA+z29H/5HVJgly3Sh3zDfeOUSeYl10lgiADhz7Y+lpiSQTvl7u7wf//JjiTGG/Yj9n0v+KbUCAMD5bO/c8HRDw9MNUus59v1s376f7ZNaRaR9zhJiK7X6D/RPGn7FsVz3ju7uHVKxSB7K52LCAWGRs9xoBQBCY4iteQ4OdMZq0gEv7fcQGj0AKHILA70tMkNObIXg+B4WEx4VffzcTGKWLNOK7cFr9OvnSa1TjVSwPs1UXTMSzTyxu30KCQ/1CnkUZMZcAFDmFAp2lopEXGM6zEF7p14zDwCU1iI4V19gfA8rKjqW1BpxhSrmDstysYOp5BVPPBRq6Oz56bNiu2ZZTcH/u3nwiXddbx0QLPrLFho2LZIVmnmaDTX2DD+/I9wyMnsDAOrFVbpL5irKbbhJw0XoSFv/8As7Q2fGtCVURli/cKVmaS2qIOlBt3vrIff7h+Ou29Esq4mpFdXvinQNCsuhp5ysYI0g08lKLi0BgIgn0r1TKgHTRGiwWxAsuSEHABQ5I26p0ECnJItaaKBTXzkPAJQ5RQAQW/dH+93jnU2BnjEOOHVRjafpiNiS5eKFDUZ8u07pN8wncvT0kCdm162bx7Ocd9dIkKr1c1cYNi8OHG727T6FKmS6dXOLf35P938/HTrdJVQwXbMC0yr9BxrpYS9h1uo3LCj8r9vav/aX2NJlAMj7yjXAcZ73DvMMq7uk3vqFK3mG8Xx4PFYhhmHDAuFD/5/f9Gw7GlfUpoSsYI1Qf3e9kA25+dXmtMOvUiXmxiLUegTDFDkjkQpBkQNLIGQfaWeERo/JVaRuJCBWEtAwYhzqYUL+2FpC87zVWcH6JOF6+4B+4wLDpoVDT38oWHCdSr2wMnComfWFAEBZW2TYvNj1+seD/3xfqODeerD8rw/m3nd5x0OPCpaenz7LRUbXDIZb+vO/eYNqXrmwkkaAo+iu7z0pZH1xv3+k4rGv6y6dH1ew5OV5AODdecrzwVFp2ZSSFSwAgJJLS+purQMAyk81/DuhN23KGXU/IQihMcjPRZCGRFOEAmFHL88yQmJluckqS+xxBwDgecfRj/JWbRG+KXOLzPPWDB/fNbZSloQsWvBFrXZkeJ4SZxtfGrBP7xMLANGuodDpLv2GBY7ndgj7j2ovqUcw1PvRcaGCsJbY/d7h2CGMNxhu7lXNLcO0SkHUxGoFAJHWPgAgLHqx0f32gViOKtYXovqGydzYkq8xCFkZgg2d0oKp5lMqWDlzcyqvrox4IrgMN1Ybc+eNjLAO/OaAkNlmZqCDPjroE1bYKHMKhQ88x42XIZ5lw0O9QtCD3JRH6kyCfbzHXcB5cp95/iWxtTt5q7bwHJvMemZSb1bllbrPHpIWZMkk3FsP5n/7Ru2KOmEMqF8/j/EGYzsACsnRy//yVfEhArhOJQgWmWc0bF6sqC0iTFpUIUNJHABg7DIyqt8l/spTDELEVwwuGIlJ4bQS/5//xKPKVVVuqZQYj//9+KTRDFNOeLCbKJsNANqykSCyyHA/R8cRzeBApyBYqvwyYU0PAC+OjRDDMVTX1n+WX/9lIW4eQdH8S27QVy0YPr4z0NMiWV1IqLQyk1WdX6EuqlLmFoXsXVnBynD8Bxppp8+webF31yl5hU1WlON64+NYeikhAMr+93dAtMpNgHH7AUBRVVD0k7u4QMS19UC0c5ANhDGdqvB7t0oqS3phExDtdyq1SjLPKC2YalIQLEyj0CypkRVaUKVsgpCwgT+/ITVlHmFn2NftU1qUmAyLeqOOBsfZ/5xNvIxmGgkN9mjLZgNAbI8ccciomFg0lu6ctEXdjrgbWAiEBjp7tj1fuPFWBB0JgFDZSlW2UgCeDvqFWC2UkOEKFUrIxhw5CQhKkhipwGRylJQLH2LhYwL6qvl0wM1GIywV4aJhloqyVJijKHFKiXFM089+MuFZzvPeEctt62RFFt0l9QAgzs1CDThV9aWhho5od/wgROOWZaiM6Hr4idg+gGM2tkkd357TyppC/bq5zjc+hniLZ6eKZAVLf+m83AeuSCZL/EUhWPYj9lc+84rUeiGIdZFiSwjFIaNihMhSENdMMB6M4Wk6QvvdxVd8NuaABwAAhFBpY6PFlMhZdKl1+RUTvK4E8lZdLTUBAM8PHvpgcP+7Uvu0/ewnG8/7R8w3rtGtqdcur4u0DYizHfh2njJsWmS+cU3fb18WizkqJ4VOk9CEhL1qBPSXzo99TgP3u4f16+fJy6y2r1wz8Le3kkkUkx5JCZaipjDvy1tG2hPPM+7AaOczy/kxXnQS9bDooI/2u0WJrqRpkeMS7G9v+vevLfPXmuauiiWATwTPc/7ORufJPdKCcyAYPqmsJARBUCx+e5umn02bs02vyOV6glCShIoglITo/yShwnGFeF+PCwXjDfr2ndZdOh/Xq4ZfHnPLQme7na/tM127grAag0da2FCUMGmUs0oi7QMDf3kTAAJHWzTLavK/faP3oxOonNQsrUEV5Pn0jHiG7frhvwq/f6t+/Vz13DLPzpPhpl7G5ZfsPygm2j2qsMmT1J02bVkOCMKFKfvft/p2NwgTE1mmBDYSpHwuUjsy+Kf9bjrgHVtllOBAl14kWOM3nogLGwnaP97qOLJdXVStLqxU5hbhCjWmUCIoxtEUGw1HPY6oazDY1x7olbq3Pp0Eg4PB4MhYKR5IYcGKyoorpeYZx/32Qd3aep5hfefCr2IMPfVBuLnXeMUS49XLEAJn3P5wS593xwmh1PPBUUwl129alPelq1lfyPfxWcczHxb//N6xv5ECxT++U1ZgwU0aAMBNGvP1K6U1xpHe0pykXmuVTzyEGzXiINosWT7N5NuWVlddI7XOVFhDDFmBueyRL/v2nen73xelZTNL3Ws/kpomIz3BSqqHhelUABA8PtMzaFmyZJkA7arZAOBNIhX6dOPaOkPTykkJ1kiQRTDhhFSWLFkm5qHvqHfvoA4djB8osGmzHADeeyeFRwxVyvSbFkZ7hwNHJ0mFNAPYH9sqNU0PSQlWtGtIOadEVmiZpgWNWbJ84vnyV9WhoD+RYG3cJJs3n0hGsBASN16xhOd53Zp6XKfu/8Nrn6qgjqQmO9zbjgKA6dqVybm8smTJkho+L59nG4lWmRiUwI3XLM+5fT2Co73/+8KnzVGTVA/Lt+uUem6Zbv28gu/cPPTU+5TdLa2RJUuW80CtQdjkQpfYYKTlnv+TWj81JCVYqrllkXa7elFIs6xGs6yGGnBRdhcfiR9h0fvrF6SmLFk+rchko6MSDEPEXwUIApYsIzdfKW9rTU6xLn6UtYUISQRPtEsLkiApwSr67zvFX8k84wwsGsqS5RPAmdbRVIsPfVv90Lfj7Hsg8Nc/fVqSLBZ+9xZMq5zGsIbYgqMsWbKkxFWbhletlq1eK1u5mnQ5OY9HukQkEuG7u9hn/x3auzu+P/6TB6pMae3qGJISrI5v/E1qypIlSxKcPcOcPcP8/dHgsdM5T/w9+Lc/f1q6UYlACAzBk5peiEtSs4RZsmQ5T86e/rS4qCYGVaTfvYIke1iZj0JhMpuqtdpClTJHJtNimAxBUJaNUlQwFB72+/tc7lafrzu2L87MoFSY9PoyrbZQqTDJFUYck2EYyfMcy9I0HQiHXYGg3evtcns6WDYqPXg6IUmNXl+i1xYrlGaFwkTgCgwjEQRlWYphwuGwKxRyeLydbk87RV2wyLvMvKdp8+y/Qx63dDw4tcxMe0MwlMjVU3Z3eoulsfMYD0KSawklIDiGGzWYUsaGo4zTPx1roU3Gqrn1d0uMu/b8hGEkkXVITs7sooJVySS0jUQ8/QOHenr3nc/dSgYcl9vyFlut89Uqq7QsHhzHOJ2NvX373Z505k2SB0Wx3Nx5ebkL9PqSZG49z/MeT3v/wOEhxymeP9+H7aK+pxIyZC2hwAy3t+L/+axqTon/UHPPz56LGWuefVhUZUIQBFWQMK1rCWOoF1QYr16mrCtGhISqADzNhBp73FsP+fefHVt36lGr8zye0dQrKlVuTfV1Ou2YHG8TIJfry0o3FuQvb23bah88Li2eClAULypcXVS4GscnSeQiBkVxi2W2xTLb6+1qbnnTH5j6PIIIgtjylpQUr5PJUkiDhSCIwVBuMJSXhi5t63jf4WiQ1jhvMv+eZjIXpL0pqwsAQD23TGw8Hz96SiQrWAiO5X15i5DbcIydwFVzSlVzSv0Hm/p/+/IE6W/OH3Hjzs2pr6m+AcMmTygogSTVdbU3GY1VjU2vcNxUuhW0moLa2s+olDnSgqTR6YoXLfxSV/fOjs5tUzjSUSrNtTWfSV4FxqNUmufMus0xfLqx6TWankq3cYbf0+lAqULmzSeseRjPw6CdPXmcDgTSudcXqr159zToL5nr3RPn7RXtHZ50vIXgmKzALLUmTbKClffVa3Rr5gAA1ecMHG2hBlxchELlJGkzqRdUkDaTZkm17aEben/xvPTIqUOjzhM+2GxLaqquHVOWItbceTJSc7LhaZadmrlka+78murrUDTZv2ciEAQtKV6n1RScOv3MlJybyVg1q+6WlN7AibCYZ2nU+Scb/hUI2KVl6ZLJ93TKkcmQh76jvv1OpUIxOh6PRvkX/xP+9S/8wVRk6wK2t/4/vt7/yOtxFzB2//jftCNhNjcBIldf+ejXpNakSeqCVfPLdWvmAM/bH906fuvXwSfBcPli6wObNUuq1YurAoeaxxRPHWpVHgBYLLOqK+O4D1LFYCifXXfryYanz987U1S4qqL8Cqn1PDAaK+fW333i5FPn6ZrJzamvq71pCtNjyuX6hfM/f/zkP7zeyZOdJkPG3tMphySRp541LF5CDg1xH34QHRpkEQRycrEly8g77lLOm0/c+hlXKBRPBsZx4dtbgtNk/ZPvmsOFkvsnEpCUYBkuWwgArrcOiHc6G4UH9zuHSKvRuGWZfv18iWCpLEVBR+LGjSC2RVf0H3pbao+HSpWjVJprq29AxqXT5TjG4+2MhF0UHaLpIIpiBKFWq616XckEbyGTqbq8bFNr2zvSglSw5S2euPVwHOP1doXCwzQdoukQjssIQiWX6fX60gk6Pnpdyey6W042/Cv5vroEs7luMrXiAwG7PzAQibiFlophMrncoFZZ1eq88X9kAQyTzZ1zz7ETj/v9o/uep01m3tPp4P7PKxcvIR/5feCRPwTEywYxHL7yoPrBb6gf+ILqD7+dfE42Y9sbTzFcguV6YmZCsBTVhQDg3XlSWiDCu/OEccsyRfXIZusxKq74Ytt7fw/Y48xHYDJF6bo7tQU1SQoWiuKLFnwZx8e49zyejq7unW5PB8fF+WNhGGm1LigtXkeS4l0YRiksWDU8fNbj7ZQWJIdOV1RdtUVqPce5c2uP61hBEFSnLSouvsRkrJKWAQCAyVRdWnJpe8c2aUESqJQ5s2pvTKRWFBXo7tltHzyWKGqBIFTW3HlFhatkMp20DADHZfWz7zx05E+JDk+eDLyn08Q11yuOH6N//3/SvxjLwB9+G1i9Vnb1NfJJBStj2xvt8CaZe4pnOS5KJ7OdTVySEixMowAAZnh0j43x0MM+OLcB7Bg4ruLyz7V98KS/b0zPS2G0lW28R6YxuduPi+0TI27ZDBNpbHplaMKpK5al+vr2Dw4eq6250WKukxYDIAhSXX3twUN/TGMQgePy2XW3IUicsF2aDp4++4LLNVFmNZ7nPN5Oz8l/Ggzls+tuIwiFtAZAcdEljuGzqfZlEASbPetWDIs/cdPXf7C1bevEDguaDvb07u3rP1BWellR4crxMRAymXZW3S3Hjj+RcHiQNBl1T6ePoiLs+WcT5ss/dYK+9Y44DUBMxrY3AGh54PdSU2K4UDRtwYr/BpYg9OJQdcL+JABgagUAcGFpf6/57T+zdLTisvt1RaNty1C+oHrLg6Ta0HfgzY7t/xJVTxaGiR4/+Y+JW3YMhok2nH5mcCh+D1GlzMmzLpRak6C8bFPcKIFQyHH46F8nbj1i3O62o8cfjUbjvA8QBK2uTPhGTURx0RqVanTNrQi+ueXNpubXJlarGBzHtLZtPXP2xbhPvkFflm9bIrWeB5lwT6ePYIA3GhM+bgYjOqnTPWPbW6o03/fbszf8j9SaHAn/gmKiPQ4AUC+M35MUUC+uAoBox6DEHnb1N7/1JzrsL9twj750LoKiBcuuKV13B8dQre88OnjqI0n9JGk486zPl9SeMQI8z59tfCkQGJAWAABAcdGa8Z2IiVGr82x5cR5XhomeOPVUOOySFkxIMDh05uwLcXsrWm2h2VQjtSaGJDUlxZdIrQAA0NG5vbfvY6l1MuyDx5tb35JaAQCgvGxT3Bd1elzwezqtHD5Erd8gKy2LM6YpLcMv3Sj7eN9Eb5GMbW/pwPFp7xOYlGD59p0BAPNNa+TledIyAABQVOZbbloLAN5dcd54Ua+j+c1HKL+rdP2dNdd8I2f22tBwT+Orv/X3J/tOkDA4dDL590kMjmMam1+Le5MUCpPJKN25fmJKiteN9xMDQGPzK6m2HgG3p72/P34m/8KClVJTYoqL1qBonP6219vd2bVdak2Ovr79juEzUisAjssLC1ZLrWmRCfd0WvnTH4Ikibz0uvErX1MvWEQUFmKFhdiixeRXv65++Q0jisIffzeRDyhj29sMk5RgeT44QvU7MZW85Ff32756jXZFnbzUSuab5GV52lWzbF+7rvgX96JKWaS1X7xfthgq6Gl665Gwa0BhyvcPtDa9+QgV9EgrJU1nV5r9Mp+vZ3g4fkS+NXe+1JQYhcJoMc+SWgH8/r6hIekOccnT3bNbagIAAIOhTKEwSq3xwDDSlrdYagUAgObWN9KeAAKAlta3OC5OTGBhwXIMI6XW1Lng93S6aThFf+ULHgxDvvEt9Yuvmnbss+zYZ/nPK8avf1PNsfC5e93NTXE85QIZ295mnjgd1PHwNNvz02eLfnwXYdHp1s/TrZ8nrQEQ7Rrq+dlzwnpIlIjj7mWj4eY3Hyldd4faVkmqDXRodAjN0VLP1wT4fL0TbnI5CT19H5vjeWpNpmoUxeI+k+PJsy6I+7rr7N4hNaVCKOz0eDr0+lJpASAWc113zx6peRw5ljlx5cPpbPL7U1uBISES8dgHj45XQwyT5ebM7R+I/65Okky4pzPAB+9F1q+mbviMYvFSMteK8jzYB9iP91GvvhTx+SYaImVse5t5khIsAKAGXB0P/c18yyX6S+ej8jGPBOsPu985OPzyHp4aeUXM++wvxBVi8CzDMlGMkM268bti+9HHHxJ/nZhhZ5yxSfJ4PO0U5R8/I47jcq22SLyubQJy4726aTo0HG/clBLDzrPxGhCYjNXJNKDc3LlSEwAA9A/EC6BLkf7+Q+MFCwCs1vnnKViZcE9nBpeT+/ujwb8/mtrypoxtb3FBFSRuUKMkAfFENkakI531EskKFgCwgcjg4+8O/fMDeYWNzNGjCpINRakBV6R9QJJoIjTcK/4qgfK7paZUcLnbpKZU4Hne6WrJsy6QFgDodcXJNG6l0qyQG6RWAJe79XzGXAL+BC5krbYQQZCJfx9FCb2uRGoFYFna6WqSWlPH5++NRDxyuV5i12mLcFzBMAnn7Cflgt/TTCZj29t49BvmG69cIi+xJjPbMRPZGgCAZ9hwY0+4caLZnMbXfis1TRE8zyWaFUoej6cjbuPWJrc82GiokJoAAMDlGhNolh6JQmAwjFQozKGQQ1ogQq8rjhsC7vF2xI0kTAOXq9k2LpQBQVCjoWLIkaYzJRPuaSaTse1Ngu3Ba/TxnEVTS5z2ncmEw67zf/YS5dNIcuF7omcg0csqJRgmwrJ03IwFSoVp4gak0eRLTQAAkFKswMR4/T02kAoWAGi1hWkLVibc0wvOqtXknx41zKuL48jL2PYmRrOsJqZWVL8r0jWYZOB7qlx0guWUmlInFHIA8OODdORyfTI+WrU6fpq09GaXx8OykbgNKO4qGTGJTmxKWrZAwB//p2JJF9IgE+7pBUdvQDUa6ckLJLqtF7y9iTFsGOne9v/5Tc+2o/HiTKaGpMIaJiH+33laiFJ+qSl1OI6JuwgOQVAZqZVax4IgiEppkVoBKCqQ7Er3yRiXgXMEglBJTWNRKsxSEwBMkSIIhCPxf0qlSr8jc8HvaSag1sR/EjO5vYkRIjS9O095PphGtYIke1i4QW2+aa3n/SMSx76sOMd6/2ZFdQFPs769p4ee+oANxrl4ja0yt36d0lSAkvK44nbsH9+RmhIwVdnjotE4k0oAQJDqcGSiOQGCUMddzEWS6vWX/FxqnVIwbJKbFXfdBgBEox6pKV0YJsowkfGL/glCjSBo3BU8k3LB7+n0sflK6R8qEYsWxenjQGa3NzHCIuJgQ6e0YKpJ6py0K2cZLl+kWVLdcv9vY/JJ5BpKfn6vkBoVIXD9xgWyQkvn9/4BY2cWdIV15ZvuA0CA55loMNV5BwlJLoKblERTWuRkb5VEojADxI1fj4EgCEGopVYAnmcZZmpexQI0HRovWAiCyEhNJOqV2JPhgt/T6eNPf9NLTSmSse1NAheMYFol6wtJC6aapARLVV8GAP6DTeLOXu5nN6JKGU8xzjc+xlRyw+WLFDWFutWzvbvGOF+t8zcAQM++l4cb9/Pn7UqYssbNxukJQhI3icCnbOlc6sTtno6AokTc2MJEHf60SfSDGC6DtITxgt/TaeXAfurUSVpqHcecemLpsjHhjQIZ294kRPudSq1yBjaET0qwZEU5ABA81hqzkHlGzbIaAOj/0+u+3Q0AwNOMccty7SqpYCmMNm9Po+PMXrHxgsNz8QcvccMCxExa4UKR6LGccn8zx8ef0Ut0AjNG2vd0Wnnj1cjzz07e77j9TmVcwbqwJ588vj2nlTWF+nVznW98nN72X0kS39UnAdOrAICyjzoC9JfOBwSh+oZ953LR+/aeAQBZ2bgZDZ6n/PE9tReQRN6WRBnvYlzwxzIRic480ZWmTaJuMhrP1TKTJLrSRH+ZmcHlin9WEvz++NUytr1JcL97ONJhlxXn2L5yTWxLrekgqZ8WtpZmveecowho19YDgPv90RkBxukDAFwr9ReEnP0Ko01iTJupanwIGv/p4vn4T2MMHuI3rAtOojNHE1xp2iR65yfqeU3KBb+n08cD97iPHZ18PAgAiTbOycD2Joy3pHBc/x9ftz14jX79XPXcMs/Ok+GmXsbln2AbrWj3kNSUBPEbnwQuFMU0ClQlB28QAFRzywmzlmc5nyiZDEczAIBg0sZnP/5BxaYHcmavGWrYDec94Rl3xiQNEnUHJo1gTFQhELQnStYxVUwcDp7oxBAkqVucPIl0gRMnKk+FC35Pp4/t25L16u3aEV00N84DnOjkL2B7K//jF6WmseAmjfn6lVLrOKZxaU60x6GsK1LOKqb6nQBgunYFAAQONTGe0QlpXKsEAC4idaCyVNjTebJg2bWW2pX+gTYmEhg/phg4+p7EkggcjzPOT4Px81wCkzqAE1Vg6HAaufGmEJalOY4d35/CcRkAcv6vihiJ3MCJfN6TcsHvaSbAMOCON3hMdPIXvL1dKJISLP/BRmVdUc5dGzCVXF6Wp5pbBgDO1/aJ6wgdRcbtFxsBoHrL14QPMp1FposTAgepCVb8pyVV8AR5MqnJYoKoBFGOBCkdC884PEX5x69MRhAUx+WJpvzTgCCUUhMAz/Nx4zaT4YLf00wmA9uba+v09uwmJinB8rx3xLh5CZGrz/nsRsHi23Uq3NQrrqOsLwOAyLgUyZ07npFYzgeSjBNqlAbyBMsO6MmeukgkfqjRBQz2iRGJxkmlAAByuT4QmBrBIghF3L0tKMqfyOc9KRf8nmYyGdje7I9tlZpmkKQEi4tQXT96yvrAFcrZJVwg4t150vGfHeIKCIZql9cCQOBws9gOAK7WIxLL+SCX6aWm1MFxWdy3Osexky4T4Tg6GvWND+cjCCWOyxPFKM0MoeBQ3PQySoUpkT8iVRRyk9QEACNL+dLkgt/TTCaT29sFISnBAgB60NPz02el1hgY2vOz5wAg0j41D0YiFIr4D0xKqJS5UhMAAIQjzmS6Cf5A//gGBIDotEXOqcj4kTaJFjmr1bYkt6KZFI0m/oRvIDhmzVZKZMI9zWQytr1dEKSTeunBU0y4uTfc3MszUof6ZCAImsI54Lg87qgnJdQJnrpQMM40zXh8vjFj4Rg6XbHUNLN4fd1SEwAA6HRFUlO6aLWFUhMAAPj88f8myZAJ9zSTydj2dkFIQSymA11h7fx7fyO1ToguQXqg5DHoSqUmAEj8wEtIlDjNeKH3aAkEBuL6aHXa4riJ3tPAaIh7jbz7/FKGXvB7mslkbHu7IFxgwULJ+FPRE2AwlEtNqYAgmNFYIbUCAIDH2yU1xcPn74urC1pNgVZTILXOLMPOJqkJAEWxuDskp4peVxJvbAJ+/0DaU4QCF/yeZjKZ3N5i5Ny1IeeuDbh+8qkAZW2R8eplyllpdg8vsGBhqQuWxVx3PrHRJmNlXO8sTQcTpYsdB28fPCG1AQBAQcEKqWlmsQ8ek5oAACDu5hGpkuhHBoeOS00pkgH3NJPJ3PYWw3z9SvP1K7FxC13Go6gptN63SYjlTIOknO7ysjwEx8ItfZLUMYkwVS/lWUaYHzTXTnRmWluV1DQZBKGyWGalvR1bQf5yqQkAAIaHG5P3zvb1HygqXAnjlrPn5tT39n08hSmJU8Xj6QiFhpVKs8Su15fqdSUeb6fEnjwKuSHuljw8z9oHj0utKZIJ9zSTydj2lgZCqKasKH5I5qQkJVim61dqV84KHGmZaKJQROGKG3huRLCKVn5GWnzelBSvczhOp9EW9frSRCP/gcGjUlNiwmHnkON0jmW2xI4g6Kzamw8deWRqU1ClRFf3jtqaOH/zqsqrDx35cxp/NIHKyqvjdoIG7EfPczwocMHvaSaTye0tVbhwFCDOouMkSUqwFJX5ABA81SEtSEDfgTfEX73dpwMD7WJLDHVeua4oZfeKWmUtLlqb6l7BGEZUV10jtQIAQDA4mOpmUO0d78cdyCgUxll1tzacfjbRoorpxj54vLjokvGdLLU6r6J8c0vr2xJ7MhTkLzebaqRWAJ5nu7p2SK1pkQn3NJPJ2PaWKkJUACojpAXJIb3+uOAGNQBEk9740HFmj+PMnthXT1fD4KmP4v7n7TkjOi4FSks25FjmSK2JQRC0rubGRHuopLGDbig03N2zS2oFAACTsWrh/M+nlMM/LjiuyM9ftmjhl8Y30wngea6p5XWpFQAACgtWFhddIrVOhjV3XmXFlVIrAAB09+yewuzDF/yeZjIZ295SRVGVDwBxc6knQ1I9LC5CYwTOBtL8N5hIwsVcLJXmbyIIMqvuZkWHsbtn16Rpl3FcXld7U9w+AgAEAgODgyel1iTo6PzQZKxWx9swRq3OW7r4az29e3p696UajiyX6QyGcpOp2myqTZTLZWLc7rb+gfi7NJeXXaZSWZpb3kzmrFAULyvdWFS4arz3BABCYWdH53ap9TzIhHuayWRse0sSBEM1K+qMVy6F84gwT+r8or0OZW0RYdam8c80vva7qDdh8B5LhdNwWwggCFpetsmaO6+re6dj+DTL0tIaABhGWHMXlJasj7s9AQDwPNfY9Gp6yQw4jj3Z8O9FC74YdzUcjstLSzYUFqxyOE67PW1uT3s06pNWAgBA5HKdUmFWKi1qVa7eUK6cisjv5pY3Ner8uIHp1tz5JmN1T+/eAfuRBKcEBKHIzZlXVLg6UUgny9INDc8kSn6SNhf8niYDgqCJHmwUJZB0N+OYlIxqb4bLFlhuWy8xlvzsbp5NeO24VgnoyJvP8+HxMWVJE+fNOR79pfPyvnKNd/vx/kfijzWmHJOxam793RIjz7MtrW9XVW6R2AGA4xifrycYHIxEfRxHIQhGkmq1yqrXl0ycs7Gj88OOzg+l1lTQaPLnz70vUW4TMSxL0XSIZkIsS2EYiWMyDCNxXJGo9cf4aOf303gG5DLdgvmfT6Q4AADAB4NDfn9/OOJi2SjP8xgmk8t1anWeRm2bYFzA81zDmecdKS73yfx7ajCU47gcx2Q4LsdxOYbJcVyG43Ick5+zyHBcPmkULsvSLBsRdhhi2AjLRBg2yjARhomO2NkIw0T8/v40dgzKkPamXV6b9+UtmHry0xiPZ/uJ/j++JrUmxySnLuDZfly9uFp3yVzfvjOBIy3S4pkCQbAB+1GZTDveEYOiuF5fqtfHD3dOhMNx+vwHNX5/37Hjj8+tvzvue08MhpEYRspBLy2YHiJR77ETjy+Y97m40Z4AAICoVLkqVfxVeIngef5s40upqlUiMueeIgg6f+59UmtaYBiBYUSiDmCMhtPPprHGM0Pam+/js779jYoKm2pemXp+hbKuCADoYV/CxXk8z0Vpqm/Yu6vBf6BRWpo0SQkW8ND3vy/m3nd54fdu9Ww76tt7mrK7eSr+cIDxTMEkdyJIUt3W/j6GyRKF3iSP09V8+uwLUzJw8Af6Dx/96+y6W7XaTIk8FgiHXYeP/rV+9p1xx4ZpwDDR02efd8aLp0+bzLynmUymtDeeD7f0hVv6hl/eU/v89xAS7/7JM+klPk6epASr4Lu34EYNYdAAiugvW6i/bKG0hoiz1/1Yapo6CEIVDruaW96MRv1lpRsmGLZMTP/A4abm16cw23ck4j5y7NGS4nXFRWsm7XKnRFw/TvJEo96jxx+tKL8i37YkSQ9AIny+njONL4ZCw9KC8yNj72kmk1ntjeMjXYNC8NN0k9SlapZUS02pMIU7P8fSXXZ17/B6O6urrkl1RENR/pbWtweHpn4KiefZjs5tdvuR0tKNuTlzzj9Vuc/X228/PDh4YlKHwsSwLN3U/Prg0MmK8s3prT6LRn2d3Tv6+w9MOnmXBpl8TzOZjGpvkY5MEqyBv7wpNSXN1O78TOAjjRsAPN7Og4cfsebOLyxYEXeuV0Ik4u7rP9jb9/G0htiFI+4zZ19oa3/XlrcoxzIn1WePZSmPt9PtbnU6m4Ohqexdezwdh4/8xWSqzs9bYjJVJ9eR4T3eLrv9mH3w2JRPCMbI/HuayWRIews39WgWVvLstHdv4/Z4ppLqLQ+qcop79r2S0s7PcWeUAKC55Y3evv1SK4BKlWsyVmq1hUqFRSbTYhiJICjLUhQdDIUcfn+fy93i8/Wcp1ymgUJu0OmKtZoChdKskBsIQolhJILgHMewbJRlKYaNRMLuUNgRCg0HQw6/v38GBjUEodDry/S6UpUqR6EwEbgCw0ie5zmOoulwOOIKhYa9vi6PpyPB1Hg6fGLuaSaTme1tCkmqh3U+TO3Oz4n6BcHgYDA4KLVmAOGIOxxxn//y4KmFpsMOx2mH47S04EJw0d3TmUe9cqnp9s+ILdHObvuvHxFbBGLtbdwhZLRzOO4hFxfTLlgwxTs/T3uXMMuMk72nk8A4XZHmNlSlxNQqTKOGJJL0pnHIRcG0C9bU7vwssOCm/xluP9x9+HUA0OfXVq2/39vf1PThYwAgUxvnXvdfrbuecnWd1BfMMpctUpkKSKWOZaiQs6fv5Af+oXYAwEjF/Bt+6Btsa97+uPiXDUVzKtfe3X3oNXvjbrE9y6cK/TVX6Dat6/7G9/loRmRBiDS2RBpH4h9zvnK/om7ySbA0DrkomHbdtR//QG0tzZm9ZgpfpEFnj9IwIoKanDKWCqstxcLvK435ABAc7gGAvLq1Cn2uu6eh5+hbw60HVeaiqvX3kSo9ALBU2NlxVG+rkamNsZ8FAHP5Yp5jhzuOio1ZPm0oauPnq8mSDLhJo7ukPue2ddbPXZH3xatkhWmmvopLKj0sFNGtmaNdPUdeasXUCgRDm+78FReKAgBC4GSeEYCPdjsAIG/BpthBPMf6+1qmaudngaCzJ6dqJMhQnVPqaDtkrV2j0OeGPXalwcZEAtGgGwCatz/BivIEBZ095avv0OVVO1oPAMBg4x5L5bKcyuU9x0YyrhBytT6/1tNzmommvGAiyycGVKUkC2dihv6TB25QW++7XLuiLrZmEAD8BxqjPQ7hs3pBhWHTIp5h+373SsKY+AlJVrBwvarg4VsU1WOieBAkdlp88c/uwdTyzu8+GW7sEQtWjCnZ+Vkg6OzBZRtIpY6OBFSmwr4T7xlL5qktJWGPXWXMDzhHEjCK1QoAAs5uAJCpDMLXkGfAP9huqVjSe+JdQUNNZYsQBB1uOyQ+KsunDcWsGhht2FmShcw3lfz0biEVVSKi3UOapdUA4N19yr8/nQU6SQkWgqGF/3WbvMIGAKwvRPU7FTWF4go8zQaONOvW1mtX1IUbe6Z2t+fxBIe7AUBpsDF0BMWwkKs3ONytsZQ4WvYrDfmOtoNCNbnGnFO9UpNTSip1GCFHMBwAxG1xsGlPxZq7jMVznR1HAcBSvpiOBDx9Z2MVsmQICI4r5s5SzqkjSwpxvR4wlA9HaPtQ6ORp/66PeSphEBZC4OplixRz6sjCfFSl5BmW8weYYWe4sSV05Djj8pyrRuguX08W2IgCG27QC8ai3/303M+M0P217/L0aDxa3ve+QRbYQsdOOf7+L1GtEfJ/+j3caAjsO+j894tie9rXMn1YHrhTOb+ecbn7fvCLuGnQcYM+/6ffAwRxv7bV9/5H0mIAhMCKfnD7SOK8rqHA0RZ62Gd9YLOkGj3si3Y7ZEUW9YLKaRQs/Yb58gobz7D2v73l2X4CeL721R9J6oTPduvW1gtCNrW7PY+HCvvosE+hy+UBwt4hhgoHHJ2W8iU4qSBVekHO1Obimo1fYKjwYOOekKefjYZwuaZq3b3i33F3n6JC3tyqFc6OoypToUJvtZ/ZmUaYb5bpBUFsP/gWbhmTBQVRq2QVpbKKUvWKJfbf/oULxBnFy0qKzA/cGRMgAEBwHJXLcItJXlsVbe+MCRYql2kvXSN85hkWwTEAiKMdcZ7lFEn3WqYV/859yvn1uNGgmFUdboijI6qlCwFBgOOCB+I/2obLFpJWAwDYn3jP9eZIVN14wQKAcEufrMiiKJ88KjguSQmWdvUcAHC+sneCLDbRficAkHljfNjTR8DZI9daUJwMDHUAQMDRVbjgSrWlBACCzh4AsNatQXGy+d1HQu5+4RBNbvno8QAAwPPcUPPHBfMuV+it5rKFAJAdD2YiPB86eVo5f07oyIlwYwszOMSzHGExazdeophTS1hz9FdsdL3wmuQgIi8392ufQ2Qy4LjgkROhEw2M043gGG40yKsrcYsp2tYZq8z6A91f/y/hs3bDWsP1VwFAz//7ydTPEqZ1LdNNpLmNHhgk8nI1q5fHF6xlCwEgfKaZ9cYPJNYsrwUA/6HmmFolghp0AwCRO+KZSZWkBEtWnAMA/kNN0gIRXCACAJgynfw4aRAc7tHlVeJy9UDDdgAIOnt4jjMU10eDbjoSAABhaRUV8sYOsZTHycDpaPk4f84GU+kCQ/HcoLM35Ek5Q2GWGcDz5rvuV94Sj1ZYry/S3pn3na+SRQWK+lkw7iE33XaDoFZDf3kyfGa06UbbOoOHjokqzjRpXMsM4N+1z3jzdYpZNZhex3pGnxoAkJUVEzkWAAjsT/g6lxflAEAyeWO4YAQAUMUkOcUSkVRYA6qQAQDjjC+uAkIvmqOkS71ti65QW8skxhj6knp9Sb3UmgRBZ7fCYJNrLf6hDgDgWDrk7jcUzBICGgBAcEVVrLnLXL44t3pl9YbPy3U544d7dCTg6jphqVhCKrTZ7lXGwlN0HN8Kx4UbzgIAbtBJ3ORkfp6svBQAfNt3i9UqE0j1WmaG4IEjXCQKKKpZuVRSpFq6CAC4YCh8MuEODKhKDgCsd/LBLIKhACB2BaZEUoLF+kIAQOTopQUiyAIzANDDUlGzztugzi2VGGPoS2bnL75Sak2CoLMXJxV0JBANjITRBxyduEwVdHYLXx2tB3qOviVTGUqX3Zg3Z0PEO9S07dGwxz76E+ewN+0h5BqeY52d2fCriwzW6wcAQBDhfRlDVlUhfAjsPyy2ZzKJrmVm4CLR4MGjAKBeuUQcFo/guGrRXAAIHjrGMwlVRpAITDu6jj0RhNUIAIwrIC1IjqSGhOGmXs2yGu2KunBTr7TsHPpL5wNA6HSntGBCmGiYUOml1iRgosGDT39TbOk69FrXodfEloHTHw2cHjOj0fDW/4m/CnB0FADcPaeZaEhaliVjwE0G5fx6WWkRbjGjKiVKkghJIHj8BkyYjQAAHEcPDErLMoCUrmXG8O/cq1mzHNPrlLNrQydH1pkq585CFQqYTPojXYNqg1q9oHICNzcAIBgq5KoKNY50LFIlqb+RZ/sxzbIaw5VLI+12786TklIEQ3Pu2qicVQw8eN6d6KrGgxHy8cO0GcZYMg8Ahs8FQ2TJOFDUcP2V2ktWCW9+nmFZt4fxOTmKxjRqwhpnmy9EIQcALhqNM/i6sKR+LTMGPTAYaWmXV5ap1yyPCZZq2SIAoPsHqO6EnRUA8O87o55Xrl1Rq1lc5T/ULC0+R84d6wmzFgC8u05Jy5IjKcEKHGr272/ULKuxff064zXLQ2e6BLth82LcqFEvrhZOwvX2gUjnyAsNFYKeRr6gY74CAACC4uq8MkPZ3IjnQr4DMUKeU7k87B309E3uL8xyQTBsuVy7fg0AhI6f8r2/I9rdC9zIS067frXhM1vG1AYAAD5KAQBCpunZnRLQeP96Gtcyk/h37ZNXlilqq3CTgXG6Ma1GUVsFAIF9k3REPB8eN12zgsw3FX73Fvd7hz0fHo+ItjFFMFRRVWC6doUQNRo81Rk83j56cCpIdSQRfb972fa167Qr6uSlVnmpVTBabl8fq+DZdmzon+/Hvs6759exz7aFm20L40RkCNiPfyg1TT8oRuRWr+QBzKULCIW6fd9zUxFjk2XqQXBcs3YFAESa2xyP/UtaGk8UAIBxuQEAwTAi10IPjqwLmXqE7hsWxxGMkASqkjp00ruWmSR07BTr9WE6rXr5Es9b76kWzQMUBY4LHprEvcuzXPfPniv95b2YVmnYvNiweTFwIw9U/kM3oHIi5pijHd6+3748emSKJCtYPMX0/e+L3kVVhs2LlXXFqJwYsdNM6HSX6439gWOt4vpnX/mNNr9aW1Ctya9iIoHx7iGeoaM+p6Nxn78vYQdy+kAw3Fp3CUYqov7h1p3/8vZn1kRSlhiYTovIZAAQORvnHslKxqy4iBFtaRM+qBYv8Lz13tjCyTj3pCE4xk8YhsVFowAgDkyNIa8oGz/Zl961zCgcF9hzQHflRtWyhZ6331cumg8AoYazrH9yHznV72z/5mO2r12rml0CALHlhOKtwILH2/t+9wqTxGRiIpIVLIHA4ebA4WYEQ3GDGlXKuDDFuANxFzGGXf1hV//gqY/m3vWzoVM77ScuQDdqAlgqfOyl/5Zas2QegigAAKbXjykAkFeUKebUSYwC0c4eqqePLMzXbrwkfLY52tYhrZEYNjDycJJFBZGzE71N6YFBeUUZmZ9H2Kx0v3gEhOk2XyqqOEJ61zLD+Pfs122+FDcaFLNrBQ0N7ks23Id2eLu+/5SytlC7arayphA3azGFjIvSjMsfOtvt3d0QOj3iTUqb1ARLgGe58eELiQg5+6SmLFmShgsEqd5+ssCmXrEk2tYROnGap2lMr1MtWaC/YiMbDGFqlfQYAABwPvuy9ZtfQgg89+ufD+4/HD51lnF7EJLAdFqyMF8xq8b94uuRljielEhzG3AcoKjplutdL7xG9fQBgqBKBabVRppGMkwJhA4d16xeDiia86V73a+8RXX28CxLFubrNq2TlZVwoTCqVIjrp30tMwnr9YVONCjn1+uvugwA2EAwfDo1927obE/o7Eg45JSTjmClxHDjx2wk/R5gliyuF17LffBzCIGb770dAHiWRTAMAKKd3c6nnrf96DvSAwAAgOrqGfrzk5b7bkfVKvXKpepx8ZDjh2wCrMfrfedD3ZUbcYsp58v3xew8RcWW7whEWtv9H+3RrFuFGw2W++8cLeB510tvyIoLVUsWjBoBIK1rUcyu1V66BpXLUYUckcsEUZMVFRT86kd8JMJFolw4Ejp60r9r3/kcIkZYWijk2AkePDIDW0skz7QLlrstnWUQTlfz9h3fk1o/WZRcea+udLbY0v3BM+6m+ItLLwgyndm2+lplbhEgSMje1b/n9agnfQd22vc02tox8Ms/6i5fL68qx9QqnqKoQUfo8An/zr08yzIuN26MvzAt0tTS98NfqlcuUcyuJWxWVKngKZrzB+jBodDJM9GuhPP0nrffpwbsmtXLycJ8VC7johTr8Ua74vQaXC++Hmnv1KxcShbmowo5GwhGO7r8H+6OtLajm0anpGKkcS242SivrpAYAUUxjRo0I7lcJBMLaRwiJra0EACCH08yPzjDxH/JJEJRVaBdM1tRbsNNWlRGcBGKdvoiLf2+3afCrf3S2gkwl6pX31dRutSsNsmoMOvpCx1/o3f/v0c659WX5M67ujBvlk6bI6fC7MAZz46/NncddcUO3/SturqNtt9t2rb45pJlt5fq85URP33s1e5tfxjtuC76TPGim4otZRqGZnuOuz/6S1PfKU+sNEPIcMFCMLz2zu8Ran3MQgc8Z5/+Oc8mDHfO8okh77tfJwvzqZ6+gV/8Xlo2IaicIMw6VCFDcHRieQmdTSd2NNkeFqZR2L56rXpx1RijVknk6JW1RcYty/wHGgf+9AYbCIsrjKdksemOvyxFUOTU1j5Hm59U4iWLTRgxemErPluuMpCNH9q99rDWqlh4fdHtf1765+t2eO2jv6yxyNZ/pbr+yoLT7/cHnVFrjS7iH32KrvzenCW3ljTvHDz1Tp9Mhc/bUnjfUyufemB/15GRRTxZkkFXOkusVgBAqPXa0lne1hNiY5ZPHoQ1RxgPBj5O1t0OAPr1c41XLZOXWieUqVHOXPtjqSkJkhIshMCLfnzXSPgVz0d7HLTDy0VpVEYQuQZZvhkQ0CytISz6zoefmGBZI4oh1/7PPARBHrtl92BLfLf9M18+SIVGf6G/wfOZXy8oX2E5+sqoHmMEWrkq58/X7qCj0tF10QLjkltL9j3V9t5vzgiWA892fm3r+isenv3XG3eOrZtlIkidWWoCkGlNUlOWTxyCv4+naWF1YTIYr15mvW+T1DoNJCVYxquXCWrlevug86VdjGeMEx03qM03rjFsXiwvsxqvXuZ8ZY+4VEz+HIMhX3noha5EagUAYrUCgL4GDwDobWNmWwBg9xOt49UKAOZcng8Ah18cnT0NuqK9J93lyy0qAxl0j0vJliUVRrK2Zvnkghv1mlVLASCw7xAXmmTAFMN01VIA4CnG+cbH4ZZ+1h/i2WlZcpdU+9OumgUA7ncODT7+jrQMgHEH7I9tBQDD5sXa1bMnECxTsQoAhhKrFQCYilWLby4pmm/U5splagKXoQAgSh4/wnDHSLCMBFOJCgAefCuOv1NplGUFK3mi3mGpCSDiipPuIsvFDm7UAyBCTIbh+qsQmYwLhb3vbJPWS4yQHNn+j/fd76QwikyDpASLzDMBgPv9ifzB7vcOGzYvTibjKMcmXARTUG+4+4nlYR994JmOwWZf2EerjORtjyyR1gNgqPj6jaAIAGz9eQM3TuADjojEMikoTpZcea8gl+7mo64zB6Q1Prn4Ok5TfjepGZ20irqHfJ0ja2KzfJLQXbVJvWxR7CvPssNPPcf6/KIqkxBu61fWFvHj0uFNOUkJlrA+k3FNdAGMOwAwuqwhLu6eIADkVGikBedYflcZIccev2OPvWmkF1ayKDWnibMrWLbU3HFoeKh1orNNElV+uaZwZJ4hNBRnVvsTDM8yba/9JX/1dUprMfC8r+vswN43MyokJ8tUwThdjNuDaTQ8RUXbOr3vbIt2pjaFZ//7O8U/ucty09pI20AsA8J0kJRgRXsciuoCwqgR0nTFhTDrACC2AVlcek96fIORBdcXHXi2w9kVJ5oUw1EA8A2OdoXmX5vaAquTb/cuvql4zecqX/5/R8WZRUglLvGOJUNMrT6dUF5nx1uPS61ZPnF43/7A+/YHUmsqRNrt7d941PrA5rLffyHaPRTtdjCeAE8zE2T3GfpXCkPOGEkJlueDI4rqAu3qORNop279XADwfDhRmCjLcK//6Pitf1zyxZfWnniz19kZIJV4bpWWCjGvfv84ALTsHqy91HrTbxYef7OXVGI166wyFc5N2GuT0H3UtfcfbSvvKTcWqlp2D0UDtCZXUbLINHDW+8Z/pzwf/ykXrCxZkgTBMdM1y9XzygFAVpQjK8qR1hjHdArWh8dV8ypM165gfEHPu4e56JiRKqaSG7csN16xNHCkxfPBJPOgrXsdf79t96r7KmrWWZUGMhpgXN3BA8+NrE098nK3XEssurF4y4/qQ27qzLaBD//YeO9TK8f+xiS8/9szvafcS28tXX5nGUaigeFI7ynPiTdSHtDhSo3clCe1ZsmSZRy5d280XjW6+ImnGDY0YaaLdJHOvsVFOatYVmix3LYe0yi4KB3tHGTcAZ5lURmBm3WyQguCoVyU9rx/BFXKURk+/mf7/u8liSXzMVQvLNp4e+zr0NHtA/veEpWfLxke6Z4lS/JU/fNbuF7FuAP2x98JHGvjpketIMkeVvFP7459RmWEZMP6mN149TKp9RwXo2BpCqulpixZssQDwVEAGPr3h769IwHb00RSgkX1fRoXtaizDqwsWZLD+9EJ49XL0OnfljQpwWr7yp+kpk86cqOVUGml1ixZssRj8J8f8DxYbl4DHOff30hPuIfp+ZCUYH3aQHFCXzlPar0QqPJKNcW1ypxCmd6Cy1UIQXBUlI2GmHAgNNgT7G8P9LYwn7h0YzN81QiGqfMrVXklytxiUmPAZApMpuRYmgn6qIDH13nG23aSDnikh2URoVs3F3ie8QStD2y2PrCZpxjWH+YoeoLAzNYvp9MNknrHP50QKp3cbFOYbQqzTW62yfQWBEGllVKh4e//xUYnWYc13uneufUf3vZTwmdD1YLcxZfJDJNMD3MM5TpzcOjo9rSfqPov/jr5FYIn/vSQ1JQikqvueOtxX+eo12PGrloAl6tMc1aa56zElQmDmZOnZ/sLrjP7pdZPB3Wv/UhqmoxpzNbwSUVlK7Mu2SQ323C5Slp2IWCpCABgcmXxZXdqipJy+aM4aa5fZahZ1P3BM76Oi2/djMJSIAjWzF+1prCqcMNt2YH/lODZNlEA5hTyqRYsmT5HXVAptV44OCqKK9QV139l0i6GBIyUl155b8/2Fy661Y6KnAIAmPmrNs1eUbD2hkRZkrOkSv+f3pCapodPtWBlGhxLl151f6rP7TmQgrU3hB29YcfFtOuH0lKAoNgMX7W2pC5/7fXj1SriGgz0Nkc9w2w0jBIkodKq8kpV+eWT+gd4nqP9HiY8BctXs0zMp1qwmJAv0NcmtQIAAKk1ihMVAAAd8ES9yYZ38Oe2802JvOVXKnOLRr/zvL+nyddxJmjvZMIBNhJECRmh1qlsZcbqxULfRAyC4YWX3tr8/G8k9ok5+6+fYnIVrlDhcpXkg6aoRlp7qiHU+qLLbp/Jq8ZIedGG2yQaRPndvR+96O+Osz0MqTXlr75WWzpLbOR5znlyT9QzHPUOUz4n5XPxXHZZ+EzwqRYsX+cZscdXjHXZFbmLNogt7uajUxvpPh5tyejOdCF7V+/Ol8OOXlE5cAzNhANhR9/wid2G6kWF62+S+MsVZpu6oDLQ2yI2Tgwd9NHBOJPQCIbXf3F0++7pQ18xL/Z5Bq7aMv8STD5mT2bK72558fdMKH7/iPI5O95+smjDrYaaRTEjgqCU3z18ao+o4tSAIUShanauokyNG3GU5HiO4kJ+2umM9tjDrVFWOjeKIliOvCxHXqojc+WYGgWU5qNBxj0U7ugOnmL5Mavo5hk3WxUVYda/y/4UH2+rczmmXmu9GwGk2bev3Z/mogvcoNYur1XUFhFGDaqUcaEo7fSFm3p9+88yzvh/5OT5VAtWxuLtaOh656mJX9rupsNsNFR61f0Su3nOyiQf3UxjJq4aQcxzVklsPdueS6RW5+B7d7ykLqgQJ7m3LrnceWY/R03lGhQFpl1iuU6Bjc4DYAiqwLQKTJsjL1XhhjOeHaO1ARBAVuXcrsR1YiOJKEhSYSBtBaq6A46XKW50tro7eNKqqFBgGrO82BHpHD3mHPnKWgQQHvi+UJzO5qQgJJ575wbD5YsQApMU6dbMyb13k+fD44NPvsdF0s+jmRWsjCM02D3pcyvg6zzjbjwsfvMDgCq/XPz1YmFmrlqZUyjpXoWHegN9rWJLXDiGGj61N2/5lTELSsqM1YuGT+0V1Tpf6vRrFZiW5iJNvn3uaB/NRUlMqcS0ZnlxrrysNyidD+WBH4q05yoq7OGW4Uh3kPHwwKlwfal6gUVeosINFdolZzyjWxm4on0BxqXGjYWq2XEFy6asAYDhSNf4rtykoEpZyf98Vl6eMF8AgqGGyxYo64o6v/ePCRJVTUxWsDIMnu/d+VIyz62A48ROyaOLy1UyveV8NhC8AMzUVavzKyQWX1d8n8B4/N2NYsECAHVh1dQKllFWAADt/iMxbaK4cIB2DkU6zsAOcc0YLb79Td694vFdlA26o/3Lc27SEjk58tIzMGbvle7AqTr9Wou8RI6pI2xAXKQnrSpcDwB9obNie5IUfOdGQa0ibQPuD46GG3vo4XNb1Vj0ippCw8YF8jKrrMBc+N2bO7/7D+nxyTHJ9EeWGcbbfio8NMaDMzFhR9/44YzcaJVYMpwZu2py3K4/yU8vRoYHeH7MXIoyJ7XskpNCcxEA0JIWaUFiWJ4Z743igR+KdAKADFMjY4PD+0ONDE8hgBSoxkwjAEC+shYAaC4yFBlJ95Q8miXVQjKs4Zf3tH/rMfe7hyOdg2wgwtMsG4hEOuzudw61f/Ox4Zf3AICytki7vFb6E8mRFazMIo30MuNzN0tGPZnPjF01rpBGCDPhMb2MCeB5jouO2RYAV6jFX8+f/lATAOQpqhabrzXLRDOnqSOM6RBAJPOhDE8J/0qBsk6sZSiCWRWVADAQbub4ZLu6MXSX1ANAuLlv6N8fjtPPc/D80NMfhpt6AUC7Zo60NDmyQ8IMgmcZX1fKvfHxjxxGTvui+SlkJq8aHVcnpY2sOZYRO5MRDAMEgQnSAKdIm/+gAtPkKatMskKTrDDCBvpDjb2hMyHGK60qQoFprYoKHZmrxHUkqsAQHEVwDEn4aHcHTxap5sgxtUVeOhRpF4y58jIClQFAbzDlewEAQsop765TCdXqHN5dpxTVBcoqaXhKkiS8qiwzT8RlT+n5ERAW9IgZ/1hmMjN51TwzZpofkjsqBiYbU5mNhKdQrQCA5ZkT7ve6gidK1QtyFKVyTF2mWVSqWTgUbm/y7R0vWwig1bqVxep6BFAA4Hg2wgaibJDlGRmmVOFjAgljBGiXK9pnlOUXqWbHBMumrAUAP+300UNjaicHrlUBAO3wSAvGQTu8AIDpJu8OxyUrWBlEeHhAakqGcUGq0gjuzGYmr5oKuCUWmc6UVDwEAKHSojgpttDTE9ruoezHXFtJVGlTVheqZqlwQ66i3CQrPDD8kp8eE7pcqV1Wop4HAIPhto7AUS81GPNnlajn1ehWiyuL6Q6eMsryTfIiBaYNsz4ZpjTLiwCgL5TsFIQELkphhAKVjfn7xAWVkwAgSbOePFkfVgZB+ZKNpP8kMZNXHR7n+VLZkoqHAACVrUxiCdlT2wsrJSgu1Bk4tnvw3ydc77E8g6NkrW6tuAKKYMXqegBwRfuOubZ6KLvY+44hxGjVcQyG26JsEAGkQFUHAHmKKgQQHjjBvZUGlN0NAMq6yf1uytnFAEANuKQFyXG+goUDsZS8/FL5LVX4AmnZFFGM11wmv+My+R01xJiZ7E8eHD2VUYgXCzN51b7Os5KZPn3F3CRzy5hmr5RYkg+JOB8Gws2dgWMAoCfHTIPKUJWgSsPRLrFdQEfmSk0ieOB6QqfhXOBVnqIKAByRTnGUaUoEj7YCgH79vIn3y5GX5OrXzQOAwKFmaVlynK9gWbACHWrGAC/B67DsAPP8YKc0bPpiYSavmgkHJOloEAwvXHfTpANKY91S9djYVDro83em459OBIbgiVZZC+5wyeRdbNmNHJNOVhpl+RZ5icQooSfYwAOnwDTCsh5I190u4HrnEBehEBIv+eln9evnjY90R0hcv3FB8U8/ixAYG4i43j4oqZAkWYnJIHg2zYH9Rc0MX/Xgwfd0pbPFqRq0pbNKr7y3Z/t/xs88AgCCoOa5q/NWXC2x2/dv5Zj0l5iMR0OYF5iuGgy3OaM9AdpFcWEUweSY2qqoKFTNAYCB8BhfG8WF/fSwhjAXKGe5owNDkXaWZ+SY2qasLtcsobkIiSrE9SVE2eBguN2qqKjQLgUAigs7op3SSknDuAMDf307/+vXYVql7cFrrA9sjrQP0MNeLsqgMoKw6ORleaicAACe5fp+/wobSLMrd76C5WB7vdiwGtX3MM0spDzXkyXLDBMe7h86uj1n4aVio7Z0Vu1nf+BpPR7sa416hlkqgmIErtKocov1VQtIrVFcGQC87adcjYckxvOHRBWFqtmFqtnSAgA3NdDsk0bVn/HsXGy+FkWwucZNAMDznNBH81D2U+5tq3PvkNSXICwt1BIWAOgPNUkGy6ni3XkSEMj7wlWonEAVpHJWsbQGAOsP9/3h1cDhpGY54nK+gsUAfYB6V2rNkiWDsR94R2bI0ZWNiV1EccJYs9hYs1hsjEuwv63rvaenNqABAHy046T7fYu8VEuYZZgKQwie5ygu7KMd9nDLQKh5fES7m+r/2PGfMs0iI1lAYnKGp4O02x5u6Qqe5HkuzPoV2ETuOVe0L0C71IQR0l2OI8G742TodJfxqqXalbMI8+gSbgCg+l3eXadcWw+mvYpQ4HwFK0uWiw6e47re/Zdt1TXmemnmhsngHcd2Dux/m2dTjgWfFI5n+0NNqc7T+WnnCdd7UisAAOy0/1NqGgcHLAD4aIefHpaWpQXt8A7+4/3Bf7yPGzW4QY3KSS5CMcM+xpvyauq4ZAUry6cRnmP7dr3iaTlWcMln5KaECQZi8Dzna28YOvZRyB5nSu4iRY0bhfFgb3DqpzsZl59xTX2cWmqCtVx2pQaJHz4LAPuibwV4j9Q6Fi1qtGFlRtQqByWKYFE+4uOG7VzXIJt+SIsVK55DrBLy+DTQ+wbYOEs3CURWgFVa0HwloiEQkuapAO91cL29TEvW9fYpBUHUhVUyw+j0PxsNc3QUk6tQDOdoiomG2Egw7OgL2jv93U3nuUNPBiIEYbE8MxBOrVt3AUlNsM4HFNBaYkk+ViE2KhCVAlPlYsUezHGS3h3hUx7fWtCCmFqdpj+Oq1Y2rKwGX4Qjo2G4JCI3InIjmluC1Z2gd3m4SdKSZPmEgWBY8aa7xG4sb/up3o9ejDtR+IlEjmkE735f6AzNzVxkyXmSmmAdjL6HIwQGOI4QGBA44BhCVOMLZchEE6gAgAAyn1xnQvMAgAfewzl8nIsDVomoTZgNB0KPWpaQlx+i3g/zKbQYE2qbS64WFp2foff3syMLo8QUYtW1xIgnNcB73NwQw1MkojCjNhmikCGKReSGw9S2rGZ9qshffZ1YrdxNh7u3PTflfvRMQ45pEAAOOC1hqdGtwhCC5qKtvqmf7pw+UhMsFhiWZwBAPF9RjtfLYBLBqsDnCmoV4UPH6R0+bjQwn2DIOnxZLlYkR5T1xOqD1Hs8JDW9akRz55NrUcAA4Ay9v49tk9YA0KLGGmIhAHDAnqEPiBUNBayGWFyAVaCA1ROr9kbfHDM2/KS33U8zytwi0+wVsa9MyN+746VPwx2v1C4Vkl4J8Dx30v0+xaU8rIkLblAz7vi9DTLfpFlUhcrJaPeQ/0gLT6XvhElNsNJDhihK8DoA4IE/Rn/k58YsQKV56iS9eymyWYsadajJhpX1sa3iCjHELUqPWuaT6wS1Oksf7E1wSBW+UFjI3kwfk/S/OGDP0gd0qEmDGOSIKh8r72ZHR/Lj14skk70ky0WBsW6p+Ku34zRHT2UIaMYSZnwRNkCiCpZnPNRAm/+Qh7JLK6WFrMBc/siXAkdb7X9/R1hXGMN49TLrvZfFInWpflf3T5+h+tNcSzgTgpWPVQiqMch2S9RKgAe+jTkxn1wHAMV4TSLBivWAtKhxAbleWAl0lj7Yw8Zfl6RCtEY0FwAoPtIbrw4PfC/TUkssAYA8rFQsWExE+toZHz2Y5SJFYc4Xf2UjUzPjnvm0+g+2+tNcEzMxmmW1gCCqeeVceIz0q+pLrfduEi98Im3Gwu/d2v61v/JsUgMpCfHXLk0tJnRk0eYQJ10rH2OYGxD0SI3oE3nEGKABQI3oFxIbcCAAoJE+nEitAEAYhAKAkxvgEgwzvfxI+IkWNQn9NYHxU0IqaylKTJ49I0vmIwnp1lXMzXafzxMhT0O4qVcSb5V77yZAgGe5wX+83/7Nx5yv7QMAWYFZt7ZeXC15ZkKwtKhJ+BCI170S4IELcj7hsw41jy0cgeEpGaJYQK4nEBIAmpgj3WyjtJKI0X+Xl2Y+ixHlR/LAIYCIhTJk75Q0a5SUmesTJhjKchFBeccEScp05qpbvmWeu0ZusmGkfPyO0FkmRVZgBoBgQ6fYqJ5XLi/JBYDhF3c7X/840jYw+M8Pgqc6AUCzrEZcM3mmfUiIAhbL4hAFaZZIMRSMrIckIf7rjgd+PrFOjigBIMT7e5hJgkdiAlSJz6vE540piweOkLHJBJaKhId6lLlj1kNZl14e9Ti8bSfFxiwXHe6mI4bqRWILqTXmr75WbJHAswxLRdhoOOIeDA/1Bnqag/ZOaaVPMZhOBQBU75g3gX7TQgDgIpTzjY9jRv/BJtWcEnnpmFQ5yTPtgiXOLT1xcnv2XCmeIB11BT43pkFKRFNDLDlD7x9bZQzCsDF5JPuLDJ/YXXTZGMFCUKxk892+jtOuxkPhoR4mHOR5DsVwlJRjMiWh0hBKLaExoDgx8PHb4gMzEBQncaUaIxWYTI6RClQmP/dZjgofZHGS2JZt+RxLRdhohKMiLBVhqTAXFT5EWCrMUVEmHGCjaS7EnzH83U3upiOG6oXSgsQgGI4r1LhCLdNbdKWzYenlEffg0OFtE2+fodaiW0+UAsD/fd/x+jMjA4hPJAiOAQAXGp2qwtQKzeIqAPDtbhDb6SEPAOA6VcySEvGlYQoRb5aNIthIVEQ8MGTEhcSM3V87hgxRsMB0MmeE3FsFWIWfc03gw4o56YfYHj+fcDQaIzo2bNXTcjxn4aXj121oS2dpS2dJjGIovzvzBcs0Z6VtpTRlyqRoiibpyXs7GjrfflJqzTx6PnyeDnot8y5B0DS9InJDbtHG2w1VCzrf+9fU7v98McKFKUwtR9WjYyPdJfWCink+PB4zAoCwDHN8wqwkmXbB4oBjeEqIMpeBgoaEtzYWzEXx8ev4OddxeleYD/h59zxiLQDUEIuEWFBpVQAAoM75p1ycXTwDmCQ8z3Vu/UfljV9PZv+oLBcRCIbpyueSWhPPMQh6XhMpmuLasqs/1/76o1ObG+uig7K7FBU2RXmed8dJAAAUMV65BACiPY5Q45ipNkwpBwAu3VCsNF8vKeHlncIHDZpwHSIKqArVCZ995+pLcPNDQhz8ENvTxpwEAATQucQaORK/exn7nQn+3YmJeofbXv8b5Y1/PlkuQhDT7BV1n/1h8WV36CvmSjaVSA9VXmnukk1S66eM0KkOANCtn6eotCEknnv3ZWSeEQBcb0qdNqTNBABpJ5mZ9h4WAAxz/UKEQQ5aGHetHwCYUJsQVRDkfcmsKGxjTmoQQw5WSCLy+cTag9T749cwD7MDVTgAgAUtQAETMmmkStjR2/Sf31gXX2asW4bJ4sdbSDm/RGhZpgmMlJdccY+6oFJs5Bja33U2NNRD+90sFeHHb8aDogiGY4QMV2lleosqr1Smt0jqWOauGT65e3wozKcH93tHjFuWYyp56f8+ADwvzLRS/U7P9hOSmsIOhlR/mp2AmRCsPratAp+LAZ6DFWpZk4+TnisCSDk+Epcx6dxfjFP03qXo5WpEr0GNs4jlJ+ndkgoB3uPi7EbUSiLyCnxuM3NUUiFJOCrav/dN+4H3tKWzVNYSRW4hodJhMgVGyHiO5WiKCQfooC/qdURdgyFH7/itWeIyVb6e/r1v9O99Q2qdDMexjxzHPpJap58LddUIipZe/TlVXonIxjuO7xo8+N74LQ4nRltcW7TxdrGjAMEwXXn98IldolqfLii72/7Y1rwvXAkIIqgVF4r2/e5VnhnTS0DlpGpWMQCEznaL7ckzE4LF8FQLfbyGWIQAMp+45Di908uNTn/iCDkLX6ZFjQAQ4D2JFtmMhwXmOLVzKbmZQEgrVuznXR3MmP0FAKCJPrJUdjkKWAlehyNEK3Mi5tgSwAA3oDlWrKSTOTNxbhyOoTwtxzwtx6QFFwk4EJcg1wBAI3+0F8asUkqSYqgqQ2Z5YPgYL303TB8rkE1K0Nihu4E/rxDtnIUbxqoV9O1+bfhEOhfi6zrbu/Pl4k13io2awqqUBMtWRPzxeVtOHt7fTX/99n5778j44MmthRW15EN39B/eG95wjfrqm7VlNaRKg3qc7Omj0Ree9Jw6HF9eCRK5+hbtJVeoSqtIpRr1ubnTRyNvPOc7uGt0vIKi8M6pUoUS/erN/ScOnosikiHvnColCKSvi771klEduepm7Xd+aTlxMPzVm/tjxglwv3ck0mHXra3HNIpo77D73cPjx33qRZVclIYI5d15SlKUJDMhWADQzTbqUHMeViJDFEvJyz3ckJdzccAqEJUZtQkueZqPnqT2pDRwC/H+k/TuBeR6BJAKfJ6f8wxzfeIKft7dQO+bQ6xEAC3AKvOxCj/nCvNBHngcIRSIWolohGiGbrZpXAbaLGPIQQowwEyQSwBJw8XkY0YJ0jJvrdgSHOhMT60EvG0nOTqKErKYhdToR4snI7+Y+MNztpw8vLud/sbt/Q671JtRUkluvFaz+TOamMWci6/djK/epPr1w0NbX/SL6gIAFJQQv3oyr7B0NI7HlIOtuVy15nLVB68FfvmdIZrmAYDjoOU0Vb9YXlFLxgSrZo6MIBAAyC8mdAbM6x55ACvrSABoPBF/Biwu4ea+cPOYB1CCb89p3x5pryIlZkiwAKCB3hvhgyV4HQKIHs3RozniUj/vPkntDvIpx6o4uYEW5mgVvhABpJ5cdSD6juRH7GxXlA/PIpYL2qRFTVowiSsAAAfsBPEWWQSG+F41onOC/eJSKwBQ51dI/I+us+fVX+M5lvK75cbR6EdMrhaVT0R+MfHH520WK97eRH3jjn73cJw39F1fNeiN2MFdoece83S2UGottni14v5vGpUq9Os/tuzZFvKdkxUA0OjQ3z1jy7XhAR/31CPuj7cH/V4ux4Zfdq3mhrt1G69Vczz/s4dGZtIbT0bqF8vLa0dnG+YskgNAXxedX0zMmi/bt32kW1RRJwOAxlMpCNYMMHOCxQPfwhzrZ9sKsEoTlidHVCigFB/xcs5BrnuQ7RqfYz9JOpmzGsSYh5XiQMwjLzkQfUdYdRjDzQ3tjb5hxYotaIEONZOIHAWM5ekwBAOcx8XZh7gemr/IHsKZpwuau/iEUW+ZjCKnUGIJD6XpQxExJsyY5+LoTozYNExMrZpORb95V7/PI/XxC+iN2K73gj/4ol3IUOIcYrtaqYCP+95vcuQKZPVG5dsvjHay7vm6MdeGMwz/jTv6m87pi9vJNp2KdrdT3/ypZdN1mg/fCOzfEQKAxpNRAKioHe0bzl4kB4A3n/N94WFT3Xy5IFgIAoKoCfUzh5kQLJWBXP/FiqrVFl2uHBAIuane0/3PPHg0yQREXUxjF9MotY7lFL33FL1XahXBAz/Adg6wndKCBGz5ft2yW4v3/LNj6/9O8k9nyXxwuTTwZXw2jtRAEFIzJlZm4lSloRAHAAUlxB+es1mseMORyLfvGQj646uVwF9/4ZQ8IB++EXj41zkoCiUVo/0jgkCuvEkDAB+8FoipVYw3nvXdeK++qIy48V6dWLBKKkkUBWFGdM4CucPOfPxR6AsPm2YvGIn8tBURShXq93J9XfGjuC8UUxuHFUeBUAy578kly28vNuQrXH0he7Of43iZCk9SrbJkOX/Gd3/iLjxKHm1JnSR1R9Q1KP4qIejnrAW40Lc69nH4obsmUaveTnq8UtA073IwAKDUjD621fUyhRIFgI/PDeXE8Dwc2BECgPrFCsFR1ddFB3ycXIHkFxMAUFROaA1Y8+loVysVCXE1c2VC5H9lnQwAxivgBWcKelgEjNy5uK6N8qUma5WGCrN/vnGvo2Mk9QSKZRfEZxAKUC1E1spBGYbgUX5XGEYzhJjAOh9ZJaoLUQjv5hMuPFqKbNSA7ii/ywVDVijKR0rVoMWBoCDqBVc33+wBaVCLAAGyUqTaDDY5KFlgfODq5ludYE+UFygl6KA0XYc6vzzi7JcYkwTFCeuSyyVGf89Eg2UcR37zlM2ciwf93Pc+Z4+EJrmo8WolwDAAAKjo6ckrHHmEEx3S20kDgEyOmHIxey/D89DcEF2wQlFRK+vpoOcslANAcwPFcdB8mqpfLC+pJNubqArB434y/ozkBeR8e1g61EQicgCg+agkYkDAXKoCgO5j7phaAQDHZvtXmYIC1IJahcB/mN8hVisAoCDigiE/eKIQTl47VKCtQxbNRpYYwEKADAFUBoocyF+IXGKDEmltABVolyMbi6BKCWoUUAJIQSjLkVlx34KpEnZIp64s8y9JNgx4LBgpL778swrL2BSAVMTbMdE8/dd/bC4qIwBApUG/8gOztHgckVCyD4jQvQKAaCT+3QmfE0f1uX7Z2ZNRACirIQFg9kIFAJw9Hon9f9Z8OcQ87lPtwKr+4W9tN94ttaZCsj0sDPDxoeRqRD+bWCl8HuS643rNSQUGAJGg9NgsmYAS1AuRtTJQBMB7lN9Njcv/4wfPUX4kvKgOWWiD0rHl8SlFakmQOWGwi28Kgg8H0gS55cgsDPBqZL6D7xfLEAroXGQFCXIOuHb+zCD0ssCoQFOMVJVC7fhWlwbBvjYm5MeVo1ECpMZQds3nu955ivK7RRUnAsEwfcU867IrJN4rAHAc2zHx+mejBXvuMQ9D83d+2XDlTZquVur5v3ukldIiFBjRI/k55ZKgUI3Yg4GRx7PpZBQASitJAKidK+N5aDgaAYDTx6IAUDtP9ubz52Iaplqwzp9kBWshuV6GqPyci4IIzVMYgikRrQnNE4KYKD7Sxoy+YXRW+Wd+Xq/LkWtz5aQSA4DZG60/P705VuGxO/d3Hh1tKN/btZ6Jcr/euEOhJS79UkXt+lyNRRYJMAONvnf+t9HePCbqpGKFecUdxYX1ermGCDqj7Qddu55sl9RJqSYhx9beXzb3ijxdniLso1v3Dn/wSAtDxXlfoRiy6PqC+dfk51ZocBnq6Quf2T6484n2sHe0N/79vRta9w2/+9umW34zL69G037Q9Z/vnCBk6E2/mls83+DoCLz8/VP9Z1OO3phCYm+VmFr5wH2M3z0lfRkBEmRD0HeSH8mCFIVIEHw0T81CFmOAWcDWD52xyjYoUYIaABr5ozE7BREPPzwPWWmC0dCBtOF5bujYR7aVW8RGZU5RzR3fdTUe9radDNo74ioOguGk1qjMKVTnV2hL6sSSFyPs6B06ul1qHcvffuX6z989AGArIi69Wv2Fh0097fTeD8d0ZtOjt2Ok7RWUEM0NcS6hsIQAACrKD5+L9mo8FQGAkkqSIJHiCqKzhQr4OAA4fSwCADX1cqUKtVhx9zA7NDAFb4upJVnBAkCEPQSlZoAQ7z9B7ZLkZgn76LCPtrf6zcUqa5XGNxjpPumJlQbd0mdDkyPXmGWfe3qZIV/h6Ag6OoKmImXlCvOr/jF/sssfql5zXxnPg28oMtjiNxYo5l1tm3O59T/fOdHwvj2NmoQcu//JJYVz9TwPQ20BjuHqr8irXpvTstch+jEAAFKJ3fWXRWWLjTwPjvYAHWEtpeo195XNuzr/Hw8cHGwdnSTKqVB/5hf1ahPJc1C9xrL5W9WmIqW1ShtwRfNqtLf877zfXpVCSPSUI/RZYmrlBecxfo8kEOT8aeGlQ6RB6KmDRQggKkQr7ovnIoUAEIGQWMUAgAe+k280IVMgWADgOL5TVzpbZSsTGxEMN81aZpq1DACYkJ8O+TmaAuBRjEBwApMpCJVGEr4gIepxdLz1BM9O8mDHnFa/+PaQtQCfNV/+wz/mfOmGvrZG6YOQKs1noj43qzVgy9crt78lnalEEFh6iRIAGo5EhNhRALD3Ml43ayvGK+tkGIYI3SsAcNgZh50prSIqMjKgQSBZwepjW6N8WI3qCSBxhATgaZ7y8a4htmeA7ZCEp3vtkWe/fkz4vPqe0s3fquk+6YlZ4oLhyGf/tmig0ffoHfsDzigA4DK0YrnZMzCaDW7+lvw195W5e8PPfetY7ykvAKAYsvqe0k3fqL7xF/W9DV5P/0jl5Guu+3x54Vy9fzj6jwcOCZ0vlYG86ddz515pG/lXz7Hlv2aVLTbam/3PfP2YsysIAIQc2/T1qhV3ltz554WPXL83em7Ya63S7H+u+/G7D1irNA++umrhdQX9Z32/XLcdAL72+mpzqcpcohrunIK3a3owQAtedhko3OA4zu+dkmGXmBAEwiB9eDjgKIjIQCFJrKgFAwC4QfqGAAAPuHjgJYkV04TnO95+ovTKe1W2cmkRAADgSk3cDtQE+Lsbuz94duKABglUlP/e5+yPvlZgzcd/+UTe567pjRs4mjwcC6887bv7QcOGLepXnvKeHRuYfu0dOiH8/ZWnx0w7NJ6MLl2rXHGpEgDEa30ajkbWXaFefqkKMtLjDqkIVlvcjf+mEARFnv/W8Zg/nolyjTtGwnOF0g1frgSAl39wStAgAOBYfufj7dVrckoWGpbeXPTe75pSqonhyNKbiwBAPPAMuqkXHz75/7avw/DR58RYqJy/xcZzfEytAICOsG/98mzBHF3RPMOSmwt3P9kRq3/oxW4AsDf7hzuD5hLV/ue6hDFm5xGXqUhpLFReQMFCAJmPrJKBggH6BL9vytUKAMarlYDg5RTLDwGkkEE7zMf5g/DnNE5akBZsNNz2+qN5yzab69cgGCYtToWox2E/+J6n+ai0IAncw+zD9w385eX8XBv+88esD97ST1NxnL/J88xf3Ws2qcqqyd8+bfvnI+5924J+L2fJwzddp/7MPXoA2PNBcNe7Y/68TaeiS9cqL9msBoCGI6PCdOZYdN0V6tWXqWBsjDtpNJd+5Xtdf/9t7pWfIc257o93eA7vs910jyzH6ms4Nrh1ZFdHddUsbf0iua0Q1+g4mor29wzvej/c3R77HQmkyVJ415d4hul5+q+0xyUY9QuW6xetIM25PMuEezqGd74X6RuN8o3vqLsgHH6pZ4LZQ2uVxlCgiPjpjkPSefGeEx4AKJqnF76mULNaq9ARPMef+XBQVAsCzmiPaAALADVrLQiK9Jz0xtQqxtHX+wBg9oYxIxdX30gPzj8cBYCYPIV9NADIlOf1tJwnNch8JWgAAAeiCpkrLZ4K2KQXhMZ2Kkp0yNTqKc8y/XvfbHzmF86GfSn1jATYaNjTfLTjrccbn/llemol0N5E/fjBQY6DWfPlD/8qR1qcItEI/9Cd/Y2noioN+uXvmZ7ZXvTGkZIn3iq46T49isKeD4I/+dqY5g3nhntF5YTHxQpxDwLC8FCY0By/ijDvutuDrY1Re59p7SbbTfdE7L2BljP6hctVFbVCBcPyS2QWa6DxlGPbm77jB+X5RQW33o9r9WN+5RykJbfws19hI+Hufz4SU6vczdfnXnUj7fMO73jHfWAXabEW3f1VRfFopzjZHtYM4OiYqAHlVqoBQK4hftYw6rwXozKMhIMlX9NYoAAA72CECkufFldPqGTB6GSQpVQNAIOtUoc9AAy2BAAgt2rMaCIaGHnMOIYHgEjME8cDACAXNAyNBHkXNHHAl0KNDUqC4OuCiWKIppWYMwET7bEmRtjRcmqhfK7eHS/17nxZlVemshbJjFa5MReXq1FShhEyBMN4luNZhqXCTCRI+z2UzxVxDYSGesLD/VO1QfTH20N//tnwV39g3nituquN+tefRueg0sDlYL9wXe/mz2gvu0ZdXitTqhGvizt9LPLOi/64rv2Yf+r0OQeWQHNDlKZ5gkCGBhi3U/pQhDpahne8K8vJK/nCt7loZOidV1BSpp29QG4rDLacAYC+5x4Xz12E+7ptN9ypKq/2HjsQMwr+PlmurfDOL9AeV+8zf2fDI2eoKCrVL17l+niH44M3BIv70J6yr/5X7qZrOx/7P8GSQYLFRONMzMWQqwkAoELsQFP8KbaYWyr5moQCA4DxagUAVGiMUabCxxsFqBADAKQCQzFE6CGO7yfynNRyAWnlTwkKpURUuVBYgcwJ8X4HDEjrzQgM0CywGGByRDk+KgYBJNEWSlMAzwf724L90+joCPi4NaUJf//FJ70vPjnGtQQA917RI7GIuWlVl9R0Do6Ft//je/s/8du8hOFBJu6J0RR/aVXCEVzUMQgAQm8oYu8FAI6KclQUk43cI8lMa6S/GwAI3ZgoEC4aleXaCu/6UnSwv+/5J8SHaGfNBwDvkZHJZQBgg4Fwb5eqrApTqtlQADJKsCZG0AWPPfzoHfulZWNJviYdZgGAkMV5txOyMS/2SIABACFEQ4KgZXSEHa9TmUlskHWaPyxHVDowzkaWHuI/CoD04ZkBeOD94NaD2QAWaRmAGnSJel5ZZh5BXIR1TlzkXNfsXH5RACCNFv3ilYrCElyrR2VyFMcBAJAxjxKmUBbc/nlMoXRse0sicIQpBwBKv/JdsVEAU6kuMsES4gZMRSpSgcXtE8VIvqarNwwAOquckGN0ZExNXZ5C/FUYDForx4z7BHIrNXDuH7244IA9we9bgqyXg3IesvIgv3184OgMYOd79IhZAao8KB6AMT2IYqRK/DXLBUY8HB43NFYUFBfc+UUuEnYf3B0dHGDDIVylzr/lPkk1Td1cX8NRVVm17cbPdj/+eyY46mZBEAQAht55ZXyiatY/0nOcegfBNNF/1ufuC2M4suiGAmnZWJKvaW/2h300iiG168c4PuUaoni+Xmxp/GiIY/mCOTphpZGY+VvyAeDs9kGJ/aKAgogQ1iAH5VxkBXoh2kM/dArrgWqRBSVQowA1CTIdGGcjS6xQNOUBYlmmCcOytShB9j77d9fe7cHWs5G+Li4a5/0XaGoYeOXfff95Eldr8m+5D8GJWBHlcgBAqLPVc2Sf5D82MuLGuQANND14jhdiETZ9o3r+lnxEtAA0t1Jz2dertDkjKX6Sr8nS3MEXewDgim/XCh0lAFDqiVt+M5eQjxmJeAcj+5/tQlDk9t/NNxWPaBYuQ696uLZont43FN3/3OjM68VFALyn+AM88Dow1iGLxEU6MC5A1ixB1q9ANq1GrsqDYgCQgWItcvVKZPNSZMNCZG0Z1IkPSQOho0dBFAWsApm9Erl8DXL1YmS9FYpa+VND0Cs9IEtGgqAYADC+UceCdt6S0eJzCL2ncE/HwGvPyfML8669LRbo4jt1BABMazZKgnVRcjR710UzJASAk+8M6PLkl3+j+sZf1F/1cK2zJyRT4bpzq3+OvDLaspOvuf0vreVLTQWzdQ++umqwxY8RqKlIGXRTu5/sWH1vaawaALz72yZDgbJ2Xc5Db69xdAToMGspVZNKLOiinv7KESFe4SJlGAZa+JNVyFwrFAXB3wFnBTsJciPEmXQnQEbAOdFHmPHO8lQJgHc//34JUmOBPNm5bA1dfLMLhor4yimJG80y3QRazqpr5tg+c5fv5GGElKmrZ6OkbIIdpPynjw0bTeZ1V5jXbx7evhUAwt0drn0fGVesKzaYgi1n2WiE0OoVxeVRe6/9zReEoy4mwQKA3U92tO5zrrijuGyxyVqlYaKcdzAycNZ3eps9NveXUk06wj5+94G195fXX5FnKVWFffTxN/vf/2OzuUgpESyG4v794NH5V9sWfaYwr0qDkainP9y4Y2jXkx1CaH6GwwC9jX9Jaj1HN7R08y0SowP6JzgkLgf4D6QmEXv4rVLTOSiINvMnmuGExB73xLJkIN5j+zGFQr9wRe5VN7GhoP/sieHtW4vu+aq0ngjn7m2EwWxatYF2OrwnDgGAY9ubkb4u/eJVhmVrERxn/L5If7f3xGHpkVmyZMmSJUuWLFmyZMmSJUuWLFmyZMmSJUuWLFmyZMmSJUuWLJnG/wffyNXvhvrKAwAAAABJRU5ErkJggg==",
         "type": "image",
         "xaxis": "x",
         "yaxis": "y"
        }
       ],
       "layout": {
        "autosize": true,
        "margin": {
         "t": 60
        },
        "template": {
         "data": {
          "bar": [
           {
            "error_x": {
             "color": "#2a3f5f"
            },
            "error_y": {
             "color": "#2a3f5f"
            },
            "marker": {
             "line": {
              "color": "#E5ECF6",
              "width": 0.5
             },
             "pattern": {
              "fillmode": "overlay",
              "size": 10,
              "solidity": 0.2
             }
            },
            "type": "bar"
           }
          ],
          "barpolar": [
           {
            "marker": {
             "line": {
              "color": "#E5ECF6",
              "width": 0.5
             },
             "pattern": {
              "fillmode": "overlay",
              "size": 10,
              "solidity": 0.2
             }
            },
            "type": "barpolar"
           }
          ],
          "carpet": [
           {
            "aaxis": {
             "endlinecolor": "#2a3f5f",
             "gridcolor": "white",
             "linecolor": "white",
             "minorgridcolor": "white",
             "startlinecolor": "#2a3f5f"
            },
            "baxis": {
             "endlinecolor": "#2a3f5f",
             "gridcolor": "white",
             "linecolor": "white",
             "minorgridcolor": "white",
             "startlinecolor": "#2a3f5f"
            },
            "type": "carpet"
           }
          ],
          "choropleth": [
           {
            "colorbar": {
             "outlinewidth": 0,
             "ticks": ""
            },
            "type": "choropleth"
           }
          ],
          "contour": [
           {
            "colorbar": {
             "outlinewidth": 0,
             "ticks": ""
            },
            "colorscale": [
             [
              0,
              "#0d0887"
             ],
             [
              0.1111111111111111,
              "#46039f"
             ],
             [
              0.2222222222222222,
              "#7201a8"
             ],
             [
              0.3333333333333333,
              "#9c179e"
             ],
             [
              0.4444444444444444,
              "#bd3786"
             ],
             [
              0.5555555555555556,
              "#d8576b"
             ],
             [
              0.6666666666666666,
              "#ed7953"
             ],
             [
              0.7777777777777778,
              "#fb9f3a"
             ],
             [
              0.8888888888888888,
              "#fdca26"
             ],
             [
              1,
              "#f0f921"
             ]
            ],
            "type": "contour"
           }
          ],
          "contourcarpet": [
           {
            "colorbar": {
             "outlinewidth": 0,
             "ticks": ""
            },
            "type": "contourcarpet"
           }
          ],
          "heatmap": [
           {
            "colorbar": {
             "outlinewidth": 0,
             "ticks": ""
            },
            "colorscale": [
             [
              0,
              "#0d0887"
             ],
             [
              0.1111111111111111,
              "#46039f"
             ],
             [
              0.2222222222222222,
              "#7201a8"
             ],
             [
              0.3333333333333333,
              "#9c179e"
             ],
             [
              0.4444444444444444,
              "#bd3786"
             ],
             [
              0.5555555555555556,
              "#d8576b"
             ],
             [
              0.6666666666666666,
              "#ed7953"
             ],
             [
              0.7777777777777778,
              "#fb9f3a"
             ],
             [
              0.8888888888888888,
              "#fdca26"
             ],
             [
              1,
              "#f0f921"
             ]
            ],
            "type": "heatmap"
           }
          ],
          "heatmapgl": [
           {
            "colorbar": {
             "outlinewidth": 0,
             "ticks": ""
            },
            "colorscale": [
             [
              0,
              "#0d0887"
             ],
             [
              0.1111111111111111,
              "#46039f"
             ],
             [
              0.2222222222222222,
              "#7201a8"
             ],
             [
              0.3333333333333333,
              "#9c179e"
             ],
             [
              0.4444444444444444,
              "#bd3786"
             ],
             [
              0.5555555555555556,
              "#d8576b"
             ],
             [
              0.6666666666666666,
              "#ed7953"
             ],
             [
              0.7777777777777778,
              "#fb9f3a"
             ],
             [
              0.8888888888888888,
              "#fdca26"
             ],
             [
              1,
              "#f0f921"
             ]
            ],
            "type": "heatmapgl"
           }
          ],
          "histogram": [
           {
            "marker": {
             "pattern": {
              "fillmode": "overlay",
              "size": 10,
              "solidity": 0.2
             }
            },
            "type": "histogram"
           }
          ],
          "histogram2d": [
           {
            "colorbar": {
             "outlinewidth": 0,
             "ticks": ""
            },
            "colorscale": [
             [
              0,
              "#0d0887"
             ],
             [
              0.1111111111111111,
              "#46039f"
             ],
             [
              0.2222222222222222,
              "#7201a8"
             ],
             [
              0.3333333333333333,
              "#9c179e"
             ],
             [
              0.4444444444444444,
              "#bd3786"
             ],
             [
              0.5555555555555556,
              "#d8576b"
             ],
             [
              0.6666666666666666,
              "#ed7953"
             ],
             [
              0.7777777777777778,
              "#fb9f3a"
             ],
             [
              0.8888888888888888,
              "#fdca26"
             ],
             [
              1,
              "#f0f921"
             ]
            ],
            "type": "histogram2d"
           }
          ],
          "histogram2dcontour": [
           {
            "colorbar": {
             "outlinewidth": 0,
             "ticks": ""
            },
            "colorscale": [
             [
              0,
              "#0d0887"
             ],
             [
              0.1111111111111111,
              "#46039f"
             ],
             [
              0.2222222222222222,
              "#7201a8"
             ],
             [
              0.3333333333333333,
              "#9c179e"
             ],
             [
              0.4444444444444444,
              "#bd3786"
             ],
             [
              0.5555555555555556,
              "#d8576b"
             ],
             [
              0.6666666666666666,
              "#ed7953"
             ],
             [
              0.7777777777777778,
              "#fb9f3a"
             ],
             [
              0.8888888888888888,
              "#fdca26"
             ],
             [
              1,
              "#f0f921"
             ]
            ],
            "type": "histogram2dcontour"
           }
          ],
          "mesh3d": [
           {
            "colorbar": {
             "outlinewidth": 0,
             "ticks": ""
            },
            "type": "mesh3d"
           }
          ],
          "parcoords": [
           {
            "line": {
             "colorbar": {
              "outlinewidth": 0,
              "ticks": ""
             }
            },
            "type": "parcoords"
           }
          ],
          "pie": [
           {
            "automargin": true,
            "type": "pie"
           }
          ],
          "scatter": [
           {
            "fillpattern": {
             "fillmode": "overlay",
             "size": 10,
             "solidity": 0.2
            },
            "type": "scatter"
           }
          ],
          "scatter3d": [
           {
            "line": {
             "colorbar": {
              "outlinewidth": 0,
              "ticks": ""
             }
            },
            "marker": {
             "colorbar": {
              "outlinewidth": 0,
              "ticks": ""
             }
            },
            "type": "scatter3d"
           }
          ],
          "scattercarpet": [
           {
            "marker": {
             "colorbar": {
              "outlinewidth": 0,
              "ticks": ""
             }
            },
            "type": "scattercarpet"
           }
          ],
          "scattergeo": [
           {
            "marker": {
             "colorbar": {
              "outlinewidth": 0,
              "ticks": ""
             }
            },
            "type": "scattergeo"
           }
          ],
          "scattergl": [
           {
            "marker": {
             "colorbar": {
              "outlinewidth": 0,
              "ticks": ""
             }
            },
            "type": "scattergl"
           }
          ],
          "scattermapbox": [
           {
            "marker": {
             "colorbar": {
              "outlinewidth": 0,
              "ticks": ""
             }
            },
            "type": "scattermapbox"
           }
          ],
          "scatterpolar": [
           {
            "marker": {
             "colorbar": {
              "outlinewidth": 0,
              "ticks": ""
             }
            },
            "type": "scatterpolar"
           }
          ],
          "scatterpolargl": [
           {
            "marker": {
             "colorbar": {
              "outlinewidth": 0,
              "ticks": ""
             }
            },
            "type": "scatterpolargl"
           }
          ],
          "scatterternary": [
           {
            "marker": {
             "colorbar": {
              "outlinewidth": 0,
              "ticks": ""
             }
            },
            "type": "scatterternary"
           }
          ],
          "surface": [
           {
            "colorbar": {
             "outlinewidth": 0,
             "ticks": ""
            },
            "colorscale": [
             [
              0,
              "#0d0887"
             ],
             [
              0.1111111111111111,
              "#46039f"
             ],
             [
              0.2222222222222222,
              "#7201a8"
             ],
             [
              0.3333333333333333,
              "#9c179e"
             ],
             [
              0.4444444444444444,
              "#bd3786"
             ],
             [
              0.5555555555555556,
              "#d8576b"
             ],
             [
              0.6666666666666666,
              "#ed7953"
             ],
             [
              0.7777777777777778,
              "#fb9f3a"
             ],
             [
              0.8888888888888888,
              "#fdca26"
             ],
             [
              1,
              "#f0f921"
             ]
            ],
            "type": "surface"
           }
          ],
          "table": [
           {
            "cells": {
             "fill": {
              "color": "#EBF0F8"
             },
             "line": {
              "color": "white"
             }
            },
            "header": {
             "fill": {
              "color": "#C8D4E3"
             },
             "line": {
              "color": "white"
             }
            },
            "type": "table"
           }
          ]
         },
         "layout": {
          "annotationdefaults": {
           "arrowcolor": "#2a3f5f",
           "arrowhead": 0,
           "arrowwidth": 1
          },
          "autotypenumbers": "strict",
          "coloraxis": {
           "colorbar": {
            "outlinewidth": 0,
            "ticks": ""
           }
          },
          "colorscale": {
           "diverging": [
            [
             0,
             "#8e0152"
            ],
            [
             0.1,
             "#c51b7d"
            ],
            [
             0.2,
             "#de77ae"
            ],
            [
             0.3,
             "#f1b6da"
            ],
            [
             0.4,
             "#fde0ef"
            ],
            [
             0.5,
             "#f7f7f7"
            ],
            [
             0.6,
             "#e6f5d0"
            ],
            [
             0.7,
             "#b8e186"
            ],
            [
             0.8,
             "#7fbc41"
            ],
            [
             0.9,
             "#4d9221"
            ],
            [
             1,
             "#276419"
            ]
           ],
           "sequential": [
            [
             0,
             "#0d0887"
            ],
            [
             0.1111111111111111,
             "#46039f"
            ],
            [
             0.2222222222222222,
             "#7201a8"
            ],
            [
             0.3333333333333333,
             "#9c179e"
            ],
            [
             0.4444444444444444,
             "#bd3786"
            ],
            [
             0.5555555555555556,
             "#d8576b"
            ],
            [
             0.6666666666666666,
             "#ed7953"
            ],
            [
             0.7777777777777778,
             "#fb9f3a"
            ],
            [
             0.8888888888888888,
             "#fdca26"
            ],
            [
             1,
             "#f0f921"
            ]
           ],
           "sequentialminus": [
            [
             0,
             "#0d0887"
            ],
            [
             0.1111111111111111,
             "#46039f"
            ],
            [
             0.2222222222222222,
             "#7201a8"
            ],
            [
             0.3333333333333333,
             "#9c179e"
            ],
            [
             0.4444444444444444,
             "#bd3786"
            ],
            [
             0.5555555555555556,
             "#d8576b"
            ],
            [
             0.6666666666666666,
             "#ed7953"
            ],
            [
             0.7777777777777778,
             "#fb9f3a"
            ],
            [
             0.8888888888888888,
             "#fdca26"
            ],
            [
             1,
             "#f0f921"
            ]
           ]
          },
          "colorway": [
           "#636efa",
           "#EF553B",
           "#00cc96",
           "#ab63fa",
           "#FFA15A",
           "#19d3f3",
           "#FF6692",
           "#B6E880",
           "#FF97FF",
           "#FECB52"
          ],
          "font": {
           "color": "#2a3f5f"
          },
          "geo": {
           "bgcolor": "white",
           "lakecolor": "white",
           "landcolor": "#E5ECF6",
           "showlakes": true,
           "showland": true,
           "subunitcolor": "white"
          },
          "hoverlabel": {
           "align": "left"
          },
          "hovermode": "closest",
          "mapbox": {
           "style": "light"
          },
          "paper_bgcolor": "white",
          "plot_bgcolor": "#E5ECF6",
          "polar": {
           "angularaxis": {
            "gridcolor": "white",
            "linecolor": "white",
            "ticks": ""
           },
           "bgcolor": "#E5ECF6",
           "radialaxis": {
            "gridcolor": "white",
            "linecolor": "white",
            "ticks": ""
           }
          },
          "scene": {
           "xaxis": {
            "backgroundcolor": "#E5ECF6",
            "gridcolor": "white",
            "gridwidth": 2,
            "linecolor": "white",
            "showbackground": true,
            "ticks": "",
            "zerolinecolor": "white"
           },
           "yaxis": {
            "backgroundcolor": "#E5ECF6",
            "gridcolor": "white",
            "gridwidth": 2,
            "linecolor": "white",
            "showbackground": true,
            "ticks": "",
            "zerolinecolor": "white"
           },
           "zaxis": {
            "backgroundcolor": "#E5ECF6",
            "gridcolor": "white",
            "gridwidth": 2,
            "linecolor": "white",
            "showbackground": true,
            "ticks": "",
            "zerolinecolor": "white"
           }
          },
          "shapedefaults": {
           "line": {
            "color": "#2a3f5f"
           }
          },
          "ternary": {
           "aaxis": {
            "gridcolor": "white",
            "linecolor": "white",
            "ticks": ""
           },
           "baxis": {
            "gridcolor": "white",
            "linecolor": "white",
            "ticks": ""
           },
           "bgcolor": "#E5ECF6",
           "caxis": {
            "gridcolor": "white",
            "linecolor": "white",
            "ticks": ""
           }
          },
          "title": {
           "x": 0.05
          },
          "xaxis": {
           "automargin": true,
           "gridcolor": "white",
           "linecolor": "white",
           "ticks": "",
           "title": {
            "standoff": 15
           },
           "zerolinecolor": "white",
           "zerolinewidth": 2
          },
          "yaxis": {
           "automargin": true,
           "gridcolor": "white",
           "linecolor": "white",
           "ticks": "",
           "title": {
            "standoff": 15
           },
           "zerolinecolor": "white",
           "zerolinewidth": 2
          }
         }
        },
        "xaxis": {
         "anchor": "y",
         "autorange": true,
         "domain": [
          0.3531375166889186,
          0.6468624833110814
         ],
         "range": [
          -0.5,
          399.5
         ],
         "showticklabels": false
        },
        "yaxis": {
         "anchor": "x",
         "autorange": true,
         "domain": [
          0,
          1
         ],
         "range": [
          199.5,
          -0.5
         ],
         "showticklabels": false
        }
       }
      },
      "image/png": "[encoded data removed]",
      "text/html": [
       "<div>                            <div id=\"5af98b1e-7211-45c5-890e-cd5e2f8febea\" class=\"plotly-graph-div\" style=\"height:525px; width:100%;\"></div>            <script type=\"text/javascript\">                require([\"plotly\"], function(Plotly) {                    window.PLOTLYENV=window.PLOTLYENV || {};                                    if (document.getElementById(\"5af98b1e-7211-45c5-890e-cd5e2f8febea\")) {                    Plotly.newPlot(                        \"5af98b1e-7211-45c5-890e-cd5e2f8febea\",                        [{\"name\":\"0\",\"source\":\"data:image/png;base64,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\",\"type\":\"image\",\"xaxis\":\"x\",\"yaxis\":\"y\",\"hovertemplate\":\"x: %{x}<br>y: %{y}<br>color: [%{z[0]}, %{z[1]}, %{z[2]}]<extra></extra>\"}],                        {\"template\":{\"data\":{\"histogram2dcontour\":[{\"type\":\"histogram2dcontour\",\"colorbar\":{\"outlinewidth\":0,\"ticks\":\"\"},\"colorscale\":[[0.0,\"#0d0887\"],[0.1111111111111111,\"#46039f\"],[0.2222222222222222,\"#7201a8\"],[0.3333333333333333,\"#9c179e\"],[0.4444444444444444,\"#bd3786\"],[0.5555555555555556,\"#d8576b\"],[0.6666666666666666,\"#ed7953\"],[0.7777777777777778,\"#fb9f3a\"],[0.8888888888888888,\"#fdca26\"],[1.0,\"#f0f921\"]]}],\"choropleth\":[{\"type\":\"choropleth\",\"colorbar\":{\"outlinewidth\":0,\"ticks\":\"\"}}],\"histogram2d\":[{\"type\":\"histogram2d\",\"colorbar\":{\"outlinewidth\":0,\"ticks\":\"\"},\"colorscale\":[[0.0,\"#0d0887\"],[0.1111111111111111,\"#46039f\"],[0.2222222222222222,\"#7201a8\"],[0.3333333333333333,\"#9c179e\"],[0.4444444444444444,\"#bd3786\"],[0.5555555555555556,\"#d8576b\"],[0.6666666666666666,\"#ed7953\"],[0.7777777777777778,\"#fb9f3a\"],[0.8888888888888888,\"#fdca26\"],[1.0,\"#f0f921\"]]}],\"heatmap\":[{\"type\":\"heatmap\",\"colorbar\":{\"outlinewidth\":0,\"ticks\":\"\"},\"colorscale\":[[0.0,\"#0d0887\"],[0.1111111111111111,\"#46039f\"],[0.2222222222222222,\"#7201a8\"],[0.3333333333333333,\"#9c179e\"],[0.4444444444444444,\"#bd3786\"],[0.5555555555555556,\"#d8576b\"],[0.6666666666666666,\"#ed7953\"],[0.7777777777777778,\"#fb9f3a\"],[0.8888888888888888,\"#fdca26\"],[1.0,\"#f0f921\"]]}],\"heatmapgl\":[{\"type\":\"heatmapgl\",\"colorbar\":{\"outlinewidth\":0,\"ticks\":\"\"},\"colorscale\":[[0.0,\"#0d0887\"],[0.1111111111111111,\"#46039f\"],[0.2222222222222222,\"#7201a8\"],[0.3333333333333333,\"#9c179e\"],[0.4444444444444444,\"#bd3786\"],[0.5555555555555556,\"#d8576b\"],[0.6666666666666666,\"#ed7953\"],[0.7777777777777778,\"#fb9f3a\"],[0.8888888888888888,\"#fdca26\"],[1.0,\"#f0f921\"]]}],\"contourcarpet\":[{\"type\":\"contourcarpet\",\"colorbar\":{\"outlinewidth\":0,\"ticks\":\"\"}}],\"contour\":[{\"type\":\"contour\",\"colorbar\":{\"outlinewidth\":0,\"ticks\":\"\"},\"colorscale\":[[0.0,\"#0d0887\"],[0.1111111111111111,\"#46039f\"],[0.2222222222222222,\"#7201a8\"],[0.3333333333333333,\"#9c179e\"],[0.4444444444444444,\"#bd3786\"],[0.5555555555555556,\"#d8576b\"],[0.6666666666666666,\"#ed7953\"],[0.7777777777777778,\"#fb9f3a\"],[0.8888888888888888,\"#fdca26\"],[1.0,\"#f0f921\"]]}],\"surface\":[{\"type\":\"surface\",\"colorbar\":{\"outlinewidth\":0,\"ticks\":\"\"},\"colorscale\":[[0.0,\"#0d0887\"],[0.1111111111111111,\"#46039f\"],[0.2222222222222222,\"#7201a8\"],[0.3333333333333333,\"#9c179e\"],[0.4444444444444444,\"#bd3786\"],[0.5555555555555556,\"#d8576b\"],[0.6666666666666666,\"#ed7953\"],[0.7777777777777778,\"#fb9f3a\"],[0.8888888888888888,\"#fdca26\"],[1.0,\"#f0f921\"]]}],\"mesh3d\":[{\"type\":\"mesh3d\",\"colorbar\":{\"outlinewidth\":0,\"ticks\":\"\"}}],\"scatter\":[{\"fillpattern\":{\"fillmode\":\"overlay\",\"size\":10,\"solidity\":0.2},\"type\":\"scatter\"}],\"parcoords\":[{\"type\":\"parcoords\",\"line\":{\"colorbar\":{\"outlinewidth\":0,\"ticks\":\"\"}}}],\"scatterpolargl\":[{\"type\":\"scatterpolargl\",\"marker\":{\"colorbar\":{\"outlinewidth\":0,\"ticks\":\"\"}}}],\"bar\":[{\"error_x\":{\"color\":\"#2a3f5f\"},\"error_y\":{\"color\":\"#2a3f5f\"},\"marker\":{\"line\":{\"color\":\"#E5ECF6\",\"width\":0.5},\"pattern\":{\"fillmode\":\"overlay\",\"size\":10,\"solidity\":0.2}},\"type\":\"bar\"}],\"scattergeo\":[{\"type\":\"scattergeo\",\"marker\":{\"colorbar\":{\"outlinewidth\":0,\"ticks\":\"\"}}}],\"scatterpolar\":[{\"type\":\"scatterpolar\",\"marker\":{\"colorbar\":{\"outlinewidth\":0,\"ticks\":\"\"}}}],\"histogram\":[{\"marker\":{\"pattern\":{\"fillmode\":\"overlay\",\"size\":10,\"solidity\":0.2}},\"type\":\"histogram\"}],\"scattergl\":[{\"type\":\"scattergl\",\"marker\":{\"colorbar\":{\"outlinewidth\":0,\"ticks\":\"\"}}}],\"scatter3d\":[{\"type\":\"scatter3d\",\"line\":{\"colorbar\":{\"outlinewidth\":0,\"ticks\":\"\"}},\"marker\":{\"colorbar\":{\"outlinewidth\":0,\"ticks\":\"\"}}}],\"scattermapbox\":[{\"type\":\"scattermapbox\",\"marker\":{\"colorbar\":{\"outlinewidth\":0,\"ticks\":\"\"}}}],\"scatterternary\":[{\"type\":\"scatterternary\",\"marker\":{\"colorbar\":{\"outlinewidth\":0,\"ticks\":\"\"}}}],\"scattercarpet\":[{\"type\":\"scattercarpet\",\"marker\":{\"colorbar\":{\"outlinewidth\":0,\"ticks\":\"\"}}}],\"carpet\":[{\"aaxis\":{\"endlinecolor\":\"#2a3f5f\",\"gridcolor\":\"white\",\"linecolor\":\"white\",\"minorgridcolor\":\"white\",\"startlinecolor\":\"#2a3f5f\"},\"baxis\":{\"endlinecolor\":\"#2a3f5f\",\"gridcolor\":\"white\",\"linecolor\":\"white\",\"minorgridcolor\":\"white\",\"startlinecolor\":\"#2a3f5f\"},\"type\":\"carpet\"}],\"table\":[{\"cells\":{\"fill\":{\"color\":\"#EBF0F8\"},\"line\":{\"color\":\"white\"}},\"header\":{\"fill\":{\"color\":\"#C8D4E3\"},\"line\":{\"color\":\"white\"}},\"type\":\"table\"}],\"barpolar\":[{\"marker\":{\"line\":{\"color\":\"#E5ECF6\",\"width\":0.5},\"pattern\":{\"fillmode\":\"overlay\",\"size\":10,\"solidity\":0.2}},\"type\":\"barpolar\"}],\"pie\":[{\"automargin\":true,\"type\":\"pie\"}]},\"layout\":{\"autotypenumbers\":\"strict\",\"colorway\":[\"#636efa\",\"#EF553B\",\"#00cc96\",\"#ab63fa\",\"#FFA15A\",\"#19d3f3\",\"#FF6692\",\"#B6E880\",\"#FF97FF\",\"#FECB52\"],\"font\":{\"color\":\"#2a3f5f\"},\"hovermode\":\"closest\",\"hoverlabel\":{\"align\":\"left\"},\"paper_bgcolor\":\"white\",\"plot_bgcolor\":\"#E5ECF6\",\"polar\":{\"bgcolor\":\"#E5ECF6\",\"angularaxis\":{\"gridcolor\":\"white\",\"linecolor\":\"white\",\"ticks\":\"\"},\"radialaxis\":{\"gridcolor\":\"white\",\"linecolor\":\"white\",\"ticks\":\"\"}},\"ternary\":{\"bgcolor\":\"#E5ECF6\",\"aaxis\":{\"gridcolor\":\"white\",\"linecolor\":\"white\",\"ticks\":\"\"},\"baxis\":{\"gridcolor\":\"white\",\"linecolor\":\"white\",\"ticks\":\"\"},\"caxis\":{\"gridcolor\":\"white\",\"linecolor\":\"white\",\"ticks\":\"\"}},\"coloraxis\":{\"colorbar\":{\"outlinewidth\":0,\"ticks\":\"\"}},\"colorscale\":{\"sequential\":[[0.0,\"#0d0887\"],[0.1111111111111111,\"#46039f\"],[0.2222222222222222,\"#7201a8\"],[0.3333333333333333,\"#9c179e\"],[0.4444444444444444,\"#bd3786\"],[0.5555555555555556,\"#d8576b\"],[0.6666666666666666,\"#ed7953\"],[0.7777777777777778,\"#fb9f3a\"],[0.8888888888888888,\"#fdca26\"],[1.0,\"#f0f921\"]],\"sequentialminus\":[[0.0,\"#0d0887\"],[0.1111111111111111,\"#46039f\"],[0.2222222222222222,\"#7201a8\"],[0.3333333333333333,\"#9c179e\"],[0.4444444444444444,\"#bd3786\"],[0.5555555555555556,\"#d8576b\"],[0.6666666666666666,\"#ed7953\"],[0.7777777777777778,\"#fb9f3a\"],[0.8888888888888888,\"#fdca26\"],[1.0,\"#f0f921\"]],\"diverging\":[[0,\"#8e0152\"],[0.1,\"#c51b7d\"],[0.2,\"#de77ae\"],[0.3,\"#f1b6da\"],[0.4,\"#fde0ef\"],[0.5,\"#f7f7f7\"],[0.6,\"#e6f5d0\"],[0.7,\"#b8e186\"],[0.8,\"#7fbc41\"],[0.9,\"#4d9221\"],[1,\"#276419\"]]},\"xaxis\":{\"gridcolor\":\"white\",\"linecolor\":\"white\",\"ticks\":\"\",\"title\":{\"standoff\":15},\"zerolinecolor\":\"white\",\"automargin\":true,\"zerolinewidth\":2},\"yaxis\":{\"gridcolor\":\"white\",\"linecolor\":\"white\",\"ticks\":\"\",\"title\":{\"standoff\":15},\"zerolinecolor\":\"white\",\"automargin\":true,\"zerolinewidth\":2},\"scene\":{\"xaxis\":{\"backgroundcolor\":\"#E5ECF6\",\"gridcolor\":\"white\",\"linecolor\":\"white\",\"showbackground\":true,\"ticks\":\"\",\"zerolinecolor\":\"white\",\"gridwidth\":2},\"yaxis\":{\"backgroundcolor\":\"#E5ECF6\",\"gridcolor\":\"white\",\"linecolor\":\"white\",\"showbackground\":true,\"ticks\":\"\",\"zerolinecolor\":\"white\",\"gridwidth\":2},\"zaxis\":{\"backgroundcolor\":\"#E5ECF6\",\"gridcolor\":\"white\",\"linecolor\":\"white\",\"showbackground\":true,\"ticks\":\"\",\"zerolinecolor\":\"white\",\"gridwidth\":2}},\"shapedefaults\":{\"line\":{\"color\":\"#2a3f5f\"}},\"annotationdefaults\":{\"arrowcolor\":\"#2a3f5f\",\"arrowhead\":0,\"arrowwidth\":1},\"geo\":{\"bgcolor\":\"white\",\"landcolor\":\"#E5ECF6\",\"subunitcolor\":\"white\",\"showland\":true,\"showlakes\":true,\"lakecolor\":\"white\"},\"title\":{\"x\":0.05},\"mapbox\":{\"style\":\"light\"}}},\"xaxis\":{\"anchor\":\"y\",\"domain\":[0.0,1.0],\"showticklabels\":false},\"yaxis\":{\"anchor\":\"x\",\"domain\":[0.0,1.0],\"showticklabels\":false},\"margin\":{\"t\":60}},                        {\"responsive\": true}                    ).then(function(){\n",
       "                            \n",
       "var gd = document.getElementById('5af98b1e-7211-45c5-890e-cd5e2f8febea');\n",
       "var x = new MutationObserver(function (mutations, observer) {{\n",
       "        var display = window.getComputedStyle(gd).display;\n",
       "        if (!display || display === 'none') {{\n",
       "            console.log([gd, 'removed!']);\n",
       "            Plotly.purge(gd);\n",
       "            observer.disconnect();\n",
       "        }}\n",
       "}});\n",
       "\n",
       "// Listen for the removal of the full notebook cells\n",
       "var notebookContainer = gd.closest('#notebook-container');\n",
       "if (notebookContainer) {{\n",
       "    x.observe(notebookContainer, {childList: true});\n",
       "}}\n",
       "\n",
       "// Listen for the clearing of the current output cell\n",
       "var outputEl = gd.closest('.output');\n",
       "if (outputEl) {{\n",
       "    x.observe(outputEl, {childList: true});\n",
       "}}\n",
       "\n",
       "                        })                };                });            </script>        </div>"
      ]
     },
     "metadata": {},
     "output_type": "display_data"
    }
   ],
   "source": [
    "stopwords = set(STOPWORDS)\n",
    "wordcloud = WordCloud(background_color = \"black\", stopwords = stopwords, max_words=20, \n",
    "                      colormap = 'viridis', collocations=False).generate(data['text'].lower())\n",
    "wordcloud_plot = px.imshow(wordcloud)\n",
    "wordcloud_plot.update_xaxes(showticklabels=False)\n",
    "wordcloud_plot.update_yaxes(showticklabels=False)\n",
    "wordcloud_plot"
   ]
  },
  {
   "cell_type": "code",
   "execution_count": 62,
   "id": "4455daa0-9e98-4738-bc75-12a2690b2e01",
   "metadata": {},
   "outputs": [],
   "source": [
    "class Controller(param.Parameterized):\n",
    "    word_slider = param.Integer(30, bounds=(5,50), step=5)\n",
    "controller=Controller()\n",
    "\n",
    "@pn.depends(controller.param.word_slider, watch=True)\n",
    "def update_wordcloud(num_words):\n",
    "    wordcloud = WordCloud(background_color = \"black\", stopwords = stopwords, max_words=20, \n",
    "                      colormap = 'viridis', collocations=False).generate(data['text'].lower())\n",
    "    wordcloud_plot = px.imshow(wordcloud)\n",
    "    wordcloud_plot.update_xaxes(showticklabels=False)\n",
    "    wordcloud_plot.update_yaxes(showticklabels=False)\n",
    "    return wordcloud_plot\n",
    "    "
   ]
  },
  {
   "cell_type": "markdown",
   "id": "91d02dde-2a3d-47af-a66f-d3aed9a9b16a",
   "metadata": {},
   "source": [
    "<h4> We skipped AutoChapters as this audio is very short </h4>\n",
    "However, as a good practice we can "
   ]
  },
  {
   "cell_type": "code",
   "execution_count": 176,
   "id": "41afe006-b459-490a-bb37-c3c1936200da",
   "metadata": {},
   "outputs": [
    {
     "data": {
      "text/html": [
       "<div>\n",
       "<style scoped>\n",
       "    .dataframe tbody tr th:only-of-type {\n",
       "        vertical-align: middle;\n",
       "    }\n",
       "\n",
       "    .dataframe tbody tr th {\n",
       "        vertical-align: top;\n",
       "    }\n",
       "\n",
       "    .dataframe thead th {\n",
       "        text-align: right;\n",
       "    }\n",
       "</style>\n",
       "<table border=\"1\" class=\"dataframe\">\n",
       "  <thead>\n",
       "    <tr style=\"text-align: right;\">\n",
       "      <th></th>\n",
       "      <th>count</th>\n",
       "      <th>rank</th>\n",
       "      <th>text</th>\n",
       "      <th>timestamps</th>\n",
       "      <th>timestamp</th>\n",
       "    </tr>\n",
       "  </thead>\n",
       "  <tbody>\n",
       "    <tr>\n",
       "      <th>0</th>\n",
       "      <td>1</td>\n",
       "      <td>0.08</td>\n",
       "      <td>better things</td>\n",
       "      <td>{'start': 235120, 'end': 235597}</td>\n",
       "      <td>2351.20</td>\n",
       "    </tr>\n",
       "    <tr>\n",
       "      <th>1</th>\n",
       "      <td>1</td>\n",
       "      <td>0.07</td>\n",
       "      <td>Good common sense horse</td>\n",
       "      <td>{'start': 40467, 'end': 41772}</td>\n",
       "      <td>404.67</td>\n",
       "    </tr>\n",
       "    <tr>\n",
       "      <th>2</th>\n",
       "      <td>1</td>\n",
       "      <td>0.06</td>\n",
       "      <td>more jokes</td>\n",
       "      <td>{'start': 162655, 'end': 163047}</td>\n",
       "      <td>1626.55</td>\n",
       "    </tr>\n",
       "    <tr>\n",
       "      <th>3</th>\n",
       "      <td>4</td>\n",
       "      <td>0.06</td>\n",
       "      <td>freedom</td>\n",
       "      <td>{'start': 208615, 'end': 209202}</td>\n",
       "      <td>2086.15</td>\n",
       "    </tr>\n",
       "    <tr>\n",
       "      <th>3</th>\n",
       "      <td>4</td>\n",
       "      <td>0.06</td>\n",
       "      <td>freedom</td>\n",
       "      <td>{'start': 210280, 'end': 210762}</td>\n",
       "      <td>2102.80</td>\n",
       "    </tr>\n",
       "    <tr>\n",
       "      <th>3</th>\n",
       "      <td>4</td>\n",
       "      <td>0.06</td>\n",
       "      <td>freedom</td>\n",
       "      <td>{'start': 215395, 'end': 215697}</td>\n",
       "      <td>2153.95</td>\n",
       "    </tr>\n",
       "    <tr>\n",
       "      <th>3</th>\n",
       "      <td>4</td>\n",
       "      <td>0.06</td>\n",
       "      <td>freedom</td>\n",
       "      <td>{'start': 219865, 'end': 220152}</td>\n",
       "      <td>2198.65</td>\n",
       "    </tr>\n",
       "    <tr>\n",
       "      <th>4</th>\n",
       "      <td>1</td>\n",
       "      <td>0.05</td>\n",
       "      <td>very proud people</td>\n",
       "      <td>{'start': 28105, 'end': 29497}</td>\n",
       "      <td>281.05</td>\n",
       "    </tr>\n",
       "    <tr>\n",
       "      <th>5</th>\n",
       "      <td>1</td>\n",
       "      <td>0.05</td>\n",
       "      <td>country class</td>\n",
       "      <td>{'start': 31405, 'end': 32137}</td>\n",
       "      <td>314.05</td>\n",
       "    </tr>\n",
       "    <tr>\n",
       "      <th>6</th>\n",
       "      <td>1</td>\n",
       "      <td>0.05</td>\n",
       "      <td>Paul Dean</td>\n",
       "      <td>{'start': 196810, 'end': 197832}</td>\n",
       "      <td>1968.10</td>\n",
       "    </tr>\n",
       "    <tr>\n",
       "      <th>7</th>\n",
       "      <td>4</td>\n",
       "      <td>0.05</td>\n",
       "      <td>person</td>\n",
       "      <td>{'start': 96535, 'end': 96742}</td>\n",
       "      <td>965.35</td>\n",
       "    </tr>\n",
       "    <tr>\n",
       "      <th>7</th>\n",
       "      <td>4</td>\n",
       "      <td>0.05</td>\n",
       "      <td>person</td>\n",
       "      <td>{'start': 169135, 'end': 169522}</td>\n",
       "      <td>1691.35</td>\n",
       "    </tr>\n",
       "    <tr>\n",
       "      <th>7</th>\n",
       "      <td>4</td>\n",
       "      <td>0.05</td>\n",
       "      <td>person</td>\n",
       "      <td>{'start': 178495, 'end': 178717}</td>\n",
       "      <td>1784.95</td>\n",
       "    </tr>\n",
       "    <tr>\n",
       "      <th>7</th>\n",
       "      <td>4</td>\n",
       "      <td>0.05</td>\n",
       "      <td>person</td>\n",
       "      <td>{'start': 221995, 'end': 222262}</td>\n",
       "      <td>2219.95</td>\n",
       "    </tr>\n",
       "    <tr>\n",
       "      <th>8</th>\n",
       "      <td>2</td>\n",
       "      <td>0.05</td>\n",
       "      <td>clothes</td>\n",
       "      <td>{'start': 104817, 'end': 105222}</td>\n",
       "      <td>1048.17</td>\n",
       "    </tr>\n",
       "    <tr>\n",
       "      <th>8</th>\n",
       "      <td>2</td>\n",
       "      <td>0.05</td>\n",
       "      <td>clothes</td>\n",
       "      <td>{'start': 183820, 'end': 184152}</td>\n",
       "      <td>1838.20</td>\n",
       "    </tr>\n",
       "    <tr>\n",
       "      <th>9</th>\n",
       "      <td>1</td>\n",
       "      <td>0.05</td>\n",
       "      <td>Other members</td>\n",
       "      <td>{'start': 68362, 'end': 69142}</td>\n",
       "      <td>683.62</td>\n",
       "    </tr>\n",
       "    <tr>\n",
       "      <th>10</th>\n",
       "      <td>1</td>\n",
       "      <td>0.05</td>\n",
       "      <td>whole thing</td>\n",
       "      <td>{'start': 89245, 'end': 89737}</td>\n",
       "      <td>892.45</td>\n",
       "    </tr>\n",
       "    <tr>\n",
       "      <th>11</th>\n",
       "      <td>2</td>\n",
       "      <td>0.05</td>\n",
       "      <td>life</td>\n",
       "      <td>{'start': 133705, 'end': 133942}</td>\n",
       "      <td>1337.05</td>\n",
       "    </tr>\n",
       "    <tr>\n",
       "      <th>11</th>\n",
       "      <td>2</td>\n",
       "      <td>0.05</td>\n",
       "      <td>life</td>\n",
       "      <td>{'start': 175555, 'end': 175792}</td>\n",
       "      <td>1755.55</td>\n",
       "    </tr>\n",
       "    <tr>\n",
       "      <th>12</th>\n",
       "      <td>1</td>\n",
       "      <td>0.05</td>\n",
       "      <td>easiest thing</td>\n",
       "      <td>{'start': 114820, 'end': 115327}</td>\n",
       "      <td>1148.20</td>\n",
       "    </tr>\n",
       "    <tr>\n",
       "      <th>13</th>\n",
       "      <td>1</td>\n",
       "      <td>0.05</td>\n",
       "      <td>show business</td>\n",
       "      <td>{'start': 141160, 'end': 141787}</td>\n",
       "      <td>1411.60</td>\n",
       "    </tr>\n",
       "    <tr>\n",
       "      <th>14</th>\n",
       "      <td>2</td>\n",
       "      <td>0.04</td>\n",
       "      <td>fun</td>\n",
       "      <td>{'start': 150130, 'end': 150277}</td>\n",
       "      <td>1501.30</td>\n",
       "    </tr>\n",
       "    <tr>\n",
       "      <th>14</th>\n",
       "      <td>2</td>\n",
       "      <td>0.04</td>\n",
       "      <td>fun</td>\n",
       "      <td>{'start': 151630, 'end': 151777}</td>\n",
       "      <td>1516.30</td>\n",
       "    </tr>\n",
       "  </tbody>\n",
       "</table>\n",
       "</div>"
      ],
      "text/plain": [
       "    count  rank                     text                        timestamps  \\\n",
       "0       1  0.08            better things  {'start': 235120, 'end': 235597}   \n",
       "1       1  0.07  Good common sense horse    {'start': 40467, 'end': 41772}   \n",
       "2       1  0.06               more jokes  {'start': 162655, 'end': 163047}   \n",
       "3       4  0.06                  freedom  {'start': 208615, 'end': 209202}   \n",
       "3       4  0.06                  freedom  {'start': 210280, 'end': 210762}   \n",
       "3       4  0.06                  freedom  {'start': 215395, 'end': 215697}   \n",
       "3       4  0.06                  freedom  {'start': 219865, 'end': 220152}   \n",
       "4       1  0.05        very proud people    {'start': 28105, 'end': 29497}   \n",
       "5       1  0.05            country class    {'start': 31405, 'end': 32137}   \n",
       "6       1  0.05                Paul Dean  {'start': 196810, 'end': 197832}   \n",
       "7       4  0.05                   person    {'start': 96535, 'end': 96742}   \n",
       "7       4  0.05                   person  {'start': 169135, 'end': 169522}   \n",
       "7       4  0.05                   person  {'start': 178495, 'end': 178717}   \n",
       "7       4  0.05                   person  {'start': 221995, 'end': 222262}   \n",
       "8       2  0.05                  clothes  {'start': 104817, 'end': 105222}   \n",
       "8       2  0.05                  clothes  {'start': 183820, 'end': 184152}   \n",
       "9       1  0.05            Other members    {'start': 68362, 'end': 69142}   \n",
       "10      1  0.05              whole thing    {'start': 89245, 'end': 89737}   \n",
       "11      2  0.05                     life  {'start': 133705, 'end': 133942}   \n",
       "11      2  0.05                     life  {'start': 175555, 'end': 175792}   \n",
       "12      1  0.05            easiest thing  {'start': 114820, 'end': 115327}   \n",
       "13      1  0.05            show business  {'start': 141160, 'end': 141787}   \n",
       "14      2  0.04                      fun  {'start': 150130, 'end': 150277}   \n",
       "14      2  0.04                      fun  {'start': 151630, 'end': 151777}   \n",
       "\n",
       "    timestamp  \n",
       "0     2351.20  \n",
       "1      404.67  \n",
       "2     1626.55  \n",
       "3     2086.15  \n",
       "3     2102.80  \n",
       "3     2153.95  \n",
       "3     2198.65  \n",
       "4      281.05  \n",
       "5      314.05  \n",
       "6     1968.10  \n",
       "7      965.35  \n",
       "7     1691.35  \n",
       "7     1784.95  \n",
       "7     2219.95  \n",
       "8     1048.17  \n",
       "8     1838.20  \n",
       "9      683.62  \n",
       "10     892.45  \n",
       "11    1337.05  \n",
       "11    1755.55  \n",
       "12    1148.20  \n",
       "13    1411.60  \n",
       "14    1501.30  \n",
       "14    1516.30  "
      ]
     },
     "execution_count": 176,
     "metadata": {},
     "output_type": "execute_result"
    }
   ],
   "source": [
    "highlights = pd.DataFrame(data['auto_highlights_result']['results'])\n",
    "highlights = highlights.explode('timestamps')\n",
    "highlights['timestamp'] = highlights['timestamps'].map(lambda x: x['start']/100)\n",
    "highlights"
   ]
  },
  {
   "cell_type": "code",
   "execution_count": 177,
   "id": "cd155d38-1ff9-4721-b748-1c8d23fb841f",
   "metadata": {},
   "outputs": [],
   "source": [
    "def gen_count_size(df):\n",
    "    return df['count'].map(lambda x: x*100)"
   ]
  },
  {
   "cell_type": "code",
   "execution_count": 191,
   "id": "a15456da-00d9-4f3e-b71f-317b913bdd3e",
   "metadata": {},
   "outputs": [
    {
     "data": {
      "application/vnd.holoviews_exec.v0+json": "",
      "text/html": [
       "<div id='6176'>\n",
       "  <div class=\"bk-root\" id=\"db82a69d-f495-4c29-a064-b1689cc9d306\" data-root-id=\"6176\"></div>\n",
       "</div>\n",
       "<script type=\"application/javascript\">(function(root) {\n",
       "  function embed_document(root) {\n",
       "    var docs_json = {\"3da1d227-52f5-47cb-8c01-3106e0ddec03\":{\"defs\":[{\"extends\":null,\"module\":null,\"name\":\"ReactiveHTML1\",\"overrides\":[],\"properties\":[]},{\"extends\":null,\"module\":null,\"name\":\"FlexBox1\",\"overrides\":[],\"properties\":[{\"default\":\"flex-start\",\"kind\":null,\"name\":\"align_content\"},{\"default\":\"flex-start\",\"kind\":null,\"name\":\"align_items\"},{\"default\":\"row\",\"kind\":null,\"name\":\"flex_direction\"},{\"default\":\"wrap\",\"kind\":null,\"name\":\"flex_wrap\"},{\"default\":\"flex-start\",\"kind\":null,\"name\":\"justify_content\"}]},{\"extends\":null,\"module\":null,\"name\":\"GridStack1\",\"overrides\":[],\"properties\":[{\"default\":\"warn\",\"kind\":null,\"name\":\"mode\"},{\"default\":null,\"kind\":null,\"name\":\"ncols\"},{\"default\":null,\"kind\":null,\"name\":\"nrows\"},{\"default\":true,\"kind\":null,\"name\":\"allow_resize\"},{\"default\":true,\"kind\":null,\"name\":\"allow_drag\"},{\"default\":[],\"kind\":null,\"name\":\"state\"}]},{\"extends\":null,\"module\":null,\"name\":\"click1\",\"overrides\":[],\"properties\":[{\"default\":\"\",\"kind\":null,\"name\":\"terminal_output\"},{\"default\":\"\",\"kind\":null,\"name\":\"debug_name\"},{\"default\":0,\"kind\":null,\"name\":\"clears\"}]},{\"extends\":null,\"module\":null,\"name\":\"NotificationAreaBase1\",\"overrides\":[],\"properties\":[{\"default\":\"bottom-right\",\"kind\":null,\"name\":\"position\"},{\"default\":0,\"kind\":null,\"name\":\"_clear\"}]},{\"extends\":null,\"module\":null,\"name\":\"NotificationArea1\",\"overrides\":[],\"properties\":[{\"default\":[],\"kind\":null,\"name\":\"notifications\"},{\"default\":\"bottom-right\",\"kind\":null,\"name\":\"position\"},{\"default\":0,\"kind\":null,\"name\":\"_clear\"},{\"default\":[{\"background\":\"#ffc107\",\"icon\":{\"className\":\"fas fa-exclamation-triangle\",\"color\":\"white\",\"tagName\":\"i\"},\"type\":\"warning\"},{\"background\":\"#007bff\",\"icon\":{\"className\":\"fas fa-info-circle\",\"color\":\"white\",\"tagName\":\"i\"},\"type\":\"info\"}],\"kind\":null,\"name\":\"types\"}]},{\"extends\":null,\"module\":null,\"name\":\"Notification\",\"overrides\":[],\"properties\":[{\"default\":null,\"kind\":null,\"name\":\"background\"},{\"default\":3000,\"kind\":null,\"name\":\"duration\"},{\"default\":null,\"kind\":null,\"name\":\"icon\"},{\"default\":\"\",\"kind\":null,\"name\":\"message\"},{\"default\":null,\"kind\":null,\"name\":\"notification_type\"},{\"default\":false,\"kind\":null,\"name\":\"_destroyed\"}]},{\"extends\":null,\"module\":null,\"name\":\"TemplateActions1\",\"overrides\":[],\"properties\":[{\"default\":0,\"kind\":null,\"name\":\"open_modal\"},{\"default\":0,\"kind\":null,\"name\":\"close_modal\"}]},{\"extends\":null,\"module\":null,\"name\":\"MaterialTemplateActions1\",\"overrides\":[],\"properties\":[{\"default\":0,\"kind\":null,\"name\":\"open_modal\"},{\"default\":0,\"kind\":null,\"name\":\"close_modal\"}]}],\"roots\":{\"references\":[{\"attributes\":{},\"id\":\"6195\",\"type\":\"BasicTicker\"},{\"attributes\":{\"bottom_units\":\"screen\",\"coordinates\":null,\"fill_alpha\":0.5,\"fill_color\":\"lightgrey\",\"group\":null,\"left_units\":\"screen\",\"level\":\"overlay\",\"line_alpha\":1.0,\"line_color\":\"black\",\"line_dash\":[4,4],\"line_width\":2,\"right_units\":\"screen\",\"syncable\":false,\"top_units\":\"screen\"},\"id\":\"6203\",\"type\":\"BoxAnnotation\"},{\"attributes\":{\"callback\":null,\"renderers\":[{\"id\":\"6220\"}],\"tags\":[\"hv_created\"],\"tooltips\":[[\"timestamp\",\"@{timestamp}\"],[\"rank\",\"@{rank}\"],[\"text\",\"@{text}\"],[\"_size\",\"@{A__size}\"],[\"index\",\"@{index}\"],[\"count\",\"@{count}\"]]},\"id\":\"6180\",\"type\":\"HoverTool\"},{\"attributes\":{\"below\":[{\"id\":\"6190\"}],\"center\":[{\"id\":\"6193\"},{\"id\":\"6197\"},{\"id\":\"6232\"}],\"left\":[{\"id\":\"6194\"}],\"margin\":[5,5,5,5],\"min_border_bottom\":10,\"min_border_left\":10,\"min_border_right\":10,\"min_border_top\":10,\"renderers\":[{\"id\":\"6220\"}],\"right\":[{\"id\":\"6232\"}],\"sizing_mode\":\"fixed\",\"title\":{\"id\":\"6182\"},\"toolbar\":{\"id\":\"6204\"},\"width\":1300,\"x_range\":{\"id\":\"6178\"},\"x_scale\":{\"id\":\"6186\"},\"y_range\":{\"id\":\"6179\"},\"y_scale\":{\"id\":\"6188\"}},\"id\":\"6181\",\"subtype\":\"Figure\",\"type\":\"Plot\"},{\"attributes\":{},\"id\":\"6229\",\"type\":\"UnionRenderers\"},{\"attributes\":{},\"id\":\"6224\",\"type\":\"BasicTickFormatter\"},{\"attributes\":{},\"id\":\"6198\",\"type\":\"SaveTool\"},{\"attributes\":{},\"id\":\"6225\",\"type\":\"AllLabels\"},{\"attributes\":{\"fill_color\":{\"field\":\"color\",\"transform\":{\"id\":\"6211\"}},\"hatch_color\":{\"field\":\"color\",\"transform\":{\"id\":\"6211\"}},\"line_color\":{\"field\":\"color\",\"transform\":{\"id\":\"6211\"}},\"size\":{\"field\":\"size\"},\"x\":{\"field\":\"timestamp\"},\"y\":{\"field\":\"rank\"}},\"id\":\"6215\",\"type\":\"Scatter\"},{\"attributes\":{},\"id\":\"6227\",\"type\":\"BasicTickFormatter\"},{\"attributes\":{\"fill_color\":{\"field\":\"color\",\"transform\":{\"id\":\"6211\"}},\"hatch_color\":{\"field\":\"color\",\"transform\":{\"id\":\"6211\"}},\"line_color\":{\"field\":\"color\",\"transform\":{\"id\":\"6211\"}},\"size\":{\"field\":\"size\"},\"x\":{\"field\":\"timestamp\"},\"y\":{\"field\":\"rank\"}},\"id\":\"6217\",\"type\":\"Scatter\"},{\"attributes\":{\"fill_alpha\":{\"value\":0.1},\"fill_color\":{\"field\":\"color\",\"transform\":{\"id\":\"6211\"}},\"hatch_alpha\":{\"value\":0.1},\"hatch_color\":{\"field\":\"color\",\"transform\":{\"id\":\"6211\"}},\"line_alpha\":{\"value\":0.1},\"line_color\":{\"field\":\"color\",\"transform\":{\"id\":\"6211\"}},\"size\":{\"field\":\"size\"},\"x\":{\"field\":\"timestamp\"},\"y\":{\"field\":\"rank\"}},\"id\":\"6216\",\"type\":\"Scatter\"},{\"attributes\":{},\"id\":\"6200\",\"type\":\"WheelZoomTool\"},{\"attributes\":{\"coordinates\":null,\"group\":null,\"text\":\"Automatic Highlighted Words\",\"text_color\":\"black\",\"text_font_size\":\"12pt\"},\"id\":\"6182\",\"type\":\"Title\"},{\"attributes\":{\"axis\":{\"id\":\"6190\"},\"coordinates\":null,\"grid_line_color\":null,\"group\":null,\"ticker\":null},\"id\":\"6193\",\"type\":\"Grid\"},{\"attributes\":{\"margin\":[5,5,5,5],\"name\":\"HSpacer05100\",\"sizing_mode\":\"stretch_width\"},\"id\":\"6250\",\"type\":\"Spacer\"},{\"attributes\":{\"data\":{\"A__size\":{\"__ndarray__\":\"AAAAAAAAJEAAAAAAAAAkQAAAAAAAACRAAAAAAAAANEAAAAAAAAA0QAAAAAAAADRAAAAAAAAANEAAAAAAAAAkQAAAAAAAACRAAAAAAAAAJEAAAAAAAAA0QAAAAAAAADRAAAAAAAAANEAAAAAAAAA0QMAKHwDGSCxAwAofAMZILEAAAAAAAAAkQAAAAAAAACRAwAofAMZILEDACh8AxkgsQAAAAAAAACRAAAAAAAAAJEDACh8AxkgsQMAKHwDGSCxA\",\"dtype\":\"float64\",\"order\":\"little\",\"shape\":[24]},\"color\":[\"better things\",\"Good common sense horse\",\"more jokes\",\"freedom\",\"freedom\",\"freedom\",\"freedom\",\"very proud people\",\"country class\",\"Paul Dean\",\"person\",\"person\",\"person\",\"person\",\"clothes\",\"clothes\",\"Other members\",\"whole thing\",\"life\",\"life\",\"easiest thing\",\"show business\",\"fun\",\"fun\"],\"count\":[1,1,1,4,4,4,4,1,1,1,4,4,4,4,2,2,1,1,2,2,1,1,2,2],\"index\":[0,1,2,3,3,3,3,4,5,6,7,7,7,7,8,8,9,10,11,11,12,13,14,14],\"rank\":{\"__ndarray__\":\"exSuR+F6tD/sUbgeheuxP7gehetRuK4/uB6F61G4rj+4HoXrUbiuP7gehetRuK4/uB6F61G4rj+amZmZmZmpP5qZmZmZmak/mpmZmZmZqT+amZmZmZmpP5qZmZmZmak/mpmZmZmZqT+amZmZmZmpP5qZmZmZmak/mpmZmZmZqT+amZmZmZmpP5qZmZmZmak/mpmZmZmZqT+amZmZmZmpP5qZmZmZmak/mpmZmZmZqT97FK5H4XqkP3sUrkfheqQ/\",\"dtype\":\"float64\",\"order\":\"little\",\"shape\":[24]},\"size\":{\"__ndarray__\":\"AAAAAAAAJEAAAAAAAAAkQAAAAAAAACRAAAAAAAAANEAAAAAAAAA0QAAAAAAAADRAAAAAAAAANEAAAAAAAAAkQAAAAAAAACRAAAAAAAAAJEAAAAAAAAA0QAAAAAAAADRAAAAAAAAANEAAAAAAAAA0QMAKHwDGSCxAwAofAMZILEAAAAAAAAAkQAAAAAAAACRAwAofAMZILEDACh8AxkgsQAAAAAAAACRAAAAAAAAAJEDACh8AxkgsQMAKHwDGSCxA\",\"dtype\":\"float64\",\"order\":\"little\",\"shape\":[24]},\"text\":[\"better things\",\"Good common sense horse\",\"more jokes\",\"freedom\",\"freedom\",\"freedom\",\"freedom\",\"very proud people\",\"country class\",\"Paul Dean\",\"person\",\"person\",\"person\",\"person\",\"clothes\",\"clothes\",\"Other members\",\"whole thing\",\"life\",\"life\",\"easiest thing\",\"show business\",\"fun\",\"fun\"],\"timestamp\":{\"__ndarray__\":\"ZmZmZmZeokAfhetRuEp5QDMzMzMzaplAzczMzExMoECamZmZmW2gQGZmZmbm06BAzczMzEwtoUDNzMzMzJBxQM3MzMzMoHNAZmZmZmbAnkDNzMzMzCqOQGZmZmZmbZpAzczMzMzjm0BmZmZm5lehQEjhehSuYJBAzczMzMy4nEApXI/C9VyFQJqZmZmZ44tAMzMzMzPklEAzMzMzM26bQM3MzMzM8JFAZmZmZmYOlkAzMzMzM3WXQDMzMzMzsZdA\",\"dtype\":\"float64\",\"order\":\"little\",\"shape\":[24]}},\"selected\":{\"id\":\"6213\"},\"selection_policy\":{\"id\":\"6229\"}},\"id\":\"6212\",\"type\":\"ColumnDataSource\"},{\"attributes\":{\"axis_label\":\"rank\",\"coordinates\":null,\"formatter\":{\"id\":\"6224\"},\"group\":null,\"major_label_policy\":{\"id\":\"6225\"},\"ticker\":{\"id\":\"6195\"}},\"id\":\"6194\",\"type\":\"LinearAxis\"},{\"attributes\":{\"children\":[{\"id\":\"6177\"},{\"id\":\"6181\"},{\"id\":\"6250\"}],\"margin\":[0,0,0,0],\"name\":\"Row05095\",\"tags\":[\"embedded\"]},\"id\":\"6176\",\"type\":\"Row\"},{\"attributes\":{},\"id\":\"6202\",\"type\":\"ResetTool\"},{\"attributes\":{\"label\":{\"field\":\"color\"},\"renderers\":[{\"id\":\"6220\"}]},\"id\":\"6233\",\"type\":\"LegendItem\"},{\"attributes\":{},\"id\":\"6188\",\"type\":\"LinearScale\"},{\"attributes\":{\"source\":{\"id\":\"6212\"}},\"id\":\"6221\",\"type\":\"CDSView\"},{\"attributes\":{},\"id\":\"6228\",\"type\":\"AllLabels\"},{\"attributes\":{},\"id\":\"6186\",\"type\":\"LinearScale\"},{\"attributes\":{\"axis_label\":\"timestamp\",\"coordinates\":null,\"formatter\":{\"id\":\"6227\"},\"group\":null,\"major_label_policy\":{\"id\":\"6228\"},\"ticker\":{\"id\":\"6191\"}},\"id\":\"6190\",\"type\":\"LinearAxis\"},{\"attributes\":{\"overlay\":{\"id\":\"6203\"}},\"id\":\"6201\",\"type\":\"BoxZoomTool\"},{\"attributes\":{\"end\":2733.381538461538,\"reset_end\":2733.381538461538,\"reset_start\":-101.13153846153841,\"start\":-101.13153846153841,\"tags\":[[[\"timestamp\",\"timestamp\",null]]]},\"id\":\"6178\",\"type\":\"Range1d\"},{\"attributes\":{\"coordinates\":null,\"data_source\":{\"id\":\"6212\"},\"glyph\":{\"id\":\"6215\"},\"group\":null,\"hover_glyph\":{\"id\":\"6218\"},\"muted_glyph\":{\"id\":\"6219\"},\"nonselection_glyph\":{\"id\":\"6216\"},\"selection_glyph\":{\"id\":\"6217\"},\"view\":{\"id\":\"6221\"}},\"id\":\"6220\",\"type\":\"GlyphRenderer\"},{\"attributes\":{},\"id\":\"6199\",\"type\":\"PanTool\"},{\"attributes\":{\"axis\":{\"id\":\"6194\"},\"coordinates\":null,\"dimension\":1,\"grid_line_color\":null,\"group\":null,\"ticker\":null},\"id\":\"6197\",\"type\":\"Grid\"},{\"attributes\":{\"tools\":[{\"id\":\"6180\"},{\"id\":\"6198\"},{\"id\":\"6199\"},{\"id\":\"6200\"},{\"id\":\"6201\"},{\"id\":\"6202\"}]},\"id\":\"6204\",\"type\":\"Toolbar\"},{\"attributes\":{\"coordinates\":null,\"group\":null,\"items\":[{\"id\":\"6233\"}],\"location\":[0,0]},\"id\":\"6232\",\"type\":\"Legend\"},{\"attributes\":{\"margin\":[5,5,5,5],\"name\":\"HSpacer05099\",\"sizing_mode\":\"stretch_width\"},\"id\":\"6177\",\"type\":\"Spacer\"},{\"attributes\":{},\"id\":\"6191\",\"type\":\"BasicTicker\"},{\"attributes\":{\"factors\":[\"better things\",\"Good common sense horse\",\"more jokes\",\"freedom\",\"very proud people\",\"country class\",\"Paul Dean\",\"person\",\"clothes\",\"Other members\",\"whole thing\",\"life\",\"easiest thing\",\"show business\",\"fun\"],\"palette\":[\"#1f77b3\",\"#ff7e0e\",\"#2ba02b\",\"#d62628\",\"#9367bc\",\"#8c564b\",\"#e277c1\",\"#7e7e7e\",\"#bcbc21\",\"#16bdcf\",\"#3a0182\",\"#004201\",\"#0fffa8\",\"#5d003f\",\"#bcbcff\"]},\"id\":\"6211\",\"type\":\"CategoricalColorMapper\"},{\"attributes\":{\"fill_alpha\":{\"value\":0.2},\"fill_color\":{\"field\":\"color\",\"transform\":{\"id\":\"6211\"}},\"hatch_alpha\":{\"value\":0.2},\"hatch_color\":{\"field\":\"color\",\"transform\":{\"id\":\"6211\"}},\"line_alpha\":{\"value\":0.2},\"line_color\":{\"field\":\"color\",\"transform\":{\"id\":\"6211\"}},\"size\":{\"field\":\"size\"},\"x\":{\"field\":\"timestamp\"},\"y\":{\"field\":\"rank\"}},\"id\":\"6219\",\"type\":\"Scatter\"},{\"attributes\":{\"end\":0.096,\"reset_end\":0.096,\"reset_start\":0.024,\"start\":0.024,\"tags\":[[[\"rank\",\"rank\",null]]]},\"id\":\"6179\",\"type\":\"Range1d\"},{\"attributes\":{},\"id\":\"6213\",\"type\":\"Selection\"},{\"attributes\":{\"fill_color\":{\"field\":\"color\",\"transform\":{\"id\":\"6211\"}},\"hatch_color\":{\"field\":\"color\",\"transform\":{\"id\":\"6211\"}},\"line_color\":{\"field\":\"color\",\"transform\":{\"id\":\"6211\"}},\"size\":{\"field\":\"size\"},\"x\":{\"field\":\"timestamp\"},\"y\":{\"field\":\"rank\"}},\"id\":\"6218\",\"type\":\"Scatter\"}],\"root_ids\":[\"6176\"]},\"title\":\"Bokeh Application\",\"version\":\"2.4.3\"}};\n",
       "    var render_items = [{\"docid\":\"3da1d227-52f5-47cb-8c01-3106e0ddec03\",\"root_ids\":[\"6176\"],\"roots\":{\"6176\":\"db82a69d-f495-4c29-a064-b1689cc9d306\"}}];\n",
       "    root.Bokeh.embed.embed_items_notebook(docs_json, render_items);\n",
       "    for (const render_item of render_items) {\n",
       "      for (const root_id of render_item.root_ids) {\n",
       "\tconst id_el = document.getElementById(root_id)\n",
       "\tif (id_el.children.length && (id_el.children[0].className === 'bk-root')) {\n",
       "\t  const root_el = id_el.children[0]\n",
       "\t  root_el.id = root_el.id + '-rendered'\n",
       "\t}\n",
       "      }\n",
       "    }\n",
       "  }\n",
       "  if (root.Bokeh !== undefined && root.Bokeh.Panel !== undefined) {\n",
       "    embed_document(root);\n",
       "  } else {\n",
       "    var attempts = 0;\n",
       "    var timer = setInterval(function(root) {\n",
       "      if (root.Bokeh !== undefined && root.Bokeh.Panel !== undefined) {\n",
       "        clearInterval(timer);\n",
       "        embed_document(root);\n",
       "      } else if (document.readyState == \"complete\") {\n",
       "        attempts++;\n",
       "        if (attempts > 200) {\n",
       "          clearInterval(timer);\n",
       "          console.log(\"Bokeh: ERROR: Unable to run BokehJS code because BokehJS library is missing\");\n",
       "        }\n",
       "      }\n",
       "    }, 25, root)\n",
       "  }\n",
       "})(window);</script>"
      ],
      "text/plain": [
       ":Points   [timestamp,rank]   (text,_size,index,count)"
      ]
     },
     "execution_count": 191,
     "metadata": {
      "application/vnd.holoviews_exec.v0+json": {
       "id": "6176"
      }
     },
     "output_type": "execute_result"
    }
   ],
   "source": [
    "highlights[['count', 'rank', 'text', 'timestamp']].hvplot.points(x=\"timestamp\", y=\"rank\",\n",
    "              padding=0.4, hover_cols=\"all\",\n",
    "              width=1300, height=600,\n",
    "              size=gen_count_size(highlights), color=\"text\", title=\"Automatic Highlighted Words\")"
   ]
  }
 ],
 "metadata": {
  "kernelspec": {
   "display_name": "Python 3 (ipykernel)",
   "language": "python",
   "name": "python3"
  },
  "language_info": {
   "codemirror_mode": {
    "name": "ipython",
    "version": 3
   },
   "file_extension": ".py",
   "mimetype": "text/x-python",
   "name": "python",
   "nbconvert_exporter": "python",
   "pygments_lexer": "ipython3",
   "version": "3.10.0"
  }
 },
 "nbformat": 4,
 "nbformat_minor": 5
}
