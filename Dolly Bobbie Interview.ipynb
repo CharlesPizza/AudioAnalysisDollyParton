{
 "cells": [
  {
   "cell_type": "code",
   "execution_count": 1,
   "id": "1704de98-96f1-49d2-bf36-3049680dc663",
   "metadata": {},
   "outputs": [
    {
     "data": {
      "application/javascript": [
       "(function(root) {\n",
       "  function now() {\n",
       "    return new Date();\n",
       "  }\n",
       "\n",
       "  var force = true;\n",
       "\n",
       "  if (typeof root._bokeh_onload_callbacks === \"undefined\" || force === true) {\n",
       "    root._bokeh_onload_callbacks = [];\n",
       "    root._bokeh_is_loading = undefined;\n",
       "  }\n",
       "\n",
       "  if (typeof (root._bokeh_timeout) === \"undefined\" || force === true) {\n",
       "    root._bokeh_timeout = Date.now() + 5000;\n",
       "    root._bokeh_failed_load = false;\n",
       "  }\n",
       "\n",
       "  function run_callbacks() {\n",
       "    try {\n",
       "      root._bokeh_onload_callbacks.forEach(function(callback) {\n",
       "        if (callback != null)\n",
       "          callback();\n",
       "      });\n",
       "    } finally {\n",
       "      delete root._bokeh_onload_callbacks\n",
       "    }\n",
       "    console.debug(\"Bokeh: all callbacks have finished\");\n",
       "  }\n",
       "\n",
       "  function load_libs(css_urls, js_urls, js_modules, callback) {\n",
       "    if (css_urls == null) css_urls = [];\n",
       "    if (js_urls == null) js_urls = [];\n",
       "    if (js_modules == null) js_modules = [];\n",
       "\n",
       "    root._bokeh_onload_callbacks.push(callback);\n",
       "    if (root._bokeh_is_loading > 0) {\n",
       "      console.debug(\"Bokeh: BokehJS is being loaded, scheduling callback at\", now());\n",
       "      return null;\n",
       "    }\n",
       "    if (js_urls.length === 0 && js_modules.length === 0) {\n",
       "      run_callbacks();\n",
       "      return null;\n",
       "    }\n",
       "    console.debug(\"Bokeh: BokehJS not loaded, scheduling load and callback at\", now());\n",
       "\n",
       "    function on_load() {\n",
       "      root._bokeh_is_loading--;\n",
       "      if (root._bokeh_is_loading === 0) {\n",
       "        console.debug(\"Bokeh: all BokehJS libraries/stylesheets loaded\");\n",
       "        run_callbacks()\n",
       "      }\n",
       "    }\n",
       "\n",
       "    function on_error() {\n",
       "      console.error(\"failed to load \" + url);\n",
       "    }\n",
       "\n",
       "    for (var i = 0; i < css_urls.length; i++) {\n",
       "      var url = css_urls[i];\n",
       "      const element = document.createElement(\"link\");\n",
       "      element.onload = on_load;\n",
       "      element.onerror = on_error;\n",
       "      element.rel = \"stylesheet\";\n",
       "      element.type = \"text/css\";\n",
       "      element.href = url;\n",
       "      console.debug(\"Bokeh: injecting link tag for BokehJS stylesheet: \", url);\n",
       "      document.body.appendChild(element);\n",
       "    }\n",
       "\n",
       "    var skip = [];\n",
       "    if (window.requirejs) {\n",
       "      window.requirejs.config({'packages': {}, 'paths': {'gridstack': 'https://cdn.jsdelivr.net/npm/gridstack@4.2.5/dist/gridstack-h5', 'notyf': 'https://cdn.jsdelivr.net/npm/notyf@3/notyf.min'}, 'shim': {'gridstack': {'exports': 'GridStack'}}});\n",
       "      require([\"gridstack\"], function(GridStack) {\n",
       "\twindow.GridStack = GridStack\n",
       "\ton_load()\n",
       "      })\n",
       "      require([\"notyf\"], function() {\n",
       "\ton_load()\n",
       "      })\n",
       "      root._bokeh_is_loading = css_urls.length + 2;\n",
       "    } else {\n",
       "      root._bokeh_is_loading = css_urls.length + js_urls.length + js_modules.length;\n",
       "    }    if (((window['GridStack'] !== undefined) && (!(window['GridStack'] instanceof HTMLElement))) || window.requirejs) {\n",
       "      var urls = ['https://cdn.holoviz.org/panel/0.14.1/dist/bundled/gridstack/gridstack@4.2.5/dist/gridstack-h5.js'];\n",
       "      for (var i = 0; i < urls.length; i++) {\n",
       "        skip.push(urls[i])\n",
       "      }\n",
       "    }    if (((window['Notyf'] !== undefined) && (!(window['Notyf'] instanceof HTMLElement))) || window.requirejs) {\n",
       "      var urls = ['https://cdn.holoviz.org/panel/0.14.1/dist/bundled/notificationarea/notyf@3/notyf.min.js'];\n",
       "      for (var i = 0; i < urls.length; i++) {\n",
       "        skip.push(urls[i])\n",
       "      }\n",
       "    }    for (var i = 0; i < js_urls.length; i++) {\n",
       "      var url = js_urls[i];\n",
       "      if (skip.indexOf(url) >= 0) {\n",
       "\tif (!window.requirejs) {\n",
       "\t  on_load();\n",
       "\t}\n",
       "\tcontinue;\n",
       "      }\n",
       "      var element = document.createElement('script');\n",
       "      element.onload = on_load;\n",
       "      element.onerror = on_error;\n",
       "      element.async = false;\n",
       "      element.src = url;\n",
       "      console.debug(\"Bokeh: injecting script tag for BokehJS library: \", url);\n",
       "      document.head.appendChild(element);\n",
       "    }\n",
       "    for (var i = 0; i < js_modules.length; i++) {\n",
       "      var url = js_modules[i];\n",
       "      if (skip.indexOf(url) >= 0) {\n",
       "\tif (!window.requirejs) {\n",
       "\t  on_load();\n",
       "\t}\n",
       "\tcontinue;\n",
       "      }\n",
       "      var element = document.createElement('script');\n",
       "      element.onload = on_load;\n",
       "      element.onerror = on_error;\n",
       "      element.async = false;\n",
       "      element.src = url;\n",
       "      element.type = \"module\";\n",
       "      console.debug(\"Bokeh: injecting script tag for BokehJS library: \", url);\n",
       "      document.head.appendChild(element);\n",
       "    }\n",
       "    if (!js_urls.length && !js_modules.length) {\n",
       "      on_load()\n",
       "    }\n",
       "  };\n",
       "\n",
       "  function inject_raw_css(css) {\n",
       "    const element = document.createElement(\"style\");\n",
       "    element.appendChild(document.createTextNode(css));\n",
       "    document.body.appendChild(element);\n",
       "  }\n",
       "\n",
       "  var js_urls = [\"https://cdn.bokeh.org/bokeh/release/bokeh-2.4.3.min.js\", \"https://cdn.bokeh.org/bokeh/release/bokeh-gl-2.4.3.min.js\", \"https://cdn.bokeh.org/bokeh/release/bokeh-widgets-2.4.3.min.js\", \"https://cdn.bokeh.org/bokeh/release/bokeh-tables-2.4.3.min.js\", \"https://cdn.bokeh.org/bokeh/release/bokeh-mathjax-2.4.3.min.js\", \"https://unpkg.com/@holoviz/panel@0.14.1/dist/panel.min.js\"];\n",
       "  var js_modules = [];\n",
       "  var css_urls = [\"https://cdn.holoviz.org/panel/0.14.1/dist/css/alerts.css\", \"https://cdn.holoviz.org/panel/0.14.1/dist/css/card.css\", \"https://cdn.holoviz.org/panel/0.14.1/dist/css/dataframe.css\", \"https://cdn.holoviz.org/panel/0.14.1/dist/css/debugger.css\", \"https://cdn.holoviz.org/panel/0.14.1/dist/css/json.css\", \"https://cdn.holoviz.org/panel/0.14.1/dist/css/loading.css\", \"https://cdn.holoviz.org/panel/0.14.1/dist/css/markdown.css\", \"https://cdn.holoviz.org/panel/0.14.1/dist/css/widgets.css\"];\n",
       "  var inline_js = [    function(Bokeh) {\n",
       "      inject_raw_css(\"\\n    .bk.pn-loading.arc:before {\\n      background-image: url(\\\"data:image/svg+xml;base64,PHN2ZyB4bWxucz0iaHR0cDovL3d3dy53My5vcmcvMjAwMC9zdmciIHN0eWxlPSJtYXJnaW46IGF1dG87IGJhY2tncm91bmQ6IG5vbmU7IGRpc3BsYXk6IGJsb2NrOyBzaGFwZS1yZW5kZXJpbmc6IGF1dG87IiB2aWV3Qm94PSIwIDAgMTAwIDEwMCIgcHJlc2VydmVBc3BlY3RSYXRpbz0ieE1pZFlNaWQiPiAgPGNpcmNsZSBjeD0iNTAiIGN5PSI1MCIgZmlsbD0ibm9uZSIgc3Ryb2tlPSIjYzNjM2MzIiBzdHJva2Utd2lkdGg9IjEwIiByPSIzNSIgc3Ryb2tlLWRhc2hhcnJheT0iMTY0LjkzMzYxNDMxMzQ2NDE1IDU2Ljk3Nzg3MTQzNzgyMTM4Ij4gICAgPGFuaW1hdGVUcmFuc2Zvcm0gYXR0cmlidXRlTmFtZT0idHJhbnNmb3JtIiB0eXBlPSJyb3RhdGUiIHJlcGVhdENvdW50PSJpbmRlZmluaXRlIiBkdXI9IjFzIiB2YWx1ZXM9IjAgNTAgNTA7MzYwIDUwIDUwIiBrZXlUaW1lcz0iMDsxIj48L2FuaW1hdGVUcmFuc2Zvcm0+ICA8L2NpcmNsZT48L3N2Zz4=\\\");\\n      background-size: auto calc(min(50%, 400px));\\n    }\\n    \");\n",
       "    },    function(Bokeh) {\n",
       "      Bokeh.set_log_level(\"info\");\n",
       "    },\n",
       "function(Bokeh) {} // ensure no trailing comma for IE\n",
       "  ];\n",
       "\n",
       "  function run_inline_js() {\n",
       "    if ((root.Bokeh !== undefined) || (force === true)) {\n",
       "      for (var i = 0; i < inline_js.length; i++) {\n",
       "        inline_js[i].call(root, root.Bokeh);\n",
       "      }} else if (Date.now() < root._bokeh_timeout) {\n",
       "      setTimeout(run_inline_js, 100);\n",
       "    } else if (!root._bokeh_failed_load) {\n",
       "      console.log(\"Bokeh: BokehJS failed to load within specified timeout.\");\n",
       "      root._bokeh_failed_load = true;\n",
       "    }\n",
       "  }\n",
       "\n",
       "  if (root._bokeh_is_loading === 0) {\n",
       "    console.debug(\"Bokeh: BokehJS loaded, going straight to plotting\");\n",
       "    run_inline_js();\n",
       "  } else {\n",
       "    load_libs(css_urls, js_urls, js_modules, function() {\n",
       "      console.debug(\"Bokeh: BokehJS plotting callback run at\", now());\n",
       "      run_inline_js();\n",
       "    });\n",
       "  }\n",
       "}(window));"
      ],
      "application/vnd.holoviews_load.v0+json": "(function(root) {\n  function now() {\n    return new Date();\n  }\n\n  var force = true;\n\n  if (typeof root._bokeh_onload_callbacks === \"undefined\" || force === true) {\n    root._bokeh_onload_callbacks = [];\n    root._bokeh_is_loading = undefined;\n  }\n\n  if (typeof (root._bokeh_timeout) === \"undefined\" || force === true) {\n    root._bokeh_timeout = Date.now() + 5000;\n    root._bokeh_failed_load = false;\n  }\n\n  function run_callbacks() {\n    try {\n      root._bokeh_onload_callbacks.forEach(function(callback) {\n        if (callback != null)\n          callback();\n      });\n    } finally {\n      delete root._bokeh_onload_callbacks\n    }\n    console.debug(\"Bokeh: all callbacks have finished\");\n  }\n\n  function load_libs(css_urls, js_urls, js_modules, callback) {\n    if (css_urls == null) css_urls = [];\n    if (js_urls == null) js_urls = [];\n    if (js_modules == null) js_modules = [];\n\n    root._bokeh_onload_callbacks.push(callback);\n    if (root._bokeh_is_loading > 0) {\n      console.debug(\"Bokeh: BokehJS is being loaded, scheduling callback at\", now());\n      return null;\n    }\n    if (js_urls.length === 0 && js_modules.length === 0) {\n      run_callbacks();\n      return null;\n    }\n    console.debug(\"Bokeh: BokehJS not loaded, scheduling load and callback at\", now());\n\n    function on_load() {\n      root._bokeh_is_loading--;\n      if (root._bokeh_is_loading === 0) {\n        console.debug(\"Bokeh: all BokehJS libraries/stylesheets loaded\");\n        run_callbacks()\n      }\n    }\n\n    function on_error() {\n      console.error(\"failed to load \" + url);\n    }\n\n    for (var i = 0; i < css_urls.length; i++) {\n      var url = css_urls[i];\n      const element = document.createElement(\"link\");\n      element.onload = on_load;\n      element.onerror = on_error;\n      element.rel = \"stylesheet\";\n      element.type = \"text/css\";\n      element.href = url;\n      console.debug(\"Bokeh: injecting link tag for BokehJS stylesheet: \", url);\n      document.body.appendChild(element);\n    }\n\n    var skip = [];\n    if (window.requirejs) {\n      window.requirejs.config({'packages': {}, 'paths': {'gridstack': 'https://cdn.jsdelivr.net/npm/gridstack@4.2.5/dist/gridstack-h5', 'notyf': 'https://cdn.jsdelivr.net/npm/notyf@3/notyf.min'}, 'shim': {'gridstack': {'exports': 'GridStack'}}});\n      require([\"gridstack\"], function(GridStack) {\n\twindow.GridStack = GridStack\n\ton_load()\n      })\n      require([\"notyf\"], function() {\n\ton_load()\n      })\n      root._bokeh_is_loading = css_urls.length + 2;\n    } else {\n      root._bokeh_is_loading = css_urls.length + js_urls.length + js_modules.length;\n    }    if (((window['GridStack'] !== undefined) && (!(window['GridStack'] instanceof HTMLElement))) || window.requirejs) {\n      var urls = ['https://cdn.holoviz.org/panel/0.14.1/dist/bundled/gridstack/gridstack@4.2.5/dist/gridstack-h5.js'];\n      for (var i = 0; i < urls.length; i++) {\n        skip.push(urls[i])\n      }\n    }    if (((window['Notyf'] !== undefined) && (!(window['Notyf'] instanceof HTMLElement))) || window.requirejs) {\n      var urls = ['https://cdn.holoviz.org/panel/0.14.1/dist/bundled/notificationarea/notyf@3/notyf.min.js'];\n      for (var i = 0; i < urls.length; i++) {\n        skip.push(urls[i])\n      }\n    }    for (var i = 0; i < js_urls.length; i++) {\n      var url = js_urls[i];\n      if (skip.indexOf(url) >= 0) {\n\tif (!window.requirejs) {\n\t  on_load();\n\t}\n\tcontinue;\n      }\n      var element = document.createElement('script');\n      element.onload = on_load;\n      element.onerror = on_error;\n      element.async = false;\n      element.src = url;\n      console.debug(\"Bokeh: injecting script tag for BokehJS library: \", url);\n      document.head.appendChild(element);\n    }\n    for (var i = 0; i < js_modules.length; i++) {\n      var url = js_modules[i];\n      if (skip.indexOf(url) >= 0) {\n\tif (!window.requirejs) {\n\t  on_load();\n\t}\n\tcontinue;\n      }\n      var element = document.createElement('script');\n      element.onload = on_load;\n      element.onerror = on_error;\n      element.async = false;\n      element.src = url;\n      element.type = \"module\";\n      console.debug(\"Bokeh: injecting script tag for BokehJS library: \", url);\n      document.head.appendChild(element);\n    }\n    if (!js_urls.length && !js_modules.length) {\n      on_load()\n    }\n  };\n\n  function inject_raw_css(css) {\n    const element = document.createElement(\"style\");\n    element.appendChild(document.createTextNode(css));\n    document.body.appendChild(element);\n  }\n\n  var js_urls = [\"https://cdn.bokeh.org/bokeh/release/bokeh-2.4.3.min.js\", \"https://cdn.bokeh.org/bokeh/release/bokeh-gl-2.4.3.min.js\", \"https://cdn.bokeh.org/bokeh/release/bokeh-widgets-2.4.3.min.js\", \"https://cdn.bokeh.org/bokeh/release/bokeh-tables-2.4.3.min.js\", \"https://cdn.bokeh.org/bokeh/release/bokeh-mathjax-2.4.3.min.js\", \"https://unpkg.com/@holoviz/panel@0.14.1/dist/panel.min.js\"];\n  var js_modules = [];\n  var css_urls = [\"https://cdn.holoviz.org/panel/0.14.1/dist/css/alerts.css\", \"https://cdn.holoviz.org/panel/0.14.1/dist/css/card.css\", \"https://cdn.holoviz.org/panel/0.14.1/dist/css/dataframe.css\", \"https://cdn.holoviz.org/panel/0.14.1/dist/css/debugger.css\", \"https://cdn.holoviz.org/panel/0.14.1/dist/css/json.css\", \"https://cdn.holoviz.org/panel/0.14.1/dist/css/loading.css\", \"https://cdn.holoviz.org/panel/0.14.1/dist/css/markdown.css\", \"https://cdn.holoviz.org/panel/0.14.1/dist/css/widgets.css\"];\n  var inline_js = [    function(Bokeh) {\n      inject_raw_css(\"\\n    .bk.pn-loading.arc:before {\\n      background-image: url(\\\"data:image/svg+xml;base64,PHN2ZyB4bWxucz0iaHR0cDovL3d3dy53My5vcmcvMjAwMC9zdmciIHN0eWxlPSJtYXJnaW46IGF1dG87IGJhY2tncm91bmQ6IG5vbmU7IGRpc3BsYXk6IGJsb2NrOyBzaGFwZS1yZW5kZXJpbmc6IGF1dG87IiB2aWV3Qm94PSIwIDAgMTAwIDEwMCIgcHJlc2VydmVBc3BlY3RSYXRpbz0ieE1pZFlNaWQiPiAgPGNpcmNsZSBjeD0iNTAiIGN5PSI1MCIgZmlsbD0ibm9uZSIgc3Ryb2tlPSIjYzNjM2MzIiBzdHJva2Utd2lkdGg9IjEwIiByPSIzNSIgc3Ryb2tlLWRhc2hhcnJheT0iMTY0LjkzMzYxNDMxMzQ2NDE1IDU2Ljk3Nzg3MTQzNzgyMTM4Ij4gICAgPGFuaW1hdGVUcmFuc2Zvcm0gYXR0cmlidXRlTmFtZT0idHJhbnNmb3JtIiB0eXBlPSJyb3RhdGUiIHJlcGVhdENvdW50PSJpbmRlZmluaXRlIiBkdXI9IjFzIiB2YWx1ZXM9IjAgNTAgNTA7MzYwIDUwIDUwIiBrZXlUaW1lcz0iMDsxIj48L2FuaW1hdGVUcmFuc2Zvcm0+ICA8L2NpcmNsZT48L3N2Zz4=\\\");\\n      background-size: auto calc(min(50%, 400px));\\n    }\\n    \");\n    },    function(Bokeh) {\n      Bokeh.set_log_level(\"info\");\n    },\nfunction(Bokeh) {} // ensure no trailing comma for IE\n  ];\n\n  function run_inline_js() {\n    if ((root.Bokeh !== undefined) || (force === true)) {\n      for (var i = 0; i < inline_js.length; i++) {\n        inline_js[i].call(root, root.Bokeh);\n      }} else if (Date.now() < root._bokeh_timeout) {\n      setTimeout(run_inline_js, 100);\n    } else if (!root._bokeh_failed_load) {\n      console.log(\"Bokeh: BokehJS failed to load within specified timeout.\");\n      root._bokeh_failed_load = true;\n    }\n  }\n\n  if (root._bokeh_is_loading === 0) {\n    console.debug(\"Bokeh: BokehJS loaded, going straight to plotting\");\n    run_inline_js();\n  } else {\n    load_libs(css_urls, js_urls, js_modules, function() {\n      console.debug(\"Bokeh: BokehJS plotting callback run at\", now());\n      run_inline_js();\n    });\n  }\n}(window));"
     },
     "metadata": {},
     "output_type": "display_data"
    },
    {
     "data": {
      "application/javascript": [
       "\n",
       "if ((window.PyViz === undefined) || (window.PyViz instanceof HTMLElement)) {\n",
       "  window.PyViz = {comms: {}, comm_status:{}, kernels:{}, receivers: {}, plot_index: []}\n",
       "}\n",
       "\n",
       "\n",
       "    function JupyterCommManager() {\n",
       "    }\n",
       "\n",
       "    JupyterCommManager.prototype.register_target = function(plot_id, comm_id, msg_handler) {\n",
       "      if (window.comm_manager || ((window.Jupyter !== undefined) && (Jupyter.notebook.kernel != null))) {\n",
       "        var comm_manager = window.comm_manager || Jupyter.notebook.kernel.comm_manager;\n",
       "        comm_manager.register_target(comm_id, function(comm) {\n",
       "          comm.on_msg(msg_handler);\n",
       "        });\n",
       "      } else if ((plot_id in window.PyViz.kernels) && (window.PyViz.kernels[plot_id])) {\n",
       "        window.PyViz.kernels[plot_id].registerCommTarget(comm_id, function(comm) {\n",
       "          comm.onMsg = msg_handler;\n",
       "        });\n",
       "      } else if (typeof google != 'undefined' && google.colab.kernel != null) {\n",
       "        google.colab.kernel.comms.registerTarget(comm_id, (comm) => {\n",
       "          var messages = comm.messages[Symbol.asyncIterator]();\n",
       "          function processIteratorResult(result) {\n",
       "            var message = result.value;\n",
       "            console.log(message)\n",
       "            var content = {data: message.data, comm_id};\n",
       "            var buffers = []\n",
       "            for (var buffer of message.buffers || []) {\n",
       "              buffers.push(new DataView(buffer))\n",
       "            }\n",
       "            var metadata = message.metadata || {};\n",
       "            var msg = {content, buffers, metadata}\n",
       "            msg_handler(msg);\n",
       "            return messages.next().then(processIteratorResult);\n",
       "          }\n",
       "          return messages.next().then(processIteratorResult);\n",
       "        })\n",
       "      }\n",
       "    }\n",
       "\n",
       "    JupyterCommManager.prototype.get_client_comm = function(plot_id, comm_id, msg_handler) {\n",
       "      if (comm_id in window.PyViz.comms) {\n",
       "        return window.PyViz.comms[comm_id];\n",
       "      } else if (window.comm_manager || ((window.Jupyter !== undefined) && (Jupyter.notebook.kernel != null))) {\n",
       "        var comm_manager = window.comm_manager || Jupyter.notebook.kernel.comm_manager;\n",
       "        var comm = comm_manager.new_comm(comm_id, {}, {}, {}, comm_id);\n",
       "        if (msg_handler) {\n",
       "          comm.on_msg(msg_handler);\n",
       "        }\n",
       "      } else if ((plot_id in window.PyViz.kernels) && (window.PyViz.kernels[plot_id])) {\n",
       "        var comm = window.PyViz.kernels[plot_id].connectToComm(comm_id);\n",
       "        comm.open();\n",
       "        if (msg_handler) {\n",
       "          comm.onMsg = msg_handler;\n",
       "        }\n",
       "      } else if (typeof google != 'undefined' && google.colab.kernel != null) {\n",
       "        var comm_promise = google.colab.kernel.comms.open(comm_id)\n",
       "        comm_promise.then((comm) => {\n",
       "          window.PyViz.comms[comm_id] = comm;\n",
       "          if (msg_handler) {\n",
       "            var messages = comm.messages[Symbol.asyncIterator]();\n",
       "            function processIteratorResult(result) {\n",
       "              var message = result.value;\n",
       "              var content = {data: message.data};\n",
       "              var metadata = message.metadata || {comm_id};\n",
       "              var msg = {content, metadata}\n",
       "              msg_handler(msg);\n",
       "              return messages.next().then(processIteratorResult);\n",
       "            }\n",
       "            return messages.next().then(processIteratorResult);\n",
       "          }\n",
       "        }) \n",
       "        var sendClosure = (data, metadata, buffers, disposeOnDone) => {\n",
       "          return comm_promise.then((comm) => {\n",
       "            comm.send(data, metadata, buffers, disposeOnDone);\n",
       "          });\n",
       "        };\n",
       "        var comm = {\n",
       "          send: sendClosure\n",
       "        };\n",
       "      }\n",
       "      window.PyViz.comms[comm_id] = comm;\n",
       "      return comm;\n",
       "    }\n",
       "    window.PyViz.comm_manager = new JupyterCommManager();\n",
       "    \n",
       "\n",
       "\n",
       "var JS_MIME_TYPE = 'application/javascript';\n",
       "var HTML_MIME_TYPE = 'text/html';\n",
       "var EXEC_MIME_TYPE = 'application/vnd.holoviews_exec.v0+json';\n",
       "var CLASS_NAME = 'output';\n",
       "\n",
       "/**\n",
       " * Render data to the DOM node\n",
       " */\n",
       "function render(props, node) {\n",
       "  var div = document.createElement(\"div\");\n",
       "  var script = document.createElement(\"script\");\n",
       "  node.appendChild(div);\n",
       "  node.appendChild(script);\n",
       "}\n",
       "\n",
       "/**\n",
       " * Handle when a new output is added\n",
       " */\n",
       "function handle_add_output(event, handle) {\n",
       "  var output_area = handle.output_area;\n",
       "  var output = handle.output;\n",
       "  if ((output.data == undefined) || (!output.data.hasOwnProperty(EXEC_MIME_TYPE))) {\n",
       "    return\n",
       "  }\n",
       "  var id = output.metadata[EXEC_MIME_TYPE][\"id\"];\n",
       "  var toinsert = output_area.element.find(\".\" + CLASS_NAME.split(' ')[0]);\n",
       "  if (id !== undefined) {\n",
       "    var nchildren = toinsert.length;\n",
       "    var html_node = toinsert[nchildren-1].children[0];\n",
       "    html_node.innerHTML = output.data[HTML_MIME_TYPE];\n",
       "    var scripts = [];\n",
       "    var nodelist = html_node.querySelectorAll(\"script\");\n",
       "    for (var i in nodelist) {\n",
       "      if (nodelist.hasOwnProperty(i)) {\n",
       "        scripts.push(nodelist[i])\n",
       "      }\n",
       "    }\n",
       "\n",
       "    scripts.forEach( function (oldScript) {\n",
       "      var newScript = document.createElement(\"script\");\n",
       "      var attrs = [];\n",
       "      var nodemap = oldScript.attributes;\n",
       "      for (var j in nodemap) {\n",
       "        if (nodemap.hasOwnProperty(j)) {\n",
       "          attrs.push(nodemap[j])\n",
       "        }\n",
       "      }\n",
       "      attrs.forEach(function(attr) { newScript.setAttribute(attr.name, attr.value) });\n",
       "      newScript.appendChild(document.createTextNode(oldScript.innerHTML));\n",
       "      oldScript.parentNode.replaceChild(newScript, oldScript);\n",
       "    });\n",
       "    if (JS_MIME_TYPE in output.data) {\n",
       "      toinsert[nchildren-1].children[1].textContent = output.data[JS_MIME_TYPE];\n",
       "    }\n",
       "    output_area._hv_plot_id = id;\n",
       "    if ((window.Bokeh !== undefined) && (id in Bokeh.index)) {\n",
       "      window.PyViz.plot_index[id] = Bokeh.index[id];\n",
       "    } else {\n",
       "      window.PyViz.plot_index[id] = null;\n",
       "    }\n",
       "  } else if (output.metadata[EXEC_MIME_TYPE][\"server_id\"] !== undefined) {\n",
       "    var bk_div = document.createElement(\"div\");\n",
       "    bk_div.innerHTML = output.data[HTML_MIME_TYPE];\n",
       "    var script_attrs = bk_div.children[0].attributes;\n",
       "    for (var i = 0; i < script_attrs.length; i++) {\n",
       "      toinsert[toinsert.length - 1].childNodes[1].setAttribute(script_attrs[i].name, script_attrs[i].value);\n",
       "    }\n",
       "    // store reference to server id on output_area\n",
       "    output_area._bokeh_server_id = output.metadata[EXEC_MIME_TYPE][\"server_id\"];\n",
       "  }\n",
       "}\n",
       "\n",
       "/**\n",
       " * Handle when an output is cleared or removed\n",
       " */\n",
       "function handle_clear_output(event, handle) {\n",
       "  var id = handle.cell.output_area._hv_plot_id;\n",
       "  var server_id = handle.cell.output_area._bokeh_server_id;\n",
       "  if (((id === undefined) || !(id in PyViz.plot_index)) && (server_id !== undefined)) { return; }\n",
       "  var comm = window.PyViz.comm_manager.get_client_comm(\"hv-extension-comm\", \"hv-extension-comm\", function () {});\n",
       "  if (server_id !== null) {\n",
       "    comm.send({event_type: 'server_delete', 'id': server_id});\n",
       "    return;\n",
       "  } else if (comm !== null) {\n",
       "    comm.send({event_type: 'delete', 'id': id});\n",
       "  }\n",
       "  delete PyViz.plot_index[id];\n",
       "  if ((window.Bokeh !== undefined) & (id in window.Bokeh.index)) {\n",
       "    var doc = window.Bokeh.index[id].model.document\n",
       "    doc.clear();\n",
       "    const i = window.Bokeh.documents.indexOf(doc);\n",
       "    if (i > -1) {\n",
       "      window.Bokeh.documents.splice(i, 1);\n",
       "    }\n",
       "  }\n",
       "}\n",
       "\n",
       "/**\n",
       " * Handle kernel restart event\n",
       " */\n",
       "function handle_kernel_cleanup(event, handle) {\n",
       "  delete PyViz.comms[\"hv-extension-comm\"];\n",
       "  window.PyViz.plot_index = {}\n",
       "}\n",
       "\n",
       "/**\n",
       " * Handle update_display_data messages\n",
       " */\n",
       "function handle_update_output(event, handle) {\n",
       "  handle_clear_output(event, {cell: {output_area: handle.output_area}})\n",
       "  handle_add_output(event, handle)\n",
       "}\n",
       "\n",
       "function register_renderer(events, OutputArea) {\n",
       "  function append_mime(data, metadata, element) {\n",
       "    // create a DOM node to render to\n",
       "    var toinsert = this.create_output_subarea(\n",
       "    metadata,\n",
       "    CLASS_NAME,\n",
       "    EXEC_MIME_TYPE\n",
       "    );\n",
       "    this.keyboard_manager.register_events(toinsert);\n",
       "    // Render to node\n",
       "    var props = {data: data, metadata: metadata[EXEC_MIME_TYPE]};\n",
       "    render(props, toinsert[0]);\n",
       "    element.append(toinsert);\n",
       "    return toinsert\n",
       "  }\n",
       "\n",
       "  events.on('output_added.OutputArea', handle_add_output);\n",
       "  events.on('output_updated.OutputArea', handle_update_output);\n",
       "  events.on('clear_output.CodeCell', handle_clear_output);\n",
       "  events.on('delete.Cell', handle_clear_output);\n",
       "  events.on('kernel_ready.Kernel', handle_kernel_cleanup);\n",
       "\n",
       "  OutputArea.prototype.register_mime_type(EXEC_MIME_TYPE, append_mime, {\n",
       "    safe: true,\n",
       "    index: 0\n",
       "  });\n",
       "}\n",
       "\n",
       "if (window.Jupyter !== undefined) {\n",
       "  try {\n",
       "    var events = require('base/js/events');\n",
       "    var OutputArea = require('notebook/js/outputarea').OutputArea;\n",
       "    if (OutputArea.prototype.mime_types().indexOf(EXEC_MIME_TYPE) == -1) {\n",
       "      register_renderer(events, OutputArea);\n",
       "    }\n",
       "  } catch(err) {\n",
       "  }\n",
       "}\n"
      ],
      "application/vnd.holoviews_load.v0+json": "\nif ((window.PyViz === undefined) || (window.PyViz instanceof HTMLElement)) {\n  window.PyViz = {comms: {}, comm_status:{}, kernels:{}, receivers: {}, plot_index: []}\n}\n\n\n    function JupyterCommManager() {\n    }\n\n    JupyterCommManager.prototype.register_target = function(plot_id, comm_id, msg_handler) {\n      if (window.comm_manager || ((window.Jupyter !== undefined) && (Jupyter.notebook.kernel != null))) {\n        var comm_manager = window.comm_manager || Jupyter.notebook.kernel.comm_manager;\n        comm_manager.register_target(comm_id, function(comm) {\n          comm.on_msg(msg_handler);\n        });\n      } else if ((plot_id in window.PyViz.kernels) && (window.PyViz.kernels[plot_id])) {\n        window.PyViz.kernels[plot_id].registerCommTarget(comm_id, function(comm) {\n          comm.onMsg = msg_handler;\n        });\n      } else if (typeof google != 'undefined' && google.colab.kernel != null) {\n        google.colab.kernel.comms.registerTarget(comm_id, (comm) => {\n          var messages = comm.messages[Symbol.asyncIterator]();\n          function processIteratorResult(result) {\n            var message = result.value;\n            console.log(message)\n            var content = {data: message.data, comm_id};\n            var buffers = []\n            for (var buffer of message.buffers || []) {\n              buffers.push(new DataView(buffer))\n            }\n            var metadata = message.metadata || {};\n            var msg = {content, buffers, metadata}\n            msg_handler(msg);\n            return messages.next().then(processIteratorResult);\n          }\n          return messages.next().then(processIteratorResult);\n        })\n      }\n    }\n\n    JupyterCommManager.prototype.get_client_comm = function(plot_id, comm_id, msg_handler) {\n      if (comm_id in window.PyViz.comms) {\n        return window.PyViz.comms[comm_id];\n      } else if (window.comm_manager || ((window.Jupyter !== undefined) && (Jupyter.notebook.kernel != null))) {\n        var comm_manager = window.comm_manager || Jupyter.notebook.kernel.comm_manager;\n        var comm = comm_manager.new_comm(comm_id, {}, {}, {}, comm_id);\n        if (msg_handler) {\n          comm.on_msg(msg_handler);\n        }\n      } else if ((plot_id in window.PyViz.kernels) && (window.PyViz.kernels[plot_id])) {\n        var comm = window.PyViz.kernels[plot_id].connectToComm(comm_id);\n        comm.open();\n        if (msg_handler) {\n          comm.onMsg = msg_handler;\n        }\n      } else if (typeof google != 'undefined' && google.colab.kernel != null) {\n        var comm_promise = google.colab.kernel.comms.open(comm_id)\n        comm_promise.then((comm) => {\n          window.PyViz.comms[comm_id] = comm;\n          if (msg_handler) {\n            var messages = comm.messages[Symbol.asyncIterator]();\n            function processIteratorResult(result) {\n              var message = result.value;\n              var content = {data: message.data};\n              var metadata = message.metadata || {comm_id};\n              var msg = {content, metadata}\n              msg_handler(msg);\n              return messages.next().then(processIteratorResult);\n            }\n            return messages.next().then(processIteratorResult);\n          }\n        }) \n        var sendClosure = (data, metadata, buffers, disposeOnDone) => {\n          return comm_promise.then((comm) => {\n            comm.send(data, metadata, buffers, disposeOnDone);\n          });\n        };\n        var comm = {\n          send: sendClosure\n        };\n      }\n      window.PyViz.comms[comm_id] = comm;\n      return comm;\n    }\n    window.PyViz.comm_manager = new JupyterCommManager();\n    \n\n\nvar JS_MIME_TYPE = 'application/javascript';\nvar HTML_MIME_TYPE = 'text/html';\nvar EXEC_MIME_TYPE = 'application/vnd.holoviews_exec.v0+json';\nvar CLASS_NAME = 'output';\n\n/**\n * Render data to the DOM node\n */\nfunction render(props, node) {\n  var div = document.createElement(\"div\");\n  var script = document.createElement(\"script\");\n  node.appendChild(div);\n  node.appendChild(script);\n}\n\n/**\n * Handle when a new output is added\n */\nfunction handle_add_output(event, handle) {\n  var output_area = handle.output_area;\n  var output = handle.output;\n  if ((output.data == undefined) || (!output.data.hasOwnProperty(EXEC_MIME_TYPE))) {\n    return\n  }\n  var id = output.metadata[EXEC_MIME_TYPE][\"id\"];\n  var toinsert = output_area.element.find(\".\" + CLASS_NAME.split(' ')[0]);\n  if (id !== undefined) {\n    var nchildren = toinsert.length;\n    var html_node = toinsert[nchildren-1].children[0];\n    html_node.innerHTML = output.data[HTML_MIME_TYPE];\n    var scripts = [];\n    var nodelist = html_node.querySelectorAll(\"script\");\n    for (var i in nodelist) {\n      if (nodelist.hasOwnProperty(i)) {\n        scripts.push(nodelist[i])\n      }\n    }\n\n    scripts.forEach( function (oldScript) {\n      var newScript = document.createElement(\"script\");\n      var attrs = [];\n      var nodemap = oldScript.attributes;\n      for (var j in nodemap) {\n        if (nodemap.hasOwnProperty(j)) {\n          attrs.push(nodemap[j])\n        }\n      }\n      attrs.forEach(function(attr) { newScript.setAttribute(attr.name, attr.value) });\n      newScript.appendChild(document.createTextNode(oldScript.innerHTML));\n      oldScript.parentNode.replaceChild(newScript, oldScript);\n    });\n    if (JS_MIME_TYPE in output.data) {\n      toinsert[nchildren-1].children[1].textContent = output.data[JS_MIME_TYPE];\n    }\n    output_area._hv_plot_id = id;\n    if ((window.Bokeh !== undefined) && (id in Bokeh.index)) {\n      window.PyViz.plot_index[id] = Bokeh.index[id];\n    } else {\n      window.PyViz.plot_index[id] = null;\n    }\n  } else if (output.metadata[EXEC_MIME_TYPE][\"server_id\"] !== undefined) {\n    var bk_div = document.createElement(\"div\");\n    bk_div.innerHTML = output.data[HTML_MIME_TYPE];\n    var script_attrs = bk_div.children[0].attributes;\n    for (var i = 0; i < script_attrs.length; i++) {\n      toinsert[toinsert.length - 1].childNodes[1].setAttribute(script_attrs[i].name, script_attrs[i].value);\n    }\n    // store reference to server id on output_area\n    output_area._bokeh_server_id = output.metadata[EXEC_MIME_TYPE][\"server_id\"];\n  }\n}\n\n/**\n * Handle when an output is cleared or removed\n */\nfunction handle_clear_output(event, handle) {\n  var id = handle.cell.output_area._hv_plot_id;\n  var server_id = handle.cell.output_area._bokeh_server_id;\n  if (((id === undefined) || !(id in PyViz.plot_index)) && (server_id !== undefined)) { return; }\n  var comm = window.PyViz.comm_manager.get_client_comm(\"hv-extension-comm\", \"hv-extension-comm\", function () {});\n  if (server_id !== null) {\n    comm.send({event_type: 'server_delete', 'id': server_id});\n    return;\n  } else if (comm !== null) {\n    comm.send({event_type: 'delete', 'id': id});\n  }\n  delete PyViz.plot_index[id];\n  if ((window.Bokeh !== undefined) & (id in window.Bokeh.index)) {\n    var doc = window.Bokeh.index[id].model.document\n    doc.clear();\n    const i = window.Bokeh.documents.indexOf(doc);\n    if (i > -1) {\n      window.Bokeh.documents.splice(i, 1);\n    }\n  }\n}\n\n/**\n * Handle kernel restart event\n */\nfunction handle_kernel_cleanup(event, handle) {\n  delete PyViz.comms[\"hv-extension-comm\"];\n  window.PyViz.plot_index = {}\n}\n\n/**\n * Handle update_display_data messages\n */\nfunction handle_update_output(event, handle) {\n  handle_clear_output(event, {cell: {output_area: handle.output_area}})\n  handle_add_output(event, handle)\n}\n\nfunction register_renderer(events, OutputArea) {\n  function append_mime(data, metadata, element) {\n    // create a DOM node to render to\n    var toinsert = this.create_output_subarea(\n    metadata,\n    CLASS_NAME,\n    EXEC_MIME_TYPE\n    );\n    this.keyboard_manager.register_events(toinsert);\n    // Render to node\n    var props = {data: data, metadata: metadata[EXEC_MIME_TYPE]};\n    render(props, toinsert[0]);\n    element.append(toinsert);\n    return toinsert\n  }\n\n  events.on('output_added.OutputArea', handle_add_output);\n  events.on('output_updated.OutputArea', handle_update_output);\n  events.on('clear_output.CodeCell', handle_clear_output);\n  events.on('delete.Cell', handle_clear_output);\n  events.on('kernel_ready.Kernel', handle_kernel_cleanup);\n\n  OutputArea.prototype.register_mime_type(EXEC_MIME_TYPE, append_mime, {\n    safe: true,\n    index: 0\n  });\n}\n\nif (window.Jupyter !== undefined) {\n  try {\n    var events = require('base/js/events');\n    var OutputArea = require('notebook/js/outputarea').OutputArea;\n    if (OutputArea.prototype.mime_types().indexOf(EXEC_MIME_TYPE) == -1) {\n      register_renderer(events, OutputArea);\n    }\n  } catch(err) {\n  }\n}\n"
     },
     "metadata": {},
     "output_type": "display_data"
    },
    {
     "data": {
      "text/html": [
       "<style>.bk-root, .bk-root .bk:before, .bk-root .bk:after {\n",
       "  font-family: var(--jp-ui-font-size1);\n",
       "  font-size: var(--jp-ui-font-size1);\n",
       "  color: var(--jp-ui-font-color1);\n",
       "}\n",
       "</style>"
      ]
     },
     "metadata": {},
     "output_type": "display_data"
    }
   ],
   "source": [
    "import requests\n",
    "import os\n",
    "from IPython.display import JSON\n",
    "import pandas as pd\n",
    "import numpy as np\n",
    "import time\n",
    "\n",
    "from wordcloud import WordCloud, STOPWORDS\n",
    "import plotly.express as px\n",
    "import matplotlib.pyplot as plt\n",
    "import kaleido\n",
    "\n",
    "import panel as pn\n",
    "pn.extension()\n",
    "import param\n",
    "import hvplot.pandas\n",
    "\n",
    "import pickle\n",
    "from io import StringIO"
   ]
  },
  {
   "cell_type": "code",
   "execution_count": 2,
   "id": "81a5c86c-6970-4ee3-9e8f-2ba9f6d8ac03",
   "metadata": {},
   "outputs": [],
   "source": [
    "with open('Transcripts/Dolly_Parton_Bobbie_Wygant.pkl', 'rb') as f:\n",
    "    data = pickle.load(f)"
   ]
  },
  {
   "cell_type": "code",
   "execution_count": 3,
   "id": "95246fb2-69f6-4187-8d5f-6bc70798acb8",
   "metadata": {},
   "outputs": [
    {
     "data": {},
     "metadata": {},
     "output_type": "display_data"
    },
    {
     "data": {
      "application/vnd.holoviews_exec.v0+json": "",
      "text/html": [
       "<div id='1002'>\n",
       "  <div class=\"bk-root\" id=\"515ba1a0-e3cf-4375-af97-7526ccce2a68\" data-root-id=\"1002\"></div>\n",
       "</div>\n",
       "<script type=\"application/javascript\">(function(root) {\n",
       "  function embed_document(root) {\n",
       "    var docs_json = {\"4ec36d69-e67e-45b9-b259-f94019dcc826\":{\"defs\":[{\"extends\":null,\"module\":null,\"name\":\"ReactiveHTML1\",\"overrides\":[],\"properties\":[]},{\"extends\":null,\"module\":null,\"name\":\"FlexBox1\",\"overrides\":[],\"properties\":[{\"default\":\"flex-start\",\"kind\":null,\"name\":\"align_content\"},{\"default\":\"flex-start\",\"kind\":null,\"name\":\"align_items\"},{\"default\":\"row\",\"kind\":null,\"name\":\"flex_direction\"},{\"default\":\"wrap\",\"kind\":null,\"name\":\"flex_wrap\"},{\"default\":\"flex-start\",\"kind\":null,\"name\":\"justify_content\"}]},{\"extends\":null,\"module\":null,\"name\":\"GridStack1\",\"overrides\":[],\"properties\":[{\"default\":\"warn\",\"kind\":null,\"name\":\"mode\"},{\"default\":null,\"kind\":null,\"name\":\"ncols\"},{\"default\":null,\"kind\":null,\"name\":\"nrows\"},{\"default\":true,\"kind\":null,\"name\":\"allow_resize\"},{\"default\":true,\"kind\":null,\"name\":\"allow_drag\"},{\"default\":[],\"kind\":null,\"name\":\"state\"}]},{\"extends\":null,\"module\":null,\"name\":\"click1\",\"overrides\":[],\"properties\":[{\"default\":\"\",\"kind\":null,\"name\":\"terminal_output\"},{\"default\":\"\",\"kind\":null,\"name\":\"debug_name\"},{\"default\":0,\"kind\":null,\"name\":\"clears\"}]},{\"extends\":null,\"module\":null,\"name\":\"NotificationAreaBase1\",\"overrides\":[],\"properties\":[{\"default\":\"bottom-right\",\"kind\":null,\"name\":\"position\"},{\"default\":0,\"kind\":null,\"name\":\"_clear\"}]},{\"extends\":null,\"module\":null,\"name\":\"NotificationArea1\",\"overrides\":[],\"properties\":[{\"default\":[],\"kind\":null,\"name\":\"notifications\"},{\"default\":\"bottom-right\",\"kind\":null,\"name\":\"position\"},{\"default\":0,\"kind\":null,\"name\":\"_clear\"},{\"default\":[{\"background\":\"#ffc107\",\"icon\":{\"className\":\"fas fa-exclamation-triangle\",\"color\":\"white\",\"tagName\":\"i\"},\"type\":\"warning\"},{\"background\":\"#007bff\",\"icon\":{\"className\":\"fas fa-info-circle\",\"color\":\"white\",\"tagName\":\"i\"},\"type\":\"info\"}],\"kind\":null,\"name\":\"types\"}]},{\"extends\":null,\"module\":null,\"name\":\"Notification\",\"overrides\":[],\"properties\":[{\"default\":null,\"kind\":null,\"name\":\"background\"},{\"default\":3000,\"kind\":null,\"name\":\"duration\"},{\"default\":null,\"kind\":null,\"name\":\"icon\"},{\"default\":\"\",\"kind\":null,\"name\":\"message\"},{\"default\":null,\"kind\":null,\"name\":\"notification_type\"},{\"default\":false,\"kind\":null,\"name\":\"_destroyed\"}]},{\"extends\":null,\"module\":null,\"name\":\"TemplateActions1\",\"overrides\":[],\"properties\":[{\"default\":0,\"kind\":null,\"name\":\"open_modal\"},{\"default\":0,\"kind\":null,\"name\":\"close_modal\"}]},{\"extends\":null,\"module\":null,\"name\":\"MaterialTemplateActions1\",\"overrides\":[],\"properties\":[{\"default\":0,\"kind\":null,\"name\":\"open_modal\"},{\"default\":0,\"kind\":null,\"name\":\"close_modal\"}]}],\"roots\":{\"references\":[{\"attributes\":{\"client_comm_id\":\"e98a8ab043ae4ef09241a5db83438e20\",\"comm_id\":\"8c197e09ecaa42d799d8c9e671311bb5\",\"plot_id\":\"1002\"},\"id\":\"1003\",\"type\":\"panel.models.comm_manager.CommManager\"},{\"attributes\":{\"margin\":[5,5,5,5],\"paused\":true,\"time\":360,\"value\":\"https://github.com/CharlesPizza/AudioAnalysisDollyParton/blob/main/Audio/Dolly%20Parton%20Interview%201977%20-%20Bobbie%20Wygant%20Archive.mp3?raw=true\"},\"id\":\"1002\",\"type\":\"panel.models.widgets.Audio\"},{\"attributes\":{\"reload\":false},\"id\":\"1004\",\"type\":\"panel.models.location.Location\"}],\"root_ids\":[\"1002\",\"1003\",\"1004\"]},\"title\":\"Bokeh Application\",\"version\":\"2.4.3\"}};\n",
       "    var render_items = [{\"docid\":\"4ec36d69-e67e-45b9-b259-f94019dcc826\",\"root_ids\":[\"1002\"],\"roots\":{\"1002\":\"515ba1a0-e3cf-4375-af97-7526ccce2a68\"}}];\n",
       "    root.Bokeh.embed.embed_items_notebook(docs_json, render_items);\n",
       "    for (const render_item of render_items) {\n",
       "      for (const root_id of render_item.root_ids) {\n",
       "\tconst id_el = document.getElementById(root_id)\n",
       "\tif (id_el.children.length && (id_el.children[0].className === 'bk-root')) {\n",
       "\t  const root_el = id_el.children[0]\n",
       "\t  root_el.id = root_el.id + '-rendered'\n",
       "\t}\n",
       "      }\n",
       "    }\n",
       "  }\n",
       "  if (root.Bokeh !== undefined && root.Bokeh.Panel !== undefined) {\n",
       "    embed_document(root);\n",
       "  } else {\n",
       "    var attempts = 0;\n",
       "    var timer = setInterval(function(root) {\n",
       "      if (root.Bokeh !== undefined && root.Bokeh.Panel !== undefined) {\n",
       "        clearInterval(timer);\n",
       "        embed_document(root);\n",
       "      } else if (document.readyState == \"complete\") {\n",
       "        attempts++;\n",
       "        if (attempts > 200) {\n",
       "          clearInterval(timer);\n",
       "          console.log(\"Bokeh: ERROR: Unable to run BokehJS code because BokehJS library is missing\");\n",
       "        }\n",
       "      }\n",
       "    }, 25, root)\n",
       "  }\n",
       "})(window);</script>"
      ],
      "text/plain": [
       "Audio(str, time=360)"
      ]
     },
     "execution_count": 3,
     "metadata": {
      "application/vnd.holoviews_exec.v0+json": {
       "id": "1002"
      }
     },
     "output_type": "execute_result"
    }
   ],
   "source": [
    "audio_url = \"https://github.com/CharlesPizza/AudioAnalysisDollyParton/blob/main/Audio/Dolly%20Parton%20Interview%201977%20-%20Bobbie%20Wygant%20Archive.mp3?raw=true\"\n",
    "audio_play = pn.pane.Audio(audio_url, name=\"Audio\", time=360)\n",
    "audio_play"
   ]
  },
  {
   "cell_type": "code",
   "execution_count": 4,
   "id": "920af226-b3d8-485b-a03d-be7bdfec9476",
   "metadata": {},
   "outputs": [
    {
     "data": {
      "application/json": {
       "acoustic_model": "assemblyai_default",
       "audio_duration": 682,
       "audio_end_at": null,
       "audio_start_from": null,
       "audio_url": "https://cdn.assemblyai.com/upload/69e89620-389c-4f68-81b0-e30cc01c4f07",
       "auto_chapters": false,
       "auto_highlights": true,
       "auto_highlights_result": {
        "results": [
         {
          "count": 4,
          "rank": 0.08,
          "text": "country music",
          "timestamps": [
           {
            "end": 42487,
            "start": 41710
           },
           {
            "end": 48742,
            "start": 48190
           },
           {
            "end": 64747,
            "start": 64270
           },
           {
            "end": 75112,
            "start": 74455
           }
          ]
         },
         {
          "count": 1,
          "rank": 0.07,
          "text": "country songs",
          "timestamps": [
           {
            "end": 58107,
            "start": 57567
           }
          ]
         },
         {
          "count": 1,
          "rank": 0.06,
          "text": "certain things",
          "timestamps": [
           {
            "end": 188992,
            "start": 188305
           }
          ]
         },
         {
          "count": 2,
          "rank": 0.06,
          "text": "TV specials",
          "timestamps": [
           {
            "end": 160527,
            "start": 159580
           },
           {
            "end": 166977,
            "start": 166090
           }
          ]
         },
         {
          "count": 1,
          "rank": 0.06,
          "text": "several dollar specials",
          "timestamps": [
           {
            "end": 171597,
            "start": 170005
           }
          ]
         },
         {
          "count": 1,
          "rank": 0.05,
          "text": "Merlin Monroe",
          "timestamps": [
           {
            "end": 254352,
            "start": 253465
           }
          ]
         },
         {
          "count": 2,
          "rank": 0.05,
          "text": "May West",
          "timestamps": [
           {
            "end": 220412,
            "start": 219415
           },
           {
            "end": 239547,
            "start": 238975
           }
          ]
         },
         {
          "count": 1,
          "rank": 0.05,
          "text": "Marilyn Monroe",
          "timestamps": [
           {
            "end": 218952,
            "start": 218170
           }
          ]
         },
         {
          "count": 1,
          "rank": 0.05,
          "text": "great sympathy",
          "timestamps": [
           {
            "end": 252822,
            "start": 252055
           }
          ]
         },
         {
          "count": 1,
          "rank": 0.05,
          "text": "May Wes",
          "timestamps": [
           {
            "end": 258222,
            "start": 257770
           }
          ]
         },
         {
          "count": 2,
          "rank": 0.05,
          "text": "movies",
          "timestamps": [
           {
            "end": 159207,
            "start": 158635
           },
           {
            "end": 184842,
            "start": 184495
           }
          ]
         },
         {
          "count": 1,
          "rank": 0.05,
          "text": "Barbara Walters",
          "timestamps": [
           {
            "end": 155142,
            "start": 154405
           }
          ]
         },
         {
          "count": 1,
          "rank": 0.05,
          "text": "beautiful women",
          "timestamps": [
           {
            "end": 233722,
            "start": 233080
           }
          ]
         },
         {
          "count": 1,
          "rank": 0.05,
          "text": "Bantam Publications",
          "timestamps": [
           {
            "end": 194172,
            "start": 192880
           }
          ]
         },
         {
          "count": 4,
          "rank": 0.04,
          "text": "part",
          "timestamps": [
           {
            "end": 103222,
            "start": 102957
           },
           {
            "end": 137827,
            "start": 137667
           },
           {
            "end": 138922,
            "start": 138732
           },
           {
            "end": 204247,
            "start": 204070
           }
          ]
         }
        ],
        "status": "success"
       },
       "boost_param": null,
       "chapters": null,
       "cluster_id": null,
       "confidence": 0.921332720430108,
       "content_safety": false,
       "content_safety_labels": {
        "results": [],
        "status": "unavailable",
        "summary": {}
       },
       "custom_spelling": null,
       "disfluencies": false,
       "dual_channel": null,
       "entities": null,
       "entity_detection": false,
       "filter_profanity": false,
       "format_text": true,
       "iab_categories": true,
       "iab_categories_result": {
        "results": [
         {
          "labels": [
           {
            "label": "MusicAndAudio>CountryMusic",
            "relevance": 0.9983409643173218
           },
           {
            "label": "MusicAndAudio>Songwriters/Folk",
            "relevance": 0.4786357283592224
           },
           {
            "label": "MusicAndAudio>RockMusic>SoftRock",
            "relevance": 0.07770922034978867
           },
           {
            "label": "MusicAndAudio>GospelMusic",
            "relevance": 0.051046714186668396
           },
           {
            "label": "MusicAndAudio>AdultContemporaryMusic",
            "relevance": 0.04052622243762016
           },
           {
            "label": "MusicAndAudio>AdultContemporaryMusic>SoftACMusic",
            "relevance": 0.009581274352967739
           },
           {
            "label": "MusicAndAudio>Children'sMusic",
            "relevance": 0.0042245411314070225
           },
           {
            "label": "MusicAndAudio>UrbanContemporaryMusic",
            "relevance": 0.0032460810616612434
           },
           {
            "label": "MusicAndAudio>World/InternationalMusic",
            "relevance": 0.0028825101908296347
           },
           {
            "label": "MusicAndAudio>ClassicHits",
            "relevance": 0.0022406005300581455
           }
          ],
          "text": "Hello. Nice to meet you. Yes, right. Michael. Dolly, do you see a time when your country music will fade into the past? Oh, I don't think so. I think I'm far too country for my country music to fade into the past. But this past year, I've been trying to do some things that could be accepted in other fields of music.",
          "timestamp": {
           "end": 55342,
           "start": 987
          }
         },
         {
          "labels": [
           {
            "label": "MusicAndAudio>CountryMusic",
            "relevance": 0.9810760021209717
           },
           {
            "label": "MusicAndAudio>Songwriters/Folk",
            "relevance": 0.05475088208913803
           },
           {
            "label": "MusicAndAudio>GospelMusic",
            "relevance": 0.0034434357658028603
           },
           {
            "label": "MusicAndAudio>AdultContemporaryMusic",
            "relevance": 0.002670812653377652
           },
           {
            "label": "MusicAndAudio>RockMusic>SoftRock",
            "relevance": 0.0011096895905211568
           },
           {
            "label": "MusicAndAudio>Blues",
            "relevance": 0.0007381791365332901
           },
           {
            "label": "MusicAndAudio>World/InternationalMusic",
            "relevance": 0.0007028020918369293
           },
           {
            "label": "Hobbies&Interests>ContentProduction>FreelanceWriting",
            "relevance": 0.0006954275886528194
           },
           {
            "label": "MusicAndAudio>Children'sMusic",
            "relevance": 0.000684477505274117
           },
           {
            "label": "FamilyAndRelationships>Dating",
            "relevance": 0.0006515817367471755
           }
          ],
          "text": "But I guess I'll be writing country songs as long as I live because I have too many country memories, and I was brought up in a big family and lived on a farm and all that, and country music is my first love. But I tried to look at my work as a joy, as a job, and as a business person as well. So I'm trying to COVID as much ground as I can.",
          "timestamp": {
           "end": 73597,
           "start": 55465
          }
         },
         {
          "labels": [
           {
            "label": "MusicAndAudio>CountryMusic",
            "relevance": 0.9912731051445007
           },
           {
            "label": "MusicAndAudio>Songwriters/Folk",
            "relevance": 0.030362427234649658
           },
           {
            "label": "MusicAndAudio>AdultContemporaryMusic",
            "relevance": 0.01148245483636856
           },
           {
            "label": "MusicAndAudio>RockMusic>SoftRock",
            "relevance": 0.004428661894053221
           },
           {
            "label": "MusicAndAudio>AdultContemporaryMusic>SoftACMusic",
            "relevance": 0.004318247549235821
           },
           {
            "label": "Style&Fashion>Men'sFashion",
            "relevance": 0.0033566292840987444
           },
           {
            "label": "MusicAndAudio>GospelMusic",
            "relevance": 0.003208147594705224
           },
           {
            "label": "Style&Fashion>Women'sFashion",
            "relevance": 0.0030071923974901438
           },
           {
            "label": "FamilyAndRelationships>Dating",
            "relevance": 0.0023595315869897604
           },
           {
            "label": "Movies>RomanceMovies",
            "relevance": 0.0023570063058286905
           }
          ],
          "text": "But I hope country music is always around, and I think it will be. Sally, as your musical image changes, do you see that you'll change your fashion image? Maybe you won't have the wigs anymore, and maybe you'll come out in a halston gown or something. I don't think so. Mostly because I'm a real outrageous type of person.",
          "timestamp": {
           "end": 93487,
           "start": 73630
          }
         },
         {
          "labels": [
           {
            "label": "FineArt>Costume",
            "relevance": 0.8465800285339355
           },
           {
            "label": "Style&Fashion>StreetStyle",
            "relevance": 0.738155722618103
           },
           {
            "label": "Style&Fashion",
            "relevance": 0.5249568819999695
           },
           {
            "label": "Style&Fashion>Women'sFashion",
            "relevance": 0.08877943456172943
           },
           {
            "label": "Style&Fashion>FashionTrends",
            "relevance": 0.08791545033454895
           },
           {
            "label": "Style&Fashion>Men'sFashion",
            "relevance": 0.07258101552724838
           },
           {
            "label": "Style&Fashion>Women'sFashion>Women'sAccessories>Women'sHatsAndScarves",
            "relevance": 0.05190572142601013
           },
           {
            "label": "EventsAndAttractions>FashionEvents",
            "relevance": 0.03550994023680687
           },
           {
            "label": "Style&Fashion>HighFashion",
            "relevance": 0.0257802102714777
           },
           {
            "label": "Style&Fashion>Men'sFashion>Men'sAccessories",
            "relevance": 0.016050053760409355
           }
          ],
          "text": "I've often made the statement that I'm very extreme in whatever I do, and I enjoy the big hair and the gaudy clothes, and it's a costume. It's part of what people have come to know me as. And I don't like to be ordinary. I don't like to be stylish. It's far too easy to be stylish. And I like to think I've got a little more nerve.",
          "timestamp": {
           "end": 112197,
           "start": 93550
          }
         },
         {
          "labels": [
           {
            "label": "EventsAndAttractions>ComedyEvents",
            "relevance": 0.08671679347753525
           },
           {
            "label": "Style&Fashion>Beauty",
            "relevance": 0.06478646397590637
           },
           {
            "label": "MusicAndAudio>CountryMusic",
            "relevance": 0.02034997008740902
           },
           {
            "label": "Style&Fashion>Women'sFashion",
            "relevance": 0.0189866553992033
           },
           {
            "label": "PopCulture>HumorAndSatire",
            "relevance": 0.008741077966988087
           },
           {
            "label": "Style&Fashion>Men'sFashion",
            "relevance": 0.005887760315090418
           },
           {
            "label": "Style&Fashion>StreetStyle",
            "relevance": 0.005179543513804674
           },
           {
            "label": "FamilyAndRelationships>Dating",
            "relevance": 0.005069099832326174
           },
           {
            "label": "Television>ComedyTV",
            "relevance": 0.004026254639029503
           },
           {
            "label": "PopCulture",
            "relevance": 0.004024996887892485
           }
          ],
          "text": "And I'll try to venture out and do a few things a little bit different. But I doubt that I'll ever be in style. In fact, I'm sure of it. Sally, do you ever get your feelings hurt, the jokes about your figure and your hair and the way you look and so forth? Well, I used to not understand some of the jokes about my figure when I first came to Nashville.",
          "timestamp": {
           "end": 134067,
           "start": 112242
          }
         },
         {
          "labels": [
           {
            "label": "Style&Fashion>Women'sFashion>Women'sAccessories>Women'sHatsAndScarves",
            "relevance": 0.2603730857372284
           },
           {
            "label": "Style&Fashion>Women'sFashion",
            "relevance": 0.08368691056966782
           },
           {
            "label": "Style&Fashion>Beauty",
            "relevance": 0.06304166465997696
           },
           {
            "label": "Style&Fashion>StreetStyle",
            "relevance": 0.03607992082834244
           },
           {
            "label": "FineArt>Costume",
            "relevance": 0.027969729155302048
           },
           {
            "label": "Style&Fashion>Women'sFashion>Women'sAccessories",
            "relevance": 0.020719798281788826
           },
           {
            "label": "Style&Fashion>Beauty>MakeupAndAccessories",
            "relevance": 0.016051936894655228
           },
           {
            "label": "Style&Fashion>Beauty>HairCare",
            "relevance": 0.014574776403605938
           },
           {
            "label": "Style&Fashion",
            "relevance": 0.014574741013348103
           },
           {
            "label": "Style&Fashion>Men'sFashion",
            "relevance": 0.014402303844690323
           }
          ],
          "text": "But as far as the hair and the way I dress, I choose to do that. And it's part of a gimmick. It's part of my image. So if I really got my feelings hurt and if it really bothered me, I could certainly change, because like I said before, it's very easy to be in style. Dolly you have so much going for you right now with the Carson show, and you're going to be interviewed on Barbara Walters special.",
          "timestamp": {
           "end": 155825,
           "start": 134127
          }
         },
         {
          "labels": [
           {
            "label": "Television>SpecialInterestTV",
            "relevance": 0.9772883057594299
           },
           {
            "label": "Television>RealityTV",
            "relevance": 0.3810555040836334
           },
           {
            "label": "Television>SoapOperaTV",
            "relevance": 0.09017451107501984
           },
           {
            "label": "MusicAndAudio>TalkRadio",
            "relevance": 0.05488532409071922
           },
           {
            "label": "Television>FactualTV",
            "relevance": 0.05020318552851677
           },
           {
            "label": "Television>Children'sTV",
            "relevance": 0.027461137622594833
           },
           {
            "label": "Television>ComedyTV",
            "relevance": 0.01075147558003664
           },
           {
            "label": "Television>ScienceFictionTV",
            "relevance": 0.006833197548985481
           },
           {
            "label": "MusicAndAudio>TalkRadio>PublicRadio",
            "relevance": 0.006262070033699274
           },
           {
            "label": "Movies>WorldMovies",
            "relevance": 0.0035308157093822956
           }
          ],
          "text": "Is there anything in the offering, like movies or TV specials or those things that superstars get eventually? Well, I've been offered some TV specials already by all three networks, and I do hope to do several dollar specials, and I hope to do one this year. But as far as doing a regular show, I don't have any desire to do a weekly show. I did have a syndicated television show for a while. I only did 26 shows, and it's so time consuming.",
          "timestamp": {
           "end": 183612,
           "start": 156187
          }
         },
         {
          "labels": [
           {
            "label": "Movies>IndieAndArthouseMovies",
            "relevance": 0.23341114819049835
           },
           {
            "label": "Hobbies&Interests>ContentProduction>Screenwriting",
            "relevance": 0.1932518631219864
           },
           {
            "label": "Hobbies&Interests>ContentProduction>FreelanceWriting",
            "relevance": 0.16590701043605804
           },
           {
            "label": "Movies>DocumentaryMovies",
            "relevance": 0.1497877538204193
           },
           {
            "label": "Movies>RomanceMovies",
            "relevance": 0.08826641738414764
           },
           {
            "label": "BooksAndLiterature>YoungAdultLiterature",
            "relevance": 0.0398142971098423
           },
           {
            "label": "Movies",
            "relevance": 0.01939765363931656
           },
           {
            "label": "Movies>ComedyMovies",
            "relevance": 0.011561821214854717
           },
           {
            "label": "Movies>ActionAndAdventureMovies",
            "relevance": 0.010511742904782295
           },
           {
            "label": "Movies>DramaMovies",
            "relevance": 0.010092115961015224
           }
          ],
          "text": "But as far as the movies. I don't have a desire to be a movie star, but I would do certain things if it was just the right thing. And, of course, I just signed a contract with Bantam Publications. They're publishing some of my stories in my poetry.",
          "timestamp": {
           "end": 197112,
           "start": 183687
          }
         },
         {
          "labels": [
           {
            "label": "Hobbies&Interests>ContentProduction>Screenwriting",
            "relevance": 0.4324061870574951
           },
           {
            "label": "Movies>RomanceMovies",
            "relevance": 0.18384096026420593
           },
           {
            "label": "Movies>ComedyMovies",
            "relevance": 0.1334502398967743
           },
           {
            "label": "Movies>DramaMovies",
            "relevance": 0.09451892971992493
           },
           {
            "label": "Television>DramaTV",
            "relevance": 0.04016778618097305
           },
           {
            "label": "Hobbies&Interests>ContentProduction>FreelanceWriting",
            "relevance": 0.019915815442800522
           },
           {
            "label": "BooksAndLiterature>Fiction",
            "relevance": 0.012279652059078217
           },
           {
            "label": "Movies>DocumentaryMovies",
            "relevance": 0.011636683717370033
           },
           {
            "label": "Movies>ActionAndAdventureMovies",
            "relevance": 0.010763623751699924
           },
           {
            "label": "Television>RealityTV",
            "relevance": 0.010252603329718113
           }
          ],
          "text": "And in all of my stories, I write a character that, in case it should be a successful book and be turned into a movie, then I could play a part that I've written there or maybe a comedy I might like to do sometime. But as far as a desire to be an actress, that's never been my dream. It's always been with the music, mostly. You have sometimes been compared with Marilyn Monroe and with May West.",
          "timestamp": {
           "end": 220412,
           "start": 197187
          }
         },
         {
          "labels": [
           {
            "label": "Style&Fashion>Beauty",
            "relevance": 0.7143385410308838
           },
           {
            "label": "PopCulture>CelebrityRelationships",
            "relevance": 0.09855394810438156
           },
           {
            "label": "PopCulture>CelebrityFamilies",
            "relevance": 0.017512986436486244
           },
           {
            "label": "Television>RealityTV",
            "relevance": 0.0041799587197601795
           },
           {
            "label": "PopCulture>CelebrityStyle",
            "relevance": 0.004038451239466667
           },
           {
            "label": "Sports>Cheerleading",
            "relevance": 0.003551992354914546
           },
           {
            "label": "Style&Fashion>Women'sFashion",
            "relevance": 0.003285124199464917
           },
           {
            "label": "Movies>RomanceMovies",
            "relevance": 0.0031540710479021072
           },
           {
            "label": "FamilyAndRelationships>SingleLife",
            "relevance": 0.002712310291826725
           },
           {
            "label": "MedicalHealth>DiseasesAndConditions>EndocrineAndMetabolicDiseases>Menopause",
            "relevance": 0.0025034558493644
           }
          ],
          "text": "Do either of those people have any influence at all on what you do? No. I've always admired anybody that could put up with a business in the way they have. And I think they're both beautiful women, but I never tried to pattern myself after either one of them. I happen to be a bit booze. Me like May West and the blonde hair, I guess just the appearance all around of kind of well, I don't know exactly why, but I guess you know why.",
          "timestamp": {
           "end": 248422,
           "start": 220987
          }
         },
         {
          "labels": [
           {
            "label": "PopCulture>CelebrityFamilies",
            "relevance": 0.2551182210445404
           },
           {
            "label": "PopCulture>CelebrityRelationships",
            "relevance": 0.15196765959262848
           },
           {
            "label": "PopCulture>CelebrityStyle",
            "relevance": 0.04297574982047081
           },
           {
            "label": "Television>RealityTV",
            "relevance": 0.024702386930584908
           },
           {
            "label": "PopCulture>CelebrityScandal",
            "relevance": 0.007851389236748219
           },
           {
            "label": "Style&Fashion>Beauty",
            "relevance": 0.005932359956204891
           },
           {
            "label": "PopCulture",
            "relevance": 0.002195949899032712
           },
           {
            "label": "Automotive>AutoType>ClassicCars",
            "relevance": 0.0016076135216280818
           },
           {
            "label": "PopCulture>CelebrityDeaths",
            "relevance": 0.0012391329510137439
           },
           {
            "label": "Sports>Cheerleading",
            "relevance": 0.0011674789711833
           }
          ],
          "text": "But I've not been influenced by them. In fact, I've always had great sympathy for Merlin Monroe of what a tragic, sad life she always had. And as far as May Wes always admired and respected her because of her business knowledge as a businesswoman and the way she took care of her business. But I admire people like that. But I don't have a desire to be like them. I want to be like me. Good.",
          "timestamp": {
           "end": 283325,
           "start": 248455
          }
         },
         {
          "labels": [
           {
            "label": "MusicAndAudio>CountryMusic",
            "relevance": 0.7430535554885864
           },
           {
            "label": "Television>RealityTV",
            "relevance": 0.03996576368808746
           },
           {
            "label": "MusicAndAudio>TalkRadio",
            "relevance": 0.01951511576771736
           },
           {
            "label": "EventsAndAttractions>AwardsShows",
            "relevance": 0.0136446887627244
           },
           {
            "label": "Television>MusicTV",
            "relevance": 0.01024558860808611
           },
           {
            "label": "PopCulture>CelebrityStyle",
            "relevance": 0.004326129797846079
           },
           {
            "label": "MusicAndAudio>ClassicHits",
            "relevance": 0.003579252865165472
           },
           {
            "label": "MusicAndAudio>AdultContemporaryMusic",
            "relevance": 0.0023243974428623915
           },
           {
            "label": "EventsAndAttractions>Concerts&MusicEvents",
            "relevance": 0.002094053663313389
           },
           {
            "label": "EventsAndAttractions>FanConventions",
            "relevance": 0.0017833536257967353
           }
          ],
          "text": "And you're going to mention the show before you do that. So if you will go on up there, we'll shoot you up on the page with your email. Okay. We're not ready to play yet. No, that's okay. If you just go on up there, we can get some shots of you. Thanks. You upstairs. Okay. The dolly with the cotton candy hairs so far is not deserting her country fans, but she is looking for even bigger audiences.",
          "timestamp": {
           "end": 490272,
           "start": 284137
          }
         },
         {
          "labels": [
           {
            "label": "EventsAndAttractions>Zoos&Aquariums",
            "relevance": 0.01035576593130827
           },
           {
            "label": "EventsAndAttractions>PersonalCelebrations&LifeEvents>Birth",
            "relevance": 0.0034427421633154154
           },
           {
            "label": "Style&Fashion>BodyArt",
            "relevance": 0.0022081492934376
           },
           {
            "label": "Pets>LargeAnimals",
            "relevance": 0.0014823157107457519
           },
           {
            "label": "Style&Fashion>Beauty",
            "relevance": 0.0009751335019245744
           },
           {
            "label": "Pets>Birds",
            "relevance": 0.0008634719997644424
           },
           {
            "label": "Pets>PetAdoptions",
            "relevance": 0.0007602090481668711
           },
           {
            "label": "Pets",
            "relevance": 0.0005273806164041162
           },
           {
            "label": "Pets>VeterinaryMedicine",
            "relevance": 0.0004919152706861496
           },
           {
            "label": "HealthyLiving>Men'sHealth",
            "relevance": 0.0004911075229756534
           }
          ],
          "text": "And to do that, she must appeal to the pop and rock crowd. Something like Here You Come again. Currently number one on the charts. Fits that formula. Giraffe weigh £150 at birth, £400 at four months, and in five days at maturity, they weigh a happy. All right there, Jimmy.",
          "timestamp": {
           "end": 681925,
           "start": 490317
          }
         }
        ],
        "status": "success",
        "summary": {
         "EventsAndAttractions>ComedyEvents": 0.026475554332137108,
         "FineArt>Costume": 0.23534712195396423,
         "Hobbies&Interests>ContentProduction>FreelanceWriting": 0.05123736336827278,
         "Hobbies&Interests>ContentProduction>Screenwriting": 0.167942613363266,
         "Movies>ComedyMovies": 0.03984198346734047,
         "Movies>DocumentaryMovies": 0.04355384781956673,
         "Movies>DramaMovies": 0.02831115759909153,
         "Movies>IndieAndArthouseMovies": 0.06348416209220886,
         "Movies>RomanceMovies": 0.07643189281225204,
         "MusicAndAudio>CountryMusic": 1,
         "MusicAndAudio>Songwriters/Folk": 0.15130256116390228,
         "PopCulture>CelebrityFamilies": 0.07417397946119308,
         "PopCulture>CelebrityRelationships": 0.0706520602107048,
         "Style&Fashion": 0.14549575746059418,
         "Style&Fashion>Beauty": 0.23156411945819855,
         "Style&Fashion>StreetStyle": 0.20943957567214966,
         "Style&Fashion>Women'sFashion": 0.05324403941631317,
         "Style&Fashion>Women'sFashion>Women'sAccessories>Women'sHatsAndScarves": 0.08547669649124146,
         "Television>RealityTV": 0.12690193951129913,
         "Television>SpecialInterestTV": 0.2619033753871918
        }
       },
       "id": "rye5mp9zwx-4f09-4b4a-833c-2282688cf76d",
       "language_code": "en_us",
       "language_detection": false,
       "language_model": "assemblyai_default",
       "punctuate": true,
       "redact_pii": false,
       "redact_pii_audio": false,
       "redact_pii_audio_quality": null,
       "redact_pii_policies": null,
       "redact_pii_sub": null,
       "sentiment_analysis": true,
       "sentiment_analysis_results": [
        {
         "confidence": 0.5208578705787659,
         "end": 1282,
         "sentiment": "NEUTRAL",
         "speaker": "A",
         "start": 987,
         "text": "Hello."
        },
        {
         "confidence": 0.9245960712432861,
         "end": 2600,
         "sentiment": "POSITIVE",
         "speaker": "A",
         "start": 1360,
         "text": "Nice to meet you."
        },
        {
         "confidence": 0.48827219009399414,
         "end": 13025,
         "sentiment": "NEUTRAL",
         "speaker": "B",
         "start": 11887,
         "text": "Yes, right."
        },
        {
         "confidence": 0.6781592965126038,
         "end": 16262,
         "sentiment": "NEUTRAL",
         "speaker": "B",
         "start": 15337,
         "text": "Michael."
        },
        {
         "confidence": 0.6359227299690247,
         "end": 44017,
         "sentiment": "NEUTRAL",
         "speaker": "A",
         "start": 39187,
         "text": "Dolly, do you see a time when your country music will fade into the past?"
        },
        {
         "confidence": 0.5707464218139648,
         "end": 45292,
         "sentiment": "NEUTRAL",
         "speaker": "B",
         "start": 44140,
         "text": "Oh, I don't think so."
        },
        {
         "confidence": 0.6617451906204224,
         "end": 49747,
         "sentiment": "NEGATIVE",
         "speaker": "B",
         "start": 45340,
         "text": "I think I'm far too country for my country music to fade into the past."
        },
        {
         "confidence": 0.5349587798118591,
         "end": 55342,
         "sentiment": "NEUTRAL",
         "speaker": "B",
         "start": 49780,
         "text": "But this past year, I've been trying to do some things that could be accepted in other fields of music."
        },
        {
         "confidence": 0.8684893846511841,
         "end": 65497,
         "sentiment": "POSITIVE",
         "speaker": "B",
         "start": 55465,
         "text": "But I guess I'll be writing country songs as long as I live because I have too many country memories, and I was brought up in a big family and lived on a farm and all that, and country music is my first love."
        },
        {
         "confidence": 0.5408344864845276,
         "end": 71392,
         "sentiment": "POSITIVE",
         "speaker": "B",
         "start": 65530,
         "text": "But I tried to look at my work as a joy, as a job, and as a business person as well."
        },
        {
         "confidence": 0.7602618932723999,
         "end": 73597,
         "sentiment": "NEUTRAL",
         "speaker": "B",
         "start": 71440,
         "text": "So I'm trying to COVID as much ground as I can."
        },
        {
         "confidence": 0.8252066969871521,
         "end": 77150,
         "sentiment": "POSITIVE",
         "speaker": "B",
         "start": 73630,
         "text": "But I hope country music is always around, and I think it will be."
        },
        {
         "confidence": 0.9054999947547913,
         "end": 83097,
         "sentiment": "NEUTRAL",
         "speaker": "A",
         "start": 77812,
         "text": "Sally, as your musical image changes, do you see that you'll change your fashion image?"
        },
        {
         "confidence": 0.7578918933868408,
         "end": 88762,
         "sentiment": "NEUTRAL",
         "speaker": "A",
         "start": 83142,
         "text": "Maybe you won't have the wigs anymore, and maybe you'll come out in a halston gown or something."
        },
        {
         "confidence": 0.5157566666603088,
         "end": 89887,
         "sentiment": "NEUTRAL",
         "speaker": "B",
         "start": 88900,
         "text": "I don't think so."
        },
        {
         "confidence": 0.7636752128601074,
         "end": 93487,
         "sentiment": "NEGATIVE",
         "speaker": "B",
         "start": 89950,
         "text": "Mostly because I'm a real outrageous type of person."
        },
        {
         "confidence": 0.5700867772102356,
         "end": 101912,
         "sentiment": "POSITIVE",
         "speaker": "B",
         "start": 93550,
         "text": "I've often made the statement that I'm very extreme in whatever I do, and I enjoy the big hair and the gaudy clothes, and it's a costume."
        },
        {
         "confidence": 0.8752016425132751,
         "end": 105127,
         "sentiment": "NEUTRAL",
         "speaker": "B",
         "start": 102262,
         "text": "It's part of what people have come to know me as."
        },
        {
         "confidence": 0.7348829507827759,
         "end": 106722,
         "sentiment": "NEGATIVE",
         "speaker": "B",
         "start": 105220,
         "text": "And I don't like to be ordinary."
        },
        {
         "confidence": 0.8538529872894287,
         "end": 107922,
         "sentiment": "NEGATIVE",
         "speaker": "B",
         "start": 106767,
         "text": "I don't like to be stylish."
        },
        {
         "confidence": 0.43899136781692505,
         "end": 109542,
         "sentiment": "NEUTRAL",
         "speaker": "B",
         "start": 107967,
         "text": "It's far too easy to be stylish."
        },
        {
         "confidence": 0.6503902077674866,
         "end": 112197,
         "sentiment": "NEUTRAL",
         "speaker": "B",
         "start": 109602,
         "text": "And I like to think I've got a little more nerve."
        },
        {
         "confidence": 0.7193443775177002,
         "end": 115792,
         "sentiment": "NEUTRAL",
         "speaker": "B",
         "start": 112242,
         "text": "And I'll try to venture out and do a few things a little bit different."
        },
        {
         "confidence": 0.6754281520843506,
         "end": 118647,
         "sentiment": "NEGATIVE",
         "speaker": "B",
         "start": 115840,
         "text": "But I doubt that I'll ever be in style."
        },
        {
         "confidence": 0.5996355414390564,
         "end": 120350,
         "sentiment": "NEUTRAL",
         "speaker": "B",
         "start": 118692,
         "text": "In fact, I'm sure of it."
        },
        {
         "confidence": 0.6790810227394104,
         "end": 128037,
         "sentiment": "NEGATIVE",
         "speaker": "A",
         "start": 121462,
         "text": "Sally, do you ever get your feelings hurt, the jokes about your figure and your hair and the way you look and so forth?"
        },
        {
         "confidence": 0.724762499332428,
         "end": 134067,
         "sentiment": "NEGATIVE",
         "speaker": "B",
         "start": 128187,
         "text": "Well, I used to not understand some of the jokes about my figure when I first came to Nashville."
        },
        {
         "confidence": 0.8666906952857971,
         "end": 137137,
         "sentiment": "NEUTRAL",
         "speaker": "B",
         "start": 134127,
         "text": "But as far as the hair and the way I dress, I choose to do that."
        },
        {
         "confidence": 0.540126383304596,
         "end": 138447,
         "sentiment": "NEUTRAL",
         "speaker": "B",
         "start": 137200,
         "text": "And it's part of a gimmick."
        },
        {
         "confidence": 0.7873823642730713,
         "end": 139902,
         "sentiment": "NEUTRAL",
         "speaker": "B",
         "start": 138492,
         "text": "It's part of my image."
        },
        {
         "confidence": 0.5585341453552246,
         "end": 147437,
         "sentiment": "NEUTRAL",
         "speaker": "B",
         "start": 139932,
         "text": "So if I really got my feelings hurt and if it really bothered me, I could certainly change, because like I said before, it's very easy to be in style."
        },
        {
         "confidence": 0.6164908409118652,
         "end": 155825,
         "sentiment": "POSITIVE",
         "speaker": "A",
         "start": 148462,
         "text": "Dolly you have so much going for you right now with the Carson show, and you're going to be interviewed on Barbara Walters special."
        },
        {
         "confidence": 0.8717857003211975,
         "end": 164142,
         "sentiment": "NEUTRAL",
         "speaker": "A",
         "start": 156187,
         "text": "Is there anything in the offering, like movies or TV specials or those things that superstars get eventually?"
        },
        {
         "confidence": 0.8871426582336426,
         "end": 173647,
         "sentiment": "POSITIVE",
         "speaker": "B",
         "start": 164277,
         "text": "Well, I've been offered some TV specials already by all three networks, and I do hope to do several dollar specials, and I hope to do one this year."
        },
        {
         "confidence": 0.7220524549484253,
         "end": 177697,
         "sentiment": "NEGATIVE",
         "speaker": "B",
         "start": 173755,
         "text": "But as far as doing a regular show, I don't have any desire to do a weekly show."
        },
        {
         "confidence": 0.8724566698074341,
         "end": 180847,
         "sentiment": "NEUTRAL",
         "speaker": "B",
         "start": 177730,
         "text": "I did have a syndicated television show for a while."
        },
        {
         "confidence": 0.8024323582649231,
         "end": 183612,
         "sentiment": "NEGATIVE",
         "speaker": "B",
         "start": 180880,
         "text": "I only did 26 shows, and it's so time consuming."
        },
        {
         "confidence": 0.7864852547645569,
         "end": 184842,
         "sentiment": "NEUTRAL",
         "speaker": "B",
         "start": 183687,
         "text": "But as far as the movies."
        },
        {
         "confidence": 0.6643039584159851,
         "end": 190582,
         "sentiment": "NEUTRAL",
         "speaker": "B",
         "start": 184902,
         "text": "I don't have a desire to be a movie star, but I would do certain things if it was just the right thing."
        },
        {
         "confidence": 0.6600633263587952,
         "end": 194172,
         "sentiment": "NEUTRAL",
         "speaker": "B",
         "start": 190660,
         "text": "And, of course, I just signed a contract with Bantam Publications."
        },
        {
         "confidence": 0.777468740940094,
         "end": 197112,
         "sentiment": "NEUTRAL",
         "speaker": "B",
         "start": 194292,
         "text": "They're publishing some of my stories in my poetry."
        },
        {
         "confidence": 0.5634416937828064,
         "end": 208602,
         "sentiment": "POSITIVE",
         "speaker": "B",
         "start": 197187,
         "text": "And in all of my stories, I write a character that, in case it should be a successful book and be turned into a movie, then I could play a part that I've written there or maybe a comedy I might like to do sometime."
        },
        {
         "confidence": 0.5254857540130615,
         "end": 213252,
         "sentiment": "NEUTRAL",
         "speaker": "B",
         "start": 208707,
         "text": "But as far as a desire to be an actress, that's never been my dream."
        },
        {
         "confidence": 0.7376983165740967,
         "end": 215387,
         "sentiment": "NEUTRAL",
         "speaker": "B",
         "start": 213282,
         "text": "It's always been with the music, mostly."
        },
        {
         "confidence": 0.8513723015785217,
         "end": 220412,
         "sentiment": "NEUTRAL",
         "speaker": "A",
         "start": 215887,
         "text": "You have sometimes been compared with Marilyn Monroe and with May West."
        },
        {
         "confidence": 0.7650558352470398,
         "end": 225922,
         "sentiment": "NEUTRAL",
         "speaker": "A",
         "start": 220987,
         "text": "Do either of those people have any influence at all on what you do?"
        },
        {
         "confidence": 0.4936187267303467,
         "end": 226387,
         "sentiment": "NEUTRAL",
         "speaker": "B",
         "start": 226030,
         "text": "No."
        },
        {
         "confidence": 0.8039482235908508,
         "end": 231667,
         "sentiment": "POSITIVE",
         "speaker": "B",
         "start": 226450,
         "text": "I've always admired anybody that could put up with a business in the way they have."
        },
        {
         "confidence": 0.6728677749633789,
         "end": 236647,
         "sentiment": "POSITIVE",
         "speaker": "B",
         "start": 231715,
         "text": "And I think they're both beautiful women, but I never tried to pattern myself after either one of them."
        },
        {
         "confidence": 0.7003390789031982,
         "end": 238257,
         "sentiment": "NEUTRAL",
         "speaker": "B",
         "start": 236680,
         "text": "I happen to be a bit booze."
        },
        {
         "confidence": 0.7276355624198914,
         "end": 248422,
         "sentiment": "NEUTRAL",
         "speaker": "B",
         "start": 238272,
         "text": "Me like May West and the blonde hair, I guess just the appearance all around of kind of well, I don't know exactly why, but I guess you know why."
        },
        {
         "confidence": 0.5986251831054688,
         "end": 250627,
         "sentiment": "NEUTRAL",
         "speaker": "B",
         "start": 248455,
         "text": "But I've not been influenced by them."
        },
        {
         "confidence": 0.44599881768226624,
         "end": 256882,
         "sentiment": "NEUTRAL",
         "speaker": "B",
         "start": 250645,
         "text": "In fact, I've always had great sympathy for Merlin Monroe of what a tragic, sad life she always had."
        },
        {
         "confidence": 0.911777675151825,
         "end": 264412,
         "sentiment": "POSITIVE",
         "speaker": "B",
         "start": 256960,
         "text": "And as far as May Wes always admired and respected her because of her business knowledge as a businesswoman and the way she took care of her business."
        },
        {
         "confidence": 0.8496516942977905,
         "end": 267517,
         "sentiment": "POSITIVE",
         "speaker": "B",
         "start": 264475,
         "text": "But I admire people like that."
        },
        {
         "confidence": 0.6225285530090332,
         "end": 269347,
         "sentiment": "NEGATIVE",
         "speaker": "B",
         "start": 267565,
         "text": "But I don't have a desire to be like them."
        },
        {
         "confidence": 0.5729760527610779,
         "end": 270650,
         "sentiment": "POSITIVE",
         "speaker": "B",
         "start": 269380,
         "text": "I want to be like me."
        },
        {
         "confidence": 0.7732182145118713,
         "end": 283325,
         "sentiment": "POSITIVE",
         "speaker": "A",
         "start": 282562,
         "text": "Good."
        },
        {
         "confidence": 0.6317955255508423,
         "end": 287450,
         "sentiment": "NEUTRAL",
         "speaker": "B",
         "start": 284137,
         "text": "And you're going to mention the show before you do that."
        },
        {
         "confidence": 0.5265340805053711,
         "end": 292192,
         "sentiment": "NEGATIVE",
         "speaker": "A",
         "start": 288637,
         "text": "So if you will go on up there, we'll shoot you up on the page with your email."
        },
        {
         "confidence": 0.5843515396118164,
         "end": 292582,
         "sentiment": "NEUTRAL",
         "speaker": "B",
         "start": 292240,
         "text": "Okay."
        },
        {
         "confidence": 0.7333357930183411,
         "end": 294157,
         "sentiment": "NEGATIVE",
         "speaker": "B",
         "start": 292660,
         "text": "We're not ready to play yet."
        },
        {
         "confidence": 0.4932115375995636,
         "end": 294997,
         "sentiment": "POSITIVE",
         "speaker": "A",
         "start": 294310,
         "text": "No, that's okay."
        },
        {
         "confidence": 0.768591046333313,
         "end": 297892,
         "sentiment": "NEUTRAL",
         "speaker": "A",
         "start": 295030,
         "text": "If you just go on up there, we can get some shots of you."
        },
        {
         "confidence": 0.6283752918243408,
         "end": 298700,
         "sentiment": "POSITIVE",
         "speaker": "A",
         "start": 298015,
         "text": "Thanks."
        },
        {
         "confidence": 0.7452439665794373,
         "end": 340037,
         "sentiment": "NEUTRAL",
         "speaker": "A",
         "start": 338662,
         "text": "You upstairs."
        },
        {
         "confidence": 0.5843515396118164,
         "end": 482000,
         "sentiment": "NEUTRAL",
         "speaker": "B",
         "start": 481237,
         "text": "Okay."
        },
        {
         "confidence": 0.5701745748519897,
         "end": 490272,
         "sentiment": "POSITIVE",
         "speaker": "A",
         "start": 483112,
         "text": "The dolly with the cotton candy hairs so far is not deserting her country fans, but she is looking for even bigger audiences."
        },
        {
         "confidence": 0.7840061783790588,
         "end": 493662,
         "sentiment": "NEUTRAL",
         "speaker": "A",
         "start": 490317,
         "text": "And to do that, she must appeal to the pop and rock crowd."
        },
        {
         "confidence": 0.8859643340110779,
         "end": 495877,
         "sentiment": "NEUTRAL",
         "speaker": "A",
         "start": 493812,
         "text": "Something like Here You Come again."
        },
        {
         "confidence": 0.49656596779823303,
         "end": 497757,
         "sentiment": "NEUTRAL",
         "speaker": "A",
         "start": 495970,
         "text": "Currently number one on the charts."
        },
        {
         "confidence": 0.6690765619277954,
         "end": 499412,
         "sentiment": "NEUTRAL",
         "speaker": "A",
         "start": 497847,
         "text": "Fits that formula."
        },
        {
         "confidence": 0.8619489669799805,
         "end": 591975,
         "sentiment": "NEUTRAL",
         "speaker": "A",
         "start": 583562,
         "text": "Giraffe weigh £150 at birth, £400 at four months, and in five days at maturity, they weigh a happy."
        },
        {
         "confidence": 0.6911770701408386,
         "end": 681925,
         "sentiment": "NEUTRAL",
         "speaker": "B",
         "start": 644512,
         "text": "All right there, Jimmy."
        }
       ],
       "speaker_labels": true,
       "speed_boost": false,
       "status": "completed",
       "summarization": false,
       "summary": null,
       "summary_type": null,
       "text": "Hello. Nice to meet you. Yes, right. Michael. Dolly, do you see a time when your country music will fade into the past? Oh, I don't think so. I think I'm far too country for my country music to fade into the past. But this past year, I've been trying to do some things that could be accepted in other fields of music. But I guess I'll be writing country songs as long as I live because I have too many country memories, and I was brought up in a big family and lived on a farm and all that, and country music is my first love. But I tried to look at my work as a joy, as a job, and as a business person as well. So I'm trying to COVID as much ground as I can. But I hope country music is always around, and I think it will be. Sally, as your musical image changes, do you see that you'll change your fashion image? Maybe you won't have the wigs anymore, and maybe you'll come out in a halston gown or something. I don't think so. Mostly because I'm a real outrageous type of person. I've often made the statement that I'm very extreme in whatever I do, and I enjoy the big hair and the gaudy clothes, and it's a costume. It's part of what people have come to know me as. And I don't like to be ordinary. I don't like to be stylish. It's far too easy to be stylish. And I like to think I've got a little more nerve. And I'll try to venture out and do a few things a little bit different. But I doubt that I'll ever be in style. In fact, I'm sure of it. Sally, do you ever get your feelings hurt, the jokes about your figure and your hair and the way you look and so forth? Well, I used to not understand some of the jokes about my figure when I first came to Nashville. But as far as the hair and the way I dress, I choose to do that. And it's part of a gimmick. It's part of my image. So if I really got my feelings hurt and if it really bothered me, I could certainly change, because like I said before, it's very easy to be in style. Dolly you have so much going for you right now with the Carson show, and you're going to be interviewed on Barbara Walters special. Is there anything in the offering, like movies or TV specials or those things that superstars get eventually? Well, I've been offered some TV specials already by all three networks, and I do hope to do several dollar specials, and I hope to do one this year. But as far as doing a regular show, I don't have any desire to do a weekly show. I did have a syndicated television show for a while. I only did 26 shows, and it's so time consuming. But as far as the movies. I don't have a desire to be a movie star, but I would do certain things if it was just the right thing. And, of course, I just signed a contract with Bantam Publications. They're publishing some of my stories in my poetry. And in all of my stories, I write a character that, in case it should be a successful book and be turned into a movie, then I could play a part that I've written there or maybe a comedy I might like to do sometime. But as far as a desire to be an actress, that's never been my dream. It's always been with the music, mostly. You have sometimes been compared with Marilyn Monroe and with May West. Do either of those people have any influence at all on what you do? No. I've always admired anybody that could put up with a business in the way they have. And I think they're both beautiful women, but I never tried to pattern myself after either one of them. I happen to be a bit booze. Me like May West and the blonde hair, I guess just the appearance all around of kind of well, I don't know exactly why, but I guess you know why. But I've not been influenced by them. In fact, I've always had great sympathy for Merlin Monroe of what a tragic, sad life she always had. And as far as May Wes always admired and respected her because of her business knowledge as a businesswoman and the way she took care of her business. But I admire people like that. But I don't have a desire to be like them. I want to be like me. Good. And you're going to mention the show before you do that. So if you will go on up there, we'll shoot you up on the page with your email. Okay. We're not ready to play yet. No, that's okay. If you just go on up there, we can get some shots of you. Thanks. You upstairs. Okay. The dolly with the cotton candy hairs so far is not deserting her country fans, but she is looking for even bigger audiences. And to do that, she must appeal to the pop and rock crowd. Something like Here You Come again. Currently number one on the charts. Fits that formula. Giraffe weigh £150 at birth, £400 at four months, and in five days at maturity, they weigh a happy. All right there, Jimmy.",
       "throttled": null,
       "utterances": [
        {
         "confidence": 0.9117199999999999,
         "end": 2600,
         "speaker": "A",
         "start": 987,
         "text": "Hello. Nice to meet you.",
         "words": [
          {
           "confidence": 0.90048,
           "end": 1282,
           "speaker": "A",
           "start": 987,
           "text": "Hello."
          },
          {
           "confidence": 0.99013,
           "end": 1597,
           "speaker": "A",
           "start": 1360,
           "text": "Nice"
          },
          {
           "confidence": 0.71,
           "end": 1777,
           "speaker": "A",
           "start": 1630,
           "text": "to"
          },
          {
           "confidence": 0.98235,
           "end": 1972,
           "speaker": "A",
           "start": 1795,
           "text": "meet"
          },
          {
           "confidence": 0.97564,
           "end": 2600,
           "speaker": "A",
           "start": 2005,
           "text": "you."
          }
         ]
        },
        {
         "confidence": 0.8104433333333333,
         "end": 16262,
         "speaker": "B",
         "start": 11887,
         "text": "Yes, right. Michael.",
         "words": [
          {
           "confidence": 0.9153,
           "end": 12337,
           "speaker": "B",
           "start": 11887,
           "text": "Yes,"
          },
          {
           "confidence": 0.96,
           "end": 13025,
           "speaker": "B",
           "start": 12400,
           "text": "right."
          },
          {
           "confidence": 0.55603,
           "end": 16262,
           "speaker": "B",
           "start": 15337,
           "text": "Michael."
          }
         ]
        },
        {
         "confidence": 0.9900313333333333,
         "end": 44017,
         "speaker": "A",
         "start": 39187,
         "text": "Dolly, do you see a time when your country music will fade into the past?",
         "words": [
          {
           "confidence": 0.94046,
           "end": 39702,
           "speaker": "A",
           "start": 39187,
           "text": "Dolly,"
          },
          {
           "confidence": 0.99904,
           "end": 39877,
           "speaker": "A",
           "start": 39732,
           "text": "do"
          },
          {
           "confidence": 0.99972,
           "end": 40027,
           "speaker": "A",
           "start": 39895,
           "text": "you"
          },
          {
           "confidence": 0.99982,
           "end": 40222,
           "speaker": "A",
           "start": 40045,
           "text": "see"
          },
          {
           "confidence": 1,
           "end": 40402,
           "speaker": "A",
           "start": 40255,
           "text": "a"
          },
          {
           "confidence": 0.99914,
           "end": 40822,
           "speaker": "A",
           "start": 40420,
           "text": "time"
          },
          {
           "confidence": 0.99944,
           "end": 41242,
           "speaker": "A",
           "start": 40930,
           "text": "when"
          },
          {
           "confidence": 0.97134,
           "end": 41632,
           "speaker": "A",
           "start": 41290,
           "text": "your"
          },
          {
           "confidence": 0.99996,
           "end": 42082,
           "speaker": "A",
           "start": 41710,
           "text": "country"
          },
          {
           "confidence": 0.99892,
           "end": 42487,
           "speaker": "A",
           "start": 42160,
           "text": "music"
          },
          {
           "confidence": 0.99901,
           "end": 42772,
           "speaker": "A",
           "start": 42550,
           "text": "will"
          },
          {
           "confidence": 0.99574,
           "end": 43077,
           "speaker": "A",
           "start": 42805,
           "text": "fade"
          },
          {
           "confidence": 0.99788,
           "end": 43297,
           "speaker": "A",
           "start": 43107,
           "text": "into"
          },
          {
           "confidence": 0.95,
           "end": 43522,
           "speaker": "A",
           "start": 43330,
           "text": "the"
          },
          {
           "confidence": 1,
           "end": 44017,
           "speaker": "A",
           "start": 43555,
           "text": "past?"
          }
         ]
        },
        {
         "confidence": 0.9371586923076926,
         "end": 77150,
         "speaker": "B",
         "start": 44140,
         "text": "Oh, I don't think so. I think I'm far too country for my country music to fade into the past. But this past year, I've been trying to do some things that could be accepted in other fields of music. But I guess I'll be writing country songs as long as I live because I have too many country memories, and I was brought up in a big family and lived on a farm and all that, and country music is my first love. But I tried to look at my work as a joy, as a job, and as a business person as well. So I'm trying to COVID as much ground as I can. But I hope country music is always around, and I think it will be.",
         "words": [
          {
           "confidence": 0.7,
           "end": 44422,
           "speaker": "B",
           "start": 44140,
           "text": "Oh,"
          },
          {
           "confidence": 1,
           "end": 44602,
           "speaker": "B",
           "start": 44455,
           "text": "I"
          },
          {
           "confidence": 0.99135,
           "end": 44802,
           "speaker": "B",
           "start": 44620,
           "text": "don't"
          },
          {
           "confidence": 0.99958,
           "end": 45022,
           "speaker": "B",
           "start": 44832,
           "text": "think"
          },
          {
           "confidence": 0.99761,
           "end": 45292,
           "speaker": "B",
           "start": 45055,
           "text": "so."
          },
          {
           "confidence": 1,
           "end": 45502,
           "speaker": "B",
           "start": 45340,
           "text": "I"
          },
          {
           "confidence": 0.99897,
           "end": 45652,
           "speaker": "B",
           "start": 45520,
           "text": "think"
          },
          {
           "confidence": 0.83516,
           "end": 45942,
           "speaker": "B",
           "start": 45670,
           "text": "I'm"
          },
          {
           "confidence": 0.99916,
           "end": 46222,
           "speaker": "B",
           "start": 46002,
           "text": "far"
          },
          {
           "confidence": 0.86316,
           "end": 46492,
           "speaker": "B",
           "start": 46255,
           "text": "too"
          },
          {
           "confidence": 0.98474,
           "end": 47107,
           "speaker": "B",
           "start": 46540,
           "text": "country"
          },
          {
           "confidence": 0.99847,
           "end": 47752,
           "speaker": "B",
           "start": 47260,
           "text": "for"
          },
          {
           "confidence": 0.99867,
           "end": 48142,
           "speaker": "B",
           "start": 47845,
           "text": "my"
          },
          {
           "confidence": 0.99992,
           "end": 48442,
           "speaker": "B",
           "start": 48190,
           "text": "country"
          },
          {
           "confidence": 0.9993,
           "end": 48742,
           "speaker": "B",
           "start": 48490,
           "text": "music"
          },
          {
           "confidence": 1,
           "end": 48952,
           "speaker": "B",
           "start": 48790,
           "text": "to"
          },
          {
           "confidence": 0.98689,
           "end": 49182,
           "speaker": "B",
           "start": 48970,
           "text": "fade"
          },
          {
           "confidence": 0.99231,
           "end": 49372,
           "speaker": "B",
           "start": 49197,
           "text": "into"
          },
          {
           "confidence": 1,
           "end": 49552,
           "speaker": "B",
           "start": 49405,
           "text": "the"
          },
          {
           "confidence": 0.99,
           "end": 49747,
           "speaker": "B",
           "start": 49570,
           "text": "past."
          },
          {
           "confidence": 0.73949,
           "end": 49927,
           "speaker": "B",
           "start": 49780,
           "text": "But"
          },
          {
           "confidence": 0.99715,
           "end": 50122,
           "speaker": "B",
           "start": 49945,
           "text": "this"
          },
          {
           "confidence": 0.93,
           "end": 50437,
           "speaker": "B",
           "start": 50155,
           "text": "past"
          },
          {
           "confidence": 0.50965,
           "end": 50992,
           "speaker": "B",
           "start": 50500,
           "text": "year,"
          },
          {
           "confidence": 0.81286,
           "end": 51402,
           "speaker": "B",
           "start": 51115,
           "text": "I've"
          },
          {
           "confidence": 0.99968,
           "end": 51622,
           "speaker": "B",
           "start": 51432,
           "text": "been"
          },
          {
           "confidence": 0.99975,
           "end": 51892,
           "speaker": "B",
           "start": 51655,
           "text": "trying"
          },
          {
           "confidence": 0.69,
           "end": 52192,
           "speaker": "B",
           "start": 51940,
           "text": "to"
          },
          {
           "confidence": 0.99971,
           "end": 52447,
           "speaker": "B",
           "start": 52240,
           "text": "do"
          },
          {
           "confidence": 0.98674,
           "end": 52672,
           "speaker": "B",
           "start": 52480,
           "text": "some"
          },
          {
           "confidence": 0.99897,
           "end": 52897,
           "speaker": "B",
           "start": 52705,
           "text": "things"
          },
          {
           "confidence": 1,
           "end": 53077,
           "speaker": "B",
           "start": 52930,
           "text": "that"
          },
          {
           "confidence": 0.99546,
           "end": 53272,
           "speaker": "B",
           "start": 53095,
           "text": "could"
          },
          {
           "confidence": 0.99962,
           "end": 53452,
           "speaker": "B",
           "start": 53305,
           "text": "be"
          },
          {
           "confidence": 0.99214,
           "end": 53952,
           "speaker": "B",
           "start": 53470,
           "text": "accepted"
          },
          {
           "confidence": 0.98786,
           "end": 54127,
           "speaker": "B",
           "start": 53982,
           "text": "in"
          },
          {
           "confidence": 0.99888,
           "end": 54322,
           "speaker": "B",
           "start": 54145,
           "text": "other"
          },
          {
           "confidence": 0.57709,
           "end": 54702,
           "speaker": "B",
           "start": 54355,
           "text": "fields"
          },
          {
           "confidence": 0.99,
           "end": 54877,
           "speaker": "B",
           "start": 54732,
           "text": "of"
          },
          {
           "confidence": 0.99993,
           "end": 55342,
           "speaker": "B",
           "start": 54895,
           "text": "music."
          },
          {
           "confidence": 0.93032,
           "end": 56017,
           "speaker": "B",
           "start": 55465,
           "text": "But"
          },
          {
           "confidence": 0.88,
           "end": 56377,
           "speaker": "B",
           "start": 56140,
           "text": "I"
          },
          {
           "confidence": 0.99892,
           "end": 56617,
           "speaker": "B",
           "start": 56395,
           "text": "guess"
          },
          {
           "confidence": 0.96837,
           "end": 57012,
           "speaker": "B",
           "start": 56665,
           "text": "I'll"
          },
          {
           "confidence": 0.99812,
           "end": 57277,
           "speaker": "B",
           "start": 57087,
           "text": "be"
          },
          {
           "confidence": 0.93769,
           "end": 57522,
           "speaker": "B",
           "start": 57295,
           "text": "writing"
          },
          {
           "confidence": 0.96764,
           "end": 57817,
           "speaker": "B",
           "start": 57567,
           "text": "country"
          },
          {
           "confidence": 0.94046,
           "end": 58107,
           "speaker": "B",
           "start": 57865,
           "text": "songs"
          },
          {
           "confidence": 0.99475,
           "end": 58252,
           "speaker": "B",
           "start": 58122,
           "text": "as"
          },
          {
           "confidence": 0.99955,
           "end": 58357,
           "speaker": "B",
           "start": 58270,
           "text": "long"
          },
          {
           "confidence": 0.99793,
           "end": 58477,
           "speaker": "B",
           "start": 58360,
           "text": "as"
          },
          {
           "confidence": 1,
           "end": 58627,
           "speaker": "B",
           "start": 58495,
           "text": "I"
          },
          {
           "confidence": 1,
           "end": 58777,
           "speaker": "B",
           "start": 58645,
           "text": "live"
          },
          {
           "confidence": 0.92425,
           "end": 58972,
           "speaker": "B",
           "start": 58795,
           "text": "because"
          },
          {
           "confidence": 0.81,
           "end": 59152,
           "speaker": "B",
           "start": 59005,
           "text": "I"
          },
          {
           "confidence": 0.99921,
           "end": 59302,
           "speaker": "B",
           "start": 59170,
           "text": "have"
          },
          {
           "confidence": 0.99671,
           "end": 59452,
           "speaker": "B",
           "start": 59320,
           "text": "too"
          },
          {
           "confidence": 0.99998,
           "end": 59692,
           "speaker": "B",
           "start": 59470,
           "text": "many"
          },
          {
           "confidence": 0.99667,
           "end": 60037,
           "speaker": "B",
           "start": 59740,
           "text": "country"
          },
          {
           "confidence": 0.99775,
           "end": 60447,
           "speaker": "B",
           "start": 60100,
           "text": "memories,"
          },
          {
           "confidence": 0.89,
           "end": 60607,
           "speaker": "B",
           "start": 60492,
           "text": "and"
          },
          {
           "confidence": 0.99,
           "end": 60727,
           "speaker": "B",
           "start": 60610,
           "text": "I"
          },
          {
           "confidence": 0.99605,
           "end": 60877,
           "speaker": "B",
           "start": 60745,
           "text": "was"
          },
          {
           "confidence": 0.89288,
           "end": 61122,
           "speaker": "B",
           "start": 60895,
           "text": "brought"
          },
          {
           "confidence": 1,
           "end": 61552,
           "speaker": "B",
           "start": 61167,
           "text": "up"
          },
          {
           "confidence": 0.99474,
           "end": 61852,
           "speaker": "B",
           "start": 61645,
           "text": "in"
          },
          {
           "confidence": 0.89,
           "end": 62047,
           "speaker": "B",
           "start": 61870,
           "text": "a"
          },
          {
           "confidence": 0.99932,
           "end": 62272,
           "speaker": "B",
           "start": 62080,
           "text": "big"
          },
          {
           "confidence": 0.99969,
           "end": 62542,
           "speaker": "B",
           "start": 62305,
           "text": "family"
          },
          {
           "confidence": 0.48,
           "end": 62752,
           "speaker": "B",
           "start": 62590,
           "text": "and"
          },
          {
           "confidence": 0.97415,
           "end": 62952,
           "speaker": "B",
           "start": 62770,
           "text": "lived"
          },
          {
           "confidence": 1,
           "end": 63082,
           "speaker": "B",
           "start": 62982,
           "text": "on"
          },
          {
           "confidence": 0.83,
           "end": 63202,
           "speaker": "B",
           "start": 63085,
           "text": "a"
          },
          {
           "confidence": 0.99697,
           "end": 63432,
           "speaker": "B",
           "start": 63220,
           "text": "farm"
          },
          {
           "confidence": 0.96,
           "end": 63577,
           "speaker": "B",
           "start": 63447,
           "text": "and"
          },
          {
           "confidence": 1,
           "end": 63727,
           "speaker": "B",
           "start": 63595,
           "text": "all"
          },
          {
           "confidence": 1,
           "end": 64012,
           "speaker": "B",
           "start": 63745,
           "text": "that,"
          },
          {
           "confidence": 0.59,
           "end": 64252,
           "speaker": "B",
           "start": 64075,
           "text": "and"
          },
          {
           "confidence": 0.99889,
           "end": 64492,
           "speaker": "B",
           "start": 64270,
           "text": "country"
          },
          {
           "confidence": 0.99358,
           "end": 64747,
           "speaker": "B",
           "start": 64540,
           "text": "music"
          },
          {
           "confidence": 0.66283,
           "end": 64927,
           "speaker": "B",
           "start": 64780,
           "text": "is"
          },
          {
           "confidence": 0.99961,
           "end": 65077,
           "speaker": "B",
           "start": 64945,
           "text": "my"
          },
          {
           "confidence": 1,
           "end": 65272,
           "speaker": "B",
           "start": 65095,
           "text": "first"
          },
          {
           "confidence": 0.99863,
           "end": 65497,
           "speaker": "B",
           "start": 65305,
           "text": "love."
          },
          {
           "confidence": 0.95422,
           "end": 65677,
           "speaker": "B",
           "start": 65530,
           "text": "But"
          },
          {
           "confidence": 1,
           "end": 65872,
           "speaker": "B",
           "start": 65695,
           "text": "I"
          },
          {
           "confidence": 0.53691,
           "end": 66097,
           "speaker": "B",
           "start": 65905,
           "text": "tried"
          },
          {
           "confidence": 1,
           "end": 66457,
           "speaker": "B",
           "start": 66130,
           "text": "to"
          },
          {
           "confidence": 0.99952,
           "end": 66727,
           "speaker": "B",
           "start": 66535,
           "text": "look"
          },
          {
           "confidence": 1,
           "end": 66877,
           "speaker": "B",
           "start": 66745,
           "text": "at"
          },
          {
           "confidence": 0.99988,
           "end": 67027,
           "speaker": "B",
           "start": 66895,
           "text": "my"
          },
          {
           "confidence": 0.54085,
           "end": 67267,
           "speaker": "B",
           "start": 67045,
           "text": "work"
          },
          {
           "confidence": 0.99096,
           "end": 67522,
           "speaker": "B",
           "start": 67315,
           "text": "as"
          },
          {
           "confidence": 0.93,
           "end": 67657,
           "speaker": "B",
           "start": 67555,
           "text": "a"
          },
          {
           "confidence": 0.9726,
           "end": 67947,
           "speaker": "B",
           "start": 67660,
           "text": "joy,"
          },
          {
           "confidence": 0.98993,
           "end": 68197,
           "speaker": "B",
           "start": 67992,
           "text": "as"
          },
          {
           "confidence": 0.99,
           "end": 68377,
           "speaker": "B",
           "start": 68230,
           "text": "a"
          },
          {
           "confidence": 0.99979,
           "end": 68617,
           "speaker": "B",
           "start": 68395,
           "text": "job,"
          },
          {
           "confidence": 0.93,
           "end": 68962,
           "speaker": "B",
           "start": 68665,
           "text": "and"
          },
          {
           "confidence": 0.96254,
           "end": 69247,
           "speaker": "B",
           "start": 69025,
           "text": "as"
          },
          {
           "confidence": 0.88,
           "end": 69832,
           "speaker": "B",
           "start": 69280,
           "text": "a"
          },
          {
           "confidence": 0.99999,
           "end": 70477,
           "speaker": "B",
           "start": 69985,
           "text": "business"
          },
          {
           "confidence": 0.97536,
           "end": 70912,
           "speaker": "B",
           "start": 70570,
           "text": "person"
          },
          {
           "confidence": 0.99724,
           "end": 71152,
           "speaker": "B",
           "start": 70975,
           "text": "as"
          },
          {
           "confidence": 0.99868,
           "end": 71392,
           "speaker": "B",
           "start": 71170,
           "text": "well."
          },
          {
           "confidence": 0.87154,
           "end": 71602,
           "speaker": "B",
           "start": 71440,
           "text": "So"
          },
          {
           "confidence": 0.99001,
           "end": 71757,
           "speaker": "B",
           "start": 71620,
           "text": "I'm"
          },
          {
           "confidence": 0.59717,
           "end": 71947,
           "speaker": "B",
           "start": 71772,
           "text": "trying"
          },
          {
           "confidence": 0.99,
           "end": 72172,
           "speaker": "B",
           "start": 71980,
           "text": "to"
          },
          {
           "confidence": 0.99989,
           "end": 72397,
           "speaker": "B",
           "start": 72205,
           "text": "COVID"
          },
          {
           "confidence": 0.99752,
           "end": 72577,
           "speaker": "B",
           "start": 72430,
           "text": "as"
          },
          {
           "confidence": 0.99992,
           "end": 72772,
           "speaker": "B",
           "start": 72595,
           "text": "much"
          },
          {
           "confidence": 0.94389,
           "end": 73047,
           "speaker": "B",
           "start": 72805,
           "text": "ground"
          },
          {
           "confidence": 0.99923,
           "end": 73252,
           "speaker": "B",
           "start": 73092,
           "text": "as"
          },
          {
           "confidence": 1,
           "end": 73402,
           "speaker": "B",
           "start": 73270,
           "text": "I"
          },
          {
           "confidence": 0.99521,
           "end": 73597,
           "speaker": "B",
           "start": 73420,
           "text": "can."
          },
          {
           "confidence": 0.96602,
           "end": 73957,
           "speaker": "B",
           "start": 73630,
           "text": "But"
          },
          {
           "confidence": 1,
           "end": 74227,
           "speaker": "B",
           "start": 74035,
           "text": "I"
          },
          {
           "confidence": 0.99877,
           "end": 74422,
           "speaker": "B",
           "start": 74245,
           "text": "hope"
          },
          {
           "confidence": 0.50847,
           "end": 74737,
           "speaker": "B",
           "start": 74455,
           "text": "country"
          },
          {
           "confidence": 0.99621,
           "end": 75112,
           "speaker": "B",
           "start": 74800,
           "text": "music"
          },
          {
           "confidence": 0.9881,
           "end": 75352,
           "speaker": "B",
           "start": 75175,
           "text": "is"
          },
          {
           "confidence": 0.99896,
           "end": 75547,
           "speaker": "B",
           "start": 75370,
           "text": "always"
          },
          {
           "confidence": 0.71688,
           "end": 75817,
           "speaker": "B",
           "start": 75580,
           "text": "around,"
          },
          {
           "confidence": 0.89,
           "end": 75982,
           "speaker": "B",
           "start": 75865,
           "text": "and"
          },
          {
           "confidence": 0.99,
           "end": 76102,
           "speaker": "B",
           "start": 75985,
           "text": "I"
          },
          {
           "confidence": 0.99953,
           "end": 76252,
           "speaker": "B",
           "start": 76120,
           "text": "think"
          },
          {
           "confidence": 0.97031,
           "end": 76357,
           "speaker": "B",
           "start": 76270,
           "text": "it"
          },
          {
           "confidence": 0.99475,
           "end": 76522,
           "speaker": "B",
           "start": 76360,
           "text": "will"
          },
          {
           "confidence": 0.76385,
           "end": 77150,
           "speaker": "B",
           "start": 76555,
           "text": "be."
          }
         ]
        },
        {
         "confidence": 0.8933169696969698,
         "end": 88762,
         "speaker": "A",
         "start": 77812,
         "text": "Sally, as your musical image changes, do you see that you'll change your fashion image? Maybe you won't have the wigs anymore, and maybe you'll come out in a halston gown or something.",
         "words": [
          {
           "confidence": 0.66721,
           "end": 78372,
           "speaker": "A",
           "start": 77812,
           "text": "Sally,"
          },
          {
           "confidence": 0.9773,
           "end": 78622,
           "speaker": "A",
           "start": 78417,
           "text": "as"
          },
          {
           "confidence": 0.99206,
           "end": 78847,
           "speaker": "A",
           "start": 78655,
           "text": "your"
          },
          {
           "confidence": 0.9979,
           "end": 79392,
           "speaker": "A",
           "start": 78880,
           "text": "musical"
          },
          {
           "confidence": 0.99734,
           "end": 79872,
           "speaker": "A",
           "start": 79452,
           "text": "image"
          },
          {
           "confidence": 0.99895,
           "end": 80302,
           "speaker": "A",
           "start": 79917,
           "text": "changes,"
          },
          {
           "confidence": 0.99901,
           "end": 80647,
           "speaker": "A",
           "start": 80395,
           "text": "do"
          },
          {
           "confidence": 0.9992,
           "end": 80827,
           "speaker": "A",
           "start": 80680,
           "text": "you"
          },
          {
           "confidence": 0.9975,
           "end": 81022,
           "speaker": "A",
           "start": 80845,
           "text": "see"
          },
          {
           "confidence": 1,
           "end": 81202,
           "speaker": "A",
           "start": 81055,
           "text": "that"
          },
          {
           "confidence": 0.40182,
           "end": 81522,
           "speaker": "A",
           "start": 81220,
           "text": "you'll"
          },
          {
           "confidence": 0.99974,
           "end": 81817,
           "speaker": "A",
           "start": 81567,
           "text": "change"
          },
          {
           "confidence": 0.99875,
           "end": 82072,
           "speaker": "A",
           "start": 81865,
           "text": "your"
          },
          {
           "confidence": 0.99584,
           "end": 82542,
           "speaker": "A",
           "start": 82105,
           "text": "fashion"
          },
          {
           "confidence": 0.99765,
           "end": 83097,
           "speaker": "A",
           "start": 82602,
           "text": "image?"
          },
          {
           "confidence": 0.9954,
           "end": 83842,
           "speaker": "A",
           "start": 83142,
           "text": "Maybe"
          },
          {
           "confidence": 0.99595,
           "end": 84352,
           "speaker": "A",
           "start": 84040,
           "text": "you"
          },
          {
           "confidence": 0.78093,
           "end": 84627,
           "speaker": "A",
           "start": 84370,
           "text": "won't"
          },
          {
           "confidence": 0.99969,
           "end": 84802,
           "speaker": "A",
           "start": 84657,
           "text": "have"
          },
          {
           "confidence": 1,
           "end": 84952,
           "speaker": "A",
           "start": 84820,
           "text": "the"
          },
          {
           "confidence": 0.97565,
           "end": 85302,
           "speaker": "A",
           "start": 84970,
           "text": "wigs"
          },
          {
           "confidence": 0.99226,
           "end": 85797,
           "speaker": "A",
           "start": 85332,
           "text": "anymore,"
          },
          {
           "confidence": 0.68,
           "end": 86002,
           "speaker": "A",
           "start": 85842,
           "text": "and"
          },
          {
           "confidence": 0.99819,
           "end": 86152,
           "speaker": "A",
           "start": 86020,
           "text": "maybe"
          },
          {
           "confidence": 0.84496,
           "end": 86382,
           "speaker": "A",
           "start": 86170,
           "text": "you'll"
          },
          {
           "confidence": 0.99956,
           "end": 86572,
           "speaker": "A",
           "start": 86397,
           "text": "come"
          },
          {
           "confidence": 1,
           "end": 86752,
           "speaker": "A",
           "start": 86605,
           "text": "out"
          },
          {
           "confidence": 0.86175,
           "end": 86902,
           "speaker": "A",
           "start": 86770,
           "text": "in"
          },
          {
           "confidence": 0.98,
           "end": 87007,
           "speaker": "A",
           "start": 86920,
           "text": "a"
          },
          {
           "confidence": 0.18545,
           "end": 87402,
           "speaker": "A",
           "start": 87010,
           "text": "halston"
          },
          {
           "confidence": 0.49839,
           "end": 87957,
           "speaker": "A",
           "start": 87432,
           "text": "gown"
          },
          {
           "confidence": 0.98162,
           "end": 88252,
           "speaker": "A",
           "start": 88047,
           "text": "or"
          },
          {
           "confidence": 0.68939,
           "end": 88762,
           "speaker": "A",
           "start": 88270,
           "text": "something."
          }
         ]
        },
        {
         "confidence": 0.9460106249999998,
         "end": 120350,
         "speaker": "B",
         "start": 88900,
         "text": "I don't think so. Mostly because I'm a real outrageous type of person. I've often made the statement that I'm very extreme in whatever I do, and I enjoy the big hair and the gaudy clothes, and it's a costume. It's part of what people have come to know me as. And I don't like to be ordinary. I don't like to be stylish. It's far too easy to be stylish. And I like to think I've got a little more nerve. And I'll try to venture out and do a few things a little bit different. But I doubt that I'll ever be in style. In fact, I'm sure of it.",
         "words": [
          {
           "confidence": 1,
           "end": 89152,
           "speaker": "B",
           "start": 88900,
           "text": "I"
          },
          {
           "confidence": 0.99187,
           "end": 89352,
           "speaker": "B",
           "start": 89170,
           "text": "don't"
          },
          {
           "confidence": 0.99988,
           "end": 89572,
           "speaker": "B",
           "start": 89382,
           "text": "think"
          },
          {
           "confidence": 0.99636,
           "end": 89887,
           "speaker": "B",
           "start": 89605,
           "text": "so."
          },
          {
           "confidence": 0.99714,
           "end": 90327,
           "speaker": "B",
           "start": 89950,
           "text": "Mostly"
          },
          {
           "confidence": 0.99828,
           "end": 90592,
           "speaker": "B",
           "start": 90357,
           "text": "because"
          },
          {
           "confidence": 0.6098,
           "end": 90882,
           "speaker": "B",
           "start": 90640,
           "text": "I'm"
          },
          {
           "confidence": 0.85,
           "end": 91072,
           "speaker": "B",
           "start": 90897,
           "text": "a"
          },
          {
           "confidence": 0.99,
           "end": 91747,
           "speaker": "B",
           "start": 91105,
           "text": "real"
          },
          {
           "confidence": 0.99401,
           "end": 92742,
           "speaker": "B",
           "start": 91930,
           "text": "outrageous"
          },
          {
           "confidence": 0.99952,
           "end": 93022,
           "speaker": "B",
           "start": 92802,
           "text": "type"
          },
          {
           "confidence": 1,
           "end": 93202,
           "speaker": "B",
           "start": 93055,
           "text": "of"
          },
          {
           "confidence": 0.99995,
           "end": 93487,
           "speaker": "B",
           "start": 93220,
           "text": "person."
          },
          {
           "confidence": 0.87582,
           "end": 93777,
           "speaker": "B",
           "start": 93550,
           "text": "I've"
          },
          {
           "confidence": 0.95405,
           "end": 94177,
           "speaker": "B",
           "start": 93807,
           "text": "often"
          },
          {
           "confidence": 0.99427,
           "end": 94477,
           "speaker": "B",
           "start": 94270,
           "text": "made"
          },
          {
           "confidence": 0.9,
           "end": 94627,
           "speaker": "B",
           "start": 94495,
           "text": "the"
          },
          {
           "confidence": 0.99454,
           "end": 94977,
           "speaker": "B",
           "start": 94645,
           "text": "statement"
          },
          {
           "confidence": 1,
           "end": 95152,
           "speaker": "B",
           "start": 95007,
           "text": "that"
          },
          {
           "confidence": 0.96554,
           "end": 95352,
           "speaker": "B",
           "start": 95170,
           "text": "I'm"
          },
          {
           "confidence": 0.99933,
           "end": 95572,
           "speaker": "B",
           "start": 95382,
           "text": "very"
          },
          {
           "confidence": 0.46002,
           "end": 96042,
           "speaker": "B",
           "start": 95605,
           "text": "extreme"
          },
          {
           "confidence": 0.7986,
           "end": 96277,
           "speaker": "B",
           "start": 96102,
           "text": "in"
          },
          {
           "confidence": 0.99708,
           "end": 96607,
           "speaker": "B",
           "start": 96295,
           "text": "whatever"
          },
          {
           "confidence": 1,
           "end": 96877,
           "speaker": "B",
           "start": 96685,
           "text": "I"
          },
          {
           "confidence": 0.99928,
           "end": 97162,
           "speaker": "B",
           "start": 96895,
           "text": "do,"
          },
          {
           "confidence": 0.83,
           "end": 97447,
           "speaker": "B",
           "start": 97225,
           "text": "and"
          },
          {
           "confidence": 1,
           "end": 97672,
           "speaker": "B",
           "start": 97480,
           "text": "I"
          },
          {
           "confidence": 0.99995,
           "end": 98392,
           "speaker": "B",
           "start": 97705,
           "text": "enjoy"
          },
          {
           "confidence": 1,
           "end": 98947,
           "speaker": "B",
           "start": 98590,
           "text": "the"
          },
          {
           "confidence": 0.99946,
           "end": 99172,
           "speaker": "B",
           "start": 98980,
           "text": "big"
          },
          {
           "confidence": 0.99634,
           "end": 99477,
           "speaker": "B",
           "start": 99205,
           "text": "hair"
          },
          {
           "confidence": 0.98,
           "end": 99652,
           "speaker": "B",
           "start": 99507,
           "text": "and"
          },
          {
           "confidence": 0.99,
           "end": 99757,
           "speaker": "B",
           "start": 99670,
           "text": "the"
          },
          {
           "confidence": 0.83323,
           "end": 100152,
           "speaker": "B",
           "start": 99760,
           "text": "gaudy"
          },
          {
           "confidence": 0.91329,
           "end": 100452,
           "speaker": "B",
           "start": 100182,
           "text": "clothes,"
          },
          {
           "confidence": 0.72,
           "end": 100627,
           "speaker": "B",
           "start": 100482,
           "text": "and"
          },
          {
           "confidence": 0.49598,
           "end": 100872,
           "speaker": "B",
           "start": 100645,
           "text": "it's"
          },
          {
           "confidence": 0.46,
           "end": 101077,
           "speaker": "B",
           "start": 100917,
           "text": "a"
          },
          {
           "confidence": 0.99933,
           "end": 101912,
           "speaker": "B",
           "start": 101095,
           "text": "costume."
          },
          {
           "confidence": 0.51898,
           "end": 102852,
           "speaker": "B",
           "start": 102262,
           "text": "It's"
          },
          {
           "confidence": 0.99975,
           "end": 103222,
           "speaker": "B",
           "start": 102957,
           "text": "part"
          },
          {
           "confidence": 1,
           "end": 103447,
           "speaker": "B",
           "start": 103255,
           "text": "of"
          },
          {
           "confidence": 0.99967,
           "end": 103627,
           "speaker": "B",
           "start": 103480,
           "text": "what"
          },
          {
           "confidence": 0.99996,
           "end": 103822,
           "speaker": "B",
           "start": 103645,
           "text": "people"
          },
          {
           "confidence": 0.98917,
           "end": 104047,
           "speaker": "B",
           "start": 103855,
           "text": "have"
          },
          {
           "confidence": 0.99929,
           "end": 104227,
           "speaker": "B",
           "start": 104080,
           "text": "come"
          },
          {
           "confidence": 1,
           "end": 104377,
           "speaker": "B",
           "start": 104245,
           "text": "to"
          },
          {
           "confidence": 0.99807,
           "end": 104527,
           "speaker": "B",
           "start": 104395,
           "text": "know"
          },
          {
           "confidence": 0.99252,
           "end": 104722,
           "speaker": "B",
           "start": 104545,
           "text": "me"
          },
          {
           "confidence": 0.99293,
           "end": 105127,
           "speaker": "B",
           "start": 104755,
           "text": "as."
          },
          {
           "confidence": 0.79,
           "end": 105472,
           "speaker": "B",
           "start": 105220,
           "text": "And"
          },
          {
           "confidence": 1,
           "end": 105607,
           "speaker": "B",
           "start": 105505,
           "text": "I"
          },
          {
           "confidence": 0.94134,
           "end": 105777,
           "speaker": "B",
           "start": 105610,
           "text": "don't"
          },
          {
           "confidence": 0.99978,
           "end": 105952,
           "speaker": "B",
           "start": 105807,
           "text": "like"
          },
          {
           "confidence": 1,
           "end": 106102,
           "speaker": "B",
           "start": 105970,
           "text": "to"
          },
          {
           "confidence": 0.99907,
           "end": 106252,
           "speaker": "B",
           "start": 106120,
           "text": "be"
          },
          {
           "confidence": 0.87139,
           "end": 106722,
           "speaker": "B",
           "start": 106270,
           "text": "ordinary."
          },
          {
           "confidence": 1,
           "end": 106927,
           "speaker": "B",
           "start": 106767,
           "text": "I"
          },
          {
           "confidence": 0.99168,
           "end": 107082,
           "speaker": "B",
           "start": 106945,
           "text": "don't"
          },
          {
           "confidence": 0.99944,
           "end": 107227,
           "speaker": "B",
           "start": 107097,
           "text": "like"
          },
          {
           "confidence": 1,
           "end": 107332,
           "speaker": "B",
           "start": 107245,
           "text": "to"
          },
          {
           "confidence": 0.99677,
           "end": 107497,
           "speaker": "B",
           "start": 107335,
           "text": "be"
          },
          {
           "confidence": 0.92437,
           "end": 107922,
           "speaker": "B",
           "start": 107530,
           "text": "stylish."
          },
          {
           "confidence": 0.97403,
           "end": 108177,
           "speaker": "B",
           "start": 107967,
           "text": "It's"
          },
          {
           "confidence": 0.99925,
           "end": 108352,
           "speaker": "B",
           "start": 108207,
           "text": "far"
          },
          {
           "confidence": 0.99725,
           "end": 108547,
           "speaker": "B",
           "start": 108370,
           "text": "too"
          },
          {
           "confidence": 0.99967,
           "end": 108772,
           "speaker": "B",
           "start": 108580,
           "text": "easy"
          },
          {
           "confidence": 1,
           "end": 108952,
           "speaker": "B",
           "start": 108805,
           "text": "to"
          },
          {
           "confidence": 0.99757,
           "end": 109102,
           "speaker": "B",
           "start": 108970,
           "text": "be"
          },
          {
           "confidence": 0.98438,
           "end": 109542,
           "speaker": "B",
           "start": 109120,
           "text": "stylish."
          },
          {
           "confidence": 0.79,
           "end": 109912,
           "speaker": "B",
           "start": 109602,
           "text": "And"
          },
          {
           "confidence": 1,
           "end": 110152,
           "speaker": "B",
           "start": 109975,
           "text": "I"
          },
          {
           "confidence": 0.99538,
           "end": 110302,
           "speaker": "B",
           "start": 110170,
           "text": "like"
          },
          {
           "confidence": 0.99,
           "end": 110452,
           "speaker": "B",
           "start": 110320,
           "text": "to"
          },
          {
           "confidence": 0.99966,
           "end": 110647,
           "speaker": "B",
           "start": 110470,
           "text": "think"
          },
          {
           "confidence": 0.85874,
           "end": 110877,
           "speaker": "B",
           "start": 110680,
           "text": "I've"
          },
          {
           "confidence": 0.99928,
           "end": 111052,
           "speaker": "B",
           "start": 110907,
           "text": "got"
          },
          {
           "confidence": 0.97,
           "end": 111292,
           "speaker": "B",
           "start": 111070,
           "text": "a"
          },
          {
           "confidence": 0.99749,
           "end": 111547,
           "speaker": "B",
           "start": 111340,
           "text": "little"
          },
          {
           "confidence": 0.92245,
           "end": 111817,
           "speaker": "B",
           "start": 111580,
           "text": "more"
          },
          {
           "confidence": 0.9976,
           "end": 112197,
           "speaker": "B",
           "start": 111865,
           "text": "nerve."
          },
          {
           "confidence": 0.87,
           "end": 112447,
           "speaker": "B",
           "start": 112242,
           "text": "And"
          },
          {
           "confidence": 0.8571,
           "end": 112977,
           "speaker": "B",
           "start": 112480,
           "text": "I'll"
          },
          {
           "confidence": 0.99954,
           "end": 113242,
           "speaker": "B",
           "start": 113007,
           "text": "try"
          },
          {
           "confidence": 1,
           "end": 113542,
           "speaker": "B",
           "start": 113290,
           "text": "to"
          },
          {
           "confidence": 0.99746,
           "end": 113952,
           "speaker": "B",
           "start": 113590,
           "text": "venture"
          },
          {
           "confidence": 1,
           "end": 114127,
           "speaker": "B",
           "start": 113982,
           "text": "out"
          },
          {
           "confidence": 0.99,
           "end": 114277,
           "speaker": "B",
           "start": 114145,
           "text": "and"
          },
          {
           "confidence": 0.99928,
           "end": 114427,
           "speaker": "B",
           "start": 114295,
           "text": "do"
          },
          {
           "confidence": 0.69,
           "end": 114577,
           "speaker": "B",
           "start": 114445,
           "text": "a"
          },
          {
           "confidence": 0.9998,
           "end": 114772,
           "speaker": "B",
           "start": 114595,
           "text": "few"
          },
          {
           "confidence": 0.99949,
           "end": 115042,
           "speaker": "B",
           "start": 114805,
           "text": "things"
          },
          {
           "confidence": 0.99,
           "end": 115207,
           "speaker": "B",
           "start": 115090,
           "text": "a"
          },
          {
           "confidence": 0.99925,
           "end": 115327,
           "speaker": "B",
           "start": 115210,
           "text": "little"
          },
          {
           "confidence": 0.99861,
           "end": 115522,
           "speaker": "B",
           "start": 115345,
           "text": "bit"
          },
          {
           "confidence": 0.99995,
           "end": 115792,
           "speaker": "B",
           "start": 115555,
           "text": "different."
          },
          {
           "confidence": 0.94746,
           "end": 116362,
           "speaker": "B",
           "start": 115840,
           "text": "But"
          },
          {
           "confidence": 0.99,
           "end": 116797,
           "speaker": "B",
           "start": 116500,
           "text": "I"
          },
          {
           "confidence": 0.98726,
           "end": 117027,
           "speaker": "B",
           "start": 116830,
           "text": "doubt"
          },
          {
           "confidence": 1,
           "end": 117202,
           "speaker": "B",
           "start": 117057,
           "text": "that"
          },
          {
           "confidence": 0.95318,
           "end": 117402,
           "speaker": "B",
           "start": 117220,
           "text": "I'll"
          },
          {
           "confidence": 0.99295,
           "end": 117622,
           "speaker": "B",
           "start": 117432,
           "text": "ever"
          },
          {
           "confidence": 0.99956,
           "end": 117982,
           "speaker": "B",
           "start": 117655,
           "text": "be"
          },
          {
           "confidence": 0.99788,
           "end": 118252,
           "speaker": "B",
           "start": 118060,
           "text": "in"
          },
          {
           "confidence": 0.95166,
           "end": 118647,
           "speaker": "B",
           "start": 118270,
           "text": "style."
          },
          {
           "confidence": 0.98754,
           "end": 118807,
           "speaker": "B",
           "start": 118692,
           "text": "In"
          },
          {
           "confidence": 0.92742,
           "end": 118972,
           "speaker": "B",
           "start": 118810,
           "text": "fact,"
          },
          {
           "confidence": 0.77946,
           "end": 119277,
           "speaker": "B",
           "start": 119005,
           "text": "I'm"
          },
          {
           "confidence": 0.99962,
           "end": 119497,
           "speaker": "B",
           "start": 119307,
           "text": "sure"
          },
          {
           "confidence": 0.99,
           "end": 119722,
           "speaker": "B",
           "start": 119530,
           "text": "of"
          },
          {
           "confidence": 0.99887,
           "end": 120350,
           "speaker": "B",
           "start": 119755,
           "text": "it."
          }
         ]
        },
        {
         "confidence": 0.9107541666666665,
         "end": 128037,
         "speaker": "A",
         "start": 121462,
         "text": "Sally, do you ever get your feelings hurt, the jokes about your figure and your hair and the way you look and so forth?",
         "words": [
          {
           "confidence": 0.74464,
           "end": 121992,
           "speaker": "A",
           "start": 121462,
           "text": "Sally,"
          },
          {
           "confidence": 0.9868,
           "end": 122182,
           "speaker": "A",
           "start": 122052,
           "text": "do"
          },
          {
           "confidence": 0.69479,
           "end": 122347,
           "speaker": "A",
           "start": 122185,
           "text": "you"
          },
          {
           "confidence": 0.99851,
           "end": 122572,
           "speaker": "A",
           "start": 122380,
           "text": "ever"
          },
          {
           "confidence": 0.98867,
           "end": 122752,
           "speaker": "A",
           "start": 122605,
           "text": "get"
          },
          {
           "confidence": 0.99767,
           "end": 122947,
           "speaker": "A",
           "start": 122770,
           "text": "your"
          },
          {
           "confidence": 0.76397,
           "end": 123342,
           "speaker": "A",
           "start": 122980,
           "text": "feelings"
          },
          {
           "confidence": 0.97722,
           "end": 123837,
           "speaker": "A",
           "start": 123402,
           "text": "hurt,"
          },
          {
           "confidence": 0.98,
           "end": 124147,
           "speaker": "A",
           "start": 123912,
           "text": "the"
          },
          {
           "confidence": 0.9976,
           "end": 124542,
           "speaker": "A",
           "start": 124180,
           "text": "jokes"
          },
          {
           "confidence": 0.99993,
           "end": 124867,
           "speaker": "A",
           "start": 124602,
           "text": "about"
          },
          {
           "confidence": 0.9991,
           "end": 125122,
           "speaker": "A",
           "start": 124915,
           "text": "your"
          },
          {
           "confidence": 0.93333,
           "end": 125482,
           "speaker": "A",
           "start": 125155,
           "text": "figure"
          },
          {
           "confidence": 0.77,
           "end": 125752,
           "speaker": "A",
           "start": 125560,
           "text": "and"
          },
          {
           "confidence": 0.99762,
           "end": 125902,
           "speaker": "A",
           "start": 125770,
           "text": "your"
          },
          {
           "confidence": 0.60672,
           "end": 126177,
           "speaker": "A",
           "start": 125920,
           "text": "hair"
          },
          {
           "confidence": 0.8,
           "end": 126352,
           "speaker": "A",
           "start": 126207,
           "text": "and"
          },
          {
           "confidence": 1,
           "end": 126502,
           "speaker": "A",
           "start": 126370,
           "text": "the"
          },
          {
           "confidence": 1,
           "end": 126652,
           "speaker": "A",
           "start": 126520,
           "text": "way"
          },
          {
           "confidence": 0.99853,
           "end": 126847,
           "speaker": "A",
           "start": 126670,
           "text": "you"
          },
          {
           "confidence": 0.99525,
           "end": 127027,
           "speaker": "A",
           "start": 126880,
           "text": "look"
          },
          {
           "confidence": 0.99,
           "end": 127177,
           "speaker": "A",
           "start": 127045,
           "text": "and"
          },
          {
           "confidence": 0.99398,
           "end": 127372,
           "speaker": "A",
           "start": 127195,
           "text": "so"
          },
          {
           "confidence": 0.64377,
           "end": 128037,
           "speaker": "A",
           "start": 127405,
           "text": "forth?"
          }
         ]
        },
        {
         "confidence": 0.9633188157894735,
         "end": 147437,
         "speaker": "B",
         "start": 128187,
         "text": "Well, I used to not understand some of the jokes about my figure when I first came to Nashville. But as far as the hair and the way I dress, I choose to do that. And it's part of a gimmick. It's part of my image. So if I really got my feelings hurt and if it really bothered me, I could certainly change, because like I said before, it's very easy to be in style.",
         "words": [
          {
           "confidence": 0.93928,
           "end": 128902,
           "speaker": "B",
           "start": 128187,
           "text": "Well,"
          },
          {
           "confidence": 1,
           "end": 129397,
           "speaker": "B",
           "start": 129070,
           "text": "I"
          },
          {
           "confidence": 0.9774,
           "end": 129622,
           "speaker": "B",
           "start": 129430,
           "text": "used"
          },
          {
           "confidence": 0.99,
           "end": 129982,
           "speaker": "B",
           "start": 129655,
           "text": "to"
          },
          {
           "confidence": 1,
           "end": 130342,
           "speaker": "B",
           "start": 130060,
           "text": "not"
          },
          {
           "confidence": 0.99987,
           "end": 130867,
           "speaker": "B",
           "start": 130390,
           "text": "understand"
          },
          {
           "confidence": 0.99304,
           "end": 131272,
           "speaker": "B",
           "start": 130990,
           "text": "some"
          },
          {
           "confidence": 1,
           "end": 131407,
           "speaker": "B",
           "start": 131305,
           "text": "of"
          },
          {
           "confidence": 1,
           "end": 131527,
           "speaker": "B",
           "start": 131410,
           "text": "the"
          },
          {
           "confidence": 0.99496,
           "end": 131727,
           "speaker": "B",
           "start": 131545,
           "text": "jokes"
          },
          {
           "confidence": 0.98851,
           "end": 131947,
           "speaker": "B",
           "start": 131757,
           "text": "about"
          },
          {
           "confidence": 0.99963,
           "end": 132172,
           "speaker": "B",
           "start": 131980,
           "text": "my"
          },
          {
           "confidence": 0.99509,
           "end": 132442,
           "speaker": "B",
           "start": 132205,
           "text": "figure"
          },
          {
           "confidence": 0.99968,
           "end": 132652,
           "speaker": "B",
           "start": 132490,
           "text": "when"
          },
          {
           "confidence": 0.99,
           "end": 132847,
           "speaker": "B",
           "start": 132670,
           "text": "I"
          },
          {
           "confidence": 1,
           "end": 133072,
           "speaker": "B",
           "start": 132880,
           "text": "first"
          },
          {
           "confidence": 0.9998,
           "end": 133297,
           "speaker": "B",
           "start": 133105,
           "text": "came"
          },
          {
           "confidence": 1,
           "end": 133477,
           "speaker": "B",
           "start": 133330,
           "text": "to"
          },
          {
           "confidence": 0.82342,
           "end": 134067,
           "speaker": "B",
           "start": 133495,
           "text": "Nashville."
          },
          {
           "confidence": 0.95911,
           "end": 134347,
           "speaker": "B",
           "start": 134127,
           "text": "But"
          },
          {
           "confidence": 0.99951,
           "end": 134527,
           "speaker": "B",
           "start": 134380,
           "text": "as"
          },
          {
           "confidence": 0.99987,
           "end": 134677,
           "speaker": "B",
           "start": 134545,
           "text": "far"
          },
          {
           "confidence": 0.9975,
           "end": 134827,
           "speaker": "B",
           "start": 134695,
           "text": "as"
          },
          {
           "confidence": 0.99,
           "end": 134977,
           "speaker": "B",
           "start": 134845,
           "text": "the"
          },
          {
           "confidence": 0.98116,
           "end": 135177,
           "speaker": "B",
           "start": 134995,
           "text": "hair"
          },
          {
           "confidence": 0.97,
           "end": 135307,
           "speaker": "B",
           "start": 135207,
           "text": "and"
          },
          {
           "confidence": 0.98,
           "end": 135427,
           "speaker": "B",
           "start": 135310,
           "text": "the"
          },
          {
           "confidence": 1,
           "end": 135577,
           "speaker": "B",
           "start": 135445,
           "text": "way"
          },
          {
           "confidence": 1,
           "end": 135727,
           "speaker": "B",
           "start": 135595,
           "text": "I"
          },
          {
           "confidence": 0.99876,
           "end": 136047,
           "speaker": "B",
           "start": 135745,
           "text": "dress,"
          },
          {
           "confidence": 1,
           "end": 136252,
           "speaker": "B",
           "start": 136092,
           "text": "I"
          },
          {
           "confidence": 0.92636,
           "end": 136492,
           "speaker": "B",
           "start": 136270,
           "text": "choose"
          },
          {
           "confidence": 1,
           "end": 136702,
           "speaker": "B",
           "start": 136540,
           "text": "to"
          },
          {
           "confidence": 0.99947,
           "end": 136852,
           "speaker": "B",
           "start": 136720,
           "text": "do"
          },
          {
           "confidence": 1,
           "end": 137137,
           "speaker": "B",
           "start": 136870,
           "text": "that."
          },
          {
           "confidence": 0.88,
           "end": 137377,
           "speaker": "B",
           "start": 137200,
           "text": "And"
          },
          {
           "confidence": 0.49813,
           "end": 137622,
           "speaker": "B",
           "start": 137395,
           "text": "it's"
          },
          {
           "confidence": 0.99864,
           "end": 137827,
           "speaker": "B",
           "start": 137667,
           "text": "part"
          },
          {
           "confidence": 1,
           "end": 137977,
           "speaker": "B",
           "start": 137845,
           "text": "of"
          },
          {
           "confidence": 0.92,
           "end": 138127,
           "speaker": "B",
           "start": 137995,
           "text": "a"
          },
          {
           "confidence": 0.89439,
           "end": 138447,
           "speaker": "B",
           "start": 138145,
           "text": "gimmick."
          },
          {
           "confidence": 0.94497,
           "end": 138702,
           "speaker": "B",
           "start": 138492,
           "text": "It's"
          },
          {
           "confidence": 0.99981,
           "end": 138922,
           "speaker": "B",
           "start": 138732,
           "text": "part"
          },
          {
           "confidence": 0.99,
           "end": 139282,
           "speaker": "B",
           "start": 138955,
           "text": "of"
          },
          {
           "confidence": 0.99919,
           "end": 139597,
           "speaker": "B",
           "start": 139360,
           "text": "my"
          },
          {
           "confidence": 0.81884,
           "end": 139902,
           "speaker": "B",
           "start": 139630,
           "text": "image."
          },
          {
           "confidence": 0.84517,
           "end": 140167,
           "speaker": "B",
           "start": 139932,
           "text": "So"
          },
          {
           "confidence": 0.98723,
           "end": 140377,
           "speaker": "B",
           "start": 140215,
           "text": "if"
          },
          {
           "confidence": 0.99,
           "end": 140707,
           "speaker": "B",
           "start": 140395,
           "text": "I"
          },
          {
           "confidence": 0.9085,
           "end": 141067,
           "speaker": "B",
           "start": 140785,
           "text": "really"
          },
          {
           "confidence": 0.98867,
           "end": 141277,
           "speaker": "B",
           "start": 141115,
           "text": "got"
          },
          {
           "confidence": 0.99961,
           "end": 141427,
           "speaker": "B",
           "start": 141295,
           "text": "my"
          },
          {
           "confidence": 0.83148,
           "end": 141822,
           "speaker": "B",
           "start": 141445,
           "text": "feelings"
          },
          {
           "confidence": 0.57501,
           "end": 142077,
           "speaker": "B",
           "start": 141867,
           "text": "hurt"
          },
          {
           "confidence": 0.94,
           "end": 142207,
           "speaker": "B",
           "start": 142107,
           "text": "and"
          },
          {
           "confidence": 0.96585,
           "end": 142327,
           "speaker": "B",
           "start": 142210,
           "text": "if"
          },
          {
           "confidence": 0.98958,
           "end": 142477,
           "speaker": "B",
           "start": 142345,
           "text": "it"
          },
          {
           "confidence": 0.99162,
           "end": 142672,
           "speaker": "B",
           "start": 142495,
           "text": "really"
          },
          {
           "confidence": 0.96961,
           "end": 143052,
           "speaker": "B",
           "start": 142705,
           "text": "bothered"
          },
          {
           "confidence": 0.99987,
           "end": 143227,
           "speaker": "B",
           "start": 143082,
           "text": "me,"
          },
          {
           "confidence": 1,
           "end": 143332,
           "speaker": "B",
           "start": 143245,
           "text": "I"
          },
          {
           "confidence": 0.98567,
           "end": 143497,
           "speaker": "B",
           "start": 143335,
           "text": "could"
          },
          {
           "confidence": 0.99953,
           "end": 143812,
           "speaker": "B",
           "start": 143530,
           "text": "certainly"
          },
          {
           "confidence": 0.99979,
           "end": 144187,
           "speaker": "B",
           "start": 143875,
           "text": "change,"
          },
          {
           "confidence": 0.91297,
           "end": 144472,
           "speaker": "B",
           "start": 144250,
           "text": "because"
          },
          {
           "confidence": 0.95759,
           "end": 144697,
           "speaker": "B",
           "start": 144505,
           "text": "like"
          },
          {
           "confidence": 1,
           "end": 144832,
           "speaker": "B",
           "start": 144730,
           "text": "I"
          },
          {
           "confidence": 0.99725,
           "end": 144997,
           "speaker": "B",
           "start": 144835,
           "text": "said"
          },
          {
           "confidence": 0.99992,
           "end": 145267,
           "speaker": "B",
           "start": 145030,
           "text": "before,"
          },
          {
           "confidence": 0.95234,
           "end": 145527,
           "speaker": "B",
           "start": 145315,
           "text": "it's"
          },
          {
           "confidence": 0.99892,
           "end": 145792,
           "speaker": "B",
           "start": 145557,
           "text": "very"
          },
          {
           "confidence": 0.9999,
           "end": 146092,
           "speaker": "B",
           "start": 145840,
           "text": "easy"
          },
          {
           "confidence": 1,
           "end": 146302,
           "speaker": "B",
           "start": 146140,
           "text": "to"
          },
          {
           "confidence": 0.99838,
           "end": 146452,
           "speaker": "B",
           "start": 146320,
           "text": "be"
          },
          {
           "confidence": 0.99539,
           "end": 146647,
           "speaker": "B",
           "start": 146470,
           "text": "in"
          },
          {
           "confidence": 0.99599,
           "end": 147437,
           "speaker": "B",
           "start": 146680,
           "text": "style."
          }
         ]
        },
        {
         "confidence": 0.9089964285714284,
         "end": 164142,
         "speaker": "A",
         "start": 148462,
         "text": "Dolly you have so much going for you right now with the Carson show, and you're going to be interviewed on Barbara Walters special. Is there anything in the offering, like movies or TV specials or those things that superstars get eventually?",
         "words": [
          {
           "confidence": 0.27622,
           "end": 149022,
           "speaker": "A",
           "start": 148462,
           "text": "Dolly"
          },
          {
           "confidence": 0.99598,
           "end": 149272,
           "speaker": "A",
           "start": 149067,
           "text": "you"
          },
          {
           "confidence": 0.99613,
           "end": 149587,
           "speaker": "A",
           "start": 149305,
           "text": "have"
          },
          {
           "confidence": 0.99941,
           "end": 149917,
           "speaker": "A",
           "start": 149650,
           "text": "so"
          },
          {
           "confidence": 0.51357,
           "end": 150172,
           "speaker": "A",
           "start": 149965,
           "text": "much"
          },
          {
           "confidence": 0.99709,
           "end": 150442,
           "speaker": "A",
           "start": 150205,
           "text": "going"
          },
          {
           "confidence": 0.99917,
           "end": 150652,
           "speaker": "A",
           "start": 150490,
           "text": "for"
          },
          {
           "confidence": 0.99623,
           "end": 150847,
           "speaker": "A",
           "start": 150670,
           "text": "you"
          },
          {
           "confidence": 1,
           "end": 151072,
           "speaker": "A",
           "start": 150880,
           "text": "right"
          },
          {
           "confidence": 0.99967,
           "end": 151522,
           "speaker": "A",
           "start": 151105,
           "text": "now"
          },
          {
           "confidence": 0.99803,
           "end": 151852,
           "speaker": "A",
           "start": 151630,
           "text": "with"
          },
          {
           "confidence": 0.99,
           "end": 152002,
           "speaker": "A",
           "start": 151870,
           "text": "the"
          },
          {
           "confidence": 0.92834,
           "end": 152547,
           "speaker": "A",
           "start": 152020,
           "text": "Carson"
          },
          {
           "confidence": 0.99896,
           "end": 152797,
           "speaker": "A",
           "start": 152592,
           "text": "show,"
          },
          {
           "confidence": 0.95,
           "end": 152977,
           "speaker": "A",
           "start": 152830,
           "text": "and"
          },
          {
           "confidence": 0.91965,
           "end": 153177,
           "speaker": "A",
           "start": 152995,
           "text": "you're"
          },
          {
           "confidence": 0.99975,
           "end": 153352,
           "speaker": "A",
           "start": 153207,
           "text": "going"
          },
          {
           "confidence": 0.97,
           "end": 153502,
           "speaker": "A",
           "start": 153370,
           "text": "to"
          },
          {
           "confidence": 0.99961,
           "end": 153697,
           "speaker": "A",
           "start": 153520,
           "text": "be"
          },
          {
           "confidence": 0.99844,
           "end": 154182,
           "speaker": "A",
           "start": 153730,
           "text": "interviewed"
          },
          {
           "confidence": 0.93,
           "end": 154372,
           "speaker": "A",
           "start": 154197,
           "text": "on"
          },
          {
           "confidence": 0.44833,
           "end": 154722,
           "speaker": "A",
           "start": 154405,
           "text": "Barbara"
          },
          {
           "confidence": 0.65702,
           "end": 155142,
           "speaker": "A",
           "start": 154767,
           "text": "Walters"
          },
          {
           "confidence": 0.9801,
           "end": 155825,
           "speaker": "A",
           "start": 155202,
           "text": "special."
          },
          {
           "confidence": 0.99506,
           "end": 156592,
           "speaker": "A",
           "start": 156187,
           "text": "Is"
          },
          {
           "confidence": 0.9987,
           "end": 156982,
           "speaker": "A",
           "start": 156640,
           "text": "there"
          },
          {
           "confidence": 0.77198,
           "end": 157432,
           "speaker": "A",
           "start": 157060,
           "text": "anything"
          },
          {
           "confidence": 0.99547,
           "end": 157657,
           "speaker": "A",
           "start": 157510,
           "text": "in"
          },
          {
           "confidence": 0.97,
           "end": 157777,
           "speaker": "A",
           "start": 157660,
           "text": "the"
          },
          {
           "confidence": 0.32843,
           "end": 158172,
           "speaker": "A",
           "start": 157795,
           "text": "offering,"
          },
          {
           "confidence": 0.95597,
           "end": 158557,
           "speaker": "A",
           "start": 158217,
           "text": "like"
          },
          {
           "confidence": 0.99131,
           "end": 159207,
           "speaker": "A",
           "start": 158635,
           "text": "movies"
          },
          {
           "confidence": 0.91594,
           "end": 159547,
           "speaker": "A",
           "start": 159297,
           "text": "or"
          },
          {
           "confidence": 0.99724,
           "end": 159942,
           "speaker": "A",
           "start": 159580,
           "text": "TV"
          },
          {
           "confidence": 0.97946,
           "end": 160527,
           "speaker": "A",
           "start": 160002,
           "text": "specials"
          },
          {
           "confidence": 0.97831,
           "end": 161017,
           "speaker": "A",
           "start": 160557,
           "text": "or"
          },
          {
           "confidence": 0.99939,
           "end": 161512,
           "speaker": "A",
           "start": 161140,
           "text": "those"
          },
          {
           "confidence": 0.99909,
           "end": 161887,
           "speaker": "A",
           "start": 161575,
           "text": "things"
          },
          {
           "confidence": 1,
           "end": 162172,
           "speaker": "A",
           "start": 161950,
           "text": "that"
          },
          {
           "confidence": 0.97777,
           "end": 162957,
           "speaker": "A",
           "start": 162205,
           "text": "superstars"
          },
          {
           "confidence": 0.78474,
           "end": 163387,
           "speaker": "A",
           "start": 163047,
           "text": "get"
          },
          {
           "confidence": 0.99729,
           "end": 164142,
           "speaker": "A",
           "start": 163450,
           "text": "eventually?"
          }
         ]
        },
        {
         "confidence": 0.9315483060109285,
         "end": 215387,
         "speaker": "B",
         "start": 164277,
         "text": "Well, I've been offered some TV specials already by all three networks, and I do hope to do several dollar specials, and I hope to do one this year. But as far as doing a regular show, I don't have any desire to do a weekly show. I did have a syndicated television show for a while. I only did 26 shows, and it's so time consuming. But as far as the movies. I don't have a desire to be a movie star, but I would do certain things if it was just the right thing. And, of course, I just signed a contract with Bantam Publications. They're publishing some of my stories in my poetry. And in all of my stories, I write a character that, in case it should be a successful book and be turned into a movie, then I could play a part that I've written there or maybe a comedy I might like to do sometime. But as far as a desire to be an actress, that's never been my dream. It's always been with the music, mostly.",
         "words": [
          {
           "confidence": 0.92625,
           "end": 164572,
           "speaker": "B",
           "start": 164277,
           "text": "Well,"
          },
          {
           "confidence": 0.95598,
           "end": 164802,
           "speaker": "B",
           "start": 164605,
           "text": "I've"
          },
          {
           "confidence": 0.99801,
           "end": 165022,
           "speaker": "B",
           "start": 164832,
           "text": "been"
          },
          {
           "confidence": 0.57113,
           "end": 165627,
           "speaker": "B",
           "start": 165055,
           "text": "offered"
          },
          {
           "confidence": 0.99881,
           "end": 166042,
           "speaker": "B",
           "start": 165732,
           "text": "some"
          },
          {
           "confidence": 0.99789,
           "end": 166422,
           "speaker": "B",
           "start": 166090,
           "text": "TV"
          },
          {
           "confidence": 0.65882,
           "end": 166977,
           "speaker": "B",
           "start": 166467,
           "text": "specials"
          },
          {
           "confidence": 0.51132,
           "end": 167332,
           "speaker": "B",
           "start": 167007,
           "text": "already"
          },
          {
           "confidence": 0.99557,
           "end": 167692,
           "speaker": "B",
           "start": 167410,
           "text": "by"
          },
          {
           "confidence": 0.99,
           "end": 167902,
           "speaker": "B",
           "start": 167740,
           "text": "all"
          },
          {
           "confidence": 0.99,
           "end": 168097,
           "speaker": "B",
           "start": 167920,
           "text": "three"
          },
          {
           "confidence": 0.63048,
           "end": 168762,
           "speaker": "B",
           "start": 168130,
           "text": "networks,"
          },
          {
           "confidence": 0.95,
           "end": 169072,
           "speaker": "B",
           "start": 168837,
           "text": "and"
          },
          {
           "confidence": 1,
           "end": 169207,
           "speaker": "B",
           "start": 169105,
           "text": "I"
          },
          {
           "confidence": 0.63202,
           "end": 169372,
           "speaker": "B",
           "start": 169210,
           "text": "do"
          },
          {
           "confidence": 0.99883,
           "end": 169597,
           "speaker": "B",
           "start": 169405,
           "text": "hope"
          },
          {
           "confidence": 1,
           "end": 169777,
           "speaker": "B",
           "start": 169630,
           "text": "to"
          },
          {
           "confidence": 0.99828,
           "end": 169972,
           "speaker": "B",
           "start": 169795,
           "text": "do"
          },
          {
           "confidence": 0.99848,
           "end": 170322,
           "speaker": "B",
           "start": 170005,
           "text": "several"
          },
          {
           "confidence": 0.52,
           "end": 170862,
           "speaker": "B",
           "start": 170367,
           "text": "dollar"
          },
          {
           "confidence": 0.98534,
           "end": 171597,
           "speaker": "B",
           "start": 170937,
           "text": "specials,"
          },
          {
           "confidence": 0.95,
           "end": 171847,
           "speaker": "B",
           "start": 171642,
           "text": "and"
          },
          {
           "confidence": 1,
           "end": 171982,
           "speaker": "B",
           "start": 171880,
           "text": "I"
          },
          {
           "confidence": 0.97121,
           "end": 172147,
           "speaker": "B",
           "start": 171985,
           "text": "hope"
          },
          {
           "confidence": 1,
           "end": 172372,
           "speaker": "B",
           "start": 172180,
           "text": "to"
          },
          {
           "confidence": 0.98289,
           "end": 172597,
           "speaker": "B",
           "start": 172405,
           "text": "do"
          },
          {
           "confidence": 0.43,
           "end": 172912,
           "speaker": "B",
           "start": 172630,
           "text": "one"
          },
          {
           "confidence": 0.99945,
           "end": 173197,
           "speaker": "B",
           "start": 172975,
           "text": "this"
          },
          {
           "confidence": 0.70594,
           "end": 173647,
           "speaker": "B",
           "start": 173230,
           "text": "year."
          },
          {
           "confidence": 0.97992,
           "end": 174022,
           "speaker": "B",
           "start": 173755,
           "text": "But"
          },
          {
           "confidence": 0.99903,
           "end": 174202,
           "speaker": "B",
           "start": 174055,
           "text": "as"
          },
          {
           "confidence": 0.99923,
           "end": 174352,
           "speaker": "B",
           "start": 174220,
           "text": "far"
          },
          {
           "confidence": 0.99502,
           "end": 174502,
           "speaker": "B",
           "start": 174370,
           "text": "as"
          },
          {
           "confidence": 0.99637,
           "end": 174697,
           "speaker": "B",
           "start": 174520,
           "text": "doing"
          },
          {
           "confidence": 0.94,
           "end": 174832,
           "speaker": "B",
           "start": 174730,
           "text": "a"
          },
          {
           "confidence": 0.64114,
           "end": 175167,
           "speaker": "B",
           "start": 174835,
           "text": "regular"
          },
          {
           "confidence": 0.99947,
           "end": 175492,
           "speaker": "B",
           "start": 175227,
           "text": "show,"
          },
          {
           "confidence": 0.99,
           "end": 175702,
           "speaker": "B",
           "start": 175540,
           "text": "I"
          },
          {
           "confidence": 0.9803,
           "end": 175902,
           "speaker": "B",
           "start": 175720,
           "text": "don't"
          },
          {
           "confidence": 0.99831,
           "end": 176077,
           "speaker": "B",
           "start": 175932,
           "text": "have"
          },
          {
           "confidence": 0.99735,
           "end": 176317,
           "speaker": "B",
           "start": 176095,
           "text": "any"
          },
          {
           "confidence": 0.99836,
           "end": 176697,
           "speaker": "B",
           "start": 176365,
           "text": "desire"
          },
          {
           "confidence": 1,
           "end": 176902,
           "speaker": "B",
           "start": 176742,
           "text": "to"
          },
          {
           "confidence": 0.99797,
           "end": 177052,
           "speaker": "B",
           "start": 176920,
           "text": "do"
          },
          {
           "confidence": 0.99,
           "end": 177202,
           "speaker": "B",
           "start": 177070,
           "text": "a"
          },
          {
           "confidence": 0.99965,
           "end": 177477,
           "speaker": "B",
           "start": 177220,
           "text": "weekly"
          },
          {
           "confidence": 0.53551,
           "end": 177697,
           "speaker": "B",
           "start": 177507,
           "text": "show."
          },
          {
           "confidence": 0.89,
           "end": 177877,
           "speaker": "B",
           "start": 177730,
           "text": "I"
          },
          {
           "confidence": 0.87192,
           "end": 178117,
           "speaker": "B",
           "start": 177895,
           "text": "did"
          },
          {
           "confidence": 0.99728,
           "end": 178372,
           "speaker": "B",
           "start": 178165,
           "text": "have"
          },
          {
           "confidence": 0.98,
           "end": 178552,
           "speaker": "B",
           "start": 178405,
           "text": "a"
          },
          {
           "confidence": 0.61226,
           "end": 179367,
           "speaker": "B",
           "start": 178570,
           "text": "syndicated"
          },
          {
           "confidence": 0.99811,
           "end": 180072,
           "speaker": "B",
           "start": 179502,
           "text": "television"
          },
          {
           "confidence": 0.9997,
           "end": 180367,
           "speaker": "B",
           "start": 180117,
           "text": "show"
          },
          {
           "confidence": 0.99724,
           "end": 180577,
           "speaker": "B",
           "start": 180415,
           "text": "for"
          },
          {
           "confidence": 0.62,
           "end": 180682,
           "speaker": "B",
           "start": 180595,
           "text": "a"
          },
          {
           "confidence": 0.99974,
           "end": 180847,
           "speaker": "B",
           "start": 180685,
           "text": "while."
          },
          {
           "confidence": 0.93,
           "end": 180982,
           "speaker": "B",
           "start": 180880,
           "text": "I"
          },
          {
           "confidence": 0.84669,
           "end": 181147,
           "speaker": "B",
           "start": 180985,
           "text": "only"
          },
          {
           "confidence": 0.99463,
           "end": 181372,
           "speaker": "B",
           "start": 181180,
           "text": "did"
          },
          {
           "confidence": 1,
           "end": 181867,
           "speaker": "B",
           "start": 181405,
           "text": "26"
          },
          {
           "confidence": 0.99195,
           "end": 182122,
           "speaker": "B",
           "start": 181915,
           "text": "shows,"
          },
          {
           "confidence": 0.95,
           "end": 182302,
           "speaker": "B",
           "start": 182155,
           "text": "and"
          },
          {
           "confidence": 0.92882,
           "end": 182502,
           "speaker": "B",
           "start": 182320,
           "text": "it's"
          },
          {
           "confidence": 0.99245,
           "end": 182722,
           "speaker": "B",
           "start": 182532,
           "text": "so"
          },
          {
           "confidence": 0.99993,
           "end": 182947,
           "speaker": "B",
           "start": 182755,
           "text": "time"
          },
          {
           "confidence": 0.63205,
           "end": 183612,
           "speaker": "B",
           "start": 182980,
           "text": "consuming."
          },
          {
           "confidence": 0.92545,
           "end": 183922,
           "speaker": "B",
           "start": 183687,
           "text": "But"
          },
          {
           "confidence": 0.99933,
           "end": 184102,
           "speaker": "B",
           "start": 183955,
           "text": "as"
          },
          {
           "confidence": 0.99983,
           "end": 184207,
           "speaker": "B",
           "start": 184120,
           "text": "far"
          },
          {
           "confidence": 0.66795,
           "end": 184327,
           "speaker": "B",
           "start": 184210,
           "text": "as"
          },
          {
           "confidence": 0.99,
           "end": 184477,
           "speaker": "B",
           "start": 184345,
           "text": "the"
          },
          {
           "confidence": 0.97108,
           "end": 184842,
           "speaker": "B",
           "start": 184495,
           "text": "movies."
          },
          {
           "confidence": 1,
           "end": 185032,
           "speaker": "B",
           "start": 184902,
           "text": "I"
          },
          {
           "confidence": 0.92966,
           "end": 185202,
           "speaker": "B",
           "start": 185035,
           "text": "don't"
          },
          {
           "confidence": 0.99958,
           "end": 185377,
           "speaker": "B",
           "start": 185232,
           "text": "have"
          },
          {
           "confidence": 0.99,
           "end": 185527,
           "speaker": "B",
           "start": 185395,
           "text": "a"
          },
          {
           "confidence": 0.99914,
           "end": 185847,
           "speaker": "B",
           "start": 185545,
           "text": "desire"
          },
          {
           "confidence": 1,
           "end": 186097,
           "speaker": "B",
           "start": 185892,
           "text": "to"
          },
          {
           "confidence": 0.99755,
           "end": 186277,
           "speaker": "B",
           "start": 186130,
           "text": "be"
          },
          {
           "confidence": 1,
           "end": 186427,
           "speaker": "B",
           "start": 186295,
           "text": "a"
          },
          {
           "confidence": 0.99937,
           "end": 186702,
           "speaker": "B",
           "start": 186445,
           "text": "movie"
          },
          {
           "confidence": 0.99824,
           "end": 186967,
           "speaker": "B",
           "start": 186732,
           "text": "star,"
          },
          {
           "confidence": 0.94266,
           "end": 187222,
           "speaker": "B",
           "start": 187015,
           "text": "but"
          },
          {
           "confidence": 1,
           "end": 187447,
           "speaker": "B",
           "start": 187255,
           "text": "I"
          },
          {
           "confidence": 0.99772,
           "end": 187717,
           "speaker": "B",
           "start": 187480,
           "text": "would"
          },
          {
           "confidence": 0.99927,
           "end": 188197,
           "speaker": "B",
           "start": 187765,
           "text": "do"
          },
          {
           "confidence": 0.99996,
           "end": 188662,
           "speaker": "B",
           "start": 188305,
           "text": "certain"
          },
          {
           "confidence": 0.99949,
           "end": 188992,
           "speaker": "B",
           "start": 188725,
           "text": "things"
          },
          {
           "confidence": 0.99696,
           "end": 189202,
           "speaker": "B",
           "start": 189040,
           "text": "if"
          },
          {
           "confidence": 0.99835,
           "end": 189352,
           "speaker": "B",
           "start": 189220,
           "text": "it"
          },
          {
           "confidence": 0.99493,
           "end": 189547,
           "speaker": "B",
           "start": 189370,
           "text": "was"
          },
          {
           "confidence": 0.9975,
           "end": 189772,
           "speaker": "B",
           "start": 189580,
           "text": "just"
          },
          {
           "confidence": 1,
           "end": 189952,
           "speaker": "B",
           "start": 189805,
           "text": "the"
          },
          {
           "confidence": 1,
           "end": 190192,
           "speaker": "B",
           "start": 189970,
           "text": "right"
          },
          {
           "confidence": 0.99802,
           "end": 190582,
           "speaker": "B",
           "start": 190240,
           "text": "thing."
          },
          {
           "confidence": 0.84,
           "end": 190942,
           "speaker": "B",
           "start": 190660,
           "text": "And,"
          },
          {
           "confidence": 0.97,
           "end": 191107,
           "speaker": "B",
           "start": 190990,
           "text": "of"
          },
          {
           "confidence": 0.81516,
           "end": 191317,
           "speaker": "B",
           "start": 191110,
           "text": "course,"
          },
          {
           "confidence": 0.93,
           "end": 191572,
           "speaker": "B",
           "start": 191365,
           "text": "I"
          },
          {
           "confidence": 0.98763,
           "end": 191752,
           "speaker": "B",
           "start": 191605,
           "text": "just"
          },
          {
           "confidence": 0.59433,
           "end": 192027,
           "speaker": "B",
           "start": 191770,
           "text": "signed"
          },
          {
           "confidence": 0.91,
           "end": 192202,
           "speaker": "B",
           "start": 192057,
           "text": "a"
          },
          {
           "confidence": 0.99972,
           "end": 192597,
           "speaker": "B",
           "start": 192220,
           "text": "contract"
          },
          {
           "confidence": 0.67506,
           "end": 192847,
           "speaker": "B",
           "start": 192642,
           "text": "with"
          },
          {
           "confidence": 0.87468,
           "end": 193347,
           "speaker": "B",
           "start": 192880,
           "text": "Bantam"
          },
          {
           "confidence": 0.91982,
           "end": 194172,
           "speaker": "B",
           "start": 193392,
           "text": "Publications."
          },
          {
           "confidence": 0.81553,
           "end": 194652,
           "speaker": "B",
           "start": 194292,
           "text": "They're"
          },
          {
           "confidence": 0.99002,
           "end": 195027,
           "speaker": "B",
           "start": 194682,
           "text": "publishing"
          },
          {
           "confidence": 0.99651,
           "end": 195202,
           "speaker": "B",
           "start": 195057,
           "text": "some"
          },
          {
           "confidence": 1,
           "end": 195352,
           "speaker": "B",
           "start": 195220,
           "text": "of"
          },
          {
           "confidence": 0.99318,
           "end": 195592,
           "speaker": "B",
           "start": 195370,
           "text": "my"
          },
          {
           "confidence": 0.99743,
           "end": 196032,
           "speaker": "B",
           "start": 195640,
           "text": "stories"
          },
          {
           "confidence": 0.6469,
           "end": 196327,
           "speaker": "B",
           "start": 196122,
           "text": "in"
          },
          {
           "confidence": 0.96546,
           "end": 196522,
           "speaker": "B",
           "start": 196345,
           "text": "my"
          },
          {
           "confidence": 0.96813,
           "end": 197112,
           "speaker": "B",
           "start": 196555,
           "text": "poetry."
          },
          {
           "confidence": 0.87,
           "end": 197377,
           "speaker": "B",
           "start": 197187,
           "text": "And"
          },
          {
           "confidence": 0.93979,
           "end": 197572,
           "speaker": "B",
           "start": 197395,
           "text": "in"
          },
          {
           "confidence": 1,
           "end": 197752,
           "speaker": "B",
           "start": 197605,
           "text": "all"
          },
          {
           "confidence": 1,
           "end": 197902,
           "speaker": "B",
           "start": 197770,
           "text": "of"
          },
          {
           "confidence": 0.99942,
           "end": 198097,
           "speaker": "B",
           "start": 197920,
           "text": "my"
          },
          {
           "confidence": 0.99563,
           "end": 198447,
           "speaker": "B",
           "start": 198130,
           "text": "stories,"
          },
          {
           "confidence": 0.99,
           "end": 198652,
           "speaker": "B",
           "start": 198492,
           "text": "I"
          },
          {
           "confidence": 0.94523,
           "end": 198847,
           "speaker": "B",
           "start": 198670,
           "text": "write"
          },
          {
           "confidence": 0.98,
           "end": 199027,
           "speaker": "B",
           "start": 198880,
           "text": "a"
          },
          {
           "confidence": 0.99938,
           "end": 199542,
           "speaker": "B",
           "start": 199045,
           "text": "character"
          },
          {
           "confidence": 0.98,
           "end": 199822,
           "speaker": "B",
           "start": 199602,
           "text": "that,"
          },
          {
           "confidence": 0.97872,
           "end": 200002,
           "speaker": "B",
           "start": 199855,
           "text": "in"
          },
          {
           "confidence": 1,
           "end": 200197,
           "speaker": "B",
           "start": 200020,
           "text": "case"
          },
          {
           "confidence": 0.51809,
           "end": 200422,
           "speaker": "B",
           "start": 200230,
           "text": "it"
          },
          {
           "confidence": 0.999,
           "end": 200602,
           "speaker": "B",
           "start": 200455,
           "text": "should"
          },
          {
           "confidence": 0.99701,
           "end": 200752,
           "speaker": "B",
           "start": 200620,
           "text": "be"
          },
          {
           "confidence": 0.96,
           "end": 200857,
           "speaker": "B",
           "start": 200770,
           "text": "a"
          },
          {
           "confidence": 0.99951,
           "end": 201372,
           "speaker": "B",
           "start": 200860,
           "text": "successful"
          },
          {
           "confidence": 0.99985,
           "end": 201667,
           "speaker": "B",
           "start": 201417,
           "text": "book"
          },
          {
           "confidence": 0.99,
           "end": 201877,
           "speaker": "B",
           "start": 201715,
           "text": "and"
          },
          {
           "confidence": 0.97185,
           "end": 202027,
           "speaker": "B",
           "start": 201895,
           "text": "be"
          },
          {
           "confidence": 0.8945,
           "end": 202302,
           "speaker": "B",
           "start": 202045,
           "text": "turned"
          },
          {
           "confidence": 0.99429,
           "end": 202522,
           "speaker": "B",
           "start": 202332,
           "text": "into"
          },
          {
           "confidence": 0.97,
           "end": 202657,
           "speaker": "B",
           "start": 202555,
           "text": "a"
          },
          {
           "confidence": 0.99893,
           "end": 202902,
           "speaker": "B",
           "start": 202660,
           "text": "movie,"
          },
          {
           "confidence": 0.63609,
           "end": 203077,
           "speaker": "B",
           "start": 202932,
           "text": "then"
          },
          {
           "confidence": 1,
           "end": 203227,
           "speaker": "B",
           "start": 203095,
           "text": "I"
          },
          {
           "confidence": 0.90391,
           "end": 203377,
           "speaker": "B",
           "start": 203245,
           "text": "could"
          },
          {
           "confidence": 0.99975,
           "end": 203752,
           "speaker": "B",
           "start": 203395,
           "text": "play"
          },
          {
           "confidence": 0.98,
           "end": 204052,
           "speaker": "B",
           "start": 203845,
           "text": "a"
          },
          {
           "confidence": 0.99979,
           "end": 204247,
           "speaker": "B",
           "start": 204070,
           "text": "part"
          },
          {
           "confidence": 0.99,
           "end": 204427,
           "speaker": "B",
           "start": 204280,
           "text": "that"
          },
          {
           "confidence": 0.94335,
           "end": 204582,
           "speaker": "B",
           "start": 204445,
           "text": "I've"
          },
          {
           "confidence": 0.99883,
           "end": 204852,
           "speaker": "B",
           "start": 204597,
           "text": "written"
          },
          {
           "confidence": 0.97527,
           "end": 205522,
           "speaker": "B",
           "start": 204882,
           "text": "there"
          },
          {
           "confidence": 0.96292,
           "end": 206047,
           "speaker": "B",
           "start": 205705,
           "text": "or"
          },
          {
           "confidence": 0.99375,
           "end": 206317,
           "speaker": "B",
           "start": 206080,
           "text": "maybe"
          },
          {
           "confidence": 1,
           "end": 206482,
           "speaker": "B",
           "start": 206365,
           "text": "a"
          },
          {
           "confidence": 0.99895,
           "end": 206802,
           "speaker": "B",
           "start": 206485,
           "text": "comedy"
          },
          {
           "confidence": 1,
           "end": 206932,
           "speaker": "B",
           "start": 206832,
           "text": "I"
          },
          {
           "confidence": 0.94342,
           "end": 207097,
           "speaker": "B",
           "start": 206935,
           "text": "might"
          },
          {
           "confidence": 0.93887,
           "end": 207322,
           "speaker": "B",
           "start": 207130,
           "text": "like"
          },
          {
           "confidence": 1,
           "end": 207502,
           "speaker": "B",
           "start": 207355,
           "text": "to"
          },
          {
           "confidence": 0.99719,
           "end": 207832,
           "speaker": "B",
           "start": 207520,
           "text": "do"
          },
          {
           "confidence": 0.70861,
           "end": 208602,
           "speaker": "B",
           "start": 207910,
           "text": "sometime."
          },
          {
           "confidence": 0.90864,
           "end": 209062,
           "speaker": "B",
           "start": 208707,
           "text": "But"
          },
          {
           "confidence": 0.99827,
           "end": 209302,
           "speaker": "B",
           "start": 209125,
           "text": "as"
          },
          {
           "confidence": 0.67234,
           "end": 209497,
           "speaker": "B",
           "start": 209320,
           "text": "far"
          },
          {
           "confidence": 0.99515,
           "end": 210127,
           "speaker": "B",
           "start": 209530,
           "text": "as"
          },
          {
           "confidence": 0.67,
           "end": 210622,
           "speaker": "B",
           "start": 210295,
           "text": "a"
          },
          {
           "confidence": 0.99249,
           "end": 210972,
           "speaker": "B",
           "start": 210655,
           "text": "desire"
          },
          {
           "confidence": 1,
           "end": 211177,
           "speaker": "B",
           "start": 211017,
           "text": "to"
          },
          {
           "confidence": 0.99826,
           "end": 211417,
           "speaker": "B",
           "start": 211195,
           "text": "be"
          },
          {
           "confidence": 0.99111,
           "end": 211672,
           "speaker": "B",
           "start": 211465,
           "text": "an"
          },
          {
           "confidence": 0.99836,
           "end": 212067,
           "speaker": "B",
           "start": 211705,
           "text": "actress,"
          },
          {
           "confidence": 0.74554,
           "end": 212427,
           "speaker": "B",
           "start": 212127,
           "text": "that's"
          },
          {
           "confidence": 0.99853,
           "end": 212647,
           "speaker": "B",
           "start": 212457,
           "text": "never"
          },
          {
           "confidence": 0.99901,
           "end": 212827,
           "speaker": "B",
           "start": 212680,
           "text": "been"
          },
          {
           "confidence": 0.99884,
           "end": 212977,
           "speaker": "B",
           "start": 212845,
           "text": "my"
          },
          {
           "confidence": 0.93519,
           "end": 213252,
           "speaker": "B",
           "start": 212995,
           "text": "dream."
          },
          {
           "confidence": 0.85862,
           "end": 213477,
           "speaker": "B",
           "start": 213282,
           "text": "It's"
          },
          {
           "confidence": 0.99985,
           "end": 213697,
           "speaker": "B",
           "start": 213507,
           "text": "always"
          },
          {
           "confidence": 0.88588,
           "end": 213922,
           "speaker": "B",
           "start": 213730,
           "text": "been"
          },
          {
           "confidence": 0.99762,
           "end": 214102,
           "speaker": "B",
           "start": 213955,
           "text": "with"
          },
          {
           "confidence": 0.99,
           "end": 214252,
           "speaker": "B",
           "start": 214120,
           "text": "the"
          },
          {
           "confidence": 0.99992,
           "end": 214537,
           "speaker": "B",
           "start": 214270,
           "text": "music,"
          },
          {
           "confidence": 0.99912,
           "end": 215387,
           "speaker": "B",
           "start": 214600,
           "text": "mostly."
          }
         ]
        },
        {
         "confidence": 0.9495992307692307,
         "end": 225922,
         "speaker": "A",
         "start": 215887,
         "text": "You have sometimes been compared with Marilyn Monroe and with May West. Do either of those people have any influence at all on what you do?",
         "words": [
          {
           "confidence": 0.53809,
           "end": 216337,
           "speaker": "A",
           "start": 215887,
           "text": "You"
          },
          {
           "confidence": 0.99493,
           "end": 216622,
           "speaker": "A",
           "start": 216400,
           "text": "have"
          },
          {
           "confidence": 0.96925,
           "end": 217027,
           "speaker": "A",
           "start": 216655,
           "text": "sometimes"
          },
          {
           "confidence": 0.99548,
           "end": 217417,
           "speaker": "A",
           "start": 217120,
           "text": "been"
          },
          {
           "confidence": 0.99559,
           "end": 217917,
           "speaker": "A",
           "start": 217465,
           "text": "compared"
          },
          {
           "confidence": 0.99879,
           "end": 218152,
           "speaker": "A",
           "start": 217977,
           "text": "with"
          },
          {
           "confidence": 0.97693,
           "end": 218502,
           "speaker": "A",
           "start": 218170,
           "text": "Marilyn"
          },
          {
           "confidence": 0.96534,
           "end": 218952,
           "speaker": "A",
           "start": 218532,
           "text": "Monroe"
          },
          {
           "confidence": 0.91,
           "end": 219127,
           "speaker": "A",
           "start": 218982,
           "text": "and"
          },
          {
           "confidence": 0.9881,
           "end": 219367,
           "speaker": "A",
           "start": 219145,
           "text": "with"
          },
          {
           "confidence": 0.98,
           "end": 219667,
           "speaker": "A",
           "start": 219415,
           "text": "May"
          },
          {
           "confidence": 0.95932,
           "end": 220412,
           "speaker": "A",
           "start": 219715,
           "text": "West."
          },
          {
           "confidence": 0.9423,
           "end": 221392,
           "speaker": "A",
           "start": 220987,
           "text": "Do"
          },
          {
           "confidence": 0.9972,
           "end": 221692,
           "speaker": "A",
           "start": 221440,
           "text": "either"
          },
          {
           "confidence": 0.9,
           "end": 222172,
           "speaker": "A",
           "start": 221740,
           "text": "of"
          },
          {
           "confidence": 0.99971,
           "end": 222637,
           "speaker": "A",
           "start": 222280,
           "text": "those"
          },
          {
           "confidence": 0.99953,
           "end": 223057,
           "speaker": "A",
           "start": 222700,
           "text": "people"
          },
          {
           "confidence": 0.99864,
           "end": 223372,
           "speaker": "A",
           "start": 223135,
           "text": "have"
          },
          {
           "confidence": 0.99945,
           "end": 223642,
           "speaker": "A",
           "start": 223405,
           "text": "any"
          },
          {
           "confidence": 0.93467,
           "end": 224202,
           "speaker": "A",
           "start": 223690,
           "text": "influence"
          },
          {
           "confidence": 0.99,
           "end": 224422,
           "speaker": "A",
           "start": 224232,
           "text": "at"
          },
          {
           "confidence": 1,
           "end": 224827,
           "speaker": "A",
           "start": 224455,
           "text": "all"
          },
          {
           "confidence": 0.99,
           "end": 225127,
           "speaker": "A",
           "start": 224920,
           "text": "on"
          },
          {
           "confidence": 0.99953,
           "end": 225277,
           "speaker": "A",
           "start": 225145,
           "text": "what"
          },
          {
           "confidence": 0.66743,
           "end": 225472,
           "speaker": "A",
           "start": 225295,
           "text": "you"
          },
          {
           "confidence": 0.9993,
           "end": 225922,
           "speaker": "A",
           "start": 225505,
           "text": "do?"
          }
         ]
        },
        {
         "confidence": 0.9150944966442954,
         "end": 270650,
         "speaker": "B",
         "start": 226030,
         "text": "No. I've always admired anybody that could put up with a business in the way they have. And I think they're both beautiful women, but I never tried to pattern myself after either one of them. I happen to be a bit booze. Me like May West and the blonde hair, I guess just the appearance all around of kind of well, I don't know exactly why, but I guess you know why. But I've not been influenced by them. In fact, I've always had great sympathy for Merlin Monroe of what a tragic, sad life she always had. And as far as May Wes always admired and respected her because of her business knowledge as a businesswoman and the way she took care of her business. But I admire people like that. But I don't have a desire to be like them. I want to be like me.",
         "words": [
          {
           "confidence": 0.90951,
           "end": 226387,
           "speaker": "B",
           "start": 226030,
           "text": "No."
          },
          {
           "confidence": 0.83903,
           "end": 226752,
           "speaker": "B",
           "start": 226450,
           "text": "I've"
          },
          {
           "confidence": 0.99974,
           "end": 227107,
           "speaker": "B",
           "start": 226782,
           "text": "always"
          },
          {
           "confidence": 0.69821,
           "end": 227712,
           "speaker": "B",
           "start": 227185,
           "text": "admired"
          },
          {
           "confidence": 0.9974,
           "end": 228427,
           "speaker": "B",
           "start": 227787,
           "text": "anybody"
          },
          {
           "confidence": 1,
           "end": 229282,
           "speaker": "B",
           "start": 228595,
           "text": "that"
          },
          {
           "confidence": 0.99538,
           "end": 229792,
           "speaker": "B",
           "start": 229435,
           "text": "could"
          },
          {
           "confidence": 0.99988,
           "end": 230047,
           "speaker": "B",
           "start": 229840,
           "text": "put"
          },
          {
           "confidence": 1,
           "end": 230227,
           "speaker": "B",
           "start": 230080,
           "text": "up"
          },
          {
           "confidence": 0.99536,
           "end": 230377,
           "speaker": "B",
           "start": 230245,
           "text": "with"
          },
          {
           "confidence": 0.66,
           "end": 230482,
           "speaker": "B",
           "start": 230395,
           "text": "a"
          },
          {
           "confidence": 0.99896,
           "end": 230737,
           "speaker": "B",
           "start": 230485,
           "text": "business"
          },
          {
           "confidence": 0.83855,
           "end": 230977,
           "speaker": "B",
           "start": 230800,
           "text": "in"
          },
          {
           "confidence": 1,
           "end": 231082,
           "speaker": "B",
           "start": 230995,
           "text": "the"
          },
          {
           "confidence": 1,
           "end": 231247,
           "speaker": "B",
           "start": 231085,
           "text": "way"
          },
          {
           "confidence": 0.99649,
           "end": 231427,
           "speaker": "B",
           "start": 231280,
           "text": "they"
          },
          {
           "confidence": 0.99834,
           "end": 231667,
           "speaker": "B",
           "start": 231445,
           "text": "have."
          },
          {
           "confidence": 0.66,
           "end": 232147,
           "speaker": "B",
           "start": 231715,
           "text": "And"
          },
          {
           "confidence": 1,
           "end": 232477,
           "speaker": "B",
           "start": 232255,
           "text": "I"
          },
          {
           "confidence": 0.99975,
           "end": 232627,
           "speaker": "B",
           "start": 232495,
           "text": "think"
          },
          {
           "confidence": 0.48325,
           "end": 232857,
           "speaker": "B",
           "start": 232645,
           "text": "they're"
          },
          {
           "confidence": 0.99962,
           "end": 233047,
           "speaker": "B",
           "start": 232872,
           "text": "both"
          },
          {
           "confidence": 0.99963,
           "end": 233407,
           "speaker": "B",
           "start": 233080,
           "text": "beautiful"
          },
          {
           "confidence": 0.99962,
           "end": 233722,
           "speaker": "B",
           "start": 233485,
           "text": "women,"
          },
          {
           "confidence": 0.98998,
           "end": 233857,
           "speaker": "B",
           "start": 233755,
           "text": "but"
          },
          {
           "confidence": 0.57,
           "end": 233977,
           "speaker": "B",
           "start": 233860,
           "text": "I"
          },
          {
           "confidence": 0.9984,
           "end": 234172,
           "speaker": "B",
           "start": 233995,
           "text": "never"
          },
          {
           "confidence": 0.95652,
           "end": 234352,
           "speaker": "B",
           "start": 234205,
           "text": "tried"
          },
          {
           "confidence": 0.75,
           "end": 234502,
           "speaker": "B",
           "start": 234370,
           "text": "to"
          },
          {
           "confidence": 0.9727,
           "end": 234822,
           "speaker": "B",
           "start": 234520,
           "text": "pattern"
          },
          {
           "confidence": 0.99838,
           "end": 235297,
           "speaker": "B",
           "start": 234867,
           "text": "myself"
          },
          {
           "confidence": 0.9998,
           "end": 235807,
           "speaker": "B",
           "start": 235405,
           "text": "after"
          },
          {
           "confidence": 0.99715,
           "end": 236122,
           "speaker": "B",
           "start": 235885,
           "text": "either"
          },
          {
           "confidence": 1,
           "end": 236302,
           "speaker": "B",
           "start": 236155,
           "text": "one"
          },
          {
           "confidence": 1,
           "end": 236452,
           "speaker": "B",
           "start": 236320,
           "text": "of"
          },
          {
           "confidence": 0.99984,
           "end": 236647,
           "speaker": "B",
           "start": 236470,
           "text": "them."
          },
          {
           "confidence": 0.91,
           "end": 236872,
           "speaker": "B",
           "start": 236680,
           "text": "I"
          },
          {
           "confidence": 0.57445,
           "end": 237097,
           "speaker": "B",
           "start": 236905,
           "text": "happen"
          },
          {
           "confidence": 1,
           "end": 237277,
           "speaker": "B",
           "start": 237130,
           "text": "to"
          },
          {
           "confidence": 0.99456,
           "end": 237427,
           "speaker": "B",
           "start": 237295,
           "text": "be"
          },
          {
           "confidence": 0.6,
           "end": 237622,
           "speaker": "B",
           "start": 237445,
           "text": "a"
          },
          {
           "confidence": 0.94048,
           "end": 237847,
           "speaker": "B",
           "start": 237655,
           "text": "bit"
          },
          {
           "confidence": 0.12379,
           "end": 238257,
           "speaker": "B",
           "start": 237880,
           "text": "booze."
          },
          {
           "confidence": 0.82938,
           "end": 238537,
           "speaker": "B",
           "start": 238272,
           "text": "Me"
          },
          {
           "confidence": 0.98112,
           "end": 238912,
           "speaker": "B",
           "start": 238600,
           "text": "like"
          },
          {
           "confidence": 0.95,
           "end": 239197,
           "speaker": "B",
           "start": 238975,
           "text": "May"
          },
          {
           "confidence": 0.89515,
           "end": 239547,
           "speaker": "B",
           "start": 239230,
           "text": "West"
          },
          {
           "confidence": 0.91,
           "end": 239887,
           "speaker": "B",
           "start": 239592,
           "text": "and"
          },
          {
           "confidence": 0.99,
           "end": 240127,
           "speaker": "B",
           "start": 239950,
           "text": "the"
          },
          {
           "confidence": 0.87379,
           "end": 240552,
           "speaker": "B",
           "start": 240145,
           "text": "blonde"
          },
          {
           "confidence": 0.99201,
           "end": 240777,
           "speaker": "B",
           "start": 240582,
           "text": "hair,"
          },
          {
           "confidence": 0.87,
           "end": 240952,
           "speaker": "B",
           "start": 240807,
           "text": "I"
          },
          {
           "confidence": 0.99535,
           "end": 241550,
           "speaker": "B",
           "start": 240970,
           "text": "guess"
          },
          {
           "confidence": 0.90905,
           "end": 243097,
           "speaker": "B",
           "start": 242737,
           "text": "just"
          },
          {
           "confidence": 0.98,
           "end": 243277,
           "speaker": "B",
           "start": 243130,
           "text": "the"
          },
          {
           "confidence": 0.96442,
           "end": 243792,
           "speaker": "B",
           "start": 243295,
           "text": "appearance"
          },
          {
           "confidence": 1,
           "end": 244072,
           "speaker": "B",
           "start": 243852,
           "text": "all"
          },
          {
           "confidence": 0.9728,
           "end": 244342,
           "speaker": "B",
           "start": 244105,
           "text": "around"
          },
          {
           "confidence": 0.55,
           "end": 244597,
           "speaker": "B",
           "start": 244390,
           "text": "of"
          },
          {
           "confidence": 0.90223,
           "end": 244777,
           "speaker": "B",
           "start": 244630,
           "text": "kind"
          },
          {
           "confidence": 0.98,
           "end": 245375,
           "speaker": "B",
           "start": 244795,
           "text": "of"
          },
          {
           "confidence": 0.91572,
           "end": 246202,
           "speaker": "B",
           "start": 245887,
           "text": "well,"
          },
          {
           "confidence": 1,
           "end": 246307,
           "speaker": "B",
           "start": 246220,
           "text": "I"
          },
          {
           "confidence": 0.99202,
           "end": 246432,
           "speaker": "B",
           "start": 246310,
           "text": "don't"
          },
          {
           "confidence": 0.99338,
           "end": 246577,
           "speaker": "B",
           "start": 246447,
           "text": "know"
          },
          {
           "confidence": 0.99966,
           "end": 246907,
           "speaker": "B",
           "start": 246595,
           "text": "exactly"
          },
          {
           "confidence": 0.99527,
           "end": 247267,
           "speaker": "B",
           "start": 246985,
           "text": "why,"
          },
          {
           "confidence": 0.93904,
           "end": 247522,
           "speaker": "B",
           "start": 247315,
           "text": "but"
          },
          {
           "confidence": 0.89,
           "end": 247657,
           "speaker": "B",
           "start": 247555,
           "text": "I"
          },
          {
           "confidence": 0.9852,
           "end": 247867,
           "speaker": "B",
           "start": 247660,
           "text": "guess"
          },
          {
           "confidence": 0.79584,
           "end": 248077,
           "speaker": "B",
           "start": 247915,
           "text": "you"
          },
          {
           "confidence": 0.99364,
           "end": 248227,
           "speaker": "B",
           "start": 248095,
           "text": "know"
          },
          {
           "confidence": 0.93462,
           "end": 248422,
           "speaker": "B",
           "start": 248245,
           "text": "why."
          },
          {
           "confidence": 0.80046,
           "end": 249052,
           "speaker": "B",
           "start": 248455,
           "text": "But"
          },
          {
           "confidence": 0.55748,
           "end": 249552,
           "speaker": "B",
           "start": 249220,
           "text": "I've"
          },
          {
           "confidence": 0.99,
           "end": 249727,
           "speaker": "B",
           "start": 249582,
           "text": "not"
          },
          {
           "confidence": 0.99076,
           "end": 249922,
           "speaker": "B",
           "start": 249745,
           "text": "been"
          },
          {
           "confidence": 0.85737,
           "end": 250377,
           "speaker": "B",
           "start": 249955,
           "text": "influenced"
          },
          {
           "confidence": 0.98958,
           "end": 250507,
           "speaker": "B",
           "start": 250407,
           "text": "by"
          },
          {
           "confidence": 0.69624,
           "end": 250627,
           "speaker": "B",
           "start": 250510,
           "text": "them."
          },
          {
           "confidence": 0.97678,
           "end": 250777,
           "speaker": "B",
           "start": 250645,
           "text": "In"
          },
          {
           "confidence": 0.99988,
           "end": 251107,
           "speaker": "B",
           "start": 250795,
           "text": "fact,"
          },
          {
           "confidence": 0.93707,
           "end": 251502,
           "speaker": "B",
           "start": 251185,
           "text": "I've"
          },
          {
           "confidence": 0.99978,
           "end": 251767,
           "speaker": "B",
           "start": 251532,
           "text": "always"
          },
          {
           "confidence": 0.99966,
           "end": 252022,
           "speaker": "B",
           "start": 251815,
           "text": "had"
          },
          {
           "confidence": 0.99965,
           "end": 252292,
           "speaker": "B",
           "start": 252055,
           "text": "great"
          },
          {
           "confidence": 0.55351,
           "end": 252822,
           "speaker": "B",
           "start": 252340,
           "text": "sympathy"
          },
          {
           "confidence": 0.99961,
           "end": 253342,
           "speaker": "B",
           "start": 252867,
           "text": "for"
          },
          {
           "confidence": 0.50293,
           "end": 253902,
           "speaker": "B",
           "start": 253465,
           "text": "Merlin"
          },
          {
           "confidence": 0.67689,
           "end": 254352,
           "speaker": "B",
           "start": 253932,
           "text": "Monroe"
          },
          {
           "confidence": 0.7,
           "end": 254527,
           "speaker": "B",
           "start": 254382,
           "text": "of"
          },
          {
           "confidence": 0.98575,
           "end": 254677,
           "speaker": "B",
           "start": 254545,
           "text": "what"
          },
          {
           "confidence": 0.96,
           "end": 254827,
           "speaker": "B",
           "start": 254695,
           "text": "a"
          },
          {
           "confidence": 0.99665,
           "end": 255222,
           "speaker": "B",
           "start": 254845,
           "text": "tragic,"
          },
          {
           "confidence": 0.99667,
           "end": 255597,
           "speaker": "B",
           "start": 255267,
           "text": "sad"
          },
          {
           "confidence": 0.99751,
           "end": 255892,
           "speaker": "B",
           "start": 255642,
           "text": "life"
          },
          {
           "confidence": 0.99635,
           "end": 256147,
           "speaker": "B",
           "start": 255940,
           "text": "she"
          },
          {
           "confidence": 0.99873,
           "end": 256462,
           "speaker": "B",
           "start": 256180,
           "text": "always"
          },
          {
           "confidence": 0.99724,
           "end": 256882,
           "speaker": "B",
           "start": 256525,
           "text": "had."
          },
          {
           "confidence": 0.78,
           "end": 257242,
           "speaker": "B",
           "start": 256960,
           "text": "And"
          },
          {
           "confidence": 0.96263,
           "end": 257452,
           "speaker": "B",
           "start": 257290,
           "text": "as"
          },
          {
           "confidence": 0.98547,
           "end": 257602,
           "speaker": "B",
           "start": 257470,
           "text": "far"
          },
          {
           "confidence": 0.99383,
           "end": 257752,
           "speaker": "B",
           "start": 257620,
           "text": "as"
          },
          {
           "confidence": 0.92,
           "end": 257947,
           "speaker": "B",
           "start": 257770,
           "text": "May"
          },
          {
           "confidence": 0.42878,
           "end": 258222,
           "speaker": "B",
           "start": 257980,
           "text": "Wes"
          },
          {
           "confidence": 0.99811,
           "end": 258517,
           "speaker": "B",
           "start": 258267,
           "text": "always"
          },
          {
           "confidence": 0.99696,
           "end": 258972,
           "speaker": "B",
           "start": 258565,
           "text": "admired"
          },
          {
           "confidence": 1,
           "end": 259177,
           "speaker": "B",
           "start": 259017,
           "text": "and"
          },
          {
           "confidence": 0.51039,
           "end": 259722,
           "speaker": "B",
           "start": 259195,
           "text": "respected"
          },
          {
           "confidence": 1,
           "end": 260017,
           "speaker": "B",
           "start": 259767,
           "text": "her"
          },
          {
           "confidence": 0.99973,
           "end": 260317,
           "speaker": "B",
           "start": 260065,
           "text": "because"
          },
          {
           "confidence": 0.83,
           "end": 260572,
           "speaker": "B",
           "start": 260365,
           "text": "of"
          },
          {
           "confidence": 1,
           "end": 260752,
           "speaker": "B",
           "start": 260605,
           "text": "her"
          },
          {
           "confidence": 0.71205,
           "end": 261082,
           "speaker": "B",
           "start": 260770,
           "text": "business"
          },
          {
           "confidence": 0.99623,
           "end": 261567,
           "speaker": "B",
           "start": 261160,
           "text": "knowledge"
          },
          {
           "confidence": 0.83835,
           "end": 261847,
           "speaker": "B",
           "start": 261627,
           "text": "as"
          },
          {
           "confidence": 0.99,
           "end": 262027,
           "speaker": "B",
           "start": 261880,
           "text": "a"
          },
          {
           "confidence": 0.79278,
           "end": 262722,
           "speaker": "B",
           "start": 262045,
           "text": "businesswoman"
          },
          {
           "confidence": 0.75,
           "end": 263017,
           "speaker": "B",
           "start": 262767,
           "text": "and"
          },
          {
           "confidence": 1,
           "end": 263182,
           "speaker": "B",
           "start": 263065,
           "text": "the"
          },
          {
           "confidence": 1,
           "end": 263302,
           "speaker": "B",
           "start": 263185,
           "text": "way"
          },
          {
           "confidence": 0.6222,
           "end": 263497,
           "speaker": "B",
           "start": 263320,
           "text": "she"
          },
          {
           "confidence": 0.99985,
           "end": 263722,
           "speaker": "B",
           "start": 263530,
           "text": "took"
          },
          {
           "confidence": 0.99898,
           "end": 263857,
           "speaker": "B",
           "start": 263755,
           "text": "care"
          },
          {
           "confidence": 1,
           "end": 263977,
           "speaker": "B",
           "start": 263860,
           "text": "of"
          },
          {
           "confidence": 1,
           "end": 264127,
           "speaker": "B",
           "start": 263995,
           "text": "her"
          },
          {
           "confidence": 0.99953,
           "end": 264412,
           "speaker": "B",
           "start": 264145,
           "text": "business."
          },
          {
           "confidence": 0.77812,
           "end": 265100,
           "speaker": "B",
           "start": 264475,
           "text": "But"
          },
          {
           "confidence": 0.99,
           "end": 266272,
           "speaker": "B",
           "start": 265912,
           "text": "I"
          },
          {
           "confidence": 0.97736,
           "end": 266697,
           "speaker": "B",
           "start": 266305,
           "text": "admire"
          },
          {
           "confidence": 0.99951,
           "end": 266992,
           "speaker": "B",
           "start": 266742,
           "text": "people"
          },
          {
           "confidence": 0.99873,
           "end": 267247,
           "speaker": "B",
           "start": 267040,
           "text": "like"
          },
          {
           "confidence": 1,
           "end": 267517,
           "speaker": "B",
           "start": 267280,
           "text": "that."
          },
          {
           "confidence": 0.97621,
           "end": 267772,
           "speaker": "B",
           "start": 267565,
           "text": "But"
          },
          {
           "confidence": 1,
           "end": 267952,
           "speaker": "B",
           "start": 267805,
           "text": "I"
          },
          {
           "confidence": 0.99437,
           "end": 268107,
           "speaker": "B",
           "start": 267970,
           "text": "don't"
          },
          {
           "confidence": 0.99932,
           "end": 268252,
           "speaker": "B",
           "start": 268122,
           "text": "have"
          },
          {
           "confidence": 0.99,
           "end": 268357,
           "speaker": "B",
           "start": 268270,
           "text": "a"
          },
          {
           "confidence": 0.99877,
           "end": 268602,
           "speaker": "B",
           "start": 268360,
           "text": "desire"
          },
          {
           "confidence": 0.97,
           "end": 268777,
           "speaker": "B",
           "start": 268632,
           "text": "to"
          },
          {
           "confidence": 0.99849,
           "end": 268927,
           "speaker": "B",
           "start": 268795,
           "text": "be"
          },
          {
           "confidence": 0.9991,
           "end": 269122,
           "speaker": "B",
           "start": 268945,
           "text": "like"
          },
          {
           "confidence": 0.99796,
           "end": 269347,
           "speaker": "B",
           "start": 269155,
           "text": "them."
          },
          {
           "confidence": 1,
           "end": 269482,
           "speaker": "B",
           "start": 269380,
           "text": "I"
          },
          {
           "confidence": 0.9973,
           "end": 269602,
           "speaker": "B",
           "start": 269485,
           "text": "want"
          },
          {
           "confidence": 1,
           "end": 269707,
           "speaker": "B",
           "start": 269620,
           "text": "to"
          },
          {
           "confidence": 0.99959,
           "end": 269827,
           "speaker": "B",
           "start": 269710,
           "text": "be"
          },
          {
           "confidence": 0.99917,
           "end": 270022,
           "speaker": "B",
           "start": 269845,
           "text": "like"
          },
          {
           "confidence": 0.9982,
           "end": 270650,
           "speaker": "B",
           "start": 270055,
           "text": "me."
          }
         ]
        },
        {
         "confidence": 0.25454,
         "end": 283325,
         "speaker": "A",
         "start": 282562,
         "text": "Good.",
         "words": [
          {
           "confidence": 0.25454,
           "end": 283325,
           "speaker": "A",
           "start": 282562,
           "text": "Good."
          }
         ]
        },
        {
         "confidence": 0.866359090909091,
         "end": 287450,
         "speaker": "B",
         "start": 284137,
         "text": "And you're going to mention the show before you do that.",
         "words": [
          {
           "confidence": 0.62,
           "end": 284587,
           "speaker": "B",
           "start": 284137,
           "text": "And"
          },
          {
           "confidence": 0.53343,
           "end": 284877,
           "speaker": "B",
           "start": 284650,
           "text": "you're"
          },
          {
           "confidence": 0.9984,
           "end": 285007,
           "speaker": "B",
           "start": 284907,
           "text": "going"
          },
          {
           "confidence": 1,
           "end": 285127,
           "speaker": "B",
           "start": 285010,
           "text": "to"
          },
          {
           "confidence": 0.99005,
           "end": 285322,
           "speaker": "B",
           "start": 285145,
           "text": "mention"
          },
          {
           "confidence": 0.94,
           "end": 285502,
           "speaker": "B",
           "start": 285355,
           "text": "the"
          },
          {
           "confidence": 0.99491,
           "end": 285922,
           "speaker": "B",
           "start": 285520,
           "text": "show"
          },
          {
           "confidence": 0.97745,
           "end": 286387,
           "speaker": "B",
           "start": 286030,
           "text": "before"
          },
          {
           "confidence": 0.98933,
           "end": 286627,
           "speaker": "B",
           "start": 286450,
           "text": "you"
          },
          {
           "confidence": 0.88638,
           "end": 286822,
           "speaker": "B",
           "start": 286645,
           "text": "do"
          },
          {
           "confidence": 0.6,
           "end": 287450,
           "speaker": "B",
           "start": 286855,
           "text": "that."
          }
         ]
        },
        {
         "confidence": 0.8367561111111111,
         "end": 292192,
         "speaker": "A",
         "start": 288637,
         "text": "So if you will go on up there, we'll shoot you up on the page with your email.",
         "words": [
          {
           "confidence": 0.53733,
           "end": 288952,
           "speaker": "A",
           "start": 288637,
           "text": "So"
          },
          {
           "confidence": 0.95517,
           "end": 289102,
           "speaker": "A",
           "start": 288970,
           "text": "if"
          },
          {
           "confidence": 0.98655,
           "end": 289252,
           "speaker": "A",
           "start": 289120,
           "text": "you"
          },
          {
           "confidence": 0.51903,
           "end": 289447,
           "speaker": "A",
           "start": 289270,
           "text": "will"
          },
          {
           "confidence": 0.96349,
           "end": 289627,
           "speaker": "A",
           "start": 289480,
           "text": "go"
          },
          {
           "confidence": 0.98,
           "end": 289777,
           "speaker": "A",
           "start": 289645,
           "text": "on"
          },
          {
           "confidence": 0.97,
           "end": 289927,
           "speaker": "A",
           "start": 289795,
           "text": "up"
          },
          {
           "confidence": 0.9927,
           "end": 290122,
           "speaker": "A",
           "start": 289945,
           "text": "there,"
          },
          {
           "confidence": 0.55836,
           "end": 290352,
           "speaker": "A",
           "start": 290155,
           "text": "we'll"
          },
          {
           "confidence": 0.93585,
           "end": 290577,
           "speaker": "A",
           "start": 290382,
           "text": "shoot"
          },
          {
           "confidence": 0.83916,
           "end": 290797,
           "speaker": "A",
           "start": 290607,
           "text": "you"
          },
          {
           "confidence": 0.95,
           "end": 290977,
           "speaker": "A",
           "start": 290830,
           "text": "up"
          },
          {
           "confidence": 0.98,
           "end": 291082,
           "speaker": "A",
           "start": 290995,
           "text": "on"
          },
          {
           "confidence": 0.87,
           "end": 291202,
           "speaker": "A",
           "start": 291085,
           "text": "the"
          },
          {
           "confidence": 0.71557,
           "end": 291442,
           "speaker": "A",
           "start": 291220,
           "text": "page"
          },
          {
           "confidence": 0.92295,
           "end": 291697,
           "speaker": "A",
           "start": 291490,
           "text": "with"
          },
          {
           "confidence": 0.97236,
           "end": 291922,
           "speaker": "A",
           "start": 291730,
           "text": "your"
          },
          {
           "confidence": 0.41309,
           "end": 292192,
           "speaker": "A",
           "start": 291955,
           "text": "email."
          }
         ]
        },
        {
         "confidence": 0.8999485714285715,
         "end": 294157,
         "speaker": "B",
         "start": 292240,
         "text": "Okay. We're not ready to play yet.",
         "words": [
          {
           "confidence": 0.61,
           "end": 292582,
           "speaker": "B",
           "start": 292240,
           "text": "Okay."
          },
          {
           "confidence": 0.88996,
           "end": 292857,
           "speaker": "B",
           "start": 292660,
           "text": "We're"
          },
          {
           "confidence": 0.98,
           "end": 293002,
           "speaker": "B",
           "start": 292872,
           "text": "not"
          },
          {
           "confidence": 0.92642,
           "end": 293152,
           "speaker": "B",
           "start": 293020,
           "text": "ready"
          },
          {
           "confidence": 0.91,
           "end": 293302,
           "speaker": "B",
           "start": 293170,
           "text": "to"
          },
          {
           "confidence": 0.99882,
           "end": 293542,
           "speaker": "B",
           "start": 293320,
           "text": "play"
          },
          {
           "confidence": 0.98444,
           "end": 294157,
           "speaker": "B",
           "start": 293590,
           "text": "yet."
          }
         ]
        },
        {
         "confidence": 0.7874760000000001,
         "end": 340037,
         "speaker": "A",
         "start": 294310,
         "text": "No, that's okay. If you just go on up there, we can get some shots of you. Thanks. You upstairs.",
         "words": [
          {
           "confidence": 0.76605,
           "end": 294577,
           "speaker": "A",
           "start": 294310,
           "text": "No,"
          },
          {
           "confidence": 0.99139,
           "end": 294807,
           "speaker": "A",
           "start": 294595,
           "text": "that's"
          },
          {
           "confidence": 0.99,
           "end": 294997,
           "speaker": "A",
           "start": 294822,
           "text": "okay."
          },
          {
           "confidence": 0.49517,
           "end": 295132,
           "speaker": "A",
           "start": 295030,
           "text": "If"
          },
          {
           "confidence": 0.83153,
           "end": 295252,
           "speaker": "A",
           "start": 295135,
           "text": "you"
          },
          {
           "confidence": 0.96329,
           "end": 295402,
           "speaker": "A",
           "start": 295270,
           "text": "just"
          },
          {
           "confidence": 0.74697,
           "end": 295597,
           "speaker": "A",
           "start": 295420,
           "text": "go"
          },
          {
           "confidence": 0.98,
           "end": 295777,
           "speaker": "A",
           "start": 295630,
           "text": "on"
          },
          {
           "confidence": 1,
           "end": 295882,
           "speaker": "A",
           "start": 295795,
           "text": "up"
          },
          {
           "confidence": 0.97687,
           "end": 296047,
           "speaker": "A",
           "start": 295885,
           "text": "there,"
          },
          {
           "confidence": 0.66295,
           "end": 296227,
           "speaker": "A",
           "start": 296080,
           "text": "we"
          },
          {
           "confidence": 0.47877,
           "end": 296377,
           "speaker": "A",
           "start": 296245,
           "text": "can"
          },
          {
           "confidence": 0.58054,
           "end": 296572,
           "speaker": "A",
           "start": 296395,
           "text": "get"
          },
          {
           "confidence": 0.97882,
           "end": 296887,
           "speaker": "A",
           "start": 296605,
           "text": "some"
          },
          {
           "confidence": 0.89103,
           "end": 297252,
           "speaker": "A",
           "start": 296950,
           "text": "shots"
          },
          {
           "confidence": 0.45,
           "end": 297427,
           "speaker": "A",
           "start": 297282,
           "text": "of"
          },
          {
           "confidence": 0.96507,
           "end": 297892,
           "speaker": "A",
           "start": 297445,
           "text": "you."
          },
          {
           "confidence": 0.98822,
           "end": 298700,
           "speaker": "A",
           "start": 298015,
           "text": "Thanks."
          },
          {
           "confidence": 0.36861,
           "end": 339022,
           "speaker": "A",
           "start": 338662,
           "text": "You"
          },
          {
           "confidence": 0.64424,
           "end": 340037,
           "speaker": "A",
           "start": 339055,
           "text": "upstairs."
          }
         ]
        },
        {
         "confidence": 0.71,
         "end": 482000,
         "speaker": "B",
         "start": 481237,
         "text": "Okay.",
         "words": [
          {
           "confidence": 0.71,
           "end": 482000,
           "speaker": "B",
           "start": 481237,
           "text": "Okay."
          }
         ]
        },
        {
         "confidence": 0.9029355714285714,
         "end": 591975,
         "speaker": "A",
         "start": 483112,
         "text": "The dolly with the cotton candy hairs so far is not deserting her country fans, but she is looking for even bigger audiences. And to do that, she must appeal to the pop and rock crowd. Something like Here You Come again. Currently number one on the charts. Fits that formula. Giraffe weigh £150 at birth, £400 at four months, and in five days at maturity, they weigh a happy.",
         "words": [
          {
           "confidence": 0.99,
           "end": 483427,
           "speaker": "A",
           "start": 483112,
           "text": "The"
          },
          {
           "confidence": 0.99193,
           "end": 483777,
           "speaker": "A",
           "start": 483445,
           "text": "dolly"
          },
          {
           "confidence": 0.99784,
           "end": 483907,
           "speaker": "A",
           "start": 483807,
           "text": "with"
          },
          {
           "confidence": 0.65,
           "end": 484027,
           "speaker": "A",
           "start": 483910,
           "text": "the"
          },
          {
           "confidence": 0.99809,
           "end": 484422,
           "speaker": "A",
           "start": 484045,
           "text": "cotton"
          },
          {
           "confidence": 0.94016,
           "end": 484872,
           "speaker": "A",
           "start": 484467,
           "text": "candy"
          },
          {
           "confidence": 0.78045,
           "end": 485322,
           "speaker": "A",
           "start": 484917,
           "text": "hairs"
          },
          {
           "confidence": 0.99536,
           "end": 485572,
           "speaker": "A",
           "start": 485367,
           "text": "so"
          },
          {
           "confidence": 0.99953,
           "end": 485842,
           "speaker": "A",
           "start": 485605,
           "text": "far"
          },
          {
           "confidence": 0.99068,
           "end": 486052,
           "speaker": "A",
           "start": 485890,
           "text": "is"
          },
          {
           "confidence": 1,
           "end": 486202,
           "speaker": "A",
           "start": 486070,
           "text": "not"
          },
          {
           "confidence": 0.62616,
           "end": 486702,
           "speaker": "A",
           "start": 486220,
           "text": "deserting"
          },
          {
           "confidence": 1,
           "end": 486922,
           "speaker": "A",
           "start": 486732,
           "text": "her"
          },
          {
           "confidence": 0.99944,
           "end": 487192,
           "speaker": "A",
           "start": 486955,
           "text": "country"
          },
          {
           "confidence": 0.92749,
           "end": 487707,
           "speaker": "A",
           "start": 487240,
           "text": "fans,"
          },
          {
           "confidence": 0.99869,
           "end": 488002,
           "speaker": "A",
           "start": 487797,
           "text": "but"
          },
          {
           "confidence": 0.99866,
           "end": 488197,
           "speaker": "A",
           "start": 488020,
           "text": "she"
          },
          {
           "confidence": 0.98298,
           "end": 488422,
           "speaker": "A",
           "start": 488230,
           "text": "is"
          },
          {
           "confidence": 0.99918,
           "end": 488692,
           "speaker": "A",
           "start": 488455,
           "text": "looking"
          },
          {
           "confidence": 0.99873,
           "end": 488992,
           "speaker": "A",
           "start": 488740,
           "text": "for"
          },
          {
           "confidence": 0.99812,
           "end": 489247,
           "speaker": "A",
           "start": 489040,
           "text": "even"
          },
          {
           "confidence": 0.99953,
           "end": 489627,
           "speaker": "A",
           "start": 489280,
           "text": "bigger"
          },
          {
           "confidence": 0.98472,
           "end": 490272,
           "speaker": "A",
           "start": 489657,
           "text": "audiences."
          },
          {
           "confidence": 0.98,
           "end": 490477,
           "speaker": "A",
           "start": 490317,
           "text": "And"
          },
          {
           "confidence": 1,
           "end": 490627,
           "speaker": "A",
           "start": 490495,
           "text": "to"
          },
          {
           "confidence": 0.99533,
           "end": 490822,
           "speaker": "A",
           "start": 490645,
           "text": "do"
          },
          {
           "confidence": 1,
           "end": 491092,
           "speaker": "A",
           "start": 490855,
           "text": "that,"
          },
          {
           "confidence": 0.9961,
           "end": 491347,
           "speaker": "A",
           "start": 491140,
           "text": "she"
          },
          {
           "confidence": 0.99845,
           "end": 491572,
           "speaker": "A",
           "start": 491380,
           "text": "must"
          },
          {
           "confidence": 0.98332,
           "end": 491877,
           "speaker": "A",
           "start": 491605,
           "text": "appeal"
          },
          {
           "confidence": 1,
           "end": 492052,
           "speaker": "A",
           "start": 491907,
           "text": "to"
          },
          {
           "confidence": 1,
           "end": 492202,
           "speaker": "A",
           "start": 492070,
           "text": "the"
          },
          {
           "confidence": 0.99223,
           "end": 492442,
           "speaker": "A",
           "start": 492220,
           "text": "pop"
          },
          {
           "confidence": 0.77,
           "end": 492652,
           "speaker": "A",
           "start": 492490,
           "text": "and"
          },
          {
           "confidence": 0.97316,
           "end": 492897,
           "speaker": "A",
           "start": 492670,
           "text": "rock"
          },
          {
           "confidence": 0.98599,
           "end": 493662,
           "speaker": "A",
           "start": 492942,
           "text": "crowd."
          },
          {
           "confidence": 0.99927,
           "end": 494212,
           "speaker": "A",
           "start": 493812,
           "text": "Something"
          },
          {
           "confidence": 0.9991,
           "end": 494632,
           "speaker": "A",
           "start": 494275,
           "text": "like"
          },
          {
           "confidence": 0.99874,
           "end": 494947,
           "speaker": "A",
           "start": 494710,
           "text": "Here"
          },
          {
           "confidence": 0.81896,
           "end": 495217,
           "speaker": "A",
           "start": 494980,
           "text": "You"
          },
          {
           "confidence": 0.9998,
           "end": 495472,
           "speaker": "A",
           "start": 495265,
           "text": "Come"
          },
          {
           "confidence": 0.9987,
           "end": 495877,
           "speaker": "A",
           "start": 495505,
           "text": "again."
          },
          {
           "confidence": 0.99912,
           "end": 496402,
           "speaker": "A",
           "start": 495970,
           "text": "Currently"
          },
          {
           "confidence": 0.96321,
           "end": 496792,
           "speaker": "A",
           "start": 496495,
           "text": "number"
          },
          {
           "confidence": 1,
           "end": 497002,
           "speaker": "A",
           "start": 496840,
           "text": "one"
          },
          {
           "confidence": 0.78,
           "end": 497152,
           "speaker": "A",
           "start": 497020,
           "text": "on"
          },
          {
           "confidence": 0.99,
           "end": 497302,
           "speaker": "A",
           "start": 497170,
           "text": "the"
          },
          {
           "confidence": 0.94667,
           "end": 497757,
           "speaker": "A",
           "start": 497320,
           "text": "charts."
          },
          {
           "confidence": 0.98519,
           "end": 498252,
           "speaker": "A",
           "start": 497847,
           "text": "Fits"
          },
          {
           "confidence": 1,
           "end": 498472,
           "speaker": "A",
           "start": 498282,
           "text": "that"
          },
          {
           "confidence": 0.6483,
           "end": 499412,
           "speaker": "A",
           "start": 498505,
           "text": "formula."
          },
          {
           "confidence": 0.59151,
           "end": 584257,
           "speaker": "A",
           "start": 583562,
           "text": "Giraffe"
          },
          {
           "confidence": 0.82174,
           "end": 584527,
           "speaker": "A",
           "start": 584272,
           "text": "weigh"
          },
          {
           "confidence": 0.88,
           "end": 585922,
           "speaker": "A",
           "start": 584557,
           "text": "£150"
          },
          {
           "confidence": 0.99,
           "end": 586127,
           "speaker": "A",
           "start": 585967,
           "text": "at"
          },
          {
           "confidence": 0.62923,
           "end": 586672,
           "speaker": "A",
           "start": 586145,
           "text": "birth,"
          },
          {
           "confidence": 0.96,
           "end": 587827,
           "speaker": "A",
           "start": 586792,
           "text": "£400"
          },
          {
           "confidence": 0.97,
           "end": 588002,
           "speaker": "A",
           "start": 587857,
           "text": "at"
          },
          {
           "confidence": 1,
           "end": 588242,
           "speaker": "A",
           "start": 588020,
           "text": "four"
          },
          {
           "confidence": 0.98506,
           "end": 588677,
           "speaker": "A",
           "start": 588290,
           "text": "months,"
          },
          {
           "confidence": 0.83,
           "end": 589022,
           "speaker": "A",
           "start": 588770,
           "text": "and"
          },
          {
           "confidence": 0.92627,
           "end": 589247,
           "speaker": "A",
           "start": 589055,
           "text": "in"
          },
          {
           "confidence": 0.99,
           "end": 589472,
           "speaker": "A",
           "start": 589280,
           "text": "five"
          },
          {
           "confidence": 0.42477,
           "end": 589787,
           "speaker": "A",
           "start": 589505,
           "text": "days"
          },
          {
           "confidence": 0.63,
           "end": 589982,
           "speaker": "A",
           "start": 589850,
           "text": "at"
          },
          {
           "confidence": 0.91212,
           "end": 590572,
           "speaker": "A",
           "start": 589985,
           "text": "maturity,"
          },
          {
           "confidence": 0.83994,
           "end": 590972,
           "speaker": "A",
           "start": 590692,
           "text": "they"
          },
          {
           "confidence": 0.53806,
           "end": 591232,
           "speaker": "A",
           "start": 591005,
           "text": "weigh"
          },
          {
           "confidence": 0.49,
           "end": 591377,
           "speaker": "A",
           "start": 591247,
           "text": "a"
          },
          {
           "confidence": 0.14741,
           "end": 591975,
           "speaker": "A",
           "start": 591395,
           "text": "happy."
          }
         ]
        },
        {
         "confidence": 0.5412049999999999,
         "end": 681925,
         "speaker": "B",
         "start": 644512,
         "text": "All right there, Jimmy.",
         "words": [
          {
           "confidence": 0.2,
           "end": 644872,
           "speaker": "B",
           "start": 644512,
           "text": "All"
          },
          {
           "confidence": 1,
           "end": 645500,
           "speaker": "B",
           "start": 644905,
           "text": "right"
          },
          {
           "confidence": 0.43827,
           "end": 679712,
           "speaker": "B",
           "start": 678950,
           "text": "there,"
          },
          {
           "confidence": 0.52655,
           "end": 681925,
           "speaker": "A",
           "start": 681575,
           "text": "Jimmy."
          }
         ]
        }
       ],
       "webhook_auth": false,
       "webhook_auth_header_name": null,
       "webhook_status_code": null,
       "webhook_url": null,
       "word_boost": [],
       "words": [
        {
         "confidence": 0.90048,
         "end": 1282,
         "speaker": "A",
         "start": 987,
         "text": "Hello."
        },
        {
         "confidence": 0.99013,
         "end": 1597,
         "speaker": "A",
         "start": 1360,
         "text": "Nice"
        },
        {
         "confidence": 0.71,
         "end": 1777,
         "speaker": "A",
         "start": 1630,
         "text": "to"
        },
        {
         "confidence": 0.98235,
         "end": 1972,
         "speaker": "A",
         "start": 1795,
         "text": "meet"
        },
        {
         "confidence": 0.97564,
         "end": 2600,
         "speaker": "A",
         "start": 2005,
         "text": "you."
        },
        {
         "confidence": 0.9153,
         "end": 12337,
         "speaker": "B",
         "start": 11887,
         "text": "Yes,"
        },
        {
         "confidence": 0.96,
         "end": 13025,
         "speaker": "B",
         "start": 12400,
         "text": "right."
        },
        {
         "confidence": 0.55603,
         "end": 16262,
         "speaker": "B",
         "start": 15337,
         "text": "Michael."
        },
        {
         "confidence": 0.94046,
         "end": 39702,
         "speaker": "A",
         "start": 39187,
         "text": "Dolly,"
        },
        {
         "confidence": 0.99904,
         "end": 39877,
         "speaker": "A",
         "start": 39732,
         "text": "do"
        },
        {
         "confidence": 0.99972,
         "end": 40027,
         "speaker": "A",
         "start": 39895,
         "text": "you"
        },
        {
         "confidence": 0.99982,
         "end": 40222,
         "speaker": "A",
         "start": 40045,
         "text": "see"
        },
        {
         "confidence": 1,
         "end": 40402,
         "speaker": "A",
         "start": 40255,
         "text": "a"
        },
        {
         "confidence": 0.99914,
         "end": 40822,
         "speaker": "A",
         "start": 40420,
         "text": "time"
        },
        {
         "confidence": 0.99944,
         "end": 41242,
         "speaker": "A",
         "start": 40930,
         "text": "when"
        },
        {
         "confidence": 0.97134,
         "end": 41632,
         "speaker": "A",
         "start": 41290,
         "text": "your"
        },
        {
         "confidence": 0.99996,
         "end": 42082,
         "speaker": "A",
         "start": 41710,
         "text": "country"
        },
        {
         "confidence": 0.99892,
         "end": 42487,
         "speaker": "A",
         "start": 42160,
         "text": "music"
        },
        {
         "confidence": 0.99901,
         "end": 42772,
         "speaker": "A",
         "start": 42550,
         "text": "will"
        },
        {
         "confidence": 0.99574,
         "end": 43077,
         "speaker": "A",
         "start": 42805,
         "text": "fade"
        },
        {
         "confidence": 0.99788,
         "end": 43297,
         "speaker": "A",
         "start": 43107,
         "text": "into"
        },
        {
         "confidence": 0.95,
         "end": 43522,
         "speaker": "A",
         "start": 43330,
         "text": "the"
        },
        {
         "confidence": 1,
         "end": 44017,
         "speaker": "A",
         "start": 43555,
         "text": "past?"
        },
        {
         "confidence": 0.7,
         "end": 44422,
         "speaker": "B",
         "start": 44140,
         "text": "Oh,"
        },
        {
         "confidence": 1,
         "end": 44602,
         "speaker": "B",
         "start": 44455,
         "text": "I"
        },
        {
         "confidence": 0.99135,
         "end": 44802,
         "speaker": "B",
         "start": 44620,
         "text": "don't"
        },
        {
         "confidence": 0.99958,
         "end": 45022,
         "speaker": "B",
         "start": 44832,
         "text": "think"
        },
        {
         "confidence": 0.99761,
         "end": 45292,
         "speaker": "B",
         "start": 45055,
         "text": "so."
        },
        {
         "confidence": 1,
         "end": 45502,
         "speaker": "B",
         "start": 45340,
         "text": "I"
        },
        {
         "confidence": 0.99897,
         "end": 45652,
         "speaker": "B",
         "start": 45520,
         "text": "think"
        },
        {
         "confidence": 0.83516,
         "end": 45942,
         "speaker": "B",
         "start": 45670,
         "text": "I'm"
        },
        {
         "confidence": 0.99916,
         "end": 46222,
         "speaker": "B",
         "start": 46002,
         "text": "far"
        },
        {
         "confidence": 0.86316,
         "end": 46492,
         "speaker": "B",
         "start": 46255,
         "text": "too"
        },
        {
         "confidence": 0.98474,
         "end": 47107,
         "speaker": "B",
         "start": 46540,
         "text": "country"
        },
        {
         "confidence": 0.99847,
         "end": 47752,
         "speaker": "B",
         "start": 47260,
         "text": "for"
        },
        {
         "confidence": 0.99867,
         "end": 48142,
         "speaker": "B",
         "start": 47845,
         "text": "my"
        },
        {
         "confidence": 0.99992,
         "end": 48442,
         "speaker": "B",
         "start": 48190,
         "text": "country"
        },
        {
         "confidence": 0.9993,
         "end": 48742,
         "speaker": "B",
         "start": 48490,
         "text": "music"
        },
        {
         "confidence": 1,
         "end": 48952,
         "speaker": "B",
         "start": 48790,
         "text": "to"
        },
        {
         "confidence": 0.98689,
         "end": 49182,
         "speaker": "B",
         "start": 48970,
         "text": "fade"
        },
        {
         "confidence": 0.99231,
         "end": 49372,
         "speaker": "B",
         "start": 49197,
         "text": "into"
        },
        {
         "confidence": 1,
         "end": 49552,
         "speaker": "B",
         "start": 49405,
         "text": "the"
        },
        {
         "confidence": 0.99,
         "end": 49747,
         "speaker": "B",
         "start": 49570,
         "text": "past."
        },
        {
         "confidence": 0.73949,
         "end": 49927,
         "speaker": "B",
         "start": 49780,
         "text": "But"
        },
        {
         "confidence": 0.99715,
         "end": 50122,
         "speaker": "B",
         "start": 49945,
         "text": "this"
        },
        {
         "confidence": 0.93,
         "end": 50437,
         "speaker": "B",
         "start": 50155,
         "text": "past"
        },
        {
         "confidence": 0.50965,
         "end": 50992,
         "speaker": "B",
         "start": 50500,
         "text": "year,"
        },
        {
         "confidence": 0.81286,
         "end": 51402,
         "speaker": "B",
         "start": 51115,
         "text": "I've"
        },
        {
         "confidence": 0.99968,
         "end": 51622,
         "speaker": "B",
         "start": 51432,
         "text": "been"
        },
        {
         "confidence": 0.99975,
         "end": 51892,
         "speaker": "B",
         "start": 51655,
         "text": "trying"
        },
        {
         "confidence": 0.69,
         "end": 52192,
         "speaker": "B",
         "start": 51940,
         "text": "to"
        },
        {
         "confidence": 0.99971,
         "end": 52447,
         "speaker": "B",
         "start": 52240,
         "text": "do"
        },
        {
         "confidence": 0.98674,
         "end": 52672,
         "speaker": "B",
         "start": 52480,
         "text": "some"
        },
        {
         "confidence": 0.99897,
         "end": 52897,
         "speaker": "B",
         "start": 52705,
         "text": "things"
        },
        {
         "confidence": 1,
         "end": 53077,
         "speaker": "B",
         "start": 52930,
         "text": "that"
        },
        {
         "confidence": 0.99546,
         "end": 53272,
         "speaker": "B",
         "start": 53095,
         "text": "could"
        },
        {
         "confidence": 0.99962,
         "end": 53452,
         "speaker": "B",
         "start": 53305,
         "text": "be"
        },
        {
         "confidence": 0.99214,
         "end": 53952,
         "speaker": "B",
         "start": 53470,
         "text": "accepted"
        },
        {
         "confidence": 0.98786,
         "end": 54127,
         "speaker": "B",
         "start": 53982,
         "text": "in"
        },
        {
         "confidence": 0.99888,
         "end": 54322,
         "speaker": "B",
         "start": 54145,
         "text": "other"
        },
        {
         "confidence": 0.57709,
         "end": 54702,
         "speaker": "B",
         "start": 54355,
         "text": "fields"
        },
        {
         "confidence": 0.99,
         "end": 54877,
         "speaker": "B",
         "start": 54732,
         "text": "of"
        },
        {
         "confidence": 0.99993,
         "end": 55342,
         "speaker": "B",
         "start": 54895,
         "text": "music."
        },
        {
         "confidence": 0.93032,
         "end": 56017,
         "speaker": "B",
         "start": 55465,
         "text": "But"
        },
        {
         "confidence": 0.88,
         "end": 56377,
         "speaker": "B",
         "start": 56140,
         "text": "I"
        },
        {
         "confidence": 0.99892,
         "end": 56617,
         "speaker": "B",
         "start": 56395,
         "text": "guess"
        },
        {
         "confidence": 0.96837,
         "end": 57012,
         "speaker": "B",
         "start": 56665,
         "text": "I'll"
        },
        {
         "confidence": 0.99812,
         "end": 57277,
         "speaker": "B",
         "start": 57087,
         "text": "be"
        },
        {
         "confidence": 0.93769,
         "end": 57522,
         "speaker": "B",
         "start": 57295,
         "text": "writing"
        },
        {
         "confidence": 0.96764,
         "end": 57817,
         "speaker": "B",
         "start": 57567,
         "text": "country"
        },
        {
         "confidence": 0.94046,
         "end": 58107,
         "speaker": "B",
         "start": 57865,
         "text": "songs"
        },
        {
         "confidence": 0.99475,
         "end": 58252,
         "speaker": "B",
         "start": 58122,
         "text": "as"
        },
        {
         "confidence": 0.99955,
         "end": 58357,
         "speaker": "B",
         "start": 58270,
         "text": "long"
        },
        {
         "confidence": 0.99793,
         "end": 58477,
         "speaker": "B",
         "start": 58360,
         "text": "as"
        },
        {
         "confidence": 1,
         "end": 58627,
         "speaker": "B",
         "start": 58495,
         "text": "I"
        },
        {
         "confidence": 1,
         "end": 58777,
         "speaker": "B",
         "start": 58645,
         "text": "live"
        },
        {
         "confidence": 0.92425,
         "end": 58972,
         "speaker": "B",
         "start": 58795,
         "text": "because"
        },
        {
         "confidence": 0.81,
         "end": 59152,
         "speaker": "B",
         "start": 59005,
         "text": "I"
        },
        {
         "confidence": 0.99921,
         "end": 59302,
         "speaker": "B",
         "start": 59170,
         "text": "have"
        },
        {
         "confidence": 0.99671,
         "end": 59452,
         "speaker": "B",
         "start": 59320,
         "text": "too"
        },
        {
         "confidence": 0.99998,
         "end": 59692,
         "speaker": "B",
         "start": 59470,
         "text": "many"
        },
        {
         "confidence": 0.99667,
         "end": 60037,
         "speaker": "B",
         "start": 59740,
         "text": "country"
        },
        {
         "confidence": 0.99775,
         "end": 60447,
         "speaker": "B",
         "start": 60100,
         "text": "memories,"
        },
        {
         "confidence": 0.89,
         "end": 60607,
         "speaker": "B",
         "start": 60492,
         "text": "and"
        },
        {
         "confidence": 0.99,
         "end": 60727,
         "speaker": "B",
         "start": 60610,
         "text": "I"
        },
        {
         "confidence": 0.99605,
         "end": 60877,
         "speaker": "B",
         "start": 60745,
         "text": "was"
        },
        {
         "confidence": 0.89288,
         "end": 61122,
         "speaker": "B",
         "start": 60895,
         "text": "brought"
        },
        {
         "confidence": 1,
         "end": 61552,
         "speaker": "B",
         "start": 61167,
         "text": "up"
        },
        {
         "confidence": 0.99474,
         "end": 61852,
         "speaker": "B",
         "start": 61645,
         "text": "in"
        },
        {
         "confidence": 0.89,
         "end": 62047,
         "speaker": "B",
         "start": 61870,
         "text": "a"
        },
        {
         "confidence": 0.99932,
         "end": 62272,
         "speaker": "B",
         "start": 62080,
         "text": "big"
        },
        {
         "confidence": 0.99969,
         "end": 62542,
         "speaker": "B",
         "start": 62305,
         "text": "family"
        },
        {
         "confidence": 0.48,
         "end": 62752,
         "speaker": "B",
         "start": 62590,
         "text": "and"
        },
        {
         "confidence": 0.97415,
         "end": 62952,
         "speaker": "B",
         "start": 62770,
         "text": "lived"
        },
        {
         "confidence": 1,
         "end": 63082,
         "speaker": "B",
         "start": 62982,
         "text": "on"
        },
        {
         "confidence": 0.83,
         "end": 63202,
         "speaker": "B",
         "start": 63085,
         "text": "a"
        },
        {
         "confidence": 0.99697,
         "end": 63432,
         "speaker": "B",
         "start": 63220,
         "text": "farm"
        },
        {
         "confidence": 0.96,
         "end": 63577,
         "speaker": "B",
         "start": 63447,
         "text": "and"
        },
        {
         "confidence": 1,
         "end": 63727,
         "speaker": "B",
         "start": 63595,
         "text": "all"
        },
        {
         "confidence": 1,
         "end": 64012,
         "speaker": "B",
         "start": 63745,
         "text": "that,"
        },
        {
         "confidence": 0.59,
         "end": 64252,
         "speaker": "B",
         "start": 64075,
         "text": "and"
        },
        {
         "confidence": 0.99889,
         "end": 64492,
         "speaker": "B",
         "start": 64270,
         "text": "country"
        },
        {
         "confidence": 0.99358,
         "end": 64747,
         "speaker": "B",
         "start": 64540,
         "text": "music"
        },
        {
         "confidence": 0.66283,
         "end": 64927,
         "speaker": "B",
         "start": 64780,
         "text": "is"
        },
        {
         "confidence": 0.99961,
         "end": 65077,
         "speaker": "B",
         "start": 64945,
         "text": "my"
        },
        {
         "confidence": 1,
         "end": 65272,
         "speaker": "B",
         "start": 65095,
         "text": "first"
        },
        {
         "confidence": 0.99863,
         "end": 65497,
         "speaker": "B",
         "start": 65305,
         "text": "love."
        },
        {
         "confidence": 0.95422,
         "end": 65677,
         "speaker": "B",
         "start": 65530,
         "text": "But"
        },
        {
         "confidence": 1,
         "end": 65872,
         "speaker": "B",
         "start": 65695,
         "text": "I"
        },
        {
         "confidence": 0.53691,
         "end": 66097,
         "speaker": "B",
         "start": 65905,
         "text": "tried"
        },
        {
         "confidence": 1,
         "end": 66457,
         "speaker": "B",
         "start": 66130,
         "text": "to"
        },
        {
         "confidence": 0.99952,
         "end": 66727,
         "speaker": "B",
         "start": 66535,
         "text": "look"
        },
        {
         "confidence": 1,
         "end": 66877,
         "speaker": "B",
         "start": 66745,
         "text": "at"
        },
        {
         "confidence": 0.99988,
         "end": 67027,
         "speaker": "B",
         "start": 66895,
         "text": "my"
        },
        {
         "confidence": 0.54085,
         "end": 67267,
         "speaker": "B",
         "start": 67045,
         "text": "work"
        },
        {
         "confidence": 0.99096,
         "end": 67522,
         "speaker": "B",
         "start": 67315,
         "text": "as"
        },
        {
         "confidence": 0.93,
         "end": 67657,
         "speaker": "B",
         "start": 67555,
         "text": "a"
        },
        {
         "confidence": 0.9726,
         "end": 67947,
         "speaker": "B",
         "start": 67660,
         "text": "joy,"
        },
        {
         "confidence": 0.98993,
         "end": 68197,
         "speaker": "B",
         "start": 67992,
         "text": "as"
        },
        {
         "confidence": 0.99,
         "end": 68377,
         "speaker": "B",
         "start": 68230,
         "text": "a"
        },
        {
         "confidence": 0.99979,
         "end": 68617,
         "speaker": "B",
         "start": 68395,
         "text": "job,"
        },
        {
         "confidence": 0.93,
         "end": 68962,
         "speaker": "B",
         "start": 68665,
         "text": "and"
        },
        {
         "confidence": 0.96254,
         "end": 69247,
         "speaker": "B",
         "start": 69025,
         "text": "as"
        },
        {
         "confidence": 0.88,
         "end": 69832,
         "speaker": "B",
         "start": 69280,
         "text": "a"
        },
        {
         "confidence": 0.99999,
         "end": 70477,
         "speaker": "B",
         "start": 69985,
         "text": "business"
        },
        {
         "confidence": 0.97536,
         "end": 70912,
         "speaker": "B",
         "start": 70570,
         "text": "person"
        },
        {
         "confidence": 0.99724,
         "end": 71152,
         "speaker": "B",
         "start": 70975,
         "text": "as"
        },
        {
         "confidence": 0.99868,
         "end": 71392,
         "speaker": "B",
         "start": 71170,
         "text": "well."
        },
        {
         "confidence": 0.87154,
         "end": 71602,
         "speaker": "B",
         "start": 71440,
         "text": "So"
        },
        {
         "confidence": 0.99001,
         "end": 71757,
         "speaker": "B",
         "start": 71620,
         "text": "I'm"
        },
        {
         "confidence": 0.59717,
         "end": 71947,
         "speaker": "B",
         "start": 71772,
         "text": "trying"
        },
        {
         "confidence": 0.99,
         "end": 72172,
         "speaker": "B",
         "start": 71980,
         "text": "to"
        },
        {
         "confidence": 0.99989,
         "end": 72397,
         "speaker": "B",
         "start": 72205,
         "text": "COVID"
        },
        {
         "confidence": 0.99752,
         "end": 72577,
         "speaker": "B",
         "start": 72430,
         "text": "as"
        },
        {
         "confidence": 0.99992,
         "end": 72772,
         "speaker": "B",
         "start": 72595,
         "text": "much"
        },
        {
         "confidence": 0.94389,
         "end": 73047,
         "speaker": "B",
         "start": 72805,
         "text": "ground"
        },
        {
         "confidence": 0.99923,
         "end": 73252,
         "speaker": "B",
         "start": 73092,
         "text": "as"
        },
        {
         "confidence": 1,
         "end": 73402,
         "speaker": "B",
         "start": 73270,
         "text": "I"
        },
        {
         "confidence": 0.99521,
         "end": 73597,
         "speaker": "B",
         "start": 73420,
         "text": "can."
        },
        {
         "confidence": 0.96602,
         "end": 73957,
         "speaker": "B",
         "start": 73630,
         "text": "But"
        },
        {
         "confidence": 1,
         "end": 74227,
         "speaker": "B",
         "start": 74035,
         "text": "I"
        },
        {
         "confidence": 0.99877,
         "end": 74422,
         "speaker": "B",
         "start": 74245,
         "text": "hope"
        },
        {
         "confidence": 0.50847,
         "end": 74737,
         "speaker": "B",
         "start": 74455,
         "text": "country"
        },
        {
         "confidence": 0.99621,
         "end": 75112,
         "speaker": "B",
         "start": 74800,
         "text": "music"
        },
        {
         "confidence": 0.9881,
         "end": 75352,
         "speaker": "B",
         "start": 75175,
         "text": "is"
        },
        {
         "confidence": 0.99896,
         "end": 75547,
         "speaker": "B",
         "start": 75370,
         "text": "always"
        },
        {
         "confidence": 0.71688,
         "end": 75817,
         "speaker": "B",
         "start": 75580,
         "text": "around,"
        },
        {
         "confidence": 0.89,
         "end": 75982,
         "speaker": "B",
         "start": 75865,
         "text": "and"
        },
        {
         "confidence": 0.99,
         "end": 76102,
         "speaker": "B",
         "start": 75985,
         "text": "I"
        },
        {
         "confidence": 0.99953,
         "end": 76252,
         "speaker": "B",
         "start": 76120,
         "text": "think"
        },
        {
         "confidence": 0.97031,
         "end": 76357,
         "speaker": "B",
         "start": 76270,
         "text": "it"
        },
        {
         "confidence": 0.99475,
         "end": 76522,
         "speaker": "B",
         "start": 76360,
         "text": "will"
        },
        {
         "confidence": 0.76385,
         "end": 77150,
         "speaker": "B",
         "start": 76555,
         "text": "be."
        },
        {
         "confidence": 0.66721,
         "end": 78372,
         "speaker": "A",
         "start": 77812,
         "text": "Sally,"
        },
        {
         "confidence": 0.9773,
         "end": 78622,
         "speaker": "A",
         "start": 78417,
         "text": "as"
        },
        {
         "confidence": 0.99206,
         "end": 78847,
         "speaker": "A",
         "start": 78655,
         "text": "your"
        },
        {
         "confidence": 0.9979,
         "end": 79392,
         "speaker": "A",
         "start": 78880,
         "text": "musical"
        },
        {
         "confidence": 0.99734,
         "end": 79872,
         "speaker": "A",
         "start": 79452,
         "text": "image"
        },
        {
         "confidence": 0.99895,
         "end": 80302,
         "speaker": "A",
         "start": 79917,
         "text": "changes,"
        },
        {
         "confidence": 0.99901,
         "end": 80647,
         "speaker": "A",
         "start": 80395,
         "text": "do"
        },
        {
         "confidence": 0.9992,
         "end": 80827,
         "speaker": "A",
         "start": 80680,
         "text": "you"
        },
        {
         "confidence": 0.9975,
         "end": 81022,
         "speaker": "A",
         "start": 80845,
         "text": "see"
        },
        {
         "confidence": 1,
         "end": 81202,
         "speaker": "A",
         "start": 81055,
         "text": "that"
        },
        {
         "confidence": 0.40182,
         "end": 81522,
         "speaker": "A",
         "start": 81220,
         "text": "you'll"
        },
        {
         "confidence": 0.99974,
         "end": 81817,
         "speaker": "A",
         "start": 81567,
         "text": "change"
        },
        {
         "confidence": 0.99875,
         "end": 82072,
         "speaker": "A",
         "start": 81865,
         "text": "your"
        },
        {
         "confidence": 0.99584,
         "end": 82542,
         "speaker": "A",
         "start": 82105,
         "text": "fashion"
        },
        {
         "confidence": 0.99765,
         "end": 83097,
         "speaker": "A",
         "start": 82602,
         "text": "image?"
        },
        {
         "confidence": 0.9954,
         "end": 83842,
         "speaker": "A",
         "start": 83142,
         "text": "Maybe"
        },
        {
         "confidence": 0.99595,
         "end": 84352,
         "speaker": "A",
         "start": 84040,
         "text": "you"
        },
        {
         "confidence": 0.78093,
         "end": 84627,
         "speaker": "A",
         "start": 84370,
         "text": "won't"
        },
        {
         "confidence": 0.99969,
         "end": 84802,
         "speaker": "A",
         "start": 84657,
         "text": "have"
        },
        {
         "confidence": 1,
         "end": 84952,
         "speaker": "A",
         "start": 84820,
         "text": "the"
        },
        {
         "confidence": 0.97565,
         "end": 85302,
         "speaker": "A",
         "start": 84970,
         "text": "wigs"
        },
        {
         "confidence": 0.99226,
         "end": 85797,
         "speaker": "A",
         "start": 85332,
         "text": "anymore,"
        },
        {
         "confidence": 0.68,
         "end": 86002,
         "speaker": "A",
         "start": 85842,
         "text": "and"
        },
        {
         "confidence": 0.99819,
         "end": 86152,
         "speaker": "A",
         "start": 86020,
         "text": "maybe"
        },
        {
         "confidence": 0.84496,
         "end": 86382,
         "speaker": "A",
         "start": 86170,
         "text": "you'll"
        },
        {
         "confidence": 0.99956,
         "end": 86572,
         "speaker": "A",
         "start": 86397,
         "text": "come"
        },
        {
         "confidence": 1,
         "end": 86752,
         "speaker": "A",
         "start": 86605,
         "text": "out"
        },
        {
         "confidence": 0.86175,
         "end": 86902,
         "speaker": "A",
         "start": 86770,
         "text": "in"
        },
        {
         "confidence": 0.98,
         "end": 87007,
         "speaker": "A",
         "start": 86920,
         "text": "a"
        },
        {
         "confidence": 0.18545,
         "end": 87402,
         "speaker": "A",
         "start": 87010,
         "text": "halston"
        },
        {
         "confidence": 0.49839,
         "end": 87957,
         "speaker": "A",
         "start": 87432,
         "text": "gown"
        },
        {
         "confidence": 0.98162,
         "end": 88252,
         "speaker": "A",
         "start": 88047,
         "text": "or"
        },
        {
         "confidence": 0.68939,
         "end": 88762,
         "speaker": "A",
         "start": 88270,
         "text": "something."
        },
        {
         "confidence": 1,
         "end": 89152,
         "speaker": "B",
         "start": 88900,
         "text": "I"
        },
        {
         "confidence": 0.99187,
         "end": 89352,
         "speaker": "B",
         "start": 89170,
         "text": "don't"
        },
        {
         "confidence": 0.99988,
         "end": 89572,
         "speaker": "B",
         "start": 89382,
         "text": "think"
        },
        {
         "confidence": 0.99636,
         "end": 89887,
         "speaker": "B",
         "start": 89605,
         "text": "so."
        },
        {
         "confidence": 0.99714,
         "end": 90327,
         "speaker": "B",
         "start": 89950,
         "text": "Mostly"
        },
        {
         "confidence": 0.99828,
         "end": 90592,
         "speaker": "B",
         "start": 90357,
         "text": "because"
        },
        {
         "confidence": 0.6098,
         "end": 90882,
         "speaker": "B",
         "start": 90640,
         "text": "I'm"
        },
        {
         "confidence": 0.85,
         "end": 91072,
         "speaker": "B",
         "start": 90897,
         "text": "a"
        },
        {
         "confidence": 0.99,
         "end": 91747,
         "speaker": "B",
         "start": 91105,
         "text": "real"
        },
        {
         "confidence": 0.99401,
         "end": 92742,
         "speaker": "B",
         "start": 91930,
         "text": "outrageous"
        },
        {
         "confidence": 0.99952,
         "end": 93022,
         "speaker": "B",
         "start": 92802,
         "text": "type"
        },
        {
         "confidence": 1,
         "end": 93202,
         "speaker": "B",
         "start": 93055,
         "text": "of"
        },
        {
         "confidence": 0.99995,
         "end": 93487,
         "speaker": "B",
         "start": 93220,
         "text": "person."
        },
        {
         "confidence": 0.87582,
         "end": 93777,
         "speaker": "B",
         "start": 93550,
         "text": "I've"
        },
        {
         "confidence": 0.95405,
         "end": 94177,
         "speaker": "B",
         "start": 93807,
         "text": "often"
        },
        {
         "confidence": 0.99427,
         "end": 94477,
         "speaker": "B",
         "start": 94270,
         "text": "made"
        },
        {
         "confidence": 0.9,
         "end": 94627,
         "speaker": "B",
         "start": 94495,
         "text": "the"
        },
        {
         "confidence": 0.99454,
         "end": 94977,
         "speaker": "B",
         "start": 94645,
         "text": "statement"
        },
        {
         "confidence": 1,
         "end": 95152,
         "speaker": "B",
         "start": 95007,
         "text": "that"
        },
        {
         "confidence": 0.96554,
         "end": 95352,
         "speaker": "B",
         "start": 95170,
         "text": "I'm"
        },
        {
         "confidence": 0.99933,
         "end": 95572,
         "speaker": "B",
         "start": 95382,
         "text": "very"
        },
        {
         "confidence": 0.46002,
         "end": 96042,
         "speaker": "B",
         "start": 95605,
         "text": "extreme"
        },
        {
         "confidence": 0.7986,
         "end": 96277,
         "speaker": "B",
         "start": 96102,
         "text": "in"
        },
        {
         "confidence": 0.99708,
         "end": 96607,
         "speaker": "B",
         "start": 96295,
         "text": "whatever"
        },
        {
         "confidence": 1,
         "end": 96877,
         "speaker": "B",
         "start": 96685,
         "text": "I"
        },
        {
         "confidence": 0.99928,
         "end": 97162,
         "speaker": "B",
         "start": 96895,
         "text": "do,"
        },
        {
         "confidence": 0.83,
         "end": 97447,
         "speaker": "B",
         "start": 97225,
         "text": "and"
        },
        {
         "confidence": 1,
         "end": 97672,
         "speaker": "B",
         "start": 97480,
         "text": "I"
        },
        {
         "confidence": 0.99995,
         "end": 98392,
         "speaker": "B",
         "start": 97705,
         "text": "enjoy"
        },
        {
         "confidence": 1,
         "end": 98947,
         "speaker": "B",
         "start": 98590,
         "text": "the"
        },
        {
         "confidence": 0.99946,
         "end": 99172,
         "speaker": "B",
         "start": 98980,
         "text": "big"
        },
        {
         "confidence": 0.99634,
         "end": 99477,
         "speaker": "B",
         "start": 99205,
         "text": "hair"
        },
        {
         "confidence": 0.98,
         "end": 99652,
         "speaker": "B",
         "start": 99507,
         "text": "and"
        },
        {
         "confidence": 0.99,
         "end": 99757,
         "speaker": "B",
         "start": 99670,
         "text": "the"
        },
        {
         "confidence": 0.83323,
         "end": 100152,
         "speaker": "B",
         "start": 99760,
         "text": "gaudy"
        },
        {
         "confidence": 0.91329,
         "end": 100452,
         "speaker": "B",
         "start": 100182,
         "text": "clothes,"
        },
        {
         "confidence": 0.72,
         "end": 100627,
         "speaker": "B",
         "start": 100482,
         "text": "and"
        },
        {
         "confidence": 0.49598,
         "end": 100872,
         "speaker": "B",
         "start": 100645,
         "text": "it's"
        },
        {
         "confidence": 0.46,
         "end": 101077,
         "speaker": "B",
         "start": 100917,
         "text": "a"
        },
        {
         "confidence": 0.99933,
         "end": 101912,
         "speaker": "B",
         "start": 101095,
         "text": "costume."
        },
        {
         "confidence": 0.51898,
         "end": 102852,
         "speaker": "B",
         "start": 102262,
         "text": "It's"
        },
        {
         "confidence": 0.99975,
         "end": 103222,
         "speaker": "B",
         "start": 102957,
         "text": "part"
        },
        {
         "confidence": 1,
         "end": 103447,
         "speaker": "B",
         "start": 103255,
         "text": "of"
        },
        {
         "confidence": 0.99967,
         "end": 103627,
         "speaker": "B",
         "start": 103480,
         "text": "what"
        },
        {
         "confidence": 0.99996,
         "end": 103822,
         "speaker": "B",
         "start": 103645,
         "text": "people"
        },
        {
         "confidence": 0.98917,
         "end": 104047,
         "speaker": "B",
         "start": 103855,
         "text": "have"
        },
        {
         "confidence": 0.99929,
         "end": 104227,
         "speaker": "B",
         "start": 104080,
         "text": "come"
        },
        {
         "confidence": 1,
         "end": 104377,
         "speaker": "B",
         "start": 104245,
         "text": "to"
        },
        {
         "confidence": 0.99807,
         "end": 104527,
         "speaker": "B",
         "start": 104395,
         "text": "know"
        },
        {
         "confidence": 0.99252,
         "end": 104722,
         "speaker": "B",
         "start": 104545,
         "text": "me"
        },
        {
         "confidence": 0.99293,
         "end": 105127,
         "speaker": "B",
         "start": 104755,
         "text": "as."
        },
        {
         "confidence": 0.79,
         "end": 105472,
         "speaker": "B",
         "start": 105220,
         "text": "And"
        },
        {
         "confidence": 1,
         "end": 105607,
         "speaker": "B",
         "start": 105505,
         "text": "I"
        },
        {
         "confidence": 0.94134,
         "end": 105777,
         "speaker": "B",
         "start": 105610,
         "text": "don't"
        },
        {
         "confidence": 0.99978,
         "end": 105952,
         "speaker": "B",
         "start": 105807,
         "text": "like"
        },
        {
         "confidence": 1,
         "end": 106102,
         "speaker": "B",
         "start": 105970,
         "text": "to"
        },
        {
         "confidence": 0.99907,
         "end": 106252,
         "speaker": "B",
         "start": 106120,
         "text": "be"
        },
        {
         "confidence": 0.87139,
         "end": 106722,
         "speaker": "B",
         "start": 106270,
         "text": "ordinary."
        },
        {
         "confidence": 1,
         "end": 106927,
         "speaker": "B",
         "start": 106767,
         "text": "I"
        },
        {
         "confidence": 0.99168,
         "end": 107082,
         "speaker": "B",
         "start": 106945,
         "text": "don't"
        },
        {
         "confidence": 0.99944,
         "end": 107227,
         "speaker": "B",
         "start": 107097,
         "text": "like"
        },
        {
         "confidence": 1,
         "end": 107332,
         "speaker": "B",
         "start": 107245,
         "text": "to"
        },
        {
         "confidence": 0.99677,
         "end": 107497,
         "speaker": "B",
         "start": 107335,
         "text": "be"
        },
        {
         "confidence": 0.92437,
         "end": 107922,
         "speaker": "B",
         "start": 107530,
         "text": "stylish."
        },
        {
         "confidence": 0.97403,
         "end": 108177,
         "speaker": "B",
         "start": 107967,
         "text": "It's"
        },
        {
         "confidence": 0.99925,
         "end": 108352,
         "speaker": "B",
         "start": 108207,
         "text": "far"
        },
        {
         "confidence": 0.99725,
         "end": 108547,
         "speaker": "B",
         "start": 108370,
         "text": "too"
        },
        {
         "confidence": 0.99967,
         "end": 108772,
         "speaker": "B",
         "start": 108580,
         "text": "easy"
        },
        {
         "confidence": 1,
         "end": 108952,
         "speaker": "B",
         "start": 108805,
         "text": "to"
        },
        {
         "confidence": 0.99757,
         "end": 109102,
         "speaker": "B",
         "start": 108970,
         "text": "be"
        },
        {
         "confidence": 0.98438,
         "end": 109542,
         "speaker": "B",
         "start": 109120,
         "text": "stylish."
        },
        {
         "confidence": 0.79,
         "end": 109912,
         "speaker": "B",
         "start": 109602,
         "text": "And"
        },
        {
         "confidence": 1,
         "end": 110152,
         "speaker": "B",
         "start": 109975,
         "text": "I"
        },
        {
         "confidence": 0.99538,
         "end": 110302,
         "speaker": "B",
         "start": 110170,
         "text": "like"
        },
        {
         "confidence": 0.99,
         "end": 110452,
         "speaker": "B",
         "start": 110320,
         "text": "to"
        },
        {
         "confidence": 0.99966,
         "end": 110647,
         "speaker": "B",
         "start": 110470,
         "text": "think"
        },
        {
         "confidence": 0.85874,
         "end": 110877,
         "speaker": "B",
         "start": 110680,
         "text": "I've"
        },
        {
         "confidence": 0.99928,
         "end": 111052,
         "speaker": "B",
         "start": 110907,
         "text": "got"
        },
        {
         "confidence": 0.97,
         "end": 111292,
         "speaker": "B",
         "start": 111070,
         "text": "a"
        },
        {
         "confidence": 0.99749,
         "end": 111547,
         "speaker": "B",
         "start": 111340,
         "text": "little"
        },
        {
         "confidence": 0.92245,
         "end": 111817,
         "speaker": "B",
         "start": 111580,
         "text": "more"
        },
        {
         "confidence": 0.9976,
         "end": 112197,
         "speaker": "B",
         "start": 111865,
         "text": "nerve."
        },
        {
         "confidence": 0.87,
         "end": 112447,
         "speaker": "B",
         "start": 112242,
         "text": "And"
        },
        {
         "confidence": 0.8571,
         "end": 112977,
         "speaker": "B",
         "start": 112480,
         "text": "I'll"
        },
        {
         "confidence": 0.99954,
         "end": 113242,
         "speaker": "B",
         "start": 113007,
         "text": "try"
        },
        {
         "confidence": 1,
         "end": 113542,
         "speaker": "B",
         "start": 113290,
         "text": "to"
        },
        {
         "confidence": 0.99746,
         "end": 113952,
         "speaker": "B",
         "start": 113590,
         "text": "venture"
        },
        {
         "confidence": 1,
         "end": 114127,
         "speaker": "B",
         "start": 113982,
         "text": "out"
        },
        {
         "confidence": 0.99,
         "end": 114277,
         "speaker": "B",
         "start": 114145,
         "text": "and"
        },
        {
         "confidence": 0.99928,
         "end": 114427,
         "speaker": "B",
         "start": 114295,
         "text": "do"
        },
        {
         "confidence": 0.69,
         "end": 114577,
         "speaker": "B",
         "start": 114445,
         "text": "a"
        },
        {
         "confidence": 0.9998,
         "end": 114772,
         "speaker": "B",
         "start": 114595,
         "text": "few"
        },
        {
         "confidence": 0.99949,
         "end": 115042,
         "speaker": "B",
         "start": 114805,
         "text": "things"
        },
        {
         "confidence": 0.99,
         "end": 115207,
         "speaker": "B",
         "start": 115090,
         "text": "a"
        },
        {
         "confidence": 0.99925,
         "end": 115327,
         "speaker": "B",
         "start": 115210,
         "text": "little"
        },
        {
         "confidence": 0.99861,
         "end": 115522,
         "speaker": "B",
         "start": 115345,
         "text": "bit"
        },
        {
         "confidence": 0.99995,
         "end": 115792,
         "speaker": "B",
         "start": 115555,
         "text": "different."
        },
        {
         "confidence": 0.94746,
         "end": 116362,
         "speaker": "B",
         "start": 115840,
         "text": "But"
        },
        {
         "confidence": 0.99,
         "end": 116797,
         "speaker": "B",
         "start": 116500,
         "text": "I"
        },
        {
         "confidence": 0.98726,
         "end": 117027,
         "speaker": "B",
         "start": 116830,
         "text": "doubt"
        },
        {
         "confidence": 1,
         "end": 117202,
         "speaker": "B",
         "start": 117057,
         "text": "that"
        },
        {
         "confidence": 0.95318,
         "end": 117402,
         "speaker": "B",
         "start": 117220,
         "text": "I'll"
        },
        {
         "confidence": 0.99295,
         "end": 117622,
         "speaker": "B",
         "start": 117432,
         "text": "ever"
        },
        {
         "confidence": 0.99956,
         "end": 117982,
         "speaker": "B",
         "start": 117655,
         "text": "be"
        },
        {
         "confidence": 0.99788,
         "end": 118252,
         "speaker": "B",
         "start": 118060,
         "text": "in"
        },
        {
         "confidence": 0.95166,
         "end": 118647,
         "speaker": "B",
         "start": 118270,
         "text": "style."
        },
        {
         "confidence": 0.98754,
         "end": 118807,
         "speaker": "B",
         "start": 118692,
         "text": "In"
        },
        {
         "confidence": 0.92742,
         "end": 118972,
         "speaker": "B",
         "start": 118810,
         "text": "fact,"
        },
        {
         "confidence": 0.77946,
         "end": 119277,
         "speaker": "B",
         "start": 119005,
         "text": "I'm"
        },
        {
         "confidence": 0.99962,
         "end": 119497,
         "speaker": "B",
         "start": 119307,
         "text": "sure"
        },
        {
         "confidence": 0.99,
         "end": 119722,
         "speaker": "B",
         "start": 119530,
         "text": "of"
        },
        {
         "confidence": 0.99887,
         "end": 120350,
         "speaker": "B",
         "start": 119755,
         "text": "it."
        },
        {
         "confidence": 0.74464,
         "end": 121992,
         "speaker": "A",
         "start": 121462,
         "text": "Sally,"
        },
        {
         "confidence": 0.9868,
         "end": 122182,
         "speaker": "A",
         "start": 122052,
         "text": "do"
        },
        {
         "confidence": 0.69479,
         "end": 122347,
         "speaker": "A",
         "start": 122185,
         "text": "you"
        },
        {
         "confidence": 0.99851,
         "end": 122572,
         "speaker": "A",
         "start": 122380,
         "text": "ever"
        },
        {
         "confidence": 0.98867,
         "end": 122752,
         "speaker": "A",
         "start": 122605,
         "text": "get"
        },
        {
         "confidence": 0.99767,
         "end": 122947,
         "speaker": "A",
         "start": 122770,
         "text": "your"
        },
        {
         "confidence": 0.76397,
         "end": 123342,
         "speaker": "A",
         "start": 122980,
         "text": "feelings"
        },
        {
         "confidence": 0.97722,
         "end": 123837,
         "speaker": "A",
         "start": 123402,
         "text": "hurt,"
        },
        {
         "confidence": 0.98,
         "end": 124147,
         "speaker": "A",
         "start": 123912,
         "text": "the"
        },
        {
         "confidence": 0.9976,
         "end": 124542,
         "speaker": "A",
         "start": 124180,
         "text": "jokes"
        },
        {
         "confidence": 0.99993,
         "end": 124867,
         "speaker": "A",
         "start": 124602,
         "text": "about"
        },
        {
         "confidence": 0.9991,
         "end": 125122,
         "speaker": "A",
         "start": 124915,
         "text": "your"
        },
        {
         "confidence": 0.93333,
         "end": 125482,
         "speaker": "A",
         "start": 125155,
         "text": "figure"
        },
        {
         "confidence": 0.77,
         "end": 125752,
         "speaker": "A",
         "start": 125560,
         "text": "and"
        },
        {
         "confidence": 0.99762,
         "end": 125902,
         "speaker": "A",
         "start": 125770,
         "text": "your"
        },
        {
         "confidence": 0.60672,
         "end": 126177,
         "speaker": "A",
         "start": 125920,
         "text": "hair"
        },
        {
         "confidence": 0.8,
         "end": 126352,
         "speaker": "A",
         "start": 126207,
         "text": "and"
        },
        {
         "confidence": 1,
         "end": 126502,
         "speaker": "A",
         "start": 126370,
         "text": "the"
        },
        {
         "confidence": 1,
         "end": 126652,
         "speaker": "A",
         "start": 126520,
         "text": "way"
        },
        {
         "confidence": 0.99853,
         "end": 126847,
         "speaker": "A",
         "start": 126670,
         "text": "you"
        },
        {
         "confidence": 0.99525,
         "end": 127027,
         "speaker": "A",
         "start": 126880,
         "text": "look"
        },
        {
         "confidence": 0.99,
         "end": 127177,
         "speaker": "A",
         "start": 127045,
         "text": "and"
        },
        {
         "confidence": 0.99398,
         "end": 127372,
         "speaker": "A",
         "start": 127195,
         "text": "so"
        },
        {
         "confidence": 0.64377,
         "end": 128037,
         "speaker": "A",
         "start": 127405,
         "text": "forth?"
        },
        {
         "confidence": 0.93928,
         "end": 128902,
         "speaker": "B",
         "start": 128187,
         "text": "Well,"
        },
        {
         "confidence": 1,
         "end": 129397,
         "speaker": "B",
         "start": 129070,
         "text": "I"
        },
        {
         "confidence": 0.9774,
         "end": 129622,
         "speaker": "B",
         "start": 129430,
         "text": "used"
        },
        {
         "confidence": 0.99,
         "end": 129982,
         "speaker": "B",
         "start": 129655,
         "text": "to"
        },
        {
         "confidence": 1,
         "end": 130342,
         "speaker": "B",
         "start": 130060,
         "text": "not"
        },
        {
         "confidence": 0.99987,
         "end": 130867,
         "speaker": "B",
         "start": 130390,
         "text": "understand"
        },
        {
         "confidence": 0.99304,
         "end": 131272,
         "speaker": "B",
         "start": 130990,
         "text": "some"
        },
        {
         "confidence": 1,
         "end": 131407,
         "speaker": "B",
         "start": 131305,
         "text": "of"
        },
        {
         "confidence": 1,
         "end": 131527,
         "speaker": "B",
         "start": 131410,
         "text": "the"
        },
        {
         "confidence": 0.99496,
         "end": 131727,
         "speaker": "B",
         "start": 131545,
         "text": "jokes"
        },
        {
         "confidence": 0.98851,
         "end": 131947,
         "speaker": "B",
         "start": 131757,
         "text": "about"
        },
        {
         "confidence": 0.99963,
         "end": 132172,
         "speaker": "B",
         "start": 131980,
         "text": "my"
        },
        {
         "confidence": 0.99509,
         "end": 132442,
         "speaker": "B",
         "start": 132205,
         "text": "figure"
        },
        {
         "confidence": 0.99968,
         "end": 132652,
         "speaker": "B",
         "start": 132490,
         "text": "when"
        },
        {
         "confidence": 0.99,
         "end": 132847,
         "speaker": "B",
         "start": 132670,
         "text": "I"
        },
        {
         "confidence": 1,
         "end": 133072,
         "speaker": "B",
         "start": 132880,
         "text": "first"
        },
        {
         "confidence": 0.9998,
         "end": 133297,
         "speaker": "B",
         "start": 133105,
         "text": "came"
        },
        {
         "confidence": 1,
         "end": 133477,
         "speaker": "B",
         "start": 133330,
         "text": "to"
        },
        {
         "confidence": 0.82342,
         "end": 134067,
         "speaker": "B",
         "start": 133495,
         "text": "Nashville."
        },
        {
         "confidence": 0.95911,
         "end": 134347,
         "speaker": "B",
         "start": 134127,
         "text": "But"
        },
        {
         "confidence": 0.99951,
         "end": 134527,
         "speaker": "B",
         "start": 134380,
         "text": "as"
        },
        {
         "confidence": 0.99987,
         "end": 134677,
         "speaker": "B",
         "start": 134545,
         "text": "far"
        },
        {
         "confidence": 0.9975,
         "end": 134827,
         "speaker": "B",
         "start": 134695,
         "text": "as"
        },
        {
         "confidence": 0.99,
         "end": 134977,
         "speaker": "B",
         "start": 134845,
         "text": "the"
        },
        {
         "confidence": 0.98116,
         "end": 135177,
         "speaker": "B",
         "start": 134995,
         "text": "hair"
        },
        {
         "confidence": 0.97,
         "end": 135307,
         "speaker": "B",
         "start": 135207,
         "text": "and"
        },
        {
         "confidence": 0.98,
         "end": 135427,
         "speaker": "B",
         "start": 135310,
         "text": "the"
        },
        {
         "confidence": 1,
         "end": 135577,
         "speaker": "B",
         "start": 135445,
         "text": "way"
        },
        {
         "confidence": 1,
         "end": 135727,
         "speaker": "B",
         "start": 135595,
         "text": "I"
        },
        {
         "confidence": 0.99876,
         "end": 136047,
         "speaker": "B",
         "start": 135745,
         "text": "dress,"
        },
        {
         "confidence": 1,
         "end": 136252,
         "speaker": "B",
         "start": 136092,
         "text": "I"
        },
        {
         "confidence": 0.92636,
         "end": 136492,
         "speaker": "B",
         "start": 136270,
         "text": "choose"
        },
        {
         "confidence": 1,
         "end": 136702,
         "speaker": "B",
         "start": 136540,
         "text": "to"
        },
        {
         "confidence": 0.99947,
         "end": 136852,
         "speaker": "B",
         "start": 136720,
         "text": "do"
        },
        {
         "confidence": 1,
         "end": 137137,
         "speaker": "B",
         "start": 136870,
         "text": "that."
        },
        {
         "confidence": 0.88,
         "end": 137377,
         "speaker": "B",
         "start": 137200,
         "text": "And"
        },
        {
         "confidence": 0.49813,
         "end": 137622,
         "speaker": "B",
         "start": 137395,
         "text": "it's"
        },
        {
         "confidence": 0.99864,
         "end": 137827,
         "speaker": "B",
         "start": 137667,
         "text": "part"
        },
        {
         "confidence": 1,
         "end": 137977,
         "speaker": "B",
         "start": 137845,
         "text": "of"
        },
        {
         "confidence": 0.92,
         "end": 138127,
         "speaker": "B",
         "start": 137995,
         "text": "a"
        },
        {
         "confidence": 0.89439,
         "end": 138447,
         "speaker": "B",
         "start": 138145,
         "text": "gimmick."
        },
        {
         "confidence": 0.94497,
         "end": 138702,
         "speaker": "B",
         "start": 138492,
         "text": "It's"
        },
        {
         "confidence": 0.99981,
         "end": 138922,
         "speaker": "B",
         "start": 138732,
         "text": "part"
        },
        {
         "confidence": 0.99,
         "end": 139282,
         "speaker": "B",
         "start": 138955,
         "text": "of"
        },
        {
         "confidence": 0.99919,
         "end": 139597,
         "speaker": "B",
         "start": 139360,
         "text": "my"
        },
        {
         "confidence": 0.81884,
         "end": 139902,
         "speaker": "B",
         "start": 139630,
         "text": "image."
        },
        {
         "confidence": 0.84517,
         "end": 140167,
         "speaker": "B",
         "start": 139932,
         "text": "So"
        },
        {
         "confidence": 0.98723,
         "end": 140377,
         "speaker": "B",
         "start": 140215,
         "text": "if"
        },
        {
         "confidence": 0.99,
         "end": 140707,
         "speaker": "B",
         "start": 140395,
         "text": "I"
        },
        {
         "confidence": 0.9085,
         "end": 141067,
         "speaker": "B",
         "start": 140785,
         "text": "really"
        },
        {
         "confidence": 0.98867,
         "end": 141277,
         "speaker": "B",
         "start": 141115,
         "text": "got"
        },
        {
         "confidence": 0.99961,
         "end": 141427,
         "speaker": "B",
         "start": 141295,
         "text": "my"
        },
        {
         "confidence": 0.83148,
         "end": 141822,
         "speaker": "B",
         "start": 141445,
         "text": "feelings"
        },
        {
         "confidence": 0.57501,
         "end": 142077,
         "speaker": "B",
         "start": 141867,
         "text": "hurt"
        },
        {
         "confidence": 0.94,
         "end": 142207,
         "speaker": "B",
         "start": 142107,
         "text": "and"
        },
        {
         "confidence": 0.96585,
         "end": 142327,
         "speaker": "B",
         "start": 142210,
         "text": "if"
        },
        {
         "confidence": 0.98958,
         "end": 142477,
         "speaker": "B",
         "start": 142345,
         "text": "it"
        },
        {
         "confidence": 0.99162,
         "end": 142672,
         "speaker": "B",
         "start": 142495,
         "text": "really"
        },
        {
         "confidence": 0.96961,
         "end": 143052,
         "speaker": "B",
         "start": 142705,
         "text": "bothered"
        },
        {
         "confidence": 0.99987,
         "end": 143227,
         "speaker": "B",
         "start": 143082,
         "text": "me,"
        },
        {
         "confidence": 1,
         "end": 143332,
         "speaker": "B",
         "start": 143245,
         "text": "I"
        },
        {
         "confidence": 0.98567,
         "end": 143497,
         "speaker": "B",
         "start": 143335,
         "text": "could"
        },
        {
         "confidence": 0.99953,
         "end": 143812,
         "speaker": "B",
         "start": 143530,
         "text": "certainly"
        },
        {
         "confidence": 0.99979,
         "end": 144187,
         "speaker": "B",
         "start": 143875,
         "text": "change,"
        },
        {
         "confidence": 0.91297,
         "end": 144472,
         "speaker": "B",
         "start": 144250,
         "text": "because"
        },
        {
         "confidence": 0.95759,
         "end": 144697,
         "speaker": "B",
         "start": 144505,
         "text": "like"
        },
        {
         "confidence": 1,
         "end": 144832,
         "speaker": "B",
         "start": 144730,
         "text": "I"
        },
        {
         "confidence": 0.99725,
         "end": 144997,
         "speaker": "B",
         "start": 144835,
         "text": "said"
        },
        {
         "confidence": 0.99992,
         "end": 145267,
         "speaker": "B",
         "start": 145030,
         "text": "before,"
        },
        {
         "confidence": 0.95234,
         "end": 145527,
         "speaker": "B",
         "start": 145315,
         "text": "it's"
        },
        {
         "confidence": 0.99892,
         "end": 145792,
         "speaker": "B",
         "start": 145557,
         "text": "very"
        },
        {
         "confidence": 0.9999,
         "end": 146092,
         "speaker": "B",
         "start": 145840,
         "text": "easy"
        },
        {
         "confidence": 1,
         "end": 146302,
         "speaker": "B",
         "start": 146140,
         "text": "to"
        },
        {
         "confidence": 0.99838,
         "end": 146452,
         "speaker": "B",
         "start": 146320,
         "text": "be"
        },
        {
         "confidence": 0.99539,
         "end": 146647,
         "speaker": "B",
         "start": 146470,
         "text": "in"
        },
        {
         "confidence": 0.99599,
         "end": 147437,
         "speaker": "B",
         "start": 146680,
         "text": "style."
        },
        {
         "confidence": 0.27622,
         "end": 149022,
         "speaker": "A",
         "start": 148462,
         "text": "Dolly"
        },
        {
         "confidence": 0.99598,
         "end": 149272,
         "speaker": "A",
         "start": 149067,
         "text": "you"
        },
        {
         "confidence": 0.99613,
         "end": 149587,
         "speaker": "A",
         "start": 149305,
         "text": "have"
        },
        {
         "confidence": 0.99941,
         "end": 149917,
         "speaker": "A",
         "start": 149650,
         "text": "so"
        },
        {
         "confidence": 0.51357,
         "end": 150172,
         "speaker": "A",
         "start": 149965,
         "text": "much"
        },
        {
         "confidence": 0.99709,
         "end": 150442,
         "speaker": "A",
         "start": 150205,
         "text": "going"
        },
        {
         "confidence": 0.99917,
         "end": 150652,
         "speaker": "A",
         "start": 150490,
         "text": "for"
        },
        {
         "confidence": 0.99623,
         "end": 150847,
         "speaker": "A",
         "start": 150670,
         "text": "you"
        },
        {
         "confidence": 1,
         "end": 151072,
         "speaker": "A",
         "start": 150880,
         "text": "right"
        },
        {
         "confidence": 0.99967,
         "end": 151522,
         "speaker": "A",
         "start": 151105,
         "text": "now"
        },
        {
         "confidence": 0.99803,
         "end": 151852,
         "speaker": "A",
         "start": 151630,
         "text": "with"
        },
        {
         "confidence": 0.99,
         "end": 152002,
         "speaker": "A",
         "start": 151870,
         "text": "the"
        },
        {
         "confidence": 0.92834,
         "end": 152547,
         "speaker": "A",
         "start": 152020,
         "text": "Carson"
        },
        {
         "confidence": 0.99896,
         "end": 152797,
         "speaker": "A",
         "start": 152592,
         "text": "show,"
        },
        {
         "confidence": 0.95,
         "end": 152977,
         "speaker": "A",
         "start": 152830,
         "text": "and"
        },
        {
         "confidence": 0.91965,
         "end": 153177,
         "speaker": "A",
         "start": 152995,
         "text": "you're"
        },
        {
         "confidence": 0.99975,
         "end": 153352,
         "speaker": "A",
         "start": 153207,
         "text": "going"
        },
        {
         "confidence": 0.97,
         "end": 153502,
         "speaker": "A",
         "start": 153370,
         "text": "to"
        },
        {
         "confidence": 0.99961,
         "end": 153697,
         "speaker": "A",
         "start": 153520,
         "text": "be"
        },
        {
         "confidence": 0.99844,
         "end": 154182,
         "speaker": "A",
         "start": 153730,
         "text": "interviewed"
        },
        {
         "confidence": 0.93,
         "end": 154372,
         "speaker": "A",
         "start": 154197,
         "text": "on"
        },
        {
         "confidence": 0.44833,
         "end": 154722,
         "speaker": "A",
         "start": 154405,
         "text": "Barbara"
        },
        {
         "confidence": 0.65702,
         "end": 155142,
         "speaker": "A",
         "start": 154767,
         "text": "Walters"
        },
        {
         "confidence": 0.9801,
         "end": 155825,
         "speaker": "A",
         "start": 155202,
         "text": "special."
        },
        {
         "confidence": 0.99506,
         "end": 156592,
         "speaker": "A",
         "start": 156187,
         "text": "Is"
        },
        {
         "confidence": 0.9987,
         "end": 156982,
         "speaker": "A",
         "start": 156640,
         "text": "there"
        },
        {
         "confidence": 0.77198,
         "end": 157432,
         "speaker": "A",
         "start": 157060,
         "text": "anything"
        },
        {
         "confidence": 0.99547,
         "end": 157657,
         "speaker": "A",
         "start": 157510,
         "text": "in"
        },
        {
         "confidence": 0.97,
         "end": 157777,
         "speaker": "A",
         "start": 157660,
         "text": "the"
        },
        {
         "confidence": 0.32843,
         "end": 158172,
         "speaker": "A",
         "start": 157795,
         "text": "offering,"
        },
        {
         "confidence": 0.95597,
         "end": 158557,
         "speaker": "A",
         "start": 158217,
         "text": "like"
        },
        {
         "confidence": 0.99131,
         "end": 159207,
         "speaker": "A",
         "start": 158635,
         "text": "movies"
        },
        {
         "confidence": 0.91594,
         "end": 159547,
         "speaker": "A",
         "start": 159297,
         "text": "or"
        },
        {
         "confidence": 0.99724,
         "end": 159942,
         "speaker": "A",
         "start": 159580,
         "text": "TV"
        },
        {
         "confidence": 0.97946,
         "end": 160527,
         "speaker": "A",
         "start": 160002,
         "text": "specials"
        },
        {
         "confidence": 0.97831,
         "end": 161017,
         "speaker": "A",
         "start": 160557,
         "text": "or"
        },
        {
         "confidence": 0.99939,
         "end": 161512,
         "speaker": "A",
         "start": 161140,
         "text": "those"
        },
        {
         "confidence": 0.99909,
         "end": 161887,
         "speaker": "A",
         "start": 161575,
         "text": "things"
        },
        {
         "confidence": 1,
         "end": 162172,
         "speaker": "A",
         "start": 161950,
         "text": "that"
        },
        {
         "confidence": 0.97777,
         "end": 162957,
         "speaker": "A",
         "start": 162205,
         "text": "superstars"
        },
        {
         "confidence": 0.78474,
         "end": 163387,
         "speaker": "A",
         "start": 163047,
         "text": "get"
        },
        {
         "confidence": 0.99729,
         "end": 164142,
         "speaker": "A",
         "start": 163450,
         "text": "eventually?"
        },
        {
         "confidence": 0.92625,
         "end": 164572,
         "speaker": "B",
         "start": 164277,
         "text": "Well,"
        },
        {
         "confidence": 0.95598,
         "end": 164802,
         "speaker": "B",
         "start": 164605,
         "text": "I've"
        },
        {
         "confidence": 0.99801,
         "end": 165022,
         "speaker": "B",
         "start": 164832,
         "text": "been"
        },
        {
         "confidence": 0.57113,
         "end": 165627,
         "speaker": "B",
         "start": 165055,
         "text": "offered"
        },
        {
         "confidence": 0.99881,
         "end": 166042,
         "speaker": "B",
         "start": 165732,
         "text": "some"
        },
        {
         "confidence": 0.99789,
         "end": 166422,
         "speaker": "B",
         "start": 166090,
         "text": "TV"
        },
        {
         "confidence": 0.65882,
         "end": 166977,
         "speaker": "B",
         "start": 166467,
         "text": "specials"
        },
        {
         "confidence": 0.51132,
         "end": 167332,
         "speaker": "B",
         "start": 167007,
         "text": "already"
        },
        {
         "confidence": 0.99557,
         "end": 167692,
         "speaker": "B",
         "start": 167410,
         "text": "by"
        },
        {
         "confidence": 0.99,
         "end": 167902,
         "speaker": "B",
         "start": 167740,
         "text": "all"
        },
        {
         "confidence": 0.99,
         "end": 168097,
         "speaker": "B",
         "start": 167920,
         "text": "three"
        },
        {
         "confidence": 0.63048,
         "end": 168762,
         "speaker": "B",
         "start": 168130,
         "text": "networks,"
        },
        {
         "confidence": 0.95,
         "end": 169072,
         "speaker": "B",
         "start": 168837,
         "text": "and"
        },
        {
         "confidence": 1,
         "end": 169207,
         "speaker": "B",
         "start": 169105,
         "text": "I"
        },
        {
         "confidence": 0.63202,
         "end": 169372,
         "speaker": "B",
         "start": 169210,
         "text": "do"
        },
        {
         "confidence": 0.99883,
         "end": 169597,
         "speaker": "B",
         "start": 169405,
         "text": "hope"
        },
        {
         "confidence": 1,
         "end": 169777,
         "speaker": "B",
         "start": 169630,
         "text": "to"
        },
        {
         "confidence": 0.99828,
         "end": 169972,
         "speaker": "B",
         "start": 169795,
         "text": "do"
        },
        {
         "confidence": 0.99848,
         "end": 170322,
         "speaker": "B",
         "start": 170005,
         "text": "several"
        },
        {
         "confidence": 0.52,
         "end": 170862,
         "speaker": "B",
         "start": 170367,
         "text": "dollar"
        },
        {
         "confidence": 0.98534,
         "end": 171597,
         "speaker": "B",
         "start": 170937,
         "text": "specials,"
        },
        {
         "confidence": 0.95,
         "end": 171847,
         "speaker": "B",
         "start": 171642,
         "text": "and"
        },
        {
         "confidence": 1,
         "end": 171982,
         "speaker": "B",
         "start": 171880,
         "text": "I"
        },
        {
         "confidence": 0.97121,
         "end": 172147,
         "speaker": "B",
         "start": 171985,
         "text": "hope"
        },
        {
         "confidence": 1,
         "end": 172372,
         "speaker": "B",
         "start": 172180,
         "text": "to"
        },
        {
         "confidence": 0.98289,
         "end": 172597,
         "speaker": "B",
         "start": 172405,
         "text": "do"
        },
        {
         "confidence": 0.43,
         "end": 172912,
         "speaker": "B",
         "start": 172630,
         "text": "one"
        },
        {
         "confidence": 0.99945,
         "end": 173197,
         "speaker": "B",
         "start": 172975,
         "text": "this"
        },
        {
         "confidence": 0.70594,
         "end": 173647,
         "speaker": "B",
         "start": 173230,
         "text": "year."
        },
        {
         "confidence": 0.97992,
         "end": 174022,
         "speaker": "B",
         "start": 173755,
         "text": "But"
        },
        {
         "confidence": 0.99903,
         "end": 174202,
         "speaker": "B",
         "start": 174055,
         "text": "as"
        },
        {
         "confidence": 0.99923,
         "end": 174352,
         "speaker": "B",
         "start": 174220,
         "text": "far"
        },
        {
         "confidence": 0.99502,
         "end": 174502,
         "speaker": "B",
         "start": 174370,
         "text": "as"
        },
        {
         "confidence": 0.99637,
         "end": 174697,
         "speaker": "B",
         "start": 174520,
         "text": "doing"
        },
        {
         "confidence": 0.94,
         "end": 174832,
         "speaker": "B",
         "start": 174730,
         "text": "a"
        },
        {
         "confidence": 0.64114,
         "end": 175167,
         "speaker": "B",
         "start": 174835,
         "text": "regular"
        },
        {
         "confidence": 0.99947,
         "end": 175492,
         "speaker": "B",
         "start": 175227,
         "text": "show,"
        },
        {
         "confidence": 0.99,
         "end": 175702,
         "speaker": "B",
         "start": 175540,
         "text": "I"
        },
        {
         "confidence": 0.9803,
         "end": 175902,
         "speaker": "B",
         "start": 175720,
         "text": "don't"
        },
        {
         "confidence": 0.99831,
         "end": 176077,
         "speaker": "B",
         "start": 175932,
         "text": "have"
        },
        {
         "confidence": 0.99735,
         "end": 176317,
         "speaker": "B",
         "start": 176095,
         "text": "any"
        },
        {
         "confidence": 0.99836,
         "end": 176697,
         "speaker": "B",
         "start": 176365,
         "text": "desire"
        },
        {
         "confidence": 1,
         "end": 176902,
         "speaker": "B",
         "start": 176742,
         "text": "to"
        },
        {
         "confidence": 0.99797,
         "end": 177052,
         "speaker": "B",
         "start": 176920,
         "text": "do"
        },
        {
         "confidence": 0.99,
         "end": 177202,
         "speaker": "B",
         "start": 177070,
         "text": "a"
        },
        {
         "confidence": 0.99965,
         "end": 177477,
         "speaker": "B",
         "start": 177220,
         "text": "weekly"
        },
        {
         "confidence": 0.53551,
         "end": 177697,
         "speaker": "B",
         "start": 177507,
         "text": "show."
        },
        {
         "confidence": 0.89,
         "end": 177877,
         "speaker": "B",
         "start": 177730,
         "text": "I"
        },
        {
         "confidence": 0.87192,
         "end": 178117,
         "speaker": "B",
         "start": 177895,
         "text": "did"
        },
        {
         "confidence": 0.99728,
         "end": 178372,
         "speaker": "B",
         "start": 178165,
         "text": "have"
        },
        {
         "confidence": 0.98,
         "end": 178552,
         "speaker": "B",
         "start": 178405,
         "text": "a"
        },
        {
         "confidence": 0.61226,
         "end": 179367,
         "speaker": "B",
         "start": 178570,
         "text": "syndicated"
        },
        {
         "confidence": 0.99811,
         "end": 180072,
         "speaker": "B",
         "start": 179502,
         "text": "television"
        },
        {
         "confidence": 0.9997,
         "end": 180367,
         "speaker": "B",
         "start": 180117,
         "text": "show"
        },
        {
         "confidence": 0.99724,
         "end": 180577,
         "speaker": "B",
         "start": 180415,
         "text": "for"
        },
        {
         "confidence": 0.62,
         "end": 180682,
         "speaker": "B",
         "start": 180595,
         "text": "a"
        },
        {
         "confidence": 0.99974,
         "end": 180847,
         "speaker": "B",
         "start": 180685,
         "text": "while."
        },
        {
         "confidence": 0.93,
         "end": 180982,
         "speaker": "B",
         "start": 180880,
         "text": "I"
        },
        {
         "confidence": 0.84669,
         "end": 181147,
         "speaker": "B",
         "start": 180985,
         "text": "only"
        },
        {
         "confidence": 0.99463,
         "end": 181372,
         "speaker": "B",
         "start": 181180,
         "text": "did"
        },
        {
         "confidence": 1,
         "end": 181867,
         "speaker": "B",
         "start": 181405,
         "text": "26"
        },
        {
         "confidence": 0.99195,
         "end": 182122,
         "speaker": "B",
         "start": 181915,
         "text": "shows,"
        },
        {
         "confidence": 0.95,
         "end": 182302,
         "speaker": "B",
         "start": 182155,
         "text": "and"
        },
        {
         "confidence": 0.92882,
         "end": 182502,
         "speaker": "B",
         "start": 182320,
         "text": "it's"
        },
        {
         "confidence": 0.99245,
         "end": 182722,
         "speaker": "B",
         "start": 182532,
         "text": "so"
        },
        {
         "confidence": 0.99993,
         "end": 182947,
         "speaker": "B",
         "start": 182755,
         "text": "time"
        },
        {
         "confidence": 0.63205,
         "end": 183612,
         "speaker": "B",
         "start": 182980,
         "text": "consuming."
        },
        {
         "confidence": 0.92545,
         "end": 183922,
         "speaker": "B",
         "start": 183687,
         "text": "But"
        },
        {
         "confidence": 0.99933,
         "end": 184102,
         "speaker": "B",
         "start": 183955,
         "text": "as"
        },
        {
         "confidence": 0.99983,
         "end": 184207,
         "speaker": "B",
         "start": 184120,
         "text": "far"
        },
        {
         "confidence": 0.66795,
         "end": 184327,
         "speaker": "B",
         "start": 184210,
         "text": "as"
        },
        {
         "confidence": 0.99,
         "end": 184477,
         "speaker": "B",
         "start": 184345,
         "text": "the"
        },
        {
         "confidence": 0.97108,
         "end": 184842,
         "speaker": "B",
         "start": 184495,
         "text": "movies."
        },
        {
         "confidence": 1,
         "end": 185032,
         "speaker": "B",
         "start": 184902,
         "text": "I"
        },
        {
         "confidence": 0.92966,
         "end": 185202,
         "speaker": "B",
         "start": 185035,
         "text": "don't"
        },
        {
         "confidence": 0.99958,
         "end": 185377,
         "speaker": "B",
         "start": 185232,
         "text": "have"
        },
        {
         "confidence": 0.99,
         "end": 185527,
         "speaker": "B",
         "start": 185395,
         "text": "a"
        },
        {
         "confidence": 0.99914,
         "end": 185847,
         "speaker": "B",
         "start": 185545,
         "text": "desire"
        },
        {
         "confidence": 1,
         "end": 186097,
         "speaker": "B",
         "start": 185892,
         "text": "to"
        },
        {
         "confidence": 0.99755,
         "end": 186277,
         "speaker": "B",
         "start": 186130,
         "text": "be"
        },
        {
         "confidence": 1,
         "end": 186427,
         "speaker": "B",
         "start": 186295,
         "text": "a"
        },
        {
         "confidence": 0.99937,
         "end": 186702,
         "speaker": "B",
         "start": 186445,
         "text": "movie"
        },
        {
         "confidence": 0.99824,
         "end": 186967,
         "speaker": "B",
         "start": 186732,
         "text": "star,"
        },
        {
         "confidence": 0.94266,
         "end": 187222,
         "speaker": "B",
         "start": 187015,
         "text": "but"
        },
        {
         "confidence": 1,
         "end": 187447,
         "speaker": "B",
         "start": 187255,
         "text": "I"
        },
        {
         "confidence": 0.99772,
         "end": 187717,
         "speaker": "B",
         "start": 187480,
         "text": "would"
        },
        {
         "confidence": 0.99927,
         "end": 188197,
         "speaker": "B",
         "start": 187765,
         "text": "do"
        },
        {
         "confidence": 0.99996,
         "end": 188662,
         "speaker": "B",
         "start": 188305,
         "text": "certain"
        },
        {
         "confidence": 0.99949,
         "end": 188992,
         "speaker": "B",
         "start": 188725,
         "text": "things"
        },
        {
         "confidence": 0.99696,
         "end": 189202,
         "speaker": "B",
         "start": 189040,
         "text": "if"
        },
        {
         "confidence": 0.99835,
         "end": 189352,
         "speaker": "B",
         "start": 189220,
         "text": "it"
        },
        {
         "confidence": 0.99493,
         "end": 189547,
         "speaker": "B",
         "start": 189370,
         "text": "was"
        },
        {
         "confidence": 0.9975,
         "end": 189772,
         "speaker": "B",
         "start": 189580,
         "text": "just"
        },
        {
         "confidence": 1,
         "end": 189952,
         "speaker": "B",
         "start": 189805,
         "text": "the"
        },
        {
         "confidence": 1,
         "end": 190192,
         "speaker": "B",
         "start": 189970,
         "text": "right"
        },
        {
         "confidence": 0.99802,
         "end": 190582,
         "speaker": "B",
         "start": 190240,
         "text": "thing."
        },
        {
         "confidence": 0.84,
         "end": 190942,
         "speaker": "B",
         "start": 190660,
         "text": "And,"
        },
        {
         "confidence": 0.97,
         "end": 191107,
         "speaker": "B",
         "start": 190990,
         "text": "of"
        },
        {
         "confidence": 0.81516,
         "end": 191317,
         "speaker": "B",
         "start": 191110,
         "text": "course,"
        },
        {
         "confidence": 0.93,
         "end": 191572,
         "speaker": "B",
         "start": 191365,
         "text": "I"
        },
        {
         "confidence": 0.98763,
         "end": 191752,
         "speaker": "B",
         "start": 191605,
         "text": "just"
        },
        {
         "confidence": 0.59433,
         "end": 192027,
         "speaker": "B",
         "start": 191770,
         "text": "signed"
        },
        {
         "confidence": 0.91,
         "end": 192202,
         "speaker": "B",
         "start": 192057,
         "text": "a"
        },
        {
         "confidence": 0.99972,
         "end": 192597,
         "speaker": "B",
         "start": 192220,
         "text": "contract"
        },
        {
         "confidence": 0.67506,
         "end": 192847,
         "speaker": "B",
         "start": 192642,
         "text": "with"
        },
        {
         "confidence": 0.87468,
         "end": 193347,
         "speaker": "B",
         "start": 192880,
         "text": "Bantam"
        },
        {
         "confidence": 0.91982,
         "end": 194172,
         "speaker": "B",
         "start": 193392,
         "text": "Publications."
        },
        {
         "confidence": 0.81553,
         "end": 194652,
         "speaker": "B",
         "start": 194292,
         "text": "They're"
        },
        {
         "confidence": 0.99002,
         "end": 195027,
         "speaker": "B",
         "start": 194682,
         "text": "publishing"
        },
        {
         "confidence": 0.99651,
         "end": 195202,
         "speaker": "B",
         "start": 195057,
         "text": "some"
        },
        {
         "confidence": 1,
         "end": 195352,
         "speaker": "B",
         "start": 195220,
         "text": "of"
        },
        {
         "confidence": 0.99318,
         "end": 195592,
         "speaker": "B",
         "start": 195370,
         "text": "my"
        },
        {
         "confidence": 0.99743,
         "end": 196032,
         "speaker": "B",
         "start": 195640,
         "text": "stories"
        },
        {
         "confidence": 0.6469,
         "end": 196327,
         "speaker": "B",
         "start": 196122,
         "text": "in"
        },
        {
         "confidence": 0.96546,
         "end": 196522,
         "speaker": "B",
         "start": 196345,
         "text": "my"
        },
        {
         "confidence": 0.96813,
         "end": 197112,
         "speaker": "B",
         "start": 196555,
         "text": "poetry."
        },
        {
         "confidence": 0.87,
         "end": 197377,
         "speaker": "B",
         "start": 197187,
         "text": "And"
        },
        {
         "confidence": 0.93979,
         "end": 197572,
         "speaker": "B",
         "start": 197395,
         "text": "in"
        },
        {
         "confidence": 1,
         "end": 197752,
         "speaker": "B",
         "start": 197605,
         "text": "all"
        },
        {
         "confidence": 1,
         "end": 197902,
         "speaker": "B",
         "start": 197770,
         "text": "of"
        },
        {
         "confidence": 0.99942,
         "end": 198097,
         "speaker": "B",
         "start": 197920,
         "text": "my"
        },
        {
         "confidence": 0.99563,
         "end": 198447,
         "speaker": "B",
         "start": 198130,
         "text": "stories,"
        },
        {
         "confidence": 0.99,
         "end": 198652,
         "speaker": "B",
         "start": 198492,
         "text": "I"
        },
        {
         "confidence": 0.94523,
         "end": 198847,
         "speaker": "B",
         "start": 198670,
         "text": "write"
        },
        {
         "confidence": 0.98,
         "end": 199027,
         "speaker": "B",
         "start": 198880,
         "text": "a"
        },
        {
         "confidence": 0.99938,
         "end": 199542,
         "speaker": "B",
         "start": 199045,
         "text": "character"
        },
        {
         "confidence": 0.98,
         "end": 199822,
         "speaker": "B",
         "start": 199602,
         "text": "that,"
        },
        {
         "confidence": 0.97872,
         "end": 200002,
         "speaker": "B",
         "start": 199855,
         "text": "in"
        },
        {
         "confidence": 1,
         "end": 200197,
         "speaker": "B",
         "start": 200020,
         "text": "case"
        },
        {
         "confidence": 0.51809,
         "end": 200422,
         "speaker": "B",
         "start": 200230,
         "text": "it"
        },
        {
         "confidence": 0.999,
         "end": 200602,
         "speaker": "B",
         "start": 200455,
         "text": "should"
        },
        {
         "confidence": 0.99701,
         "end": 200752,
         "speaker": "B",
         "start": 200620,
         "text": "be"
        },
        {
         "confidence": 0.96,
         "end": 200857,
         "speaker": "B",
         "start": 200770,
         "text": "a"
        },
        {
         "confidence": 0.99951,
         "end": 201372,
         "speaker": "B",
         "start": 200860,
         "text": "successful"
        },
        {
         "confidence": 0.99985,
         "end": 201667,
         "speaker": "B",
         "start": 201417,
         "text": "book"
        },
        {
         "confidence": 0.99,
         "end": 201877,
         "speaker": "B",
         "start": 201715,
         "text": "and"
        },
        {
         "confidence": 0.97185,
         "end": 202027,
         "speaker": "B",
         "start": 201895,
         "text": "be"
        },
        {
         "confidence": 0.8945,
         "end": 202302,
         "speaker": "B",
         "start": 202045,
         "text": "turned"
        },
        {
         "confidence": 0.99429,
         "end": 202522,
         "speaker": "B",
         "start": 202332,
         "text": "into"
        },
        {
         "confidence": 0.97,
         "end": 202657,
         "speaker": "B",
         "start": 202555,
         "text": "a"
        },
        {
         "confidence": 0.99893,
         "end": 202902,
         "speaker": "B",
         "start": 202660,
         "text": "movie,"
        },
        {
         "confidence": 0.63609,
         "end": 203077,
         "speaker": "B",
         "start": 202932,
         "text": "then"
        },
        {
         "confidence": 1,
         "end": 203227,
         "speaker": "B",
         "start": 203095,
         "text": "I"
        },
        {
         "confidence": 0.90391,
         "end": 203377,
         "speaker": "B",
         "start": 203245,
         "text": "could"
        },
        {
         "confidence": 0.99975,
         "end": 203752,
         "speaker": "B",
         "start": 203395,
         "text": "play"
        },
        {
         "confidence": 0.98,
         "end": 204052,
         "speaker": "B",
         "start": 203845,
         "text": "a"
        },
        {
         "confidence": 0.99979,
         "end": 204247,
         "speaker": "B",
         "start": 204070,
         "text": "part"
        },
        {
         "confidence": 0.99,
         "end": 204427,
         "speaker": "B",
         "start": 204280,
         "text": "that"
        },
        {
         "confidence": 0.94335,
         "end": 204582,
         "speaker": "B",
         "start": 204445,
         "text": "I've"
        },
        {
         "confidence": 0.99883,
         "end": 204852,
         "speaker": "B",
         "start": 204597,
         "text": "written"
        },
        {
         "confidence": 0.97527,
         "end": 205522,
         "speaker": "B",
         "start": 204882,
         "text": "there"
        },
        {
         "confidence": 0.96292,
         "end": 206047,
         "speaker": "B",
         "start": 205705,
         "text": "or"
        },
        {
         "confidence": 0.99375,
         "end": 206317,
         "speaker": "B",
         "start": 206080,
         "text": "maybe"
        },
        {
         "confidence": 1,
         "end": 206482,
         "speaker": "B",
         "start": 206365,
         "text": "a"
        },
        {
         "confidence": 0.99895,
         "end": 206802,
         "speaker": "B",
         "start": 206485,
         "text": "comedy"
        },
        {
         "confidence": 1,
         "end": 206932,
         "speaker": "B",
         "start": 206832,
         "text": "I"
        },
        {
         "confidence": 0.94342,
         "end": 207097,
         "speaker": "B",
         "start": 206935,
         "text": "might"
        },
        {
         "confidence": 0.93887,
         "end": 207322,
         "speaker": "B",
         "start": 207130,
         "text": "like"
        },
        {
         "confidence": 1,
         "end": 207502,
         "speaker": "B",
         "start": 207355,
         "text": "to"
        },
        {
         "confidence": 0.99719,
         "end": 207832,
         "speaker": "B",
         "start": 207520,
         "text": "do"
        },
        {
         "confidence": 0.70861,
         "end": 208602,
         "speaker": "B",
         "start": 207910,
         "text": "sometime."
        },
        {
         "confidence": 0.90864,
         "end": 209062,
         "speaker": "B",
         "start": 208707,
         "text": "But"
        },
        {
         "confidence": 0.99827,
         "end": 209302,
         "speaker": "B",
         "start": 209125,
         "text": "as"
        },
        {
         "confidence": 0.67234,
         "end": 209497,
         "speaker": "B",
         "start": 209320,
         "text": "far"
        },
        {
         "confidence": 0.99515,
         "end": 210127,
         "speaker": "B",
         "start": 209530,
         "text": "as"
        },
        {
         "confidence": 0.67,
         "end": 210622,
         "speaker": "B",
         "start": 210295,
         "text": "a"
        },
        {
         "confidence": 0.99249,
         "end": 210972,
         "speaker": "B",
         "start": 210655,
         "text": "desire"
        },
        {
         "confidence": 1,
         "end": 211177,
         "speaker": "B",
         "start": 211017,
         "text": "to"
        },
        {
         "confidence": 0.99826,
         "end": 211417,
         "speaker": "B",
         "start": 211195,
         "text": "be"
        },
        {
         "confidence": 0.99111,
         "end": 211672,
         "speaker": "B",
         "start": 211465,
         "text": "an"
        },
        {
         "confidence": 0.99836,
         "end": 212067,
         "speaker": "B",
         "start": 211705,
         "text": "actress,"
        },
        {
         "confidence": 0.74554,
         "end": 212427,
         "speaker": "B",
         "start": 212127,
         "text": "that's"
        },
        {
         "confidence": 0.99853,
         "end": 212647,
         "speaker": "B",
         "start": 212457,
         "text": "never"
        },
        {
         "confidence": 0.99901,
         "end": 212827,
         "speaker": "B",
         "start": 212680,
         "text": "been"
        },
        {
         "confidence": 0.99884,
         "end": 212977,
         "speaker": "B",
         "start": 212845,
         "text": "my"
        },
        {
         "confidence": 0.93519,
         "end": 213252,
         "speaker": "B",
         "start": 212995,
         "text": "dream."
        },
        {
         "confidence": 0.85862,
         "end": 213477,
         "speaker": "B",
         "start": 213282,
         "text": "It's"
        },
        {
         "confidence": 0.99985,
         "end": 213697,
         "speaker": "B",
         "start": 213507,
         "text": "always"
        },
        {
         "confidence": 0.88588,
         "end": 213922,
         "speaker": "B",
         "start": 213730,
         "text": "been"
        },
        {
         "confidence": 0.99762,
         "end": 214102,
         "speaker": "B",
         "start": 213955,
         "text": "with"
        },
        {
         "confidence": 0.99,
         "end": 214252,
         "speaker": "B",
         "start": 214120,
         "text": "the"
        },
        {
         "confidence": 0.99992,
         "end": 214537,
         "speaker": "B",
         "start": 214270,
         "text": "music,"
        },
        {
         "confidence": 0.99912,
         "end": 215387,
         "speaker": "B",
         "start": 214600,
         "text": "mostly."
        },
        {
         "confidence": 0.53809,
         "end": 216337,
         "speaker": "A",
         "start": 215887,
         "text": "You"
        },
        {
         "confidence": 0.99493,
         "end": 216622,
         "speaker": "A",
         "start": 216400,
         "text": "have"
        },
        {
         "confidence": 0.96925,
         "end": 217027,
         "speaker": "A",
         "start": 216655,
         "text": "sometimes"
        },
        {
         "confidence": 0.99548,
         "end": 217417,
         "speaker": "A",
         "start": 217120,
         "text": "been"
        },
        {
         "confidence": 0.99559,
         "end": 217917,
         "speaker": "A",
         "start": 217465,
         "text": "compared"
        },
        {
         "confidence": 0.99879,
         "end": 218152,
         "speaker": "A",
         "start": 217977,
         "text": "with"
        },
        {
         "confidence": 0.97693,
         "end": 218502,
         "speaker": "A",
         "start": 218170,
         "text": "Marilyn"
        },
        {
         "confidence": 0.96534,
         "end": 218952,
         "speaker": "A",
         "start": 218532,
         "text": "Monroe"
        },
        {
         "confidence": 0.91,
         "end": 219127,
         "speaker": "A",
         "start": 218982,
         "text": "and"
        },
        {
         "confidence": 0.9881,
         "end": 219367,
         "speaker": "A",
         "start": 219145,
         "text": "with"
        },
        {
         "confidence": 0.98,
         "end": 219667,
         "speaker": "A",
         "start": 219415,
         "text": "May"
        },
        {
         "confidence": 0.95932,
         "end": 220412,
         "speaker": "A",
         "start": 219715,
         "text": "West."
        },
        {
         "confidence": 0.9423,
         "end": 221392,
         "speaker": "A",
         "start": 220987,
         "text": "Do"
        },
        {
         "confidence": 0.9972,
         "end": 221692,
         "speaker": "A",
         "start": 221440,
         "text": "either"
        },
        {
         "confidence": 0.9,
         "end": 222172,
         "speaker": "A",
         "start": 221740,
         "text": "of"
        },
        {
         "confidence": 0.99971,
         "end": 222637,
         "speaker": "A",
         "start": 222280,
         "text": "those"
        },
        {
         "confidence": 0.99953,
         "end": 223057,
         "speaker": "A",
         "start": 222700,
         "text": "people"
        },
        {
         "confidence": 0.99864,
         "end": 223372,
         "speaker": "A",
         "start": 223135,
         "text": "have"
        },
        {
         "confidence": 0.99945,
         "end": 223642,
         "speaker": "A",
         "start": 223405,
         "text": "any"
        },
        {
         "confidence": 0.93467,
         "end": 224202,
         "speaker": "A",
         "start": 223690,
         "text": "influence"
        },
        {
         "confidence": 0.99,
         "end": 224422,
         "speaker": "A",
         "start": 224232,
         "text": "at"
        },
        {
         "confidence": 1,
         "end": 224827,
         "speaker": "A",
         "start": 224455,
         "text": "all"
        },
        {
         "confidence": 0.99,
         "end": 225127,
         "speaker": "A",
         "start": 224920,
         "text": "on"
        },
        {
         "confidence": 0.99953,
         "end": 225277,
         "speaker": "A",
         "start": 225145,
         "text": "what"
        },
        {
         "confidence": 0.66743,
         "end": 225472,
         "speaker": "A",
         "start": 225295,
         "text": "you"
        },
        {
         "confidence": 0.9993,
         "end": 225922,
         "speaker": "A",
         "start": 225505,
         "text": "do?"
        },
        {
         "confidence": 0.90951,
         "end": 226387,
         "speaker": "B",
         "start": 226030,
         "text": "No."
        },
        {
         "confidence": 0.83903,
         "end": 226752,
         "speaker": "B",
         "start": 226450,
         "text": "I've"
        },
        {
         "confidence": 0.99974,
         "end": 227107,
         "speaker": "B",
         "start": 226782,
         "text": "always"
        },
        {
         "confidence": 0.69821,
         "end": 227712,
         "speaker": "B",
         "start": 227185,
         "text": "admired"
        },
        {
         "confidence": 0.9974,
         "end": 228427,
         "speaker": "B",
         "start": 227787,
         "text": "anybody"
        },
        {
         "confidence": 1,
         "end": 229282,
         "speaker": "B",
         "start": 228595,
         "text": "that"
        },
        {
         "confidence": 0.99538,
         "end": 229792,
         "speaker": "B",
         "start": 229435,
         "text": "could"
        },
        {
         "confidence": 0.99988,
         "end": 230047,
         "speaker": "B",
         "start": 229840,
         "text": "put"
        },
        {
         "confidence": 1,
         "end": 230227,
         "speaker": "B",
         "start": 230080,
         "text": "up"
        },
        {
         "confidence": 0.99536,
         "end": 230377,
         "speaker": "B",
         "start": 230245,
         "text": "with"
        },
        {
         "confidence": 0.66,
         "end": 230482,
         "speaker": "B",
         "start": 230395,
         "text": "a"
        },
        {
         "confidence": 0.99896,
         "end": 230737,
         "speaker": "B",
         "start": 230485,
         "text": "business"
        },
        {
         "confidence": 0.83855,
         "end": 230977,
         "speaker": "B",
         "start": 230800,
         "text": "in"
        },
        {
         "confidence": 1,
         "end": 231082,
         "speaker": "B",
         "start": 230995,
         "text": "the"
        },
        {
         "confidence": 1,
         "end": 231247,
         "speaker": "B",
         "start": 231085,
         "text": "way"
        },
        {
         "confidence": 0.99649,
         "end": 231427,
         "speaker": "B",
         "start": 231280,
         "text": "they"
        },
        {
         "confidence": 0.99834,
         "end": 231667,
         "speaker": "B",
         "start": 231445,
         "text": "have."
        },
        {
         "confidence": 0.66,
         "end": 232147,
         "speaker": "B",
         "start": 231715,
         "text": "And"
        },
        {
         "confidence": 1,
         "end": 232477,
         "speaker": "B",
         "start": 232255,
         "text": "I"
        },
        {
         "confidence": 0.99975,
         "end": 232627,
         "speaker": "B",
         "start": 232495,
         "text": "think"
        },
        {
         "confidence": 0.48325,
         "end": 232857,
         "speaker": "B",
         "start": 232645,
         "text": "they're"
        },
        {
         "confidence": 0.99962,
         "end": 233047,
         "speaker": "B",
         "start": 232872,
         "text": "both"
        },
        {
         "confidence": 0.99963,
         "end": 233407,
         "speaker": "B",
         "start": 233080,
         "text": "beautiful"
        },
        {
         "confidence": 0.99962,
         "end": 233722,
         "speaker": "B",
         "start": 233485,
         "text": "women,"
        },
        {
         "confidence": 0.98998,
         "end": 233857,
         "speaker": "B",
         "start": 233755,
         "text": "but"
        },
        {
         "confidence": 0.57,
         "end": 233977,
         "speaker": "B",
         "start": 233860,
         "text": "I"
        },
        {
         "confidence": 0.9984,
         "end": 234172,
         "speaker": "B",
         "start": 233995,
         "text": "never"
        },
        {
         "confidence": 0.95652,
         "end": 234352,
         "speaker": "B",
         "start": 234205,
         "text": "tried"
        },
        {
         "confidence": 0.75,
         "end": 234502,
         "speaker": "B",
         "start": 234370,
         "text": "to"
        },
        {
         "confidence": 0.9727,
         "end": 234822,
         "speaker": "B",
         "start": 234520,
         "text": "pattern"
        },
        {
         "confidence": 0.99838,
         "end": 235297,
         "speaker": "B",
         "start": 234867,
         "text": "myself"
        },
        {
         "confidence": 0.9998,
         "end": 235807,
         "speaker": "B",
         "start": 235405,
         "text": "after"
        },
        {
         "confidence": 0.99715,
         "end": 236122,
         "speaker": "B",
         "start": 235885,
         "text": "either"
        },
        {
         "confidence": 1,
         "end": 236302,
         "speaker": "B",
         "start": 236155,
         "text": "one"
        },
        {
         "confidence": 1,
         "end": 236452,
         "speaker": "B",
         "start": 236320,
         "text": "of"
        },
        {
         "confidence": 0.99984,
         "end": 236647,
         "speaker": "B",
         "start": 236470,
         "text": "them."
        },
        {
         "confidence": 0.91,
         "end": 236872,
         "speaker": "B",
         "start": 236680,
         "text": "I"
        },
        {
         "confidence": 0.57445,
         "end": 237097,
         "speaker": "B",
         "start": 236905,
         "text": "happen"
        },
        {
         "confidence": 1,
         "end": 237277,
         "speaker": "B",
         "start": 237130,
         "text": "to"
        },
        {
         "confidence": 0.99456,
         "end": 237427,
         "speaker": "B",
         "start": 237295,
         "text": "be"
        },
        {
         "confidence": 0.6,
         "end": 237622,
         "speaker": "B",
         "start": 237445,
         "text": "a"
        },
        {
         "confidence": 0.94048,
         "end": 237847,
         "speaker": "B",
         "start": 237655,
         "text": "bit"
        },
        {
         "confidence": 0.12379,
         "end": 238257,
         "speaker": "B",
         "start": 237880,
         "text": "booze."
        },
        {
         "confidence": 0.82938,
         "end": 238537,
         "speaker": "B",
         "start": 238272,
         "text": "Me"
        },
        {
         "confidence": 0.98112,
         "end": 238912,
         "speaker": "B",
         "start": 238600,
         "text": "like"
        },
        {
         "confidence": 0.95,
         "end": 239197,
         "speaker": "B",
         "start": 238975,
         "text": "May"
        },
        {
         "confidence": 0.89515,
         "end": 239547,
         "speaker": "B",
         "start": 239230,
         "text": "West"
        },
        {
         "confidence": 0.91,
         "end": 239887,
         "speaker": "B",
         "start": 239592,
         "text": "and"
        },
        {
         "confidence": 0.99,
         "end": 240127,
         "speaker": "B",
         "start": 239950,
         "text": "the"
        },
        {
         "confidence": 0.87379,
         "end": 240552,
         "speaker": "B",
         "start": 240145,
         "text": "blonde"
        },
        {
         "confidence": 0.99201,
         "end": 240777,
         "speaker": "B",
         "start": 240582,
         "text": "hair,"
        },
        {
         "confidence": 0.87,
         "end": 240952,
         "speaker": "B",
         "start": 240807,
         "text": "I"
        },
        {
         "confidence": 0.99535,
         "end": 241550,
         "speaker": "B",
         "start": 240970,
         "text": "guess"
        },
        {
         "confidence": 0.90905,
         "end": 243097,
         "speaker": "B",
         "start": 242737,
         "text": "just"
        },
        {
         "confidence": 0.98,
         "end": 243277,
         "speaker": "B",
         "start": 243130,
         "text": "the"
        },
        {
         "confidence": 0.96442,
         "end": 243792,
         "speaker": "B",
         "start": 243295,
         "text": "appearance"
        },
        {
         "confidence": 1,
         "end": 244072,
         "speaker": "B",
         "start": 243852,
         "text": "all"
        },
        {
         "confidence": 0.9728,
         "end": 244342,
         "speaker": "B",
         "start": 244105,
         "text": "around"
        },
        {
         "confidence": 0.55,
         "end": 244597,
         "speaker": "B",
         "start": 244390,
         "text": "of"
        },
        {
         "confidence": 0.90223,
         "end": 244777,
         "speaker": "B",
         "start": 244630,
         "text": "kind"
        },
        {
         "confidence": 0.98,
         "end": 245375,
         "speaker": "B",
         "start": 244795,
         "text": "of"
        },
        {
         "confidence": 0.91572,
         "end": 246202,
         "speaker": "B",
         "start": 245887,
         "text": "well,"
        },
        {
         "confidence": 1,
         "end": 246307,
         "speaker": "B",
         "start": 246220,
         "text": "I"
        },
        {
         "confidence": 0.99202,
         "end": 246432,
         "speaker": "B",
         "start": 246310,
         "text": "don't"
        },
        {
         "confidence": 0.99338,
         "end": 246577,
         "speaker": "B",
         "start": 246447,
         "text": "know"
        },
        {
         "confidence": 0.99966,
         "end": 246907,
         "speaker": "B",
         "start": 246595,
         "text": "exactly"
        },
        {
         "confidence": 0.99527,
         "end": 247267,
         "speaker": "B",
         "start": 246985,
         "text": "why,"
        },
        {
         "confidence": 0.93904,
         "end": 247522,
         "speaker": "B",
         "start": 247315,
         "text": "but"
        },
        {
         "confidence": 0.89,
         "end": 247657,
         "speaker": "B",
         "start": 247555,
         "text": "I"
        },
        {
         "confidence": 0.9852,
         "end": 247867,
         "speaker": "B",
         "start": 247660,
         "text": "guess"
        },
        {
         "confidence": 0.79584,
         "end": 248077,
         "speaker": "B",
         "start": 247915,
         "text": "you"
        },
        {
         "confidence": 0.99364,
         "end": 248227,
         "speaker": "B",
         "start": 248095,
         "text": "know"
        },
        {
         "confidence": 0.93462,
         "end": 248422,
         "speaker": "B",
         "start": 248245,
         "text": "why."
        },
        {
         "confidence": 0.80046,
         "end": 249052,
         "speaker": "B",
         "start": 248455,
         "text": "But"
        },
        {
         "confidence": 0.55748,
         "end": 249552,
         "speaker": "B",
         "start": 249220,
         "text": "I've"
        },
        {
         "confidence": 0.99,
         "end": 249727,
         "speaker": "B",
         "start": 249582,
         "text": "not"
        },
        {
         "confidence": 0.99076,
         "end": 249922,
         "speaker": "B",
         "start": 249745,
         "text": "been"
        },
        {
         "confidence": 0.85737,
         "end": 250377,
         "speaker": "B",
         "start": 249955,
         "text": "influenced"
        },
        {
         "confidence": 0.98958,
         "end": 250507,
         "speaker": "B",
         "start": 250407,
         "text": "by"
        },
        {
         "confidence": 0.69624,
         "end": 250627,
         "speaker": "B",
         "start": 250510,
         "text": "them."
        },
        {
         "confidence": 0.97678,
         "end": 250777,
         "speaker": "B",
         "start": 250645,
         "text": "In"
        },
        {
         "confidence": 0.99988,
         "end": 251107,
         "speaker": "B",
         "start": 250795,
         "text": "fact,"
        },
        {
         "confidence": 0.93707,
         "end": 251502,
         "speaker": "B",
         "start": 251185,
         "text": "I've"
        },
        {
         "confidence": 0.99978,
         "end": 251767,
         "speaker": "B",
         "start": 251532,
         "text": "always"
        },
        {
         "confidence": 0.99966,
         "end": 252022,
         "speaker": "B",
         "start": 251815,
         "text": "had"
        },
        {
         "confidence": 0.99965,
         "end": 252292,
         "speaker": "B",
         "start": 252055,
         "text": "great"
        },
        {
         "confidence": 0.55351,
         "end": 252822,
         "speaker": "B",
         "start": 252340,
         "text": "sympathy"
        },
        {
         "confidence": 0.99961,
         "end": 253342,
         "speaker": "B",
         "start": 252867,
         "text": "for"
        },
        {
         "confidence": 0.50293,
         "end": 253902,
         "speaker": "B",
         "start": 253465,
         "text": "Merlin"
        },
        {
         "confidence": 0.67689,
         "end": 254352,
         "speaker": "B",
         "start": 253932,
         "text": "Monroe"
        },
        {
         "confidence": 0.7,
         "end": 254527,
         "speaker": "B",
         "start": 254382,
         "text": "of"
        },
        {
         "confidence": 0.98575,
         "end": 254677,
         "speaker": "B",
         "start": 254545,
         "text": "what"
        },
        {
         "confidence": 0.96,
         "end": 254827,
         "speaker": "B",
         "start": 254695,
         "text": "a"
        },
        {
         "confidence": 0.99665,
         "end": 255222,
         "speaker": "B",
         "start": 254845,
         "text": "tragic,"
        },
        {
         "confidence": 0.99667,
         "end": 255597,
         "speaker": "B",
         "start": 255267,
         "text": "sad"
        },
        {
         "confidence": 0.99751,
         "end": 255892,
         "speaker": "B",
         "start": 255642,
         "text": "life"
        },
        {
         "confidence": 0.99635,
         "end": 256147,
         "speaker": "B",
         "start": 255940,
         "text": "she"
        },
        {
         "confidence": 0.99873,
         "end": 256462,
         "speaker": "B",
         "start": 256180,
         "text": "always"
        },
        {
         "confidence": 0.99724,
         "end": 256882,
         "speaker": "B",
         "start": 256525,
         "text": "had."
        },
        {
         "confidence": 0.78,
         "end": 257242,
         "speaker": "B",
         "start": 256960,
         "text": "And"
        },
        {
         "confidence": 0.96263,
         "end": 257452,
         "speaker": "B",
         "start": 257290,
         "text": "as"
        },
        {
         "confidence": 0.98547,
         "end": 257602,
         "speaker": "B",
         "start": 257470,
         "text": "far"
        },
        {
         "confidence": 0.99383,
         "end": 257752,
         "speaker": "B",
         "start": 257620,
         "text": "as"
        },
        {
         "confidence": 0.92,
         "end": 257947,
         "speaker": "B",
         "start": 257770,
         "text": "May"
        },
        {
         "confidence": 0.42878,
         "end": 258222,
         "speaker": "B",
         "start": 257980,
         "text": "Wes"
        },
        {
         "confidence": 0.99811,
         "end": 258517,
         "speaker": "B",
         "start": 258267,
         "text": "always"
        },
        {
         "confidence": 0.99696,
         "end": 258972,
         "speaker": "B",
         "start": 258565,
         "text": "admired"
        },
        {
         "confidence": 1,
         "end": 259177,
         "speaker": "B",
         "start": 259017,
         "text": "and"
        },
        {
         "confidence": 0.51039,
         "end": 259722,
         "speaker": "B",
         "start": 259195,
         "text": "respected"
        },
        {
         "confidence": 1,
         "end": 260017,
         "speaker": "B",
         "start": 259767,
         "text": "her"
        },
        {
         "confidence": 0.99973,
         "end": 260317,
         "speaker": "B",
         "start": 260065,
         "text": "because"
        },
        {
         "confidence": 0.83,
         "end": 260572,
         "speaker": "B",
         "start": 260365,
         "text": "of"
        },
        {
         "confidence": 1,
         "end": 260752,
         "speaker": "B",
         "start": 260605,
         "text": "her"
        },
        {
         "confidence": 0.71205,
         "end": 261082,
         "speaker": "B",
         "start": 260770,
         "text": "business"
        },
        {
         "confidence": 0.99623,
         "end": 261567,
         "speaker": "B",
         "start": 261160,
         "text": "knowledge"
        },
        {
         "confidence": 0.83835,
         "end": 261847,
         "speaker": "B",
         "start": 261627,
         "text": "as"
        },
        {
         "confidence": 0.99,
         "end": 262027,
         "speaker": "B",
         "start": 261880,
         "text": "a"
        },
        {
         "confidence": 0.79278,
         "end": 262722,
         "speaker": "B",
         "start": 262045,
         "text": "businesswoman"
        },
        {
         "confidence": 0.75,
         "end": 263017,
         "speaker": "B",
         "start": 262767,
         "text": "and"
        },
        {
         "confidence": 1,
         "end": 263182,
         "speaker": "B",
         "start": 263065,
         "text": "the"
        },
        {
         "confidence": 1,
         "end": 263302,
         "speaker": "B",
         "start": 263185,
         "text": "way"
        },
        {
         "confidence": 0.6222,
         "end": 263497,
         "speaker": "B",
         "start": 263320,
         "text": "she"
        },
        {
         "confidence": 0.99985,
         "end": 263722,
         "speaker": "B",
         "start": 263530,
         "text": "took"
        },
        {
         "confidence": 0.99898,
         "end": 263857,
         "speaker": "B",
         "start": 263755,
         "text": "care"
        },
        {
         "confidence": 1,
         "end": 263977,
         "speaker": "B",
         "start": 263860,
         "text": "of"
        },
        {
         "confidence": 1,
         "end": 264127,
         "speaker": "B",
         "start": 263995,
         "text": "her"
        },
        {
         "confidence": 0.99953,
         "end": 264412,
         "speaker": "B",
         "start": 264145,
         "text": "business."
        },
        {
         "confidence": 0.77812,
         "end": 265100,
         "speaker": "B",
         "start": 264475,
         "text": "But"
        },
        {
         "confidence": 0.99,
         "end": 266272,
         "speaker": "B",
         "start": 265912,
         "text": "I"
        },
        {
         "confidence": 0.97736,
         "end": 266697,
         "speaker": "B",
         "start": 266305,
         "text": "admire"
        },
        {
         "confidence": 0.99951,
         "end": 266992,
         "speaker": "B",
         "start": 266742,
         "text": "people"
        },
        {
         "confidence": 0.99873,
         "end": 267247,
         "speaker": "B",
         "start": 267040,
         "text": "like"
        },
        {
         "confidence": 1,
         "end": 267517,
         "speaker": "B",
         "start": 267280,
         "text": "that."
        },
        {
         "confidence": 0.97621,
         "end": 267772,
         "speaker": "B",
         "start": 267565,
         "text": "But"
        },
        {
         "confidence": 1,
         "end": 267952,
         "speaker": "B",
         "start": 267805,
         "text": "I"
        },
        {
         "confidence": 0.99437,
         "end": 268107,
         "speaker": "B",
         "start": 267970,
         "text": "don't"
        },
        {
         "confidence": 0.99932,
         "end": 268252,
         "speaker": "B",
         "start": 268122,
         "text": "have"
        },
        {
         "confidence": 0.99,
         "end": 268357,
         "speaker": "B",
         "start": 268270,
         "text": "a"
        },
        {
         "confidence": 0.99877,
         "end": 268602,
         "speaker": "B",
         "start": 268360,
         "text": "desire"
        },
        {
         "confidence": 0.97,
         "end": 268777,
         "speaker": "B",
         "start": 268632,
         "text": "to"
        },
        {
         "confidence": 0.99849,
         "end": 268927,
         "speaker": "B",
         "start": 268795,
         "text": "be"
        },
        {
         "confidence": 0.9991,
         "end": 269122,
         "speaker": "B",
         "start": 268945,
         "text": "like"
        },
        {
         "confidence": 0.99796,
         "end": 269347,
         "speaker": "B",
         "start": 269155,
         "text": "them."
        },
        {
         "confidence": 1,
         "end": 269482,
         "speaker": "B",
         "start": 269380,
         "text": "I"
        },
        {
         "confidence": 0.9973,
         "end": 269602,
         "speaker": "B",
         "start": 269485,
         "text": "want"
        },
        {
         "confidence": 1,
         "end": 269707,
         "speaker": "B",
         "start": 269620,
         "text": "to"
        },
        {
         "confidence": 0.99959,
         "end": 269827,
         "speaker": "B",
         "start": 269710,
         "text": "be"
        },
        {
         "confidence": 0.99917,
         "end": 270022,
         "speaker": "B",
         "start": 269845,
         "text": "like"
        },
        {
         "confidence": 0.9982,
         "end": 270650,
         "speaker": "B",
         "start": 270055,
         "text": "me."
        },
        {
         "confidence": 0.25454,
         "end": 283325,
         "speaker": "A",
         "start": 282562,
         "text": "Good."
        },
        {
         "confidence": 0.62,
         "end": 284587,
         "speaker": "B",
         "start": 284137,
         "text": "And"
        },
        {
         "confidence": 0.53343,
         "end": 284877,
         "speaker": "B",
         "start": 284650,
         "text": "you're"
        },
        {
         "confidence": 0.9984,
         "end": 285007,
         "speaker": "B",
         "start": 284907,
         "text": "going"
        },
        {
         "confidence": 1,
         "end": 285127,
         "speaker": "B",
         "start": 285010,
         "text": "to"
        },
        {
         "confidence": 0.99005,
         "end": 285322,
         "speaker": "B",
         "start": 285145,
         "text": "mention"
        },
        {
         "confidence": 0.94,
         "end": 285502,
         "speaker": "B",
         "start": 285355,
         "text": "the"
        },
        {
         "confidence": 0.99491,
         "end": 285922,
         "speaker": "B",
         "start": 285520,
         "text": "show"
        },
        {
         "confidence": 0.97745,
         "end": 286387,
         "speaker": "B",
         "start": 286030,
         "text": "before"
        },
        {
         "confidence": 0.98933,
         "end": 286627,
         "speaker": "B",
         "start": 286450,
         "text": "you"
        },
        {
         "confidence": 0.88638,
         "end": 286822,
         "speaker": "B",
         "start": 286645,
         "text": "do"
        },
        {
         "confidence": 0.6,
         "end": 287450,
         "speaker": "B",
         "start": 286855,
         "text": "that."
        },
        {
         "confidence": 0.53733,
         "end": 288952,
         "speaker": "A",
         "start": 288637,
         "text": "So"
        },
        {
         "confidence": 0.95517,
         "end": 289102,
         "speaker": "A",
         "start": 288970,
         "text": "if"
        },
        {
         "confidence": 0.98655,
         "end": 289252,
         "speaker": "A",
         "start": 289120,
         "text": "you"
        },
        {
         "confidence": 0.51903,
         "end": 289447,
         "speaker": "A",
         "start": 289270,
         "text": "will"
        },
        {
         "confidence": 0.96349,
         "end": 289627,
         "speaker": "A",
         "start": 289480,
         "text": "go"
        },
        {
         "confidence": 0.98,
         "end": 289777,
         "speaker": "A",
         "start": 289645,
         "text": "on"
        },
        {
         "confidence": 0.97,
         "end": 289927,
         "speaker": "A",
         "start": 289795,
         "text": "up"
        },
        {
         "confidence": 0.9927,
         "end": 290122,
         "speaker": "A",
         "start": 289945,
         "text": "there,"
        },
        {
         "confidence": 0.55836,
         "end": 290352,
         "speaker": "A",
         "start": 290155,
         "text": "we'll"
        },
        {
         "confidence": 0.93585,
         "end": 290577,
         "speaker": "A",
         "start": 290382,
         "text": "shoot"
        },
        {
         "confidence": 0.83916,
         "end": 290797,
         "speaker": "A",
         "start": 290607,
         "text": "you"
        },
        {
         "confidence": 0.95,
         "end": 290977,
         "speaker": "A",
         "start": 290830,
         "text": "up"
        },
        {
         "confidence": 0.98,
         "end": 291082,
         "speaker": "A",
         "start": 290995,
         "text": "on"
        },
        {
         "confidence": 0.87,
         "end": 291202,
         "speaker": "A",
         "start": 291085,
         "text": "the"
        },
        {
         "confidence": 0.71557,
         "end": 291442,
         "speaker": "A",
         "start": 291220,
         "text": "page"
        },
        {
         "confidence": 0.92295,
         "end": 291697,
         "speaker": "A",
         "start": 291490,
         "text": "with"
        },
        {
         "confidence": 0.97236,
         "end": 291922,
         "speaker": "A",
         "start": 291730,
         "text": "your"
        },
        {
         "confidence": 0.41309,
         "end": 292192,
         "speaker": "A",
         "start": 291955,
         "text": "email."
        },
        {
         "confidence": 0.61,
         "end": 292582,
         "speaker": "B",
         "start": 292240,
         "text": "Okay."
        },
        {
         "confidence": 0.88996,
         "end": 292857,
         "speaker": "B",
         "start": 292660,
         "text": "We're"
        },
        {
         "confidence": 0.98,
         "end": 293002,
         "speaker": "B",
         "start": 292872,
         "text": "not"
        },
        {
         "confidence": 0.92642,
         "end": 293152,
         "speaker": "B",
         "start": 293020,
         "text": "ready"
        },
        {
         "confidence": 0.91,
         "end": 293302,
         "speaker": "B",
         "start": 293170,
         "text": "to"
        },
        {
         "confidence": 0.99882,
         "end": 293542,
         "speaker": "B",
         "start": 293320,
         "text": "play"
        },
        {
         "confidence": 0.98444,
         "end": 294157,
         "speaker": "B",
         "start": 293590,
         "text": "yet."
        },
        {
         "confidence": 0.76605,
         "end": 294577,
         "speaker": "A",
         "start": 294310,
         "text": "No,"
        },
        {
         "confidence": 0.99139,
         "end": 294807,
         "speaker": "A",
         "start": 294595,
         "text": "that's"
        },
        {
         "confidence": 0.99,
         "end": 294997,
         "speaker": "A",
         "start": 294822,
         "text": "okay."
        },
        {
         "confidence": 0.49517,
         "end": 295132,
         "speaker": "A",
         "start": 295030,
         "text": "If"
        },
        {
         "confidence": 0.83153,
         "end": 295252,
         "speaker": "A",
         "start": 295135,
         "text": "you"
        },
        {
         "confidence": 0.96329,
         "end": 295402,
         "speaker": "A",
         "start": 295270,
         "text": "just"
        },
        {
         "confidence": 0.74697,
         "end": 295597,
         "speaker": "A",
         "start": 295420,
         "text": "go"
        },
        {
         "confidence": 0.98,
         "end": 295777,
         "speaker": "A",
         "start": 295630,
         "text": "on"
        },
        {
         "confidence": 1,
         "end": 295882,
         "speaker": "A",
         "start": 295795,
         "text": "up"
        },
        {
         "confidence": 0.97687,
         "end": 296047,
         "speaker": "A",
         "start": 295885,
         "text": "there,"
        },
        {
         "confidence": 0.66295,
         "end": 296227,
         "speaker": "A",
         "start": 296080,
         "text": "we"
        },
        {
         "confidence": 0.47877,
         "end": 296377,
         "speaker": "A",
         "start": 296245,
         "text": "can"
        },
        {
         "confidence": 0.58054,
         "end": 296572,
         "speaker": "A",
         "start": 296395,
         "text": "get"
        },
        {
         "confidence": 0.97882,
         "end": 296887,
         "speaker": "A",
         "start": 296605,
         "text": "some"
        },
        {
         "confidence": 0.89103,
         "end": 297252,
         "speaker": "A",
         "start": 296950,
         "text": "shots"
        },
        {
         "confidence": 0.45,
         "end": 297427,
         "speaker": "A",
         "start": 297282,
         "text": "of"
        },
        {
         "confidence": 0.96507,
         "end": 297892,
         "speaker": "A",
         "start": 297445,
         "text": "you."
        },
        {
         "confidence": 0.98822,
         "end": 298700,
         "speaker": "A",
         "start": 298015,
         "text": "Thanks."
        },
        {
         "confidence": 0.36861,
         "end": 339022,
         "speaker": "A",
         "start": 338662,
         "text": "You"
        },
        {
         "confidence": 0.64424,
         "end": 340037,
         "speaker": "A",
         "start": 339055,
         "text": "upstairs."
        },
        {
         "confidence": 0.71,
         "end": 482000,
         "speaker": "B",
         "start": 481237,
         "text": "Okay."
        },
        {
         "confidence": 0.99,
         "end": 483427,
         "speaker": "A",
         "start": 483112,
         "text": "The"
        },
        {
         "confidence": 0.99193,
         "end": 483777,
         "speaker": "A",
         "start": 483445,
         "text": "dolly"
        },
        {
         "confidence": 0.99784,
         "end": 483907,
         "speaker": "A",
         "start": 483807,
         "text": "with"
        },
        {
         "confidence": 0.65,
         "end": 484027,
         "speaker": "A",
         "start": 483910,
         "text": "the"
        },
        {
         "confidence": 0.99809,
         "end": 484422,
         "speaker": "A",
         "start": 484045,
         "text": "cotton"
        },
        {
         "confidence": 0.94016,
         "end": 484872,
         "speaker": "A",
         "start": 484467,
         "text": "candy"
        },
        {
         "confidence": 0.78045,
         "end": 485322,
         "speaker": "A",
         "start": 484917,
         "text": "hairs"
        },
        {
         "confidence": 0.99536,
         "end": 485572,
         "speaker": "A",
         "start": 485367,
         "text": "so"
        },
        {
         "confidence": 0.99953,
         "end": 485842,
         "speaker": "A",
         "start": 485605,
         "text": "far"
        },
        {
         "confidence": 0.99068,
         "end": 486052,
         "speaker": "A",
         "start": 485890,
         "text": "is"
        },
        {
         "confidence": 1,
         "end": 486202,
         "speaker": "A",
         "start": 486070,
         "text": "not"
        },
        {
         "confidence": 0.62616,
         "end": 486702,
         "speaker": "A",
         "start": 486220,
         "text": "deserting"
        },
        {
         "confidence": 1,
         "end": 486922,
         "speaker": "A",
         "start": 486732,
         "text": "her"
        },
        {
         "confidence": 0.99944,
         "end": 487192,
         "speaker": "A",
         "start": 486955,
         "text": "country"
        },
        {
         "confidence": 0.92749,
         "end": 487707,
         "speaker": "A",
         "start": 487240,
         "text": "fans,"
        },
        {
         "confidence": 0.99869,
         "end": 488002,
         "speaker": "A",
         "start": 487797,
         "text": "but"
        },
        {
         "confidence": 0.99866,
         "end": 488197,
         "speaker": "A",
         "start": 488020,
         "text": "she"
        },
        {
         "confidence": 0.98298,
         "end": 488422,
         "speaker": "A",
         "start": 488230,
         "text": "is"
        },
        {
         "confidence": 0.99918,
         "end": 488692,
         "speaker": "A",
         "start": 488455,
         "text": "looking"
        },
        {
         "confidence": 0.99873,
         "end": 488992,
         "speaker": "A",
         "start": 488740,
         "text": "for"
        },
        {
         "confidence": 0.99812,
         "end": 489247,
         "speaker": "A",
         "start": 489040,
         "text": "even"
        },
        {
         "confidence": 0.99953,
         "end": 489627,
         "speaker": "A",
         "start": 489280,
         "text": "bigger"
        },
        {
         "confidence": 0.98472,
         "end": 490272,
         "speaker": "A",
         "start": 489657,
         "text": "audiences."
        },
        {
         "confidence": 0.98,
         "end": 490477,
         "speaker": "A",
         "start": 490317,
         "text": "And"
        },
        {
         "confidence": 1,
         "end": 490627,
         "speaker": "A",
         "start": 490495,
         "text": "to"
        },
        {
         "confidence": 0.99533,
         "end": 490822,
         "speaker": "A",
         "start": 490645,
         "text": "do"
        },
        {
         "confidence": 1,
         "end": 491092,
         "speaker": "A",
         "start": 490855,
         "text": "that,"
        },
        {
         "confidence": 0.9961,
         "end": 491347,
         "speaker": "A",
         "start": 491140,
         "text": "she"
        },
        {
         "confidence": 0.99845,
         "end": 491572,
         "speaker": "A",
         "start": 491380,
         "text": "must"
        },
        {
         "confidence": 0.98332,
         "end": 491877,
         "speaker": "A",
         "start": 491605,
         "text": "appeal"
        },
        {
         "confidence": 1,
         "end": 492052,
         "speaker": "A",
         "start": 491907,
         "text": "to"
        },
        {
         "confidence": 1,
         "end": 492202,
         "speaker": "A",
         "start": 492070,
         "text": "the"
        },
        {
         "confidence": 0.99223,
         "end": 492442,
         "speaker": "A",
         "start": 492220,
         "text": "pop"
        },
        {
         "confidence": 0.77,
         "end": 492652,
         "speaker": "A",
         "start": 492490,
         "text": "and"
        },
        {
         "confidence": 0.97316,
         "end": 492897,
         "speaker": "A",
         "start": 492670,
         "text": "rock"
        },
        {
         "confidence": 0.98599,
         "end": 493662,
         "speaker": "A",
         "start": 492942,
         "text": "crowd."
        },
        {
         "confidence": 0.99927,
         "end": 494212,
         "speaker": "A",
         "start": 493812,
         "text": "Something"
        },
        {
         "confidence": 0.9991,
         "end": 494632,
         "speaker": "A",
         "start": 494275,
         "text": "like"
        },
        {
         "confidence": 0.99874,
         "end": 494947,
         "speaker": "A",
         "start": 494710,
         "text": "Here"
        },
        {
         "confidence": 0.81896,
         "end": 495217,
         "speaker": "A",
         "start": 494980,
         "text": "You"
        },
        {
         "confidence": 0.9998,
         "end": 495472,
         "speaker": "A",
         "start": 495265,
         "text": "Come"
        },
        {
         "confidence": 0.9987,
         "end": 495877,
         "speaker": "A",
         "start": 495505,
         "text": "again."
        },
        {
         "confidence": 0.99912,
         "end": 496402,
         "speaker": "A",
         "start": 495970,
         "text": "Currently"
        },
        {
         "confidence": 0.96321,
         "end": 496792,
         "speaker": "A",
         "start": 496495,
         "text": "number"
        },
        {
         "confidence": 1,
         "end": 497002,
         "speaker": "A",
         "start": 496840,
         "text": "one"
        },
        {
         "confidence": 0.78,
         "end": 497152,
         "speaker": "A",
         "start": 497020,
         "text": "on"
        },
        {
         "confidence": 0.99,
         "end": 497302,
         "speaker": "A",
         "start": 497170,
         "text": "the"
        },
        {
         "confidence": 0.94667,
         "end": 497757,
         "speaker": "A",
         "start": 497320,
         "text": "charts."
        },
        {
         "confidence": 0.98519,
         "end": 498252,
         "speaker": "A",
         "start": 497847,
         "text": "Fits"
        },
        {
         "confidence": 1,
         "end": 498472,
         "speaker": "A",
         "start": 498282,
         "text": "that"
        },
        {
         "confidence": 0.6483,
         "end": 499412,
         "speaker": "A",
         "start": 498505,
         "text": "formula."
        },
        {
         "confidence": 0.59151,
         "end": 584257,
         "speaker": "A",
         "start": 583562,
         "text": "Giraffe"
        },
        {
         "confidence": 0.82174,
         "end": 584527,
         "speaker": "A",
         "start": 584272,
         "text": "weigh"
        },
        {
         "confidence": 0.88,
         "end": 585922,
         "speaker": "A",
         "start": 584557,
         "text": "£150"
        },
        {
         "confidence": 0.99,
         "end": 586127,
         "speaker": "A",
         "start": 585967,
         "text": "at"
        },
        {
         "confidence": 0.62923,
         "end": 586672,
         "speaker": "A",
         "start": 586145,
         "text": "birth,"
        },
        {
         "confidence": 0.96,
         "end": 587827,
         "speaker": "A",
         "start": 586792,
         "text": "£400"
        },
        {
         "confidence": 0.97,
         "end": 588002,
         "speaker": "A",
         "start": 587857,
         "text": "at"
        },
        {
         "confidence": 1,
         "end": 588242,
         "speaker": "A",
         "start": 588020,
         "text": "four"
        },
        {
         "confidence": 0.98506,
         "end": 588677,
         "speaker": "A",
         "start": 588290,
         "text": "months,"
        },
        {
         "confidence": 0.83,
         "end": 589022,
         "speaker": "A",
         "start": 588770,
         "text": "and"
        },
        {
         "confidence": 0.92627,
         "end": 589247,
         "speaker": "A",
         "start": 589055,
         "text": "in"
        },
        {
         "confidence": 0.99,
         "end": 589472,
         "speaker": "A",
         "start": 589280,
         "text": "five"
        },
        {
         "confidence": 0.42477,
         "end": 589787,
         "speaker": "A",
         "start": 589505,
         "text": "days"
        },
        {
         "confidence": 0.63,
         "end": 589982,
         "speaker": "A",
         "start": 589850,
         "text": "at"
        },
        {
         "confidence": 0.91212,
         "end": 590572,
         "speaker": "A",
         "start": 589985,
         "text": "maturity,"
        },
        {
         "confidence": 0.83994,
         "end": 590972,
         "speaker": "A",
         "start": 590692,
         "text": "they"
        },
        {
         "confidence": 0.53806,
         "end": 591232,
         "speaker": "A",
         "start": 591005,
         "text": "weigh"
        },
        {
         "confidence": 0.49,
         "end": 591377,
         "speaker": "A",
         "start": 591247,
         "text": "a"
        },
        {
         "confidence": 0.14741,
         "end": 591975,
         "speaker": "A",
         "start": 591395,
         "text": "happy."
        },
        {
         "confidence": 0.2,
         "end": 644872,
         "speaker": "B",
         "start": 644512,
         "text": "All"
        },
        {
         "confidence": 1,
         "end": 645500,
         "speaker": "B",
         "start": 644905,
         "text": "right"
        },
        {
         "confidence": 0.43827,
         "end": 679712,
         "speaker": "B",
         "start": 678950,
         "text": "there,"
        },
        {
         "confidence": 0.52655,
         "end": 681925,
         "speaker": "A",
         "start": 681575,
         "text": "Jimmy."
        }
       ]
      },
      "text/plain": [
       "<IPython.core.display.JSON object>"
      ]
     },
     "execution_count": 4,
     "metadata": {
      "application/json": {
       "expanded": false,
       "root": "root"
      }
     },
     "output_type": "execute_result"
    }
   ],
   "source": [
    "JSON(data)"
   ]
  },
  {
   "cell_type": "code",
   "execution_count": 5,
   "id": "8ef7c7d0-3c59-4140-8510-5ab9038f8a8f",
   "metadata": {},
   "outputs": [],
   "source": [
    "sentiment = data['sentiment_analysis_results']\n",
    "sentiment_df = pd.DataFrame(sentiment)\n",
    "sentiment_df['speaker'] = sentiment_df['speaker'].map(lambda x: ['Dolly' if x == 'B' else 'Interviewer']).explode('speaker')"
   ]
  },
  {
   "cell_type": "code",
   "execution_count": 7,
   "id": "a4cf8896-6fb4-481e-91bd-b0867e8c4802",
   "metadata": {},
   "outputs": [
    {
     "data": {
      "text/html": [
       "<div>\n",
       "<style scoped>\n",
       "    .dataframe tbody tr th:only-of-type {\n",
       "        vertical-align: middle;\n",
       "    }\n",
       "\n",
       "    .dataframe tbody tr th {\n",
       "        vertical-align: top;\n",
       "    }\n",
       "\n",
       "    .dataframe thead th {\n",
       "        text-align: right;\n",
       "    }\n",
       "</style>\n",
       "<table border=\"1\" class=\"dataframe\">\n",
       "  <thead>\n",
       "    <tr style=\"text-align: right;\">\n",
       "      <th></th>\n",
       "      <th>text</th>\n",
       "      <th>start</th>\n",
       "      <th>end</th>\n",
       "      <th>sentiment</th>\n",
       "      <th>confidence</th>\n",
       "      <th>speaker</th>\n",
       "    </tr>\n",
       "  </thead>\n",
       "  <tbody>\n",
       "    <tr>\n",
       "      <th>4</th>\n",
       "      <td>Dolly, do you see a time when your country mus...</td>\n",
       "      <td>39187</td>\n",
       "      <td>44017</td>\n",
       "      <td>NEUTRAL</td>\n",
       "      <td>0.635923</td>\n",
       "      <td>Interviewer</td>\n",
       "    </tr>\n",
       "    <tr>\n",
       "      <th>5</th>\n",
       "      <td>Oh, I don't think so.</td>\n",
       "      <td>44140</td>\n",
       "      <td>45292</td>\n",
       "      <td>NEUTRAL</td>\n",
       "      <td>0.570746</td>\n",
       "      <td>Dolly</td>\n",
       "    </tr>\n",
       "    <tr>\n",
       "      <th>6</th>\n",
       "      <td>I think I'm far too country for my country mus...</td>\n",
       "      <td>45340</td>\n",
       "      <td>49747</td>\n",
       "      <td>NEGATIVE</td>\n",
       "      <td>0.661745</td>\n",
       "      <td>Dolly</td>\n",
       "    </tr>\n",
       "    <tr>\n",
       "      <th>7</th>\n",
       "      <td>But this past year, I've been trying to do som...</td>\n",
       "      <td>49780</td>\n",
       "      <td>55342</td>\n",
       "      <td>NEUTRAL</td>\n",
       "      <td>0.534959</td>\n",
       "      <td>Dolly</td>\n",
       "    </tr>\n",
       "    <tr>\n",
       "      <th>8</th>\n",
       "      <td>But I guess I'll be writing country songs as l...</td>\n",
       "      <td>55465</td>\n",
       "      <td>65497</td>\n",
       "      <td>POSITIVE</td>\n",
       "      <td>0.868489</td>\n",
       "      <td>Dolly</td>\n",
       "    </tr>\n",
       "  </tbody>\n",
       "</table>\n",
       "</div>"
      ],
      "text/plain": [
       "                                                text  start    end sentiment  \\\n",
       "4  Dolly, do you see a time when your country mus...  39187  44017   NEUTRAL   \n",
       "5                              Oh, I don't think so.  44140  45292   NEUTRAL   \n",
       "6  I think I'm far too country for my country mus...  45340  49747  NEGATIVE   \n",
       "7  But this past year, I've been trying to do som...  49780  55342   NEUTRAL   \n",
       "8  But I guess I'll be writing country songs as l...  55465  65497  POSITIVE   \n",
       "\n",
       "   confidence      speaker  \n",
       "4    0.635923  Interviewer  \n",
       "5    0.570746        Dolly  \n",
       "6    0.661745        Dolly  \n",
       "7    0.534959        Dolly  \n",
       "8    0.868489        Dolly  "
      ]
     },
     "execution_count": 7,
     "metadata": {},
     "output_type": "execute_result"
    }
   ],
   "source": [
    "sentiment_df.drop([0,1,2,3],inplace=True)\n",
    "sentiment_df.drop(range(57, 74), inplace=True)\n",
    "sentiment_df.head()"
   ]
  },
  {
   "cell_type": "code",
   "execution_count": 11,
   "id": "9eb8084f-c9d5-4483-a6ca-9ac4a666300c",
   "metadata": {},
   "outputs": [],
   "source": [
    "_df = pd.DataFrame()\n",
    "_df['count'] = sentiment_df.groupby(['speaker', 'sentiment'])['sentiment'].count()\n",
    "plot = _df.hvplot(title=\"Sentiment Analysis by Speaker\", kind=\"bar\")"
   ]
  },
  {
   "cell_type": "code",
   "execution_count": 12,
   "id": "b1fa491d-2410-4eb5-82ea-d89ab259c767",
   "metadata": {},
   "outputs": [
    {
     "data": {},
     "metadata": {},
     "output_type": "display_data"
    },
    {
     "data": {},
     "metadata": {},
     "output_type": "display_data"
    },
    {
     "data": {
      "application/vnd.holoviews_exec.v0+json": "",
      "text/html": [
       "<div id='1418'>\n",
       "  <div class=\"bk-root\" id=\"8d2b796e-b07e-4f89-8e7b-11b2fecc45b8\" data-root-id=\"1418\"></div>\n",
       "</div>\n",
       "<script type=\"application/javascript\">(function(root) {\n",
       "  function embed_document(root) {\n",
       "    var docs_json = {\"0f82aa52-7509-4415-9ad9-95591a191828\":{\"defs\":[{\"extends\":null,\"module\":null,\"name\":\"ReactiveHTML1\",\"overrides\":[],\"properties\":[]},{\"extends\":null,\"module\":null,\"name\":\"FlexBox1\",\"overrides\":[],\"properties\":[{\"default\":\"flex-start\",\"kind\":null,\"name\":\"align_content\"},{\"default\":\"flex-start\",\"kind\":null,\"name\":\"align_items\"},{\"default\":\"row\",\"kind\":null,\"name\":\"flex_direction\"},{\"default\":\"wrap\",\"kind\":null,\"name\":\"flex_wrap\"},{\"default\":\"flex-start\",\"kind\":null,\"name\":\"justify_content\"}]},{\"extends\":null,\"module\":null,\"name\":\"GridStack1\",\"overrides\":[],\"properties\":[{\"default\":\"warn\",\"kind\":null,\"name\":\"mode\"},{\"default\":null,\"kind\":null,\"name\":\"ncols\"},{\"default\":null,\"kind\":null,\"name\":\"nrows\"},{\"default\":true,\"kind\":null,\"name\":\"allow_resize\"},{\"default\":true,\"kind\":null,\"name\":\"allow_drag\"},{\"default\":[],\"kind\":null,\"name\":\"state\"}]},{\"extends\":null,\"module\":null,\"name\":\"click1\",\"overrides\":[],\"properties\":[{\"default\":\"\",\"kind\":null,\"name\":\"terminal_output\"},{\"default\":\"\",\"kind\":null,\"name\":\"debug_name\"},{\"default\":0,\"kind\":null,\"name\":\"clears\"}]},{\"extends\":null,\"module\":null,\"name\":\"NotificationAreaBase1\",\"overrides\":[],\"properties\":[{\"default\":\"bottom-right\",\"kind\":null,\"name\":\"position\"},{\"default\":0,\"kind\":null,\"name\":\"_clear\"}]},{\"extends\":null,\"module\":null,\"name\":\"NotificationArea1\",\"overrides\":[],\"properties\":[{\"default\":[],\"kind\":null,\"name\":\"notifications\"},{\"default\":\"bottom-right\",\"kind\":null,\"name\":\"position\"},{\"default\":0,\"kind\":null,\"name\":\"_clear\"},{\"default\":[{\"background\":\"#ffc107\",\"icon\":{\"className\":\"fas fa-exclamation-triangle\",\"color\":\"white\",\"tagName\":\"i\"},\"type\":\"warning\"},{\"background\":\"#007bff\",\"icon\":{\"className\":\"fas fa-info-circle\",\"color\":\"white\",\"tagName\":\"i\"},\"type\":\"info\"}],\"kind\":null,\"name\":\"types\"}]},{\"extends\":null,\"module\":null,\"name\":\"Notification\",\"overrides\":[],\"properties\":[{\"default\":null,\"kind\":null,\"name\":\"background\"},{\"default\":3000,\"kind\":null,\"name\":\"duration\"},{\"default\":null,\"kind\":null,\"name\":\"icon\"},{\"default\":\"\",\"kind\":null,\"name\":\"message\"},{\"default\":null,\"kind\":null,\"name\":\"notification_type\"},{\"default\":false,\"kind\":null,\"name\":\"_destroyed\"}]},{\"extends\":null,\"module\":null,\"name\":\"TemplateActions1\",\"overrides\":[],\"properties\":[{\"default\":0,\"kind\":null,\"name\":\"open_modal\"},{\"default\":0,\"kind\":null,\"name\":\"close_modal\"}]},{\"extends\":null,\"module\":null,\"name\":\"MaterialTemplateActions1\",\"overrides\":[],\"properties\":[{\"default\":0,\"kind\":null,\"name\":\"open_modal\"},{\"default\":0,\"kind\":null,\"name\":\"close_modal\"}]}],\"roots\":{\"references\":[{\"attributes\":{\"overlay\":{\"id\":\"1443\"}},\"id\":\"1441\",\"type\":\"BoxZoomTool\"},{\"attributes\":{},\"id\":\"1442\",\"type\":\"ResetTool\"},{\"attributes\":{\"editor\":{\"id\":\"1482\"},\"field\":\"index\",\"formatter\":{\"id\":\"1480\"},\"title\":\"index\",\"width\":0},\"id\":\"1483\",\"type\":\"TableColumn\"},{\"attributes\":{\"margin\":[0,0,0,0],\"tabs\":[{\"id\":\"1477\"},{\"id\":\"1505\"},{\"id\":\"1533\"},{\"id\":\"1561\"}]},\"id\":\"1418\",\"type\":\"panel.models.tabs.Tabs\"},{\"attributes\":{},\"id\":\"1571\",\"type\":\"UnionRenderers\"},{\"attributes\":{\"autosize_mode\":\"fit_columns\",\"columns\":[{\"id\":\"1483\"},{\"id\":\"1488\"},{\"id\":\"1493\"},{\"id\":\"1498\"}],\"editable\":true,\"height\":300,\"index_position\":null,\"margin\":[5,10,5,10],\"name\":\"\",\"row_height\":40,\"sizing_mode\":\"fixed\",\"source\":{\"id\":\"1478\"},\"view\":{\"id\":\"1503\"},\"width\":700},\"id\":\"1501\",\"type\":\"DataTable\"},{\"attributes\":{\"child\":{\"id\":\"1422\"},\"name\":\"Sentiment Overview\",\"title\":\"Sentiment Overview\"},\"id\":\"1477\",\"type\":\"Panel\"},{\"attributes\":{\"text_align\":\"left\"},\"id\":\"1480\",\"type\":\"NumberFormatter\"},{\"attributes\":{},\"id\":\"1429\",\"type\":\"LinearScale\"},{\"attributes\":{\"tools\":[{\"id\":\"1421\"},{\"id\":\"1438\"},{\"id\":\"1439\"},{\"id\":\"1440\"},{\"id\":\"1441\"},{\"id\":\"1442\"}]},\"id\":\"1444\",\"type\":\"Toolbar\"},{\"attributes\":{\"client_comm_id\":\"5e2a2807276f4229a0544643bac2e462\",\"comm_id\":\"4b805c257a9d4ad698017a3337f17547\",\"plot_id\":\"1418\"},\"id\":\"1610\",\"type\":\"panel.models.comm_manager.CommManager\"},{\"attributes\":{\"child\":{\"id\":\"1529\"},\"name\":\"\",\"title\":\"Negative\"},\"id\":\"1533\",\"type\":\"Panel\"},{\"attributes\":{},\"id\":\"1474\",\"type\":\"UnionRenderers\"},{\"attributes\":{\"callback\":null,\"renderers\":[{\"id\":\"1458\"}],\"tags\":[\"hv_created\"],\"tooltips\":[[\"speaker\",\"@{speaker}\"],[\"sentiment\",\"@{sentiment}\"],[\"count\",\"@{count}\"]]},\"id\":\"1421\",\"type\":\"HoverTool\"},{\"attributes\":{\"data\":{\"index\":[4,5,7,10,12,13,14,17,20,21,22,24,27,28,29,30,32,35,37,38,39,40,42,43,44,45,46,49,50,51,52],\"sentiment\":[\"NEUTRAL\",\"NEUTRAL\",\"NEUTRAL\",\"NEUTRAL\",\"NEUTRAL\",\"NEUTRAL\",\"NEUTRAL\",\"NEUTRAL\",\"NEUTRAL\",\"NEUTRAL\",\"NEUTRAL\",\"NEUTRAL\",\"NEUTRAL\",\"NEUTRAL\",\"NEUTRAL\",\"NEUTRAL\",\"NEUTRAL\",\"NEUTRAL\",\"NEUTRAL\",\"NEUTRAL\",\"NEUTRAL\",\"NEUTRAL\",\"NEUTRAL\",\"NEUTRAL\",\"NEUTRAL\",\"NEUTRAL\",\"NEUTRAL\",\"NEUTRAL\",\"NEUTRAL\",\"NEUTRAL\",\"NEUTRAL\"],\"speaker\":[\"Interviewer\",\"Dolly\",\"Dolly\",\"Dolly\",\"Interviewer\",\"Interviewer\",\"Dolly\",\"Dolly\",\"Dolly\",\"Dolly\",\"Dolly\",\"Dolly\",\"Dolly\",\"Dolly\",\"Dolly\",\"Dolly\",\"Interviewer\",\"Dolly\",\"Dolly\",\"Dolly\",\"Dolly\",\"Dolly\",\"Dolly\",\"Dolly\",\"Interviewer\",\"Interviewer\",\"Dolly\",\"Dolly\",\"Dolly\",\"Dolly\",\"Dolly\"],\"text\":[\"Dolly, do you see a time when your country music will fade into the past?\",\"Oh, I don't think so.\",\"But this past year, I've been trying to do some things that could be accepted in other fields of music.\",\"So I'm trying to COVID as much ground as I can.\",\"Sally, as your musical image changes, do you see that you'll change your fashion image?\",\"Maybe you won't have the wigs anymore, and maybe you'll come out in a halston gown or something.\",\"I don't think so.\",\"It's part of what people have come to know me as.\",\"It's far too easy to be stylish.\",\"And I like to think I've got a little more nerve.\",\"And I'll try to venture out and do a few things a little bit different.\",\"In fact, I'm sure of it.\",\"But as far as the hair and the way I dress, I choose to do that.\",\"And it's part of a gimmick.\",\"It's part of my image.\",\"So if I really got my feelings hurt and if it really bothered me, I could certainly change, because like I said before, it's very easy to be in style.\",\"Is there anything in the offering, like movies or TV specials or those things that superstars get eventually?\",\"I did have a syndicated television show for a while.\",\"But as far as the movies.\",\"I don't have a desire to be a movie star, but I would do certain things if it was just the right thing.\",\"And, of course, I just signed a contract with Bantam Publications.\",\"They're publishing some of my stories in my poetry.\",\"But as far as a desire to be an actress, that's never been my dream.\",\"It's always been with the music, mostly.\",\"You have sometimes been compared with Marilyn Monroe and with May West.\",\"Do either of those people have any influence at all on what you do?\",\"No.\",\"I happen to be a bit booze.\",\"Me like May West and the blonde hair, I guess just the appearance all around of kind of well, I don't know exactly why, but I guess you know why.\",\"But I've not been influenced by them.\",\"In fact, I've always had great sympathy for Merlin Monroe of what a tragic, sad life she always had.\"]},\"selected\":{\"id\":\"1535\"},\"selection_policy\":{\"id\":\"1573\"}},\"id\":\"1534\",\"type\":\"ColumnDataSource\"},{\"attributes\":{},\"id\":\"1482\",\"type\":\"CellEditor\"},{\"attributes\":{\"indices\":[]},\"id\":\"1535\",\"type\":\"Selection\"},{\"attributes\":{\"data\":{\"count\":[9,1,25,6,11,1],\"sentiment\":[\"NEGATIVE\",\"NEGATIVE\",\"NEUTRAL\",\"NEUTRAL\",\"POSITIVE\",\"POSITIVE\"],\"speaker\":[\"Dolly\",\"Interviewer\",\"Dolly\",\"Interviewer\",\"Dolly\",\"Interviewer\"],\"xoffsets\":[[\"Dolly\",\"NEGATIVE\"],[\"Interviewer\",\"NEGATIVE\"],[\"Dolly\",\"NEUTRAL\"],[\"Interviewer\",\"NEUTRAL\"],[\"Dolly\",\"POSITIVE\"],[\"Interviewer\",\"POSITIVE\"]]},\"selected\":{\"id\":\"1453\"},\"selection_policy\":{\"id\":\"1474\"}},\"id\":\"1452\",\"type\":\"ColumnDataSource\"},{\"attributes\":{\"coordinates\":null,\"group\":null,\"text\":\"Sentiment Analysis by Speaker\",\"text_color\":\"black\",\"text_font_size\":\"12pt\"},\"id\":\"1423\",\"type\":\"Title\"},{\"attributes\":{},\"id\":\"1569\",\"type\":\"UnionRenderers\"},{\"attributes\":{\"text_align\":\"left\"},\"id\":\"1536\",\"type\":\"NumberFormatter\"},{\"attributes\":{\"fill_color\":{\"field\":\"sentiment\",\"transform\":{\"id\":\"1451\"}},\"hatch_color\":{\"field\":\"sentiment\",\"transform\":{\"id\":\"1451\"}},\"top\":{\"field\":\"count\"},\"width\":{\"value\":0.8},\"x\":{\"field\":\"xoffsets\"}},\"id\":\"1455\",\"type\":\"VBar\"},{\"attributes\":{\"below\":[{\"id\":\"1431\"}],\"center\":[{\"id\":\"1433\"},{\"id\":\"1437\"}],\"height\":300,\"left\":[{\"id\":\"1434\"}],\"margin\":[5,5,5,5],\"min_border_bottom\":10,\"min_border_left\":10,\"min_border_right\":10,\"min_border_top\":10,\"renderers\":[{\"id\":\"1458\"}],\"sizing_mode\":\"fixed\",\"title\":{\"id\":\"1423\"},\"toolbar\":{\"id\":\"1444\"},\"width\":700,\"x_range\":{\"id\":\"1419\"},\"x_scale\":{\"id\":\"1427\"},\"y_range\":{\"id\":\"1420\"},\"y_scale\":{\"id\":\"1429\"}},\"id\":\"1422\",\"subtype\":\"Figure\",\"type\":\"Plot\"},{\"attributes\":{\"editor\":{\"id\":\"1525\"},\"field\":\"speaker\",\"formatter\":{\"id\":\"1524\"},\"title\":\"speaker\",\"width\":0},\"id\":\"1526\",\"type\":\"TableColumn\"},{\"attributes\":{\"axis_label\":\"speaker, sentiment\",\"coordinates\":null,\"formatter\":{\"id\":\"1462\"},\"group\":null,\"major_label_policy\":{\"id\":\"1463\"},\"ticker\":{\"id\":\"1432\"}},\"id\":\"1431\",\"type\":\"CategoricalAxis\"},{\"attributes\":{},\"id\":\"1525\",\"type\":\"StringEditor\"},{\"attributes\":{},\"id\":\"1487\",\"type\":\"StringEditor\"},{\"attributes\":{},\"id\":\"1524\",\"type\":\"StringFormatter\"},{\"attributes\":{\"editor\":{\"id\":\"1520\"},\"field\":\"sentiment\",\"formatter\":{\"id\":\"1519\"},\"title\":\"sentiment\",\"width\":0},\"id\":\"1521\",\"type\":\"TableColumn\"},{\"attributes\":{},\"id\":\"1514\",\"type\":\"StringFormatter\"},{\"attributes\":{\"child\":{\"id\":\"1557\"},\"name\":\"\",\"title\":\"Neutral\"},\"id\":\"1561\",\"type\":\"Panel\"},{\"attributes\":{},\"id\":\"1519\",\"type\":\"StringFormatter\"},{\"attributes\":{\"axis\":{\"id\":\"1431\"},\"coordinates\":null,\"grid_line_color\":null,\"group\":null,\"ticker\":null},\"id\":\"1433\",\"type\":\"Grid\"},{\"attributes\":{},\"id\":\"1515\",\"type\":\"StringEditor\"},{\"attributes\":{},\"id\":\"1439\",\"type\":\"PanTool\"},{\"attributes\":{},\"id\":\"1453\",\"type\":\"Selection\"},{\"attributes\":{},\"id\":\"1432\",\"type\":\"CategoricalTicker\"},{\"attributes\":{\"coordinates\":null,\"data_source\":{\"id\":\"1452\"},\"glyph\":{\"id\":\"1455\"},\"group\":null,\"hover_glyph\":null,\"muted_glyph\":{\"id\":\"1457\"},\"nonselection_glyph\":{\"id\":\"1456\"},\"selection_glyph\":{\"id\":\"1460\"},\"view\":{\"id\":\"1459\"}},\"id\":\"1458\",\"type\":\"GlyphRenderer\"},{\"attributes\":{\"editor\":{\"id\":\"1510\"},\"field\":\"index\",\"formatter\":{\"id\":\"1508\"},\"title\":\"index\",\"width\":0},\"id\":\"1511\",\"type\":\"TableColumn\"},{\"attributes\":{\"axis_label\":\"count\",\"coordinates\":null,\"formatter\":{\"id\":\"1465\"},\"group\":null,\"major_label_policy\":{\"id\":\"1466\"},\"ticker\":{\"id\":\"1435\"}},\"id\":\"1434\",\"type\":\"LinearAxis\"},{\"attributes\":{\"editor\":{\"id\":\"1515\"},\"field\":\"text\",\"formatter\":{\"id\":\"1514\"},\"title\":\"text\",\"width\":0},\"id\":\"1516\",\"type\":\"TableColumn\"},{\"attributes\":{\"editor\":{\"id\":\"1497\"},\"field\":\"speaker\",\"formatter\":{\"id\":\"1496\"},\"title\":\"speaker\",\"width\":0},\"id\":\"1498\",\"type\":\"TableColumn\"},{\"attributes\":{\"axis\":{\"id\":\"1434\"},\"coordinates\":null,\"dimension\":1,\"grid_line_color\":null,\"group\":null,\"ticker\":null},\"id\":\"1437\",\"type\":\"Grid\"},{\"attributes\":{\"indices\":[]},\"id\":\"1479\",\"type\":\"Selection\"},{\"attributes\":{\"editor\":{\"id\":\"1553\"},\"field\":\"speaker\",\"formatter\":{\"id\":\"1552\"},\"title\":\"speaker\",\"width\":0},\"id\":\"1554\",\"type\":\"TableColumn\"},{\"attributes\":{},\"id\":\"1492\",\"type\":\"StringEditor\"},{\"attributes\":{},\"id\":\"1553\",\"type\":\"StringEditor\"},{\"attributes\":{\"data\":{\"index\":[8,9,11,16,31,33,41,47,48,53,54,56],\"sentiment\":[\"POSITIVE\",\"POSITIVE\",\"POSITIVE\",\"POSITIVE\",\"POSITIVE\",\"POSITIVE\",\"POSITIVE\",\"POSITIVE\",\"POSITIVE\",\"POSITIVE\",\"POSITIVE\",\"POSITIVE\"],\"speaker\":[\"Dolly\",\"Dolly\",\"Dolly\",\"Dolly\",\"Interviewer\",\"Dolly\",\"Dolly\",\"Dolly\",\"Dolly\",\"Dolly\",\"Dolly\",\"Dolly\"],\"text\":[\"But I guess I'll be writing country songs as long as I live because I have too many country memories, and I was brought up in a big family and lived on a farm and all that, and country music is my first love.\",\"But I tried to look at my work as a joy, as a job, and as a business person as well.\",\"But I hope country music is always around, and I think it will be.\",\"I've often made the statement that I'm very extreme in whatever I do, and I enjoy the big hair and the gaudy clothes, and it's a costume.\",\"Dolly you have so much going for you right now with the Carson show, and you're going to be interviewed on Barbara Walters special.\",\"Well, I've been offered some TV specials already by all three networks, and I do hope to do several dollar specials, and I hope to do one this year.\",\"And in all of my stories, I write a character that, in case it should be a successful book and be turned into a movie, then I could play a part that I've written there or maybe a comedy I might like to do sometime.\",\"I've always admired anybody that could put up with a business in the way they have.\",\"And I think they're both beautiful women, but I never tried to pattern myself after either one of them.\",\"And as far as May Wes always admired and respected her because of her business knowledge as a businesswoman and the way she took care of her business.\",\"But I admire people like that.\",\"I want to be like me.\"]},\"selected\":{\"id\":\"1479\"},\"selection_policy\":{\"id\":\"1569\"}},\"id\":\"1478\",\"type\":\"ColumnDataSource\"},{\"attributes\":{},\"id\":\"1552\",\"type\":\"StringFormatter\"},{\"attributes\":{\"text_align\":\"left\"},\"id\":\"1508\",\"type\":\"NumberFormatter\"},{\"attributes\":{\"editor\":{\"id\":\"1492\"},\"field\":\"sentiment\",\"formatter\":{\"id\":\"1491\"},\"title\":\"sentiment\",\"width\":0},\"id\":\"1493\",\"type\":\"TableColumn\"},{\"attributes\":{},\"id\":\"1510\",\"type\":\"CellEditor\"},{\"attributes\":{},\"id\":\"1520\",\"type\":\"StringEditor\"},{\"attributes\":{\"child\":{\"id\":\"1501\"},\"name\":\"\",\"title\":\"Positive\"},\"id\":\"1505\",\"type\":\"Panel\"},{\"attributes\":{\"end\":27.4,\"reset_end\":27.4,\"reset_start\":0.0,\"tags\":[[[\"count\",\"count\",null]]]},\"id\":\"1420\",\"type\":\"Range1d\"},{\"attributes\":{},\"id\":\"1486\",\"type\":\"StringFormatter\"},{\"attributes\":{\"bottom_units\":\"screen\",\"coordinates\":null,\"fill_alpha\":0.5,\"fill_color\":\"lightgrey\",\"group\":null,\"left_units\":\"screen\",\"level\":\"overlay\",\"line_alpha\":1.0,\"line_color\":\"black\",\"line_dash\":[4,4],\"line_width\":2,\"right_units\":\"screen\",\"syncable\":false,\"top_units\":\"screen\"},\"id\":\"1443\",\"type\":\"BoxAnnotation\"},{\"attributes\":{\"source\":{\"id\":\"1478\"}},\"id\":\"1503\",\"type\":\"CDSView\"},{\"attributes\":{\"autosize_mode\":\"fit_columns\",\"columns\":[{\"id\":\"1511\"},{\"id\":\"1516\"},{\"id\":\"1521\"},{\"id\":\"1526\"}],\"editable\":true,\"height\":300,\"index_position\":null,\"margin\":[5,10,5,10],\"name\":\"\",\"row_height\":40,\"sizing_mode\":\"fixed\",\"source\":{\"id\":\"1506\"},\"view\":{\"id\":\"1531\"},\"width\":700},\"id\":\"1529\",\"type\":\"DataTable\"},{\"attributes\":{\"editor\":{\"id\":\"1548\"},\"field\":\"sentiment\",\"formatter\":{\"id\":\"1547\"},\"title\":\"sentiment\",\"width\":0},\"id\":\"1549\",\"type\":\"TableColumn\"},{\"attributes\":{},\"id\":\"1548\",\"type\":\"StringEditor\"},{\"attributes\":{},\"id\":\"1547\",\"type\":\"StringFormatter\"},{\"attributes\":{\"fill_alpha\":{\"value\":0.1},\"fill_color\":{\"field\":\"sentiment\",\"transform\":{\"id\":\"1451\"}},\"hatch_alpha\":{\"value\":0.1},\"hatch_color\":{\"field\":\"sentiment\",\"transform\":{\"id\":\"1451\"}},\"line_alpha\":{\"value\":0.1},\"top\":{\"field\":\"count\"},\"width\":{\"value\":0.8},\"x\":{\"field\":\"xoffsets\"}},\"id\":\"1456\",\"type\":\"VBar\"},{\"attributes\":{},\"id\":\"1466\",\"type\":\"AllLabels\"},{\"attributes\":{\"editor\":{\"id\":\"1487\"},\"field\":\"text\",\"formatter\":{\"id\":\"1486\"},\"title\":\"text\",\"width\":0},\"id\":\"1488\",\"type\":\"TableColumn\"},{\"attributes\":{\"fill_alpha\":{\"value\":0.2},\"fill_color\":{\"field\":\"sentiment\",\"transform\":{\"id\":\"1451\"}},\"hatch_alpha\":{\"value\":0.2},\"hatch_color\":{\"field\":\"sentiment\",\"transform\":{\"id\":\"1451\"}},\"line_alpha\":{\"value\":0.2},\"top\":{\"field\":\"count\"},\"width\":{\"value\":0.8},\"x\":{\"field\":\"xoffsets\"}},\"id\":\"1457\",\"type\":\"VBar\"},{\"attributes\":{\"editor\":{\"id\":\"1543\"},\"field\":\"text\",\"formatter\":{\"id\":\"1542\"},\"title\":\"text\",\"width\":0},\"id\":\"1544\",\"type\":\"TableColumn\"},{\"attributes\":{},\"id\":\"1491\",\"type\":\"StringFormatter\"},{\"attributes\":{},\"id\":\"1543\",\"type\":\"StringEditor\"},{\"attributes\":{},\"id\":\"1542\",\"type\":\"StringFormatter\"},{\"attributes\":{\"data\":{\"index\":[6,15,18,19,23,25,26,34,36,55],\"sentiment\":[\"NEGATIVE\",\"NEGATIVE\",\"NEGATIVE\",\"NEGATIVE\",\"NEGATIVE\",\"NEGATIVE\",\"NEGATIVE\",\"NEGATIVE\",\"NEGATIVE\",\"NEGATIVE\"],\"speaker\":[\"Dolly\",\"Dolly\",\"Dolly\",\"Dolly\",\"Dolly\",\"Interviewer\",\"Dolly\",\"Dolly\",\"Dolly\",\"Dolly\"],\"text\":[\"I think I'm far too country for my country music to fade into the past.\",\"Mostly because I'm a real outrageous type of person.\",\"And I don't like to be ordinary.\",\"I don't like to be stylish.\",\"But I doubt that I'll ever be in style.\",\"Sally, do you ever get your feelings hurt, the jokes about your figure and your hair and the way you look and so forth?\",\"Well, I used to not understand some of the jokes about my figure when I first came to Nashville.\",\"But as far as doing a regular show, I don't have any desire to do a weekly show.\",\"I only did 26 shows, and it's so time consuming.\",\"But I don't have a desire to be like them.\"]},\"selected\":{\"id\":\"1507\"},\"selection_policy\":{\"id\":\"1571\"}},\"id\":\"1506\",\"type\":\"ColumnDataSource\"},{\"attributes\":{\"indices\":[]},\"id\":\"1507\",\"type\":\"Selection\"},{\"attributes\":{},\"id\":\"1427\",\"type\":\"CategoricalScale\"},{\"attributes\":{\"source\":{\"id\":\"1506\"}},\"id\":\"1531\",\"type\":\"CDSView\"},{\"attributes\":{\"source\":{\"id\":\"1452\"}},\"id\":\"1459\",\"type\":\"CDSView\"},{\"attributes\":{\"factors\":[[\"Dolly\",\"NEGATIVE\"],[\"Dolly\",\"NEUTRAL\"],[\"Dolly\",\"POSITIVE\"],[\"Interviewer\",\"NEGATIVE\"],[\"Interviewer\",\"NEUTRAL\"],[\"Interviewer\",\"POSITIVE\"]],\"tags\":[[[\"speaker\",\"speaker\",null],[\"sentiment\",\"sentiment\",null]]]},\"id\":\"1419\",\"type\":\"FactorRange\"},{\"attributes\":{\"factors\":[\"NEGATIVE\",\"NEUTRAL\",\"POSITIVE\"],\"palette\":[\"#30a2da\",\"#fc4f30\",\"#e5ae38\"]},\"id\":\"1451\",\"type\":\"CategoricalColorMapper\"},{\"attributes\":{},\"id\":\"1462\",\"type\":\"CategoricalTickFormatter\"},{\"attributes\":{},\"id\":\"1538\",\"type\":\"CellEditor\"},{\"attributes\":{\"source\":{\"id\":\"1534\"}},\"id\":\"1559\",\"type\":\"CDSView\"},{\"attributes\":{\"autosize_mode\":\"fit_columns\",\"columns\":[{\"id\":\"1539\"},{\"id\":\"1544\"},{\"id\":\"1549\"},{\"id\":\"1554\"}],\"editable\":true,\"height\":300,\"index_position\":null,\"margin\":[5,10,5,10],\"name\":\"\",\"row_height\":40,\"sizing_mode\":\"fixed\",\"source\":{\"id\":\"1534\"},\"view\":{\"id\":\"1559\"},\"width\":700},\"id\":\"1557\",\"type\":\"DataTable\"},{\"attributes\":{},\"id\":\"1463\",\"type\":\"AllLabels\"},{\"attributes\":{\"editor\":{\"id\":\"1538\"},\"field\":\"index\",\"formatter\":{\"id\":\"1536\"},\"title\":\"index\",\"width\":0},\"id\":\"1539\",\"type\":\"TableColumn\"},{\"attributes\":{\"bottom\":{\"value\":0},\"fill_alpha\":{\"value\":1.0},\"fill_color\":{\"field\":\"sentiment\",\"transform\":{\"id\":\"1451\"}},\"hatch_alpha\":{\"value\":1.0},\"hatch_color\":{\"field\":\"sentiment\",\"transform\":{\"id\":\"1451\"}},\"hatch_scale\":{\"value\":12.0},\"hatch_weight\":{\"value\":1.0},\"line_alpha\":{\"value\":1.0},\"line_cap\":{\"value\":\"butt\"},\"line_color\":{\"value\":\"black\"},\"line_dash\":{\"value\":[]},\"line_dash_offset\":{\"value\":0},\"line_join\":{\"value\":\"bevel\"},\"line_width\":{\"value\":1},\"top\":{\"field\":\"count\"},\"width\":{\"value\":0.8},\"x\":{\"field\":\"xoffsets\"}},\"id\":\"1460\",\"type\":\"VBar\"},{\"attributes\":{},\"id\":\"1465\",\"type\":\"BasicTickFormatter\"},{\"attributes\":{},\"id\":\"1435\",\"type\":\"BasicTicker\"},{\"attributes\":{},\"id\":\"1440\",\"type\":\"WheelZoomTool\"},{\"attributes\":{},\"id\":\"1573\",\"type\":\"UnionRenderers\"},{\"attributes\":{},\"id\":\"1497\",\"type\":\"StringEditor\"},{\"attributes\":{},\"id\":\"1496\",\"type\":\"StringFormatter\"},{\"attributes\":{},\"id\":\"1438\",\"type\":\"SaveTool\"}],\"root_ids\":[\"1418\",\"1610\"]},\"title\":\"Bokeh Application\",\"version\":\"2.4.3\"}};\n",
       "    var render_items = [{\"docid\":\"0f82aa52-7509-4415-9ad9-95591a191828\",\"root_ids\":[\"1418\"],\"roots\":{\"1418\":\"8d2b796e-b07e-4f89-8e7b-11b2fecc45b8\"}}];\n",
       "    root.Bokeh.embed.embed_items_notebook(docs_json, render_items);\n",
       "    for (const render_item of render_items) {\n",
       "      for (const root_id of render_item.root_ids) {\n",
       "\tconst id_el = document.getElementById(root_id)\n",
       "\tif (id_el.children.length && (id_el.children[0].className === 'bk-root')) {\n",
       "\t  const root_el = id_el.children[0]\n",
       "\t  root_el.id = root_el.id + '-rendered'\n",
       "\t}\n",
       "      }\n",
       "    }\n",
       "  }\n",
       "  if (root.Bokeh !== undefined && root.Bokeh.Panel !== undefined) {\n",
       "    embed_document(root);\n",
       "  } else {\n",
       "    var attempts = 0;\n",
       "    var timer = setInterval(function(root) {\n",
       "      if (root.Bokeh !== undefined && root.Bokeh.Panel !== undefined) {\n",
       "        clearInterval(timer);\n",
       "        embed_document(root);\n",
       "      } else if (document.readyState == \"complete\") {\n",
       "        attempts++;\n",
       "        if (attempts > 200) {\n",
       "          clearInterval(timer);\n",
       "          console.log(\"Bokeh: ERROR: Unable to run BokehJS code because BokehJS library is missing\");\n",
       "        }\n",
       "      }\n",
       "    }, 25, root)\n",
       "  }\n",
       "})(window);</script>"
      ],
      "text/plain": [
       "Tabs\n",
       "    [0] HoloViews(Bars, name='Sentiment Overview')\n",
       "    [1] DataFrame(autosize_mode='fit_columns', height=300, sizing_mode='fixed', value=                          ..., width=700)\n",
       "    [2] DataFrame(autosize_mode='fit_columns', height=300, sizing_mode='fixed', value=                          ..., width=700)\n",
       "    [3] DataFrame(autosize_mode='fit_columns', height=300, sizing_mode='fixed', value=                          ..., width=700)"
      ]
     },
     "execution_count": 12,
     "metadata": {
      "application/vnd.holoviews_exec.v0+json": {
       "id": "1418"
      }
     },
     "output_type": "execute_result"
    }
   ],
   "source": [
    "positive_df = sentiment_df.query('sentiment == \"POSITIVE\"')[[\"text\",\"sentiment\",'speaker']]\n",
    "negative_df = sentiment_df.query('sentiment == \"NEGATIVE\"')[['text','sentiment','speaker']]\n",
    "neutral_df = sentiment_df.query('sentiment == \"NEUTRAL\"')[['text','sentiment','speaker']]\n",
    "\n",
    "sentiment_tabs = pn.Tabs(('Sentiment Overview', plot),\n",
    "                         ('Positive', pn.widgets.DataFrame(positive_df, autosize_mode='fit_columns', width=700, height=300)),\n",
    "                         ('Negative', pn.widgets.DataFrame(negative_df, autosize_mode='fit_columns', width=700, height=300)),\n",
    "                         ('Neutral', pn.widgets.DataFrame(neutral_df, autosize_mode='fit_columns', width=700, height=300))\n",
    "                        )\n",
    "sentiment_tabs"
   ]
  },
  {
   "cell_type": "code",
   "execution_count": 14,
   "id": "34cc77a9-10b9-4ef9-a97e-3005039238d1",
   "metadata": {},
   "outputs": [],
   "source": [
    "speaker_text = sentiment_df.groupby('speaker')['text'].apply(' '.join).map(lambda x: x.lower())"
   ]
  },
  {
   "cell_type": "code",
   "execution_count": 16,
   "id": "8ccec5a6-ec2f-49f8-b8e1-35e44342e0b8",
   "metadata": {},
   "outputs": [
    {
     "name": "stderr",
     "output_type": "stream",
     "text": [
      "C:\\Users\\Charles\\AppData\\Local\\Temp\\ipykernel_17780\\794974448.py:9: UserWarning: This figure includes Axes that are not compatible with tight_layout, so results might be incorrect.\n",
      "  fig.tight_layout()\n"
     ]
    },
    {
     "data": {
      "image/png": "[encoded data removed]",
      "text/plain": [
       "<Figure size 600x300 with 1 Axes>"
      ]
     },
     "metadata": {},
     "output_type": "display_data"
    }
   ],
   "source": [
    "stopwords = set(STOPWORDS)\n",
    "wordcloud_dolly = WordCloud(background_color = \"black\", stopwords = stopwords, max_words=20, \n",
    "                      colormap = 'viridis', collocations=False).generate(speaker_text['Dolly'])\n",
    "fig = plt.figure(figsize=(6,3), dpi=100)\n",
    "ax = plt.axes([0,0,1,1])\n",
    "plt.imshow(wordcloud_dolly)\n",
    "plt.axis('off')\n",
    "fig.tight_layout()\n",
    "plt.show()"
   ]
  }
 ],
 "metadata": {
  "kernelspec": {
   "display_name": "Python 3 (ipykernel)",
   "language": "python",
   "name": "python3"
  },
  "language_info": {
   "codemirror_mode": {
    "name": "ipython",
    "version": 3
   },
   "file_extension": ".py",
   "mimetype": "text/x-python",
   "name": "python",
   "nbconvert_exporter": "python",
   "pygments_lexer": "ipython3",
   "version": "3.10.0"
  }
 },
 "nbformat": 4,
 "nbformat_minor": 5
}
